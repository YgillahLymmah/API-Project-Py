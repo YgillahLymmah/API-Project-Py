{
  "nbformat": 4,
  "nbformat_minor": 0,
  "metadata": {
    "colab": {
      "provenance": [],
      "authorship_tag": "ABX9TyMbUBgepURUiqqjAMTnsL4s",
      "include_colab_link": true
    },
    "kernelspec": {
      "name": "python3",
      "display_name": "Python 3"
    },
    "language_info": {
      "name": "python"
    },
    "widgets": {
      "application/vnd.jupyter.widget-state+json": {
        "7c11f889998a4667ab65576cadac7005": {
          "model_module": "@jupyter-widgets/controls",
          "model_name": "IntSliderModel",
          "model_module_version": "1.5.0",
          "state": {
            "_dom_classes": [],
            "_model_module": "@jupyter-widgets/controls",
            "_model_module_version": "1.5.0",
            "_model_name": "IntSliderModel",
            "_view_count": null,
            "_view_module": "@jupyter-widgets/controls",
            "_view_module_version": "1.5.0",
            "_view_name": "IntSliderView",
            "continuous_update": true,
            "description": "Resumo %:",
            "description_tooltip": null,
            "disabled": false,
            "layout": "IPY_MODEL_6287629278474c59bba19fedb6ea6ffd",
            "max": 100,
            "min": 10,
            "orientation": "horizontal",
            "readout": true,
            "readout_format": "d",
            "step": 10,
            "style": "IPY_MODEL_238233641d2b4394af02f541e54655e2",
            "value": 50
          }
        },
        "6287629278474c59bba19fedb6ea6ffd": {
          "model_module": "@jupyter-widgets/base",
          "model_name": "LayoutModel",
          "model_module_version": "1.2.0",
          "state": {
            "_model_module": "@jupyter-widgets/base",
            "_model_module_version": "1.2.0",
            "_model_name": "LayoutModel",
            "_view_count": null,
            "_view_module": "@jupyter-widgets/base",
            "_view_module_version": "1.2.0",
            "_view_name": "LayoutView",
            "align_content": null,
            "align_items": null,
            "align_self": null,
            "border": null,
            "bottom": null,
            "display": null,
            "flex": null,
            "flex_flow": null,
            "grid_area": null,
            "grid_auto_columns": null,
            "grid_auto_flow": null,
            "grid_auto_rows": null,
            "grid_column": null,
            "grid_gap": null,
            "grid_row": null,
            "grid_template_areas": null,
            "grid_template_columns": null,
            "grid_template_rows": null,
            "height": null,
            "justify_content": null,
            "justify_items": null,
            "left": null,
            "margin": null,
            "max_height": null,
            "max_width": null,
            "min_height": null,
            "min_width": null,
            "object_fit": null,
            "object_position": null,
            "order": null,
            "overflow": null,
            "overflow_x": null,
            "overflow_y": null,
            "padding": null,
            "right": null,
            "top": null,
            "visibility": null,
            "width": null
          }
        },
        "238233641d2b4394af02f541e54655e2": {
          "model_module": "@jupyter-widgets/controls",
          "model_name": "SliderStyleModel",
          "model_module_version": "1.5.0",
          "state": {
            "_model_module": "@jupyter-widgets/controls",
            "_model_module_version": "1.5.0",
            "_model_name": "SliderStyleModel",
            "_view_count": null,
            "_view_module": "@jupyter-widgets/base",
            "_view_module_version": "1.2.0",
            "_view_name": "StyleView",
            "description_width": "",
            "handle_color": null
          }
        }
      }
    }
  },
  "cells": [
    {
      "cell_type": "markdown",
      "metadata": {
        "id": "view-in-github",
        "colab_type": "text"
      },
      "source": [
        "<a href=\"https://colab.research.google.com/github/YgillahLymmah/API-Project-Py/blob/main/ferramenta_de_sumarizacao.ipynb\" target=\"_parent\"><img src=\"https://colab.research.google.com/assets/colab-badge.svg\" alt=\"Open In Colab\"/></a>"
      ]
    },
    {
      "cell_type": "code",
      "execution_count": 5,
      "metadata": {
        "colab": {
          "base_uri": "https://localhost:8080/",
          "height": 1000,
          "referenced_widgets": [
            "7c11f889998a4667ab65576cadac7005",
            "6287629278474c59bba19fedb6ea6ffd",
            "238233641d2b4394af02f541e54655e2"
          ]
        },
        "id": "1vw2kF8csshN",
        "outputId": "134cc2b8-f6c6-4c3a-bc67-1c20af93b905"
      },
      "outputs": [
        {
          "output_type": "stream",
          "name": "stdout",
          "text": [
            "Collecting pt-core-news-md==3.8.0\n",
            "  Downloading https://github.com/explosion/spacy-models/releases/download/pt_core_news_md-3.8.0/pt_core_news_md-3.8.0-py3-none-any.whl (42.4 MB)\n",
            "\u001b[2K     \u001b[90m━━━━━━━━━━━━━━━━━━━━━━━━━━━━━━━━━━━━━━━━\u001b[0m \u001b[32m42.4/42.4 MB\u001b[0m \u001b[31m15.6 MB/s\u001b[0m eta \u001b[36m0:00:00\u001b[0m\n",
            "\u001b[?25h\u001b[38;5;2m✔ Download and installation successful\u001b[0m\n",
            "You can now load the package via spacy.load('pt_core_news_md')\n",
            "\u001b[38;5;3m⚠ Restart to reload dependencies\u001b[0m\n",
            "If you are in a Jupyter or Colab notebook, you may need to restart Python in\n",
            "order to load all the package's dependencies. You can do this by selecting the\n",
            "'Restart kernel' or 'Restart runtime' option.\n",
            "Collecting en-core-web-md==3.8.0\n",
            "  Downloading https://github.com/explosion/spacy-models/releases/download/en_core_web_md-3.8.0/en_core_web_md-3.8.0-py3-none-any.whl (33.5 MB)\n",
            "\u001b[2K     \u001b[90m━━━━━━━━━━━━━━━━━━━━━━━━━━━━━━━━━━━━━━━━\u001b[0m \u001b[32m33.5/33.5 MB\u001b[0m \u001b[31m37.6 MB/s\u001b[0m eta \u001b[36m0:00:00\u001b[0m\n",
            "\u001b[?25h\u001b[38;5;2m✔ Download and installation successful\u001b[0m\n",
            "You can now load the package via spacy.load('en_core_web_md')\n",
            "\u001b[38;5;3m⚠ Restart to reload dependencies\u001b[0m\n",
            "If you are in a Jupyter or Colab notebook, you may need to restart Python in\n",
            "order to load all the package's dependencies. You can do this by selecting the\n",
            "'Restart kernel' or 'Restart runtime' option.\n"
          ]
        },
        {
          "output_type": "stream",
          "name": "stderr",
          "text": [
            "[nltk_data] Downloading package punkt to /root/nltk_data...\n",
            "[nltk_data]   Package punkt is already up-to-date!\n",
            "[nltk_data] Downloading package punkt_tab to /root/nltk_data...\n",
            "[nltk_data]   Package punkt_tab is already up-to-date!\n"
          ]
        },
        {
          "output_type": "display_data",
          "data": {
            "text/plain": [
              "IntSlider(value=50, description='Resumo %:', min=10, step=10)"
            ],
            "application/vnd.jupyter.widget-view+json": {
              "version_major": 2,
              "version_minor": 0,
              "model_id": "7c11f889998a4667ab65576cadac7005"
            }
          },
          "metadata": {}
        },
        {
          "output_type": "stream",
          "name": "stdout",
          "text": [
            "📄 Faça upload do seu arquivo PDF:\n"
          ]
        },
        {
          "output_type": "display_data",
          "data": {
            "text/plain": [
              "<IPython.core.display.HTML object>"
            ],
            "text/html": [
              "\n",
              "     <input type=\"file\" id=\"files-22e40222-604d-4f31-92d5-cdb4d6d18a0b\" name=\"files[]\" multiple disabled\n",
              "        style=\"border:none\" />\n",
              "     <output id=\"result-22e40222-604d-4f31-92d5-cdb4d6d18a0b\">\n",
              "      Upload widget is only available when the cell has been executed in the\n",
              "      current browser session. Please rerun this cell to enable.\n",
              "      </output>\n",
              "      <script>// Copyright 2017 Google LLC\n",
              "//\n",
              "// Licensed under the Apache License, Version 2.0 (the \"License\");\n",
              "// you may not use this file except in compliance with the License.\n",
              "// You may obtain a copy of the License at\n",
              "//\n",
              "//      http://www.apache.org/licenses/LICENSE-2.0\n",
              "//\n",
              "// Unless required by applicable law or agreed to in writing, software\n",
              "// distributed under the License is distributed on an \"AS IS\" BASIS,\n",
              "// WITHOUT WARRANTIES OR CONDITIONS OF ANY KIND, either express or implied.\n",
              "// See the License for the specific language governing permissions and\n",
              "// limitations under the License.\n",
              "\n",
              "/**\n",
              " * @fileoverview Helpers for google.colab Python module.\n",
              " */\n",
              "(function(scope) {\n",
              "function span(text, styleAttributes = {}) {\n",
              "  const element = document.createElement('span');\n",
              "  element.textContent = text;\n",
              "  for (const key of Object.keys(styleAttributes)) {\n",
              "    element.style[key] = styleAttributes[key];\n",
              "  }\n",
              "  return element;\n",
              "}\n",
              "\n",
              "// Max number of bytes which will be uploaded at a time.\n",
              "const MAX_PAYLOAD_SIZE = 100 * 1024;\n",
              "\n",
              "function _uploadFiles(inputId, outputId) {\n",
              "  const steps = uploadFilesStep(inputId, outputId);\n",
              "  const outputElement = document.getElementById(outputId);\n",
              "  // Cache steps on the outputElement to make it available for the next call\n",
              "  // to uploadFilesContinue from Python.\n",
              "  outputElement.steps = steps;\n",
              "\n",
              "  return _uploadFilesContinue(outputId);\n",
              "}\n",
              "\n",
              "// This is roughly an async generator (not supported in the browser yet),\n",
              "// where there are multiple asynchronous steps and the Python side is going\n",
              "// to poll for completion of each step.\n",
              "// This uses a Promise to block the python side on completion of each step,\n",
              "// then passes the result of the previous step as the input to the next step.\n",
              "function _uploadFilesContinue(outputId) {\n",
              "  const outputElement = document.getElementById(outputId);\n",
              "  const steps = outputElement.steps;\n",
              "\n",
              "  const next = steps.next(outputElement.lastPromiseValue);\n",
              "  return Promise.resolve(next.value.promise).then((value) => {\n",
              "    // Cache the last promise value to make it available to the next\n",
              "    // step of the generator.\n",
              "    outputElement.lastPromiseValue = value;\n",
              "    return next.value.response;\n",
              "  });\n",
              "}\n",
              "\n",
              "/**\n",
              " * Generator function which is called between each async step of the upload\n",
              " * process.\n",
              " * @param {string} inputId Element ID of the input file picker element.\n",
              " * @param {string} outputId Element ID of the output display.\n",
              " * @return {!Iterable<!Object>} Iterable of next steps.\n",
              " */\n",
              "function* uploadFilesStep(inputId, outputId) {\n",
              "  const inputElement = document.getElementById(inputId);\n",
              "  inputElement.disabled = false;\n",
              "\n",
              "  const outputElement = document.getElementById(outputId);\n",
              "  outputElement.innerHTML = '';\n",
              "\n",
              "  const pickedPromise = new Promise((resolve) => {\n",
              "    inputElement.addEventListener('change', (e) => {\n",
              "      resolve(e.target.files);\n",
              "    });\n",
              "  });\n",
              "\n",
              "  const cancel = document.createElement('button');\n",
              "  inputElement.parentElement.appendChild(cancel);\n",
              "  cancel.textContent = 'Cancel upload';\n",
              "  const cancelPromise = new Promise((resolve) => {\n",
              "    cancel.onclick = () => {\n",
              "      resolve(null);\n",
              "    };\n",
              "  });\n",
              "\n",
              "  // Wait for the user to pick the files.\n",
              "  const files = yield {\n",
              "    promise: Promise.race([pickedPromise, cancelPromise]),\n",
              "    response: {\n",
              "      action: 'starting',\n",
              "    }\n",
              "  };\n",
              "\n",
              "  cancel.remove();\n",
              "\n",
              "  // Disable the input element since further picks are not allowed.\n",
              "  inputElement.disabled = true;\n",
              "\n",
              "  if (!files) {\n",
              "    return {\n",
              "      response: {\n",
              "        action: 'complete',\n",
              "      }\n",
              "    };\n",
              "  }\n",
              "\n",
              "  for (const file of files) {\n",
              "    const li = document.createElement('li');\n",
              "    li.append(span(file.name, {fontWeight: 'bold'}));\n",
              "    li.append(span(\n",
              "        `(${file.type || 'n/a'}) - ${file.size} bytes, ` +\n",
              "        `last modified: ${\n",
              "            file.lastModifiedDate ? file.lastModifiedDate.toLocaleDateString() :\n",
              "                                    'n/a'} - `));\n",
              "    const percent = span('0% done');\n",
              "    li.appendChild(percent);\n",
              "\n",
              "    outputElement.appendChild(li);\n",
              "\n",
              "    const fileDataPromise = new Promise((resolve) => {\n",
              "      const reader = new FileReader();\n",
              "      reader.onload = (e) => {\n",
              "        resolve(e.target.result);\n",
              "      };\n",
              "      reader.readAsArrayBuffer(file);\n",
              "    });\n",
              "    // Wait for the data to be ready.\n",
              "    let fileData = yield {\n",
              "      promise: fileDataPromise,\n",
              "      response: {\n",
              "        action: 'continue',\n",
              "      }\n",
              "    };\n",
              "\n",
              "    // Use a chunked sending to avoid message size limits. See b/62115660.\n",
              "    let position = 0;\n",
              "    do {\n",
              "      const length = Math.min(fileData.byteLength - position, MAX_PAYLOAD_SIZE);\n",
              "      const chunk = new Uint8Array(fileData, position, length);\n",
              "      position += length;\n",
              "\n",
              "      const base64 = btoa(String.fromCharCode.apply(null, chunk));\n",
              "      yield {\n",
              "        response: {\n",
              "          action: 'append',\n",
              "          file: file.name,\n",
              "          data: base64,\n",
              "        },\n",
              "      };\n",
              "\n",
              "      let percentDone = fileData.byteLength === 0 ?\n",
              "          100 :\n",
              "          Math.round((position / fileData.byteLength) * 100);\n",
              "      percent.textContent = `${percentDone}% done`;\n",
              "\n",
              "    } while (position < fileData.byteLength);\n",
              "  }\n",
              "\n",
              "  // All done.\n",
              "  yield {\n",
              "    response: {\n",
              "      action: 'complete',\n",
              "    }\n",
              "  };\n",
              "}\n",
              "\n",
              "scope.google = scope.google || {};\n",
              "scope.google.colab = scope.google.colab || {};\n",
              "scope.google.colab._files = {\n",
              "  _uploadFiles,\n",
              "  _uploadFilesContinue,\n",
              "};\n",
              "})(self);\n",
              "</script> "
            ]
          },
          "metadata": {}
        },
        {
          "output_type": "stream",
          "name": "stdout",
          "text": [
            "Saving Os sete maridos de Evelyn Hugo.pdf to Os sete maridos de Evelyn Hugo.pdf\n"
          ]
        },
        {
          "output_type": "display_data",
          "data": {
            "text/plain": [
              "<IPython.core.display.Markdown object>"
            ],
            "text/markdown": "## ✍️ RESUMO DO TEXTO:"
          },
          "metadata": {}
        },
        {
          "output_type": "display_data",
          "data": {
            "text/plain": [
              "<IPython.core.display.Markdown object>"
            ],
            "text/markdown": "### Página 1"
          },
          "metadata": {}
        },
        {
          "output_type": "display_data",
          "data": {
            "text/plain": [
              "<IPython.core.display.Markdown object>"
            ],
            "text/markdown": "DADOS\tDE\tODINRIGHT Sobre\ta\tobra: A\tpresente\tobra\té\tdisponibilizada\tpela\tequipe\t eLivros \te\tseus\tdiversos parceiros,\tcom\to\tobjetivo\tde\toferecer\tconteúdo\tpara\tuso\tparcial\tem pesquisas\te\testudos\tacadêmicos,\tbem\tcomo\to\tsimples\tteste\tda qualidade\tda\tobra,\tcom\to\tfim\texclusivo\tde\tcompra\tfutura. É\texpressamente\tproibida\te\ttotalmente\trepudíavel\ta\tvenda,\taluguel,\tou quaisquer\tuso\tcomercial\tdo\tpresente\tconteúdo. Você\tpode\tajudar\tcontribuindo\tde\tvárias\tmaneiras,\tenviando\tlivros\tpara gente\tpostar\t Envie\tum\tlivro \t;) Ou\tainda\tpodendo\tajudar\tfinanceiramente\ta\tpagar\tcusto\tde\tservidores\te obras\tque\tcompramos\tpara\tpostar,\t faça\tuma\tdoação\taqui \t:) \"Quando\to\tmundo\testiver\tunido\tna\tbusca\tdo\tconhecimento,\te\tnão mais\tlutando\tpor\tdinheiro\te\tpoder,\tentão\tnossa\tsociedade\tpoderá enfim\tevoluir\ta\tum\tnovo\tnível.\""
          },
          "metadata": {}
        },
        {
          "output_type": "display_data",
          "data": {
            "text/plain": [
              "<IPython.core.display.Markdown object>"
            ],
            "text/markdown": "### Página 2"
          },
          "metadata": {}
        },
        {
          "output_type": "display_data",
          "data": {
            "text/plain": [
              "<IPython.core.display.Markdown object>"
            ],
            "text/markdown": "Converted\tby\t ePubtoPDF"
          },
          "metadata": {}
        },
        {
          "output_type": "display_data",
          "data": {
            "text/plain": [
              "<IPython.core.display.Markdown object>"
            ],
            "text/markdown": "### Página 3"
          },
          "metadata": {}
        },
        {
          "output_type": "display_data",
          "data": {
            "text/plain": [
              "<IPython.core.display.Markdown object>"
            ],
            "text/markdown": "Para\tLilah Destrua\to\tpatriarcado,\tquerida"
          },
          "metadata": {}
        },
        {
          "output_type": "display_data",
          "data": {
            "text/plain": [
              "<IPython.core.display.Markdown object>"
            ],
            "text/markdown": "### Página 4"
          },
          "metadata": {}
        },
        {
          "output_type": "display_data",
          "data": {
            "text/plain": [
              "<IPython.core.display.Markdown object>"
            ],
            "text/markdown": "Sumário Capa Rosto NEW\tYORK\tTRIBUNE THESPILL.COM O\tPOBRE\tERNIE\tDIAZ O\tMALDITO\tDON\tADLER O\tINSACIÁVEL\tMICK\tRIVA O\tESPERTO\tREX\tNORTH O\tBRILHANTE,\tGENEROSO\tE\tSOFRIDO HARRY\tCAMERON O\tDECEPCIONANTE\tMAX\tGIRARD O\tPACATO\tROBERT\tJAMISON Agradecimentos Sobre\ta\tautora Créditos"
          },
          "metadata": {}
        },
        {
          "output_type": "display_data",
          "data": {
            "text/plain": [
              "<IPython.core.display.Markdown object>"
            ],
            "text/markdown": "### Página 5"
          },
          "metadata": {}
        },
        {
          "output_type": "display_data",
          "data": {
            "text/plain": [
              "<IPython.core.display.Markdown object>"
            ],
            "text/markdown": "NEW\tYORK\tTRIBUNE Evelyn\tHugo\tleiloa\tvestidos Por\tPriya\tAmrit"
          },
          "metadata": {}
        },
        {
          "output_type": "display_data",
          "data": {
            "text/plain": [
              "<IPython.core.display.Markdown object>"
            ],
            "text/markdown": "### Página 6"
          },
          "metadata": {}
        },
        {
          "output_type": "display_data",
          "data": {
            "text/plain": [
              "<IPython.core.display.Markdown object>"
            ],
            "text/markdown": "Conhecida\tpelo\testilo\tao\tmesmo\ttempo\tsensual\te recatado,\tmuito\tde\tseus\tlooks\tmais\tfamosos\tsão\tvistos\tcomo\tícones\tda\tmoda\te da\thistória\tde\tHollywood. Hugo\tse\tnotabilizou\tpor\tseus\tescândalos\tem\tHollywood,\tentre\teles\tseus\tsete casamentos,\tnos\tquais\tse\tinclui\tum\trelacionamento\tde\tlonga\tdata\tcom\to\tprodutor cinematográfico\tHarry\tCameron. O\tcélebre\tcasal\thollywoodiano\ttinha\tuma\tfilha, Connor\tCameron,\tque\tsem\tdúvida\té\ta\tmaior\tinfluência\tpor\ttrás\tda\tiniciativa\tdo leilão. Evelyn\tElena\tHerrera\tnasceu\tem\t1938,\tfilha\tde\timigrantes\tcubanos,\te\tfoi criada\tno\tdistrito\tde\tHell’s\tKitchen,\tem\tNova\tYork. Em\t1955,\tfoi\tpara Hollywood,\ttingiu\tos\tcabelos\tde\tloiro\te\tadotou\to\tnome\tartístico\tEvelyn\tHugo. Hugo\tpermaneceu\tsob\tos\tholofotes\tpor\tmais\tde\ttrês\tdécadas, até\tse\taposentar,\tno\tfinal\tdos\tanos\t1980,\te\tse\tcasar\tcom\to\texecutivo\tdo\tmercado"
          },
          "metadata": {}
        },
        {
          "output_type": "display_data",
          "data": {
            "text/plain": [
              "<IPython.core.display.Markdown object>"
            ],
            "text/markdown": "### Página 7"
          },
          "metadata": {}
        },
        {
          "output_type": "display_data",
          "data": {
            "text/plain": [
              "<IPython.core.display.Markdown object>"
            ],
            "text/markdown": "financeiro\tRobert\tJamison,\tirmão\tmais\tvelho\tda\tatriz\tCelia\tSt. Dona\tde\tuma\tbeleza\tquase\tsobrenatural\te\tsinônimo\tde\tglamour\te sensualidade,\tHugo\té\tuma\tfigura\thistórica\tdo\tcinema,\tque\tdesperta\tfascínio\tem cinéfilos\tdo\tmundo\tinteiro."
          },
          "metadata": {}
        },
        {
          "output_type": "display_data",
          "data": {
            "text/plain": [
              "<IPython.core.display.Markdown object>"
            ],
            "text/markdown": "### Página 8"
          },
          "metadata": {}
        },
        {
          "output_type": "display_data",
          "data": {
            "text/plain": [
              "<IPython.core.display.Markdown object>"
            ],
            "text/markdown": "Foi\tpor\tisso\tque eu\tdisse:\t‘Monique,\tvamos\taté\ta\tminha\tsala\tum\tminutinho?’.” “Desculpa,\té\tque\teu\tsó\touvi\ta\túltima\tparte.” Frankie\tse\tvira\te\tsai\tandando. Há\tqualquer\tcoisa\tem\tFrankie\tque\tchama\ta\tatenção. Não\tsei\tse\tdá\tpara\tdizer que\tse\ttrata\tde\tuma\tmulher\tatraente\tno\tsentido\ttradicional\tda\tpalavra\t—\tsuas feições\tsão\tseveras,\tos\tolhos\tmuito\tseparados\t—,\tmas\té\tuma\tpessoa\timpossível de\tnão\tolhar\te\tadmirar. Ela\tfoi\tum\tdos\tmotivos\tpara\teu\taceitar\tmeu\temprego. Já\tera\tuma\tadmiradora sua\tdesde\ta\tépoca\tda\tfaculdade\tde\tjornalismo,\tquando\tlia\tsuas\tmatérias\tna revista\tque\thoje\tela\tdirige\te\tpara\ta\tqual\teu\ttrabalho. E,\tpara\tser\tbem\tsincera,\té bastante\tinspirador\tver\tuma\tmulher\tnegra\tna\tchefia. Como\teu\tmesma\tsou birracial\t—\ta\tpele\tmorena\te\tos\tolhos\tescuros\tpuxei\tdo\tmeu\tpai,\tque\té\tnegro,\te\tas sardas\therdei\tda\tminha\tmãe,\tque\té\tbranca\t—,\ta\tpresença\tde\tFrankie\tme\tfaz acreditar\tque\talgum\tdia\tposso\tchegar\ta\tum\talto\tcargo\ttambém. “Pode\tsentar”,\tFrankie\tdiz\tenquanto\tse\tacomoda\tno\tseu\tlugar\te\taponta\tpara uma\tcadeira\tlaranja\tdo\toutro\tlado\tda\tmesa\tde\ttampo\tde\tacrílico."
          },
          "metadata": {}
        },
        {
          "output_type": "display_data",
          "data": {
            "text/plain": [
              "<IPython.core.display.Markdown object>"
            ],
            "text/markdown": "### Página 9"
          },
          "metadata": {}
        },
        {
          "output_type": "display_data",
          "data": {
            "text/plain": [
              "<IPython.core.display.Markdown object>"
            ],
            "text/markdown": "“Então,\ttivemos\tuma\treviravolta\tinesperada”,\tela\tanuncia,\tolhando\tpara\to computador. Ofereceram\tuma entrevista\texclusiva.” Meu\tprimeiro\tinstinto\té\tdizer\t Puta\tmerda ,\tmas\ttambém\t Por\tque\tvocê\testá\tme contando\tisso? Mesmo\tse\t não \testiver\tdisposta\ta\tfalar,\tas\tpessoas\tquerem\touvir. “Pode\tser\tuma\ttremenda\tcapa\tpara\ta\tgente,\tné? Não\tfoi\tela\tque\tcasou\toito\tvezes\tou\tcoisa\tdo\ttipo?” “Sete”,\tdiz\tFrankie. Mas\taí\tela\tdiz:\t“Evelyn\tpediu\tpara\tfalar\tespecificamente com\tvocê”. Por\tenquanto\tbasta\tdizer\tque\tminha\tautoestima\tsofreu\tum\ttremendo baque\thá\tbem\tpouco\ttempo. Mas\ttambém\tnão\tposso\tfingir\tque\talguma\tvez\tjá esteve\tnas\talturas. “Sendo\tbem\tsincera,\tfoi\tessa\ta\tminha\treação\ttambém”,\tdiz\tFrankie. Agora\té\ta\t minha \tvez\tde\tser\tsincera:\tesse\tcomentário\tme\tdeixou\tum\tpouco ofendida. Mas\tdá\tpara\tentender\tpor\tque\tela\tfalou\tisso,\tclaro."
          },
          "metadata": {}
        },
        {
          "output_type": "display_data",
          "data": {
            "text/plain": [
              "<IPython.core.display.Markdown object>"
            ],
            "text/markdown": "### Página 10"
          },
          "metadata": {}
        },
        {
          "output_type": "display_data",
          "data": {
            "text/plain": [
              "<IPython.core.display.Markdown object>"
            ],
            "text/markdown": "Antes\tdisso,\teu\talimentava\to\t Discourse ,\tum\tsite\tde\tnotícias\te cultura\tque\tse\tdefine\tcomo\trevista\tmas\tna\tprática\té\tum\tblog\tcom\tmanchetes chamativas. Eu\tescrevia\tprincipalmente\tpara\tuma\tseção\tchamada\t“Vida Moderna”,\tcobrindo\tatualidades\te\tfazendo\tartigos\tde\topinião. Depois\tde\tanos\tcomo\tfreelancer,\tesse\ttrabalho\tno\t Discourse \tfoi\ta\tminha salvação. Mas,\tquando\ta\t Vivant \tme\tofereceu\tum\temprego,\tnão\tdava\tpara\tdeixar passar. Era\tuma\tsensação surreal\tfazer\tparte\tdo\tmundo\tda\t Vivant . Infelizmente,\tporém,\tnas\túltimas\tdoze\tedições,\tmeu\ttrabalho\tvem\tse resumindo\ta\tfazer\tperguntas\tantiquadas\tpara\tgente\tvelha\te\tendinheirada, enquanto\tmeus\tex-colegas\tde\t Discourse \testão\ttentando\tmudar\to\tmundo\tcom textos\tvirais. Portanto,\tsendo\tbem\tdireta,\tnão\testou\tmuito\torgulhosa\tde\tmim mesma. Por\tisso\teu\tquero\tdeixar\tbem claro\tque\tnós\tnão\tsugerimos\to\tseu\tnome\tpara\ta\tassessoria\tda\tEvelyn."
          },
          "metadata": {}
        },
        {
          "output_type": "display_data",
          "data": {
            "text/plain": [
              "<IPython.core.display.Markdown object>"
            ],
            "text/markdown": "### Página 11"
          },
          "metadata": {}
        },
        {
          "output_type": "display_data",
          "data": {
            "text/plain": [
              "<IPython.core.display.Markdown object>"
            ],
            "text/markdown": "Para:\tTroupe,\tFrankie Cc:\tStamey,\tJason;\tPowers,\tRyan Tem\tque\tser\tMonique\tGrant\tou\ta\tEvelyn\testá\tfora. E,\tpara\tser\tsincera,\tum\ttanto maravilhada\tpor\tEvelyn\tHugo\tter\tvontade\tde\tfazer\talguma\tcoisa\tcomigo. “Já\tvi\talguns\tfilmes\tdela, mas\tnão\tsão\texatamente\tdo\tmeu\ttempo.” “Você\ttem\talguma\trelação\tpessoal\tcom\tela?” Faço\tque\tnão\tcom\ta\tcabeça. “Absolutamente\tnenhuma.” “Você\tnão\té\tde\tLos\tAngeles?” “Sim,\tmas\ta\túnica\tligação\tque\tposso\tter\tcom\tEvelyn\tHugo\té\tse\tmeu\tpai\ttiver trabalhado\tem\talgum\tfilme\tdela\tna\tépoca. Posso perguntar\tpara\tminha\tmãe,\tse\tfor\to\tcaso.” “Legal. Obrigada.”\tFrankie\tfica\tme\tolhando\tcom\tuma\tcara\tde\texpectativa. “Você\tquer\tque\teu\tpergunte\tagora?” “Pode\tser?” Tiro\tmeu\tcelular\tdo\tbolso\te\tmando\tuma\tmensagem\tpara\tminha\tmãe:\t O\tpapai trabalhou\tem\talgum\tfilme\tda\tEvelyn\tHugo? Vejo\tos\ttrês\tpontinhos\taparecerem\te,\tquando\tlevanto\tos\tolhos,\tpercebo\tque Frankie\testá\ttentando\tespiar\tminha\ttela. Ela\tparece\tsacar\tque\testá\tsendo\tinvasiva e\tse\tinclina\tpara\ttrás. É\tuma\tlonga\thistória ,\trespondo,\t mas\testou\ttentando\tdescobrir\tse\ttenho\talgum tipo\tde\tligação\tcom\tEvelyn\tHugo."
          },
          "metadata": {}
        },
        {
          "output_type": "display_data",
          "data": {
            "text/plain": [
              "<IPython.core.display.Markdown object>"
            ],
            "text/markdown": "### Página 12"
          },
          "metadata": {}
        },
        {
          "output_type": "display_data",
          "data": {
            "text/plain": [
              "<IPython.core.display.Markdown object>"
            ],
            "text/markdown": "Seu\tpai\tnunca\tse\tenvolvia\tcom\tos\tfamosos\tno set\tde\tfilmagem. Por\tmais\tque\teu\tpedisse\tque\tele\tarrumasse\tuns\tamigos celebridades\tpara\ta\tgente. Bom,\tentão\ta\toutra\tteoria\té\tque\to pessoal\tdela\tescolheu\talguém\tcom\tmenos\tcalibre\tpara\tpoder\tcontrolar\tvocê\te, por\ttabela,\ta\thistória\tque\tvai\tser\tcontada.” Sinto\tmeu\tcelular\tvibrar\tde\tnovo. Bem\tlembrado,\tpreciso\tte\tenviar\tuma\tcaixa com\tuns\ttrabalhos\tantigos\tdo\tseu\tpai. Gosto\tde\tter\ttudo\tpor aqui,\tmas\tacho\tque\tvocê\tvai\tsaber\tapreciar\tmelhor. “Você\tacha\tque\teles\testão\tprocurando\tuma\tpresa\tfácil”,\tdigo\tpara\tFrankie. “Tipo\tisso.” “Então\ta\tassessoria\tda\tEvelyn\tdeu\tuma\tolhada\tno\texpediente\tda\trevista,\tviu meu\tnome\tentre\to\tpessoal\tdo\tbaixo\tescalão\te\tacha\tque\tpode\tme\tmanipular. É essa\ta\tideia?” “É\tesse\to\tmeu\tmedo.” “E\tvocê\testá\tme\tdizendo\tisso\tporque…” Frankie\tmede\tbem\tas\tpalavras. “Porque\tnão\tacho\tque\teles\tconsigam manipular\tvocê. Estão\tsubestimando\ta\tsua\tcapacidade. E\teu\tquero\tessa\tcapa. Quero\tessa\tvisibilidade.” “O\tque\tvocê\testá\tme\tdizendo,\texatamente?”,\tpergunto,\tme\tmexendo\tde\tleve na\tcadeira. Frankie\tbate\tas\tmãos\tna\tmesa\te\tse\tinclina\tna\tminha\tdireção. “Estou\tpedindo para\tvocê\tir\tcriando\tcoragem\tpara\tencarar\tum\ttête-à-tête\tcom\tEvelyn\tHugo.” De\ttodas\tas\tcoisas\tque\tpensei\tque\tpudessem\tme\tpedir\thoje,\tessa\tdeve\tser\ta milionésima\tnona\tda\tlista."
          },
          "metadata": {}
        },
        {
          "output_type": "display_data",
          "data": {
            "text/plain": [
              "<IPython.core.display.Markdown object>"
            ],
            "text/markdown": "### Página 13"
          },
          "metadata": {}
        },
        {
          "output_type": "display_data",
          "data": {
            "text/plain": [
              "<IPython.core.display.Markdown object>"
            ],
            "text/markdown": "Estou\tcansada\tde ficar\tna\tbase\tda\tpirâmide\talimentar. E\tpreciso\tme\tdar\tbem\talguma\tvez\tna\tvida, ora\tessa. “Hã,\tsim,\tporra?” Frankie\tbalança\ta\tcabeça,\tpensativa. “Assim\té\tmelhor,\tmas\tainda\tnão\testou convencida.” Tenho\ttrinta\te\tcinco\tanos\tde\tidade. Quero ser\to\tprimeiro\tnome\tque\tlembram\tquando\talguém\tcomo\tEvelyn\tHugo\tentra\tem contato. Para\tchegar\taonde\tquero, alguma\tcoisa\tprecisa\tacontecer. Alguém\tvai\tter\tque\tsair\tdo\tmeu\tcaminho. Não\tme parece\tnecessário\tter\tque\tte\tconvencer\tde\tnada,\tFrankie. Pelo\tjeito\té\t você \tque precisa\tme\tconvencer.” Frankie\tfica\tem\tsilêncio,\tme\tencarando\tcom\tos\tdedos\tapoiados\tna\tmesa. Eu estava\ttentando\tcausar\tum\timpacto\tpositivo. Foi\ta\tmesma\tcoisa\tquando\tcomecei\ta\tfazer\tmusculação\te\tfui\tlogo\tpegando\tos halteres\tde\tvinte\tquilos. Preciso\tme\tesforçar\tao\tmáximo\tpara\tnão\tretirar\to\tque\tdisse\te\tcomeçar\ta\tpedir mil\tdesculpas. Sempre\tme guiei\tpelo\tprincípio\tde\tque\ta\tsubserviência\té\tum\trequisito\tda\tcivilidade. Mas esse\ttipo\tde\tpostura\tnão\tme\tlevou\tmuito\tlonge. O\tmundo\tprefere\trespeitar\tas pessoas\tque\tquerem\tdominá-lo. Nunca\tentendi\tisso,\tmas\tcansei\tde\tnadar\tcontra\ta corrente. Estou\taqui\tpara\tassumir\to\tlugar\tde\tFrankie\talgum\tdia,\ttalvez\taté\tum cargo\tmais\talto\tque\to\tdela. O\tsilêncio\tse\tprolonga\ttanto\tque\tme\tsinto\tprestes\ta\tcapitular."
          },
          "metadata": {}
        },
        {
          "output_type": "display_data",
          "data": {
            "text/plain": [
              "<IPython.core.display.Markdown object>"
            ],
            "text/markdown": "### Página 14"
          },
          "metadata": {}
        },
        {
          "output_type": "display_data",
          "data": {
            "text/plain": [
              "<IPython.core.display.Markdown object>"
            ],
            "text/markdown": "Mas\té\tFrankie\tquem\tse\tmanifesta\tprimeiro. “Muito\tbem”,\tela\tdiz,\testendendo\ta\tmão\te\tficando\tde\tpé. Uma\tmistura\tde\tchoque\te\torgulho\tintenso\tme\tdomina\tquando\ta\tcumprimento. “Ela\tpode\tter\tlido\tsua\tmatéria\tsobre suicídio\tassistido\tpara\to\t Discourse ”,\tFrankie\tcomenta\tquando\tchego\tà\tporta. Talvez\tseja\tpor\tisso\tque\tela\tqueira\tfalar\tcom\tvocê. Não\tsó\tpela\tquantidade\tde cliques\tque\tatraiu,\tmas\tpor\tsua\tcausa,\tpelo\tbelo\ttrabalho\tque\tvocê\tfez.” Essa\tfoi\tuma\tdas\tprimeiras\tmatérias\trelevantes\tque\tfiz\tpor\tiniciativa\tprópria. Sugeri\ta\tpauta\tdepois\tque\tme\tfizeram\tescrever\tsobre\ta\tpopularidade\tcada\tvez maior\tdos\tmicrovegetais,\tsobretudo\tnos\trestaurantes\tdo\tBrooklyn. Fui\tà\tfeira\tdo Park\tSlope\tpara\tentrevistar\tum\tprodutor\tlocal,\tmas,\tquando\tconfessei\tque\tnão via\ta\tmenor\tgraça\tnas\tfolhas\tde\tmostarda,\tele\tme\tfalou\tque\teu\tparecia\ta\tirmã dele,\tque\tera\tuma\tcarnívora\tconvicta\taté\to\tano\tanterior,\tquando\ttinha\tadotado uma\tdieta\tvegana\te\ttotalmente\torgânica\tenquanto\tlutava\tcontra\tum\ttumor\tno cérebro. Conversando\tum\tpouco\tmais,\tele\tme\tfalou\tsobre\tum\tgrupo\tde\tapoio\tao suicídio\tassistido\tde\tque\tsua\tirmã\tfazia\tparte,\te\tque\tservia\ttanto\tpara\tquem queria\tencerrar\ta\tprópria\tvida\tcomo\tpara\tajudar\tseus\tfamiliares. A\talimentação saudável\tnão\tia\tsalvar\ta\tvida\tda\tirmã\tdele,\te\tninguém\tqueria\tque\tela\tsofresse além\tda\tconta. Nesse\tmomento\tsenti\tque\tqueria\tmuito,\tmuito\tmesmo,\tdar\tvoz\tàs\tpessoas\tque faziam\tparte\tdesse\tgrupo\tde\tapoio."
          },
          "metadata": {}
        },
        {
          "output_type": "display_data",
          "data": {
            "text/plain": [
              "<IPython.core.display.Markdown object>"
            ],
            "text/markdown": "### Página 15"
          },
          "metadata": {}
        },
        {
          "output_type": "display_data",
          "data": {
            "text/plain": [
              "<IPython.core.display.Markdown object>"
            ],
            "text/markdown": "recusada,\tporque\tantes\tdisso\tsó\tvinha\tescrevendo\tsobre\tas\túltimas\ttendências entre\tos\thipsters\te\tartigos\tde\topinião\tsobre\to\tcomportamento\tde\tcelebridades. Trabalhei\tincansavelmente\tna\tmatéria,\tcomparecendo\ta\treuniões\tem\tporões\tde igrejas,\tentrevistando\tmembros\tdo\tgrupo,\tescrevendo\te\treescrevendo\taté\tachar que\ttinha\tum\ttexto\tque\tdesse\tconta\tde\ttoda\ta\tcomplexidade\tdo\tato\tde\tajudar\ta encerrar\ta\tvida\tde\tpessoas\tsubmetidas\ta\tum\tsofrimento\textremo\t—\ttanto\tem termos\tde\tcompaixão\tcomo\tdo\tdilema\tmoral\tpor\tparte\tdos\tmédicos. É\ta\tmatéria\tque\tmais\tme\torgulho\tde\tter\tescrito. Mais\tde\tuma\tvez,\tjá\tcheguei em\tcasa\tdo\ttrabalho\te\treli\tesse\ttexto,\tpara\tlembrar\ta\tmim\tmesma\tdo\tque\tsou capaz,\te\tda\tsatisfação\tde\tsentir\tque\tcompartilhei\tuma\tverdade,\tpor\tmais\tdifícil que\tseja\tencará-la. O\tmotivo\tpode\tser\tesse.” “Mas\tprovavelmente\tnão.” “Pois\té”,\tela\tresponde."
          },
          "metadata": {}
        },
        {
          "output_type": "display_data",
          "data": {
            "text/plain": [
              "<IPython.core.display.Markdown object>"
            ],
            "text/markdown": "### Página 16"
          },
          "metadata": {}
        },
        {
          "output_type": "display_data",
          "data": {
            "text/plain": [
              "<IPython.core.display.Markdown object>"
            ],
            "text/markdown": "THESPILL.COM Evelyn\tHugo\tpronta\tpara\tabrir\to\tjogo Por\tJulia\tSantos"
          },
          "metadata": {}
        },
        {
          "output_type": "display_data",
          "data": {
            "text/plain": [
              "<IPython.core.display.Markdown object>"
            ],
            "text/markdown": "### Página 17"
          },
          "metadata": {}
        },
        {
          "output_type": "display_data",
          "data": {
            "text/plain": [
              "<IPython.core.display.Markdown object>"
            ],
            "text/markdown": "4 \tDE\tMARÇO\tDE\t 2017 Dizem\tpor\taí\tque\ta\tmusa/\t LENDA\tVIVA /\tloira\tmais\tlinda\tdo\tmundo\tEvelyn Hugo\tvai\tleiloar\tvestidos\t e \tdar\tuma\tentrevista,\tcoisa\tque\tnão\tfaz\thá\tdécadas. POR\tFAVOR \tme\tdigam\tque\tfinalmente\tela\tvai\tfalar\tsobre\tos\tbenditos\tmaridos (quatro\teu\taté\tentendo,\ttalvez\tcinco,\tseis\tjá\té\tforçar\ta\tbarra,\tmas\tsete? Isso\tsem\tfalar\tque\ttodo\tmundo\tsabia\tque\tela\tteve\tum\tcaso\tcom\to deputado\tJack\tEaston\tno\tcomeço\tdos\tanos\t80. Se\tela\tnão\tquiser\tdiscutir\tsobre\tos\tmaridos,\tvamos\ttorcer\tpelo\tmenos\tpara\tque diga\tcomo\tfez\tpara\tconseguir\taquelas\tsobrancelhas. Quando\ta\tgente\tvê\tfotos\tda\tE.\tno\tauge,\tcom\tos\tcabelos\tloiros\tbem\tdourados,\te as\tsobrancelhas\tescuras\tcom\tum\tarco\tperfeito,\ta\tpele\tmorena\te\tos\tolhos castanho-acobreados,\té\timpossível\tnão\tparar\tpara\tficar\tadmirando. Bunda\tdiscreta,\tcintura\tfina\t—\tsó\taqueles\tpeitões\tnum\tcorpo\tesguio. Passei\tpraticamente\ttoda\ta\tminha\tvida\tadulta\ttentando\tter\tum\tcorpo\tcomo esse. Pode\tser\tpor\tcausa\tdo\tbucatini\tque\testou comendo\tno\talmoço\ttodos\tos\tdias\testa\tsemana.) Mas\ttem\toutra\tcoisa\tme\tdando\tnos\tnervos\tnessa\thistória:\tEvelyn\tpoderia\tter escolhido\tqualquer\tuma\tpara\tessa\tentrevista. Mas\tem\tvez\tdisso vai\tfalar\tcom\tuma\tnovata\tqualquer\tda\t Vivant ? Por\tque\tessa\ttal\tde\tMonique\tGrant\t(e\tnão\teu)? O\tpessoal\tde\tlá\tsempre\tconsegue as\tpautas\tmais\tlegais."
          },
          "metadata": {}
        },
        {
          "output_type": "display_data",
          "data": {
            "text/plain": [
              "<IPython.core.display.Markdown object>"
            ],
            "text/markdown": "### Página 18"
          },
          "metadata": {}
        },
        {
          "output_type": "display_data",
          "data": {
            "text/plain": [
              "<IPython.core.display.Markdown object>"
            ],
            "text/markdown": "São\tum\tbando\tde\tcapachos\tcontrolados\tpelo\tmercado\tescrevendo\tmatérias censuradas\tpara\tpuxar\to\tsaco\tdos\tanunciantes. Alguma\tcoisa\tme diz\tque\tse\tuma\tdas\trevistas\tmais\tsofisticadas\te\trespeitadas\tdo\tpaís\tte\toferecesse um\temprego\tvocê\taceitaria. EChristine999\tdiz: \tA\tfilha\tda\tEvelyn\tnão\tmorreu\tde\tcâncer\tpouco\ttempo atrás? Acho\tque\tli\talguma\tcoisa\ta\trespeito. Por\tfalar\tnisso,\te\taquela foto\tda\tEvelyn\tao\tlado\tdo\ttúmulo\tdo\tHarry\tCameron? Que\ttristeza\tela\tter\tperdido\tos\tdois. MrsJeanineGrambs\tdiz: \tNão\testou\t NEM\tAÍ \tpara\tEvelyn\tHugo. Três\tda\tmanhã \té\tuma\tvergonha\tpara todas\tas\tmulheres. SexyLexi89\tdiz: \tEvelyn\tHugo\té\tuma\tdas\tmulheres\tmais\tlindas\tde\ttodos\tos tempos. E\taquela\tcena\tem\t Boute-en-Train \tem\tque\tela\tsai\tnua\tda\tágua\te\ta\tcena escurece\tum\tmomentinho\tantes\tde\taparecerem\tos\tmamilos? PennyDriver KLM \tdiz: \tTodos\tos\telogios\tdo\tmundo\tpara\tEvelyn\tHugo\tpor transformar\to\tcabelo\tloiro\tcom\tsobrancelha\tescura\tno\t LOOK\tPERFEITO . EvelynHugoWasASaint\tdiz: \tEssa\tmulher\tdoou\t MILHÕES\tDE\tDÓLARES \tpara instituições\tque\tajudam\tmulheres\tque\tsofrem\tabuso\te\tpara\ta\tcausa\t LGBTQ +,\te agora\testá\tleiloando\tvestidos\tpara\tpesquisas\tde\tcombate\tao\tcâncer\te\tvocê\tsó\tfala sobre\tas\tsobrancelhas\tdela?"
          },
          "metadata": {}
        },
        {
          "output_type": "display_data",
          "data": {
            "text/plain": [
              "<IPython.core.display.Markdown object>"
            ],
            "text/markdown": "### Página 19"
          },
          "metadata": {}
        },
        {
          "output_type": "display_data",
          "data": {
            "text/plain": [
              "<IPython.core.display.Markdown object>"
            ],
            "text/markdown": "JuliaSantos@TheSpill\tresponde\tpara\tEvelynHugoWasASAint:\t Acho\tque você\ttem\trazão. Em\tminha\tdefesa,\tposso\tdizer\tque\tela\tcomeçou\ta ganhar\tmilhões\tsendo\tuma\tfigura\tfodona\tdo\tshowbiz\tnos\tanos\t60. E\tela\tnunca teria\tconseguido\tfazer\tisso\tsem\tbeleza\te\tsem\ttalento,\te\tjamais\tseria\ttão\tlinda\tsem aquelas\t BENDITAS\tSOBRANCELHAS . EvelynHugoWasASaint\tresponde\tpara\tJuliaSantos@TheSpill:\t Argh. Para\tser\tbem justa,\ta\t Vivant \tnão\tvai\tchegar\tnem\tperto\tda\tmatéria\tque\tvocê\tfaria. Evelyn\tdevia ter\tescolhido\tvocê. JuliaSantos@TheSpill\tresponde\tpara\tEvelynHugoWasASaint:\t Né?????"
          },
          "metadata": {}
        },
        {
          "output_type": "display_data",
          "data": {
            "text/plain": [
              "<IPython.core.display.Markdown object>"
            ],
            "text/markdown": "### Página 20"
          },
          "metadata": {}
        },
        {
          "output_type": "display_data",
          "data": {
            "text/plain": [
              "<IPython.core.display.Markdown object>"
            ],
            "text/markdown": "Tem\tum\tcasamento\tprecoce\tque\tterminou\tem\tdivórcio\tquando\tela\testava\tcom dezoito\tanos. Depois\ta\tpaquera\tno\tambiente\tdo\testúdio\te\to\tcasamento tumultuado\tcom\tDon\tAdler,\tda\telite\tde\tHollywood. Os\tboatos\tdizem\tque\ta separação\taconteceu\tporque\tele\tbatia\tnela. Em\tseguida\tveio\ta\tretomada,\tcom\tum filme\tda\tnouvelle\tvague\tfrancesa. A\tlinda\thistória\tde\tamor\tcom Harry\tCameron\te\to\tnascimento\tda\tfilha\tConnor. O\tdivórcio\tarrasador\te\ta\tunião quase\tàs\tpressas\tcom\tseu\tantigo\tdiretor,\tMax\tGirard. E\tfinalmente\to\tenlace\tcom\to\texecutivo\tdo\tmercado financeiro\tRobert\tJamison,\tque\tsegundo\tdizem\tse\tdeveu\tpelo\tmenos\tem\tparte\tà vontade\tde\tEvelyn\tde\tirritar\tsua\tantiga\tcolega\tCelia\tSt. Todos\tos\tmaridos\tdela\tjá\tmorreram,\tportanto\tEvelyn\té\ta\túnica\tfonte\tdisponível para\tfalar\tsobre\tesses\trelacionamentos. Depois\tde\ttrabalhar\taté\ttarde\tna\tredação,\tenfim\tchego\tem\tcasa,\tum\tpouco antes\tdas\tnove\tda\tnoite. Mas\té\tincrível\to\tquanto\tum\tlugarzinho de\tnada\tpode\tparecer\tgigante\tquando\tmetade\tdas\tsuas\tcoisas\tvai\tembora."
          },
          "metadata": {}
        },
        {
          "output_type": "display_data",
          "data": {
            "text/plain": [
              "<IPython.core.display.Markdown object>"
            ],
            "text/markdown": "### Página 21"
          },
          "metadata": {}
        },
        {
          "output_type": "display_data",
          "data": {
            "text/plain": [
              "<IPython.core.display.Markdown object>"
            ],
            "text/markdown": "Não\tchegamos\tnem\ta\tcomemorar\tum ano\tde\tcasados. Quando\tentro\te\tponho\ta\tbolsa\tno\tsofá,\tmais\tuma\tvez\tme\tdou\tconta\tde\tcomo foi\tmesquinho\tda\tparte\tdele\tlevar\ta\tmesinha\tembora. O\tapartamento\tem\tque David\tmora\thoje\tem\tSan\tFrancisco\tveio\ttodo\tmobiliado,\tcomo\tparte\tdo\tgeneroso pacote\tde\ttransferência\tque\tele\tganhou\tquando\tfoi\tpromovido. Desconfio\tque tenha\tcolocado\ta\tmesa\tnum\tdepósito,\tjunto\tcom\tum\tdos\tcriados-mudos\tque\tele dizia\tser\tseu\tpor\tdireito,\te\ttodos\tos\tnossos\tlivros\tde\treceitas. Mas,\tquando\tas\tcoisas\tvêm\tcom\tuma\tdedicatória escrita\t“Para\tMonique\te\tDavid,\tcom\tos\tvotos\tde\tmuitos\tanos\tde\tfelicidade”,\tfica meio\tclaro\tque\tsão\tmetade\tminhas\ttambém. Penduro\tmeu\tcasaco\te\tme\tpergunto,\tmais\tuma\tvez,\tqual\tdas\topções\tse aproxima\tmais\tda\tverdade:\tDavid\taceitou\to\tnovo\temprego\te\tfoi\tpara\tSan Francisco\t sem\tmim ? Ou\tfui\teu\tque\tme\trecusei\ta\tir\tembora\tde\tNova\tYork\t por\tele ? Peço\tum\tpad\tthai\tpara\to\tjantar\te\tentro\tno\tchuveiro. O\tlugar\tonde\tme\tsinto\tmais\tfeliz\té\tdebaixo\tde\tuma\tducha. É\taqui\tno meio\tdo\tvapor,\tcoberta\tde\tespuma,\tque\tconsigo\tnão\tme\tsentir\tMonique\tGrant,\ta mulher\tabandonada. Ou\tMonique\tGrant,\ta\tjornalista\tcom\tuma\tcarreira empacada. Sento\tno\tsofá\tcom\ta\tembalagem\te\ttento\tver\t TV ."
          },
          "metadata": {}
        },
        {
          "output_type": "display_data",
          "data": {
            "text/plain": [
              "<IPython.core.display.Markdown object>"
            ],
            "text/markdown": "### Página 22"
          },
          "metadata": {}
        },
        {
          "output_type": "display_data",
          "data": {
            "text/plain": [
              "<IPython.core.display.Markdown object>"
            ],
            "text/markdown": "Mas,\tquando\ta\tcomida\tacaba,\tpercebo\tque\té\tinútil. Em\tgeral\ttenho\ta\ttendência\tde\texagerar\tnos\tpreparativos. Ou melhor,\tsempre\tfui\tmeio\tcomo\tum\tavestruz,\tdisposta\ta\tenterrar\ta\tcabeça\tna\tareia para\tnão\tter\tque\tencarar\taquilo\tque\tnão\tquero. Então,\tpor\ttrês\tdias\tseguidos,\tnão\tfaço\tnada\talém\tde\tpesquisar\tsobre\tEvelyn Hugo. Vejo\ttantas\tvezes\to\t GIF \tcom\tela\tsaindo da\tágua\tem\t Boute-en-Train \tque\tquando\tvou\tdormir\ta\tcena\taparece\tnos\tmeus sonhos. E\tcomeço\ta\tme\tapaixonar\tpor\tela\tum\tpouco,\tbem\tpouquinho,\tao\tver\tesses filmes. Não\thá\tcomo\tnegar\tque\tse\ttrata\tde\tuma\tmulher\textraordinariamente\tbela. Os\tolhos\tsão\tenormes,\tmas\tnão\ttão\tredondos,\tcom\tformato\tmais amendoado. A\tpele\tbronzeada\tem\tcontraste\tcom\tos\tcabelos\tclaros\tlhe\tdá\tum\tar praieiro,\tmas\ttambém\telegante. Sem\tdúvida\tnenhuma\tessa\té\tparte\tda\trazão\tpor\tque\to\thistoriador\tdo\tcinema Charles\tRedding\tuma\tvez\tafirmou\tque\to\trosto\tde\tEvelyn\tparecia\t“inevitável."
          },
          "metadata": {}
        },
        {
          "output_type": "display_data",
          "data": {
            "text/plain": [
              "<IPython.core.display.Markdown object>"
            ],
            "text/markdown": "### Página 23"
          },
          "metadata": {}
        },
        {
          "output_type": "display_data",
          "data": {
            "text/plain": [
              "<IPython.core.display.Markdown object>"
            ],
            "text/markdown": "Abro\timagens\tde\tEvelyn\tnos\tanos\t50\tusando\tblusas\tapertadas\te\tsutiãs pontudos,\tfotografias\tpublicadas\tna\timprensa\tao\tlado\tde\tDon\tAdler\tno\tSunset Studios\tdepois\tque\tos\tdois\tse\tcasaram,\tretratos\tdela\tno\tinício\tdos\tanos\t60\tcom\tos cabelos\tbem\tcompridos\te\tlisos,\tfranja\tno\trosto\te\tusando\tshort\tcurto. Em\tuma\tfoto\tela\testá\tde\tmaiô\tbranco,\tsentada\tà\tbeira\tdo\tmar\tnuma\tpraia cristalina,\tcom\tum\tchapéu\tpreto\tde\taba\tlarga\tcobrindo\tquase\ttodo\to\trosto,\te\tos cabelos\tloiros\tpuxados\tpara\to\tlado\tesquerdo\tda\tcabeça,\tiluminados\tpelo\tsol. Ela\taparece\tsentada\tna\tprimeira\tpoltrona\tdo corredor,\tcom\tos\tcabelos\tpresos\tno\talto\tda\tcabeça,\tmas\tnão\ttotalmente\testicados. Evelyn\testá\tusando\tum\tvestido\tclaro\tde\trenda\tcom\tum\tdecote\tprofundo, revelador\tna\tmedida\tcerta,\tmostrando\ta\tperna\tdireita\tpela\tabertura\tda\tsaia. Os\tdois\tparecem fascinados,\tloucos\tpara\tpoder\tver\tum\tpouco\tmais. Talvez\teu\testeja\tindo\tlonge\tdemais\tnas\tobservações,\tmas\tessa\tfoto\tme\tfaz começar\ta\tpensar\tque\texiste\tum\tpadrão:\tEvelyn\tsempre\tdeixa\tas\tpessoas querendo\tver\tum\tpouco\tmais. Durante\tanos\tse\tcomentou\tque as\tcifras\taltíssimas\tarrecadas\tpelo\tfilme\tnas\tbilheterias\tsó\tforam\tpossíveis porque\tos\tcasais\tiam\tao\tcinema\tvárias\tvezes\tpara\trever\tessa\tcena. Ou\tela\tvai\tfazer comigo\to\tque\tfez\tdurante\tdécadas\tcom\tas\tplateias\tde\tcinema?"
          },
          "metadata": {}
        },
        {
          "output_type": "display_data",
          "data": {
            "text/plain": [
              "<IPython.core.display.Markdown object>"
            ],
            "text/markdown": "### Página 24"
          },
          "metadata": {}
        },
        {
          "output_type": "display_data",
          "data": {
            "text/plain": [
              "<IPython.core.display.Markdown object>"
            ],
            "text/markdown": "Será\tque\tEvelyn\tHugo\tvai\tme\tcontar\tapenas\to\tsuficiente\tpara\tme\tdeixar intrigada\tsem\trevelar\tnada\tde\tfato?"
          },
          "metadata": {}
        },
        {
          "output_type": "display_data",
          "data": {
            "text/plain": [
              "<IPython.core.display.Markdown object>"
            ],
            "text/markdown": "### Página 25"
          },
          "metadata": {}
        },
        {
          "output_type": "display_data",
          "data": {
            "text/plain": [
              "<IPython.core.display.Markdown object>"
            ],
            "text/markdown": "Acordo\tmeia\thora\tantes\tde\to\tdespertador\ttocar. Leio\tos\tmeus\te-mails, inclusive\tum\tde\tFrankie\tcom\to\ttítulo\t“ ME\tMANTENHA\tINFORMADA ”,\tgritando comigo\tem\tcaixa-alta. Prendo\tmeus\tcachos\tcompridos\te\tdensos\tnum\tcoque\tno\talto\tda cabeça. Deixo\tde\tlado\tas\tlentes\tde\tcontato\te\tescolho\tos\tóculos\tcom\ta\tarmação preta\tmais\tgrossa\tque\ttenho. Apesar\tde\tsempre\tter\tsido\tmagra,\tminha\tbunda\te\tminha\tcara\tsempre revelam\tquando\tsaio\tum\tpouco\tdo\tpeso. E\tcom\tDavid\t—\tnos\tdois\tanos\tde namoro\te\tnos\tonze\tmeses\tde\tcasamento\t—\tganhei\tvários\tquilinhos\textras. Em\tseguida\tsaio,\tdesço\tas\tescadas e\tpego\to\tmetrô\taté\ta\tárea\tmais\tnobre\tde\tManhattan. Evelyn\tmora\tperto\tda\tQuinta\tAvenida,\tcom\tvista\tpara\to\tCentral\tPark. Minha investigação\tna\tinternet\tfoi\textensa\to\tsuficiente\tpara\tdescobrir\tque\tela\ttambém\té proprietária\tde\tuma\tmansão\tà\tbeira-mar\tperto\tde\tMálaga,\tna\tEspanha. A\tcasa\tde\tpraia\tela\therdou\tquando\tRobert\tJamison morreu,\tquase\tcinco\tanos\tatrás."
          },
          "metadata": {}
        },
        {
          "output_type": "display_data",
          "data": {
            "text/plain": [
              "<IPython.core.display.Markdown object>"
            ],
            "text/markdown": "### Página 26"
          },
          "metadata": {}
        },
        {
          "output_type": "display_data",
          "data": {
            "text/plain": [
              "<IPython.core.display.Markdown object>"
            ],
            "text/markdown": "Assim\tque\tme\taproximo,\tsou\trecebida pelo\tporteiro,\tum\tsenhor\tmais\tvelho\tbonitão\tcom\tolhos\tsimpáticos\te\tsorriso gentil. Meu\tnome\té\tMonique Grant.” Ele\tsorri\te\tabre\ta\tporta\tpara\tmim. Está\tna\tcara\tque\ta\tminha\tvisita\tjá\ttinha\tsido comunicada. Grant”,\tele\tdiz\tantes\tde\tdesaparecer\tquando\ta\tporta do\televador\tse\tfecha. Toco\ta\tcampainha\tdo\tapartamento\tde\tEvelyn\tàs\tonze\tda\tmanhã\tem\tponto. Uma\tmulher\tde\tcalça\tjeans\te\tcamisa\tazul-marinho\tme\tatende. Tem\torigem\tasiática,\te\tos\tcabelos\tbem\tescuros presos\tnum\trabo\tde\tcavalo. Está\tsegurando\tuma\tpilha\tde\tcorrespondências abertas\tpela\tmetade. Parece\tser\tdo\ttipo\tque\tgosta\tmesmo\tde\tconhecer\toutras pessoas,\te\tsimpatizo\tcom\tela\tde\timediato,\tapesar\tda\tpromessa\tque\tfiz\tde\tme manter\tneutra\tem\trelação\ta\ttudo\tque\teu\touvir\thoje. Vamos\tentrando.” Grace\tdá\tum\tpasso\tpara\to\tlado\te\tme\tconvida\ta\tentrar. Coloco\ta\tbolsa\tno\tchão e\ttiro\to\tcasaco. “Pode\tpôr\tsuas\tcoisas\taqui”,\tela\tdiz,\tabrindo\tum\tcloset\tno\thall\tde\tentrada\te\tme entregando\tum\tcabide\tde\tmadeira."
          },
          "metadata": {}
        },
        {
          "output_type": "display_data",
          "data": {
            "text/plain": [
              "<IPython.core.display.Markdown object>"
            ],
            "text/markdown": "### Página 27"
          },
          "metadata": {}
        },
        {
          "output_type": "display_data",
          "data": {
            "text/plain": [
              "<IPython.core.display.Markdown object>"
            ],
            "text/markdown": "Ela\té\tlinda,\tmilionária, poderosa,\tsensual\te\tcharmosa. E\teu\tsou\tsó\tuma\tpessoa\tnormal. “Obrigada.”\tPenduro\tmeu\tcasaco\tno\tcabide, coloco\tde\tvolta\tno\tvarão\te\tdeixo\tque\tGrace\tfeche\ta\tporta. “Evelyn\testá\tlá\tem\tcima\tse\tarrumando. Grace\tme\tconduz\taté\tuma\tsala\tde\tvisitas. É\tum\tespaço\tiluminado\te\tarejado, com\tprateleiras\tbrancas\tcheias\tde\tlivros\tdo\tchão\taté\to\tteto\te\tduas\tpoltronas estofadas\tcor\tde\tcreme. “Como\tvocê\tprefere?” “O\tcafé?”,\tpergunto,\tinsegura. Ou\to\tque\tvocê\ttiver.”\tEu\ttento\tme\tcontrolar. “O\tque\testou\ttentando\tdizer\té\tque\tquero\tcom\tum\tpouco\tde\tcreme,\tse\tfor possível. Dá\tpara\tperceber\tque\testou\tnervosa?” Grace\tsorri. Mas\tvocê\tnão\ttem\tcom\tque\tse\tpreocupar. Mas\tjá\ttrabalhei\tpara\tmuita\tgente,\te\tposso\tgarantir\tque\tEvelyn\té\tuma pessoa\tacima\tda\tmédia.” “Ela\tpagou\tvocê\tpara\tdizer\tisso?”,\tpergunto. É\tpara\tser\tuma\tpiada,\tmas\tmeu tom\tde\tvoz\tsaiu\tum\tpouco\tmais\tacusatório\tdo\tque\tdeveria. “Ela\tpagou\tuma\tviagem\ta\tLondres\te\tParis\tpara mim\te\tmeu\tmarido\tcomo\tbônus\tde\tNatal\tno\tano\tpassado. Então,\tde\tum\tjeito meio\tindireto,\té,\tacho\tque\tela\tpagou,\tsim.” Minha\tnossa. Quando\tvocê\tpedir\tdemissão,\tme\tavisa que\teu\tvou\tquerer\tseu\temprego.”"
          },
          "metadata": {}
        },
        {
          "output_type": "display_data",
          "data": {
            "text/plain": [
              "<IPython.core.display.Markdown object>"
            ],
            "text/markdown": "### Página 28"
          },
          "metadata": {}
        },
        {
          "output_type": "display_data",
          "data": {
            "text/plain": [
              "<IPython.core.display.Markdown object>"
            ],
            "text/markdown": "E\to\tseu\tcafé\tcom\tum\tpouco\tde\tcreme\tchega\tdaqui\ta pouquinho.” Eu\tsento\te\tpego\tmeu\tcelular. Tem\tuma\tmensagem\tda\tminha\tmãe\tme desejando\tsorte. Toco\ta\ttela\tpara\tresponder,\te\tenquanto\testou\ttentando\timpedir que\to\tcorretor\tortográfico\ttransforme\ta\tpalavra\t“cedo”\tem\t“ceder”\touço\tpassos na\tescada. Quando\tme\tviro\tpara\tolhar,\tEvelyn\tHugo\testá\tvindo\tna\tminha direção,\tdo\talto\tdos\tseus\tsetenta\te\tnove\tanos. Está\tusando\tuma\tcalça\tpreta\tjusta\te\tuma\tblusa de\tlã\tcomprida\tpor\tcima,\tcinza\te\tazul-marinho. Continua\tmagrinha\tcomo sempre,\te\to\túnico\tindício\tde\tque\tfez\tplástica\tno\trosto\té\tque\tninguém\tdessa\tidade pode\tter\tuma\taparência\tassim\tsem\ta\tintervenção\tde\tum\tmédico. Nos\tpontos\tonde\tseu\trosto\tera\tmais\tangulado,\thoje\té\tum pouco\tcôncavo,\tmas\tum\tleve\ttoque\tde\tmaquiagem\trosada\tdisfarça\tbem\tisso. Os lábios\ttêm\tum\ttom\tnude\te\tescuro. Os\tcabelos\tchegam\taté\tlogo\tabaixo\tdos\tombros\t—\tnuma\tbela\tmistura\tde branco,\tgrisalho\te\tloiro,\tcom\tas\tcores\tmais\tclaras\temoldurando\to\trosto. Com certeza\ttem\ttrês\ttipos\tde\ttintura\tali,\tmas\to\tefeito\taparente\té\tde\tuma\tmulher\tque está\tenvelhecendo\tcom\telegância\te\ttem\to\tcostume\tde\ttomar\tsol. As\tsobrancelhas,\tporém\t—\taquelas\tlinhas\tgrossas,\tescuras\te\tperfeitas\tque eram\tsua\tmarca\tregistrada\t—,\tafinaram\tcom\ta\tpassagem\tdo\ttempo. Por\tum\tinstante\tfico\tsurpresa\tcom\tsua\tmaneira\tinformal\te\tconfiante\tde\tme chamar\tpelo\tnome,\tcomo\tse\tme\tconhecesse\thá\tanos."
          },
          "metadata": {}
        },
        {
          "output_type": "display_data",
          "data": {
            "text/plain": [
              "<IPython.core.display.Markdown object>"
            ],
            "text/markdown": "### Página 29"
          },
          "metadata": {}
        },
        {
          "output_type": "display_data",
          "data": {
            "text/plain": [
              "<IPython.core.display.Markdown object>"
            ],
            "text/markdown": "demonstração\tsingular\tde\tafirmação\tdizer\to\tpróprio\tnome\ttendo\tplena consciência\tde\tque\ta\toutra\tpessoa,\tassim\tcomo\to\tmundo\tinteiro,\tjá\tsabe\tquem você\té. Grace\taparece\tcom\tuma\txícara\tbranca\tde\tcafé\tsobre\tum\tpires\tda\tmesma\tcor. Com\tum\tpouquinho\tde\tcreme.” “Muito\tobrigada”,\tdigo\tao\taceitar. “Vamos\tpara\ta\tsala\tde\testar,\tonde\té\tmais confortável.” Quando\tpego\tminha\tbolsa,\tEvelyn\ttira\to\tcafé\tda\tminha\tmão\te\to\tleva\tpara mim. É\timpossível não\tpensar\tnisso\tagora,\tquando\tela\tsegura\to\tcafé\tpara\tmim. Entramos\tnuma\tsala\tgrande\te\tcheia\tde\tluz\tnatural,\tcom\tjanelas\tque\tvão\tdo chão\tao\tteto. Diante\tde\tum\tsofá\tazul-ardósia,\thá\tduas\tpoltronas\tcinza-claras. O carpete\tsob\tnossos\tpés\té\tbem\tgrosso,\tde\tuma\tcoloração\tviva\tde\tmarfim,\te conduz\tmeus\tolhos\ta\tum\tpiano\tpreto\tde\tcauda,\taberto\tsob\ta\tluz\tque\tentra\tpelas janelas. Nas\tparedes\thá\tduas\tampliações\tem\tpreto\te\tbranco. A\tfoto\tque\testá\tacima\tdo\tsofá\tretrata\tHarry\tCameron\tnum\tset\tde\tfilmagem. Formam\ta\timagem\tos\trostos\tde\tEvelyn,\tCelia\tSt. As\tquatro\tdeviam\tser\tconhecidas\tnos\tanos\t50,\tmas\tapenas\tEvelyn\te Celia\tresistiram\tao\tteste\tdo\ttempo. Reparando\tbem,\tEvelyn\te\tCelia\tparecem brilhar\tmais\tque\tas\toutras. “Fique\tà vontade”,\tela\tdiz\tenquanto\tse\tacomoda\tem\tuma\tdas\tpoltronas\testofadas,"
          },
          "metadata": {}
        },
        {
          "output_type": "display_data",
          "data": {
            "text/plain": [
              "<IPython.core.display.Markdown object>"
            ],
            "text/markdown": "### Página 30"
          },
          "metadata": {}
        },
        {
          "output_type": "display_data",
          "data": {
            "text/plain": [
              "<IPython.core.display.Markdown object>"
            ],
            "text/markdown": "“Então\tvocê\testá\tleiloando\tseus\tvestidos”,\tdigo\tenquanto\tme\tajeito. É\tquando\tEvelyn\tdiz:\t“Na\tverdade,\teu\tchamei\tvocê\taqui\tsob\tum\tfalso pretexto”. Olho\tbem\tpara\tela,\tcom\ta\tcerteza\tde\tque\touvi\tmal. “Como\té?” Evelyn\tse\tremexe\tna\tpoltrona\te\tme\tencara. “Não\ttenho\tmuito\to\tque\tdizer sobre\tentregar\tum\tmonte\tde\tvestidos\tpara\ta\tChristie’s\tvender.” “Bom,\tentão…” “Chamei\tvocê\taqui\tpara\tconversar\tsobre\toutra\tcoisa.” “E\to\tque\tseria?” “Minha\thistória\tde\tvida.” “Sua\thistória\tde\tvida?”,\trepito,\tatordoada,\ttendo\tque\tme\tesforçar\tpara acompanhar\to\trumo\tda\tconversa. “Você\tquer\tdar\tuma\tentrevista\tsem censura\tpara\ta\t Vivant ?” “Não”,\tela\tresponde. “Você\tquer\tabrir\to\tjogo\tsobre\tsua\tvida,\te\tvai\tfazer\tisso\tcomigo,\tmas\tnão\tpara a\t Vivant ?” Evelyn\tconfirma\tcom\ta\tcabeça."
          },
          "metadata": {}
        },
        {
          "output_type": "display_data",
          "data": {
            "text/plain": [
              "<IPython.core.display.Markdown object>"
            ],
            "text/markdown": "### Página 31"
          },
          "metadata": {}
        },
        {
          "output_type": "display_data",
          "data": {
            "text/plain": [
              "<IPython.core.display.Markdown object>"
            ],
            "text/markdown": "“Qual\té\texatamente\ta\tsua\tproposta?”\tNão\texiste\ta\tmenor\tpossibilidade\tde\teu ter\tentrado\tpor\tacaso\tnuma\tsituação\tem\tque\tuma\tdas\tpessoas\tmais\tintrigantes\tdo mundo\testeja\tme\toferecendo\tsua\thistória\tde\tvida\t sem\tmotivo\tnenhum . Tem alguma\tcoisa\taqui\tque\tainda\tnão\tsei. Mas,\tsendo\tbem\tsincera,\tprincipalmente\tpara\tvocê.” “De\tque\tnível\tde\tprofundidade\testamos\tfalando?”\tE\tse\tela\tquiser\tsó\tuma retrospectiva\tatualizada? Ou\tuma\tmatéria\tchapa-branca\tpublicada\tpor\tum veículo\tde\tsua\tescolha? Estou\tme\tsentindo\tuma\tidiota\tpor\tter\tvindo\taqui\tachando\tque\tela\tia\tse\tlimitar a\tresponder\tperguntas\tsobre\tvestidos. Ponho\to\tcaderninho\tna\tminha\tfrente\te baixo\ta\tcaneta. Quero\tlidar\tcom\tisso\tda\tmaneira\tmais\tperfeita\tpossível. “Então,\tse\tentendi\tdireito,\to\tque\tvocê\testá\tme\tdizendo\té\tque\tpretende confessar\tseus\tinúmeros\tpecados…” A\tpostura\tde\tEvelyn,\tque\taté\tentão\tvinha\tse\tmostrando\trelaxada\te\ttranquila,\tse altera. Isso\ttudo\té\tuma\tsituação\tmeio\tsurreal\tpara\tmim.” “Pode\tme\tchamar\tde\tEvelyn”,\tela\tdiz. “Certo,\tEvelyn,\tentão\tqual\tseria\to\tpróximo\tpasso? O\tque\texatamente\tnós vamos\tfazer\tjuntas?”\tPego\ta\txícara\te\tlevo\taos\tlábios,\tdando\tum\tgolinho\tde\tnada."
          },
          "metadata": {}
        },
        {
          "output_type": "display_data",
          "data": {
            "text/plain": [
              "<IPython.core.display.Markdown object>"
            ],
            "text/markdown": "### Página 32"
          },
          "metadata": {}
        },
        {
          "output_type": "display_data",
          "data": {
            "text/plain": [
              "<IPython.core.display.Markdown object>"
            ],
            "text/markdown": "“Não\tvai\tser\tuma\tmatéria\tde\tcapa\tpara\ta\t Vivant ”,\tela\tavisa. “Sim,\tessa\tparte\teu\tentendi”,\trespondo,\tbaixando\ta\txícara. Sua\tescrita\ttem um\testilo\tsem\tfrescuras\tque\tadmiro\te\tacho\tque\tseria\tbom\tpara\to\tmeu\tlivro.” “Está\tme\tpedindo\tpara\tser\ta\tghost-writer\tda\tsua\tbiografia?”\tIsso\té\tfantástico. Essa\t sim \té\tuma\tboa\trazão\tpara\tcontinuar em\tNova\tYork. Coisas\tdesse\ttipo\tnão\tacontecem\tem\tSan Francisco. Evelyn\tfaz\tque\tnão\tcom\ta\tcabeça\toutra\tvez. “Vou\tentregar\tminha\thistória\tde vida\tnas\tsuas\tmãos,\tMonique. É isso\tque\tsignifica\tser\tghost-writer.”\tPego\ta\txícara\tde\tnovo. “Ai,\tmeu\tDeus”,\texclamo,\ttalvez\talto\tdemais,\tquando\tponho\ta\txícara\tde\tvolta no\tpires. “Derrubei\tcafé\tno\tseu\tcarpete.” Evelyn\treleva\to\tocorrido\tcom\tum\tgesto\tde\tmão,\tmas\tGrace\tbate\tna\tporta\te abre\tuma\tfresta,\tpor\tonde\tenfia\ta\tcabeça. “Está\ttudo\tbem?” “Eu\tfiz\tuma\tsujeira\taqui,\tperdão”,\tdigo. Grace\tescancara\ta\tporta\te\tentra\tpara\tolhar. Eu\tlevei\tum\tsusto\taqui,\tsó\tisso.” Miro\tos\tolhos\tde\tEvelyn\te,\tapesar\tde\tnão\ta\tconhecer\tmuito\tbem,\tsinto\tque\tela está\ttentando\tme\tmandar\tficar\tquieta."
          },
          "metadata": {}
        },
        {
          "output_type": "display_data",
          "data": {
            "text/plain": [
              "<IPython.core.display.Markdown object>"
            ],
            "text/markdown": "### Página 33"
          },
          "metadata": {}
        },
        {
          "output_type": "display_data",
          "data": {
            "text/plain": [
              "<IPython.core.display.Markdown object>"
            ],
            "text/markdown": "“Está\tcom\tfome,\tMonique?”,\tpergunta\tEvelyn,\tpondo-se\tde\tpé. “Como\té?” “Tem\tum\tlugar\taqui\tna\trua\tque\tfaz\tumas\tsaladas\tótimas. Eu\tpago.” Ainda\tnão\té\thora\tdo\talmoço\te,\tquando\tfico\tansiosa,\ta\tprimeira\tcoisa\tque desaparece\té\to\tmeu\tapetite,\tmas\taceito\tmesmo\tassim,\tporque\tfico\tcom\ta\tnítida impressão\tde\tque\tnão\tfoi\tuma\tpergunta. “Grace,\tvocê\tliga\tno\tTrambino’s\tpara\tavisar?” Evelyn\tpõe\ta\tmão\tno\tmeu\tombro\te,\tmenos\tde\tdez\tminutos\tdepois,\testamos caminhando\tpelas\tcalçadas\tbem\tconservadas\tdo\tUpper\tEast\tSide. À\tluz\tdo\tsol,\tfica\tmais\tfácil\tver\tos\tsinais\tde\tenvelhecimento. O azul-claro\tdas\tveias\tque\tas\tatravessam\tme\tfaz\tlembrar\tda\tminha\tavó. “Só\tquis\tdizer\tque\tquero\tque\tvocê\tpublique\tminha\tbiografia autorizada,\tcomo\tautora,\tquando\teu\tmorrer.” “Certo”,\trespondo,\tcomo\tse\tfosse\ta\tcoisa\tmais\tnatural\tdo\tmundo\touvir\taquilo. Você\tvai\tmorrer,\teu\tvou\tmorrer,\taquele\tcara vai\tmorrer.” Ela\taponta\tpara\tum\thomem\tde\tmeia-idade\tque\tpasseia\tcom\tum\tcachorro\tpreto bem\tpeludo. Ele\tescuta,\tvê\to\tdedo\tapontado\tem\tsua\tdireção\te\tpercebe\tquem\testá falando. Entramos\tno\trestaurante,\tdescendo\tos\tdois\tdegraus\tque\tdão\tna\tporta. Ela\tsimplesmente sabe\tpara\tonde\tquer\tir,\te\to\tresto\tdo\tmundo\tque\tse\tadapte."
          },
          "metadata": {}
        },
        {
          "output_type": "display_data",
          "data": {
            "text/plain": [
              "<IPython.core.display.Markdown object>"
            ],
            "text/markdown": "### Página 34"
          },
          "metadata": {}
        },
        {
          "output_type": "display_data",
          "data": {
            "text/plain": [
              "<IPython.core.display.Markdown object>"
            ],
            "text/markdown": "“Uma\tsalada\tverde\testá ótimo,\tobrigada.” Troy\tsorri\te\tsai. “Você\tvai\tgostar\tda\tsalada”,\tdiz\tEvelyn,\tcomo\tse\tfôssemos\tduas\tamigas\tem um\tbate-papo\tcasual. “Muito\tbem”,\tdigo,\ttentando\tassumir\tas\trédeas\tda\tconversa. “Me\tconta\tmais sobre\tesse\tlivro\tque\tvamos\tescrever.” “Já\tcontei\ttudo\to\tque\tvocê\tprecisa\tsaber.” “Na\tverdade,\tsó\tque\teu\tvou\tescrever\te\tque\tvocê\tvai\tmorrer.” “Você\tprecisa\ttomar\tmais\tcuidado\tcom\tseu\tjeito\tde\texpressar\tas\tcoisas.” Eu\taté\tposso\testar\tfora\tdo\tmeu\thabitat\t—\te\tminha\tvida\tnão\tanda\tlá\tessas maravilhas\t—,\tmas\tse\ttem\tuma\tcoisa\tque\tsei\tbem\té\tcomo\tme\tcomunicar. Mas\tgaranto\tque\tsou\tmuito cuidadosa\tcom\tas\tminhas\tpalavras.” Evelyn\tencolhe\tos\tombros. É\tuma\tconversa\tque\tmuda\tmuito\tpouca\tcoisa\tna vida\tdela. “Você\té\tjovem,\te\ta\tsua\tgeração\ttem\tesse\tcostume\tde\tusar\tpalavras\tcom um\tsignificado\tmuito\tforte\tde\tuma\tforma\tbem\tleviana.” “Entendi.” “E\teu\tnão\tfalei\tnada\tsobre\tconfessar\t pecados . Não\tme\tarrependo\tde\tnada\tdo\tque\tfiz\t— pelo\tmenos\tdas\tcoisas\tque\tseriam\tde\tesperar\t—,\tpor\tmais\tdifíceis\te\trepugnantes que\tpossam\tparecer\tquando\tforem\texpostas.” “ Je\tne\tregrette\trien ”,\tdigo,\tdando\tum\tgole\tna\tminha\tágua. “Apesar\tde\tessa\tmúsica\tter\tmais\ta\tver\tcom não\tter\tarrependimentos\tporque\tnão\tse\tpode\tviver\tde\tpassado."
          },
          "metadata": {}
        },
        {
          "output_type": "display_data",
          "data": {
            "text/plain": [
              "<IPython.core.display.Markdown object>"
            ],
            "text/markdown": "### Página 35"
          },
          "metadata": {}
        },
        {
          "output_type": "display_data",
          "data": {
            "text/plain": [
              "<IPython.core.display.Markdown object>"
            ],
            "text/markdown": "dizendo\té\tque\teu\ttomaria\tvárias\tdessas\tdecisões\tde\tnovo\thoje. Sendo\tbem\tclara, eu\ttenho\tarrependimentos,\t sim . Não\tme arrependo\tdas\tmentiras\tque\tcontei,\tou\tde\tter\tmagoado\tas\tpessoas. Porque\tsei\tque\ttenho\tmeus\tmotivos,\te\tfiz\tmeu\tmelhor\tpara\tlidar\tcom os\tpensamentos\te\tsentimentos\tque\tme\ttrouxeram\taté\tonde\testou.” “Você\tse\tofendeu\tcom\ta\tpalavra\t‘pecado’\tporque\tela\timplica\tque\ttem\tcoisas\ta lamentar.” Nossa\tsalada\tchega,\te\tTroy\tmói\tum\tpouco\tde\tpimenta\tsobre\to\tprato\tde\tEvelyn sem\tdizer\tnada,\taté\tela\tlevantar\ta\tmão\tpara\tinterrompê-lo\te\tabrir\tum\tsorriso. “A\tgente\tpode\tlamentar\talgumas\tcoisas\tsem\tnecessariamente\tse\tarrepender delas”,\tdiz\tEvelyn. E\tespero\tmerecer\tum\tvoto\tde\tconfiança\tda sua\tparte,\tagora\tque\testamos\tpondo\ttudo\tem\tpratos\tlimpos. Apesar\tde\texistirem várias\tformas\tde\tinterpretar\to\tque\tvocê\testá\tme\tdizendo.” Evelyn\tergue\to\tgarfo,\tmas\tnão\tfaz\tnada\tcom\tele. “Acho\tmuito\timportante, para\tuma\tjornalista\tque\tvai\tter\tmeu\tlegado\tnas\tmãos,\tcomunicar\texatamente\to que\teu\tquis\tdizer\tcom\tcada\tcoisa\tque\tfalei”,\tdiz. “Se\teu\tfor\tcontar\tminha\tvida para\tvocê,\to\tque\trealmente\taconteceu,\ta\tverdade\tpor\ttrás\tde\ttodos\tos\tmeus casamentos,\tos\tmeus\tfilmes,\tos\tmeus\tamores,\tos\tmeus\tamantes,\tas\tpessoas\tque magoei,\tas\tcoisas\tque\ttive\tque\taceitar\te\tas\tconsequências\tde\ttudo\tisso,\tentão preciso\tsaber\tque\testou\tsendo\t entendida . Preciso\tter\tcerteza\tde\tque\tvocê\tvai ouvir\t exatamente \to\tque\testou\tdizendo,\te\tnão\tsair\ttirando\tsuas\tpróprias conclusões\ta\trespeito\tda\tminha\thistória.” Eu\testava\tenganada. Essa\tnão\té\tuma\tconversa\tque\tmuda\tmuito\tpouca\tcoisa\tna vida\tdela."
          },
          "metadata": {}
        },
        {
          "output_type": "display_data",
          "data": {
            "text/plain": [
              "<IPython.core.display.Markdown object>"
            ],
            "text/markdown": "### Página 36"
          },
          "metadata": {}
        },
        {
          "output_type": "display_data",
          "data": {
            "text/plain": [
              "<IPython.core.display.Markdown object>"
            ],
            "text/markdown": "Mas\tagora,\tneste\tmomento\tem\tque\tela\testá\tse\tesforçando para\tser\tbem\tespecífica,\tme\tdou\tconta\tde\tque\ttudo\tisso\té\t real . É\tum\tgrande\tpoder\tque\tela\testá\tme\tconcedendo. “Claro,\tfaz\ttodo\to\tsentido,\te\tme\tdesculpe\tse\teu\ttratei\ta questão\tcomo\tse\tfosse\tuma\tbanalidade.” Evelyn\tfaz\tum\tgesto\tcom\ta\tmão. Essa\té\ta\tnova\tonda.” “Tudo\tbem\tse\teu\tfizer\tmais\talgumas\tperguntas? Quando\tme\tsituar\tmelhor, prometo\tme\tconcentrar\tsó\tno\tque\tme\tcontar\te\tno\tsignificado\tde\ttudo,\tpara\tque você\tse\tsinta\tcompreendida\ta\tponto\tde\tachar\tque\tnão\texista\tninguém\tmais apropriado\tpara\ta\ttarefa\tde\trevelar\tseus\tsegredos\tdo\tque\teu.” Minha\tsinceridade\ta\tdeixa\tdesconcertada\tpor\tum\tbrevíssimo\tinstante. “Pode começar”,\tela\tdiz\tenquanto\tdá\tuma\tgarfada\tna\tsalada. Eu\tvou\testar\tmorta,\tné.” “Pois\té,\tvocê\tjá\ttinha\tdito\tisso.” “Próxima\tpergunta.” Eu\tme\tinclino\tpara\ta\tfrente,\tnuma\tpostura\tconfabulatória. “Me\tperdoe\tpor colocar\ta\tcoisa\tem\ttermos\ttão\tvulgares,\tmas\tqual\té\to\tcronograma\tque\tvocê imagina? Eu\tpreciso\tsegurar\to\tlivro\tpor\tquantos\tanos\taté\tvocê…” “Morrer?” “Bom…\té”,\tdigo."
          },
          "metadata": {}
        },
        {
          "output_type": "display_data",
          "data": {
            "text/plain": [
              "<IPython.core.display.Markdown object>"
            ],
            "text/markdown": "### Página 37"
          },
          "metadata": {}
        },
        {
          "output_type": "display_data",
          "data": {
            "text/plain": [
              "<IPython.core.display.Markdown object>"
            ],
            "text/markdown": "“Quê?” “Próxima\tpergunta,\tpor\tfavor.” “Você\tnão\tme\trespondeu\tessa.” Evelyn\tfica\tmuda. “Certo,\tentão\tque\ttipo\tde\tbenefício\tfinanceiro\texiste\tpara\tmim?” “Uma\tpergunta\tmuito\tmais\tinteressante,\tcom\tcerteza,\te\tnão\tsei\tpor\tque\tvocê demorou\ttanto\tpara\ttocar\tno\tassunto.” “Bom,\tagora\teu\tperguntei.” “Você\te\teu\tvamos\tnos\treunir\tpor\tquantos\tdias\tforem\tnecessários,\te\tvou\tcontar absolutamente\ttudo. Depois\tnossas\trelações\tvão\tser\tcortadas,\te\tvocê\tvai\testar livre\tpara\tescrever\to\tlivro\t—\tou\tmelhor,\tvai\tter\ta\tobrigação\tde\tfazer\tisso\t—\te vender\tpara\ta\teditora\tque\tfizer\ta\tmelhor\toferta. Faço\tquestão\tde\tque\tvocê\tseja\timplacável\tnessa\tnegociação, Monique. Eles\tprecisam\toferecer\to\tmesmo\tque\tpagariam\tpara\tum\thomem branco. “É\tmelhor\tvocê\ttomar\tum\tgole\td’água. Está\tparecendo\tque\tvai\tdesmaiar.” “Evelyn,\tuma\tbiografia\tautorizada\tsua,\tfalando\tsobre\tos\tsete\tcasamentos…” “Sim?” “Um\tlivro\tcomo\tesse\tvale\tmilhões\tde\tdólares,\tmesmo\tse\teu\tnão\tabrir negociação\tnenhuma.” “Mas\tvocê\tvai\tfazer\tisso”,\tdiz\tEvelyn,\tdando\tum\tgole\tem\tsua\tágua\te parecendo\tbem\tsatisfeita\tconsigo\tmesma."
          },
          "metadata": {}
        },
        {
          "output_type": "display_data",
          "data": {
            "text/plain": [
              "<IPython.core.display.Markdown object>"
            ],
            "text/markdown": "### Página 38"
          },
          "metadata": {}
        },
        {
          "output_type": "display_data",
          "data": {
            "text/plain": [
              "<IPython.core.display.Markdown object>"
            ],
            "text/markdown": "“Estou\tfalando\tsério,\tMonique,\tpróxima\tpergunta.” Derrubo\tmeu\tgarfo\tsem\tquerer\tsobre\ta\ttoalha\tcor\tde\tmarfim. A\tsalada verde\té\tdeliciosa,\tmas\tveio\tum\tpouco\tcarregada\tna\tcebola,\te\tconsigo\tsentir\ta acidez\tdo\tmeu\thálito\ttomando\to\tespaço\tao\tmeu\tredor. “Não\tquero\tparecer\tingrata,\tmas\tacho\tque\tmereço\tsaber\tpor\tque\tuma\tdas atrizes\tmais\tfamosas\tde\ttodos\tos\ttempos\tme\ttiraria\tda\tobscuridade\tpara\tescrever sua\tbiografia\te\tme\tdaria\ta\toportunidade\tde\tganhar\tmilhões\tde\tdólares\tcontando sua\thistória.” “O\t Huffington\tPost \tespeculou\tque\tuma\tautobiografia\tminha\tpoderia\trender um\tcontrato\tde\taté\tdoze\tmilhões.” “Meu\tDeus.” “Tem\tmuita\tgente\tpor\taí\tquerendo\tsaber,\tacho.” O\tjeito\tcomo\tEvelyn\tparece\testar\tse\tdivertindo\tcom\ta\tsituação,\tseu\tprazer aparente\tem\tme\tdeixar\tchocada,\tdão\ta\tentender\tque\tse\ttrata,\tno\tmínimo,\tem certo\tsentido,\tde\tum\tjoguinho\tde\tpoder. Ela\tgosta\tde\ttratar\tcom\tdesdém\tcoisas que\tpodem\tmudar\ta\tvida\tdas\tpessoas. Ver\tas pessoas\tse\tmatarem\tpor\tcoisas\tque\tnão\tsignificam\tnada\tpara\tvocê? “Doze\tmilhões\té\tmuito\tdinheiro,\tnão\tme\tentenda\tmal…”,\tela\tdiz,\te\tnem precisa\tterminar\ta\tfrase\tpara\tque\tseu\tsentido\tse\tcomplete\tna\tminha\tmente. “Próxima\tpergunta.” “Com\ttodo\to\trespeito,\tvocê\tnão\testá\tsendo\tmuito\tjusta\tcomigo.” “Estou\toferecendo\tuma\tchance\tpara\tvocê\tganhar\tuma\tfortuna\te\talavancar\tsua carreira\tpara\ta\testratosfera. Por\toutro,\tEvelyn\tnão está\tme\toferecendo\tabsolutamente\tnada\tde\tconcreto."
          },
          "metadata": {}
        },
        {
          "output_type": "display_data",
          "data": {
            "text/plain": [
              "<IPython.core.display.Markdown object>"
            ],
            "text/markdown": "### Página 39"
          },
          "metadata": {}
        },
        {
          "output_type": "display_data",
          "data": {
            "text/plain": [
              "<IPython.core.display.Markdown object>"
            ],
            "text/markdown": "Meu trabalho\té\ta\túnica\tcoisa\tque\ttenho\tno\tmomento. “Eu\tnão\testou\t ofendida .”\tSó\ta\tinsinuação\tde\tque\teu tenho\to\tpoder\tde\ttirá-la\tdo\tsério\tjá\ta\ttira\tdo\tsério. “Tem\tum\tmonte\tde\tcoisas\tque\tpreciso\tlevar\tem\tconta”,\tdigo. Eu\tposso\tme\trevelar\tum\tfracasso\ttotal\tna\thora\tde escrever. Eles\tacham\tque vão\tpublicar\tuma\tentrevista\texclusiva\tsua. Devem\testar\tinclusive\tselecionando fotógrafos\tneste\texato\tmomento.” “Eu\tpedi\tque\tThomas\tWelch\tnão\tprometesse\tnada. Porque\tagora\teu\tsei\tque\tvocê\tnão\ttem\ta\tmenor intenção\tem\tcolaborar\tcom\ta\trevista.” “E\tdaí?” “Então\to\tque\teu\tfaço? Volto\tpara\ta\tredação\te\tdigo\tpara\tminha\tchefe\tque\tvocê não\tvai\tfalar\tcom\ta\t Vivant ,\te\tque\tem\tvez\tdisso\tnós\tvamos\tescrever\tum\tlivro? “Mas\té\tpor\tisso\tque\tpreciso\ttirar\tum\ttempo\tpara\tpensar. Porque\tpara\t mim \tisso é\tum\tproblema.” Evelyn\tentende\to\tque\testou\tdizendo."
          },
          "metadata": {}
        },
        {
          "output_type": "display_data",
          "data": {
            "text/plain": [
              "<IPython.core.display.Markdown object>"
            ],
            "text/markdown": "### Página 40"
          },
          "metadata": {}
        },
        {
          "output_type": "display_data",
          "data": {
            "text/plain": [
              "<IPython.core.display.Markdown object>"
            ],
            "text/markdown": "“Você\testá\ttendo\ta\toportunidade\tda\tsua\tvida,\tMonique. Não\tse\tpreocupe\ttanto\tem\tfazer\ta\tcoisa\tcerta\tquando\ta\tescolha\tmais\tinteligente se\tmostra\tde\tuma\tforma\ttão\tóbvia.” “Você\tnão\tacha\tque\teu\tpreciso\tser\thonesta\tcom\tmeus\tpatrões\tnesse\tcaso? “Quando\tminha\tassessoria\tcitou\tseu\tnome, eles\tresponderam\tsugerindo\tpessoas\tmais\ttarimbadas. Só\tconcordaram\tem mandar\tvocê\tquando\tdeixei\tbem\tclaro\tque\teu\tnão\tfalaria\tcom\tmais\tninguém. Sabe\tpor\tque\tfizeram\tisso?” “Porque\teles\tnão\tacreditam\tque\teu…” “Porque\teles\tagem\tem\tbenefício\tdos\tpróprios\tinteresses. No\tmomento\tvocê\ttem\tuma\tchance\tde\tse\tbeneficiar\tabsurdamente. Vai morrer\ttudo\tcomigo,\tnesse\tcaso.” “Por\tque\tsó\t eu \tposso\tcontar\ta\thistória\tda\tsua\tvida? Isso\tnão\tfaz\tsentido.” “Não\ttenho\ta\tmínima\tobrigação\tde\tfazer\tsentido\tpara\tvocê.” “O\tque\testá\tpor\ttrás\tdisso\ttudo,\tEvelyn?” “Você\tfaz\tperguntas\tdemais.” “Estou\taqui\tpara\tentrevistar\tvocê.” “Mesmo\tassim.”\tEla\tbeberica\ta\tágua,\tengole\te\tme\tolha\tbem\tnos\tolhos. Mas\tsó\tvou\tfalar\tsobre\tessas coisas\tquando\teu\tquiser. Sou\teu\tquem\tdá\tas\tcartas\tpor\taqui."
          },
          "metadata": {}
        },
        {
          "output_type": "display_data",
          "data": {
            "text/plain": [
              "<IPython.core.display.Markdown object>"
            ],
            "text/markdown": "### Página 41"
          },
          "metadata": {}
        },
        {
          "output_type": "display_data",
          "data": {
            "text/plain": [
              "<IPython.core.display.Markdown object>"
            ],
            "text/markdown": "Quando\tpenso\ta\trespeito,\tpercebo\tque\teu\tseria\tuma\tidiota\tcompleta\tse deixasse\tessa\tchance\tpassar,\tnão\timporta\tquais\tsejam\tos\ttermos\tdela. Foi\tpor\tquerer\tsubir\tna\tcarreira\to\tmáximo\tpossível. Fiz\tisso\tporque algum\tdia\tquero\tver\to\tmeu\tnome,\to\tnome\tque\tmeu\tpai\tme\tdeu,\timpresso\tem letras\tgarrafais. Fico\tfeliz\tem\tsaber.”\tOs\tombros\tde\tEvelyn\trelaxam,\te\tela pega\ta\tágua\tde\tnovo,\tcom\tum\tsorriso. “Acho\tque\tgostei\tde\tvocê,\tMonique”,\tela diz. Respiro\tfundo,\te\tsó\tentão\tpercebo\tcomo\testava\tcom\ta\trespiração\tacelerada."
          },
          "metadata": {}
        },
        {
          "output_type": "display_data",
          "data": {
            "text/plain": [
              "<IPython.core.display.Markdown object>"
            ],
            "text/markdown": "### Página 42"
          },
          "metadata": {}
        },
        {
          "output_type": "display_data",
          "data": {
            "text/plain": [
              "<IPython.core.display.Markdown object>"
            ],
            "text/markdown": "Eu\tdeveria\tusar\tesse\ttempo\tlivre\tpara\tfalar\tcom\tFrankie. Preciso\tdecidir\tcomo\tlidar\tcom\ta\tsituação. Como\tgarantir\tque\tela\tnão\ttente arrancar\tessa\tchance\tde\tmim? Meu\túnico\tplano\tde\tação\té\tmentir. Uma\tdas\tminhas\tprimeiras\tlembranças\tde\tinfância\té\tde\tter\tido\tcom\tmeus\tpais à\tpraia\tem\tZuma\tBeach,\tem\tMalibu. Minha\tmãe\tficou\tna\tareia,\testendendo\ta\ttoalha\te\tfixando\to\tguarda-sol, enquanto\tmeu\tpai\tme\tpegou\tno\tcolo\te\tcorreu\tcomigo\taté\ta\tbeira\td’água. Lembro de\tme\tsentir\tlevíssima\tnos\tbraços\tdele. E,\tquando\tele\tpôs\tmeus\tpés\tna\tágua,\tdei um\tgrito,\tdizendo\tque\testava\tgelada\tdemais. Mas\taí\tfalou:\t“Respire\tfundo\tcinco vezes. Depois\tdisso,\taposto\tque\tnão\tvai\tsentir\ttanto\tfrio”. Vi\tquando\tele\tcolocou\tos\tpés\tna\tágua. Então\tpus\tos\tpés\tde volta\te\tfiz\ta\tmesma\tcoisa. Depois\tdisso,\tmeu\tpai\tpassou\ta\trespirar\tcomigo\ttodas\tas\tvezes\tem\tque\teu\tme via\tà\tbeira\tdas\tlágrimas."
          },
          "metadata": {}
        },
        {
          "output_type": "display_data",
          "data": {
            "text/plain": [
              "<IPython.core.display.Markdown object>"
            ],
            "text/markdown": "### Página 43"
          },
          "metadata": {}
        },
        {
          "output_type": "display_data",
          "data": {
            "text/plain": [
              "<IPython.core.display.Markdown object>"
            ],
            "text/markdown": "Ainda\té\tdoloroso\tpensar\tnesses momentos,\tmesmo\tdepois\tde\ttantos\tanos. Então,\tquando\tme\tacalmo,\tpego\to\tcelular\te\tligo\tpara\tFrankie. “Evelyn\té\ttudo\to\tque\tse\tpode\tesperar\tde\tum\tícone. Carismática\tcomo\tsempre.” “E?” “E…\testamos\tavançando.” “Ela\testá\tdisposta\ta\tfalar\tde\talgum\toutro\tassunto\tque\tnão\tsejam\tos\tvestidos?” O\tque\teu\tposso\tdizer\tagora\tpara\tjá\tcomeçar\ta\tsalvar\tminha\tpele? “Ela\testá bem\treticente\tsobre\tqualquer\toutra\tcoisa\tque\tnão\tseja\tdivulgar\to\tleilão,\tsabe. Estou\tsendo\tboazinha\tpor\tenquanto,\ttentando\tganhar\ta\tconfiança\tdela\tantes\tde começar\ta\tinsistir.” “Ela\tposaria\tpara\tuma\tcapa?” “Ainda\té\tcedo\tdemais\tpara\tsaber. Confia\tem\tmim,\tFrankie”,\tdigo,\tdetestando a\tsinceridade\tcom\tque\tminhas\tpalavras\tsaem. Mas\tno\tmomento\tsó\testou\tconcentrada\tem\tfazer\tEvelyn\tgostar\tde\tmim,\tpara tentar\tganhar\talguma\tinfluência\te\tconseguir\to\tque\ta\tgente\tquer.” “Certo”,\tFrankie\tresponde. “Obviamente,\tvou\tquerer\tmais\tque\talgumas\taspas sobre\tvestidos,\tmas\tsó\tisso\tjá\tseria\tmais\tdo\tque\tas\toutras\trevistas\tconseguiram em\tdécadas,\tentão…”\tFrankie\tcontinua\tfalando,\tmas\teu\tparo\tde\touvir. Estou concentrada\tdemais\tno\tfato\tde\tque\tFrankie\tnão\tvai\tconseguir\tnem\tessas\taspas. Quando\tentro\tno\tapartamento,\tescuto\ta\tvoz\tde\tGracie\tna\tcozinha. Abro\ta porta\tvaivém\te\tvejo\tque\tela\testá\tcortando\tcaules\tde\tflores."
          },
          "metadata": {}
        },
        {
          "output_type": "display_data",
          "data": {
            "text/plain": [
              "<IPython.core.display.Markdown object>"
            ],
            "text/markdown": "### Página 44"
          },
          "metadata": {}
        },
        {
          "output_type": "display_data",
          "data": {
            "text/plain": [
              "<IPython.core.display.Markdown object>"
            ],
            "text/markdown": "Evelyn\tfalou\tpara\ta\tgente\tse\tencontrar\tno\tescritório dela,\tmas\tnão\tsei\tonde\té.” “Ah”,\tdiz\tGrace,\tbaixando\ta\ttesoura\te\tlimpando\tas\tmãos\tnuma\ttoalha. “Vou mostrar\tpara\tvocê.” Ela\tme\tconduz\tpor\tuma\tescada\taté\to\tgabinete\tde\tEvelyn. As\tjanelas\tenormes\tsão\temolduradas\tpor\tcortinas\tazul-escuras,\te\tdo outro\tlado\tda\tsala\thá\tprateleiras\tde\tlivros\tembutidas\tnas\tparedes. O\tsofá\tcinza- azulado\tfica\tdiante\tda\tescrivaninha\tenorme\tcom\ttampo\tde\tvidro. “Fica\tvocê\tcom\ta\tmesa”,\tEvelyn\tdiz\tquando\tentra,\te\tme\tentrega\tum\tcopo d’água. “Acho\tque\tisso\tsó\tvai\tfuncionar\tse\teu\tfalar\te\tvocê\tescrever.” “Pois\té”,\trespondo,\tme\tacomodando\tna\tcadeira\tatrás\tda\tmesa. Afinal,\tnão\tsou\tbiógrafa.” Evelyn\tme\tlança\tum\tolhar\tdaqueles. Quanto\tmais\tvelha\teu\tficava,\tmais\tficava claro\tque\tera\tuma\tquestão\tde\ttempo\taté\tmeu\tpai\tquerer\tme\tcasar\tcom\tum\tamigo seu,\tou\tum\tchefe,\tou\talguém\tque\tfacilitasse\ta\tvida\tdele. E,\tsendo\tbem\tsincera, quanto\tmais\tmeu\tcorpo\tse\tdesenvolvia,\tmenos\tsegura\teu\tme\tsentia\tde\tque\tmeu pai\tnão\tfosse\ttentar\talguma\tgracinha\tcomigo\ttambém. Tinha\tuma\ttomada\tdo\tnosso\tapartamento\tligada\tno\tquadro\tde\tforça\tdele,\tentão era\tpara\tlá\tque\tiam\ttodos\tos\taparelhos\telétricos\tda\tcasa. Se\teu\tprecisasse\tfazer lição\tde\tcasa,\tligava\to\tabajur\tnaquela\ttomava\te\tsentava\tlá\tcom\tmeu\tlivro. Durante\tanos\tantes\tde\tmorrer,\tela sempre\tme\tdizia\tque\ta\tgente\tia\tembora\tde\tHell’s\tKitchen\tpara\tir\tdireto\tpara Hollywood."
          },
          "metadata": {}
        },
        {
          "output_type": "display_data",
          "data": {
            "text/plain": [
              "<IPython.core.display.Markdown object>"
            ],
            "text/markdown": "### Página 45"
          },
          "metadata": {}
        },
        {
          "output_type": "display_data",
          "data": {
            "text/plain": [
              "<IPython.core.display.Markdown object>"
            ],
            "text/markdown": "Eu\tfantasiava\tcom\tnós\tduas\tnessa\tcasa,\tdando festas,\tbebendo\tchampanhe. Aí\tela\tmorreu,\te\tfoi\tcomo\tdespertar\tde\tum\tsonho. Eu\tia\tcontinuar\tem\tHell’s\tKitchen\tpara\tsempre. Ah,\teu\tsei\tque\to\tmundo\tprefere mulheres\tque\tnão\ttêm\tnoção\tdo\tpróprio\tpoder,\tmas\testou\tde\tsaco\tcheio\tdisso. A verdade\té\tque\tquando\teu\tpassava,\tas\tpessoas\tolhavam. Não\tfui\teu\tque\tfiz\tmeu\trosto\tassim. Mas também\tnão\tvou\tsentar\taqui\te\tdizer:\t‘Ai,\tsério? As\tpessoas\tme\tachavam\tbonita mesmo?’,\tcomo\tuma\tgarotinha\tfútil. “Minha\tamiga\tBeverly\tconhecia\tum\tcara\tdo\tprédio\tdela\tchamado\tErnie\tDiaz, que\tera\teletricista. E\tum\tdia\tBeverly\tme\tcontou\tque\touviu\tfalar\tque\tErnie\testava arrumando\tum\temprego\tcomo\tinstalador\tde\tiluminação\tem\tHollywood. Então, nesse\tfim\tde\tsemana,\tinventei\tuma\trazão\tpara\tir\taté\ta\tcasa\tda\tBeverly\te\t‘sem querer’\tbati\tna\tporta\tdo\tErnie. Mas bati\tna\tporta\tdo\tErnie\te\tperguntei:\t‘Você\tviu\ta\tBeverly\tGustafson\tpor\taí?’. Disse\tque\tnão\ttinha\tvisto\tminha\tamiga,\tmas\tcontinuou\tolhando\tpara\tmim. Vi\tquando\tseus\tolhos\tgrudaram\tnos\tmeus\tdepois\tforam\tdescendo,\texaminando cada\tcentímetro\tdo\tmeu\tcorpo\tno\tmeu\tvestido\tverde\tfavorito. “E\taí\tErnie\tfalou:\t‘Você\tjá\ttem\tdezesseis\tanos,\tmenina?’. Se\tconseguir\taprender\talguma\tcoisa\tcomigo,\tprovavelmente\tvai\tser isso.” Uau. “Você\tnunca\tfoi\tbiógrafa,\tmas\tagora\testá\tdando\to\tprimeiro\tpasso\tpara\tisso.” Faço\tque\tsim\tcom\ta\tcabeça."
          },
          "metadata": {}
        },
        {
          "output_type": "display_data",
          "data": {
            "text/plain": [
              "<IPython.core.display.Markdown object>"
            ],
            "text/markdown": "### Página 46"
          },
          "metadata": {}
        },
        {
          "output_type": "display_data",
          "data": {
            "text/plain": [
              "<IPython.core.display.Markdown object>"
            ],
            "text/markdown": "“Ótimo”,\tdiz\tEvelyn,\trelaxando\tum\tpouco\tno\tsofá. “Então,\tpor\tonde\tvocê quer\tcomeçar?” Pego\tmeu\tcaderno\te\tvejo\tas\tpalavras\tque\trabisquei\tnas\túltimas\tpáginas\tque usei. E\tentão,\tcom\tuma\tletra\tmaior,\tque repassei\tvárias\tvezes\tcom\ta\tcaneta,\tescurecendo\tcada\tletra\taté\talterar\ta\ttextura\tda folha,\tescrevi:\t“Quem\tfoi\to\tamor\tda\tvida\tda\tEvelyn???”. Quero saber,\tquando\tfor\tfalar\tdesses\tcasamentos,\tqual\tfoi\to\tmais\tsignificativo. Olho\tpara\tEvelyn\te\tvejo\tque\tela\testá\ta\tpostos,\tme\tesperando. Harry\tCameron?” Evelyn\tpensa\tum\tpouco,\te\tresponde\tsem\tpressa. E\tfoi\ta\tpessoa\tque me\tdedicou\to\tamor\tmais\tincondicional. A\tpessoa\tque\teu\tamei\tda\tforma\tmais pura,\tacho. Mas\tnão,\tele\tnão\tfoi\to\tamor\tda\tminha\tvida.” “Por\tque\tnão?” “Porque\tteve\toutra\tpessoa.” “Certo,\t quem \tfoi\to\tamor\tda\tsua\tvida,\tentão?” Evelyn\tbalança\ta\tcabeça,\tcomo\tse\tfosse\tuma\tpergunta\tjá\tprevista,\tcomo\tse\ta situação\testivesse\tse\tdesenrolando\texatamente\tda\tmaneira\tcomo\tela\tesperava. Mas\tem\tseguida\tfaz\tum\tgesto\tnegativo. “Sabe\tde\tuma\tcoisa?”,\tela\tdiz,\tse levantando. “Está\tficando\tmeio\ttarde,\tné?” Olho\tpara\to\trelógio. “Ah,\té?” “Acho\tque\tsim”,\tela\tresponde,\tandando\tna\tminha\tdireção,\ta\tcaminho\tda\tporta."
          },
          "metadata": {}
        },
        {
          "output_type": "display_data",
          "data": {
            "text/plain": [
              "<IPython.core.display.Markdown object>"
            ],
            "text/markdown": "### Página 47"
          },
          "metadata": {}
        },
        {
          "output_type": "display_data",
          "data": {
            "text/plain": [
              "<IPython.core.display.Markdown object>"
            ],
            "text/markdown": "“Certo\tentão”,\tdigo,\tficando\tde\tpé\ttambém. “De\tjeito\tnenhum.” Fica\tuma\ttensão\tno\tar\tque\tnão\tconsigo\tdescrever\tmuito\tbem. Que\ttal\tcomeçarmos\tàs dez?” “Tudo\tbem”,\tdigo,\tcolocando\to\tcasaco\tpesado\tsobre\tos\tombros. “Se\tassim estiver\tbom\tpara\tvocê.” Evelyn\tconfirma\tcom\ta\tcabeça. Seus\tolhos\tse\tafastam\tde\tmim\tpor\tum momento\te\tela\tespia\tpor\tcima\tdo\tmeu\tombro,\tmas\tsem\tparecer\tinteressada\tem nada\tem\tparticular. “Passei\tmuito\ttempo\tda\tvida\tme dedicando\ta…\tmaquiar\ta\tverdade”,\tela\texplica. “Fica\tdifícil\tretirar\ttodas\tas camadas\tdepois. Inclusive,\tagora\thá\tpouco,\teu não\tsabia\tcomo\tcontar\ta\tverdade. Me\tparece\tuma coisa\tcontrária\tà\tminha\tprópria\tsobrevivência. Me\tenfio\tnum\tvagão\tlotado\tde gente,\tme\tsegurando\tna\tbarra\tde\tapoio\tacima\tda\tminha\tcabeça. Sento\tno\tsofá,\tabro\to\tnotebook\te\trespondo\talguns\te-mails. Penso\tem\tpedir alguma\tcoisa\tpara\to\tjantar. E\té\tsó\tquando\tvou\tpôr\tos\tpés\tpara\tcima\tque\tlembro que\tnão\ttenho\tmais\tuma\tmesinha\tde\tcentro. Pela\tprimeira\tvez\tdesde\tque\tele\tfoi embora,\tnão\tpensei\timediatamente\tem\tDavid\tao\tentrar\tno\tapartamento. O\tque\tfica\tna\tminha\tcabeça\tno\tfim\tde\tsemana\t—\tda\tsexta\tà\tnoite\tao\tdomingo"
          },
          "metadata": {}
        },
        {
          "output_type": "display_data",
          "data": {
            "text/plain": [
              "<IPython.core.display.Markdown object>"
            ],
            "text/markdown": "### Página 48"
          },
          "metadata": {}
        },
        {
          "output_type": "display_data",
          "data": {
            "text/plain": [
              "<IPython.core.display.Markdown object>"
            ],
            "text/markdown": "de\tmanhã\tno\tparque\t—\tnão\té\t Como\tmeu\tcasamento\tfoi\tpor\tágua\tabaixo?"
          },
          "metadata": {}
        },
        {
          "output_type": "display_data",
          "data": {
            "text/plain": [
              "<IPython.core.display.Markdown object>"
            ],
            "text/markdown": "### Página 49"
          },
          "metadata": {}
        },
        {
          "output_type": "display_data",
          "data": {
            "text/plain": [
              "<IPython.core.display.Markdown object>"
            ],
            "text/markdown": "Ela\testá\tde\tlegging\tpreta\te\tuma\tcamisa\tsocial\tmasculina\tazul-marinho\tpresa com\tum\tcinto. Eu\tvisto\tminha\tcombinação\thabitual\tde\tjeans,\tcamiseta\te\tblazer. Escolhi\tuma\troupa\tcom\tque\tpudesse\tpassar\to\tdia\te\ta\tnoite\taqui,\tcaso\tfosse necessário. Enquanto\tela\tquiser\tfalar,\tvou\testar\ta\tpostos,\tescutando. “Então”,\tEvelyn\trepete,\tnum\ttom\tque\tme\tconvida\ta\tdeterminar\to\trumo\tda conversa. Ficar\tsentada\tatrás\tda\tmesa\tcom\tela\tno\tsofá\tinstaura\tcerta\tsensação\tde conflito. Quero\tque\ta\tgente\tse\tsinta\tparte\tda\tmesma\tequipe. Será\tque\tela\tde\tfato\tconsegue\tdizer\ta\tverdade? Será\tque\té\tcapaz\tde\tfazer\tisso? Passo\tpara\tuma\tpoltrona\tperto\tdo\tsofá. “Tem\tcerteza\tde\tque\testá\tpronta?”,\tpergunto. “Todo\tmundo\tque\teu\tamei\tjá\tmorreu. Não tenho\tmais\tninguém\ta\tquem\tproteger. Mas\tnão\té…\tEu\tnão…\tQuero\tque\telas conheçam\ta\tverdadeira\thistória."
          },
          "metadata": {}
        },
        {
          "output_type": "display_data",
          "data": {
            "text/plain": [
              "<IPython.core.display.Markdown object>"
            ],
            "text/markdown": "### Página 50"
          },
          "metadata": {}
        },
        {
          "output_type": "display_data",
          "data": {
            "text/plain": [
              "<IPython.core.display.Markdown object>"
            ],
            "text/markdown": "“Me\tmostre\tquem\tvocê\té\tde\tverdade,\tentão. E\teu\tvou tratar\tde\tfazer\to\tmundo\tentender.” Evelyn\tolha\tpara\tmim\te\tabre\tum\tbreve\tsorriso. “Vamos\tseguir\tem\tordem\tcronológica\tmesmo”,\tsugiro. “Me\tconta\tmais\tsobre Ernie\tDiaz,\tseu\tprimeiro\tmarido,\to\tque\ttirou\tvocê\tde\tHell’s\tKitchen.” “Tudo\tbem”,\tEvelyn\tconcorda,\tassentindo\tcom\ta\tcabeça."
          },
          "metadata": {}
        },
        {
          "output_type": "display_data",
          "data": {
            "text/plain": [
              "<IPython.core.display.Markdown object>"
            ],
            "text/markdown": "### Página 51"
          },
          "metadata": {}
        },
        {
          "output_type": "display_data",
          "data": {
            "text/plain": [
              "<IPython.core.display.Markdown object>"
            ],
            "text/markdown": "O\tPOBRE Ernie\tDiaz"
          },
          "metadata": {}
        },
        {
          "output_type": "display_data",
          "data": {
            "text/plain": [
              "<IPython.core.display.Markdown object>"
            ],
            "text/markdown": "### Página 52"
          },
          "metadata": {}
        },
        {
          "output_type": "display_data",
          "data": {
            "text/plain": [
              "<IPython.core.display.Markdown object>"
            ],
            "text/markdown": "Veio\tde\tCuba\tcom\tmeu\tpai aos\tdezessete\tanos. Quando\tfiquei\tmais\tvelha,\tdescobri\tque\t corista \ttambém\tera um\teufemismo\tpara\tprostituta. Eu\ttinha\tonze\tanos\tquando\tela\tmorreu\tde\tpneumonia. Obviamente\tnão\ttenho muitas\tlembranças\tdela,\tmas\tme\trecordo\tde\tseu\tcheiro\tde\tbaunilha\tbarato,\te\tque ela\tfazia\tum\t caldo\tgallego \tincrível. Nunca\tme\tchamava\tde\tEvelyn,\tsó\tde\t mi\thija , o\tque\tfazia\tcom\tque\teu\tme\tsentisse\tmuito\tespecial,\tcomo\tse\texistisse\tno\tmundo uma\tcoisa\tsó\tnossa. Realmente\tachava\tque\tprecisava\ttirar\ta\tgente\tde\tonde\testava\te\tlargar\tmeu\tpai para\tconquistar\tum\tlugar\tsob\tos\tholofotes. Mas\tsó\tdescobrimos\to\tquanto\tela estava\tdoente\tquando\tera\ttarde\tdemais. Só\tsei\tque,\tdepois\tde\talguns\tmeses,\tjá\tconseguia tomar\tbanho\tsem\tchorar. E\tentão,\tno\tverão\tseguinte\tà\tmorte\tdela,\tcomecei\ta\ttomar\tcorpo. Meus\tpeitos\tcomeçaram\ta\tcrescer\te\tnão\tpararam\tmais."
          },
          "metadata": {}
        },
        {
          "output_type": "display_data",
          "data": {
            "text/plain": [
              "<IPython.core.display.Markdown object>"
            ],
            "text/markdown": "### Página 53"
          },
          "metadata": {}
        },
        {
          "output_type": "display_data",
          "data": {
            "text/plain": [
              "<IPython.core.display.Markdown object>"
            ],
            "text/markdown": "que\tencontrei\tera\tpequeno\tdemais,\tmas\tpassei\ta\tusar\tmesmo\tassim. Aos\ttreze\tanos,\teu\ttinha\tmais\tde\tum\tmetro\te\tsetenta,\tcabelos\tcastanho-escuros bem\tlongos\te\tbrilhantes,\tpernas\tcompridas,\tpele\tmorena\te\tum\tbusto\tque\tquase rebentava\tos\tbotões\tdos\tmeus\tvestidos. Homens\tadultos\tparavam\tpara\tme\tolhar na\trua,\te\talgumas\tmeninas\tdo\tmeu\tprédio\tnão\tqueriam\tmais\tandar\tcomigo. Órfã\tde\tmãe,\tcom\tum\tpai\tabusivo,\tsem\tamigas,\te\tuma sensualidade\tque\tminha\tcabeça\tnão\ttinha\tpreparo\tpara\tentender. O\tcaixa\tdo\tmercadinho\tda\tesquina\tera\tum\tmenino\tchamado\tBilly. Num dia\tde\toutubro,\tfui\taté\tlá\tcomprar\tum\tdoce\te\tele\tme\tbeijou. Eu\tnão\tqueria\tque\tele\tme\tbeijasse. Nesse\tmomento,\tpercebi\tque\tele\tia\tconseguir\to\tque\tqueria\tde\tmim,\tcom\ta\tminha permissão\tou\tnão. Podia\tfazer\to\tque\tele\tqueria\tde\tgraça. Nos\ttrês\tmeses\tseguintes,\teu\tpude\tpegar\to\tque\tqueria\tnaquele\tmercadinho. E, em\ttroca,\tsaía\tcom\tBilly\taos\tsábados\tà\tnoite\te\tdeixava\tque\tele\ttirasse\tminha blusa. Ser\tdesejada\tsignificava\ta obrigação\tde\tsatisfazer\tos\toutros. Pelo\tmenos\tera\tessa\ta\tminha\tvisão\tna\tépoca. Lembro\tque\tum\tdia\tele\tfalou,\tno\tdepósito\tescuro\te\tapertado,\tcom\tas\tminhas costas\tprensadas\tcontra\tum\tcaixote\tde\tmadeira:\t“Você\tmeio\tque\ttem\tum\tpoder sobre\tmim”. Mas\tpor outro\tlado:\t Esse\té\to\tmeu\tvalor,\ta\tminha\tforça ."
          },
          "metadata": {}
        },
        {
          "output_type": "display_data",
          "data": {
            "text/plain": [
              "<IPython.core.display.Markdown object>"
            ],
            "text/markdown": "### Página 54"
          },
          "metadata": {}
        },
        {
          "output_type": "display_data",
          "data": {
            "text/plain": [
              "<IPython.core.display.Markdown object>"
            ],
            "text/markdown": "alguém\tmais\tinteressante\t—,\tfoi\tao\tmesmo\ttempo\tum\talívio\te\tuma\tsensação\tde fracasso. Sendo\tbem\tclara\te\tdireta,\tnão demorei\tmuito\tpara\tcompreender\tcomo\tmeu\tcorpo\tfuncionava. Eu\tnão\ttinha\tinteresse\tpor\tninguém\tem\ttermos sexuais. Queria\tir\tpara\tbem\tlonge\tde\tHell’s\tKitchen. Queria\tuma\tcasa\tbonita\te dinheiro\tno\tbolso. Queria\tir\tpara\tonde minha\tmãe\ttinha\tprometido\tque\ta\tgente\tmoraria\tum\tdia. Se\tvocê\tfugir\tpara\tlá,\tvai\testar\tna\tdireção\tdo\tSul\tda\tCalifórnia,\tonde\tfaz\tsempre sol,\te\tem\tvez\tdas\tcalçadas\tescorregadias\te\tdas\tsarjetas\timundas\tvai\tencontrar palmeiras\te\tlaranjeiras. Vai\testar\tem\tbusca\tde\tum\tmundo\tde\tmoralidade\te\tjustiça,\tonde\tos\tmocinhos sempre\tvencem\te\tos\tvilões\tse\tdão\tmal,\tonde\ta\tdor\testampada\tno\tseu\trosto\tsó\tvai deixar\tvocê\tmais\tforte,\tpara\tconquistar\tcoisas\tmuito\tmaiores\tno\tfinal. Mas\teu\tnão\ttinha\tcomo\tentender\tisso\taos\tcatorze\tanos. Então\tcoloquei\tmeu\tvestido\tverde\tfavorito,\tque\tjá\tficara\tpequeno. E\tfui\tbater na\tporta\tdo\tsujeito\tque,\tsegundo\touvi\tdizer,\testava\tindo\tpara\tHollywood. E\tfoi\tassim\tque\tperdi\tminha\tvirgindade:\tem\ttroca\tde\tuma\tcarona\taté"
          },
          "metadata": {}
        },
        {
          "output_type": "display_data",
          "data": {
            "text/plain": [
              "<IPython.core.display.Markdown object>"
            ],
            "text/markdown": "### Página 55"
          },
          "metadata": {}
        },
        {
          "output_type": "display_data",
          "data": {
            "text/plain": [
              "<IPython.core.display.Markdown object>"
            ],
            "text/markdown": "Tinha\tsó\tquinze\tanos\tna\tépoca,\tmas\tmeu\tpai\ttopou\tassinar\ta\tpapelada. Mas\tmenti\tna\tcara\tdura,\te\tele\tnão pareceu\tdar\tmuita\tbola. Não\tia\tter\tmuitas\toutras\tchances\tde\tcasar\tcom\tuma menina\tlinda. E\tfoi\tesperto\to\tbastante\tpara\tagarrar\ta chance\tquando\tapareceu. Moramos\tcom\tuns\tamigos\tdele\taté\tErnie\tconseguir\tum\temprego como\tcontrarregra. Logo\ttínhamos\tdinheiro\tsuficiente\tpara\tconseguir\tum apartamento\tsó\tnosso. Ficava\tna\tesquina\tda\tDetroit\tStreet\tcom\ta\tDe\tLongpre. Ganhei\tumas\troupas\tnovas\te\tainda\tsobrava\talguma\tcoisa\tpara\tpreparar\tum assado\tnos\tfins\tde\tsemana. Eu\tprecisava\tterminar\to\tcolégio,\tmas\tErnie\tnão\tia\tficar\tconferindo\tmeus boletins,\te\testava\tna\tcara\tque\ta\tescola\tera\tperda\tde\ttempo. Em\tvez\tde\tir\tà\taula,\teu\tia\talmoçar\tno\tFormosa\tCafé\ttodos\tos\tdias\te\tficava\tpara o\thappy\thour. Tinha\tficado\tsabendo\tda\texistência\tdesse\tlugar\tpelas\trevistas\tde fofocas. Aquele\tpredinho\tvermelho\tcom\tletreiro\tem\tletra\tcursiva\te\ttoldo\tpreto\tvirou meu\tponto\tde\tperegrinação\tdiária. Então\teu\taparecia\ttodos\tos\tdias\te\tficava\tlá,\tcom\tum\tcopo\tde\tcoca-cola\tà minha\tfrente."
          },
          "metadata": {}
        },
        {
          "output_type": "display_data",
          "data": {
            "text/plain": [
              "<IPython.core.display.Markdown object>"
            ],
            "text/markdown": "### Página 56"
          },
          "metadata": {}
        },
        {
          "output_type": "display_data",
          "data": {
            "text/plain": [
              "<IPython.core.display.Markdown object>"
            ],
            "text/markdown": "“Olha\tsó”,\tele\tme\tfalou\tdepois\tde\tumas\ttrês\tsemanas,\t“se\tquiser\tficar\taqui esperando\tque\to\tHumphrey\tBogart\tapareça\talgum\tdia,\ttudo\tbem. Mas\tprecisa fazer\talguma\tcoisa\tútil\tenquanto\tisso. Não\tdá\tpara\tficar\tocupando\tum\tlugar\tque poderia\tser\tde\tum\tcliente\tsó\tcomprando\tuma\tgarrafa\tde\trefrigerante.” Ele\tera\tmais\tvelho,\tdevia\tter\tuns\tcinquenta\tanos,\tmas\tseus\tcabelos\tainda\teram grossos\te\tescuros. As\trugas\tda\ttesta\tdele\tme\tfaziam\tlembrar\tdo\tmeu\tpai. Senti\tum\tpouco\tde\ttemor\tde\tque\tele\tfosse\tpedir\tuma\tcoisa\tque\teu\tjá\ttinha entregado\tpara\tErnie,\tmas\tele\tme\tjogou\tum\tavental\te\tme\tmandou\tir\tanotar\tuns pedidos. “Entendido.” Levantei\tdo\tbanquinho\tdo\tbalcão\te\tsaí\tandando\tna\tdireção\tda\tmesa\tdois,\tonde três\thomens\tde\tterno\testavam\tsentados\tconversando,\tcom\tos\tcardápios\tfechados. Aposto\tcinco\tpratas\tque\tvai\tconseguir\to\tque\tquer.” Anotei\tdez\tpedidos,\tentreguei\to\tsanduíche\terrado\tpara\ttrês\tclientes\te\tfaturei quatro\tdólares\tpelo\tdia\tde\ttrabalho. Quatro\tmeses\tdepois,\tHarry\tCameron,\tna\tépoca\tum\tjovem\tprodutor\tdo\tSunset Studios,\tfoi\taté\to\tcafé\tpara\tconversar\tcom\tum\texecutivo\tque\testava\tno\tset\tde filmagem\tao\tlado\tdo\tcafé. Duas\tsemanas\tdepois,\teu\ttinha\tum\tcontrato\tcom\to\tSunset\tStudios."
          },
          "metadata": {}
        },
        {
          "output_type": "display_data",
          "data": {
            "text/plain": [
              "<IPython.core.display.Markdown object>"
            ],
            "text/markdown": "### Página 57"
          },
          "metadata": {}
        },
        {
          "output_type": "display_data",
          "data": {
            "text/plain": [
              "<IPython.core.display.Markdown object>"
            ],
            "text/markdown": "Disse\tque\tser\tatriz\tpoderia\tser\tum\tbico\tdivertido, uma\tforma\tde\tpassar\to\ttempo\taté\tvirar\tmãe\te\tassumir\tmeu\tverdadeiro\ttrabalho. Não\ttinha\tnem\tdezessete\tanos\tna\tépoca,\tmas\tErnie\tachava\tque\teu\tera\tmais velha. Então\tpassei\ta\tacordar\tde\tmanhã\tcedo\te\tir\tpara\to Sunset\tStudios. “E\tpor\tque\tele\tnão\tfaria\tisso?”\tEra\tessa\ta\tfala. Interpretei\tuma\tenfermeira\tque\tcuidava\tde\tum\tsoldado\tferido. Numa\tcena,\to médico\tdizia\tem\ttom\tbrincalhão\tque\to\tsoldado\testava\tdando\tem\tcima\tde\tmim,\te eu\trespondia:\t“E\tpor\tque\tele\tnão\tfaria\tisso?”. Nessa\tépoca,\tmuita\tcoisa\tque\teu\tfalava\tsaía\tcom\tesse\tsotaque. Quando\to\tfilme\tfoi\tlançado,\tErnie\te\teu\tfomos\tassistir. Ele\tachou\tdivertido\tver a\tmulherzinha\tdele\tdizer\tuma\tfala\tno\tcinema. Eu\tnunca\ttinha\tganhado\tdinheiro\tna\tvida,\te\ta\tessa\taltura\testava\ttirando\to mesmo\tque\tErnie,\tdepois\tde\tele\tser\tpromovido\ta\tchefe\tdos\tcontrarregras. Então perguntei\tse\tpodia\tusar\tmeu\tpagamento\tpara\tfazer\taulas\tde\tteatro. Preparei\tum arroz\tcon\tpollo \tpara\tele\tnessa\tnoite,\te\tnão\ttirei\tmeu\tavental\tquando\ttoquei\tno assunto. Achei\tque conseguiria\tir\tmais\tlonge\tse\tnão\trepresentasse\tuma\tameaça. Você\tvai\tprogredir,\te\tquem sabe\tpode\taté\testrelar\tum\tfilme\talgum\tdia.” Eu\ttinha\t certeza \tde\tque\tisso\tia\tacontecer."
          },
          "metadata": {}
        },
        {
          "output_type": "display_data",
          "data": {
            "text/plain": [
              "<IPython.core.display.Markdown object>"
            ],
            "text/markdown": "### Página 58"
          },
          "metadata": {}
        },
        {
          "output_type": "display_data",
          "data": {
            "text/plain": [
              "<IPython.core.display.Markdown object>"
            ],
            "text/markdown": "Me\tdeu\tvontade\tde\tdar\tum\tsoco\tna\tfuça\tdele. Mas\thoje\tentendo\tque\tnão\tera\tculpa\tdo\tErnie. E\tdepois\tcomecei\ta\tme\tirritar\tporque\tErnie\tnão\tvia\tquem eu\tera\tde\tverdade. Seis\tmeses\tdepois,\teu\tjá\tconseguia\trecitar\tuma\tfala\tde\tforma\tconvincente. Trabalhei\tem\tmais\ttrês\tfilmes,\ttodos\tcom\tparticipações\tpequenas. Tinha ouvido\tfalar\tque\to\tpapel\tde\tfilha\tadolescente\tdo\tStu\tCooper\tnuma\tcomédia romântica\testava\tdisponível. Então\tfiz\tuma\tcoisa\tque\tnem\ttodas\tas\tatrizes\tdo\tmeu\tnível\tna\tépoca\tteriam coragem\tde\tarriscar. “Evelyn”,\tele\tfalou,\ttodo\tsurpreso\tao\tme\tver. No estúdio\ttinha\tum\tmonte\tde\tprodutores\tbarrigudos,\tjá\tficando\tcarecas. Tinha\tum\testilo\tum\tpouco\tMeio-Oeste,\tnão\ttanto\tpela aparência,\tmas\tpelo\tjeito\tde\ttratar\tas\tpessoas,\tprimeiro\tcom\tgentileza,\tmas depois\tde\tuma\tmaneira\tbem\tfirme. Harry\tera\tum\tdos\túnicos\thomens\tno\testúdio\tque\tnão\tficavam\tolhando\tsó\tpara o\tmeu\tpeito. Isso\tna\tverdade\tme\tincomodava,\tfazia\tparecer\tque\teu\tnão\testava conseguindo\tchamar\ta\tsua\tatenção. Eu\tpensava\tassim\tantes\tmesmo\tde\tcompletar\tdezoito\tanos. Ari\tSullivan\tjamais\taprovaria você\tpara\tesse\tpapel.” “Por\tque\tnão?” “Você\tnão\ttem\to\ttipo\tfísico\tcerto.” “O\tque\tisso\tsignifica?”"
          },
          "metadata": {}
        },
        {
          "output_type": "display_data",
          "data": {
            "text/plain": [
              "<IPython.core.display.Markdown object>"
            ],
            "text/markdown": "### Página 59"
          },
          "metadata": {}
        },
        {
          "output_type": "display_data",
          "data": {
            "text/plain": [
              "<IPython.core.display.Markdown object>"
            ],
            "text/markdown": "” “Sim,\teu\tquero\tsaber\to\tmotivo.” “Seu\tnome\té\tEvelyn\tDiaz.” “E\tdaí?” “Eu\tnão\tposso\tte\tcolocar\tnum\tfilme\te\ttentar\tfingir\tque\tvocê\tnão\té\tmexicana.” “Eu\tsou\tcubana.” “Na\tprática,\té\ta\tmesma\tcoisa.” Não\tera\ta\tmesma\tcoisa,\tmas\tnão\tadiantaria\tnada\ttentar\texplicar\tisso\tpara\tele. “Então\tque\ttal\taquele\tfilme\tcom\tGary\tDuPont?” “Você\tnão\tpode\tfazer\tum\tpar\tromântico\tcom\tGary\tDuPont.” “Por\tque\tnão?” Harry\tme\tolhou\tcomo\tquem\tperguntava\tse\tseria\tobrigado\tmesmo\ta\texplicar tudo. “Porque\tum\tfilme\tcom\tGary\tDuPont\tprecisa\tter\tuma\tmoça\tloira\te comportada.” “Eu\tposso\tser\tuma\tmoça\tloira\te\tcomportada.” Harry\tme\tencarou. Sou uma\tdas\tgarotas\tmais\tinteressantes\tque\tvocês\ttêm\tno\tmomento.” Harry\tdeu\trisada. Isso\teu\tadmito.” A\tsecretária\tde\tHarry\tbateu\tna\tporta. “Desculpe\tinterromper,\tsr.\tCameron,\tmas o\tsenhor\ttem\tum\tcompromisso\tem\tBurbank\tà\tuma.” Harry\tolhou\tno\trelógio. Eu\tsou\tboa,\te\tposso\tficar\tainda melhor. Mas\tvocês\testão\tdesperdiçando\tmeu\tpotencial\tcom\tesses\tpapéis"
          },
          "metadata": {}
        },
        {
          "output_type": "display_data",
          "data": {
            "text/plain": [
              "<IPython.core.display.Markdown object>"
            ],
            "text/markdown": "### Página 60"
          },
          "metadata": {}
        },
        {
          "output_type": "display_data",
          "data": {
            "text/plain": [
              "<IPython.core.display.Markdown object>"
            ],
            "text/markdown": "minúsculos.” “Nós\tsabemos\to\tque\testamos\tfazendo”,\tele\tfalou,\tficando\tde\tpé. “Como\tvocê\timagina\tminha\tcarreira\tdaqui\ta\tum\tano, Harry? Fazendo\tum\tpapel\tde\tprofessorinha\tcom\ttrês\tfalas?” Harry\tpassou\tpor\tmim,\tabriu\ta\tporta\tdo\tescritório\te\tme\tpôs\tpara\tfora. Então,\tquando voltei\ta\tver\tAri\tSullivan\tno\trestaurante\tdo\testúdio,\tderrubei\tminha\tbolsa\te\t“sem querer”\tlhe\tproporcionei\tuma\tbela\tvisão\tao\tme\tagachar\tpara\tpegá-la. Ele\ttentou contato\tvisual\te\teu\tsaí\tandando,\tcomo\tse\tnão\testivesse\tnem\taí,\tcomo\tse\tnem soubesse\tquem\tele\tera. Uma\tsemana\tdepois,\tfingi\tque\testava\tperdida\tno\tlocal\tonde\tficavam\tos escritórios\tdos\texecutivos,\te\tcruzei\tcom\tele\tno\tcorredor. Era\tum\tsujeito\trobusto, mas\taquele\tpeso\ttodo\tcombinava\tcom\tele. Seus\tolhos\teram\tde\tum\tcastanho\ttão escuro\tque\tmal\tdava\tpara\tver\tas\tpupilas,\te\testava\tsempre\tcom\ta\tbarba\tpor\tfazer. Fiquei\tao\tmesmo\ttempo\tsurpresa\te\tnem\tum\tpouco surpresa\tpor\touvir\tmeu\tnome\tna\tboca\tdele. “Por\tfavor,\tme\tchame\tde\tAri.” “Ah,\tentão\toi,\tAri”,\tfalei,\tpondo\ta\tmão\tno\tbraço\tdele. Naquela\tnoite,\tdepois\tque\ta\tsecretária\tfoi\tembora,\tfui\tparar\tem\tcima\tda\tmesa dele,\tcom\ta\tsaia\tlevantada\taté\ta\tcintura\te\to\trosto\tde\tAri\tno\tmeio\tdas\tminhas pernas. Descobri\tque\tAri\ttinha\tum\tfetiche\tpor\tproporcionar\tprazer\toralmente\ta meninas\tmenores\tde\tidade. Mas\testava feliz\tpor\testar\tali,\tporque\tisso\tsignificava\tconseguir\to\tque\teu\tqueria. Mas\tse\tcom\tisso\teu\tpudesse\tser\tfeliz\tna\tminha\tcarreira,\tentão,\tbom,\tnão\tera"
          },
          "metadata": {}
        },
        {
          "output_type": "display_data",
          "data": {
            "text/plain": [
              "<IPython.core.display.Markdown object>"
            ],
            "text/markdown": "### Página 61"
          },
          "metadata": {}
        },
        {
          "output_type": "display_data",
          "data": {
            "text/plain": [
              "<IPython.core.display.Markdown object>"
            ],
            "text/markdown": "Quando\tfui\tembora,\tvi\ta\tfileira\tde\tOscars\tque\tAri\trecebeu\tnuma\tprateleira\tno escritório. E\tdisse\ta\tmim\tmesma\tque\tum\tdia\tteria\tuma\testatueta\tdaquelas também. O\tamor\tnão\té\ttudo \te\to\tfilme\tdo\tGary\tDuPont\tem\tque\teu\tqueria\tum\tpapel acabaram\tsaindo\tquase\tna\tmesma\tsemana. Recortei\tuma\tresenha\tque\tfalava\tmal\tde\tPenelope\te\tmandei\tpelo\tcorreio interno\tdo\testúdio\tpara\tHarry\te\tAri,\tcom\tum\tbilhete\tque\tdizia:\t“Eu\tteria arrasado”. Na\tmanhã\tseguinte,\ttinha\tum\trecado\tdo\tHarry\tno\tmeu\ttrailer:\t“Certo,\tvocê venceu”. Harry\tme\tchamou\tno\tescritório\te\tfalou\tque\ttinha\tconversado\tcom\tAri,\te\tque eles\ttinham\tdois\tpapéis\tem\tpotencial\tpara\tmim. Eu\tpodia\tinterpretar\tuma\therdeira\titaliana\tcomo\tcoadjuvante\tnum\tromance\tde guerra. E\tmesmo\tassim\tera\tisso\to\tque\teu\tqueria. “Pode\tme\tdar\to\tpapel\tda\tJo.” E,\tcom\tessa\tescolha,\tfiz\tas\tengrenagens\tda\tmáquina\tdo\testrelato\tcomeçarem\ta girar\ta\tmeu\tfavor. Harry\tme\tapresentou\tpara\tGwendolyn\tPeters,\ta\testeticista\tdo\testúdio. Gwen clareou\tmeu\tcabelo\te\tcortou\tmais\tcurtinho,\taté\ta\taltura\tdo\tombro."
          },
          "metadata": {}
        },
        {
          "output_type": "display_data",
          "data": {
            "text/plain": [
              "<IPython.core.display.Markdown object>"
            ],
            "text/markdown": "### Página 62"
          },
          "metadata": {}
        },
        {
          "output_type": "display_data",
          "data": {
            "text/plain": [
              "<IPython.core.display.Markdown object>"
            ],
            "text/markdown": "O\tque\tmeu\tpai\tfazia\tda\tvida? Como\teu\tgostava\tde\tpassar\tmeu tempo\tlivre? De\thoje\tem\tdiante,\tsua\tmãe\tmorreu\tnum acidente,\te\tvocê\tfoi\tcriada\tpelo\tpai. Ele\ttrabalhava\tna\tconstrução\tcivil\tem Manhattan,\te\tnos\tfins\tde\tsemana\tte\tlevava\tpara\tpassear\tem\tConey\tIsland. É\tquase inacreditável\to\ttanto\tde\tcoisas\tque\tme\tmandaram\tfazer. Imagens\tsorrindo\tnuma praia,\tjogando\tgolfe,\tcorrendo\tpela\trua\tsendo\tpuxada\tpor\tum\tsão-bernardo\tque alguém\tpegou\temprestado\tde\tum\tcara\tda\tcenografia. Tinha\tfotos\tminhas\tpondo sal\tnuma\ttoranja,\tatirando\tde\tarco\te\tflecha,\tentrando\tnum\tavião\tde\tmentira. O\tpessoal\tdo\tfigurino\tera\tconsistente\te\texigente\ta\trespeito\tde\tcomo\tme\tvestir, por\tordem\tde\tHarry\tCameron,\to\tque\tsempre\tincluía\tuma\tblusa\tde\tlã\tapertada, abotoada\taté\ta\taltura\tcerta. Não\tfui\tagraciada\tpela\tnatureza\tcom\tum\tcorpo\tem\tforma\tde\tviolão. Minha bunda\tera\treta\tcomo\tuma\ttábua. Era\tmeu peito\tque\tmantinha\to\tinteresse\tdos\thomens. E\tas\tmulheres\tadmiravam\to\tmeu rosto. Eu\testava\tsendo\tpreparada\tpara\tser\tduas\tcoisas\topostas,\tuma\tfigura complicada,\tque\tera\tdifícil\tde\tdissecar,\tmas\tfácil\tde\tgostar."
          },
          "metadata": {}
        },
        {
          "output_type": "display_data",
          "data": {
            "text/plain": [
              "<IPython.core.display.Markdown object>"
            ],
            "text/markdown": "### Página 63"
          },
          "metadata": {}
        },
        {
          "output_type": "display_data",
          "data": {
            "text/plain": [
              "<IPython.core.display.Markdown object>"
            ],
            "text/markdown": "Como\tse\teu\tfosse\tcomplexa\tdemais\tpara\tme preocupar\tcom\tas\tideias\tpouco\tcomplexas\tque\tas\tpessoas\tfaziam\tde\tmim. Mas\tuma\tcoisa\tbem\tfácil\tde\tfingir. Quando\tas\tfotos\tforam\treveladas,\tHarry\tCameron\tme\tchamou\tno\tescritório dele. Eu\tsabia\tqual\tia\tser\ta\tconversa. Sabia\tque\ttinha\tuma\túltima\tpeça\ta\tser encaixada. Tem\tuma\tsonoridade\tinteressante,\tnão?”,\tele\tdisse. Nós\testávamos\tna\tsala\tdele,\tum\tde\tcada\tlado\tda\tmesa. “E\tse\tfosse\talguma\tcoisa\tcom\tas\tiniciais\t EH ?”,\tperguntei. “Não,\tpomposo\tdemais.” Olhei\tpara\tele\te\tdisse\taquilo\tque\tjá\ttinha\tpensado\tna\tnoite\tanterior\tcomo\tse estivesse\tpassando\tpela\tminha\tcabeça\tnaquele\texato\tmomento. “Gostei.” Eu\tme\tlevantei\te\tapertei\ta\tmão\tdele,\tcom\tmeus\tcabelos\tloiros,\tcom\tos\tquais ainda\testava\tme\tacostumando,\temoldurando\tmeu\trosto. Virei\ta\tmaçaneta\tda\tporta,\tmas\tHarry\tme\tpediu\tpara\tesperar. “Certo.” “Li\tsuas\trespostas\tno\tquestionário\tde\tentrevistas.”\tEle\tolhou\tbem\tpara\tmim. “Ari\tficou\tmuito\tsatisfeito\tcom\tas\tmudanças\tde\tvisual\tque\tvocê\tfez. O\testúdio\tconsidera\tuma\tboa\tideia\tvocê\tser\tvista\tem público\tcom\tcaras\tcomo\tPeter\tGreer\te\tBrick\tThomas."
          },
          "metadata": {}
        },
        {
          "output_type": "display_data",
          "data": {
            "text/plain": [
              "<IPython.core.display.Markdown object>"
            ],
            "text/markdown": "### Página 64"
          },
          "metadata": {}
        },
        {
          "output_type": "display_data",
          "data": {
            "text/plain": [
              "<IPython.core.display.Markdown object>"
            ],
            "text/markdown": "“Problema\tnenhum.” Harry\tbalançou\ta\tcabeça\te\tme\tentregou\tum\tcartão\tde\tvisitas. Ele\tvai\tte\tajudar\ta resolver\tsua\tsituação.” Fui\tpara\tcasa\te\tavisei\tErnie\tque\tia\tpedir\ta\tseparação. Ele\tchorou\tpor\tseis\thoras\tseguidas,\te\tno\tmeio\tda\tmadrugada,\tcomigo\tdeitada ao\tseu\tlado\tna\tcama,\tfalou:\t“ Bien . O\testúdio\tdeu\tum\tdinheiro\tcomo\tcala-boca\tpara\tele,\te\teu\tentreguei\tuma\tcarta toda\tdoída\tdizendo\to\tquanto\testava\tsofrendo\tcom\ta\tseparação. Não\tera\tverdade, mas\teu\tachava\tque\tnosso\tcasamento\tdeveria\tterminar\tcomo\tcomeçou,\tcom\tum amor\tde\tfachada\tda\tminha\tparte. Não\tme\tpareceu\tna\tépoca,\te\tnem\tparece\tagora. Mas\teu\ttambém\tsabia\tque\tprecisava\tmuito\tsair\tde\tHell’s\tKitchen. E\tsei\tcomo\té\tver\tum\tfuturo\tpela frente\tem\tque\tseu\tmarido\té\tsó\tuma\tdiversão\tdiferente\tde\tseu\tpai,\tse\tentregar\tpara ele\tna\tcama\tmesmo\tsendo\ta\túltima\tcoisa\tque\tquer\tfazer\te\tter\tque\tcozinhar\tsó tortilha\tcom\tmilho\tenlatado\tno\tjantar\tporque\tnão\ttem\tdinheiro\tpara\tcomprar carne. Então\tcomo\tposso\tcondenar\ta\tmenina\tde\tcatorze\tanos\tque\tfez\to\tque\tera preciso\tpara\tsair\tdaquele\tlugar? E\tcomo\tjulgar\ta\tmoça\tde\tdezoito\tque\tabandonou o\tcasamento\tquando\tsentiu\tque\tjá\testava\tsegura\tpara\tpoder\tfazer\tisso?"
          },
          "metadata": {}
        },
        {
          "output_type": "display_data",
          "data": {
            "text/plain": [
              "<IPython.core.display.Markdown object>"
            ],
            "text/markdown": "### Página 65"
          },
          "metadata": {}
        },
        {
          "output_type": "display_data",
          "data": {
            "text/plain": [
              "<IPython.core.display.Markdown object>"
            ],
            "text/markdown": "Acredito\tque\tele\tmorreu\tno\tcomeço\tdos\tanos\t90,\tdepois\tde\tser avô\tuma\tporção\tde\tvezes. Ele\tusou\ta\tbolada\tque\trecebeu\tdo\testúdio\tpara\tdar entrada\tnuma\tcasa\tem\tMar\tVista,\tnão\tmuito\tlonge\tda\tsede\tda\tFox."
          },
          "metadata": {}
        },
        {
          "output_type": "display_data",
          "data": {
            "text/plain": [
              "<IPython.core.display.Markdown object>"
            ],
            "text/markdown": "### Página 66"
          },
          "metadata": {}
        },
        {
          "output_type": "display_data",
          "data": {
            "text/plain": [
              "<IPython.core.display.Markdown object>"
            ],
            "text/markdown": "“Você\ttem\tum\tjantar\tmarcado\tcom Ronnie\tBeelman\tdaqui\ta\tuma\thora. No\tmesmo\thorário?” “Tá,\ttudo\tbem”,\trespondo,\tjá\tcomeçando\ta\tguardar\tminhas\tcoisas. Minha perna\tesquerda\testá\tdormente,\te\tbato\to\tpé\tno\tpiso\tde\tmadeira\tnobre\tpara\ttentar reativar\ta\tcirculação. “Como\testão\tas\tcoisas?”,\tminha\tmãe\tme\tpergunta\tassim\tque\tatendo\tao telefone. Ela\tdiz\t“coisas”,\tmas\tsei\tque\tisso\tsignifica\t sua\tvida\tsem\tDavid . “Está\ttudo\tbem”,\trespondo\tenquanto\tponho\tminha\tbolsa\tno\tsofá\te\tvou\taté\ta geladeira. A\tgente\tjá\tnamorava\tfazia\talguns\tmeses\tquando\tfui\tcom\tele passar\to\tferiado\tde\tAção\tde\tGraças\tna\tnossa\tcasa\tem\tEncino. Ela\tgostou\tde\tver\tque\tDavid\tera\teducado,\ttinha\tse\toferecido\tpara\tpôr\te\ttirar\ta mesa. Mas\tno\tdia\tde\tir\tembora,\tantes\tde\tDavid\tacordar,\tminha\tmãe\tveio\tme perguntar\tse\to\tlance\tentre\ta\tgente\tera\tsério. Porque\tela\tdisse\tque\tnão\tvia\tcomo dar\tcerto."
          },
          "metadata": {}
        },
        {
          "output_type": "display_data",
          "data": {
            "text/plain": [
              "<IPython.core.display.Markdown object>"
            ],
            "text/markdown": "### Página 67"
          },
          "metadata": {}
        },
        {
          "output_type": "display_data",
          "data": {
            "text/plain": [
              "<IPython.core.display.Markdown object>"
            ],
            "text/markdown": "Mas\ta\tpergunta\tficou\tna\tminha\tcabeça. Quando\tliguei\tpara\tcontar\tsobre\to\tnosso\tnoivado,\tpouco\tmais\tde\tum\tano depois,\tfiquei\ttorcendo\tpara\tminha\tmãe\tconseguir\tver\to\tquanto\tele\tera\tgentil,\tou como\ta\tgente\tse\tdava\tbem\tsem\tfazer\tesforço. Ele\tsempre\tfazia\ttudo\tcomigo\tde bom\tgrado,\te\tnessa\tépoca\tisso\tme\tparecia\tuma\tcoisa\tmuito\tvaliosa,\tmuito\trara. Na\tverdade,\tela\tdeu\ta\tmaior\tforça. E\ttem\thoras\tque eu\tpareço\tum\tvelho\trindo. David\tdizia\tque\tminha\trisada\tde\tvelho\tera\ta\tmais autêntica,\tporque\tninguém\tem\tsã\tconsciência\tiria\tquerer\t fingir \tque\testá\trindo desse\tjeito. Hoje\teu\tme\tpergunto\tquando\tfoi\ta\túltima\tvez\tque\tisso\taconteceu. “Ainda\tnão\tfiz\tnada”,\tminha\tmãe\tresponde. “Por\tenquanto\té\tsó\tuma\tideia. Mas\tacho\tque\testou\ta\tfim\tde\tte\tfazer\tuma\tvisita.” Fico\tem\tsilêncio\tpor\tum\tinstante,\tpesando\tos\tprós\te\tos\tcontras,\tenquanto mastigo\to\tenorme\tpedaço\tde\tqueijo\tque\tenfiei\tna\tboca. Contra:\tela\tvai\tcriticar todas\tas\troupas\tque\teu\tvestir\tem\tsua\tpresença. Pró:\tela\tvai\tfazer\tmacarrão\tcom queijo\te\tbolo\tde\tcoco. Contra:\tela\tvai\tperguntar\tse\testá\ttudo\tbem\tcomigo\ta\tcada três\tsegundos. Pró:\tpor\tpelo\tmenos\talguns\tdias,\tquando\teu\tchegar,\tmeu apartamento\tnão\tvai\testar\tvazio. A\tgente\tpode\tsair para\tver\talgum\tshow,\tsei\tlá.”"
          },
          "metadata": {}
        },
        {
          "output_type": "display_data",
          "data": {
            "text/plain": [
              "<IPython.core.display.Markdown object>"
            ],
            "text/markdown": "### Página 68"
          },
          "metadata": {}
        },
        {
          "output_type": "display_data",
          "data": {
            "text/plain": [
              "<IPython.core.display.Markdown object>"
            ],
            "text/markdown": "“Já\taté\treservei\ta\tpassagem.” “Mãe”,\teu\tresmungo. Eu\tpoderia\tter\tcancelado\tse\tvocê\tnão\tme\tquisesse\taí. Pode\tser,\tné?” Eu\tsabia\tque\tisso\tia\tacontecer\tassim\tque\ta\tminha\tmãe\tpediu\taposentadoria parcial\tdo\temprego\tde\tprofessora,\tno\tano\tpassado. Ela\tpassou\tdécadas\tcomo coordenadora\tde\tciências\tnuma\tescola\tparticular\tde\tensino\tmédio\te,\tquando\tme contou\tque\tia\tpassar\ta\tdar\taulas\tsó\tpara\tduas\tturmas,\teu\tsabia\tque\tesse\ttempo\te essa\tatenção\tiam\tser\tdesviados\tpara\talguma\toutra\tcoisa. “Sim,\tpode\tser”,\trespondo\tenquanto\tcorto\tos\ttomates\te\tdespejo\tazeite\tem cima. “Só\tquero\tsaber\tse\tvocê\testá\tbem\tmesmo”,\tela\tdiz. Como\tuma\tfesta\tao\tfinal\tde um\tdia\truim. A\tgente\tnão\tquer\tir,\tmas\tsabe\tque\tvai\tser\tmelhor. Sabe\tque,\tmesmo se\tfor\tum\tsaco,\tpelo\tmenos\tvai\tser\tmelhor\tter\tsaído\tum\tpouco\tde\tcasa. “Recebeu\ta\tencomenda\tque\teu\tmandei?”,\tela\tpergunta. “Encomenda?” “Com\tas\tfotos\tdo\tseu\tpai?” “Ah,\tnão”,\trespondo. “Não\tchegou,\tnão.” Ficamos\tquietas\tpor\tum\tinstante,\te\tminha\tmãe\tacaba\tse\tirritando\tcom\tmeu silêncio. “Ah,\tpelo\tamor,\testava\tesperando\tvocê\ttocar\tno\tassunto,\tsó\tque\tnão aguento\tmais\tesperar. Como\testá\tindo\tsua\tmatéria\tcom\ta\tEvelyn\tHugo?”,\tela pergunta. E\tdepois\tconto\tque\tela\tnão\tquer\tfazer\tmatéria\tnenhuma\tpara\ta\t Vivant ."
          },
          "metadata": {}
        },
        {
          "output_type": "display_data",
          "data": {
            "text/plain": [
              "<IPython.core.display.Markdown object>"
            ],
            "text/markdown": "### Página 69"
          },
          "metadata": {}
        },
        {
          "output_type": "display_data",
          "data": {
            "text/plain": [
              "<IPython.core.display.Markdown object>"
            ],
            "text/markdown": "“E,\tpor\tmais\tpromissor\tque\tisso\tpossa\tparecer,\ttem\talguma coisa\tesquisita\tnessa\thistória. Enfim,\tparece\tque\tem\tmomento\talgum\tela\tpensou em\tfazer\tuma\tmatéria\tpara\ta\t Vivant . Acho\tque\tsó\testava…”\tEu\tme\tdetenho, porque\tnão\tsei\tao\tcerto\to\tque\testou\ttentando\tdizer. “O\tquê?” Penso\tmais\tum\tpouco. “Só\testava\tusando\ta\t Vivant \tpara\tchegar\taté\tmim. É\tinteligente…” Começo\ta\trevirar\tos\tolhos\tpor\tcausa\tda\tprevisibilidade\tdos\tcomentários\tda minha\tmãe,\tmas\tgosto\tde\touvir\tos\telogios\tmesmo\tassim. Tem\talguma\tcoisa\tpor\ttrás\tdisso. Com\tcerteza.” “Isso\tnão\testá\tcheirando\tbem.” “Pois\té.” “Eu\ttenho\talgum\tmotivo\tpara\tme\tpreocupar?”,\tminha\tmãe\tpergunta. “Quer dizer,\t você \testá\tpreocupada?” Não\ttinha\tparado\tpara\tpensar\tnisso\tem\ttermos\ttão\tdiretos,\tmas\tacho\tque\ta resposta\té\tnão. “Estou\tcuriosa\tdemais\tpara\tme\tpreocupar”,\tdigo. “Bom,\tentão\ttrate\tde\tcompartilhar\tas\tfofocas\tmais\tquentes\tcom\ta\tsua\tmãe. “Estamos\tprontas?” Ela\testá\tde\tnovo\tem\tseu\tlugar. Eu\tlevanto,\tsirvo\tmeu\tcafé,\tacrescento\to\tcreme,\tvolto\tpara trás\tda\tmesa,\taciono\to\tgravador\tdo\tcelular\te\trespondo:\t“Sim,\ttudo\tpronto."
          },
          "metadata": {}
        },
        {
          "output_type": "display_data",
          "data": {
            "text/plain": [
              "<IPython.core.display.Markdown object>"
            ],
            "text/markdown": "### Página 70"
          },
          "metadata": {}
        },
        {
          "output_type": "display_data",
          "data": {
            "text/plain": [
              "<IPython.core.display.Markdown object>"
            ],
            "text/markdown": "O\tMALDITO Don\tAdler"
          },
          "metadata": {}
        },
        {
          "output_type": "display_data",
          "data": {
            "text/plain": [
              "<IPython.core.display.Markdown object>"
            ],
            "text/markdown": "### Página 71"
          },
          "metadata": {}
        },
        {
          "output_type": "display_data",
          "data": {
            "text/plain": [
              "<IPython.core.display.Markdown object>"
            ],
            "text/markdown": "No\tfim,\t Mulherzinhas \tcontinuou\tsendo\tum\tprojeto\tainda\tdistante\tpara\tmim. Porque\tbastou\teu\tvirar\t“Evelyn\tHugo,\ta\tjovem\tloira”\tpara\tque\to\tSunset\tde repente\ttivesse\ttodo\ttipo\tde\tfilmes\tpara\tmim. Eu\tnão\tme\timportava,\te\tpor\tduas\trazões. O\tprimeiro\tfilme\tque\tme\tderam\tpara\testrelar\tfoi\t Pai\te\tfilha . Ed\tBaker\tinterpretou\to\tmeu\tpai\tviúvo,\te\tnós\tdois\testávamos\tnos apaixonando\tao\tmesmo\ttempo. Nessa\tépoca,\tHarry\tinsistiu\tdemais\tpara\tque\teu\tsaísse\tcom\tBrick\tThomas. Brick\tera\tum\tantigo\tastro\tmirim\te\tídolo\tdas\tmatinês\tque\tse\tachava\to\tpróprio messias\tencarnado. Uma\tvez,\tnuma\tsexta-feira\tà\tnoite,\tfui\tme\tencontrar\tcom\tBrick,\tjunto\tcom Harry\te\tGwendolyn\tPeters,\ta\talguns\tquarteirões\tdo\tChasen’s. Gwen\tme\tfez colocar\tum\tvestido\tcom\tmeia-calça\te\tsalto\talto. Colocaram\tnós\tdois\tnuma\tmesa\tredonda,\tbem\tpertinho\tum do\toutro. “Quantos\tanos\tvocê\ttem,\tquerida?”,\tBrick\tme\tperguntou."
          },
          "metadata": {}
        },
        {
          "output_type": "display_data",
          "data": {
            "text/plain": [
              "<IPython.core.display.Markdown object>"
            ],
            "text/markdown": "### Página 72"
          },
          "metadata": {}
        },
        {
          "output_type": "display_data",
          "data": {
            "text/plain": [
              "<IPython.core.display.Markdown object>"
            ],
            "text/markdown": "“Então\tdeve\tter\tum\tpôster\tmeu\tpendurado\tna\tparede\tdo\tseu\tquarto,\tné?” Precisei\tme\tsegurar\tcom\ttodas\tas\tforças\tpara\tnão\tjogar\tminha\tbebida\tna\tcara dele. Os\tfotógrafos\tcontinuaram\tclicando\tnós\tdois\tsentados\tjuntos. Pouco\tantes\tde\tnos\tdespedirmos,\tBrick\tvirou\tpara\tmim\te\tsorriu. “Amanhã teremos\tum\tmonte\tde\tboatos\tsobre\tnós\tdois”,\tele\tcomentou. “Com\tcerteza.” “Se\tquiser\tfazer\tvirar\tverdade,\té\tsó\tme\tavisar.” Eu\tpoderia\tter\tficado\tquieta. Brick\tolhou\tbem\tpara\tmim,\tdeu\trisada\te\tse\tdespediu\tcom\tum\taceno,\tcomo\tse não\ttivesse\tacabado\tde\tlevar\tum\ttremendo\tcorte. Harry\tjá\ttinha\taberto\ta\tporta\te\testava esperando\tque\teu\tentrasse\tno\tcarro. “ Esse\tcara \trende\tuma\tnota\tpreta\tpara\tnós”,\tele\tdisse\tenquanto\teu\tme acomodava. Em\tvez\tdisso,\tvirou\tpara\tmim:\t“Não\testou\tfalando\tpara\tvocê\tse\tderreter toda\tpor\tesses\tatores\tde\tquem\tnão\tgosta”,\tele\tdisse. “Vou\ttentar.” E,\tapesar\tde\tsaber\tque\tseria\tbom\tpara\tminha\tcarreira,\tsó\tconsegui\tforçar alguns\tsorrisos\tquando\tsaí\tcom\tPete\tGreer\te\tBobby\tDonovan."
          },
          "metadata": {}
        },
        {
          "output_type": "display_data",
          "data": {
            "text/plain": [
              "<IPython.core.display.Markdown object>"
            ],
            "text/markdown": "### Página 73"
          },
          "metadata": {}
        },
        {
          "output_type": "display_data",
          "data": {
            "text/plain": [
              "<IPython.core.display.Markdown object>"
            ],
            "text/markdown": "Mas\taí\tHarry\tmarcou\tpara\tmim\tum\tencontro\tcom\tDon\tAdler,\to\tque\tme\tfez esquecer\tpor\tque\ttinha\tficado\ttão\tincomodada\tcom\tessa\tideia,\tpara\tcomeço\tde conversa. Don\tAdler\tme\tconvidou\tpara\tir\tao\tMocambo,\tsem\tdúvida\ta\tcasa\tnoturna\tmais badalada\tda\tcidade,\te\tfoi\tme\tbuscar\tno\tmeu\tapartamento. Quando\tabri\ta\tporta,\tdei\tde\tcara\tcom\tele\tvestindo\tum\tbelo\tterno,\tcom\tum buquê\tde\tlírios\tnas\tmãos. Era\tsó\tum\tpouquinho\tmais\talto\tque\teu,\tquando\testava de\tsalto. Era\to\tmesmo\tsorriso\tque\ttornara\tsua\tmãe\tfamosa,\tsó\tque\tnum\trosto mais\tmasculino\te\tbonito. Vou\tachar\tum vaso.” Eu\testava\tusando\tum\tvestido\tde\tnoite\tazul-safira\tcom\tgola\tcanoa,\te\tos\tcabelos num\tcoque. Peguei\tum\tvaso\tembaixo\tda\tpia\te\tabri\ta\ttorneira. “Não\tprecisava\tter\tse\tdado\tao\ttrabalho”,\tfalei\tenquanto\tDon\tme\tesperava,\tde pé\tna\tminha\tcozinha. Então\to\tmínimo\tque\tpodia\tfazer\tera\ttentar demonstrar\tque\té\tuma\tocasião\tespecial.” Coloquei\tas\tflores\tna\tbancada. “Vamos?” Don\tassentiu\te\tme\tpegou\tpela\tmão. “Eu\tvi\t Pai\te\tfilha ”,\tele\tcomentou\tenquanto\testávamos\tem\tseu\tconversível\ta caminho\tdo\tSunset\tStrip."
          },
          "metadata": {}
        },
        {
          "output_type": "display_data",
          "data": {
            "text/plain": [
              "<IPython.core.display.Markdown object>"
            ],
            "text/markdown": "### Página 74"
          },
          "metadata": {}
        },
        {
          "output_type": "display_data",
          "data": {
            "text/plain": [
              "<IPython.core.display.Markdown object>"
            ],
            "text/markdown": "“Acho\tque você\té\ta\tmulher\tmais\tlinda\tque\tjá\tvi\tna\tvida.” “Ah,\tpara\tcom\tisso”,\trespondi. Quando\to\tfilme\tacabou,\tolhei\tpara\tAri e\tfalei:\t‘Essa\té\ta\tgarota\tcerta\tpara\tmim’.” “Falou\tnada”,\teu\tdisse. “Palavra\tde\tescoteiro.” Não\thavia\tabsolutamente\tnenhuma\trazão\tpara\talguém\tcomo\tDon\tAdler exercer\tsobre\tmim\tum\tefeito\tdiferente\tde\tqualquer\toutro\thomem\tno\tmundo. Não era\tmais\tbonito\tque\tBrick\tThomas,\tnem\tmais\tconfiável\tque\tErnie\tDiaz,\te\teu\tnão precisava\tgostar\tdele\tpara\tvirar\tuma\testrela. Mas\tesse\ttipo\tde\tcoisa\tdesafia\ta razão. No\tfim,\tacho\tque\ta\tculpa\té\tdos\tferomônios. Isso\talém\tdo\tfato\tde\tque,\tpelo\tmenos\tno\tinício,\tDon\tAdler\tme\ttratava\tcom\tum ser\thumano. Tem\tgente\tque\tnão\tpode\tver\tuma\tflor\tbonita\tque\tjá\tquer\tpôr\ta\tmão, já\tquer\tser\tdono\tdela. Querem\tdominar\ta\tbeleza\tda\tflor,\tquerem\tque\testeja\tem sua\tposse,\tsob\tseu\tcontrole. Tem\tuma\tcoisa\tquando\tvocê\tse\tcasa\tcom\tum\tcara\tassim\t—\tum\tcara\tcomo\tDon era\tna\tépoca. Você\testá\tdizendo\tpara\tele:\t“Essa\tcoisa\tlinda\tque\tvocê\tse contentava\tem\tapenas\tapreciar,\tbom,\tagora\tela\té\tsua”. Uma\tmultidão\tse\tapertando\tlá\tfora,\ttodo\tmundo\tquerendo\tentrar. O\tlado\tde dentro\tera\tum\tplayground\tdas\tcelebridades. Mesa\tapós\tmesa\tcheias\tde\tgente famosa,\tteto\talto,\tnúmeros\tincríveis\tno\tpalco\te\tpássaros\tpor\ttoda\tparte. Conheci Bonnie\tLakeland,\tque\ttinha\tacabado\tde\tcomeçar\ta\tfechar\tcontratos\tavulsos\te estava\tganhando\tuma\tfortuna\tcom\t Vintém,\tmeu\tbem ."
          },
          "metadata": {}
        },
        {
          "output_type": "display_data",
          "data": {
            "text/plain": [
              "<IPython.core.display.Markdown object>"
            ],
            "text/markdown": "### Página 75"
          },
          "metadata": {}
        },
        {
          "output_type": "display_data",
          "data": {
            "text/plain": [
              "<IPython.core.display.Markdown object>"
            ],
            "text/markdown": "para\tmim\tna\tocasião\tem\tque\talguém\tfalou\tisso\tde\tnovo\te\tsussurrou:\t“Estão\tme subestimando\taqui. Eu\tainda\tvou\tser\trei\tum\tdia\tdesses”. Don\te\teu\tficamos\tno\tMocambo\taté\tbem\tdepois\tda\tmeia-noite,\tdançando\tjunto até\tnossos\tpés\tcomeçarem\ta\tdoer. Toda\tvez\tque\tacabava\tuma\tmúsica,\tum\tdos dois\tsugeria\tque\tfôssemos\tsentar,\tmas,\tquando\tcomeçava\toutra,\tcontinuávamos na\tpista. Ele\tme\tlevou\tpara\tcasa\tpelas\truas\tvazias\tde\tmadrugada,\tcom\ta\tcidade\ttoda\tàs escuras. Quando\tchegamos\tao\tmeu\tprédio,\tme\tacompanhou\taté\ta\tporta\tdo apartamento. Simplesmente\tperguntou:\t“Quando\tvou poder\tver\tvocê\tde\tnovo?”. “Liga\tpara\to\tHarry\te\tmarca\tum\tencontro”,\trespondi. “Se\tvocê\tquer\tcâmeras\tpor\tperto,\ttudo\tbem”,\tfalou. “Se\tachar\tque\tnão\tprecisa, eu\ttambém\tvou\tachar.”\tEle\tabriu\tum\tsorriso\tmeigo\te\tsedutor. “Posso\tser\tbem\tsincero\tcom\tvocê?” “Se\tquiser.” “Tenho\tum\tcompromisso\tmarcado\tpara\tir\tao\tTrocadero\tcom\tNatalie\tEmber\tna sexta\tque\tvem.” “Ah.” “É\to\tlance\tdo\tnome. “Não\tacho\tque\tseja\tsó\to\tnome”,\tdisse\tpara\tele. A\tplateia\ttoda\tficou\tencantada.” Don\tme\tolhou\tcom\tum\tsorriso\ttímido. “Eu\tnão\tvou\tte\tdar\tessa\tsatisfação”,\tfalei."
          },
          "metadata": {}
        },
        {
          "output_type": "display_data",
          "data": {
            "text/plain": [
              "<IPython.core.display.Markdown object>"
            ],
            "text/markdown": "### Página 76"
          },
          "metadata": {}
        },
        {
          "output_type": "display_data",
          "data": {
            "text/plain": [
              "<IPython.core.display.Markdown object>"
            ],
            "text/markdown": "Você\tque faça\to\tque\tquiser\ta\trespeito.” Ele\tse\tempertigou\ttodo,\tcomo\tse\teu\ttivesse\tacabado\tde\tdar\tuma\tordem. “Certo,\tvou\tcancelar\tcom\ta\tNatalie\tentão. Pego\tvocê\taqui\tna\tsexta\tàs\tsete horas.” Eu\tsorri\te\tassenti\tcom\ta\tcabeça. “Você\tse\tdivertiu\thoje\tà\tnoite?”,\tele\tquis\tsaber. Mas\tacabei\tperdendo\to controle,\tna\tempolgação\tde\tme\tsentir\tanimada\tpor\tcausa\tde\talguém\tpela primeira\tvez\tna\tvida. “Foi\tuma\tdas\tmelhores\tnoites\tda\tminha\tvida”,\trespondi. “Da\tminha\ttambém.” No\tdia\tseguinte,\tnossa\tfoto\tapareceu\tna\trevista\t Sub\tRosa \tcom\ta\tlegenda:\t“Don Adler\te\tEvelyn\tHugo\tformam\tum\tcasal\te\ttanto”."
          },
          "metadata": {}
        },
        {
          "output_type": "display_data",
          "data": {
            "text/plain": [
              "<IPython.core.display.Markdown object>"
            ],
            "text/markdown": "### Página 77"
          },
          "metadata": {}
        },
        {
          "output_type": "display_data",
          "data": {
            "text/plain": [
              "<IPython.core.display.Markdown object>"
            ],
            "text/markdown": "E,\tcomo\tuma\tmostra\tda\tempolgação\tdo Sunset\tem\ttorno\tda\tminha\tnova\tpersona,\to\tcrédito\tno\tinício\tdo\tfilme\tdizia “Apresentando\tEvelyn\tHugo”. Sabia\tque,\tse\tela\testivesse\tlá comigo,\testaria\texplodindo\tde\talegria. Mas\tAri\tqueria\tque\teu\te\tEd\tBaker\tfizéssemos\toutro\tfilme\to quanto\tantes. Em\tvez\tdisso,\tos\testúdios\tmeio que\trefaziam\to\tmesmíssimo\tfilme\tcom\toutro\ttítulo\te\tum\tcontexto\tligeiramente alterado. Então\tlogo\tcomeçamos\tas\tfilmagens\tde\t Os\tvizinhos . Ed\tfazia\to\tpapel\tde\tum tio\tmeu,\tque\tficou\tresponsável\tpor\tmim\tdepois\tda\tmorte\tdos\tmeus\tpais. E\tnós dois\tiniciamos\trelacionamentos\tromânticos\tsimultâneos,\tele\tcom\tuma\tmãe\tviúva que\tmorava\tao\tlado,\te\teu\tcom\to\tfilho\tdela. Don\testava\tfilmando\tum\tthriller\tno\testúdio\tnessa\tépoca,\te\tia\tme\tvisitar\ttodos os\tdias\tnas\tpausas\tpara\to\talmoço\tno\tset. Ficava\ttoda\tderretida\tassim\tque\tpunha\tos\tolhos\tnele,\tsempre\tprocurando\tum pretexto\tpara\ttocá-lo,\te\tsempre\tdando\tum\tjeito\tde\tmencioná-lo\tquando\tele\tnão estava\tpor\tperto."
          },
          "metadata": {}
        },
        {
          "output_type": "display_data",
          "data": {
            "text/plain": [
              "<IPython.core.display.Markdown object>"
            ],
            "text/markdown": "### Página 78"
          },
          "metadata": {}
        },
        {
          "output_type": "display_data",
          "data": {
            "text/plain": [
              "<IPython.core.display.Markdown object>"
            ],
            "text/markdown": "“Ev,\tquerida,\té\tsério”,\tHarry\tme\tdisse\tuma\tvez\tno\tescritório\tenquanto\tnós\tdois tomávamos\tuns\tdrinques. “Já\testou\tpor\taqui\tcom\tessa\thistória\tde\tDon\tAdler.”\tEu visitava\tHarry\ttodos\tos\tdias\tnessa\tépoca,\tsó\tpara\tver\tcomo\tele\testava. Sempre fazia\tparecer\tque\tera\talguma\tcoisa\trelacionada\tao\ttrabalho,\tmas\tele\tera\ta\tcoisa mais\tpróxima\tque\teu\ttinha\tde\tum\tamigo. Também\tmantinha\tboas\trelações\tcom\toutras\tatrizes\tdo\tSunset,\tclaro. Ruby Reilly,\tem\tespecial,\tera\tuma\tdas\tminhas\tfavoritas. Nunca\tmedia\tas\tpalavras,\tmas\tera\tcapaz\tde conquistar\tquase\tqualquer\tum\tcom\tseu\tcharme. Às\tvezes\tRuby\te\teu,\tjunto\tcom\toutras\tmeninas\tdo\testúdio,\tíamos\talmoçar\te fofocar\tsobre\tos\tassuntos\tdo\tmomento,\tmas,\tpara\tser\tsincera,\teu\tteria\tacabado com\tqualquer\tuma\tdelas\tpara\tconseguir\tum\tpapel. E\tacho\tque\telas\tteriam\tfeito\ta mesma\tcoisa\tcomigo. E\tseria\tuma\tidiotice\tda\tnossa\tparte confiar\tumas\tnas\toutras. Queríamos\tque\tEvelyn\tHugo\tse\ttornasse um\tnome\tde\tpeso. “É\tmelhor esperar\talguns\tmeses.” “Eu\t com\tcerteza \tquero\tfazer\tagora.” Harry\tsacudiu\ta\tcabeça\te\tlevantou\tpara\tpegar\toutra\tdose\tde\tuísque. “Você\tainda\ttem\tmuito\ta\tconquistar”,\tdisse\tHarry."
          },
          "metadata": {}
        },
        {
          "output_type": "display_data",
          "data": {
            "text/plain": [
              "<IPython.core.display.Markdown object>"
            ],
            "text/markdown": "### Página 79"
          },
          "metadata": {}
        },
        {
          "output_type": "display_data",
          "data": {
            "text/plain": [
              "<IPython.core.display.Markdown object>"
            ],
            "text/markdown": "“É\tcom\tisso\tque\testou\tcontando.” “É\tmelhor\tque\t Mulherzinhas \tapareça\tjustamente\tquando\tas\tpessoas\tpensarem que\tvocê\tsó\tsabe\tfazer\tuma\tcoisa.” “Como\tassim?” “Você\tfez\tmuito\tsucesso\tcom\t Pai\te\tfilha . Vai\tmostrar\tque\té\tcapaz\tde\treproduzir\ta\tmagia. Alguma\tcoisa\tpara\tfazer\ttodas\tas\tgarotas\tquererem\tser\tvocê,\te\ttodos\tos garotos\tquererem\t você .” “Sei.” “E,\tquando\tas\tpessoas\tcomeçarem\ta\tachar\tque\tte\tconhecem,\tque\tjá\t‘sacaram’ qual\té\ta\tde\tEvelyn\tHugo,\tvocê\taparece\tno\tpapel\tde\tJo. E\tdeixa\ttodo\tmundo\tde queixo\tcaído. Aí\ta\tplateia\tvai\tpensar:\t‘Eu\tsabia\tque\tela\tera\tespecial’.” “Mas\tpor\tque\teu\tnão\tposso\tfazer\t Mulherzinhas \tagora? Para\tfazer\ttodo\tmundo pensar\tassim\t hoje ?” Harry\tbalançou\ta\tcabeça. “Porque\tas\tpessoas\tprecisam\tde\ttempo\tpara\tse apegarem\ta\tvocê. Para\tte\tconhecerem.” “Você\testá\tme\tdizendo\tque\teu\tpreciso\tser\tprevisível,\tentão.” “Estou\tdizendo\tpara\tvocê\tser\tprevisível\te\tentão\tfazer\tuma\tcoisa\timprevisível, e\tassim\tconquistar\to\tamor\tdas\tpessoas\tpara\tsempre.” Eu\touvi\to\tque\tele\tdisse\te\tpensei\ta\trespeito."
          },
          "metadata": {}
        },
        {
          "output_type": "display_data",
          "data": {
            "text/plain": [
              "<IPython.core.display.Markdown object>"
            ],
            "text/markdown": "### Página 80"
          },
          "metadata": {}
        },
        {
          "output_type": "display_data",
          "data": {
            "text/plain": [
              "<IPython.core.display.Markdown object>"
            ],
            "text/markdown": "Você\tgostando\tou\tnão, ele\tquer\tfazer\talguns\toutros\tfilmes\tantes\tde\t Mulherzinhas . Mas\tvocê\tvai\tfazer Mulherzinhas .” “Tudo\tbem”,\trespondi. Meu\tcontrato\tcom\to Sunset\tainda\tse\testendia\tpor\tmais\ttrês\tanos. “Sua\ttarefa\tagora”,\tdisse\tHarry,\t“é\ttentar\tentabular\talguma\tcoisa\tcom\to\tDon. Isso\té\tdo\tinteresse\tdos\tdois.” Eu\tdei\trisada. Quero\tmesmo\té\tsaber\tse\tvocês\tdois\testão\tdispostos\ta oficializar\ta\trelação.” Don\te\teu\ttínhamos\tsido\tvistos\tjuntos\tpela\tcidade\te\tfotografados\tem\ttodos\tos lugares\tmais\tbadalados\tde\tHollywood. E\ttudo\tisso\tsabendo o\tque\tsignificava\tdesfilar\tassim\tem\tpúblico. Eu\tprecisava\tter\to\tnome\tdo\tDon\tvinculado\tao\tmeu,\te\tDon\ttinha\tque\tfazer parecer\tque\tera\tparte\tintegrante\tda\tNova\tHollywood. Fotos\tnossas\tcom\toutros casais\tde\tfamosos\teram\texcelentes\tpara\tsolidificar\ta\timagem\tdele\tcomo\tum homem\tbem\trelacionado\tna\tcidade. Porque\testávamos felizes\t—\tde\tverdade\t—\tna\tcompanhia\tum\tdo\toutro. O\tfato\tde\tisso\tajudar\tnossas carreiras\tera\tsó\tum\tbônus. Na\tnoite\tde\testreia\tdo\tfilme\tdele,\t A\tgrande\tenrascada ,\tDon\tfoi\tme\tbuscar usando\tum\tterno\tescuro\tlindo\te\tuma\tcaixa\tda\tTiffany\tna\tmão. Eu\testava\tusando\tum\tChristian\tDior\tflorido\tpreto\te roxo."
          },
          "metadata": {}
        },
        {
          "output_type": "display_data",
          "data": {
            "text/plain": [
              "<IPython.core.display.Markdown object>"
            ],
            "text/markdown": "### Página 81"
          },
          "metadata": {}
        },
        {
          "output_type": "display_data",
          "data": {
            "text/plain": [
              "<IPython.core.display.Markdown object>"
            ],
            "text/markdown": "Dentro\tda\tcaixa\ttinha\tuma\taliança\tenorme\tde\tplatina\tcom\tdiamante. Era trançado\tnas\tlaterais,\tcom\ta\tpedra\tde\tcorte\tquadrado\tno\tmeio. “Você\testá…” Eu\tsabia\tque\tisso\testava\tpara\tacontecer,\tprincipalmente\tporque\tDon\testava com\ttanta\tvontade\tde\tir\tpara\ta\tcama\tcomigo\tque\taquilo\to\tcorroía\tpor\tdentro. Mas\tisso\testava\tficando\tcada\tvez\tmais\tdifícil. Eu\tnunca\ttinha\texperimentado\tessa\tsensação\tantes\t—\to\tdesejo\tfísico\tpor alguém. Nunca\ttinha\tsentido\taquela\tvontade\tde\tser\ttocada,\taté\tconhecer\tDon. Quando\testava\tperto\tdele,\tficava\tdesesperada\tpara\tsentir\to\tseu\ttoque\tna\tminha pele. E\tadorava\ta\tideia\tde\tter\talguém\tcom\tquem\tfazer\tamor. Já\ttinha\tfeito\tsexo,\to que\tnunca\tsignificou\tnada\tpara\tmim. Don fechou\ta\tcaixa\tantes\tque\teu\tpudesse\tfazer\tisso. “Não\testou\tpedindo\tvocê\tem casamento”,\tele\tavisou. Quem\tera\teu,\tEvelyn\tHerrera,\tpara\tdesfilar\tpor\taí\tdizendo\tque\tme chamava\tEvelyn\tHugo\te\tpensando\tque\tpoderia\tme\tcasar\tcom\tum\tastro\tdo cinema? “Você\tque\tsabe,\tentão”,\tfalei,\tme\tvirando para\tpegar\tminha\tbolsinha. Saímos\tdo\tmeu\tapartamento,\te\teu tranquei\ta\tporta."
          },
          "metadata": {}
        },
        {
          "output_type": "display_data",
          "data": {
            "text/plain": [
              "<IPython.core.display.Markdown object>"
            ],
            "text/markdown": "### Página 82"
          },
          "metadata": {}
        },
        {
          "output_type": "display_data",
          "data": {
            "text/plain": [
              "<IPython.core.display.Markdown object>"
            ],
            "text/markdown": "“Vou\tfazer\to\tpedido\thoje\tà\tnoite.”\tA\tvoz\tdele\tsoou\tcomo\tum\tapelo,\tquase\tum pedido\tde\tdesculpas. Na\tfrente\tde\ttodo\tmundo.” Isso\tbastou\tpara\tme\tamolecer. Ele\tnão\tabriu\ta\tcaixa\tde\tnovo. “Você\tvai\taceitar?” “É\tmelhor\ta\tgente\tir”,\tfalei. Cravou\tos\tdentes\tno meu\tlábio\tinferior. E\tdessa\tvez\tcom\talguém\tque\tamava. O\tque\tpode\tser\tmais\tdistante\tde\tum\tapartamento\tminúsculo\te\tmiserável\tem Hell’s\tKitchen\tdo\tque\tisso? Uma\thora\tdepois,\tno\ttapete\tvermelho,\tno\tmeio\tde\tum\tmar\tde\tfotógrafos\te jornalistas,\tDon\tAdler\tse\tapoiou\tsobre\tum\tdos\tjoelhos. “Evelyn\tHugo,\tvocê\tquer casar\tcomigo?” Eu\tdei\tum\tgrito\te\tfiz\tque\tsim\tcom\ta\tcabeça. Ele\tficou\tde\tpé\te\tpôs\ta\taliança\tno meu\tdedo. Quando\tDon\tme\tpôs\tno\tchão,\tvi\tHarry\tCameron\tna\tporta\tdo\tcinema, aplaudindo\ta\tgente."
          },
          "metadata": {}
        },
        {
          "output_type": "display_data",
          "data": {
            "text/plain": [
              "<IPython.core.display.Markdown object>"
            ],
            "text/markdown": "### Página 83"
          },
          "metadata": {}
        },
        {
          "output_type": "display_data",
          "data": {
            "text/plain": [
              "<IPython.core.display.Markdown object>"
            ],
            "text/markdown": "Vocês\tficaram\tsabendo\taqui\tem\tprimeira\tmão,\tpessoal:\to\tmais\tnovo\tcasal hollywoodiano,\tDon\tAdler\te\tEvelyn\tHugo,\tvai\tjuntar\tas\tescovas\tde\tdente! O\tmais\tcobiçado\tdos\tsolteiros\tescolheu\tninguém\tmenos\tque\ta\tloiraça\tdo momento\tpara\tser\tsua\tnoiva. Os\tdois\tpombinhos\tvinham\tsendo\tvistos\tjuntos\tpor toda\tparte,\te\tagora\tdecidiram\toficializar\to\tromance."
          },
          "metadata": {}
        },
        {
          "output_type": "display_data",
          "data": {
            "text/plain": [
              "<IPython.core.display.Markdown object>"
            ],
            "text/markdown": "### Página 84"
          },
          "metadata": {}
        },
        {
          "output_type": "display_data",
          "data": {
            "text/plain": [
              "<IPython.core.display.Markdown object>"
            ],
            "text/markdown": "Trezentos\tconvidados,\trecebidos\tpor\tMary\te Roger\tAdler. Foi\tuma\tcriação\tde\tVivian Worley,\tfigurinista-chefe\tdo\tSunset. Gwendolyn\tfez\tmeu\tcabelo,\tque\tficou\tpreso num\tcoque\tsimples\te\timpecável,\tonde\tafixaram\to\tvéu\tde\ttule. Pouca\tcoisa naquela\tcerimônia\tfoi\tplanejada\tpor\tnós;\tMary\te\tRoger\tcuidaram\tde\tquase\ttudo, e\to\testúdio\tse\tencarregou\tdo\tresto. Don\tprecisava\tdançar\tconforme\ta\tmúsica\ttocada\tpelos\tpais. Mesmo\tnessa época\teu\tsentia\tcomo\tele\testava\távido\tpor\tsair\tda\tsombra\tdos\tdois,\tde\teclipsar\to brilho\tde\tMary\te\tRoger\tcom\tseu\testrelato. E,\tapesar\tde\tnosso\tcasamento\tter\tsido\tfruto\tde\tum\tcapricho\talheio,\tisso\tnão impediu\tque\ta\tgente\tsentisse\tque\tnosso\tamor\te\tcomprometimento\teram\tsagrados. Perto\tdo\tfim\tda\tnoite,\tdepois\tque\tos\tsinos\ttocaram,\tanunciando\tos\trecém- casados,\tHarry\tme\tpuxou\tpara\tum\tcanto. “Hoje\tsou\ta\tnoiva\tmais\tfamosa\tdo\tmundo”,\tfalei."
          },
          "metadata": {}
        },
        {
          "output_type": "display_data",
          "data": {
            "text/plain": [
              "<IPython.core.display.Markdown object>"
            ],
            "text/markdown": "### Página 85"
          },
          "metadata": {}
        },
        {
          "output_type": "display_data",
          "data": {
            "text/plain": [
              "<IPython.core.display.Markdown object>"
            ],
            "text/markdown": "Aos dezenove\tanos,\tachava\tque\tia\tter\tmeu\tfinal\tfeliz\tcom\tDon. Harry\tme\tabraçou\te\tdisse:\t“Estou\tfeliz\tpor\tvocê,\tmenina”. Segurei\ta\tmão\tdele\tantes\tque\tse\tafastasse. Tinha\ttomado\tduas\ttaças\tde champanhe,\te\testava\ttoda\tsoltinha. “A\tgente\tjá\tse\tconhece\thá\talguns\tanos. “Não\tfoi\to\tque\teu\tquis\tdizer,\te\tvocê\tsabe\tmuito\tbem\tdisso.” “Você\tqueria\tque\tacontecesse\talguma\tcoisa?”,\tele\trebateu. Apesar\tdo\tfato\tinegável\tde\tque\tele era\tatraente. Me\tlembro\tdisso todos\tos\tdias.” “Qual\to\tmotivo\tentão,\tHarry? Fale\ta\tverdade!” Harry\tdeu\tum\tgole\tno\tuísque\te\tafastou\to\tbraço\tde\tmim. “Esse\tdetalhe\tnão\tparece\tser\tnenhum empecilho\tpara\tos\thomens. Mary\tainda\tera\tlinda\taos cinquenta\te\tpoucos\tanos. Tinha\tganhado\tfama\tna\tépoca\tdo\tcinema\tmudo,\te\tfez"
          },
          "metadata": {}
        },
        {
          "output_type": "display_data",
          "data": {
            "text/plain": [
              "<IPython.core.display.Markdown object>"
            ],
            "text/markdown": "### Página 86"
          },
          "metadata": {}
        },
        {
          "output_type": "display_data",
          "data": {
            "text/plain": [
              "<IPython.core.display.Markdown object>"
            ],
            "text/markdown": "só\talguns\tfilmes\tfalados\tantes\tde\tse\taposentar. Era\talta\te\tintimidadora,\te\ttinha um\trosto\tque\tera\timponente,\tmais\tdo\tque\tqualquer\toutra\tcoisa. Harry\tdeu\tmais\tum\tgole\tno\tuísque\te\tbaixou\to\tcopo. Harry\tnão\tse\tinteressava\tpor\tgarotas\tcomo\teu. “Você\té\to\tmelhor\tamigo\tque\teu\ttenho\tno\tmundo,\tHarry”,\tfalei. Fiquei\tcom\timpressão\tde\tque\tfez\tisso\tporque\tgostou\tde\touvir aquilo\te\ttambém\tporque\testava\taliviado. Ele\tse\trevelou\tpara\tmim,\tainda\tque\tde forma\tvaga. E\teu\treagi\tcom\taceitação,\tainda\tque\tde\tforma\tindireta. “Bom,\tentão\tvocê\té\ta\tminha.” Levantei\tminha\ttaça. “Os\tmelhores\tamigos\tcontam\ttudo\tum\tpara\to\toutro”, falei. “Nem\tpor\tum minuto.” Don\tapareceu\te\tinterrompeu\tnossa\tconversa. Concentrado\tsó\tem\tmim,\tme\tenxergando\tde\tverdade. Amo\to\tfato\tde\tvocê\tnão\tter\tbunda. Então\tdizer\tque\tsim\tseria\teufemismo.” Eu\tdei\trisada\te\to\tbeijei. Estávamos\tcercados\tde\tgente,\ta\tpista\testava\tlotada."
          },
          "metadata": {}
        },
        {
          "output_type": "display_data",
          "data": {
            "text/plain": [
              "<IPython.core.display.Markdown object>"
            ],
            "text/markdown": "### Página 87"
          },
          "metadata": {}
        },
        {
          "output_type": "display_data",
          "data": {
            "text/plain": [
              "<IPython.core.display.Markdown object>"
            ],
            "text/markdown": "Roger,\to\tpai\tdele,\testava\tnum\tcanto,\tfumando\tum\tcharuto\tcom\tAri\tSullivan. Com\tdois\tmeses\tde\tcasamento,\tele\tcomeçou\ta\tme\tbater."
          },
          "metadata": {}
        },
        {
          "output_type": "display_data",
          "data": {
            "text/plain": [
              "<IPython.core.display.Markdown object>"
            ],
            "text/markdown": "### Página 88"
          },
          "metadata": {}
        },
        {
          "output_type": "display_data",
          "data": {
            "text/plain": [
              "<IPython.core.display.Markdown object>"
            ],
            "text/markdown": "Seis\tsemanas\tdepois\tda\tcerimônia,\tDon\te\teu\tgravamos\tum\tromance\tmeloso em\tPuerto\tVallarta. O\ttítulo\tera\t Pelo\túltimo\tdia ,\te\to\tenredo\tera\tsobre\tDiane,\tuma menina\trica\tque\tpassava\to\tverão\tcom\tos\tpais\tna\tcasa\tde\tpraia,\te\tFrank,\tum garoto\tda\tregião\tque\tse\tapaixona\tpor\tela. Dávamos\tfestas\tna\tpiscina\tquase\ttodo\tfim\tde\tsemana,\tbebendo champanhe\te\tcoquetéis\ta\ttarde\ttoda\taté\to\tcair\tda\tnoite. Don\tfazia\tamor\tcomo\tum\trei. Com\ta\tconfiança\te\to\tpoder\tde\tum verdadeiro\tlíder\tentre\tos\thomens. Ele\tvirou\tuma\tchavinha\tdentro\tde\tmim. Ser\tcasada\tcom\tDon\tme\trevelou\tum\toutro lado\tmeu\tque\teu\testava\tsó\tcomeçando\ta\tconhecer. Quando\tchegamos\ta\tPuerto\tVallarta,\tficamos\talguns\tdias\tpasseando\tantes\tdas filmagens. Alugamos\tum\tbarco\te\tfomos\tpara\to\talto-mar. Mas,\tquando\tcomeçaram\tas\tgravações\te\to\testresse\tdiário\tda\trotina\tde Hollywood\tpassou\ta\tse\tinfiltrar\tno\tnosso\tcasulo\tde\trecém-casados,\tdava\tpara sentir\tque\ta\tmaré\testava\tvirando. O\tfilme\tmais\trecente\tde\tDon\tàquela\taltura,\t O\tpistoleiro\tde\tPoint\tDume ,\tnão estava\tindo\tbem\tnas\tbilheterias. Era\to\tprimeiro\tfaroeste\tdele,\ta\tprimeira\ttentativa"
          },
          "metadata": {}
        },
        {
          "output_type": "display_data",
          "data": {
            "text/plain": [
              "<IPython.core.display.Markdown object>"
            ],
            "text/markdown": "### Página 89"
          },
          "metadata": {}
        },
        {
          "output_type": "display_data",
          "data": {
            "text/plain": [
              "<IPython.core.display.Markdown object>"
            ],
            "text/markdown": "A\t PhotoMoment \ttinha\tacabado\tde\tpublicar\tuma\tcrítica dizendo:\t“Don\tAdler\tnão\té\tnenhum\tJohn\tWayne”. A\t Hollywood\tDigest escreveu:\t“Adler\tparece\tum\ttolo\tcom\tuma\tarma\tna\tmão”. Senti\tque\tele\testava incomodado,\tduvidando\tde\tsi\tmesmo. Seu\tpai\thavia interpretado\tsobretudo\tpapéis\tem\tcomédias\tpastelão,\tera\tum\tpalhaço. E\tnem\to\tfato\tde\tter\tganhado\tum\tprêmio\tbaseado\tna\topinião\tdo\tpúblico\t—\to Audience\tAppreciation\tAward\tde\tmaior\tastro\tem\tascensão\t—\testava\tajudando muito. Mesmo\tassim,\tdecidi\tignorar\taquele\ttom\tde\tvoz\te chamei\ta\tempregada. Quando\tchegamos,\teu\tnão\tsabia\tse deveria\tfalar\tespanhol\tcom\to\tpessoal\tde\tlá. “Maria,\tvocê\tpode\tpreparar\to\tcafé\tda\tmanhã\tdo\tsr.\tAdler?”,\tfalei\tpelo interfone. Em\tseguida\tme\tvirei\tpara\tDon\te\tfalei:\t“O\tque\tvai\tquerer? Paula,\tnossa\tempregada\tem\tLos\tAngeles,\tpreparava\to\tcafé\tda\tmanhã\tdele todos\tos\tdias. E\tnesse\tmomento\tpercebi\tque\tnunca tinha\tprestado\tatenção\tnisso. Irritado,\tDon\tcolocou\to\ttravesseiro\tem\tcima\tdo\trosto\te\tcomeçou\ta\tgritar. “Se\tvocê\tvai\tser\to\ttipo\tde\tesposa\tque\tnão\tprepara\tnem\tmeu\tcafé\tda\tmanhã, pelo\tmenos\tpoderia\tsaber\tcomo\teu\tgosto.”\tEle\tescapou\tpara\to\tbanheiro."
          },
          "metadata": {}
        },
        {
          "output_type": "display_data",
          "data": {
            "text/plain": [
              "<IPython.core.display.Markdown object>"
            ],
            "text/markdown": "### Página 90"
          },
          "metadata": {}
        },
        {
          "output_type": "display_data",
          "data": {
            "text/plain": [
              "<IPython.core.display.Markdown object>"
            ],
            "text/markdown": "Eu\to conheci\tna\tcrista\tda\tonda,\te\tcasei\tcom\tele\tquando\testava\tem\tascensão. E\tlogo ficou\tclaro\tque\taquele\tDon\tmeigo\tnão\tera\to\túnico\tDon\tque\thavia. Mais\ttarde,\tno\tnosso\tCorvette\talugado,\tDon\tsaiu\tda\tgaragem\te\ttomou\to\trumo do\tset,\tque\tficava\ta\tdez\tquadras. Essa\tera\teu\ttentando\tlevantar\tos ânimos. “Tenho\tmais\ttempo\tde carreira\tdo\tque\tvocê\ttem\tde\tvida.”\tSeria\tverdade,\tnão\tfosse\tuma\tressalva\ttécnica. Ele\tapareceu\tnum\tdos\tfilmes\tmudos\tde\tMary\tquando\tera\tbebê. Havia\talguns\tcarros\tparados\tatrás\tde\tnós. “Don…”,\tfalei,\ttentando\tfazer\tcom\tque\tele\tvoltasse\ta\tdirigir. A\tcaminhonete\tbranca\tatrás\tde\tnós\tembicou\tpara\to\tlado,\ttentando\tuma ultrapassagem. Muitos\tatores\testavam\tcomeçando\ta administrar\tas\tpróprias\tcarreiras. Isso\testava\trendendo\tcachês\tcada\tvez\tmaiores aos\tgrandes\tastros. Vivia\tse\tjustificando,\tfalando que\tganhava\tmais\tpor\tum\tfilme\tdo\tque\tseus\tpais\tfaturaram\tna\tvida\tinteira. Desconfie\tde\thomens\tque\tprecisam\tmuito\tprovar\talguma\tcoisa. “Tem\tgente\tna\tcidade\tperguntando\tpor\tque\tvocê\tainda\tse\tchama\tEvelyn Hugo.” “Eu\tmudei\tmeu\tnome\toficialmente."
          },
          "metadata": {}
        },
        {
          "output_type": "display_data",
          "data": {
            "text/plain": [
              "<IPython.core.display.Markdown object>"
            ],
            "text/markdown": "### Página 91"
          },
          "metadata": {}
        },
        {
          "output_type": "display_data",
          "data": {
            "text/plain": [
              "<IPython.core.display.Markdown object>"
            ],
            "text/markdown": "“Estão\tachando\tque\té\tvocê\tquem\tusa\tcalça\tlá\tem\tcasa.” Apoiei\ta\tcabeça\tentre\tas\tmãos. Provavelmente\tcom uma\tmanchete\tdo\ttipo:\t“Casal\tAdler:\tcasamento\tou\ttormento?”. Acho\tque\tDon\tpensou\ta\tmesma\tcoisa\tao\tmesmo\ttempo,\tporque\tengatou\to carro\te\tdirigiu\taté\to\tset. Quando\tparamos\tno\testacionamento,\tcomentei:\t“Não acredito\tque\testamos\tquase\tquarenta\te\tcinco\tminutos\tatrasados”. E\tDon\trespondeu:\t“Bom,\tnós\tsomos\to\tcasal\tAdler. Esperei\taté\tchegarmos\tao trailer\tdele\tpara\tfalar:\t“Você\tparece\tum\tidiota\tquando\tfala\tassim. Não\tdá\tpara dizer\tessas\tcoisas\tem\tlugares\tonde\tas\tpessoas\tpodem\touvir”. O\tpessoal\tdo\tfigurino\tia\tchegar\ta\tqualquer momento. Eu\tdeveria\tter\tido\tlogo\tpara\to\tmeu\ttrailer. “Acho\tque\tvocê\tnão\tentendeu\tdireito\tuma\tcoisa,\tEvelyn”,\tDon\tdisse. “Acho\tque\tesse\tdeveria\tser\tseu\túltimo\tfilme”,\tele\tcontinuou. “Está\tna\thora\tde termos\tfilhos.” A\tcarreira\tdele\tnão\testava\ttomando\to\trumo\tdesejado. E\tele\tme\tdeu\tum\ttapa\tna\tcara. A\tpele\tdo\tmeu\trosto\testava ardendo,\te\teu\tnão\tconseguia\tacreditar\tnaquilo. Para\tquem\tnunca\tlevou\tum\ttapa\tna\tcara,\tvou\tdizer\tuma\tcoisa:\té\tbem"
          },
          "metadata": {}
        },
        {
          "output_type": "display_data",
          "data": {
            "text/plain": [
              "<IPython.core.display.Markdown object>"
            ],
            "text/markdown": "### Página 92"
          },
          "metadata": {}
        },
        {
          "output_type": "display_data",
          "data": {
            "text/plain": [
              "<IPython.core.display.Markdown object>"
            ],
            "text/markdown": "Principalmente\tquando\tos\tolhos\tcomeçam\ta\tse\tencher\tde\tlágrimas,\te a\tpessoa\tfica\tsem\tsaber\tse\tdeve\tchorar\tou\tnão. O\tchoque\te\ta\tforça\tdo\tgolpe estimulam\tos\tcanais\tlacrimais. Não\ttem\tcomo\tlevar\tum\ttapa\tna\tcara\te\tse\tmanter\timpassível. Da\tmesma\tforma\tcomo\treagia\tquando\tapanhava\tdo\tmeu\tpai. Hugo\testá\taí?” Don\tnão\tconseguiu\tdizer\tnada. Fiquei\timpressionada\tcom\to\ttom\tda\tminha voz,\tque\tparecia\tconfiante\te\tinabalado. Parecia\ta\tvoz\tde\tuma\tmulher\tque\tnunca tinha\tapanhado\tna\tvida. Don\testava\tde\tcostas,\tbloqueando\tminha visão. Don\tnão\tconseguia\tnem\tolhar\tpara\tmim. Mas\tdeu\tuma\tespiada\te\tconfirmou com\ta\tcabeça. Estava\ttodo\tenvergonhado,\tparecendo\tum\tmenininho,\tcomo\tse\teu tivesse\tperguntado\tse\tfoi\tele\tquem\tquebrou\ta\tjanela\tdos\tvizinhos. “Vai\tlá\te\tdiz\tpara\to\tBobby\tque\testou\tcom\tproblemas\tde\tmulher. Ele\tvai\tficar sem\tgraça\tdemais\tpara\tfazer\tperguntas. Depois\tdiz\tpara\ta\tsua\tfigurinista\tte encontrar\tno\tmeu\tcamarim. Assim\tque\tele\tpassou\tpela\tporta,\ttranquei\ta\tfechadura,\tme\tencostei\tna\tparede e\tdeslizei\taté\to\tchão. As\tlágrimas\tcaíram\tquando\tnão\ttinha\tninguém\tpor\tperto para\tver. Eu\testava\ta\tquase\tcinco\tmil\tquilômetros\tdo\tlugar\tonde\tnasci. Consegui\tme colocar\tno\tlugar\tcerto\tna\thora\tcerta."
          },
          "metadata": {}
        },
        {
          "output_type": "display_data",
          "data": {
            "text/plain": [
              "<IPython.core.display.Markdown object>"
            ],
            "text/markdown": "### Página 93"
          },
          "metadata": {}
        },
        {
          "output_type": "display_data",
          "data": {
            "text/plain": [
              "<IPython.core.display.Markdown object>"
            ],
            "text/markdown": "A\tmaioria\tdos americanos\tme\tconhecia. Sentei\tdiante\tda\tpia,\tcom\ttrês\tespelhos\tà\tminha\tfrente,\tcheios\tde\tlâmpadas\tnas molduras. Como\tfui\tidiota\tem\tachar\tque,\tse\talgum\tdia\ttivesse\tum\tcamarim\tde estrela\tde\tcinema,\tmeus\tproblemas\testariam\tresolvidos! Um\tminuto\tdepois,\tGwendolyn\tbateu\tna\tporta\tpara\tarrumar\tmeu\tcabelo. Vocês\tjá\testão\tatrasados.” “Só\tum\tinstantinho!” Me\tolhei\tno\tespelho\te\tvi\tque\tnão\ttinha\tcomo\tfazer\to\tvergão\tsumir. Levantei\te\tabri\ta\tporta. “Você\testá\tum\thorror.” “Eu\tsei.” Ela\tme\tolhou\tmais\tde\tperto\te\tentendeu\tmelhor\to\tque\testava\tvendo. Tombei\tem\tcima\tdo\tbalcão. Acertei\to\tqueixo\tem cheio.” Nós\tduas\tsabíamos\tque\tera\tmentira. E\taté\thoje\tnão\tsei\tse\tGwen\tme\tperguntou\taquilo\tpara\tme\tpoupar\tde\tmentir\tou para\tsugerir\tque\teu\tnão\tabrisse\ta\tboca. Muitas\toutras\testavam passando\tpela\tmesma\tsituação\tnaquele\tmomento. Existia\ttodo\tum\tcódigo\tsocial para\tcoisas\tassim. A\tprimeira\tregra\tera\tficar\tde\tbico\tfechado. Uma\thora\tdepois,\tfui\tlevada\tpara\to\tset. Don\testava\tsentado\tnuma\tcadeira\tenterrada\tna\tareia,\tbem\tatrás do\tdiretor."
          },
          "metadata": {}
        },
        {
          "output_type": "display_data",
          "data": {
            "text/plain": [
              "<IPython.core.display.Markdown object>"
            ],
            "text/markdown": "### Página 94"
          },
          "metadata": {}
        },
        {
          "output_type": "display_data",
          "data": {
            "text/plain": [
              "<IPython.core.display.Markdown object>"
            ],
            "text/markdown": "Vamos\tlogo\tcom\tisso.” Nós\tassumimos\tnossas\tposições. “Ronny,\tqual\to\tproblema\tcom\tesse boom…”\tDistraído\tna\tconversa\tcom\to\tpessoal\tda\ttécnica,\tele\tse\tafastou\tda câmera. “Evelyn,\tme\tdesculpa”,\tele\tmurmurou\tno\tmeu\touvido. Nunca\tninguém\ttinha\tse\tdesculpado por\tme\tbater. “Eu\tjamais\tdeveria\tter\tlevantado\ta\tmão\tpara\tvocê”,\tdisse. Não\tdevia\tter\tfeito\tnada\tque pudesse\tte\tmachucar.”\tEle\tparecia\tatormentado. “Faço\ttudo\tpara\tobter\tseu perdão.” Talvez\ta\tvida\tque\teu\timaginava\tnão\testivesse\ttão\tdistante\tassim. Talvez\tnão\tsignificasse\tque\ttudo\thavia mudado. O\tdiretor\tvoltou\tcorrendo\tpara\ttrás\tda\tcâmera,\te\tDon\tse\tinclinou\tpara\ttrás, tirando\tas\tmãos\tdos\tmicrofones. “E…\tação!” Don\te\teu\tfomos\tindicados\tao\tOscar\tpela\tnossa\tatuação\tem\t Pelo\túltimo\tdia . E acho\tque\to\tconsenso\testabelecido\tera\tde\tque\tnão\tfazia\tdiferença\tse\ttínhamos talento\tou\tnão. Até\thoje\tnão\tsei\tse\tnosso\tdesempenho\tfoi\tmesmo\tbom. É\to\túnico\tfilme\tmeu que\tnão\tconsigo\tver."
          },
          "metadata": {}
        },
        {
          "output_type": "display_data",
          "data": {
            "text/plain": [
              "<IPython.core.display.Markdown object>"
            ],
            "text/markdown": "### Página 95"
          },
          "metadata": {}
        },
        {
          "output_type": "display_data",
          "data": {
            "text/plain": [
              "<IPython.core.display.Markdown object>"
            ],
            "text/markdown": "Um\thomem\tbate\tem\tvocê\te\tpede\tdesculpas,\te\tvocê\tacha\tque\tnunca\tmais\tvai acontecer\tde\tnovo. Admite\tque\tfalou\taquilo\tde\tum jeito\tmeio\trude. Só\tnão\tsabe\tcomo conciliar\tisso\tcom\tos\tfilmes. E\tacha\tque\tdeveria\tter\tdeixado\tisso\tmais\tclaro. Na\tmanhã\tseguinte,\tele\tpede\tperdão\te\ttraz\tflores. Na\tterceira\tvez,\té\tum\tdesentendimento\tsobre\tir\tao\tRomanoff’s\tou\tficar\tem casa. Uma\tquestão\tque\t—\tvocê\tconclui\tao\tser\tempurrada\tcontra\ta\tparede\t—\tna verdade\tdiz\trespeito\tà\t imagem \tpública\tdo\tseu\tcasamento. Na\tquarta\tvez,\té\tporque\tnenhum\tdos\tdois\tganhou\tum\tOscar. Bebeu\tum\tpouco\tdemais\tna\tfesta\tdepois\tda\tcerimônia,\tpara\tafogar\tas mágoas. Ele\tdiz:\t“Sim,\tmas\tos\tseus\tpais\tsão\tda\tescória\tde\tLong\tIsland. Você\tsabe\tque\té\tmelhor\tficar\tquieta,\tmas\tresponde:\t“Eu\tsou\tde\tHell’s\tKitchen, seu\tcretino”. Ele\tabre\ta\tporta\tdo\tcarro\tparado\te\tempurra\tvocê\tpara\tfora."
          },
          "metadata": {}
        },
        {
          "output_type": "display_data",
          "data": {
            "text/plain": [
              "<IPython.core.display.Markdown object>"
            ],
            "text/markdown": "### Página 96"
          },
          "metadata": {}
        },
        {
          "output_type": "display_data",
          "data": {
            "text/plain": [
              "<IPython.core.display.Markdown object>"
            ],
            "text/markdown": "Quando\taparece\trastejando\te\taos\tprantos\tna\tmanhã\tseguinte,\tvocê\tnão\tacredita mais\tnele. Mas\tagora\t virou\tum\thábito \tremendar\ta\tsituação\tdesse\tjeito. Do\tmesmo\tjeito\tque\tvocê\ttenta\tesconder\tum\tburaco\tno\tvestido\tcom\tum alfinete,\tou\tcolocar\tfita\tisolante\tnuma\trachadura\tna\tjanela. Era\tnessa\tparte\tque\teu\testava\tempacada\t—\tconsiderando\tmais\tfácil\taceitar uma\tdesculpa\tesfarrapada\tdo\tque\tir\tà\traiz\tdo\tproblema\t—\tquando\tHarry Cameron\tapareceu\tno\tmeu\tcamarim\te\tme\tdeu\ta\tnotícia:\t Mulherzinhas \tia\tentrar em\tprodução. Pensei\tque\tfosse\tficar\tradiante.” “Ah”,\trespondi,\tme\tvirando\tmais\tpara\tele. Pode\tacreditar.” “Você\tnão\tgosta\tda\tCelia\tSt. “Uma\tmenina\tmais\tnova\tque\tvai\tquerer\tme\tvarrer\tpara debaixo\tdo\ttapete?” Harry\tjogou\ta\tcabeça\tpara\ttrás\te\tdeu\trisada. James\ttinha\tganhado\tas\tmanchetes\tnaquele\tano. Aos\tdezenove\tanos, interpretou\tuma\tmãe\tviúva\tnum\tfilme\tde\tguerra. Todo\tmundo\tdizia\tque\tia\tser indicada\tpela\tAcademia\tno\tano\tseguinte. Era\texatamente\to\ttipo\tde\tpessoa\tque\to estúdio\tia\tquerer\tno\tpapel\tde\tBeth. “Você\ttem\tvinte\te\tum\tanos,\té\tcasada\tcom\to\tastro\tdo\tcinema\tdo\tmomento\te acabou\tde\tser\tindicada\tao\tOscar,\tEvelyn.” Harry\ttinha\tlá\tsua\trazão,\tmas\teu\ttambém. Vai\tser\ta\tmelhor\tatuação\tda\tminha\tvida,\te quando\tas\tpessoas\tassistirem\tao\tfilme\tvão\tdizer:\t‘Que\tBeth? Ah,\ta\tirmã\tdo\tmeio que\tmorre?"
          },
          "metadata": {}
        },
        {
          "output_type": "display_data",
          "data": {
            "text/plain": [
              "<IPython.core.display.Markdown object>"
            ],
            "text/markdown": "### Página 97"
          },
          "metadata": {}
        },
        {
          "output_type": "display_data",
          "data": {
            "text/plain": [
              "<IPython.core.display.Markdown object>"
            ],
            "text/markdown": "“Você\tacha\tmesmo?” Tem\tuma\tcoisa\tque\tprecisa\tser\tdita\tsobre\tas\tcelebridades. Quando\teu\tjá\testava\tmais\tvelha,\tas\tpessoas\tvinham\tme\tprocurar\te\tdiziam:\t“Com certeza\tvocê\tnão\taguenta\tmais\touvir\to\tquanto\té\tincrível”,\te\teu\tsempre\trespondia em\ttom\tde\tbrincadeira:\t“Ah,\tmas\touvir\tmais\tuma\tvez\tnunca\té\tdemais”. A verdade\té\tque\tos\telogios\tsão\tcomo\tum\tvício. Percebi\to\tolhar\tde\tHarry\tpercorrendo\tmeu\trosto. Ele\tviu\to\tleve\thematoma\tque\teu\testava\tescondendo,\ta\tcoloração\troxa-azulada que\teu\tescondia\tsob\tuma\tcamada\tde\tpancake\tna\tpele. “Harry,\tnão.” “Eu\tvou\tmatar\tesse\tcara.” “Não\tvai,\tnão.” “Nós\tsomos\tmelhores\tamigos,\tEvelyn. “Sei\tmuito\tbem\tdisso.” “Você\tdiz\tque\tos\tmelhores\tamigos\tcontam\ttudo\tum\tpara\to\toutro.” “E\tvocê\tsabe\tque\tisso\té\tpapo-furado.” Ele\tme\tencarou,\te\teu\tdevolvi\to\tolhar. “Não\ttem\tquestão\tnenhuma\ta\tser\tresolvida\taqui,"
          },
          "metadata": {}
        },
        {
          "output_type": "display_data",
          "data": {
            "text/plain": [
              "<IPython.core.display.Markdown object>"
            ],
            "text/markdown": "### Página 98"
          },
          "metadata": {}
        },
        {
          "output_type": "display_data",
          "data": {
            "text/plain": [
              "<IPython.core.display.Markdown object>"
            ],
            "text/markdown": "Harry.” Ele\tentendeu\to\tque\teu\tquis\tdizer. Que\tnão\tia\tme\tseparar\tde\tDon\tAdler. “Eu\tposso\tfalar\tcom\tAri.” “Eu\tsou\tapaixonada\tpor\tele”,\tfalei,\tvirando\tpara\to\tespelho\te\tprendendo\tos brincos\tnas\torelhas. Don\te\teu\ttínhamos\tnossos\tproblemas,\tassim\tcomo\tmuita\tgente no\tmundo. E\tele\tera\to\túnico\thomem\tque\ttinha\tconseguido\tcausar\tuma\treação profunda\tem\tmim. Às\tvezes\teu\ttinha\traiva\tde\tmim\tmesma\tpor\tquerê-lo,\tpor\tme derreter\ttoda\tquando\tele\tme\tdava\tatenção,\tpor\tprecisar\tde\tsua\taprovação. “Fim\tde\tpapo.” Um\tinstante\tdepois,\thouve\toutra\tbatida\tna\tminha\tporta. Ela estava\tfilmando\tum\tdrama\tem\tque\tfazia\to\tpapel\tde\tuma\tjovem\tfreira. Apareceu diante\tde\tnós\tdois\ta\tcaráter,\tcom\tuma\ttúnica\tpreta\te\tcolarinho\tbranco. O\tvéu estava\tem\tsua\tmão. “Os\tensaios\tcomeçam\tdaqui\ta\ttrês\tsemanas.” Ruby\tdeu\tum\ttapinha\tbrincalhão\tno\tbraço\tde\tHarry. Essazinha\tvai dar\tprojeção\ta\ttodas\tnós.” “Está\tvendo,\tHarry?”,\tfalei."
          },
          "metadata": {}
        },
        {
          "output_type": "display_data",
          "data": {
            "text/plain": [
              "<IPython.core.display.Markdown object>"
            ],
            "text/markdown": "### Página 99"
          },
          "metadata": {}
        },
        {
          "output_type": "display_data",
          "data": {
            "text/plain": [
              "<IPython.core.display.Markdown object>"
            ],
            "text/markdown": "Achei extremamente\tromântico,\tporque\tera\tbem\to\tque\teu\tqueria. “Boa\tsorte\thoje,\tquerida”,\tele\tfalou\tenquanto\tse\tvestia\te\tsaía. James\to\tque\té\tser\tuma\tatriz\tde\tverdade.” Eu\tsorri\te\tlhe\tdesejei\tum\tbom\tdia. Quando\tsaí\tdo\tchuveiro,\tPaula,\ta\tempregada,\testava\tno\tquarto\tarrumando tudo. Tinha\tdeixado\tna bandeja,\tmas\tdevia\tter\tcaído. Minhas\troupas\tda\tnoite\tanterior\testavam\tespalhadas\tpelo\tchão. “Me\tdesculpa,\tmas\teu\tpreciso ir\tcorrendo\tpara\to\testúdio.” Ela\tsorriu\teducada\te\tsaiu. Só\tqueria\tme\ttrocar,\te\tnão\tia\tfazer isso\tna\tfrente\tde\tPaula. Não\tqueria\tque\tela\tvisse\ta\tmancha\troxa,\tjá\tficando amarelada,\tnas\tminhas\tcostelas. Don\ttinha\tme\tempurrado\tescada\tabaixo\tnove\tdias\tantes. Mesmo\ttantos\tanos depois,\tainda\tsinto\ta\tnecessidade\tde\tdefendê-lo. Dizer\tque\testávamos\tperto\tda\tbase\tda\tescada,\te\tque\to\tempurrão\tme\tfez rolar\tapenas\tquatro\tdegraus\tantes\tde\tir\tpara\to\tchão."
          },
          "metadata": {}
        },
        {
          "output_type": "display_data",
          "data": {
            "text/plain": [
              "<IPython.core.display.Markdown object>"
            ],
            "text/markdown": "### Página 100"
          },
          "metadata": {}
        },
        {
          "output_type": "display_data",
          "data": {
            "text/plain": [
              "<IPython.core.display.Markdown object>"
            ],
            "text/markdown": "Infelizmente,\ta\tmesinha\tque\tficava\tperto\tda\tporta,\tonde\tpúnhamos\tas\tchaves\te a\tcorrespondência,\tfoi\to\tque\taparou\tminha\tqueda. Está\ttudo\tbem?”,\tcomo\tse\tnão\ttivesse\tsido\tele\ta\tme\tempurrar. Como\tuma\tperfeita\tidiota,\trespondi:\t“Acho\tque\testá\ttudo\tbem,\tsim”. Já\tpedi\tpara\tvocê\tsair\tdaqui!” Ela\tse\tvirou\te\tsumiu\tdo\tquarto. Por\tque,\tem\tvez disso,\tresolveu\tprejudicar\ta\t mim ? Duas\thoras\tmais\ttarde,\teu\testava\tno\tset\tde\t Mulherzinhas . Uma\tparte\tdo estúdio\ttinha\tsido\ttransformada\tnuma\tcabana\tna\tNova\tInglaterra,\tcom\tdireito\ta neve\tnas\tjanelas\te\ttudo. Ruby\te\teu\testávamos\tunidas\tcontra\tCelia\tSt. Não\té\tassim\tque\ta\tcoisa\tfunciona\tna\tnossa\tcabeça. Só\tque,\tno\tprimeiro\tdia\tde\tensaios,\tenquanto\tRuby\te\teu\ttomávamos\tum\tcafé no\tbufê,\tficou\tbem\tclaro\tque\tCelia\tSt. James\tnão\tfazia\tideia\tdo\tquanto\tera odiada\tpor\tnós."
          },
          "metadata": {}
        },
        {
          "output_type": "display_data",
          "data": {
            "text/plain": [
              "<IPython.core.display.Markdown object>"
            ],
            "text/markdown": "### Página 101"
          },
          "metadata": {}
        },
        {
          "output_type": "display_data",
          "data": {
            "text/plain": [
              "<IPython.core.display.Markdown object>"
            ],
            "text/markdown": "Tinha um\tar\tmeio\tinfantil,\tbem\tfamiliar. Olhos\tgrandes\te\tredondos,\tde\tum\tazul- clarinho,\tcílios\tcompridos,\tboca\tem\tforma\tde\tcoração,\tcabelos\tavermelhados\te longos. Já\teu\ttinha\tum\ttipo\tde\taparência\tque\tmulheres\tcomo\tela\tnunca\tconseguiriam imitar. Os\thomens\tsabiam\tque\teu\tnão\tera\tpara\to\tbico\tdeles. Ruby\tera\tde\tuma\tbeleza\tmais\telegante\te\tblasé. Mas\tCelia\tera\tbonita\tde\tum\tjeito\tmenos\tintangível,\tque\tfazia\tparecer\tque,\tcom um\tpouco\tde\tsorte\te\tsabendo\tcomo\tagir,\tqualquer\tum\ttinha\tchance\tde\tse\tcasar com\tuma\tgarota\tcomo\tCelia\tSt. Ruby\te\teu\tsabíamos\to\tpoder\tque\tisso\ttinha,\tessa\tacessibilidade. Celia\tpôs\tuma\tfatia\tna\ttorradeira\tda\tmesa\tdo\tbufê,\tpassou\tcreme\tde\tamendoim e\tdeu\tuma\tmordida. “Eu\tnão\ttenho\tideia\tdo\tque\testou\tfazendo!”,\tCelia\trespondeu. “Celia,\tessa\tsua\tpose\tde\tmenina\tingênua\tnão\tcola”,\teu\tdisse. E\tesse\tolhar\tprovocou\tem\tmim\tuma\tsensação\tque ninguém\ttinha\tconseguido\tdespertar\tantes. “Não\tfoi\tessa\ta\tminha\tintenção”,\teu\tdisse. “Acho\tque\tser\tcínica\tassim\té\ta\tsua\tcara.” Ruby,\tcomo\tuma\ttípica\tfalsa\tamiga,\tfingiu\tque\ttinha\touvido\to\tassistente\tde direção\tchamar\tseu\tnome\te\tse\tmandou. É\to\tpapel\tmais\tpalatável\te\tcativante\tda\thistória.” “Se\té\tassim,\tpor\tque\t você \tnão\tficou\tcom\to\tpapel?”,\tela\tperguntou."
          },
          "metadata": {}
        },
        {
          "output_type": "display_data",
          "data": {
            "text/plain": [
              "<IPython.core.display.Markdown object>"
            ],
            "text/markdown": "### Página 102"
          },
          "metadata": {}
        },
        {
          "output_type": "display_data",
          "data": {
            "text/plain": [
              "<IPython.core.display.Markdown object>"
            ],
            "text/markdown": "serviria.” Celia\tsorriu,\te\tpercebi\tque\teu\ttinha\tdito\ta\tcoisa\tcerta\tpara\tela."
          },
          "metadata": {}
        },
        {
          "output_type": "display_data",
          "data": {
            "text/plain": [
              "<IPython.core.display.Markdown object>"
            ],
            "text/markdown": "### Página 103"
          },
          "metadata": {}
        },
        {
          "output_type": "display_data",
          "data": {
            "text/plain": [
              "<IPython.core.display.Markdown object>"
            ],
            "text/markdown": "“Vamos\tcontinuar\ta\tpartir\tdaqui\tamanhã”,\tdiz\tEvelyn. O\tsol\tjá\tse\tpôs\thá\tmuito tempo. “Aliás”,\tela\tacrescenta,\tquando\tcomeço\ta\tjuntar\tminhas\tcoisas. “Meu\tassessor de\timprensa\trecebeu\tum\te-mail\tda\tsua\tchefe\thoje. “Frankie\tme\tprocurou\talgumas\tvezes\tnos\túltimos\tdias. “Ainda\tnão.”\tDetesto\tperceber\to\tquanto minha\tvoz\tsaiu\ttímida\te\tenvergonhada. “Não\testou\tte\tjulgando,\tse\té\tcom\tisso\tque\tvocê\testá preocupada. “Você\tvai\tfazer\to\tque\tfor\tpreciso”,\tela\tcomplementa. Quando\tchego\tem\tcasa,\ta\tencomenda\tenviada\tpela\tminha\tmãe\testá\tna\tporta\tdo prédio. Pego\ta\tcaixa,\tmas\tpercebo\tque\té\tpesadíssima. Sou\tobrigada\ta\tempurrar porta\tadentro\tcom\to\tpé."
          },
          "metadata": {}
        },
        {
          "output_type": "display_data",
          "data": {
            "text/plain": [
              "<IPython.core.display.Markdown object>"
            ],
            "text/markdown": "### Página 104"
          },
          "metadata": {}
        },
        {
          "output_type": "display_data",
          "data": {
            "text/plain": [
              "<IPython.core.display.Markdown object>"
            ],
            "text/markdown": "Cada\tum\ttem\tgravado\tno\tcanto\tinferior\tdireito\tda\tcapa\to\tnome\t“James\tGrant”. Nesse\tmomento,\tnada\tvai\tser\tcapaz\tde\tme\timpedir\tde\tsentar\tno\tchão\te\tolhar aquelas\timagens\tuma\tpor\tuma. Meu\tpai adorava\ttrabalhar\tcomo\tfotógrafo\tde\tcena. Adorava\tsurpreender\tas\tpessoas desavisadas\tcom\tsua\tcâmera. Lembro\tque,\tum\tano\tantes\tde\tmorrer,\tele\tfoi\tfazer\tum\ttrabalho\tde\tdois\tmeses em\tVancouver. Minha\tmãe\te\teu\tfomos\tvisitá-lo\tduas\tvezes\tlá\tno\tCanadá. Era\tum lugar\tincomparavelmente\tmais\tfrio\tque\tLos\tAngeles,\te\tele\testava\tfora\tde\tcasa fazia\tum\ttempão. Por\tque\tele\tnão\tpodia\tfotografar\tperto\tde casa\tmesmo? E\tme\tdisse: “Você\tprecisa\tfazer\tisso\ttambém,\tMonique. Precisa encontrar\tum\ttrabalho\tque\tfaça\tseu\tcoração\tbater\tmais\tforte,\te\tnão\tum\tque\tdeixe seu\tpeito\tapertado. Sempre\tlevei\tcomigo\tisso\tque\tele\tme\tdisse. No\tensino\tmédio,\tquando\tmeu\tpai\tnão estava\tmais\tentre\tnós\thavia\tmuito\ttempo,\ttentei\tfazer\tteatro\te\tmúsica. Tentei\tjogar\tfutebol\te\tfazer\tparte\tda\tequipe\tde\tdebates. Em\tum momento\tque\tme\tpareceu\tser\tuma\tepifania,\ttentei\ta\tfotografia,\tna\tesperança\tde que\taquilo\tque\tacalentava\to\tcoração\tdo\tmeu\tpai\tpudesse\tacalentar\to\tmeu. Mas\tsó\tquando\tfui\tchamada\tpara\tescrever\tum\tperfil\tde\tum\tcolega\tde\tclasse\tna aula\tde\tredação\tno\tmeu\tprimeiro\tano\tna\tUniversidade\tdo\tSul\tda\tCalifórnia\tque senti\tmeu\tcoração\tbater\tmais\tforte."
          },
          "metadata": {}
        },
        {
          "output_type": "display_data",
          "data": {
            "text/plain": [
              "<IPython.core.display.Markdown object>"
            ],
            "text/markdown": "### Página 105"
          },
          "metadata": {}
        },
        {
          "output_type": "display_data",
          "data": {
            "text/plain": [
              "<IPython.core.display.Markdown object>"
            ],
            "text/markdown": "Foi\tseguindo\tesse\tchamado\tdo\tmeu\tcoração\tque\tvim\testudar\tjornalismo\tna Universidade\tde\tNova\tYork. O\tque\tme\tlevou\ta\tum\testágio\tna\trádio\t WNYC . Continuei\tcorrendo\tatrás\tde\tminha\tpaixão\tenquanto\tescrevia\tcomo\tfreelancer para\tuns\tblogs\tvergonhosos,\tsempre\tdura,\tvivendo\tcom\to\tdinheiro\tcontado,\taté que\tfui\tparar\tno\t Discourse ,\tonde\tconheci\tDavid,\tque\testava\tcuidando\tda reconstrução\tdo\tsite,\te\tde\tlá\tcheguei\tà\t Vivant ,\te\tagora\ta\tEvelyn. Eu\tteria\tme\tapegado\ttanto\ta\tessas\tpalavras\tse\to\tvisse\tcomo\tuma fonte\tilimitada\tde\tconselhos? No\tfim\tdo\túltimo\tálbum,\tvejo\tcertas\timagens\tque\tnão\tparecem\tter\tsido\tfeitas num\tset. E então,\tno\tfinalzinho,\thá\tuma\tfoto\tminha\tcom\tos\tmeus\tpais. Nessa\tépoca\tas\tpessoas\tainda\tme\tchamavam\tde Elizabeth,\tmeu\tprimeiro\tnome. Minha\tmãe\tachava\tque\teu\tiria\tser\tchamada\tde\tLiz\tou\tLizzy\tquando\tfosse maiorzinha. Mas\tmeu\tpai\tsempre\tadorou\to\tnome\tMonique,\te\tera\tassim\tque\tse referia\ta\tmim. Fazer\tessa\túltima\thomenagem\ta\tele\tera\tuma\tforma\tde\taliviar\tum\tpouco\tnossa dor. Foi\tassim\tque\tessa\tforma\tde\ttratamento\tcarinhoso\tvirou\tmeu\tnome\toficial. Olhando\tpara\tessa\tfoto,\tme\tchama\ta\tatenção\tcomo\tmeus\tpais\tficavam\tbonitos juntos. E\tsei\to\tquanto\tcustou\tpara\tos\tdois\tconstruírem\tuma"
          },
          "metadata": {}
        },
        {
          "output_type": "display_data",
          "data": {
            "text/plain": [
              "<IPython.core.display.Markdown object>"
            ],
            "text/markdown": "### Página 106"
          },
          "metadata": {}
        },
        {
          "output_type": "display_data",
          "data": {
            "text/plain": [
              "<IPython.core.display.Markdown object>"
            ],
            "text/markdown": "Uma\tmulher\tbranca\te\tum\thomem\tnegro\tnos\tanos\t80, nenhuma\tdas\tduas\tfamílias\texatamente\tsatisfeita\tcom\ta\tunião. Mudamos\tde\tcasa várias\tvezes\tantes\tda\tmorte\tdo\tmeu\tpai,\tà\tprocura\tde\tum\tbairro\tonde\tos\tdois\tse sentissem\tà\tvontade,\tbem\tacolhidos. Minha\tmãe\tnão\tse\tsentia\tbem-vinda\tem Baldwin\tHills. Meu\tpai\tse\tsentia\tdesconfortável\tem\tBrentwood. Só\tquando\tentrei\tna\tescola\tconheci\tuma\tpessoa\tparecida\tcomigo. Seu\tpai\tera\tdominicano,\te\ta\tmãe,\tisraelense. Eu\tnão\tconhecia\tmais\tninguém\tque\tfosse\t metade alguma\tcoisa. Por\tmuito\ttempo\teu\tmesma\tsenti\tque\ttinha\tduas\tmetades\tdiferentes. Então\tmeu\tpai\tmorreu,\te\tparecia\tque\tuma\tdas\tmetades\thavia\tse\tperdido. E\teu me\tsentia\tcortada\tao\tmeio,\ttotalmente\tincompleta\tsem\taquela\tminha\toutra\tparte. Olhando\tagora\tpara\tessa\tfoto\tnossa\tem\t1986,\teu\tde\tjardineira,\tmeu\tpai\tde camiseta\tpolo,\tminha\tmãe\tde\tjaqueta\tjeans,\testava\tna\tcara\tque\ttudo\tse\tencaixava quando\testávamos\t juntos . Mas,\tem momentos\tcomo\teste,\tquando\testou\tprestes\ta\tfinalmente\tencontrar\tum\ttrabalho que\tfaça\tmeu\tcoração\tbater\tmais\tforte,\teu\tgostaria\tde\tpoder\tpelo\tmenos\tescrever para\tele,\tcontar\to\tque\testou\tfazendo. Já\taté\timagino\to\tque\tele\tescreveria. Alguma\tcoisa\tdo\ttipo:\t“Estou\torgulhoso de\tvocê. Passei\ta\tcontar\tcom\to\tcafé\tservido\tpor\tGrace\ttodas\tas\tmanhãs. Isso substituiu\tmeu\thábito\tde\tpassar\tsempre\tno\tStarbucks."
          },
          "metadata": {}
        },
        {
          "output_type": "display_data",
          "data": {
            "text/plain": [
              "<IPython.core.display.Markdown object>"
            ],
            "text/markdown": "### Página 107"
          },
          "metadata": {}
        },
        {
          "output_type": "display_data",
          "data": {
            "text/plain": [
              "<IPython.core.display.Markdown object>"
            ],
            "text/markdown": "Pode continuar.” Evelyn\tdá\trisada. “Você\testá\tparecendo\tuma\tveterana\tnesse\ttrabalho.” “Eu\taprendo\tdepressa.”"
          },
          "metadata": {}
        },
        {
          "output_type": "display_data",
          "data": {
            "text/plain": [
              "<IPython.core.display.Markdown object>"
            ],
            "text/markdown": "### Página 108"
          },
          "metadata": {}
        },
        {
          "output_type": "display_data",
          "data": {
            "text/plain": [
              "<IPython.core.display.Markdown object>"
            ],
            "text/markdown": "Depois\tda\tprimeira\tsemana\tde\tensaios,\teu\testava\tdeitada\tcom\tDon\tna\tcama. E\tmeu\tcontrato\tvence\tno\tfim\tdo\tano. Ari\testá\tdisposto\ta\tfazer\to\tque\teu\tquiser\tpara\tme\tdeixar\tcontente. Então\té\tsó falar,\tamor,\te\t puf ,\tela\tsai\tde\tcena.” “Não”,\tfalei\tpara\tele,\tapoiando\ta\tmão\tem\tseu\tpeito\te\ta\tcabeça\tem\tseu\tombro. E\ttem\tumas\tcoisas\tnela\tque\teu\tgosto,\taliás.” “Tem\tumas\tcoisas\tem\tvocê\tque\teu\tgosto\ttambém”,\tele\tfalou,\tme\tpuxando\tpara cima\tde\tseu\tcorpo. E,\tpor\tum\tmomento,\tminhas\tpreocupações\ttodas desapareceram. “Alguma\tchance\tde\tvocê\tsair\tcomigo\tpara tomar\tum\tmilk-shake?”,\tela\tperguntou. Dez\tminutos\tdepois,\testávamos\tno\tChevy\t1956\tcor-de-rosa\tde\tCelia,\ta caminho\tdo\tHollywood\tBoulevard. Fiquei\tagarrada\tà maçaneta,\ttemendo\tpela\tminha\tvida. Celia\tparou\tnum\tsinal\tvermelho\tna\tesquina\tdo\tSunset\tBoulevard\tcom\to Cahuenga. “Pensei\tem\tirmos\tao\tSchwab’s”,\tela\tdisse\tcom\tum\tsorriso. E\ttodo\tmundo\tsabia\tque\tSidney\tSkolsky,\tda\t Photoplay ,\tbatia\tponto\tpor\tlá."
          },
          "metadata": {}
        },
        {
          "output_type": "display_data",
          "data": {
            "text/plain": [
              "<IPython.core.display.Markdown object>"
            ],
            "text/markdown": "### Página 109"
          },
          "metadata": {}
        },
        {
          "output_type": "display_data",
          "data": {
            "text/plain": [
              "<IPython.core.display.Markdown object>"
            ],
            "text/markdown": "“Que\ttipo\tde\tjoguinho\tvocê\testá\tfazendo\taqui?”,\tperguntei. “Não\testou\tfazendo\tjoguinho\tnenhum”,\tela\tdisse,\tfingindo\testar\tofendida\tcom a\tminha\tinsinuação. “Ah,\tCelia”,\tfalei,\tfazendo\tum\tgesto\tcom\ta\tmão. É\tvocê\tque\tacabou\tde\tdescer\tdo\tônibus. Não\tconfunda\tnossos papéis\taqui.” O\tsinal\tficou\tverde,\te\tCelia\tacelerou. Vim\tde\tavião\tcom\tum funcionário\tda\tParamount.” Achei\tmeio\tintimidante\t—\te\taté\tameaçador\t—\tque\tum\testúdio\ttivesse mandado\talguém\taté\ttão\tlonge\tpara\ttrazê-la\tpara\tcá. Eu\ttinha\taberto\tcaminho com\tsangue,\tsuor\te\tlágrimas. “Mas\tmesmo\tassim\tconheço\tmuito\tbem\tesse\tseu joguinho,\tquerida. Ninguém\tvai\tao\tSchwab’s\tpara\ttomar\tmilk-shake.” “Escute”,\tela\tfalou,\tmudando\tum\tpouco\to\ttom\tde\tvoz,\tfalando\tde\tum\tjeito mais\tsincero. “Eu\testou\tprecisando\tmesmo\taparecer\tem\tuma\tnotinha\tou\toutra\tna imprensa. Se\tquiser\testrelar\talgum\tfilme\tem\tbreve,\tmeu\tnome\ttem\tque\tir\tpara\tas cabeças.” “E\tessa\thistória\tde\tmilk-shake\té\tsó\tuma\tdesculpa\tpara\tser\tvista\tcomigo?” Aquilo\ttudo\tera\tuma\tofensa. Eu\tqueria,\tsim,\ttomar\tum milk-shake\tcom\tvocê. E,\tquando\tsaí\tdo\testacionamento\tdo\testúdio,\to\tque\tpassou pela\tminha\tcabeça\tfoi:\t A\tgente\tpoderia\tir\taté\to\tSchwab’s .” Ela\tfreou\tbruscamente\tno\tsinal\tda\tesquina\tdo\tSunset\tcom\ta\tHighland."
          },
          "metadata": {}
        },
        {
          "output_type": "display_data",
          "data": {
            "text/plain": [
              "<IPython.core.display.Markdown object>"
            ],
            "text/markdown": "### Página 110"
          },
          "metadata": {}
        },
        {
          "output_type": "display_data",
          "data": {
            "text/plain": [
              "<IPython.core.display.Markdown object>"
            ],
            "text/markdown": "“Quê?” “Vire\tà\tdireita.” “Por\tquê?” “Celia,\tvire\tà\tdireita\tlogo\tantes\tque\teu\tabra\ta\tporta\te\tme\tatire\tdo\tcarro.” Ela\tme\tolhou\tcomo\tse\teu\testivesse\tmaluca,\to\tque\tfazia\tsentido. Eu\ttinha ameaçado\tme\tmatar\tcaso\tela\tnão\tfizesse\tuma\tcurva. “Vire\tà\tesquerda\tno\tpróximo\tsinal”,\tfalei. E\tquando\tpegou\to\tHollywood\tBoulevard,\teu pedi\tque\testacionasse\tnuma\trua\tlateral. Fomos\tandando\taté\to\t CC \tBrown’s. “O\tsorvete\tdaqui\té\tmelhor”,\tfalei\tquando\tentramos. Eu\testava\tcolocando\tCelia\tno\tseu\tdevido\tlugar. “Vocês\tquerem\tver\to\tcardápio?” Eu\tfiz\tque\tnão\tcom\ta\tcabeça. “Um\tchocolate\tmaltado,\tpor\tfavor.” Vi\tcomo\tos\tolhos\tdele\tficaram\tfixos\tem\tCelia,\te\tno\tjeito\tdela\tde\tse\tinclinar para\ta\tfrente\tjuntando\tos\tbraços,\tpara\tsalientar\to\tdecote. “E\teu\tvou\tquerer\to\tmilk-shake\tde\tmorango”,\tpedi. Quando\tele\tvirou\tpara\tmim,\tvi\tseus\tolhos\tse\tarregalarem,\tcomo\tse\tquisesse me\tver\to\tmáximo\tpossível\tenquanto\ttinha\tchance. “Você\té…\tEvelyn\tHugo?” “Não”,\trespondi,\tolhando\tbem\tnos\tolhos\tdele. Foi\tuma\tresposta\tirônica\te provocadora,\tcomo\tcostumava\tfazer\tquando\tera\treconhecida\tna\tcidade."
          },
          "metadata": {}
        },
        {
          "output_type": "display_data",
          "data": {
            "text/plain": [
              "<IPython.core.display.Markdown object>"
            ],
            "text/markdown": "### Página 111"
          },
          "metadata": {}
        },
        {
          "output_type": "display_data",
          "data": {
            "text/plain": [
              "<IPython.core.display.Markdown object>"
            ],
            "text/markdown": "“Se\tanima,\tdocinho”,\teu\tdisse\tquando\tme\tvirei\tpara\tCelia. Ninguém\tvai\tte\tdar\tnada\tde\tgraça\tse\tvocê\tnão\tpedir. Não\tpensaria\tduas\tvezes\tse\tprecisasse\tusar você. Mas\tsabe\tqual\té\ta\tdiferença\tentre\tnós duas?” “Tem\tum\tmonte\tde\tdiferenças\tentre\tnós\tduas.” “Sabe\tde\tqual\testou\tfalando,\tespecificamente?”,\tperguntei. Não\tme\tincomodo\tcom\ta\tideia\tde\tusar\tas\tpessoas. E toda\tessa\tenergia\tque\tvocê\tgasta\ttentando\tse\tconvencer\tde\tque\tnão\testá\t usando as\tpessoas\teu\tgasto\tme\taperfeiçoando\tnisso.” “E\tisso\té\tmotivo\tpara\tter\torgulho?” “Eu\ttenho\torgulho\tdo\tlugar\taonde\tcheguei\tcom\tisso.” “Você\testá\tme\tusando? Neste\tmomento?” “Se\teu\testivesse,\tvocê\tnunca\tsaberia.” “É\tpor\tisso\tque\testou\tperguntando.” O\tbalconista\tapareceu\tcom\tos\tmilk-shakes. Parecia\tter\tpreparado\ttodo\tum discurso\tpara\tnos\tservir. “Não”,\tfalei\tpara\tCelia\tquando\tele\tse\tafastou\tde\tnovo."
          },
          "metadata": {}
        },
        {
          "output_type": "display_data",
          "data": {
            "text/plain": [
              "<IPython.core.display.Markdown object>"
            ],
            "text/markdown": "### Página 112"
          },
          "metadata": {}
        },
        {
          "output_type": "display_data",
          "data": {
            "text/plain": [
              "<IPython.core.display.Markdown object>"
            ],
            "text/markdown": "“Sabe\t por\tque \tnão\testou\tte\tusando?”,\tperguntei. “Seria\tbom\tsaber”,\tCelia\tfalou,\tdando\tum\tgole\tno\tmilk-shake. Eu\tdei\trisada, surpresa\tcom\to\ttom\tmalicioso\tde\tsua\tvoz\te\ta\tvelocidade\tcom\tque\tela\tdeu\taquela resposta. Celia\tganharia\tmais\tOscars\tque\tqualquer\tuma\tdo\tnosso\tcírculo\tde\tconvivência na\tépoca. Mas\tsempre\tachei\tque\tela seria\tarrasadora\tem\tuma\tcomédia. Pelo\tmenos\tainda\tnão.” Celia\tdeu\tmais\tum\tgole\tno\tmilk-shake,\tofendida. Eu\tme\tinclinei\tpara\ta\tfrente e\tbebi\tum\tpouco\tdo\tmeu. “Não\tacho\tque\tisso\tseja\tverdade”,\tdisse\tCelia. Ser\tcasada\tcom\to\tSr.\tHollywood\té\tuma\tvantagem\te\ttanto. Mas, fora\tisso,\testamos\tno\tmesmo\tpatamar,\tEvelyn. E\testamos\tnum\tfilme\tjuntas,\tem\tpapéis\tque\taceitamos\tporque\tqueremos um\tOscar. E,\tvamos\tser\tsinceras,\tnisso\teu\ttenho\tvantagem\tem\trelação\ta\tvocê.” “E\tposso\tsaber\tpor\tquê?” “Porque\teu\tsou\tuma\tatriz\tmelhor.” Parei\tde\tpuxar\ta\tbebida\tgrossa\tpelo\tcanudo\te\tme\tvirei\tpara\tela. “De\tonde\tvocê\ttirou\tisso?” Celia\tencolheu\tos\tombros. “Não\té\tuma\tcoisa\tque\tdê\tpara\tmensurar,\teu\tacho. Foi\tpor\tisso\tque\tvocê\te\tDon\tquase\tme\ttiraram\tdo\tfilme.” “Nós\tnão\tfizemos\tisso.” “Fizeram,\tsim."
          },
          "metadata": {}
        },
        {
          "output_type": "display_data",
          "data": {
            "text/plain": [
              "<IPython.core.display.Markdown object>"
            ],
            "text/markdown": "### Página 113"
          },
          "metadata": {}
        },
        {
          "output_type": "display_data",
          "data": {
            "text/plain": [
              "<IPython.core.display.Markdown object>"
            ],
            "text/markdown": "Não\tfiquei\tbrava\tpor\tRuby\tcontar\tpara\tCelia\tuma\tcoisa\tque\teu\ttinha confidenciado\ta\tela,\tda\tmesma\tforma\tque\tninguém\tfica\taborrecido\tcom\tum cachorro\tpor\tlatir\tpara\to\tcarteiro. Grande\tcoisa.” “Então,\té\tjustamente\tisso\tque\teu\testou\tfalando. Vamos\tajudar\tuma\tà\toutra.” Dei\toutro\tgole\tno\tmilk-shake,\tligeiramente\tintrigada. “Nas\thoras\tde\tfolga,\tvou\tte\tajudar\tcom\tas\tsuas\tcenas. Vou\tensinar\to\tque\teu sei.” “E\tem\ttroca\teu\tvou\tcom\tvocê\tao\tSchwab’s?” “Você\tme\tajuda\tcom\to\tque\tjá\tconseguiu\tfazer. “Nós\tduas\tviramos\tatrizes\ttalentosas\te\tfamosas? Competindo\tpor\tcada\tpapel\tque\taparecer?” “Acho\tque\tessa\té\tuma\tdas\topções.” “E\ta\toutra?” “Eu\tgosto\tde\tvocê\tde\tverdade,\tEvelyn.” Lancei\tum\tolhar\tatravessado\tpara\tela. “Sei\tque\tnenhuma\tatriz\tda\tcidade\tdiria\tisso\tcom\tsinceridade, mas\teu\tnão\tquero\tser\tcomo\telas. Gosto\tde\tsaber\tque,\tquando\tvocê\tsurge\tnuma\tcena,\tnão\tvou\tprestar atenção\tem\tmais\tnada. Gosto\tdo\tfato\tde\tseu\tcabelo\tser\tclaro\tdemais\tpara\tsua pele\tmorena,\tde\tver\tque\tessa\tcoisa\tque\tnão\tcombina\tlhe\tcai\ttão\tbem. E,\tpara\tser bem\tsincera\tmesmo,\tgosto\tdesse\tseu\tjeito\tterrível\te\tcalculista.” “Eu\tnão\tsou\tterrível!” Ela\triu\tde\tnovo. Me\ttirar\tdo\tfilme\tpor\tachar\tque\teu\tia\tganhar"
          },
          "metadata": {}
        },
        {
          "output_type": "display_data",
          "data": {
            "text/plain": [
              "<IPython.core.display.Markdown object>"
            ],
            "text/markdown": "### Página 114"
          },
          "metadata": {}
        },
        {
          "output_type": "display_data",
          "data": {
            "text/plain": [
              "<IPython.core.display.Markdown object>"
            ],
            "text/markdown": "E\tse\tgabar\tde\tsaber\tusar\tas\tpessoas? Mas\tgosto\tde\touvir\tvocê\tfalando\tassim. Tem\tum\tmonte\tde\tmulheres\taqui\tque\tsão\tpura falsidade\tem\ttudo\to\tque\tdizem\te\tfazem. “Você\tsabe\to\tque\tquer,\te\tvai\tatrás. E\tnão\tsó\tporque\té\tbonita. Quero\tter\tuma\tmulher\tassim\tcomo amiga. Não\tcomo\tRuby\tReilly,\tque\tapunhala os\toutros\tpelas\tcostas\te\tfala\tmal\tde\tvocê\tassim\tque\tsai\tde\tperto. Em\tque\tas\tduas\tpessoas\tse\tbeneficiem\te\tvivam\tmelhor\tporque\tpodem contar\tuma\tcom\ta\toutra.” Olhei\tbem\tpara\tela. “Nós\tvamos\tter\tque\tfazer\to\tcabelo\tuma\tda\toutra\te\tcoisas assim?” “O\tSunset\ttem\tprofissionais\tpara\tisso. Então\tnão.” “Eu\tvou\tprecisar\tficar\touvindo\tsobre\tos\tseus\tproblemas\tcom\tos\thomens?” “Com\tcerteza\tnão.” “Então\to\tquê? Nós\tpassamos\tum\ttempo\tlivre\tjuntas\te\ttentamos\tdar\tapoio\tuma para\ta\toutra?” “Evelyn,\tvocê\tjá\tteve\talguma\tamizade\tna\tvida?” “Claro\tque\tjá.” “Uma\tamizade\tde\tverdade,\tcom\taquela\tproximidade? Com\tintimidade mesmo?” “Eu\tjá\ttenho\tuma\tamizade\tassim,\tmuito\tobrigada.” “Quem\té?” “Harry\tCameron.” “Harry\tCameron\té\tseu\tamigo?” “Meu\tmelhor\tamigo.”"
          },
          "metadata": {}
        },
        {
          "output_type": "display_data",
          "data": {
            "text/plain": [
              "<IPython.core.display.Markdown object>"
            ],
            "text/markdown": "### Página 115"
          },
          "metadata": {}
        },
        {
          "output_type": "display_data",
          "data": {
            "text/plain": [
              "<IPython.core.display.Markdown object>"
            ],
            "text/markdown": "“Muito\tbem,\tentão”,\tCelia\tfalou,\testendendo\ta\tmão\tpara\tmim. “Vou\tser\tsua segunda\tmelhor\tamiga,\tdepois\tde\tHarry\tCameron.” Eu\tapertei\ta\tmão\tdela\tcom\tfirmeza. Depois\tdisso,\tvamos\tensaiar\tjuntas.” “Obrigada”,\tela\tdisse,\tabrindo\tum\tsorriso\treluzente,\tcomo\tse\ttivesse conseguido\ttudo\to\tque\tqueria\tno\tmundo. “É\tpor\tconta\tda\tcasa”,\tele\tfalou,\to\tque\tconsiderei\ta\tmaior\tidiotice\tdo\tmundo. “Que\tmarido?”,\tfalei\tcom\ta\tmaior\tdesfaçatez\tpossível. Celia\tdeu\trisada,\te\teu\tabri\tum\tsorriso. Mas\to\tque\tpassou\tmesmo\tpela\tminha\tcabeça\tfoi:\t Eu\tnão\tposso\tfalar\tpara\tele."
          },
          "metadata": {}
        },
        {
          "output_type": "display_data",
          "data": {
            "text/plain": [
              "<IPython.core.display.Markdown object>"
            ],
            "text/markdown": "### Página 116"
          },
          "metadata": {}
        },
        {
          "output_type": "display_data",
          "data": {
            "text/plain": [
              "<IPython.core.display.Markdown object>"
            ],
            "text/markdown": "Essa\té\tuma\tpergunta\tque\tprecisa\tser feita\ta\tDon\tAdler\te\tEvelyn\tHugo. Don\tquer\tbebezinhos,\te\tcom\tcerteza\testamos\ttodos\tbabando\tde\tcuriosidade para\tsaber\tcomo\tseria\ta\tprole\tde\tduas\tcriaturas\ttão\tlindas. Com\tcerteza\tessa criança\tseria\ta\tcoisa\tmais\tencantadora\tdo\tmundo. Não\té\tsó\tisso,\tEvelyn\tnem\tsequer\tse\tesforça\tem\tmanter\ta\tcasa\tlimpa\tou atender\taos\tpedidos\tmais\telementares\tdo\tmarido,\te\tnem\tao\tmenos\ttrata\tcom gentileza\tas\tpessoas\tque\ta\tajudam. Em\tvez\tdisso,\tprefere\tsair\tpara\tpassear\tcom\tmoças\tsolteiras\tcomo\tCelia\tSt. E\tisso\tdeixa\tseu\tmarido\t muito \tinsatisfeito."
          },
          "metadata": {}
        },
        {
          "output_type": "display_data",
          "data": {
            "text/plain": [
              "<IPython.core.display.Markdown object>"
            ],
            "text/markdown": "### Página 117"
          },
          "metadata": {}
        },
        {
          "output_type": "display_data",
          "data": {
            "text/plain": [
              "<IPython.core.display.Markdown object>"
            ],
            "text/markdown": "“Isso\testá\tmesmo\tacontecendo?”,\tperguntei,\tjogando\ta\trevista\tna\tmesa\tde Harry. Ele\ttambém\tjá\ttinha\tvisto,\tclaro. “Por\tque\ta\t Sub\tRosa \tnão\tconsulta\tmais\ta\tgente.” “Como\tassim?” “Eles\tnão\testão\tmais\tpreocupados\tem\tapurar\ta\tverdade\tou\tter\tacesso\tàs pessoas. Estão\tsimplesmente\tpublicando\to\tque\tder\tna\ttelha.” “Mas\tde\tdinheiro\teles\tainda\tprecisam,\tnão?” “Sim,\tsó\tque\tganham\tmais\tse\tintrometendo\tno\tseu\tcasamento\tdo\tque\tnós poderíamos\tpagar.” “Vocês\tno\tcaso\tsão\to\tSunset\tStudios.” “E,\tcaso\tvocê\tnão\ttenha\tpercebido,\tnão\testamos\tfaturando\tnem\tuma\tfração\tdo que\tcostumávamos\tganhar\tno\tpassado.” Meus\tombros\tdesabaram. Sentei\tnuma\tdas\tcadeiras\tdiante\tda\tmesa\tde\tHarry. “É\ta\tCelia”,\tela\tfalou\tlá\tde\tfora. “Pelo\tjeito\tvocê\tjá\tleu\to\ttexto”,\tfalei."
          },
          "metadata": {}
        },
        {
          "output_type": "display_data",
          "data": {
            "text/plain": [
              "<IPython.core.display.Markdown object>"
            ],
            "text/markdown": "### Página 118"
          },
          "metadata": {}
        },
        {
          "output_type": "display_data",
          "data": {
            "text/plain": [
              "<IPython.core.display.Markdown object>"
            ],
            "text/markdown": "Celia\te\teu\ttínhamos\tterminado\tas\tfilmagens\tde\t Mulherzinhas \tuma\tsemana antes. Mas\tela\tme\tensinou como\tevocar\tsentimentos\tverdadeiros\tem\tsituações\tencenadas. Mas\ttambém\thavia\tuma\tNova\tHollywood\tconquistando\to\tcoração\tdas plateias,\tcom\tatores\tseguindo\tum\toutro\tmétodo\tde\tatuação\tem\tfilmes\táridos, com\tanti-heróis\te\tfinais\tinfelizes. Só\ta\tpartir\tdaquelas\tnoites\tcom\tCelia,\tfumando\tcigarros\te\tbebendo\tuma garrafa\tde\tvinho\tem\tvez\tde\tjantar,\té\tque\tcomecei\ta\tprestar\tatenção\tnessa novidade. Mas,\tse\tisso\tteve\talguma\tinfluência\tsobre\tmim,\tfoi\tboa,\tporque\tAri\tSullivan achava\tque\teu\ttinha\tchance\tno\tOscar. E\tisso\tme\tfez\tgostar\tainda\tmais\tde\tCelia. Nossas\tsaídas\tsemanais\tpara\tlugares\tbadalados\tcomo\ta\tRodeo\tDrive\tnem pareciam\tmais\tum\tfavor. Eu\tfazia\taquilo\tde\tbom\tgrado,\tatraindo\tatenção\tpara\tela simplesmente\tporque\tgostava\tda\tsua\tcompanhia. Então,\tenquanto\testava\tlá\tsentada\tno\tescritório\tdo\tHarry,\tme\tfingindo\tde possessa\tpor\tnenhum\tdeles\testar\tsendo\tmuito\tútil,\tao\tmesmo\ttempo\tsabia\tque estava\tao\tlado\tde\tduas\tdas\tpessoas\tque\teu\tmais\tamava\tno\tmundo. “Com\tcerteza\tele\tdeve\testar\tvasculhando\to\testúdio\tinteiro\tatrás\tde\tmim.” Harry\tme\tdeu\tuma\tencarada. Ele\tsabia\to\tque\tia\tacontecer\tse\tDon\testivesse\tde mau\thumor\tquando\tlesse\ta\trevista."
          },
          "metadata": {}
        },
        {
          "output_type": "display_data",
          "data": {
            "text/plain": [
              "<IPython.core.display.Markdown object>"
            ],
            "text/markdown": "### Página 119"
          },
          "metadata": {}
        },
        {
          "output_type": "display_data",
          "data": {
            "text/plain": [
              "<IPython.core.display.Markdown object>"
            ],
            "text/markdown": "“ O\torgulho\tda\tBélgica \tsó\tcomeça\tna\tsemana que\tvem. Por\tque\tvocê\te\tEvelyn\tnão\tsaem\tpara fazer\tumas\tcompras? Podemos\tligar\tpara\ta\t Photoplay ,\tavisar\tque\tvocês\tvão\testar na\tRobertson.” “E\tser\tvista\tpasseando\tna\tcidade\tcom\tuma\tmoça\tsolteira\tcomo\tCelia\tSt. Ela\tnem\tao\tmenos trata\tcom\tgentileza\tas\tpessoas\tque\ta\tajudam . “Posso\tmandar\tBetsy\tir\taté\tlá hoje\tmesmo\te\tresolver\tisso. Quando\tvocê\tchegar\tem\tcasa,\tela\tjá\tvai\tter\tido embora.” Refleti\ta\trespeito\tdas\tminhas\topções. A\túltima\tcoisa\tde\tque\teu\tprecisava\tera\tque\to\tpúblico\tse\trecusasse\ta\tver\tmeu filme\tporque\teu\tnão\tqueria\tter\tum\tfilho\tcom\tDon. Eu\tsabia\tque\tnenhum espectador\tfalaria\tsobre\tisso\tabertamente. As\tpessoas\tpodiam\tnem\tperceber\tque estavam\t pensando \tassim. As\tpessoas\tnão\tsão\tmuito\tsolidárias\te\tacolhedoras\tcom\tuma\tmulher\tque\tpõe\ta própria\tcarreira\tem\tprimeiro\tlugar."
          },
          "metadata": {}
        },
        {
          "output_type": "display_data",
          "data": {
            "text/plain": [
              "<IPython.core.display.Markdown object>"
            ],
            "text/markdown": "### Página 120"
          },
          "metadata": {}
        },
        {
          "output_type": "display_data",
          "data": {
            "text/plain": [
              "<IPython.core.display.Markdown object>"
            ],
            "text/markdown": "Então\taquilo\ttudo\tia\tpegar\tmal\tpara\tDon também. “Harry,\tvocê\tpode\tpedir para\to\tdr.\tLopani\tligar\tna\tminha\tcasa\thoje\tà\tnoite? Lá\tpelas\tseis\thoras?” “Por\tquê?” “Preciso\tque\tele\tligue\tpara\tmim\te,\tquando\tPaula\tatender,\tfale\tcom\tuma\tvoz bem\tséria,\tcomo\tse\ttivesse\tuma\tcoisa\timportantíssima\ta\ttratar\tcomigo. Precisa parecer\tbem\tpreocupado\tmesmo,\tpara\tatiçar\ta\tcuriosidade\tdela.” “O.k.…” “Evelyn,\to\tque\tvocê\testá\ttramando?”,\tCelia\tperguntou,\tolhando\tbem\tpara mim. Harry\tleu\te\tdepois\tpassou\to\tpapel\tpara\tCelia. Alguém\tbateu\tna\tporta\te,\tsem\tque\tninguém\to\tconvidasse,\tDon\tentrou. Mas\teu\tconhecia\tDon,\te\tsabia\tque,\tcom\tele, nunca\texistia\tmeio-termo. “Creio\tque\tvocê já\tleu\tessa\tbobagem.”\tEle\testava\tcom\ta\trevista\tna\tmão. Eu é\tque\tnão\tvou\tandar\tpela\tcidade\tcom\tessa\timagem\tde\tfrouxo\testampada\tna\ttesta. Cameron,\tcomo\tfoi\tque\tisso\taconteceu?” “Já\testou\tresolvendo\ttudo,\tDon.” “Ótimo.” “Mas,\tenquanto\tisso,\tacho\tque\tvocê\tdeveria\tse\tinteirar\tdos\tplanos\tda\tEvelyn. É\timportante\tque\tela\tgaranta\ta\tsua\tparticipação\tantes\tde\tcolocar\ta\tcoisa\tem prática.” Don\tsentou\tnuma\tcadeira\tna\tfrente\tde\tCelia."
          },
          "metadata": {}
        },
        {
          "output_type": "display_data",
          "data": {
            "text/plain": [
              "<IPython.core.display.Markdown object>"
            ],
            "text/markdown": "### Página 121"
          },
          "metadata": {}
        },
        {
          "output_type": "display_data",
          "data": {
            "text/plain": [
              "<IPython.core.display.Markdown object>"
            ],
            "text/markdown": "“Don.” “Com\ttodo\to\trespeito,\tmas\tesse\tassunto\tnão\tdiz\trespeito\tsó\ta\tnós\ttrês?”,\tele disse “Claro”,\tCelia\tfalou,\tlevantando\tda\tcadeira. “Não”,\teu\tdisse,\terguendo\ta\tmão\tpara\timpedi-la. “Ela\té\tminha\tamiga.” Don\trevirou\tos\tolhos\te\tdeu\tde\tombros. “Então,\tqual\té\to\tplano,\tEvelyn?” “Vou\tfingir\tque\ttive\tum\taborto\tespontâneo.” “E\tpor\tque\tdiabos?” “As\tpessoas\tvão\tme\todiar\te\tprovavelmente\tperder\to\trespeito\tpor\tvocê\tse acharem\tque\testou\tme\trecusando\ta\tengravidar”,\tfalei,\tapesar\tde\tser\texatamente\to que\testava\tacontecendo\tentre\tnós. Esse\tera\to\telefante\tbranco\tna\tsala,\tclaro. “Mas\tvão\tficar\tcom\tpena\tse\tacharem\tque\tela\tnão\tconsegue”,\tCelia complementou. Não\tdá\tpara\tvender\tfilmes\tcom\tbase\tna\tpena.” Então\tfoi\ta\tvez\tde\tHarry\televar\ta\tvoz\tpara\tfalar:\t“Não\tuma\tova”. Comecei\ta\tchorar,\te\to\tmais\talto\tque\tpodia,\tcaso\tPaula\ttivesse\tresolvido\tcuidar da\tprópria\tvida,\tpara\tvariar. Meia\thora\tdepois,\tDon\tdesceu\te\tcontou\tpara\tPaula\tque\tíamos\tdemiti-la."
          },
          "metadata": {}
        },
        {
          "output_type": "display_data",
          "data": {
            "text/plain": [
              "<IPython.core.display.Markdown object>"
            ],
            "text/markdown": "### Página 122"
          },
          "metadata": {}
        },
        {
          "output_type": "display_data",
          "data": {
            "text/plain": [
              "<IPython.core.display.Markdown object>"
            ],
            "text/markdown": "Porque\ta\tpessoa\taté\t pode \tcorrer\tpara\tavisar\taos\ttabloides\tse\tficar\tsabendo\tque os\tpatrões\tperderam\tum\tbebê."
          },
          "metadata": {}
        },
        {
          "output_type": "display_data",
          "data": {
            "text/plain": [
              "<IPython.core.display.Markdown object>"
            ],
            "text/markdown": "### Página 123"
          },
          "metadata": {}
        },
        {
          "output_type": "display_data",
          "data": {
            "text/plain": [
              "<IPython.core.display.Markdown object>"
            ],
            "text/markdown": "Porque\tdurante\ttodo\tesse\ttempo\tem\tque\tpensamos\tque\tEvelyn\testava\tevitando Don,\tela\testava\tmesmo\tera\tfazendo\thora\textra. Evelyn\te\tDon\tquerem\tmuito\tter um\tpequeno\tDon\te\tuma\tpequena\tEvelyn\tcorrendo\tpela\tcasa,\tmas\ta\tnatureza\tnão está\tajudando. Ao\tque\tparece,\ttodas\tas\tvezes\tque\teles\tse\tveem\tperto\tde\t“fazer\ta\tfamília crescer”,\talguma\tcoisa\tdá\terrado\t—\te\ta\tmesma\ttragédia\tse\tabateu\tsobre\teles\teste mês\tpela\tterceira\tvez. Vamos\tmandar\tnossos\tpensamentos\tpositivos\tpara\tEvelyn\te\tDon."
          },
          "metadata": {}
        },
        {
          "output_type": "display_data",
          "data": {
            "text/plain": [
              "<IPython.core.display.Markdown object>"
            ],
            "text/markdown": "### Página 124"
          },
          "metadata": {}
        },
        {
          "output_type": "display_data",
          "data": {
            "text/plain": [
              "<IPython.core.display.Markdown object>"
            ],
            "text/markdown": "Na\tnoite\tseguinte\tà\tpublicação\tda\tnota,\tDon\tainda\tnão\testava\tconvencido\tde que\tera\ta\tcoisa\tcerta\ta\tfazer,\te\tHarry\testava\tocupado,\tmas\tnão\tqueria\tfalar\tcom\to quê\t—\te\teu\tsabia\tque\tisso\tsignificava\tque\tia\tsair\tcom\talguém. Então\tCelia\tfoi\tlá\tem\tcasa,\tpara\tdividirmos\tuma\tgarrafa\tde\tvinho. “Você\testá\tsem\tempregada”,\tCelia\tcomentou\tenquanto\tvasculhava\ta\tcozinha\tà procura\tde\tum\tsaca-rolha. “E\tvou\tcontinuar\tsem\tenquanto\to\testúdio\tnão aprovar\tuma\tcandidata.” Celia\tencontrou\to\tsaca-rolha,\te\teu\tentreguei\ta\tela\tuma\tgarrafa\tde\tcabernet. Nunca\tpassei\tmuito\ttempo\tna\tcozinha,\te\tera\tmeio\tsurreal\testar\tali\tsem ninguém\tme\tespiando,\tou\tse\toferecendo\tpara\tme\tfazer\tum\tsanduíche,\tou\tpara encontrar\tpara\tmim\to\tque\testava\tprocurando. Quando\ta\tpessoa\té\trica,\ttem\tpartes da\tcasa\tque\tnão\tsão\tdela\tde\tverdade. Comecei\ta\tabrir\tmeus\tarmários,\ttentando\tlembrar\tonde\tficavam\tas\ttaças. “Aqui\testão.” Celia\tviu\to\tque\teu\testava\tfazendo. “Qual\tdas\tduas?” “A\tmais\tredonda. Não\tesqueça,\tquerida,\tque\teu sou\tuma\tnova-rica.” Celia\tdeu\trisada\tenquanto\tservia\ta\tbebida."
          },
          "metadata": {}
        },
        {
          "output_type": "display_data",
          "data": {
            "text/plain": [
              "<IPython.core.display.Markdown object>"
            ],
            "text/markdown": "### Página 125"
          },
          "metadata": {}
        },
        {
          "output_type": "display_data",
          "data": {
            "text/plain": [
              "<IPython.core.display.Markdown object>"
            ],
            "text/markdown": "“Eu\tadoro\tisso\tem\tvocê”,\tdisse\tCelia\tao\tme\tentregar\tuma\ttaça\tcheia\te\tpegar outra\tpara\tsi. Meus\tpais\tagem\tcomo\tse existissem\ttítulos\toficiais\tda\tnobreza\tna\tGeórgia. Ela\tdiz\tque,\tpara\tuma mulher,\té\tindigno. Eu\tamo\te\todeio\tmeus\tparentes\tao\tmesmo\ttempo. Nenhum,\tna verdade.”\tMeu\tpai\te\to\tresto\tdos\tmeus\tfamiliares\tem\tHell’s\tKitchen\tnunca entraram\tem\tcontato\tcomigo,\te\tpelo\tjeito\tnão\ttinham\tnem\ttentado. Mas\tnão perdi\tum\túnico\tminuto\tde\tsono\tpor\tcausa\tdeles. Não\tparecia\testar\tcom\tpena\tde\tmim,\tnem\tsem\tgraça\tpor\tter tido\ta\tvida\ttoda\tuma\tcoisa\tque\tpara\tmim\tnunca\texistiu. “É\tum\tmotivo\ta\tmais para\teu\tcontinuar\tadmirando\tvocê”,\tdisse. “Por\tser\tessa\tpessoa\tabsolutamente\tincansável.” Dei\trisada\te\tbebi\tcom\tela. “Vem\tcá”,\tfalei,\tsaindo\tda\tcozinha\te\tindo\tpara\ta sala\tde\testar. Deixei\ta\ttaça\tna\tmesinha\tde\tcentro\tcom\tpernas\tem\tforma\tde grampo\te\tfui\taté\ta\tvitrola. Tirei\t Lady\tin\tSatin \tdo\tfundo\tda\tpilha\tde\tdiscos. “Sabia\tque\to\tverdadeiro\tnome\tdela\té\tEleonora\tFagan?”,\teu\tdisse\tpara\tCelia. “Billie\tHoliday\té\ttão\tmais\tbonito.” Sentei\tnum\tdos\tnossos\tsofás\tazuis\tde\tbotões. Cruzou\tas\tpernas\tsob\to\tcorpo,\tsegurando\tos\tpés\tcom\ta\tmão\tlivre. “É\tEvelyn\tHugo\tmesmo?” Peguei\tminha\ttaça\tde\tvinho\te\tconfessei\ta\tverdade."
          },
          "metadata": {}
        },
        {
          "output_type": "display_data",
          "data": {
            "text/plain": [
              "<IPython.core.display.Markdown object>"
            ],
            "text/markdown": "### Página 126"
          },
          "metadata": {}
        },
        {
          "output_type": "display_data",
          "data": {
            "text/plain": [
              "<IPython.core.display.Markdown object>"
            ],
            "text/markdown": "Só\tficou\tem\tsilêncio\te\tentão\tfalou:\t“Que\tlindo”. Fiquei\tde\tpé\te\tfui\tsentar\tao\tlado\tdela\tno\tsofá, diminuindo\ta\tdistância\tentre\tnós. Por\tque\teles\tquiseram\tmudar?” “Fui\teu\tque\tmudei.” “Por\tquê?” “Porque\to\tmeu\tnome\tparece\to\tde\tuma\tmenina\tqualquer\tdo\tbairro. E\teu sempre\tquis\tser\to\ttipo\tde\tgarota\tque\tas\tpessoas\tconsideram\tespecial.”\tEla inclinou\ta\tcabeça\tpara\ttrás\te\tterminou\to\tvinho. Evelyn,\tvocê\tsabe\tmuito\tbem\to\tque\té. Você\tfaz\tas\tpessoas\tsentirem\tvontade\tde\tarrancar\tsua\troupa quando\tentra\tem\talgum\tlugar\ttoda\tarrumada.” Fiquei\tvermelha\tao\touvir\talguém\tfalando\tsobre\tmim\tdaquele\tjeito. Ao\touvi-la falar\tsobre\to\tque\tos\thomens\tpensavam\tquando\tme\tviam. Celia\ttirou\to\tvinho\tda\tminha\tmão\te\tvirou\ttudo\tgoela\tabaixo. “Precisamos reabastecer”,\tela\tfalou,\tbalançando\ta\ttaça\tvazia. Eu\tsorri\te\tlevei\tas\tduas\ttaças\tpara\ta\tcozinha. Ela\tse recostou\tno\tbalcão\tde\tfórmica\tenquanto\teu\tservia. A voz\tde\tBillie\tHoliday\tsoava\tmais\tdistante. Ela\ta\tpegou\te\tdeixou\tde\tlado\tpor\tum instante,\tpulando\tpara\tsentar\tno\tbalcão\te\tdepois\ta\tapanhando\tnovamente."
          },
          "metadata": {}
        },
        {
          "output_type": "display_data",
          "data": {
            "text/plain": [
              "<IPython.core.display.Markdown object>"
            ],
            "text/markdown": "### Página 127"
          },
          "metadata": {}
        },
        {
          "output_type": "display_data",
          "data": {
            "text/plain": [
              "<IPython.core.display.Markdown object>"
            ],
            "text/markdown": "“Você\tme\tadmirar\tassim, sendo\tque\tnão\té\tmuito\tdiferente. Com esses\tolhos\tazuis\tredondos\te\tesse\tcorpo\tviolão…\tAcho\tque\tjuntas proporcionamos\tuma\tbela\tvisão\taos\trapazes.” Celia\tsorriu. “Obrigada.” Terminei\tminha\ttaça\te\tcoloquei\tsobre\to\tbalcão. Celia\tencarou\tisso\tcomo\tum desafio,\te\tfez\to\tmesmo\tcom\ta\tsua. “Como\tvocê\taprendeu\ttodas\tessas\tmalandragens?”,\tCelia\tquis\tsaber. “Não\tsei\tdo\tque\tvocê\testá\tfalando”,\trespondi,\tmaliciosa. “Você\té\tmuito\tmais\tesperta\tdo\tque\tdemonstra\tpara\tquase\ttodo\tmundo.” “Eu?”,\tperguntei. Percebi\tque\tCelia\testava\tarrepiada,\tentão\tsugeri\tir\tpara\ta\tsala\tde\ttevê,\tonde\tera mais\tquentinho. “Já\tvi\tas\tpessoas\tfazendo\tisso\tantes”,\tela\tfalou,\tencolhendo\tos\tombros. Mas\tnunca\tacendi\tsozinha.” “A\tgente\tdá\tconta”,\tela\tfalou. “A\tgente\té\tcapaz\tde\tfazer\tqualquer\tcoisa.” “Isso\tmesmo!”,\trespondi. “Vai\tabrir\toutra\tgarrafa\tde\tvinho,\te\teu\tvou\ttentar entender\tcomo\tacender\tessa\tcoisa.” “Ótima\tideia!”\tCelia\ttirou\to\tcobertor\tdos\tombros\te\tfoi\tpara\ta\tcozinha. Ajoelhei\tdiante\tda\tlareira\te\tcomecei\ta\tremexer\tnas\tcinzas."
          },
          "metadata": {}
        },
        {
          "output_type": "display_data",
          "data": {
            "text/plain": [
              "<IPython.core.display.Markdown object>"
            ],
            "text/markdown": "### Página 128"
          },
          "metadata": {}
        },
        {
          "output_type": "display_data",
          "data": {
            "text/plain": [
              "<IPython.core.display.Markdown object>"
            ],
            "text/markdown": "Quando\tolhei\tpara\tela,\tvi\tque\testava\tvirando\to\tvinho\tno\tgargalo. Eu\tdei\trisada,\tpeguei\tum\tjornal\tde\tcima\tda\tmesa\te\to\tjoguei\tna\tlareira. “Tenho uma\tideia\tmelhor!”,\tfalei,\te\tcorri\tpara\to\tandar\tde\tcima\tpara\tpegar\to\texemplar\tda Sub\tRosa \tque\tme\tdescrevia\tcomo\tuma\tmulher\tfria\te\tsem\tcoração. “Vamos\tqueimar\tisto\taqui!” Atirei\ta\trevista\tna\tlareira\te\tacendi\tum\tfósforo. “Bota\tfogo\tnesses\tcretinos.” As\tchamas\tretorceram\tas\tpáginas,\tse\taquietaram\tpor\tum\tinstante\te\tentão\tse extinguiram. De\talguma\tforma\tconsegui\talgumas\tbrasas\te\tuma\tpequena\tchama\tquando\tuma parte\tdo\tjornal\tcomeçou\ta\tqueimar. “Agora\tacho\tque\tem\talgum\tmomento\tvai\tdar\tcerto.” Celia\tse\taproximou\te\tme\tentregou\ta\tgarrafa\tde\tvinho. Eu\tdei\trisada\te\tlevei\ta\tgarrafa\tde\tnovo\tà\tboca. E\teu\tgostava\tde\tbeber\tcomo\tse\tfosse\tágua,\tcomo\tse\taquilo não\tfizesse\ta\tmenor\tdiferença\tpara\tmim. Meninas\tpobres\tde\tHell’s\tKitchen\tnão podem\tbeber\tum\tvinho\tcomo\tesse\tque\tnem\tágua\tcomo\tse\tnão\tfosse\tnada. Eu\tfingi\tque\tia\tentregar,\tmas\tcontinuei\tsegurando. Mas\tdemorei\tmuito\tpara\tfalar,\te\tsoltei\ta\tgarrafa\tantes. A\tblusa\tdela\tficou\ttoda\tsuja\tde\tvinho. Tenho\tuma\tque\tvai\tficar\tperfeita\tem você.” Fomos\tpara\to\tmeu\tquarto\te\tentramos\tno\tcloset."
          },
          "metadata": {}
        },
        {
          "output_type": "display_data",
          "data": {
            "text/plain": [
              "<IPython.core.display.Markdown object>"
            ],
            "text/markdown": "### Página 129"
          },
          "metadata": {}
        },
        {
          "output_type": "display_data",
          "data": {
            "text/plain": [
              "<IPython.core.display.Markdown object>"
            ],
            "text/markdown": "“Posso\tte\tperguntar\tuma\tcoisa?”,\tela\tdisse. Seu\ttom\tde\tvoz\ttinha\tum\tquê curioso,\tespeculativo. Pensei\tque\tela\tfosse\tperguntar\tse\teu\tacreditava\tem fantasmas\tou\tamor\tà\tprimeira\tvista. “E\tvocê\tpromete\tque\tvai\tme\tdizer\ta\tverdade?”,\tela\tperguntou\tconforme sentava\tna\tbeirada\tda\tcama. “E\taí\teu\tvejo.” “Você\té\tapaixonada\tpor\tele?” “Pelo\tDon?” “Quem\tmais\tseria?” Pensei\tantes\tde\tresponder. “Eu\tnão\tacho.” “Então…?” Fui\taté\tela\te\tsentei\tna\tcama. Eu\tamo\tDon,\tmas\tem\tgrande parte\tdo\ttempo\ttambém\to\todeio. E\testou\tcom\tele\tpor\tcausa\tdo\tsobrenome,\tsim, mas\ttambém\tporque\tnós\tnos\tdivertimos. Não\té\tfácil\texplicar.” “Ele\ttransa\tcom\tvocê?”,\tela\tperguntou. Às\tvezes\tsinto\ttanta\tvontade\tdele\tque\tfico\taté\tcom\tvergonha. Não\tsei\tse\tuma\tmulher\tdeveria\tsentir\ttanto\tdesejo\tpor\tum\thomem\tquanto\teu sinto\tpor\tDon.” Don\tpode\tter\tme\tensinado\tque\teu\tera\tcapaz\tde\tamar\te\tdesejar\tum\thomem. Mas\ttambém\tme\tensinou\tque\té\tpossível\tdesejar\talguém\tde\tque\ta\tgente\tnão gosta,\te\t principalmente \tquando\ttem\traiva\tdele. Acho\tque\thoje\tem\tdia\ttem\taté\tum"
          },
          "metadata": {}
        },
        {
          "output_type": "display_data",
          "data": {
            "text/plain": [
              "<IPython.core.display.Markdown object>"
            ],
            "text/markdown": "### Página 130"
          },
          "metadata": {}
        },
        {
          "output_type": "display_data",
          "data": {
            "text/plain": [
              "<IPython.core.display.Markdown object>"
            ],
            "text/markdown": "nome\tpara\tdefinir\tquem\ttrepa\tcom\tódio. Mas\té\tum\ttermo\tbem\tvulgar\tpara\tuma experiência\tsensual\te\tprofundamente\thumana. “Esquece\tque\teu\tperguntei”,\tdisse\tCelia,\tlevantando\tda\tcama. “Eu\tvou\tpegar\ta\tblusa\tpara\tvocê”,\tfalei,\tindo\taté\tminha\tcômoda. Celia\tera\tmenor\tque\teu,\ttinha\tuma\tsilhueta\tmais\tdelicada. Ela\tpegou\tda\tminha\tmão\tpara\tolhar\tmais\tde\tperto. Acho\tque\tela\tfalou\tsó\tda\tboca\tpara\tfora. Mas\tfoi\tuma\tcoisa\timportante\tpara mim. Mas\tporque,\tquando\tela\tfalou,\teu\tpercebi\tque acreditava \tnela. “Sei,\tsim.” As\tpessoas\tacham\tque\tintimidade\ttem\ta\tver\tcom\tsexo. Quando\ta\tpessoa\tpercebe\tque\tpode\tcontar\ta\tverdade\tpara\talguém,\tque\tpode\tse abrir,\tque\tpode\tdesabafar\ttotalmente\te\treceber\tcomo\tresposta:\t“Comigo\tessas coisas\testão\ta\tsalvo”. Então,\tpor\tesse\tpadrão,\tesse\tmomento\tcom\tCelia\tera\to\tmais\tíntimo\tque\teu\tjá tivera\tcom\tuma\tpessoa\tna\tvida. Isso\tme\tfez\tsentir\ttanta\tgratidão\tque\ttive\tvontade\tde\tabraçá-la\te\tnunca\tmais soltar. “Não\tsei\tse\tvai\tme\tservir”,\tCelia\tfalou. E,\tse\tservir,\té\tsua.” Eu\tqueria\tdar\tum\tmonte\tde\tcoisas\tpara\tCelia."
          },
          "metadata": {}
        },
        {
          "output_type": "display_data",
          "data": {
            "text/plain": [
              "<IPython.core.display.Markdown object>"
            ],
            "text/markdown": "### Página 131"
          },
          "metadata": {}
        },
        {
          "output_type": "display_data",
          "data": {
            "text/plain": [
              "<IPython.core.display.Markdown object>"
            ],
            "text/markdown": "Fiquei\tme\tperguntando\tse\tera\tisso\tque\tsignificava\tamar alguém. Eu\tjá\tsabia\tcomo\tera\testar\t apaixonada . Havia\texperimentado\tisso,\te agido\tde\tacordo\tcom\tmeu\tsentimento. Mas\t amar \talguém…\tEsse\tquerer\tbem… Colocar\ttudo\to\tque\teu\ttinha\tna\tmão\tda\toutra\tpessoa\te\tpensar:\t O\tque\tquer\tque aconteça,\tvou\tencarar\tao\tseu\tlado … “Certo”,\tCelia\tfalou. Enquanto\ttirava\ta\tblusa,\tme peguei\tobservando\to\ttom\tclarinho\tde\tsua\tpele\tsobre\tas\tcostelas. Reparei\tque,\tno\tcaso\tdela,\tao\tcontrário\tdo\tmeu,\to\tsutiã\tnão\tservia\tpara\tempurrar os\tseios\tpara\tcima. Segui\tcom\tos\tolhos\ta\ttrilha\tde\tsardas\tmarrons\tque\tsubia\tpelo\tlado\tdireito\tdo seu\tquadril. “Mas\to\tque\testá\tacontecendo\taqui?”,\tele\tperguntou\tnum tom\tbrincalhão."
          },
          "metadata": {}
        },
        {
          "output_type": "display_data",
          "data": {
            "text/plain": [
              "<IPython.core.display.Markdown object>"
            ],
            "text/markdown": "### Página 132"
          },
          "metadata": {}
        },
        {
          "output_type": "display_data",
          "data": {
            "text/plain": [
              "<IPython.core.display.Markdown object>"
            ],
            "text/markdown": "A\tjovem\tdama\tda\tGeórgia\tsabe\tcomo\tfazer\tamizade com\tas\tpessoas\tcertas. Celia\te\tEvelyn\tsão\tvistas\tjuntas\tem\ttodo\tlugar\tpela\tcidade,\tfazendo compras,\tconversando\te\taté\tarrumando\ttempo\tpara\tuma\tpartida\tou\toutra\tno Beverly\tHills\tGolf\tClub. E,\tpara\ttornar\ttudo\tainda\tmais\tperfeito,\tparece\tque\tem\tbreve\tas\tduas\tamigas terão\tmuitos\tprogramas\tpara\tfazer\tcom\tseus\trespectivos. Celia\tfoi\tflagrada\tno Trocadero\tcom\tninguém\tmenos\tque\tRobert\tLogan,\tgrande\tamigo\tdo\tmarido\tde Evelyn,\tDon\tAdler. Um\tbelo\tpar,\tamigos\tglamorosos\te\tperspectiva\tde\tuma\testatueta\tno\tfuturo\t— Celia\tSt."
          },
          "metadata": {}
        },
        {
          "output_type": "display_data",
          "data": {
            "text/plain": [
              "<IPython.core.display.Markdown object>"
            ],
            "text/markdown": "### Página 133"
          },
          "metadata": {}
        },
        {
          "output_type": "display_data",
          "data": {
            "text/plain": [
              "<IPython.core.display.Markdown object>"
            ],
            "text/markdown": "Era\to\ttipo\tde\troupa\tque\teu\tjamais\tusaria\tna\trua\tse\tnão\tquisesse\tser\tpresa por\tprostituição. E\tela\testava\ttambém\tcom\tum\tcolar\tde\tdiamantes\tque\tDon\ttinha conseguido\tconvencer\to\testúdio\ta\temprestar. O\tSunset\tnão\tera\tnada\ta\tfavor\tde\tajudar\tatrizes\tsem\tcontrato\tde\texclusividade, mas\tCelia\tqueria\tos\tdiamantes,\te\teu\tqueria\tque\tCelia\ttivesse\to\tque\tquisesse. Don\ttinha\tacabado\tde\testrelar\tseu\tsegundo\tfaroeste,\t Em\tnome\tdos\tjustos , depois\tde\tter\tfeito\tum\tlobby\tpesado\tcom\tAri\tpara\tganhar\tmais\tuma\tchance\tno gênero. Dessa\tvez,\tporém,\tos\tcríticos\tdisseram\toutra\tcoisa. Como\tDon\testava\tde\tvolta\tao\ttopo\tdas\tbilheterias\tdos\tEstados\tUnidos,\tAri Sullivan\tfaria\tde\ttudo\tpara\tagradá-lo. Foi\tassim\tque\tos\tdiamantes\tforam\tparar\tno\tpescoço\tde\tCelia,\tcom\tum\trubi enorme\tno\tcentro,\tdescansando\tsobre\tseu\tcolo. Meus\tcabelos\testavam\tsoltos\te\tenrolados\tnas\tpontas. Olhei\tpara\tCelia,\tque\testava\tse\tobservando\tno\tespelho\tda\tminha\tpenteadeira, remexendo\tem\tseu\tpenteado\tbouffant."
          },
          "metadata": {}
        },
        {
          "output_type": "display_data",
          "data": {
            "text/plain": [
              "<IPython.core.display.Markdown object>"
            ],
            "text/markdown": "### Página 134"
          },
          "metadata": {}
        },
        {
          "output_type": "display_data",
          "data": {
            "text/plain": [
              "<IPython.core.display.Markdown object>"
            ],
            "text/markdown": "Isso\tnão\tconta?” Peguei\tminha\tbolsinha,\tque\tcombinava\tcom\to\tvestido. “Você\tsabe\tque\tnão\té\tminha\tchefe,\tné?”,\tela\tretrucou. “Por\tque\tnós\tsomos\tamigas\tmesmo?”,\tquestionei. “Porque\tnós\tduas\tjuntas\tsomos\tmaiores\tque\ta\tsoma\tdas\tduas\tpartes\tsozinhas.” “E\tdaí?” “E\tdaí\tque,\tquando\ta\tquestão\té\tquais\tpapéis\tpegar\te\tcomo\tinterpretar,\tquem\té que\tmanda?” “Eu.” “E\tquando\ta\tquestão\té\ta\testreia\tdo\tnosso\tfilme? Eu\tdisse\tque\tdetesto\tesse\tcara.” “E\tcom\trazão. Ele\té\tasqueroso.” “Não\ttem\tmais\tninguém\tdisponível?” “Não\ttão\tem\tcima\tda\thora.” “E\teu\tnão\tposso\tir\tsozinha?” “Na\testreia\tdo\tseu\tfilme?” “Por\tque\teu\tnão\tposso\tir\tcom\tvocê?” “Eu\tvou\tcom\tDon. Você\tvai\tcom\tRobert.” Celia\tfechou\ta\tcara\te\tvirou\tde\tnovo\tpara\to\tespelho. Vi\tseus\tolhos\tse estreitarem\te\tseus\tlábios\tse\tfranzirem,\tcomo\tse\testivesse\tpensando\tem\tnada\talém da\traiva\tque\testava\tsentindo."
          },
          "metadata": {}
        },
        {
          "output_type": "display_data",
          "data": {
            "text/plain": [
              "<IPython.core.display.Markdown object>"
            ],
            "text/markdown": "### Página 135"
          },
          "metadata": {}
        },
        {
          "output_type": "display_data",
          "data": {
            "text/plain": [
              "<IPython.core.display.Markdown object>"
            ],
            "text/markdown": "Peguei\ta\tbolsa\tdela\te\tlhe\testendi. Se\tvocê\tnão\testá\tdisposta\ta\tfazer\to\tque\té\tpreciso para\tpôr\tseu\tnome\tnas\tmanchetes\tdos\tjornais,\tentão\tque\tdiabos\testá\tfazendo aqui?” Ela\tlevantou,\tpegou\ta\tbolsa\tda\tminha\tmão\te\tsaiu\tporta\tafora. Vi\tquando desceu\ta\tescada\te\tentrou\tna\tminha\tsala\tde\testar\tcom\tum\tsorriso\tno\trosto, correndo\tpara\tos\tbraços\tde\tRobert\tcomo\tse\to\tconsiderasse\to\tsalvador\tda humanidade. Ele\tsempre\tficava\tbem\tde\tsmoking. Não\thavia\tcomo negar\tque\tele\tseria\to\thomem\tmais\tbonito\tdo\tevento. Mas\teu\testava\tme\tcansando dele. Como\té\tque\tdizem\tpor\taí\tmesmo? “Vamos?”,\tdisse\tCelia,\tcomo\tse\tmal\tpudesse\tesperar\tpara\tentrar\tno\tcinema\tde braço\tdado\tcom\tRobert. “Não\tquero\tperder\tnem\tum\tminuto”,\trespondi,\tdando\to\tbraço\tpara\tDon\te\tme agarrando\ta\tele\tcomo\tse\tminha\tvida\tdependesse\tdisso. Ele\tolhou\tpara\to\tmeu braço\te\tdepois\tpara\tmim,\tsurpreso\tcom\ta\tdemonstração\tde\tafeto. Don\testava\tmerecendo\tuns\tbons\ttapas. Alguns\ttrechos\tdo\tHollywood\tBoulevard\ttinham\tsido\tinterditados\tpara\tnossa chegada. O\tmotorista\tparou\tatrás\tdo\tcarro\tonde\testavam\tCelia\te\tRobert,\tna frente\tdo\tcinema. Quando\tum\tfilme\treúne\tgrandes\testrelas\te\to\testúdio\tquer\tfazer\tbarulho,\tele garante\tque\ttodas\tcheguem\tao\tmesmo\ttempo\tem\tquatro\tcarros\tdiferentes, devidamente\tacompanhadas\tde\tum\tsolteirão\tde\tfazer\tinveja."
          },
          "metadata": {}
        },
        {
          "output_type": "display_data",
          "data": {
            "text/plain": [
              "<IPython.core.display.Markdown object>"
            ],
            "text/markdown": "### Página 136"
          },
          "metadata": {}
        },
        {
          "output_type": "display_data",
          "data": {
            "text/plain": [
              "<IPython.core.display.Markdown object>"
            ],
            "text/markdown": "Nossos\tacompanhantes\tdesceram\tprimeiro,\testendendo\ta\tmão\tdepois\tde saírem\tdo\tcarro. E continuei\tdentro\tdo\tcarro\tpor\tmais\tum\ttempinho. “Você\té\ta\tmulher\tmais\tlinda\taqui”,\tDon\tdisse\tno\tmeu\touvido\tquando\tme\tpus ao\tseu\tlado. Só\testou\texplicando\tque\tser\tamada\tpor\tuma\tcoisa\tque não\té\tmérito\tseu\tnão\té\ttão\tlegal\tassim. Os\tfotógrafos\tcomeçaram\ta\tchamar\tnossos\tnomes\tenquanto\tentrávamos. Minha\tcabeça\tfoi\tinvadida\tpor\tuma\tgritaria\ttremenda. Aqui!” Eu\tmal\tconseguia\touvir\tmeus\tpróprios\tpensamentos\tcom\tos\tcliques\tdas câmeras\te\to\tburburinho\tda\tmultidão\tao\tredor. Mas,\tagindo\tcomo\teu\ttinha\tme treinado\ta\tfazer\tmuito\ttempo\tantes,\tfingi\tque\testava\tabsolutamente\ttranquila, como\tse\tser\ttratada\tcomo\tum\tanimal\tde\tzoológico\tfosse\ta\tcoisa\tmais\tagradável do\tmundo. Don\te\teu\tandamos\tde\tmãos\tdadas,\tsorrindo\tpara\tcada\tflash\tque\tdisparava. No fim\tdo\ttapete\tvermelho\thavia\talguns\thomens\tcom\tmicrofones. Um\trosto\tideal\tpara\to\trádio,\tcomo\tdizem\tpor\taí. Hugo,\testá\tanimada\tcom\to\tlançamento\tdo\tfilme?” Dei\ta\trisada\tmais\teducada\tde\tque\tera\tcapaz,\tpara\tdisfarçar\to\tquanto\tachei\ta pergunta\tidiota. “Esperei\ta\tvida\ttoda\tpara\trepresentar\to\tpapel\tde\tJo\tMarch. Estou animadíssima\tcom\ta\testreia\tde\thoje.”"
          },
          "metadata": {}
        },
        {
          "output_type": "display_data",
          "data": {
            "text/plain": [
              "<IPython.core.display.Markdown object>"
            ],
            "text/markdown": "### Página 137"
          },
          "metadata": {}
        },
        {
          "output_type": "display_data",
          "data": {
            "text/plain": [
              "<IPython.core.display.Markdown object>"
            ],
            "text/markdown": "“E\tparece\tter\tfeito\tuma\tbela\tamizade\tdurante\tas\tfilmagens”,\tele\tdisse. James\tparecem\tter\tficado\tbem\tamigas.” “Ela\té\tmaravilhosa. Absolutamente maravilhosa.” “Ela\te\tRobert\tLogan\tpelo\tjeito\testão\tse\tdando\tmuito\tbem.” “Ah,\tmas\tisso\tvocê\tprecisa\tperguntar\tpara\teles. “Acho\tque\tjá\tchega\tde\tperguntas\tpor\thoje”,\tdisse. “Don,\tquando\tvocê\te\tsua\tesposa\tvão\tcomeçar\tuma\tfamília?” “Eu\tdisse\tque\tjá\tchega\tde\tperguntas,\tamigo. Don\tabriu\ta\tporta\tpara\tnós\te\tficou\tà\tminha\tespera. Robert\tfez\to\tmesmo\tna porta\tao\tlado\tpara\tCelia. Segurei\ta\tmão\tde\tCelia\te\tme\tvirei. “Acene\tpara\tas\tpessoas”,\teu\tdisse,\tcom\tum\tsorriso\tno\trosto. “Acene\tcomo\tse fosse\ta\tprópria\trainha\tda\tInglaterra.” Celia\tabriu\tum\tsorriso\tradiante\te\tseguiu\tminha\tdeixa. Em\tseguida\tviramos\te\tentramos\tno\tcinema,\tnos\tdirigindo\taos\tassentos reservados\tpara\tnós. “Eu\tsei.” “Daqui\ta\talguns\tmeses,\tvocê\tvai\tganhar\tsua\testatueta\tpor\tesse\tfilme,\te\teu\tpor Em\tnome\tdos\tjustos ."
          },
          "metadata": {}
        },
        {
          "output_type": "display_data",
          "data": {
            "text/plain": [
              "<IPython.core.display.Markdown object>"
            ],
            "text/markdown": "### Página 138"
          },
          "metadata": {}
        },
        {
          "output_type": "display_data",
          "data": {
            "text/plain": [
              "<IPython.core.display.Markdown object>"
            ],
            "text/markdown": "“Celia\tvai\tser\tindicada\ttambém”,\tmurmurei\tno\touvido\tdele. “As\tpessoas\tvão\tsair\tdaqui\tfalando\tsobre\tvocê”,\tele\tdisse. “Sem\tdúvida nenhuma.” Olhei\tpara\to\tlado\te\tvi\tRobert\tcochichando\tna\torelha\tde\tCelia. Ela\testava\trindo como\tse\tele\tfosse\tengraçado\tde\tverdade. Enquanto\tisso,\tela\tagia\tcomo\tse\tele\tfosse\tcapaz\tde\tarrancar\taquele vestido\tapenas\tna\tbase\tdo\tcharme. E\teu\tnão\tconseguia\tparar\tde\tpensar\tnas\tsardas do\tquadril\tdela. Era\tuma\tcoisa\tque\teu\tconhecia,\te\tele\tnão. “Ela\ttem\tmuito\ttalento,\tDon.” “Ah,\tpara\tcom\tisso”,\tDon\tfalou. A\timprensa\tnão\ttem\tnada\tque\tficar\tfazendo\tperguntas\tsobre\tela. Toda\ta\tassistência\tcravou\tos\tolhos\tem\tmim\tna\ttela\tquando\teu\tsoltei\ta\tfala: “Sem\tpresentes,\to\tNatal\tnão\tseria\to\tNatal!”. Mas,\tquando\tCelia\tfalou:\t“Nós\ttemos\ta\tmamãe\te\to\tpapai,\te\tumas\tàs\toutras”, eu\tsoube\tque\tnão\tteria\ta\tmenor\tchance. Mas,\tem\tvez\tde\tpassar\tuma\thora\te\tquarenta\te\tcinco\tminutos\tlambendo\tminhas feridas,\tprecisei\tme\tsegurar\tdurante\to\tfilme\tpara\tconter\tmeu\tsorriso."
          },
          "metadata": {}
        },
        {
          "output_type": "display_data",
          "data": {
            "text/plain": [
              "<IPython.core.display.Markdown object>"
            ],
            "text/markdown": "### Página 139"
          },
          "metadata": {}
        },
        {
          "output_type": "display_data",
          "data": {
            "text/plain": [
              "<IPython.core.display.Markdown object>"
            ],
            "text/markdown": "Mas\tsaber\tdisso\tnão\tme\tdeixou com\tinveja. E\teu\tpensei:\t Ele\tvai\tencontrar\tuma\tdesculpa\tpara\tme\tbater\tainda\thoje. Eu\testava\tna\tmansão\tde\tAri\tSullivan\tno\talto\tdo\tBenedict\tCanyon. Don\te\teu tínhamos\tpercorrido\tas\truas\tsinuosas\taté\tlá\tsem\ttrocar\tuma\tpalavra. A\tde\tque\tninguém\tia\tprestar\tatenção\tem\tmais\tnada\talém dela. Fui\tatrás\tde\tCelia,\tmas\tnão\tconsegui\tencontrá-la. Em\tvez\tdisso,\tfui\tparar\tno\tmeio\tde\tum\tbando\tde\tpuxa-sacos,\tque\tqueriam\tser vistos\tcomigo\tenquanto\ttomavam\tseus\tdrinques\taçucarados\te\tconversavam\tsobre Eisenhower. Mulheres\tque\tcolecionam\tjoias\traras\tme\tpassavam\ta\tmesma\timpressão\tdos homens\tque\tfariam\tde\ttudo\tpor\tuma\tnoite\tcomigo. No\tmundo\tdessa\tgente,\ttudo se\tresumia\ta\tobjetos;\tsó\tfaziam\tpensar\tem\tpossuir\tas\tcoisas. “Ah,\taí\testá\tvocê,\tEv”,\tRuby\tfalou\tquando\tme\tencontrou\tno\tcorredor. Ela estava\tcom\tdois\tdrinques\tverdes\tna\tmão. Sua\tvoz\testava\tmeio\talterada,\tmas\tnão dava\tpara\tentender\to\tmotivo."
          },
          "metadata": {}
        },
        {
          "output_type": "display_data",
          "data": {
            "text/plain": [
              "<IPython.core.display.Markdown object>"
            ],
            "text/markdown": "### Página 140"
          },
          "metadata": {}
        },
        {
          "output_type": "display_data",
          "data": {
            "text/plain": [
              "<IPython.core.display.Markdown object>"
            ],
            "text/markdown": "Ela\tolhou\tpor\tcima\tdo\tombro,\tsegurou\tas\ttaças\tpela\thaste\tem\tuma\tmão\te\tcom a\toutra\tme\tpuxou\tpelo\tcotovelo,\tderramando\ta\tbebida\tem\tmim. Ela\tfez\tum\taceno\tdiscreto\tcom\to\tqueixo\tpara\ta\tlavanderia\tà\tnossa\tfrente. “Toma”,\tela\tfalou,\tme\tentregando\tum\tdos\tdrinques\tno\tescuro. “Eu\tia\tlevar para\tJoy,\tmas\tpode\tficar. Combina\tcom\tseu\tvestido,\tinclusive.” Depois\tque\tos\tmeus\tolhos\tse\tadaptaram\tà\tpenumbra,\teu\tpeguei\ta\tbebida. Você\tderramou\tmetade\tem\tmim.” Com\tuma\tdas\tmãos\tagora\tlivre,\tRuby\tpuxou\ta\tcorrentinha\tpara\tacender\ta lâmpada\tacima\tde\tnós. O\tpequeno\tcômodo\tse\tiluminou,\tfazendo\tmeus\tolhos arderem. “O\tseu\tcomportamento\testá\tuma\tvergonha\thoje,\tRuby.” “Acha\tque\teu\testou\tpreocupada\tcom\to\tque\tvocê\tpensa\tde\tmim,\tEvelyn\tHugo? James,\tora\tessa.” “O\tque\ttem\tela?” Ruby\tbaixou\ta\tcabeça,\tirritada. “Evelyn,\testou\tfalando\tsério.” “O\tdesempenho\tdela\tfoi\tótimo. Celia\te\tRuby disputariam\ta\tindicação\tde\tMelhor\tAtriz\tCoadjuvante."
          },
          "metadata": {}
        },
        {
          "output_type": "display_data",
          "data": {
            "text/plain": [
              "<IPython.core.display.Markdown object>"
            ],
            "text/markdown": "### Página 141"
          },
          "metadata": {}
        },
        {
          "output_type": "display_data",
          "data": {
            "text/plain": [
              "<IPython.core.display.Markdown object>"
            ],
            "text/markdown": "Eu\tnão\ttinha\tnada\ta\tdizer,\tmas\tela\testava\tbloqueando\tminha\tpassagem\te\tme impedindo\tde\tsair\tdali. “Ah,\tRuby,\tvê\tse\tesquece\tisso.” Ela\tterminou\to\tdrinque. “Andam\tdizendo\tum\tmonte\tde\tcoisas\tsobre\tvocês duas,\te\teu\tme\trecusei\ta\tacreditar. Mas\tagora…\tsei\tlá.” “E\to\tque\té\tque\tas\tpessoas\tandam\tdizendo?” “Ora,\tvocê\tsabe.” “Juro,\tnão\tfaço\ta\tmenor\tideia.” “Por\tque\tvocê\tprecisa\tdificultar\ttanto\tas\tcoisas?” “Ruby,\tvocê\tme\tarrastou\tpara\tuma\tlavanderia\tcontra\ta\tminha\tvontade,\te começou\ta\treclamar\tcomigo\tsobre\tcoisas\tque\testão\tfora\tdo\tmeu\tcontrole. Não sou\teu\tquem\testá\tsendo\tdifícil\taqui.” “Ela\té\t‘lésbica’,\tEvelyn.” Até\taquele\tmomento,\tos\tsons\tda\tfesta\tao\tnosso\tredor\tcontinuavam\taudíveis, mas\tindistintos. Só\tdeu\tpara captar\talgumas\tpalavras,\tcomo\t garota ,\t sapatão ,\t pervertida . Quando\tconsegui\t—\tquando\tvoltei\ta\tme concentrar\tnas\tpalavras\tde\tRuby\t—,\tenfim\tescutei\to\tresto\tda\tinformação\tque\tela queria\tme\tpassar. “E\té\tbom\tvocê\tsegurar\tas\trédeas\tdo\tseu\tmarido,\taliás. Ele\testá\tno\tquarto\tdo Ari,\tsendo\tchupado\tpor\tuma\tpiranha\tda\t MGM .” Quando\tRuby\tdisse\tisso,\teu\tnão\tpensei:\t Ai,\tmeu\tDeus. O\tque\tme\tpassou\tpela\tcabeça\tfoi:\t Preciso\tencontrar\tCelia ."
          },
          "metadata": {}
        },
        {
          "output_type": "display_data",
          "data": {
            "text/plain": [
              "<IPython.core.display.Markdown object>"
            ],
            "text/markdown": "### Página 142"
          },
          "metadata": {}
        },
        {
          "output_type": "display_data",
          "data": {
            "text/plain": [
              "<IPython.core.display.Markdown object>"
            ],
            "text/markdown": "Evelyn\tlevanta\tdo\tsofá,\tpega\to\ttelefone\te\tpede\tpara\tGrace\tencomendar\tnosso jantar\tno\trestaurante\tde\tcomida\tmediterrânea\tda\tesquina. Carne\tou\tfrango?” “Frango,\tacho.”\tFico\tolhando\tpara\tela,\tesperando\tque\tvolte\ta\tse\tsentar\tpara retomar\ta\thistória. Mas,\tdepois\tde\tfazer\tisso,\tEvelyn\tse\tlimita\ta\tme\tobservar. Não\tconfia\tno\tque\tacabei\tde\tdizer,\tnem\tadmite\taquilo\tde\tque\teu\tjá\tvinha desconfiando\tfazia\tum\ttempinho. James\tera\tgay?” “Estou\trevelando\tas\tcoisas\tà\tmedida\tque\tforam\tacontecendo.” “Sim,\teu\tsei”,\tdigo. E\tnão\tsei\tse\té\tporque\tela\tsabe\tque\testou\tdesconfiada\te\tpor\tisso\tpode enfim\trevelar\ta\tverdade\tou\tporque\testou\tcompletamente\tenganada\te\tEvelyn\tnem imagina\to\tque\testá\tse\tpassando\tna\tminha\tcabeça. Não\tsei\tse\tquero\tfazer\tessa\tpergunta\tantes\tde\tter\tcerteza\tda\tresposta. Os\tlábios\tde\tEvelyn\testão\tfranzidos\tnuma\tlinha\treta. Eu\tpercebo,\tporém,\tque\tenquanto\tme\tespera falar\tseu\tpeito\testá\tsubindo\te\tdescendo\tde\tforma\tacelerada. “Quem\tfoi\to\tgrande\tamor\tda\tsua\tvida?” Evelyn\tmira\tmeus\tolhos,\te\tsinto\tque\testá\tprecisando\tde\tum\tempurrãozinho."
          },
          "metadata": {}
        },
        {
          "output_type": "display_data",
          "data": {
            "text/plain": [
              "<IPython.core.display.Markdown object>"
            ],
            "text/markdown": "### Página 143"
          },
          "metadata": {}
        },
        {
          "output_type": "display_data",
          "data": {
            "text/plain": [
              "<IPython.core.display.Markdown object>"
            ],
            "text/markdown": "O\tmundo\tde\thoje\tnão\té\tmais como\to\tmundo\tde\toutrora. Apesar\tde\ttambém\tnão\tser\ttotalmente\tseguro,\tdevo admitir. “Evelyn,\tquem\tfoi\to\tgrande\tamor\tda\tsua\tvida? Pode\tme\tfalar.” Evelyn\tolha\tpela\tjanela,\trespira\tfundo\te\tresponde:\t“Celia\tSt. Nós\tduas\tficamos\tem\tsilêncio\tenquanto\tEvelyn\tassimila\tsuas\tpróprias palavras. Ela\tcomeça\ta\trir sozinha,\te\tentão\tcomplementa:\t“Acho\tque\tfui\tapaixonada\tpor\tela\ta\tminha\tvida toda”. “Então\teste\tlivro,\ta\tsua\tbiografia…\tvocê\testá\tdisposta\ta\tser\tretratada\tcomo uma\tmulher\tgay?” Evelyn\tfecha\tos\tolhos\tpor\tum\tinstante,\te\ta\tprincípio\tpenso\tque\tela\testá medindo\to\tpeso\tdas\tminhas\tpalavras,\tmas,\tquando\tvolta\ta\tme\tencarar,\tpercebo que\testá\tse\tesforçando\tpara\tlidar\tcom\ta\tminha\testupidez\tmesmo. Eu\tamava Celia,\tmas,\tantes\tdisso,\tera\tapaixonada\tpor\tDon. Inclusive\ttenho\tcerteza\tde\tque, se\tDon\tnão\ttivesse\tse\trevelado\tum\tcretino\tde\tquinta\tcategoria,\teu\tjamais conseguiria\tme\tapaixonar\tpor\tmais\tninguém. Não\tignore\tmetade do\tque\teu\tsou\tsó\tpara\tcolocar\tum\trótulo\tem\tmim,\tMonique. Sei\tmuito\tbem\tcomo\té\tquando\tas\tpessoas\ttiram conclusões\te\tcategorizam\tos\toutros\tcom\tbase\tna\taparência. Passei\ta\tvida\tinteira tentando\texplicar\tpara\ttodo\tmundo\tque,\tembora\teu\tpareça\tnegra,\tsou\tbirracial. Sempre\tme\tconsiderei\tciente\tda\timportância\tde\tpermitir\tque\tcada\tum\tdiga\to\tque é,\tem\tvez\tde\tsair\trotulando\ttodos. E\tacabei\tde\tfazer\tcom\tEvelyn\to\tque\ttanta\tgente\tfez\tcomigo."
          },
          "metadata": {}
        },
        {
          "output_type": "display_data",
          "data": {
            "text/plain": [
              "<IPython.core.display.Markdown object>"
            ],
            "text/markdown": "### Página 144"
          },
          "metadata": {}
        },
        {
          "output_type": "display_data",
          "data": {
            "text/plain": [
              "<IPython.core.display.Markdown object>"
            ],
            "text/markdown": "Seu\tcaso\tamoroso\tcom\tuma\tmulher\tme\tlevou\ta\tconcluir\tque\tEvelyn\tera\tgay,\te não\tdeixei\tespaço\tpara\tela\tse\tafirmar\tcomo\tbissexual. Porque\tquer\tser\tvista\tcomo é\tde\tverdade,\tcom\ttodas\tas\tnuances\tpossíveis. Isso\tquer\tdizer\tque\teu\tcometi\tuma\tcagada. E,\tapesar\tda\tminha vontade\tde\tseguir\tem\tfrente\te\tfingir\tque\tisso\tnão\taconteceu,\tsei\tque\tpreciso\tme desculpar. Eu\tdeveria\tter\tperguntado\tcomo você\tse\tdefine,\tem\tvez\tde\tpensar\tque\tsabia. Mas\testamos\tde\tvolta\tao\tassunto,\tpelo\tmenos. “E\tcomo\tfoi\texatamente\tque\tvocê\tdescobriu?”,\tpergunto. Porque\tfiquei\tme\tmordendo\tde\tciúmes\tem\tambos\tos\tcasos. E\tfiquei\tenciumada porque\tmeu\tmarido\testava\tcom\toutra\tmulher\tnaquela\tmesma\tfesta,\tuma\tcoisa embaraçosa\te\tque\tameaçava\tmeu\testilo\tde\tvida. Eu\testava\tvivendo\tnum\tmundo em\tque\tachava\tque\tpodia\tmanter\tuma\tproximidade\tcom\tCelia\te\tum distanciamento\tde\tDon,\te\tque\tos\tdois\tficariam\tsatisfeitos\tcom\tisso\te\tnão\tiam querer\tnada\tcom\tmais\tninguém. Era\tuma\tespécie\tde\tbolha,\tque\ttinha\tacabado\tde estourar\tna\tminha\tcara.” “Imagino\tque\tna\tépoca\tnão\tfosse\tfácil\tchegar\ta\tuma\tconclusão\tdessas…\tde que\testava\tapaixonada\tpor\talguém\tdo\tmesmo\tsexo.”"
          },
          "metadata": {}
        },
        {
          "output_type": "display_data",
          "data": {
            "text/plain": [
              "<IPython.core.display.Markdown object>"
            ],
            "text/markdown": "### Página 145"
          },
          "metadata": {}
        },
        {
          "output_type": "display_data",
          "data": {
            "text/plain": [
              "<IPython.core.display.Markdown object>"
            ],
            "text/markdown": "Se\teu\ttivesse\tpassado\ta\tvida\tinteira\taté\tali\treprimindo\tminha atração\tpor\toutras\tmulheres,\tpelo\tmenos\tteria\tum\tpadrão\ta\tseguir. Fui\tensinada\ta\tgostar\tde\thomens,\te\ttinha\tdescoberto\t—\tpelo\tmenos\tpor\tum tempo\t—\tque\tera\tcapaz\tde\tamar\te\tdesejar\tum\thomem. O\tfato\tde\tquerer\tficar perto\tde\tCelia\to\ttempo\ttodo,\te\tde\tvalorizar\ta\tfelicidade\tdela\tinclusive\tacima\tda minha,\tde\tadorar\tficar\trelembrando\to\tmomento\tem\tque\tela\ttirou\ta\tblusa\tna minha\tfrente…\tEnfim,\tconsiderando\ttudo\tisso,\tfica\tfácil\tsomar\tum\tmais\tum\te concluir\tque\teu\testava\tapaixonada\tpor\tuma\tmulher. Mas\tnessa\tépoca,\tpelo menos\tno\tmeu\tcaso,\teu\tnão\ttinha\tcomo\tfazer\tesse\tcálculo. “Então\to\tque\tvocê\tfez?” “Na\tfesta?” “É,\tquem\tvocê\tprocurou\tprimeiro?” “Bom”,\tEvelyn\tresponde,\t“um\tdos\tdois\tme\tachou\tantes.”"
          },
          "metadata": {}
        },
        {
          "output_type": "display_data",
          "data": {
            "text/plain": [
              "<IPython.core.display.Markdown object>"
            ],
            "text/markdown": "### Página 146"
          },
          "metadata": {}
        },
        {
          "output_type": "display_data",
          "data": {
            "text/plain": [
              "<IPython.core.display.Markdown object>"
            ],
            "text/markdown": "Ruby\tme\tdeixou\tlá,\tdo\tlado\tda\tsecadora\tde\troupas,\tcom\tuma\ttaça\tvazia\tna mão. Mas\tfiquei\tlá,\tparalisada,\tpensando:\t Dê\to fora . Com\ta\tfesta\tbarulhenta\te\tiluminada\tatrás\tde\tsi. “Evelyn,\to\tque\tvocê\testá\tfazendo?” “Como\tfoi\tque\tvocê\tme\tencontrou?” “Encontrei\tcom\tRuby,\te\tela\tme\tdisse\tque\tvocê\testava\t‘bebendo\tna\tlavanderia’. Pensei\tque\tfosse\tsó\tum\tjeito\testranho\tde\tfalar.” “Não\tera.” “Percebi.” “Você\tvai\tpara\ta\tcama\tcom\toutras\tmulheres?”,\tperguntei. “Quem\tse\timporta\tcom\to\tque\ta\tRuby\tfala?” “Você\té?” “Você\tvai\tdeixar\tde\tser\tminha\tamiga? É\tesse\to\tproblema?” “Não”,\trespondi,\tsacudindo\ta\tcabeça. Jamais.” “Então\to\tque\testá\tacontecendo?” “Eu\tquero\tsaber,\tsó\tisso.” “Por\tquê?” “Você\tnão\tacha\tque\teu\ttenho\to\tdireito\tde\tsaber?” “Depende.” “Então\tvocê\té?”,\tinsisti."
          },
          "metadata": {}
        },
        {
          "output_type": "display_data",
          "data": {
            "text/plain": [
              "<IPython.core.display.Markdown object>"
            ],
            "text/markdown": "### Página 147"
          },
          "metadata": {}
        },
        {
          "output_type": "display_data",
          "data": {
            "text/plain": [
              "<IPython.core.display.Markdown object>"
            ],
            "text/markdown": "Celia\tpôs\ta\tmão\tna\tmaçaneta\tpara\tsair. “O\tque\tvocê\testá\tfazendo?”,\tela\tdisse. Gostei\tda\tsensação\tdo\tpulso\tdela\tna\tminha\tmão. E\tda\tforma\tcomo\tseu perfume\tpreenchia\ttodo\taquele\tpequeno\tespaço. E\to\tque\tquero\tdizer\tcom\tisso\té:\talém\tde não\testar\ttotalmente\tno\tcontrole\tdos\tmeus\tmovimentos,\teu\ttambém\t não\tsabia como\tbeijá-la. Eu\ttambém\tnão\ttinha\tcomo\tentender\to\tsignificado\temocional daquele\tgesto. Eu\tera\tuma\tcelebridade\tbeijando\toutra\tmulher\tfamosa\tna\tcasa\tdo\tchefão\tdo maior\testúdio\tde\tHollywood,\tcercada\tde\tprodutores,\tatores\te\tprovavelmente\tuma boa\tquantidade\tde\tbisbilhoteiros\tda\trevista\t Sub\tRosa . Só\to\tque\tfazia\tdiferença era\tque\tela\testava\tretribuindo\to\tbeijo,\ttinha\ttirado\ta\tmão\tda\tmaçaneta\te\tcolocado na\tminha\tcintura. Celia\texalava\tum\tcheiro\tfloral,\tde\tlilás,\te\tseus\tlábios\testavam\túmidos. Quando\tela\tse\tencostou\tem\tmim,\tquando\tnossos\tpeitos\tse\ttocaram,\tquando sua\tpelve\troçou\tna\tminha,\tsó\tconsegui\tpensar\tque\tnão\tera\ttão\tdiferente\tassim, apesar\tde\ta\tsensação\tser\tcompletamente\toutra. “Nós\tnão\tpodemos\tcontinuar\taqui”,\tela\tfalou, limpando\ta\tboca\tcom\to\tdorso\tda\tmão. Em\tseguida\tpassou\to\tpolegar\tno\tmeu lábio\tinferior."
          },
          "metadata": {}
        },
        {
          "output_type": "display_data",
          "data": {
            "text/plain": [
              "<IPython.core.display.Markdown object>"
            ],
            "text/markdown": "### Página 148"
          },
          "metadata": {}
        },
        {
          "output_type": "display_data",
          "data": {
            "text/plain": [
              "<IPython.core.display.Markdown object>"
            ],
            "text/markdown": "Mas\tela\tsaiu,\tfechando\ta\tporta\tatrás\tde\tsi. Abri\ta\tporta\tde\ttodos\tos\tcômodos\tdo\tandar\tde\tcima\taté\tencontrar\to\tque\testava procurando. Don\testava\tse\tvestindo,\tenfiando\ta\tcamisa\tpara\tdentro\tda\tcalça,\tcom\tuma mulher\tnum\tvestido\tdourado\tcalçando\to\tsapato\tlogo\tatrás. “Vamos\tconversar\tsobre\tisso\tem\tcasa”,\tele\tfalou,\tme\tsegurando\tpelo\tcotovelo. Eu\tme\tdesvencilhei\te\tfui\tprocurar\tCelia. Harry\tapareceu\tna\tporta\tda\tfrente,\tbem\talinhado\te\taparentemente\tsóbrio. Corri até\tele,\tdeixando\tDon\tpara\ttrás\tna\tescada,\tonde\tele\tfoi\temboscado\tpor\tum produtor\tmeio\tbêbado\tque\tqueria\tsua\tparticipação\tnum\tmelodrama. “Onde\tfoi\tque\tvocê\tse\tenfiou\ta\tnoite\ttoda?”,\tperguntei\tpara\tHarry. “Está\taí\tuma\tcoisa\tque\tprefiro\tmanter\tsó\tpara\tmim.” “Você\tpode\tme\tlevar?” Harry\tolhou\tpara\tmim\te\tentão\tpara\ta\tescada,\tonde\testava\tDon. “Você\tnão\tvai para\tcasa\tcom\to\tseu\tmarido?” Fiz\tque\tnão\tcom\ta\tcabeça. “Ele\tsabe\tdisso?” “Se\tnão\tsouber,\té\tum\tverdadeiro\timbecil.” “Certo”,\tHarry\tfalou,\tassentindo,\tconfiante\te\tobediente. Me\tacomodei\tno\tassento\tda\tfrente\tdo\tChevy\tde\tHarry,\te\tele\testava\tcomeçando a\tdar\tré\tno\tmomento\tem\tque\tDon\tsaiu\tda\tcasa."
          },
          "metadata": {}
        },
        {
          "output_type": "display_data",
          "data": {
            "text/plain": [
              "<IPython.core.display.Markdown object>"
            ],
            "text/markdown": "### Página 149"
          },
          "metadata": {}
        },
        {
          "output_type": "display_data",
          "data": {
            "text/plain": [
              "<IPython.core.display.Markdown object>"
            ],
            "text/markdown": "Era\tbom\tter\taquele\tvidro\tentre\tnós,\tpara\tabafar\to\ttom\tde\tsua\tvoz,\tdando\ta impressão\tde\tque\tele\testava\tlonge. Era\tbom\tpoder\tcontrolar\tem\tque\tvolume\teu iria\touvi-lo. “Não\té\to\tque\tvocê\testá\tpensando.” Continuei\tolhando\tsó\tpara\ta\tfrente. “Vamos.” Eu\testava\tcolocando\tHarry\tnuma\tposição\tdifícil,\tforçando-o\ta\tescolher\tum lado. “Cameron,\tnão\touse\tlevar\tminha\tmulher\tpara\tlonge\tde\tmim!” “Don,\tnós\tconversamos\tsobre\tisso\tamanhã”,\tHarry\tgritou\tpela\tjanela\te arrancou\tcom\to\tcarro,\tdescendo\tas\truas\testreitas\tdo\tcânion. Quando\tchegamos\tao\tSunset\tBoulevard,\tmeu\tcoração\tjá\testava\tmenos acelerado. Quando\tcontei\tque\tDon estava\tno\tandar\tde\tcima\tcom\tuma\tmulher,\tele\tsimplesmente\tbalançou\ta\tcabeça, sem\tdemonstrar\to\tmenor\testranhamento. “Por\tque\tvocê\tnão\tficou\tsurpreso?”,\tperguntei\tenquanto\tcruzávamos\ta\tesquina da\tDoheny\tcom\to\tSunset,\tonde\tBeverly\tHills\tcomeçava. “Don\tsempre\tteve\tum\tfraco\tpor\tmulheres\tque\tacabou\tde\tconhecer”,\tHarry respondeu. E\tfaz\tdiferença,\tsim.” “Bom,\tentão\teu\tlamento\tmuito”,\tele\tdisse,\tme\tolhando\tpor\tum\tinstante\tantes de\tvoltar\ta\tatenção\tpara\ta\trua. “Nesse\tcaso,\teu\tdeveria\tter\tte\tcontado\tantes.” “Pelo\tjeito\ttem\tum\tmonte\tde\tcoisas\tque\tnós\tnão\tcontamos\tum\tpara\to\toutro”, comentei,\tolhando\tpela\tjanela."
          },
          "metadata": {}
        },
        {
          "output_type": "display_data",
          "data": {
            "text/plain": [
              "<IPython.core.display.Markdown object>"
            ],
            "text/markdown": "### Página 150"
          },
          "metadata": {}
        },
        {
          "output_type": "display_data",
          "data": {
            "text/plain": [
              "<IPython.core.display.Markdown object>"
            ],
            "text/markdown": "“Seus\tsegredos\tnão\ttêm\tnada\tde\tmais.” Joguei\ta\tcabeça\tpara\ttrás\te\tdei\trisada. “E\tvocê\tsabe\to\tque\teu\tsou”,\tele\tcontinuou. “Sei,\tsim.” “Mas\tno\tmomento\tvocê\tpode\tdizer\tque\ttem\tuma\tdúvida\tválida. Nunca\touviu nem\tviu\tnada.” Harry\tvirou\tà\tesquerda,\ttomando\to\tcaminho\tda\tparte\tplana\tdo\tdistrito,\tem\tvez das\tcolinas. Estava\tcom medo\tdo\tque\tDon\tpoderia\tfazer\tcomigo. “Não\tsei\tse\té\tum\tsegredo\tque\tquero\tobrigar\tvocê\ta\tguardar,\tmeu\tbem. “Acho\tque\ttodo\tmundo\ttem\tum\tpouco\tdesse\tsegredo\tdentro de\tsi. Acho\tque\teu\ttambém\tposso\tter\tesse\tsegredo\tdentro\tde\tmim\ttambém.” Harry\tvirou\tà\tdireita\te\tembicou\tna\tentrada\tde\tsua\tgaragem. Ele\tpôs\to\tcarro\tem ponto\tmorto\te\tvirou\tpara\tmim. “Eu\tposso\tser,\te\tCelia\ttambém.” Harry\tse\tvoltou\tpara\to\tvolante,\tpensativo. “E\ttambém\tdesconfiava\tque\tela\tpudesse…\tsentir algo\tpor\tvocê.”"
          },
          "metadata": {}
        },
        {
          "output_type": "display_data",
          "data": {
            "text/plain": [
              "<IPython.core.display.Markdown object>"
            ],
            "text/markdown": "### Página 151"
          },
          "metadata": {}
        },
        {
          "output_type": "display_data",
          "data": {
            "text/plain": [
              "<IPython.core.display.Markdown object>"
            ],
            "text/markdown": "Eu\tme\tsenti\tcomo\ta\túltima\tpessoa\tdo\tmundo\ta\tenxergar\to\tque\testava\tbem debaixo\tdo\tmeu\tnariz. “Eu\tvou\tme\tseparar\tdo\tDon”,\tfalei. “Mas\tespero\tque\tvocê\tentenda\ttodas\tas\tconsequências\tdisso.” “Sei\tmuito\tbem\to\tque\testou\tfazendo,\tHarry.”\tEu\testava\terrada. “Don\tnão\tvai\taceitar\ta\tseparação\tassim\ttão\tfácil”,\tHarry\tfalou. Deixar\tque\tele\tdurma\tcom outras\te\tme\tbata\tquando\testiver\ta\tfim?” “De\tjeito\tnenhum. Ele\tabriu\ta\tporta\tdo\tcarro\te\tdesceu. Depois\tveio\taté o\tmeu\tlado\te\tabriu\ta\tminha. Você\tprecisa\tdescansar.” De\trepente\tme\tsenti\texausta,\tcomo\tse,\ta\tpartir\tdo\tcomentário\tdele,\teu\ttivesse percebido\tque\to\tcansaço\tjá\testava\tme\tconsumindo\tfazia\ttempo. Fui\tcom\tHarry para\tdentro\tda\tcasa. A\tsala\tde\testar\ttinha\tpoucos\tmóveis,\tmas\tera\tlinda,\tcom\tdecoração\tem\ttons\tde madeira\te\tcouro. Havia\tuma\túnica\tobra\tde\tarte\tpendurada, um\tRothko\tazul\te\tvermelho\tque\tficava\tsobre\to\tsofá. Isso\tme\tfez\tperceber\tque Harry\tnão\ttinha\tescolhido\tser\tprodutor\tem\tHollywood\tpara\tganhar\tdinheiro. Mas\tnão\thavia\tnenhuma\tostentação\tali,\tnada\tmuito performático."
          },
          "metadata": {}
        },
        {
          "output_type": "display_data",
          "data": {
            "text/plain": [
              "<IPython.core.display.Markdown object>"
            ],
            "text/markdown": "### Página 152"
          },
          "metadata": {}
        },
        {
          "output_type": "display_data",
          "data": {
            "text/plain": [
              "<IPython.core.display.Markdown object>"
            ],
            "text/markdown": "Harry,\tassim\tcomo\teu,\ttinha\tsido\tatraído\tpara\taquele\tmundo\tpelo\tego. E\tnós\tdois\ttivemos\ta\tsorte\tde\tencontrar\tnosso\tlado\thumano\tnele,\tainda\tque aparentemente\tpor\tacaso. Nós\tsubimos\ta\tescadaria\tem\tcurva,\te\tHarry\tme\tmostrou\to\tquarto\tde\thóspedes. Tirei\ta\tmaquiagem\tdo rosto\tlavando\tcom\tsabonete,\te\tHarry\tabriu\to\tzíper\tdas\tcostas\tdo\tmeu\tvestido com\ttoda\ta\tgentileza\tantes\tde\tme\temprestar\tum\tpijama. “Se\tprecisar\tde\talguma\tcoisa,\testou\tno\tquarto\tao\tlado”,\tele\tdisse. “Nossos\tinteresses\tnão\tsão\tos\tmesmos,\tEvelyn”,\tele disse. Você\tentende,\tné?” Olhei\tpara\tele,\ttentando\tdeterminar\tse\tentendia\t mesmo . “Meu\ttrabalho\té\tfazer\to\testúdio\tganhar\tdinheiro. “É\tcompreensível.” Harry\tabriu\tum\tsorriso\ttímido\te\tfechou\ta\tporta. Seria\tnormal\tpensar\tque\tpassei\ta\tnoite\ttoda\tme\trevirando\tna\tcama, preocupada\tcom\to\tfuturo,\tcom\ta\timplicação\tde\tter\tbeijado\tuma\tmulher,\tcom\to que\tminha\tseparação\tde\tDon\tsignificaria. Mas\té\tpara\tessas\tcoisas\tque\texiste\ta\tnegação. Na\tmanhã\tseguinte,\tHarry\tme\tlevou\tpara\tcasa. Eu\testava\tme\tpreparando\tpara uma\tbriga."
          },
          "metadata": {}
        },
        {
          "output_type": "display_data",
          "data": {
            "text/plain": [
              "<IPython.core.display.Markdown object>"
            ],
            "text/markdown": "### Página 153"
          },
          "metadata": {}
        },
        {
          "output_type": "display_data",
          "data": {
            "text/plain": [
              "<IPython.core.display.Markdown object>"
            ],
            "text/markdown": "lugar\tpor\taí,\tme\tdeixando\tantes\tque\teu\tpudesse\tdeixá-lo. Quem\teu\tde\tfato\tencontrei\tna\tminha\tporta\tfoi\tCelia\tSt. Harry\tesperou\tdiante\tda\tgaragem\taté\teu\tchegar\ta\tela. Então\tme\tvirei\te\tfiz\tum aceno\tpara\tele. Assim\tque\tele\tse\tfoi\te\tminha\tlinda\trua\tarborizada\tficou\tsilenciosa\tcomo\tseria de\tesperar\tem\tBeverly\tHills\tàs\tsete\tda\tmanhã,\tpeguei\tCelia\tpela\tmão,\te\tnós entramos. “Eu\tnão\tsou…”,\tCelia\tfalou\tquando\tfechei\ta\tporta\tatrás\tde\tnós. E\tnós\tduas…” “Eu\tnão\tquero\touvir\tessa\thistória”,\tfalei. Mas\tacho\tque\tisso\tnão\té\tmais verdade\tjá\tfaz\tum\tbom\ttempo.” “Certo.” “Agora\teu\tsó\tconsigo\tpensar\tem\tvocê.” E,\tdepois\tde\tdizer\tisso,\tsubi\ta\tescada\te\tfui\tarrumar\tminhas\tmalas."
          },
          "metadata": {}
        },
        {
          "output_type": "display_data",
          "data": {
            "text/plain": [
              "<IPython.core.display.Markdown object>"
            ],
            "text/markdown": "### Página 154"
          },
          "metadata": {}
        },
        {
          "output_type": "display_data",
          "data": {
            "text/plain": [
              "<IPython.core.display.Markdown object>"
            ],
            "text/markdown": "Fiquei\tescondida\tno\tapartamento\tde\tCelia\tuma\tsemana\te\tmeia,\tvivendo\tum purgatório. Durante\to\tdia,\teu\tficava\tlendo\tno\tapartamento,\tenquanto\tela\tsaía\tpara\tgravar um\tfilme\tnovo\tpara\ta\tWarner\tBrothers. Às\tvezes\tprolongávamos\tum\ttoque,\tde\tbraço\tcom braço,\tmão\tcom\tmão,\tmas\tsem\tnunca\tolhar\tnos\tolhos\tuma\tda\toutra. No\tmeio\tda noite,\tporém,\tantes\tde\tpegar\tno\tsono,\teu\tsentia\tsua\tpresença\tàs\tminhas\tcostas\te me\tencostava\tnela,\tsentindo\to\tcalor\tde\tsua\tbarriga\tcontra\tmim,\tseu\tqueixo\tna curva\tdo\tmeu\tpescoço. Em\talgumas\tmanhãs\teu\tacordava\tcom\to\tnariz\tnos\tcabelos\tdela\te\trespirava fundo,\ttentando\tsentir\tao\tmáximo\tseu\tcheiro. Era\tfácil\tconsiderar um\túnico\tbeijo\tnuma\tlavanderia\tescura\tcomo\tobra\tdo\tacaso. Não\tera\tnada\tdifícil dizer\tpara\tmim\tmesma\tque\to\tque\teu\tsentia\tpor\tela\tera\ttotalmente\tplatônico. E,\tapesar\tde\tsaber\tque\tisso\tnão\tos\ttornava\tpessoas\truins\t— afinal,\teu\tamava\tHarry\tcomo\ta\tum\tirmão\t—,\teu\tnão\testava\tpronta\tpara\tser\tuma. Mas\tàs\tvezes\tse\tpõe\ta\tesperar pacientemente\taté\ta\tgente\tgastar\ttodas\tas\tenergias\te\tnão\tter\tmais\tforças\tpara"
          },
          "metadata": {}
        },
        {
          "output_type": "display_data",
          "data": {
            "text/plain": [
              "<IPython.core.display.Markdown object>"
            ],
            "text/markdown": "### Página 155"
          },
          "metadata": {}
        },
        {
          "output_type": "display_data",
          "data": {
            "text/plain": [
              "<IPython.core.display.Markdown object>"
            ],
            "text/markdown": "Alguém\tbateu\tna\tporta\te,\tquando\tabri,\tdei\tde\tcara\tcom\to\túnico\trosto\tque\tme alegraria\tter\tà\tminha\tfrente. “Oi,\tHarry”,\tfalei,\tdando\tum\tabraço\tnele,\ttomando\to\tcuidado\tde\tnão\ttocar\ta espátula\tsuja\tem\tsua\tbela\tcamisa\tbranca. “Cozinhando!” “Pois\té”,\tfalei,\tdando\tespaço\tpara\tele\tentrar. Quer ovos?” Fui\tcom\tele\tpara\ta\tcozinha. “Já\tficou\tboa nisso\tde\tpreparar\to\tcafé\tda\tmanhã?”,\tele\tquis\tsaber. “Se\testá\tperguntando\tse\tos\tovos\tvão\tsair\tqueimados,\ta\tresposta\té provavelmente\tsim.” Harry\tsorriu\te\tpôs\tum\tenvelope\tgrosso\tna\tmesa\tda\tsala\tde\tjantar. O\tbaque\tque a\tpapelada\tfez\tao\tbater\tno\ttampo\tde\tmadeira\tjá\tme\tdeu\ta\tpista\tpara\tdeduzir\tqual era\to\tconteúdo. Imagino\tque\tos\tadvogados\tnão\ttenham\tcitado adultério\tou\tagressão.” “Abandono\tdo\tlar.” Eu\tergui\tas\tsobrancelhas. Mas\tna\tprática\to\tque interessa\té\tuma\tcoisa.” “Me\tconta.” “Você\tfica\tcom\ta\tcasa,\tcom\ttodo\to\tseu\tdinheiro\te\tmetade\tdo\tdele.” Olhei\tpara\tHarry\tcomo\tse\tele\testivesse\ttentando\tme\tvender\ta\tponte\tdo"
          },
          "metadata": {}
        },
        {
          "output_type": "display_data",
          "data": {
            "text/plain": [
              "<IPython.core.display.Markdown object>"
            ],
            "text/markdown": "### Página 156"
          },
          "metadata": {}
        },
        {
          "output_type": "display_data",
          "data": {
            "text/plain": [
              "<IPython.core.display.Markdown object>"
            ],
            "text/markdown": "“Por\tque\tele\tfaria\tisso?” “Porque\tassim\tvocê\tfica\tproibida\tde\tfalar\tcom\tqualquer\tum\ta\tqualquer momento\ta\trespeito\tdo\tque\taconteceu\tdurante\to\tcasamento.” “Ele\ttambém\tfica\tproibido?” Harry\tfez\tque\tnão\tcom\ta\tcabeça. “O\tSunset\tvai\tme\tdispensar,\tné?” “Don\tquer\tvocê\tfora\tdo\testúdio. Ari\testá\tpensando\tem\tceder\tvocê\tpara\ta\t MGM e\ta\tColumbia\taté\to\tfim\tdo\tseu\tcontrato.” “E\tdepois?” “Depois\tvocê\tfica\tpor\tsua\tconta.” “Bom,\ttudo\tbem. Posso contratar\tum\tagente,\tque\tnem\tela.” “Pode,\tsim”,\tHarry\tconcordou. E\tvai,\tporque\tDon\té\ta\tgalinha\tdos\tovos\tde\touro. As\tpessoas\tnão\tvão\tmais\ttanto\tao\tcinema;\tficam\tem\tcasa na\tfrente\tda\ttelevisão,\tesperando\to\tpróximo\tepisódio\tde\t Gunsmoke . O\tSunset está\tem\tdecadência\tdesde\tque\tfoi\tobrigado\ta\tvender\tsuas\tsalas\tde\tcinema exclusivas. “Porém…\tsinto\tmuito\tdizer\tisso,\tmas\tacho importante\tque\tvocê\tentenda\tbem\ta\trealidade:\tDon\tlota\tmuito\tmais\tcinemas\tque você.”"
          },
          "metadata": {}
        },
        {
          "output_type": "display_data",
          "data": {
            "text/plain": [
              "<IPython.core.display.Markdown object>"
            ],
            "text/markdown": "### Página 157"
          },
          "metadata": {}
        },
        {
          "output_type": "display_data",
          "data": {
            "text/plain": [
              "<IPython.core.display.Markdown object>"
            ],
            "text/markdown": "“E\teu\tlamento\tmuito.” A\tágua\tdo\tbanheiro\tfoi\tdesligada,\te\touvi\tCelia\tsair\tdo\tchuveiro. Eu\tqueria\tfechá-la,\tmas\tnão\tme\tmexi. Se\tDon não\tme\tquiser,\tninguém\tmais\tvai\tquerer.” “Se\tDon\tnão\tte\tquiser,\tnão\tquer\tque\tninguém\tmais\ttenha\tvocê. Detonar\tcom\ta\tminha\tvida\te\tcomprar\tmeu\tsilêncio com\tuma\tcasa\te\tmenos\tde\tum\tmilhão\tde\tdólares?” “Mesmo\tassim\té\tmuito\tdinheiro”,\tHarry\tdiz,\tcomo\tse\tisso\tfizesse\tdiferença, como\tse\tfosse\tajudar. “Você\tsabe\tque\teu\tnão\testou\tnem\taí\tpara\to\tdinheiro”,\trespondi. “Pelo\tmenos não\tcomo\tprioridade.” “Sei,\tsim.” Celia\tsaiu\tdo\tbanheiro\tde\troupão,\tcom\tos\tcabelos\tmolhados\te\tsoltos. “Já\testou\tde\tsaída.” Celia\tsorriu\te\tfoi\tpara\to\tquarto. “Já\tfiz\tisso\tuma\tvez,\tposso\tfazer\tde\tnovo”,\teu\tdisse\tenquanto\to\tacompanhava até\ta\tporta. “Posso\tcomeçar\ttudo\tdo\tzero\tde\tnovo.” “Nunca\tduvidei\tque\tvocê\tfosse\tcapaz\tde\tqualquer\tcoisa\tque\tcolocasse\tna cabeça.”\tHarry\tpôs\ta\tmão\tna\tmaçaneta,\tfazendo\tmenção\tde\tir. Que\ta\tgente\tainda possa…” “Ah,\tfica\tquieto”,\trespondi. Que\tpodem\tcontar tudo\tum\tpara\to\toutro\tou\tnão. Você\tainda\tme\tama,\tné?"
          },
          "metadata": {}
        },
        {
          "output_type": "display_data",
          "data": {
            "text/plain": [
              "<IPython.core.display.Markdown object>"
            ],
            "text/markdown": "### Página 158"
          },
          "metadata": {}
        },
        {
          "output_type": "display_data",
          "data": {
            "text/plain": [
              "<IPython.core.display.Markdown object>"
            ],
            "text/markdown": "comigo\tprestes\ta\tser\tuma\tadversária?” “Sim.” “E\teu\tainda\tte\tamo. Eu\tia\tperder\ttudo\to\tque\ttinha\tconquistado\tna\tvida. Foi\tquando\tpercebi\tque\thavia\tmais\tuma\tcoisa\tà\tminha\tespera,\te\tque\teu\testaria livre\tpara\tter. Com\tas\tcostas\tapoiadas\tna\tporta\tdaquele\tapartamento,\tà\tbeira\tdo\tfim\tdo\tmeu casamento\tcom\to\thomem\tmais\tpopular\tde\tHollywood,\tpercebi\tque\tmentir\tpara mim\tmesma\testava\tme\ttomando\tmuito\tmais\tenergia\tdo\tque\teu\ttinha\tà disposição. Ela\tainda\testava\tde\troupão,\tsecando\tos\tcabelos\tdiante\tda\tpia. Fui\taté\tela,\tolhei\tbem\tno\tfundo\tdaqueles\tolhos\tazuis\tmaravilhosos\te\tfalei: “Acho\tque\teu\tamo\tvocê”. Tão\tdevagar\tque\tdei\ta\tela\tum\tmilhão\tde\tchances\tde interromper\tmeu\tgesto\tantes\tque\teu\to\tconcluísse. Mas\tnão\tfoi\tisso\tque\tela\tfez. Em\tvez\tdisso,\tajeitou\tmelhor\ta\tpostura,\tme\tolhou\tcom\tuma\texpressão\tmais ousada\te\tlevou\ta\tmão\tà\tminha\tcintura. As\tlaterais\tdo\troupão\tse\tsoltaram\tno\tmomento\tem\tque\ta\ttensão\tse\tdesfez,\te\tlá estava\tela,\tsentada\tna\tminha\tfrente,\ttoda\tnua. Os\tseios\teram\tmaiores\tdo\tque\teu\timaginava,"
          },
          "metadata": {}
        },
        {
          "output_type": "display_data",
          "data": {
            "text/plain": [
              "<IPython.core.display.Markdown object>"
            ],
            "text/markdown": "### Página 159"
          },
          "metadata": {}
        },
        {
          "output_type": "display_data",
          "data": {
            "text/plain": [
              "<IPython.core.display.Markdown object>"
            ],
            "text/markdown": "A\tbarriga\ttinha\tuma\tcurvinha\tde\tnada,\tlogo\tabaixo\tdo umbigo. E,\tquando\tmeu\tolhar\tdesceu\tpara\tsuas\tpernas,\tela\tas\tafastou\tum\tpouco. E\tlevei\ta\tmão\taos\tseus\tseios,\te\tos\ttoquei\tda maneira\tcomo\tgostava\tque\ttocassem\tnos\tmeus. “Ainda\tmais\tdo\tque\teu\timaginava.” Fiquei\tvermelha\te\tescondi\to\trosto\tentre\tas\tmãos,\tenvergonhada\tcom\ta\tminha falta\tde\tcontrole,\tcom\ta\tminha\tfalta\tde\tjeito\tnaquela\tsituação. Ela\tafastou\tminhas\tmãos\tde\tcima\tdo\trosto\te\tme\tolhou. “Eu\tnão\tsei\to\tque\testou\tfazendo”,\tfalei. Não fingíamos\tmais\tque\tnossos\ttoques\taconteciam\tpor\tacidente. E,\tquando\tacordei de\tmanhã\tcom\tos\tcabelos\tdela\tno\tmeu\trosto,\trespirei\tbem\tfundo,\ttoda\torgulhosa, para\tque\tela\touvisse. Dentro\tdaquelas\tquatro\tparedes,\tnão\thavia\tmotivo\tpara\ttermos\tvergonha."
          },
          "metadata": {}
        },
        {
          "output_type": "display_data",
          "data": {
            "text/plain": [
              "<IPython.core.display.Markdown object>"
            ],
            "text/markdown": "### Página 160"
          },
          "metadata": {}
        },
        {
          "output_type": "display_data",
          "data": {
            "text/plain": [
              "<IPython.core.display.Markdown object>"
            ],
            "text/markdown": "Don\te\tEvelyn\tdecidiram\tpôr\tum\tponto-final\tna\trelação! Ouvimos\trumores\tde\tque\ta ascensão\tde\tDon\tvai\tlevá-lo\tàs\talturas,\te\tEvelyn\testava\tficando\tinvejosa\te despeitada. Para\tsorte\tde\tDon,\tele\trenovou\tseu\tcontrato\tcom\to\tSunset\tStudios\t—\to\tque deve\tter\tdeixado\to\tmandachuva\tAri\tSullivan\tcom\tum\tsorriso\tno\trosto\t—,\te\tainda tem\ttrês\tfilmes\ta\tser\tlançados\teste\tano. Enquanto\tisso,\tapesar\tde\to\tfilme\tmais\trecente\tde\tEvelyn,\t Mulherzinhas ,\testar indo\tbem\tnas\tbilheterias\te\tter\tsido\tbem\trecebido\tpela\tcrítica,\to\tSunset\ta\tretirou de\tsua\tnova\tprodução\t Os\tcuringas ,\te\ta\tsubstituiu\tpor\tRuby\tReilly. Será\tque\to\tcanto\tdo\tcisne\testá\tpróximo\tpara\tEvelyn\tno\tSunset?"
          },
          "metadata": {}
        },
        {
          "output_type": "display_data",
          "data": {
            "text/plain": [
              "<IPython.core.display.Markdown object>"
            ],
            "text/markdown": "### Página 161"
          },
          "metadata": {}
        },
        {
          "output_type": "display_data",
          "data": {
            "text/plain": [
              "<IPython.core.display.Markdown object>"
            ],
            "text/markdown": "Tão\tfirme\tna\tsua\tresolução?”, pergunto\ta\tEvelyn. Ou\tquando\tminha\tcarreira\tfoi\tpelo\tralo?” “As\tduas\tcoisas,\tacho”,\trespondo. “Quer\tdizer,\tvocê\ttinha\tCelia,\tentão\tfoi\tum pouco\tdiferente,\tmas\tmesmo\tassim.” Evelyn\tinclina\ta\tcabeça\tde\tleve\tpara\to\tlado. “Diferente\tdo\tquê?” “Hã?”,\tfalei,\tperdida\tnos\tmeus\tpróprios\tpensamentos. “Você\tdisse\tque\teu\ttinha\tCelia,\tentão\tera\tum\tpouco\tdiferente”,\tEvelyn esclarece. “Eu\testava…\tpensando\tna\tvida.”\tPor\tum\tmomento\tdeixei que\tos\tproblemas\tdo\tmeu\trelacionamento\tse\tintrometessem\tnuma\tconversa\tque deveria\tser\tum\tmonólogo. Diferente do\tquê?” Olho\tpara\tela\te\tpercebo\tque\tabri\tuma\tporta\tque\tagora\tnão\ttenho\tmais\tcomo fechar. “Agora\tas coisas\testão\tficando\tinteressantes”,\tela\tdiz. Me\tincomoda\tum\tpouco\tessa\tpostura\tmaquiavélica\tdiante\tda\tminha vulnerabilidade. É\tculpa\tminha\tter\ttocado\tno\tassunto. Mas\tela\tpoderia\tter mostrado\tmais\tdelicadeza. É\ta\tprimeira\tcoisa\tque\tme\tvem\tà\tmente,\te\tsai\tassim,\tdireta\te\treta."
          },
          "metadata": {}
        },
        {
          "output_type": "display_data",
          "data": {
            "text/plain": [
              "<IPython.core.display.Markdown object>"
            ],
            "text/markdown": "### Página 162"
          },
          "metadata": {}
        },
        {
          "output_type": "display_data",
          "data": {
            "text/plain": [
              "<IPython.core.display.Markdown object>"
            ],
            "text/markdown": "atenuar\to\tque\tfalei,\tmas…\tnão\tfaço\tisso. Seria\tapenas\trealista.” “Então,\tpor\tsi\tsó,\té\tuma\tpostura\tterrivelmente\tcínica,\tnão? Afinal,\to\tdivórcio\té uma\tperda.” Evelyn\tfaz\tque\tnão\tcom\ta\tcabeça. O divórcio\té\tum\tdocumento.” Olho\tpara\tbaixo\te\tpercebo\tque\testou\tdesenhando\te\tredesenhando\tum\tcubo com\tminha\tcaneta\tazul. Simplesmente\tcontinuo\tretraçando\tas linhas\tdo\tcubo. “Se\tvocê\testá\tsofrendo\tcom\tuma\tdecepção\tamorosa\tno\tmomento,\teu\tlamento muito”,\tdiz\tEvelyn. “Esse\tsentimento\teu\ttrato\tcom\to\tmaior\trespeito. Mas\teu\tnão\tfiquei\tcom\to\tcoração\tpartido quando\tDon\tme\tdeixou. Simplesmente\tsenti\tque\tmeu\tcasamento\ttinha fracassado. E\tsão\tduas\tcoisas\tbem\tdiferentes.” Nesse\tmomento,\tparo\tde\tdesenhar\tcom\ta\tcaneta. Na\tcaminhada\taté\to\tmetrô\tno\tcomeço\tdaquela\tnoite,\tvejo\tque\tFrankie\tme ligou\tduas\tvezes. Espero\tconcluir\ttodo\to\ttrajeto\taté\to\tBrooklyn,\tquando\testou\tentrando\tna\trua do\tmeu\tapartamento,\tpara\tresponder."
          },
          "metadata": {}
        },
        {
          "output_type": "display_data",
          "data": {
            "text/plain": [
              "<IPython.core.display.Markdown object>"
            ],
            "text/markdown": "### Página 163"
          },
          "metadata": {}
        },
        {
          "output_type": "display_data",
          "data": {
            "text/plain": [
              "<IPython.core.display.Markdown object>"
            ],
            "text/markdown": "Estou\tenfiando\ta\tchave\tna\tporta\tquando\tFrankie\tresponde:\t Pode\tser\thoje mesmo. Guardo\tminha\tbolsa\te\tcomeço\ta\tandar\tde\tum\tlado\tpara\toutro\tno\tapartamento. Posso\tmentir,\tdizer\tque\testá\tindo\ttudo\tmuito\tbem,\tque\testamos\ta\tcaminho\tde uma\tbela\tedição\tde\tjunho\te\tque\testou\tconseguindo\tdeclarações\tmais\tconcretas de\tEvelyn. Ou\tposso\tcontar\ta\tverdade\te\tcorrer\to\trisco\tde\tser\tdemitida. E\tentão,\tno\tfuturo,\tpoder\tescolher meus\tpróprios\ttemas,\tescrever\tsobre\to\tque\tquiser,\tcom\ta\tcerteza\tde\tque\thaverá editoras\tinteressadas. Mas\tnão\tsei\tquando\tvou\tpoder\tvender\to\tlivro. E,\tse\tmeu\tobjetivo\té\tfazer\tnome para\tpoder\tdeterminar\tminhas\tpróprias\tpautas,\tentão\tpreciso\tme\tpreocupar\tcom minha\tcredibilidade. Ser\tdemitida\tda\t Vivant \tpor\tter\troubado\tuma\tmatéria\tda revista\tnão\tvai\tfazer\tbem\tpara\tminha\treputação. Antes\tde\tconseguir\tdecidir\to\tque\tfazer,\tmeu\ttelefone\tcomeça\ta\ttocar\tna\tminha mão. “Alô?” “Monique”,\tdiz\tFrankie,\tnum\ttom\tde\tvoz\tque\tde\talguma\tforma\tconsegue transmitir\tboa\tvontade\te\tirritação. Me\tconta tudo.” Até\tagora\testou\tprocurando\tuma\tforma\tde\tfazer\tcom\tque\ttodo\tmundo\tconsiga o\tque\tquer\t—\tFrankie,\tEvelyn\te\teu."
          },
          "metadata": {}
        },
        {
          "output_type": "display_data",
          "data": {
            "text/plain": [
              "<IPython.core.display.Markdown object>"
            ],
            "text/markdown": "### Página 164"
          },
          "metadata": {}
        },
        {
          "output_type": "display_data",
          "data": {
            "text/plain": [
              "<IPython.core.display.Markdown object>"
            ],
            "text/markdown": "“Contanto\tque\tvocê\testeja\tconseguindo material\tinteressante.” “Eu\testou,\tmas\tinfelizmente\tEvelyn\tnão\testá\tmais\tinteressada\tem\tfazer\tuma entrevista\tpara\ta\t Vivant .” O\tsilêncio\tdo\toutro\tlado\tda\tlinha\té\tensurdecedor. Foi\tpor\tisso\tque\tnão\tdei\tmais notícias\tpara\tvocê. Estou\texplicando\tque\tsó\to\tque\tposso\tfazer\té\tuma\tmatéria para\ta\t Vivant .” “Se\tela\tnão\testá\tinteressada,\tpor\tque\tprocurou\ta\tgente,\tentão?” “Ela\testava\tatrás\tde\tmim”,\trespondo. Não digo\t Ela\testava\tatrás\tde\tmim\tpor\tisso\te\tpor\taquilo \tou\t Ela\testava\tatrás\tde\tmim,\te me\tdesculpe\tpor\tessa\tconfusão\ttoda . “Ela\tusou\ta\tgente\tpara\tchegar\taté\tvocê?”,\tFrankie\tquestiona,\tcomo\tse\tfosse\to maior\tinsulto\tdo\tmundo. Por\toutro\tlado,\tFrankie\tme\tusou\tpara\tchegar\taté Evelyn,\tentão… “Sim”,\tdigo. Ela\testá\tinteressada\tem\tfazer\tuma\tbiografia mais\textensa. Eu\tfui\tlevando\ta\tconversa\tadiante\tna\tesperança de\tque\tela\tmudasse\tde\tideia.” “Uma\t biografia ? Você\testá\tusando\tnossa\tpauta\tpara\tconseguir\tum\tlivro?” “Isso\té\to\tque\ta\tEvelyn\tquer. Eu\testou\ttentando\tconvencê-la\tdo\tcontrário.” “E\tconseguiu?”,\tFrankie\tquestiona. “Então\tfaça\tisso.” Era\ta\tdeixa\tque\teu\testava\tesperando. “Mas,\tse\tconseguir\tisso,\tvou\tquerer\tuma\tpromoção.”"
          },
          "metadata": {}
        },
        {
          "output_type": "display_data",
          "data": {
            "text/plain": [
              "<IPython.core.display.Markdown object>"
            ],
            "text/markdown": "### Página 165"
          },
          "metadata": {}
        },
        {
          "output_type": "display_data",
          "data": {
            "text/plain": [
              "<IPython.core.display.Markdown object>"
            ],
            "text/markdown": "Com\tliberdade\tpara\ttrabalhar\tdentro\te\tfora\tda\tredação. Definindo\tminhas\tpróprias\tpautas.” “Não.” “Assim\teu\tnão\ttenho\tnenhum\tincentivo\tpara\tconvencer\tEvelyn\ta\tcolaborar com\ta\t Vivant .” Quase\tconsigo\touvir\tFrankie\tpesando\tas\topções. Ela\testá\tem\tsilêncio,\tmas\tnão sinto\tnenhuma\ttensão\tno\tar. “Se\tvocê\tconseguir\tuma\tmatéria\tde capa”,\tela\tdiz,\t“ e \tse\tEvelyn\tconcordar\tem\tfazer\tuma\tsessão\tde\tfotos,\tposso\tte promover\ta\trepórter\tespecial.” Avalio\ta\toferta,\te\tFrankie\tcontinua\tenquanto\tainda\testou\tpensando:\t“Só\ttemos uma\teditora\tespecial. Tirar\tGayle\tde\tum\tlugar\tque\tela\tconquistou\tpor merecimento\tnão\tme\tparece\tcerto. Repórter especial\té\to\tque\tposso\toferecer. Eu\tnão\tvou\tme\tmeter\tdemais\tnas\tsuas\tpautas. Então\tforço\tum\tpouco\tmais\ta\tmão. Porque,\tcomo\tEvelyn\tfalou\tlá\tno\tinício,\ttenho\tque\tfazer\tquestão\tde\tser\tbem paga. “E\tquero\tum\taumento\tcompatível\tcom\to\tcargo.” Faço\tuma\tcareta\tao\touvir\tminha\tvoz\tpedindo\tdinheiro\tde\tforma\ttão\taberta. Mas\tmeus\tombros\trelaxam\tquando\tFrankie\tdiz:\t“Sim,\tclaro,\ttudo\tbem”. “Mas\tpreciso\tda\tsua\tconfirmação\tamanhã\tmesmo”,\tela\tcontinua. “Pode\tdeixar.” Antes\tde\tdesligar,\tFrankie\tainda\tcomplementa:\t“Estou\timpressionada,\tmas também\tputa\tda\tvida."
          },
          "metadata": {}
        },
        {
          "output_type": "display_data",
          "data": {
            "text/plain": [
              "<IPython.core.display.Markdown object>"
            ],
            "text/markdown": "### Página 166"
          },
          "metadata": {}
        },
        {
          "output_type": "display_data",
          "data": {
            "text/plain": [
              "<IPython.core.display.Markdown object>"
            ],
            "text/markdown": "“Não\tse\tpreocupa”,\tdigo."
          },
          "metadata": {}
        },
        {
          "output_type": "display_data",
          "data": {
            "text/plain": [
              "<IPython.core.display.Markdown object>"
            ],
            "text/markdown": "### Página 167"
          },
          "metadata": {}
        },
        {
          "output_type": "display_data",
          "data": {
            "text/plain": [
              "<IPython.core.display.Markdown object>"
            ],
            "text/markdown": "Quando\tentro\tno\tescritório\tde\tEvelyn\tna\tmanhã\tseguinte,\testou\ttão\tnervosa que\tsinto\to\tsuor\tescorrer\tpelas\tcostas,\tformando\tuma\tpoça\tna\tlombar. Grace\tserve\tuma\ttábua\tde\tfrios,\te\tfico\tcom\tos\tolhos\tvoltados\tapenas\tpara\tos picles\tenquanto\tEvelyn\te\tGrace\tconversam\tsobre\tLisboa\tno\tverão. Assim\tque\tGrace\tsai,\teu\tme\tviro\tpara\tEvelyn. “Sinceramente,\tacho\tque\tnão\tfazemos\tnada\talém\tdisso\taqui.” “Sobre\ta\t Vivant ,\tna\tverdade.” “Certo”,\tela\tdiz. “Se\tvocê\tnão\tme\tdisser\tmais\tou\tmenos\tquando\to\tlivro\tpode\tser\tvendido,\teu corro\to\trisco\tde\tperder\tmeu\temprego\tpor\tuma\tcoisa\tque\tsó\tvai\tacontecer\tdaqui\ta anos. Décadas,\taté.” “Você\tcom\tcerteza\testá\tesperançosa\tquanto\tà\tminha\texpectativa\tde\tvida.” “Evelyn”,\tdigo,\tum\ttanto\tdesanimada\tpor\tela\tainda\tnão\tme\tlevar\ta\tsério. “Preciso\tsaber\tquando\to\tlivro\tvai\tsair,\tou\tentão\tvou\tser\tobrigada\ta\tprometer\tum trecho\tantecipado\tpara\ta\tedição\tde\tjunho\tda\t Vivant .” Evelyn\tfica\tpensativa. Mas\tsó\tse\tparar\tcom\tesse\tpapo\tde cronograma.”"
          },
          "metadata": {}
        },
        {
          "output_type": "display_data",
          "data": {
            "text/plain": [
              "<IPython.core.display.Markdown object>"
            ],
            "text/markdown": "### Página 168"
          },
          "metadata": {}
        },
        {
          "output_type": "display_data",
          "data": {
            "text/plain": [
              "<IPython.core.display.Markdown object>"
            ],
            "text/markdown": "Ainda\ttenho\tmetade\tdo\tcaminho pela\tfrente. Preciso\tpedir\te\testar\tpreparada\tpara\tinsistir\tno\tcaso\tde\tuma\tnegativa. Tenho\tque\tsaber\to\tmeu\tvalor. Afinal\tde\tcontas,\tEvelyn\ttambém\testá\tme\tpedindo\tuma\tcoisa. E\tagora\tpreciso\tusar\tesse\tfato. Assim como\tela\tfaria\tse\testivesse\tno\tmeu\tlugar. “Precisamos\tfazer\tuma\tsessão\tde\tfotos\tcom\tvocê. Você\tjá\tnão\tconseguiu\to\tque\tqueria? Eu concordei\tcom\ta\tpublicação\tdo\ttrecho.” “Nós\tduas\tsabemos\tcomo\tseria\timportante\tpublicar\timagens\tsuas.” “Eu\tjá\tdisse\tque\tnão.” Muito\tbem. “Ou\tvocê\tconcorda\tem\tfazer\ta foto\tde\tcapa,\tou\testou\tfora.” Evelyn\tse\tinclina\tpara\ta\tfrente\tno\tsofá. “Como\té?” “Você\tquer\tque\teu\tescreva\ta\thistória\tda\tsua\tvida. Não\tvou\tperder\tmeu\temprego\tpor\tsua\tcausa. Então ou\tvocê\tme\tconvence\ta\tabrir\tmão\tdo\tmeu\temprego\t—\to\tque\tsó\té\tpossível\tse\teu souber\t quando \to\tlivro\tpode\tser\tpublicado\t—,\tou\tconcorda\tcom\tos\tmeus\ttermos. Essas\tsão\tas\tsuas\topções.” Evelyn\tolha\tpara\tmim,\te\tfico\tcom\ta\timpressão\tde\tque\ta\tsurpreendi positivamente. Está\tdifícil\tconter\to\tsorriso\tno\tmeu rosto. “Você\testá\tse\tdivertindo\tcom\tisso,\tné?”,\tela\tdiz."
          },
          "metadata": {}
        },
        {
          "output_type": "display_data",
          "data": {
            "text/plain": [
              "<IPython.core.display.Markdown object>"
            ],
            "text/markdown": "### Página 169"
          },
          "metadata": {}
        },
        {
          "output_type": "display_data",
          "data": {
            "text/plain": [
              "<IPython.core.display.Markdown object>"
            ],
            "text/markdown": "“Estou\tsó\ttentando\tproteger\tmeus\tinteresses.” “Sim,\te\testá\tse\tsaindo\tbem,\tmas\ttambém\tacho\tque\testá\tsentindo\tuma\tpontinha de\tprazer\tfazendo\tisso.” Enfim\teu\tabro\tum\tsorriso. “Estou\taprendendo\tcom\ta\tmelhor.” “Pois\té,\testá\tmesmo”,\tdiz\tEvelyn. E,\tem\ttroca,\ta\tpartir\tde\tsegunda-feira,\tquero você\taqui\to\ttempo\tinteiro. Temos\tum\tacordo?” Levanto\tda\tmesa,\tvou\taté\tEvelyn\te\testendo\ta\tmão. “Se\tcontinuar\tassim,\tvai\tacabar conquistando\tuma\tposição\tde\tpoder\talgum\tdia.” “Ora,\tobrigada”,\trespondo. Eu\tnão\ttenho\to\tdia\ttodo.” Obedeço,\te\tentão\tolho\tpara\tela. “Então\tvocê\testava apaixonada\tpor\tCelia,\tdivorciada\tde\tDon,\te\tparecia\tque\tsua\tcarreira\testava\tindo pelo\tralo. E\tdepois?” Evelyn\tdemora\tum\tpouquinho\tpara\tcomeçar\ta\tfalar,\te\tnesse\tmomento\tpercebo que\tela\tacabou\tde\tconcordar\tem\tfazer\tjustamente\taquilo\tque\tjurou\tnunca\tfazer —\tuma\tcapa\tpara\ta\t Vivant \t—\tsó\tpara\tnão\tme\tperder. Evelyn\tme\tquer\tnesse\tprojeto\tpor\talgum\tmotivo. E\tagora\testou\tcomeçando\ta\tdesconfiar\tque\tposso\tter\tuma\tboa\trazão\tpara\tficar com\tmedo."
          },
          "metadata": {}
        },
        {
          "output_type": "display_data",
          "data": {
            "text/plain": [
              "<IPython.core.display.Markdown object>"
            ],
            "text/markdown": "### Página 170"
          },
          "metadata": {}
        },
        {
          "output_type": "display_data",
          "data": {
            "text/plain": [
              "<IPython.core.display.Markdown object>"
            ],
            "text/markdown": "O\tINSACIÁVEL Mick\tRiva"
          },
          "metadata": {}
        },
        {
          "output_type": "display_data",
          "data": {
            "text/plain": [
              "<IPython.core.display.Markdown object>"
            ],
            "text/markdown": "### Página 171"
          },
          "metadata": {}
        },
        {
          "output_type": "display_data",
          "data": {
            "text/plain": [
              "<IPython.core.display.Markdown object>"
            ],
            "text/markdown": "Com\tum vestido\tde\tfesta\tde\tseda\tverde,\tnão\tconseguiu\tprovocar\to\tmesmo\tfuror\tque provocava\tno\tpassado. Mas\ta\tgélida\tEvelyn\tnão\ttrocou\tuma\tpalavra\tcom\tsua\tantiga\tmelhor\tamiga. Será\tporque\tEvelyn\tnão\tsuporta\ta\tideia\tde\tque\tCelia\trecebeu\to\tprêmio\tde Personalidade\tFeminina\tMais\tPromissora\tnaquela\tnoite? Ou\tporque\tCelia\tfoi indicada\tao\tOscar\tde\tMelhor\tAtriz\tCoadjuvante\tpelo\tfilme\t Mulherzinhas , enquanto\tEvelyn\tpassou\tem\tbranco? Ao\tque\tparece,\tEvelyn\tHugo\testá\tverde\tde\tinveja."
          },
          "metadata": {}
        },
        {
          "output_type": "display_data",
          "data": {
            "text/plain": [
              "<IPython.core.display.Markdown object>"
            ],
            "text/markdown": "### Página 172"
          },
          "metadata": {}
        },
        {
          "output_type": "display_data",
          "data": {
            "text/plain": [
              "<IPython.core.display.Markdown object>"
            ],
            "text/markdown": "Depois\tde\tser\tforçada\ta\tatuar\tem\tduas\tcomédias\tromânticas bastante\tdispensáveis\t—\tambas\ttão\truins\tque\testava\tna\tcara\tque\tseriam\tfracassos retumbantes\t—,\tos\toutros\testúdios\tnão\tqueriam\tnada\tcomigo\ttambém. Don\testampou\ta\tcapa\tda\t Life ,\tnuma\tfoto\tna\tpraia,\tsaindo\tdo\tmar,\tsorrindo como\tse\tfosse\to\tdia\tmais\tfeliz\tde\tsua\tvida. No\tdia\tda\tentrega\tdo\tOscar\tde\t1960,\teu\tera\toficialmente\tpersona\tnon\tgrata\tem Hollywood. Com\tcerteza\tvocê tem\tum\tvestido\tdeslumbrante\tpara\tusar,\te\ttodo\tmundo\tvai\tsentir\tinveja\tde\tmim ao\tme\tver\tdo\tseu\tlado.” Eu\testava\tno\tapartamento\tde\tCelia,\tme\tpreparando\tpara\tir\tembora\tantes\tque\to pessoal\tque\tfaria\to\tcabelo\te\ta\tmaquiagem\tdela\tchegasse. “Mas\tnós\tdois\tsabemos\tque\tvocê\tsó prejudicaria\tsua\treputação\taparecendo\tcomigo\tno\tmomento.” “Mas\ta\toferta\testá\tde\tpé”,\tHarry\tdisse. “Mas\ttambém\tsei\tque\tnão\tposso\tdeixar\tvocê\tfazer\tisso.” Harry\tdeu\trisada. “Meus\tolhos\testão\tinchados?”,\tCelia\tperguntou\tquando\tdesliguei\to\ttelefone. Ela\tos\tarregalou\tpara\tmim,\tcomo\tse\tisso\tfosse\tajudar\tem\talguma\tcoisa. E\tde\tqualquer\tforma\tvocê\tsabe\tque Gwen\tvai\tte\tdeixar\tmaravilhosa."
          },
          "metadata": {}
        },
        {
          "output_type": "display_data",
          "data": {
            "text/plain": [
              "<IPython.core.display.Markdown object>"
            ],
            "text/markdown": "### Página 173"
          },
          "metadata": {}
        },
        {
          "output_type": "display_data",
          "data": {
            "text/plain": [
              "<IPython.core.display.Markdown object>"
            ],
            "text/markdown": "“Ah,\tpelo\tamor\tde\tDeus,\tEvelyn”,\tCelia\tfalou,\tme\tprovocando. Quando\testava\tassim,\tela\tnão\ttinha\tcheiro\tde\txampu. “Você\tvai\tganhar”,\tfalei,\tpuxando-a\tpara\tjunto\tde\tmim. Eles\tpodem\tpremiar\tJoy\tou\tEllen\tMattson.” “Acho\tmais\tfácil\tjogarem\ta\testatueta\tno\trio\tdo\tque\tdarem\tpara\tEllen\tMattson. E\tJoy,\tcoitadinha,\tela\tnão\té\tvocê.” Celia\tficou\tvermelha,\tescondeu\to\trosto\tentre\tas\tmãos\tpor\tum\tinstante\te\tme olhou\tde\tnovo. Trazendo\to\tassunto\tà\ttona\ttoda\thora? Sendo\tque\tvocê\testá…” “Na\tmerda?” “Eu\tia\tdizer\tna\tgeladeira.” “Mesmo\tse\tvocê\testiver\tinsuportável,\tvou\tcontinuar\tte\tsuportando”,\teu\tdisse, dando\tum\tbeijo\tnela\te\tsentindo\to\tgosto\tde\tlimão\tem\tsua\tboca. Conferi\to\trelógio\te,\tsabendo\tque\to\tpessoal\tdo\tcabelo\te\tda\tmaquiagem\tia chegar\ta\tqualquer\tmomento,\tpeguei\tminha\tchave. Ela\te\teu\testávamos\ttomando\ttodo\to\tcuidado\tpara\tnão\tsermos\tvistas\tjuntas. Boa\tsorte.” Quando\tvirei\ta\tmaçaneta,\tela\tme\tchamou. “Se\teu\tnão\tganhar”,\tela\tperguntou, com\tos\tcabelos\tmolhados\tcaindo\tsobre\tas\talças\tda\tcamisola,\t“você\tvai\tcontinuar me\tamando?” Só\tpercebi\tque\tnão\tera\tbrincadeira\tquando\ta\tolhei\tnos\tolhos. “Se\tvocê\tfosse\tuma\tindigente\tmorando\tnuma\tcaixa\tde\tpapelão,\teu\tcontinuaria te\tamando”,\tfalei. Era\tuma\tcoisa\tque\teu\tnunca\ttinha\tdito\tantes. Com\ta\tcaixa\tde\tpapelão\te\ttudo.”"
          },
          "metadata": {}
        },
        {
          "output_type": "display_data",
          "data": {
            "text/plain": [
              "<IPython.core.display.Markdown object>"
            ],
            "text/markdown": "### Página 174"
          },
          "metadata": {}
        },
        {
          "output_type": "display_data",
          "data": {
            "text/plain": [
              "<IPython.core.display.Markdown object>"
            ],
            "text/markdown": "Horas\tdepois,\tna\tcasa\tem\tque\teu\tmorei\tcom\tDon\tmas\tque\tagora\tera\tsó\tminha, preparei\tum\tcape\tcodder,\tsentei\tno\tsofá\te\tliguei\ta\ttevê\tna\t NBC ,\tpara\tver\tmeus amigos\te\ta\tmulher\tque\teu\tamava\tpassarem\tpelo\ttapete\tvermelho\tdo\tPantages Theatre. Lamento\testragar\ta\tilusão,\tmas pessoalmente\to\tteatro\té\tmenor,\tas\tpessoas\tsão\tmais\tpálidas\te\to\tpalco\té\tmenos imponente. Tudo\té\tmaquiado\tpara\tfazer\tos\ttelespectadores\tsentirem\tque\testão\ttendo acesso\ta\tum\toutro\tmundo,\tum\tmundo\tsó\tpara\traros. E\tfiquei\tsurpresa\tao constatar\to\tefeito\tque\taquilo\texerceu\tsobre\tmim,\tao\tme\tdar\tconta\tde\tcomo\tera fácil\tcair\tnaquela\tilusão,\tmesmo\tpara\talguém\tque\testava\tlá\taté\tpouco\ttempo. Depois\tde\tdois\tdrinques\te\tmuita\tautocomiseração,\tchegou\to\tmomento\tdo anúncio\tdo\tprêmio\tde\tMelhor\tAtriz\tCoadjuvante. Mas,\tassim\tque\ta\tcâmera focou\tem\tCelia,\tjuro\tque\trecobrei\ta\tsobriedade\te\tjuntei\tas\tmãos\tcom\tcada\tvez mais\tforça,\tcomo\tse\tassim\tas\tchances\tdela\tfossem\taumentar. E\tmeus\tolhos\tse\tencheram\tde\tlágrimas quando\tela\tsubiu\tao\tpalco. “Eu\tagradeço\ta\tAri\tSullivan\te\tHarry\tCameron. Obrigada.” Quando\tela\tdisse\tmeu\tnome,\tme\tsenti\tenlevada\tde\talegria\te\tamor. E\tentão\tfiz\tuma\tcoisa\tsem\tnenhum\tsentido. Dei\tum\tbeijo\tnaquele\tbelo\trosto\tem\tpreto\te\tbranco."
          },
          "metadata": {}
        },
        {
          "output_type": "display_data",
          "data": {
            "text/plain": [
              "<IPython.core.display.Markdown object>"
            ],
            "text/markdown": "### Página 175"
          },
          "metadata": {}
        },
        {
          "output_type": "display_data",
          "data": {
            "text/plain": [
              "<IPython.core.display.Markdown object>"
            ],
            "text/markdown": "Eu\touvi\tum\testalo\tantes\tde\tregistrar\ta\tdor. E,\tenquanto\tCelia\tacenava\tpara\ta plateia\te\tdescia\tdo\tpalco,\tpercebi\tque\ttinha\tlascado\tum\tdente. Preparei\toutro\tdrinque\te\tme\tforcei\ta\tver\to\tresto\tda\tpremiação. Depois\tque anunciaram\to\tganhador\tdo\tOscar\tde\tMelhor\tFilme\te\tpassaram\tos\tcréditos\tda transmissão,\tdesliguei\ta\t TV . Sabia\tque\tHarry\te\tCelia\tiam\tpassar\ta\tnoite\ttoda\tfora. Então\tapaguei\tas\tluzes\te subi\tpara\to\tquarto. Eu\testava\tme\tsentindo\tbem\tsolitária,\tmorando\tsozinha. Ela\testava\tmenos\tconvicta\tdo\tque\teu,\tmas\tfui\tirredutível. Minha\tcarreira podia\testar\tna\tsarjeta,\tmas\ta\tdela\testava\tem\talta. Eu\tnão\tpoderia\tpermitir\tque\tela se\tarriscasse\tdaquela\tforma. Deitei\ta\tcabeça\tno\ttravesseiro,\tmas\tabri\tos\tolhos\tquando\touvi\tum\tcarro parando\tna\tfrente\tda\tminha\tgaragem. “Pelo\tjeito\tvocê\tjá\testá\tbem\tconfortável”,\tCelia\tfalou\tquando\tme\tencontrou\tno quarto. Continuava sendo\tquem\tsempre\tfoi,\tsó\tmais\talegrinha,\ttão\tsolta\tque\tàs\tvezes\tparecia\tque\tia sair\tvoando. Ela\tveio\tcorrendo\te\tpulou\tna\tcama. “Estou\ttão\torgulhosa\tde\tvocê,\tquerida.” “Senti\tsua\tfalta\ta\tnoite\ttoda”,\tCelia\tfalou,\tainda\tcom\to\tOscar\tna\tmão,\te\tdava para\tver\tque\tera\tpesado,\tporque\tficava\ttombando\tna\tcama\to\ttempo\ttodo. O espaço\tonde\tdeveria\taparecer\tseu\tnome\testava\tem\tbranco."
          },
          "metadata": {}
        },
        {
          "output_type": "display_data",
          "data": {
            "text/plain": [
              "<IPython.core.display.Markdown object>"
            ],
            "text/markdown": "### Página 176"
          },
          "metadata": {}
        },
        {
          "output_type": "display_data",
          "data": {
            "text/plain": [
              "<IPython.core.display.Markdown object>"
            ],
            "text/markdown": "Deveria\testar\tna\tfesta\tdo\tSunset.” “Só\tqueria\tcomemorar\tcom\tvocê.” Eu\ta\tpuxei\tpara\tperto. “Tudo\tperde\ta\tgraça\tquando\tvocê\tnão\testá\tcomigo”,\tela\tfalou. “Só\tme interessa\tvocê;\to\tresto\té\tmerda.” Joguei\ta\tcabeça\tpara\ttrás\te\tgargalhei. Eu\té\tque\tmemorizei\tcada\tcentímetro\tdo seu\tcorpo.” Algumas\tsemanas\tantes,\teu\ttinha\tdeitado\tnua\tao\tlado\tde\tCelia\te\tdeixado\tela me\tolhar,\tpedacinho\tpor\tpedacinho. Ela\tme\tfalou\tque\tqueria\tguardar\tcada detalhe\tna\tmemória. Disse\tque\testava\tme\testudando,\tcomo\tse\teu\tfosse\tum Picasso. “Que\tvergonha”,\teu\tdisse,\tme\treferindo\tao\tdente. “Eu\tdei\tum\tbeijo\tna\ttela\tda\t TV ”,\tcontei. Então\tela\tsubiu\tem\tcima\tde\tmim\te\tme\tenlaçou\tpelo\tpescoço. “Foi\ta\tmaior demonstração\tde\tamor\tque\talguém\tjá\tdeu\tdesde\to\tsurgimento\tda\thumanidade.” “Acho\tque\tvou\tmarcar\tuma\tconsulta\tno\tdentista\tassim\tque\tacordar\tamanhã.” “Acho\tbom.” Peguei\to\tOscar\tna\tmão. E,\tse\ttivesse ficado\tmais\ttempo\tcom\tDon,\tpoderia\tter\tconseguido\tnaquela\tnoite. Ela\tainda\testava\tde\tvestido,\tmas\ttinha\ttirado\tos\tsaltos. “Você\tjá\tfez\tamor\tcom\talguém\tque\ttem\tum\tOscar?”,\tela\tperguntou. Cheguei\tbem\tperto\tdisso\tcom\tAri\tSullivan,\tmas\taquela\tnão\tparecia\ta\tmelhor"
          },
          "metadata": {}
        },
        {
          "output_type": "display_data",
          "data": {
            "text/plain": [
              "<IPython.core.display.Markdown object>"
            ],
            "text/markdown": "### Página 177"
          },
          "metadata": {}
        },
        {
          "output_type": "display_data",
          "data": {
            "text/plain": [
              "<IPython.core.display.Markdown object>"
            ],
            "text/markdown": "E,\tde\tqualquer\tforma,\to\tespírito\tda\tpergunta\tera\tchamar\ta minha\tatenção\tpara\ta\tfelicidade\tde\tum\tmomento\tcomo\taquele. E\tera\talgo\tque\teu nunca\ttinha\tvivenciado. Um\tromance\tque\tCelia\tfez esgotou\tos\tingressos. Don\testrelou\tseu\tpróprio\tthriller\tde\tsucesso. As\tcríticas\ta Os\tcuringas \tdiziam\tque\tRuby\tReilly\tera\t“de\tuma\tperfeição\testonteante”\te\t“de um\ttalento\tincomparável”. Saí\tdo\tcinema,\tfui\tpara\tcasa,\tliguei\tpara\tHarry Cameron\te\tfalei:\t“Tenho\tuma\tideia."
          },
          "metadata": {}
        },
        {
          "output_type": "display_data",
          "data": {
            "text/plain": [
              "<IPython.core.display.Markdown object>"
            ],
            "text/markdown": "### Página 178"
          },
          "metadata": {}
        },
        {
          "output_type": "display_data",
          "data": {
            "text/plain": [
              "<IPython.core.display.Markdown object>"
            ],
            "text/markdown": "Celia\tia\tparticipar\tde\tuma\tfilmagem\tnuma\tlocação\tem\tBig\tBear\tque\tduraria três\tsemanas. Sabia\tque\tnão\ttinha\tcomo\tir\tcom\tela,\tnem\tvisitá-la\tno\tset. Ela garantiu\tque\tviria\tpara\tcasa\ttodo\tfim\tde\tsemana,\tmas\tparecia\tarriscado\tdemais. Então\tdecidi\tque\tera\to\tmomento\tideal\tpara\tir\tà\tFrança. Ele\tfez\talguns\ttelefonemas\tpara mim,\tem\tsegredo. Outros\tclaramente\tsó\testavam\tfazendo\tum\tfavor\tpara\tHarry. E\tentão apareceu\tMax\tGirard,\tum\tdiretor\tem\tascensão\tda\tnouvelle\tvague\tque\tnunca tinha\touvido\tfalar\tde\tmim. Estávamos\tnum\tbar\ttranquilo\tem\tSaint-Germain-des-Près,\tnuma\tmesa\tnos fundos. Foi\tlogo\tdepois\tda\thora\tdo\tjantar,\tmas\teu\tnão\ttinha\tcomido\tnada. “Não\tlembro\tde\tter\tvisto\tuma\tmulher\ttão\tatraente”,\tele\tcomentou,\tme encarando."
          },
          "metadata": {}
        },
        {
          "output_type": "display_data",
          "data": {
            "text/plain": [
              "<IPython.core.display.Markdown object>"
            ],
            "text/markdown": "### Página 179"
          },
          "metadata": {}
        },
        {
          "output_type": "display_data",
          "data": {
            "text/plain": [
              "<IPython.core.display.Markdown object>"
            ],
            "text/markdown": "Um\tpapel\tpara\tuma\testrela\tde\tcinema.” Balancei\ta\tcabeça\tdevagar. A\tgente\tprecisa\tsaber\tcontrolar\tcada\tparte\tdo corpo\tpara\tnão\tparecer\tansiosa\tdemais. “Me\tmanda\to\troteiro\te\tdepois\tconversamos”,\tfalei,\tdando\tum\túltimo\tgole\tno meu\tvinho\te\tficando\tde\tpé. Vamos\tmanter\to\tcontato.” Sem\tchance\tque\teu\tia\tficar\tnum\tbar\tcom\tum\thomem\tque\tnunca\ttinha\touvido falar\tde\tmim,\tcomo\tse\tdispusesse\tde\ttodo\to\ttempo\tdo\tmundo. Pude\tsentir\tseus\tolhos\tsobre\tmim\tenquanto\teu\tsaía,\tmas\tpassei\tpor\taquela porta\tcom\ttoda\ta\tconfiança\tque\tera\tcapaz\tde\tdemonstrar\t—\to\tque,\tlevando\tem conta\tminha\tsituação\tna\tépoca,\tnão\tera\tpouca\tcoisa. Quando\tvoltei\tao\thotel, vesti\tmeu\tpijama,\tpedi\tcomida\tno\tserviço\tde\tquarto\te\tliguei\ta\t TV . Antes\tde\tdormir,\tescrevi\tum\tbilhete\tpara\tCelia. Você\té\ta\túnica\tcoisa\tnesse\tmundo\tque\tmerece devoção. Em\tseguida apaguei\ta\tluz\te\tfechei\tos\tolhos. Três\thoras\tdepois,\tacordei\tcom\to\tsom\testridente\tdo\ttelefone\tna\tmesinha\tao lado\tda\tcama."
          },
          "metadata": {}
        },
        {
          "output_type": "display_data",
          "data": {
            "text/plain": [
              "<IPython.core.display.Markdown object>"
            ],
            "text/markdown": "### Página 180"
          },
          "metadata": {}
        },
        {
          "output_type": "display_data",
          "data": {
            "text/plain": [
              "<IPython.core.display.Markdown object>"
            ],
            "text/markdown": "“Nós\tsabemos\tfalar\tsua\tlíngua\tpor\taqui,\tEvelyn.”\tO\tinglês\tcom\tsotaque carregado\tde\tMax\treverberou\tdo\toutro\tlado\tda\tlinha. Na\tsemana\tdepois da\tpróxima.” “Daqui\ta\tduas\tsemanas?” “Até\tmenos. E\tquanto\ttempo\tvão\tlevar\tas\tfilmagens?” “O\tnome\tdo\tfilme\té\t Boute-en-Train . Vamos\tfilmar por\tduas\tsemanas\tno\tlago\tde\tAnnecy. Como\tvocê.” “Uma\tarroz\tde\tfesta?” “Uma\tpessoa\tque\té\to\tcoração\tpulsante\tda\tvida.” “E\tminha\tpersonagem?” “É\to\ttipo\tde\tmulher\tpor\tquem\ttodos\tos\thomens\tse\tapaixonam. Foi\tescrita originalmente\tpara\tuma\tfrancesa,\tmas\tacabei\tde\tdecidir\tque,\tse\tvocê\tquiser, posso\tdesfazer\to\tacordo\tcom\tela.” “Isso\tnão\té\tlá\tmuito\tbonito.” “Ela\tnão\té\tvocê.” Eu\tsorri,\tsurpresa\ttanto\tcom\tseu\tcharme\tquanto\tcom\tsua\tavidez. “É\tsobre\tdois\tladrõezinhos\tque\testão\tfugindo\tpara\ta\tSuíça\te\tacabam\tse encantando\tcom\tuma\tmulher\tmaravilhosa\tque\tencontram\tno\tcaminho. Os\ttrês partem\tpara\tuma\taventura\tnas\tmontanhas. Eu\testava\taqui\tlendo\to\troteiro, tentando\tdecidir\tse\ta\tmulher\tpode\tser\tamericana. Foi\tum\tgolpe\tde\tsorte,\tconhecer\tvocê\tagora."
          },
          "metadata": {}
        },
        {
          "output_type": "display_data",
          "data": {
            "text/plain": [
              "<IPython.core.display.Markdown object>"
            ],
            "text/markdown": "### Página 181"
          },
          "metadata": {}
        },
        {
          "output_type": "display_data",
          "data": {
            "text/plain": [
              "<IPython.core.display.Markdown object>"
            ],
            "text/markdown": "Mas\tninguém\tchega\ta\tlugar\tnenhum cedendo\tao\tprimeiro\tpedido\tque\taparece. “Acho\tque\tvocê\tprecisa\taparecer\tsem\troupa\tda\tcintura\tpara\tcima. E\tsabia\tque\taquilo\tpoderia\tfuncionar de\tnovo. “Por\tque\tnão\tconversamos\tsobre\tisso\tamanhã?”,\teu\tdisse. “Porque\tessa\toutra\tatriz…\tela\tvai mostrar\tos\tpeitos,\tEvelyn.” “Está\ttarde,\tMax. De\tmanhã\teu\tte\tligo.”\tE\tencerrei\ta\tligação. Fechei\tos\tolhos\te\trespirei\tfundo,\trefletindo\tsobre\tcomo\taquela\toportunidade não\testava\tà\tminha\taltura\te\tao\tmesmo\ttempo\tconsiderando\ta\tsorte\tque\ttinha\tpor recebê-la. Não\té\tfácil\tfazer\tesse\tajuste\tentre\to\tque\tcostumava\tser\tverdade\te\to\tque passou\ta\tser\tverdade\tdepois\tde\tdeterminado\tponto. Dessa\tvez,\teu\tpoderia\tfazer\to\tque\tquisesse. Durante\tas\tfilmagens,\tficou\tclaro\tque\tMax\tnão\tqueria\tnada\talém\tde\tme possuir. Dava\tpara\tver\tpelos\tolhares\tque\tele\tme\tlançava\tque\tparte\tdo\tmeu\tapelo para\tMax,\to\tcineasta,\tera\tmeu\tpoder\tde\tatração\tsobre\tele\tcomo\thomem. Quando\tMax\tentrou\tno\tmeu\tcamarim\tno\tpenúltimo\tdia\tde\tfilmagem,\tele falou:\t“ Ma\tbelle,\taujourd’hui\ttu\tseras\tsans\thaut ”. Eu\tjá\tentendia\tfrancês\to suficiente\tpara\tsaber\tque\tele\testava\tfalando\tque\tqueria\tme\tfilmar\tsaindo\tdo\tlago."
          },
          "metadata": {}
        },
        {
          "output_type": "display_data",
          "data": {
            "text/plain": [
              "<IPython.core.display.Markdown object>"
            ],
            "text/markdown": "### Página 182"
          },
          "metadata": {}
        },
        {
          "output_type": "display_data",
          "data": {
            "text/plain": [
              "<IPython.core.display.Markdown object>"
            ],
            "text/markdown": "Como\tuma\tamericana\tpeituda\tnum\tfilme\tfrancês,\tnão\tera\tdifícil\tdeduzir\tque quando\talguém\tdiz\t sans\thaut \tquer\tdizer\tsem\ta\tparte\tde\tcima\tda\troupa. Eu\testava\ttotalmente\tdisposta\ta\ttirar\ta\tblusa\te\tmostrar\tmeus\tatributos\tse\tisso fosse\tnecessário\tpara\trecolocar\tmeu\tnome\tno\tmercado. A\tessa\taltura,\testava loucamente\tapaixonada\tpor\tuma\tmulher. Tinha\tpassado\ta\tdesejá-la\tcom\tcada fibra\tdo\tmeu\tser. Mas\tnunca\tse\tconcretizava,\tnão\timportava\tquantas vezes\tvocê\tassistia,\tnem\to\tquanto\tacertasse\to\tmomento\tde\tdar\ta\tpausa\tna\tfita, anos\tmais\ttarde. E\tfuncionava\tpor\tum\tmotivo:\thomem\tou\tmulher,\tgay,\thétero\tou\tbi\t—\tpode\tser o\tque\tfor,\ttodo\tmundo\tgosta\tde\tser\tprovocado. Seis\tmeses\tdepois\tdo\tfim\tdas\tfilmagens\tde\t Boute-en-Train ,\teu\ttinha\tvirado uma\tsensação\tinternacional."
          },
          "metadata": {}
        },
        {
          "output_type": "display_data",
          "data": {
            "text/plain": [
              "<IPython.core.display.Markdown object>"
            ],
            "text/markdown": "### Página 183"
          },
          "metadata": {}
        },
        {
          "output_type": "display_data",
          "data": {
            "text/plain": [
              "<IPython.core.display.Markdown object>"
            ],
            "text/markdown": "Com\tum\tdrinque\tna\tmão\tque\tnão parecia\tser\to\tprimeiro,\tMick\tfoi\textremamente\tfranco… Ele\trevelou\tque\testá\tfeliz\tpor\tter\tse\tdivorciado\tda\tsereia\tVeronica\tLowe porque,\tsegundo\tsuas\tpalavras:\t“Eu\tnão\tmerecia\tuma\tmulher\tcomo\taquela,\te\tela não\tmerecia\tum\tcara\tcomo\teu”. Quando\tfoi\tsondado\ta\trespeito\tde\tuma\tnova\teleita,\tele\tadmitiu\testar\tde\tolho em\tumas\tquantas\tpossibilidades,\tmas\tque\tabriria\tmão\tde\ttodas\tpara\tpassar\tuma noite\tcom\tEvelyn\tHugo. A\tantiga\tsra.\tDon\tAdler\tvem\tse\tmostrando\tum\tartigo\tmuito\tcobiçado ultimamente. Sua\taparição\tno\tfilme\tmais\trecente\tdo\tdiretor\tfrancês\tMax\tGirard, Boute-en-Train ,\tpassou\ta\ttemporada\tde\tverão\tlotando\tcinemas\tem\ttoda\ta\tEuropa, e\tagora\testá\ttomando\tos\tEstados\tUnidos\tde\tassalto."
          },
          "metadata": {}
        },
        {
          "output_type": "display_data",
          "data": {
            "text/plain": [
              "<IPython.core.display.Markdown object>"
            ],
            "text/markdown": "### Página 184"
          },
          "metadata": {}
        },
        {
          "output_type": "display_data",
          "data": {
            "text/plain": [
              "<IPython.core.display.Markdown object>"
            ],
            "text/markdown": "Ela\ttambém\tassumiu o\tpapel\tde\tcoprodutora\tdo\tfilme,\tjunto\tcom\tHarry\tCameron,\tex-Sunset\tStudios. Essa\tserá\ta\tprimeira\tparceria\tdos\tdois\tfora\tdo\tSunset. O\tsr.\tCameron,\tque\tfez\tnome\tno\tshowbiz\tpor\tseu\tgosto\trefinado\te\tseu\tfaro aguçado\tpara\tos\tnegócios,\taparentemente\tsaiu\tdo\tSunset\tpor\tdesavenças\tcom ninguém\tmenos\tque\to\tmandachuva\tdo\testúdio,\tAri\tSullivan. Hugo\te\tcom\to sr.\tCameron,\tdesembolsando\tum\tcachê\tpolpudo,\talém\tde\tuma\tparticipação\tna bilheteria. Todos\testavam\tcuriosos\tpara\tsaber\tqual\tseria\to\tprojeto\tseguinte\tda\tsrta. Uma\tcoisa\té\tcerta:\tse\tEvelyn mostrar\tna\ttela\tum\tombro\tdesnudo\tque\tseja,\tas\tplateias\tvão\tcomparecer\tem\tpeso."
          },
          "metadata": {}
        },
        {
          "output_type": "display_data",
          "data": {
            "text/plain": [
              "<IPython.core.display.Markdown object>"
            ],
            "text/markdown": "### Página 185"
          },
          "metadata": {}
        },
        {
          "output_type": "display_data",
          "data": {
            "text/plain": [
              "<IPython.core.display.Markdown object>"
            ],
            "text/markdown": "Mary\te\tRoger\tAdler\tderam\tuma\tfesta\tno\túltimo\tsábado\tque,\tsegundo\tdizem, saiu\tum\tpouco\tdo\tcontrole! Estamos\tmuito\tfelizes\tpor\tDon\te\tRuby,\tmas\té\tinevitável\timaginar\tcomo\tDon deve\testar\tse\tsentindo\ta\trespeito\tda\tascensão\tmeteórica\tde\tEvelyn. Ela\té\ta coqueluche\tda\tatualidade\te,\tse\tnós\tmesmos\ta\ttivéssemos\tdeixado\tescapar\tde nossas\tmãos,\testaríamos\tagora\tmorrendo\tde\tarrependimento. Seja\tcomo\tfor,\tdesejamos\to\tmelhor\tpara\tDon\te\tRuby!"
          },
          "metadata": {}
        },
        {
          "output_type": "display_data",
          "data": {
            "text/plain": [
              "<IPython.core.display.Markdown object>"
            ],
            "text/markdown": "### Página 186"
          },
          "metadata": {}
        },
        {
          "output_type": "display_data",
          "data": {
            "text/plain": [
              "<IPython.core.display.Markdown object>"
            ],
            "text/markdown": "Recebi\tum\tconvite\tpara\tver\tMick\tRiva\tse\tapresentar\tno\tHollywood\tBowl naquele\toutono. E\tHarry\tera\ta\tpessoa\tideal\tpara\tfazer\tesse\tpapel de\tacompanhante. Naquela\tnoite\tfez\tmais\tfrio\tem\tLos\tAngeles\tdo\tque\teu\tesperava. Harry,\tchique\tcomo\tsempre,\tpôs\tuma\tcalça\tsocial\tpreta\te\tcamisa\tbranca\tde manga\tcurta. Sentamos\tna\tsegunda\tfileira,\tjunto\tcom\tuns\tamigos\tde\tHarry,\tprodutores\tda Paramount. Do\toutro\tlado\tdo\tcorredor,\tvi\tEd\tBaker\tcom\tuma\tjovem\tque\tparecia ter\tidade\tpara\tser\tsua\tfilha,\tmas\teu\tsabia\tque\testava\tlonge\tdisso. Ele\testava\tusando\tum\tterno\tescuro\tcom uma\tgravata\tfrouxa. Os\tcabelos\tpretos\testavam\tpenteados\tpara\ttrás,\tmas\tum pouquinho\tdesarrumados. Se\teu\tfosse\tapostar,\tdiria\tque\tele\ttomou\tum\tou\tdois drinques\tno\tcamarim. Mas\tisso\tnão\tparecia\tafetar\tnem\tum\tpouco\tsua performance."
          },
          "metadata": {}
        },
        {
          "output_type": "display_data",
          "data": {
            "text/plain": [
              "<IPython.core.display.Markdown object>"
            ],
            "text/markdown": "### Página 187"
          },
          "metadata": {}
        },
        {
          "output_type": "display_data",
          "data": {
            "text/plain": [
              "<IPython.core.display.Markdown object>"
            ],
            "text/markdown": "“Ele\té\tbonitão,\tacho.” Mick\tfoi\taté\to\tmicrofone,\tacompanhado\tpelo\tholofote. “E\tele\tsabe\to\tque\testá\tfazendo\tlá\tem\tcima”,\tfalei. “Prefiro\tmil\tvezes\to\tBrick\tThomas.” Sacudi\ta\tcabeça,\tfazendo\tuma\tcareta. Se\tconversasse\tcom\tele,\tem\tcinco\tsegundos\tvocê\tsentiria\tânsia\tde vômito.” Celia\tdeu\trisada. “Bom,\tmais\tfofo\tque\to\tMick\tRiva\tele\té”,\tela\tfalou. Qual\tseu veredicto?” Harry\tse\tinclinou\tna\tnossa\tdireção. “Para\tminha\tvergonha,\tsou\tobrigado\ta\tadmitir\tque\ttenho\talguma\tcoisa\tem comum\tcom\tessas\tmeninas\thistéricas”,\tele\tfalou. “Eu\tnão\texpulsaria\tMick\tda minha\tcama\tpor\tfazer\tsujeira\tcomendo\tbiscoitos.” Celia\tcaiu\tna\trisada. “Você\té\tinacreditável”,\tcomentei\tenquanto\tobservava\tMick\tperambular\tde\tum lado\tpara\toutro\tdo\tpalco,\tcantando\te\tfazendo\tcharme. “O\tque\tvamos\tcomer depois\tde\tsair\tdaqui?”,\tperguntei\taos\tdois. “Essa\té\ta\tpergunta\tque\tinteressa.” “Nós\tnão\tprecisamos\tir\taté\to\tcamarim?”,\tperguntou\tCelia. Harry\tse\tinclinou\tpor\tcima\tde\tmim\tenquanto\tbatia\tpalmas,\tpara\tCelia conseguir\touvi-lo."
          },
          "metadata": {}
        },
        {
          "output_type": "display_data",
          "data": {
            "text/plain": [
              "<IPython.core.display.Markdown object>"
            ],
            "text/markdown": "### Página 188"
          },
          "metadata": {}
        },
        {
          "output_type": "display_data",
          "data": {
            "text/plain": [
              "<IPython.core.display.Markdown object>"
            ],
            "text/markdown": "Ela\tjogou\ta\tcabeça\tpara\ttrás\te\tgargalhou\tenquanto\taplaudia. Ao\tmeu\tredor,\ttudo\tera ruído;\ta\tplateia\testava\tum\tcaos. E,\tpor\tum\tmomento,\tesqueci\tde\tmim\tmesma. Deu\tpara\tsentir\to\tolhar\tde\tHarry\tsobre\tnossas mãos\ttambém. Parecia\tter\tuns\ttrinta\te\tpoucos\tanos,\tcom\tcara\tde aristocrata,\tolhinhos\tazuis\te\tum\tbatom\tvermelho\taplicado\tcom\tperfeição. Tinha\tme\tvisto\tsegurar\ta\tmão\tde\tCelia. E\tdepois\ttinha\tme\tvisto\trecolher\ta\tmão. Seus\tolhos\tazuis\tjá\testreitos\tse\testreitaram\tainda\tmais\tpara\tmim. E\ta\tesperança\tde\tque\tela\tnão\thavia\tme\treconhecido\tfoi\tpor\tágua\tabaixo quando\ta\tmulher\tse\tvirou\tpara\to\thomem\tao\tseu\tlado,\tprovavelmente\to\tmarido,\te cochichou\talguma\tcoisa. Percebi\tquando\ta\tatenção\tdele\tse\tdesviou\tde\tMick\tRiva para\tmim. Havia\tum\tleve\tar\tde\tdesgosto\tno\tolhar\tdo\thomem,\tcomo\tse\tnão\ttivesse\tcerteza daquilo\tque\tdesconfiava,\tmas\tsó\tde\tpensar\tjá\tse\tsentia\tenojado,\te\tcomo\tse\tfosse culpa\tminha\taquela\tideia\tpassar\tpor\tsua\tcabeça. Minha\tvontade\tfoi\tde\tdar\tna\tcara\tdos\tdois\te\tdizer\tque\taquilo\tnão\tera\tda\tconta deles. Num\ttrecho\tinstrumental\tda\tmúsica,\tMick\tcaminhou\taté\ta\tfrente\tdo\tpalco\tpara"
          },
          "metadata": {}
        },
        {
          "output_type": "display_data",
          "data": {
            "text/plain": [
              "<IPython.core.display.Markdown object>"
            ],
            "text/markdown": "### Página 189"
          },
          "metadata": {}
        },
        {
          "output_type": "display_data",
          "data": {
            "text/plain": [
              "<IPython.core.display.Markdown object>"
            ],
            "text/markdown": "Por\treflexo,\tfiquei\tde\tpé\te\tgritei\tpara\tele,\tpulando\tsem parar. Fui\tmais\tescandalosa\tque\tqualquer\tuma\tali. Só\tqueria\tfazer\taqueles\tdois\tpararem\tde\tfalar,\tentre\teles\tou\tcom qualquer\tum. Queria\tque\to\ttelefone\tsem\tfio\tiniciado\tpor\taquela\tmulher terminasse\tno\touvido\tdo\thomem. Como\tse\tminha\tvida\tdependesse\tdisso, porque\ttalvez\tfosse\to\tcaso. “Será\tque\tos\tmeus\tolhos\testão\tme\tpregando\tuma\tpeça?”,\tMick\tfalou\tde\tcima do\tpalco. “Ou\ta\tmulher\tdos\tmeus\tsonhos\testá aqui\tnas\tfileiras\tda\tfrente?”"
          },
          "metadata": {}
        },
        {
          "output_type": "display_data",
          "data": {
            "text/plain": [
              "<IPython.core.display.Markdown object>"
            ],
            "text/markdown": "### Página 190"
          },
          "metadata": {}
        },
        {
          "output_type": "display_data",
          "data": {
            "text/plain": [
              "<IPython.core.display.Markdown object>"
            ],
            "text/markdown": "JAMES Quando\ta\tproximidade\tdeixa\tde\tser\tnatural? James,\tcom\tsua\tvitória\tno\tOscar\te\tsua\tsequência\tde sucessos,\té\tuma\tamiga\tde\tlonga\tdata\tda\tloiraça\tsensual\tEvelyn\tHugo. Mas ultimamente\tcomeçamos\ta\tnos\tperguntar\to\tque\ttanto\telas\tfazem\tjuntas. Pessoas\tpróximas\tconfirmam\tque\tas\tduas\tparecem…\tum\tcasalzinho. Mas\to\tcarro\tde\tCelia\tpode\tser\tvisto\tna\tfrente\tda\tcasa\tde\tEvelyn, em\tque\tela\tmorava\tcom\tninguém\tmais\tninguém\tmenos\tque\tDon\tAdler,\ttodas\tas noites."
          },
          "metadata": {}
        },
        {
          "output_type": "display_data",
          "data": {
            "text/plain": [
              "<IPython.core.display.Markdown object>"
            ],
            "text/markdown": "### Página 191"
          },
          "metadata": {}
        },
        {
          "output_type": "display_data",
          "data": {
            "text/plain": [
              "<IPython.core.display.Markdown object>"
            ],
            "text/markdown": "Dessa vez,\tela\tpareceu\tenrubescer\tmais\tdepressa\tdo\tque\tnunca. Estávamos\tna\tporta\tdos\tfundos\tda\tcasa\tde\tveraneio\tdela\tem\tPalm\tSprings, fazendo\thambúrguer\tpara\tnós\tna\tchurrasqueira\tdo\tquintal. Desde\tque\taquela\tnota\ttinha\tsido\tpublicada,\teu\tme\trecusava\ta\tfazer\taparições públicas\tcom\tela\tem\tLos\tAngeles. Celia\tseguiu\to\tplano\tcomo\tuma\tesposa\tobediente,\tconcordando\tcom\to\tque\teu queria\tporque\tera\tmais\tfácil\tfazer\tisso\tdo\tque\tbrigar\tcomigo. Mas\tessa\tera\ta\tquestão,\tem\tcerto\tsentido. “Não,\té\t você \tque\tprecisa\tme\touvir.”\tEla\tbateu\ta\ttampa\tda\tchurrasqueira\te apontou\tpara\tmim\tcom\to\tpegador\tque\ttinha\tna\tmão. “Eu\tposso\taceitar\tfazer parte\tdos\tseus\tjoguinhos\to\tquanto\tvocê\tquiser. Isso\tsem\tfalar\tque\tpodem\tcolocar\ta polícia\tatrás\tda\tgente.” “Você\testá\tsendo\tparanoica.”"
          },
          "metadata": {}
        },
        {
          "output_type": "display_data",
          "data": {
            "text/plain": [
              "<IPython.core.display.Markdown object>"
            ],
            "text/markdown": "### Página 192"
          },
          "metadata": {}
        },
        {
          "output_type": "display_data",
          "data": {
            "text/plain": [
              "<IPython.core.display.Markdown object>"
            ],
            "text/markdown": "Mas\tuma\tcoisa\teu\tte\tdigo: eles\tsabem.” “Alguém\tque\tescreveu\tuma\tnota\tnuma\trevistinha\t acha \tque\tsabe. Ainda\tdá\ttempo\tde\tfazer\talguma\tcoisa\tpara\timpedir.” “Ou\tdeixar\ta\thistória\tmorrer\tsozinha.” “Celia,\tvocê\ttem\tdois\tfilmes\tpara\tlançar\tno\tano\tque\tvem,\te\to\tmeu\té\to\tmais falado\tna\tcidade\tno\tmomento.” “Exatamente. Como\to\tHarry\tcostuma\tdizer,\tnós\tpodemos\tfazer\to\tque quisermos.” “Não,\tisso\tquer\tdizer\tque\ttemos\tmuito\ta\tperder.” Irritada,\tCelia\tpegou\tmeu\tmaço\tde\tcigarros\te\tacendeu\tum. “Então\té\tisso\tque você\tquer\tfazer? Passar\ttoda\tuma\tvida\ttentando\tesconder\to\tque\tnós\trealmente fazemos? Escondendo\tquem\tnós\tsomos\tde\tverdade?” “É\to\tque\tse\tfaz\tem\tHollywood\ttodo\tsanto\tdia.” “Bom,\teu\tnão\tquero\tfazer\tisso.” “Bom,\tentão\tnão\tdeveria\tter\tficado\tfamosa.” Celia\tme\tencarou\tenquanto\tsoltava\ta\tfumaça\tdo\tcigarro. De\tcabo\ta\trabo.” “O\tque\tvocê\tsugere\tfazer,\tCelia? Quer\tque\teu\tligue\tpessoalmente\tpara\ta\t Sub Rosa ? Só\tque\tninguém\tmais\tsabe.” “Mas\ttalvez\tdevesse\tsaber. Ninguém\testá interessado\tem\tentender\tpessoas\tcomo\tnós.” “Mas\tdeveria.” “Tem\tmuita\tcoisa\tque\ttodo\tmundo\tdeveria\tsaber,\tquerida. Mas\tnão\té\tassim que\tas\tcoisas\tfuncionam.”"
          },
          "metadata": {}
        },
        {
          "output_type": "display_data",
          "data": {
            "text/plain": [
              "<IPython.core.display.Markdown object>"
            ],
            "text/markdown": "### Página 193"
          },
          "metadata": {}
        },
        {
          "output_type": "display_data",
          "data": {
            "text/plain": [
              "<IPython.core.display.Markdown object>"
            ],
            "text/markdown": "Se\tvocê\tquiser\tmanter\tsua\tcarreira,\tnão\tpode\tdeixar\tque\tas pessoas\tacreditem\tque\tsomos\talguma\tcoisa\talém\tde\tamigas.” “E\tse\teu\tnão\tquiser\tmanter\tminha\tcarreira?” “Você\tquer,\tsim.” “Não,\t você \tquer. E\testá\tempurrando\tisso\tpara\tcima\tde\tmim.” “Claro\tque\teu\tquero.” “Eu\tabriria\tmão\tde\ttudo,\tsabe. Desistiria\tde\ttudo\tpara\tficar\tcom\tvocê,\tpor\tuma\tvida\tnormal\tao\tseu\tlado.” “Você\tnão\tsabe\tdo\tque\testá\tfalando,\tCelia. Desculpa,\tmas\tnão\tsabe\tmesmo.” “O\tque\testá\tacontecendo\taqui\té\tque\tvocê\tnão\testá\tdisposta\ta\tabrir\tmão\tde nada\tpor\t mim .” “Não,\to\tque\testá\tacontecendo\taqui\té\tque\tvocê\té\tuma\tdiletante\tque\tacha\tque, se\tnão\tder\tcerto\tcomo\tatriz,\tpode\tvoltar\tpara\tSavannah\te\tser\tsustentada\tpelos pais.” “Quem\té\tvocê\tpara\tfalar\tsobre\tgrana? Você\ttem\trios\tde\tdinheiro.” “Tenho\tmesmo. E\tfiz\tisso\tpara\tficar\tfamosa. E,\tse pensa\tque\tnão\tvou\tproteger\tisso,\tvocê\tdeve\tter\tperdido\to\tjuízo.” “Pelo\tmenos\tvocê\testá\tadmitindo\tque\tvocê\tvem\tsempre\tem\tprimeiro\tlugar.” Sacudi\ta\tcabeça\te\tapertei\ta\tponte\tdo\tnariz. Aquela\testatueta\tque\tvocê\tdeixa\tno\tcriado-mudo\te\tacaricia\ttodo dia\tantes\tde\tdormir?” “Não\tcomeça…” “As\tpessoas\testão\tdizendo,\tconsiderando\ta\tsua\tidade,\tque\tvocê\té\to\ttipo\tde atriz\tque\tpode\tser\tpremiada\tum\tmonte\tde\tvezes. E você\tnão?” “Claro\tque\tsim.” “E\tvai\tdeixar\tde\tir\tatrás\tdisso\tsó\tporque\tme\tconheceu?”"
          },
          "metadata": {}
        },
        {
          "output_type": "display_data",
          "data": {
            "text/plain": [
              "<IPython.core.display.Markdown object>"
            ],
            "text/markdown": "### Página 194"
          },
          "metadata": {}
        },
        {
          "output_type": "display_data",
          "data": {
            "text/plain": [
              "<IPython.core.display.Markdown object>"
            ],
            "text/markdown": "E\tpor\tisso\tnão\tposso\tdeixar\tvocê\tjogar\tfora\ttudo o\tque\tconquistou\t—\te\ttodo\to\ttalento\tincrível\tque\ttem\t—\tassumindo\tuma\tposição que\tnão\tvai\tser\tapoiada\tpor\tninguém.” “Mas\tse\ta\tgente\tnão\ttentar…” “Ninguém\tvai\tapoiar\ta\tgente,\tCelia. Eu\tsei\tcomo\té\tter\ttodas\tas\tportas\tfechadas em\tHollywood. E\tfinalmente\testou\tconseguindo\tencontrar\tuma\tabertura\tpara voltar. Sei\tque\tvocê\testá\timaginando\tum\tmundo\tem\tque\tpodemos\tenfrentar\to Golias\te\tvencer. Se\ta\tverdade\tvier\tà\ttona,\tvamos\tser enterradas. Vamos\tacabar\tna\tcadeia\tou\tnum\thospício. E\tpode\tacreditar\tque ninguém\tia\tatender\to\ttelefone\tquando\ta\tgente\tligasse. Ele\té…\tum\tde\tnós.” “É\texatamente\tpor\tisso\tque\tele\tjamais\tpoderia\tfalar\tcom\ta\tgente. Ele\tcorre\tum\tperigo\tainda\tmaior. Existem\tcaras\tpor\taí\tque matariam\tHarry\tse\tdescobrissem. Este\té\to\tmundo\tem\tque\tvivemos. Eu\tjamais\tpoderia\tcolocar\tHarry\tnessa\tposição. Perder\ttudo\to\tque\tele batalhou\tpara\tconseguir? Não,\taí ficaríamos\tpor\tconta\tprópria. E\tisso\tpara\tmim\tbasta.” Ela\testava\tchorando,\tcom\tas\tlágrimas\tescorrendo\tpelo\trosto,\ttrazendo\tjunto\to rímel\tdos\tcílios. Eu\ta\tabracei\te\tlimpei\tseu\trosto\tcom\to\tpolegar. E\teu\tgostaria\tque\to\tmundo fosse\tcomo\tvocê\tvê. Gostaria\tque\to\tresto\tdas\tpessoas\tcom\tquem\tdividimos\to planeta\tcorrespondesse\tàs\tsuas\texpectativas. Mas\telas\tnão\testão\tà\taltura. Quando perdermos\tnosso\ttrabalho\te\tnossa\treputação,\tquando\tperdermos\tnossos\tamigos\te, de\tquebra,\ttodo\to\tdinheiro\tque\ttemos,\tvamos\tficar\tna\trua\tda\tamargura."
          },
          "metadata": {}
        },
        {
          "output_type": "display_data",
          "data": {
            "text/plain": [
              "<IPython.core.display.Markdown object>"
            ],
            "text/markdown": "### Página 195"
          },
          "metadata": {}
        },
        {
          "output_type": "display_data",
          "data": {
            "text/plain": [
              "<IPython.core.display.Markdown object>"
            ],
            "text/markdown": "E\tnão\tposso\tdeixar\tisso\tacontecer\tcom\tvocê. Eu\tte amo\tdemais\tpara\tdeixar\tque\tviva\tsua\tvida\tem\tfunção\tda\tminha.” Ela\testava\tsoluçando,\tem\tmeio\ta\tuma\tenxurrada\tde\tlágrimas. Por\tum\tinstante, pensei\tque\tCelia\tfosse\tinundar\to\tquintal. “Eu\tte\tamo\ttambém”,\tsussurrei\tno\tseu\touvido. “Te\tamo\tmais\tdo\tque\ttudo.” “Não\té\terrado”,\tCelia\tinsistiu. Como\tpode ser?” “Amar\tnão\té\terrado,\tquerida. “As\t pessoas \té\tque\testão erradas.” Ela\tbalançou\ta\tcabeça\tjunto\tao\tmeu\tombro\te\tme\tabraçou\tcom\tmais\tforça. Quando\tela\tse\tacalmou,\tabriu\ta\ttampa\tda\tchurrasqueira\tde\tnovo,\tsem\tolhar\tna minha\tcara\tenquanto\tvirava\tos\thambúrgueres. “Vou\tconvencer\tMick\tRiva\ta\tcasar\tcomigo\tpor\timpulso.” Os\tolhos\tdela,\tque\tjá\testavam\tvermelhos\tde\ttanto\tchorar,\tcomeçaram\ta\tinchar de\tnovo. Ela\tlimpou\tuma\tlágrima\te\tvoltou\tsua\tatenção\tde\tnovo\tpara\ta\tgrelha. “O que\tisso\tsignifica\tpara\ta\tgente?”,\tela\tquis\tsaber. Vou\ttentar emplacar\tum\tcasamento\te\tdepois\tconseguir\tuma\tanulação.” “E\tacha\tque\tcom\tisso\tvai\tdesviar\ta\tatenção\tde\tvocê?” “Não,\teu\tsei\tque\tvão\tprestar\tainda\tmais\tatenção\tem\tmim. Vão\tdizer\tque\teu\ttenho mau\tgosto\tpara\thomens. Mas,\tpara\tfazer\tisso,\tvão\tprecisar\tparar\tde\tfalar\tque\testamos\tjuntas. Não vai\tter\tmais\tespaço\tpara\tvocê\tna\thistória.” “Entendi”,\tela\tfalou,\tpegando\tum\tprato\te\tcomeçando\ta\ttirar\tos\thambúrgueres."
          },
          "metadata": {}
        },
        {
          "output_type": "display_data",
          "data": {
            "text/plain": [
              "<IPython.core.display.Markdown object>"
            ],
            "text/markdown": "### Página 196"
          },
          "metadata": {}
        },
        {
          "output_type": "display_data",
          "data": {
            "text/plain": [
              "<IPython.core.display.Markdown object>"
            ],
            "text/markdown": "“Certo,\tentão\ttá.” “Faça\to\tque\tachar\tmelhor. “Quando\ttudo\testiver\tacabado,\tvamos\tconversar\tsobre\tmorar\tjuntas.” “Certo”,\tela\tdisse. “Estamos\tcombinadas.” Estendi\to\tbraço\tpara\tum\taperto\tde\tmãos,\tmas\tela\trecusou. “E\tse\to\tplano\tcom\tMick\tRiva\tnão\tder\tcerto?”,\tela\tperguntou. “Vai\tdar.” Celia\tfinalmente\tme\tolhou\tnos\tolhos. “Você\tse\tacha\ttão\tmaravilhosa\tque\tninguém\té\tcapaz\tde\tresistir\tao\tseu\tcharme?” “Na\tverdade,\tsim.” “Pois\té”,\tela\tfalou,\tficando\tligeiramente\tna\tponta\tdos\tpés\tpara\tme\tbeijar."
          },
          "metadata": {}
        },
        {
          "output_type": "display_data",
          "data": {
            "text/plain": [
              "<IPython.core.display.Markdown object>"
            ],
            "text/markdown": "### Página 197"
          },
          "metadata": {}
        },
        {
          "output_type": "display_data",
          "data": {
            "text/plain": [
              "<IPython.core.display.Markdown object>"
            ],
            "text/markdown": "Prendi\tmeus\tcabelos\tloiros\tnum\trabo\tde\tcavalo. Completei\tcom brincos\tde\tdiamantes\tnas\torelhas. Ignorando\ta\tvontade\tde\trevirar\tos\tolhos\ttoda\thora\te\ta\tpressão\tque\tele faz\tpara\tser\tfotografado\tao\tseu\tlado. Ele\tquer\tbradar\tao\tmundo\ttodo\tque\tte\tlevou\tpara\ta\tcama. Você\tpensa\tem\tjogar\tlimpo\tcom\tele,\texplicando\to\tque\tquer,\te\to\tque\testá disposta\ta\tceder. Mas\tjá\té\tfamosa\thá\ttempo\tdemais\tpara\tsaber\tque\tnunca\tdeve contar\ta\tninguém\tmais\tdo\tque\to\testritamente\tnecessário. Então,\tem\tvez\tde\tdizer\t Quero\testar\tnas\tmanchetes\tdos\tjornais\tamanhã ,\tvocê diz:\t“Mick,\tvocê\tjá\tfoi\tpara\tVegas?”. “Às\tvezes\tbate\tuma\tvontadezinha\tde\tsair\tda\trotina,\tsabe\tcomo\té?”,\tvocê\tdiz. As\tsegundas\tintenções\tfuncionam\tmelhor\tquando\tsão\tinsinuadas\taos pouquinhos,\taté\tvirarem\tuma\tbola\tde\tneve."
          },
          "metadata": {}
        },
        {
          "output_type": "display_data",
          "data": {
            "text/plain": [
              "<IPython.core.display.Markdown object>"
            ],
            "text/markdown": "### Página 198"
          },
          "metadata": {}
        },
        {
          "output_type": "display_data",
          "data": {
            "text/plain": [
              "<IPython.core.display.Markdown object>"
            ],
            "text/markdown": "Eu\testou\tme\tdivertindo.” “Meu\tpessoal\tpode\tchamar\tum\tavião\te\tlevar\ta\tgente\tpara\tlá\tassim,\tó.”\tEle estala\tos\tdedos. “Seria\tum\texagero.” “Não\tpor\tvocê”,\tele\tresponde. E,\tmeia\thora\tdepois,\tvocês\testão\tnum\tavião. Os\tdois\ttomam\talguns\ttragos,\tvocê\tsenta\tno\tcolo\tdele,\tdeixa\ta\tmão\tboba\tdele passear,\tmas\tentão\tdá\tum\ttapa\tpara\tafastá-la. Ele\tprecisa\tficar\tlouco\tpor\tvocê,\te achar\tque\tsó\ttem\tuma\tmaneira\tde\tconseguir\to\tque\tquer. Quando\to\tavião\taterrissa\te\tele\tpergunta\tse\tpode\treservar\tum\tquarto\tno\tSands, você\tprecisa\tmostrar\tseu\trecato. Precisa\tdeixar\tbem claro\tque\tnão\tfaz\tsexo\tfora\tdo\tcasamento,\tnum\ttom\tde\tindignação,\tcomo\tse\tnem precisasse\testar\tdizendo\tisso. Precisa\tparecer\tfirme\ta\tesse\trespeito,\tmas\tao\tmesmo\ttempo\tchateada. Ele\ttem que\tpensar:\t Ela\tme\tquer. Por\tum\tinstante,\tvocê\tchega\ta\tpensar\tque\testá\tsendo\tcruel. Você\tvai\tdar\to\tque\tele\tquer. Você\tvai\tpara\ta\tmesa\tde\tdados\te\tjoga\talgumas\trodadas. No\tcomeço\tsó\tperde, assim\tcomo\tele,\te\tfica\tcom\tmedo\tde\tque\tisso\tpossa\tesfriar\tas\tcoisas. Você\tsabe que\to\tsegredo\tpara\tagir\tpor\timpulso\té\tse\tsentir\tinvencível."
          },
          "metadata": {}
        },
        {
          "output_type": "display_data",
          "data": {
            "text/plain": [
              "<IPython.core.display.Markdown object>"
            ],
            "text/markdown": "### Página 199"
          },
          "metadata": {}
        },
        {
          "output_type": "display_data",
          "data": {
            "text/plain": [
              "<IPython.core.display.Markdown object>"
            ],
            "text/markdown": "Você\tpede\tchampanhe,\tporque\tisso\tfaz\ttudo\tparecer\tuma\tcelebração. Quando\tas\tpessoas\treconhecem\tvocês\tdois,\tvocê\taceita\ttirar\tuma\tfoto. Toda vez\tque\tisso\tacontece,\tvocê\to\tabraça. Isso\tcomunica\tde\tuma\tforma\tnada\tsutil:\t As coisas\tpoderiam\tser\tassim\tse\teu\tfosse\tsua . Comemora\tcom\ttanto\tentusiasmo que\tcomeça\ta\tpular. Faz\tisso\tporque\tsabe\tonde\tos\tolhos\tdele\tvão\tpousar. Dessa\tvez,\tquando\tganha,\tvocê\tempurra\ta\tbunda\tna\tdireção\tda\tmão\tdele. Você\tdiz:\t“Não\tacho\tuma\tboa\tideia. Não\tconfio\tem\tmim\tmesma\tquando\testou ao\tseu\tlado”. Precisa\tesperar\tque\tele\ttoque\tno\tassunto. Você\tdeixa\ta\tmão\tdele\troçar\tsua\tcoxa,\tmas\tem\tseguida\tse\tafasta. Já\tsão\tduas da\tmanhã,\te\tvocê\testá\tcansada. Com\tsaudade\tdo\tamor\tda\tsua\tvida. Mas\té\taqui\tque\tvocê\tvai\tgarantir\tseu\tamor. Você\timagina\tum\tmundo\tem\tque\tvocês\tduas\tpossam\tsair\tpara\tjantar\tjuntas num\tsábado\tà\tnoite\tsem\tque\tninguém\tas\tjulgue. Você\ttrabalhou\tmuito\tpara\tter uma\tvida\tde\tesplendor. E\tagora\ttudo\to\tque\tquer\té\tuma\tliberdade\tmodesta. A\tnoite\tde\thoje\tparece\tum\tpreço\tpequeno\te\tao\tmesmo\ttempo\talto\tdemais\ta pagar\tpor\tuma\tvida\tcomo\tessa."
          },
          "metadata": {}
        },
        {
          "output_type": "display_data",
          "data": {
            "text/plain": [
              "<IPython.core.display.Markdown object>"
            ],
            "text/markdown": "### Página 200"
          },
          "metadata": {}
        },
        {
          "output_type": "display_data",
          "data": {
            "text/plain": [
              "<IPython.core.display.Markdown object>"
            ],
            "text/markdown": "“Linda,\teu\tnão\taguento\tmais”,\tele\tdiz. O\tpeixe\tmordeu\ta\tisca,\te\tvocê\tsó\tprecisa\tser\tcuidadosa\tao recolher\to\tanzol. Não\tdá.” “Acho\tque\testou\tapaixonado\tpor\tvocê,\tlinda”,\tele\tdiz. Está\tcom\tlágrimas\tnos olhos,\te\tvocê\tpercebe\tque\ttalvez\tele\tseja\tuma\tpessoa\tmais\tcomplexa\tdo\tque\to esperado. Mas\tvocê\ttambém\té\tmais\tcomplexa\tdo\tque\tele\tesperava. “Está\tfalando\tsério?”,\tvocê\tpergunta,\tcomo\tse\tquisesse\tmuito\tque\tfosse verdade. A\tgente\tacabou\tde se\tconhecer,\tmas\tacho\tque\tnão\tconsigo\tmais\tviver\tsem\tvocê.”\tO\tque\tele\tquer dizer\té\tque\tacha\tque\tnão\tvai\tconseguir\tcontinuar\tvivendo\tse\tnão\tlevar\tvocê\tpara a\tcama. “Oh,\tMick”,\tvocê\tdiz,\te\tentão\tfica\tem\tsilêncio. Ele\tenfia\to\tnariz\tno\tseu\tpescoço. É\tcomo\tse\tvocê\testivesse\tna\tcompanhia\tde um\tcão\tlabrador. Vocês\testão\tsob\tas\tluzes\tbrilhantes de\tum\tcassino\tem\tLas\tVegas. Você\tprecisa\tfingir\tque\tnem repara\tna\tpresença\tdas\tpessoas. Assim,\tamanhã,\tquando\telas\tfalarem\tcom\ta imprensa,\tvão\tdizer\tque\tvocês\tdois\testavam\tse\tcomportando\tcomo\tum\tcasal\tde adolescentes. E acha\tque\tela\té\tesperta\to\tsuficiente\tpara\tisso. A\tprimeira\tcoisa\tque\tvocê\tvai\tfazer\tquando\tchegar\tem casa,\tquando\tisso\ttudo\tacabar,\té\tfazer\tcom\tque\tela\tsaiba\tcomo\té\timportante, como\té\tlinda,\tcomo\tsua\tvida\tnem\tvaleria\ta\tpena\tsem\tela. “Vamos\tcasar,\tlinda”,\tele\tdiz\tno\tseu\touvido."
          },
          "metadata": {}
        },
        {
          "output_type": "display_data",
          "data": {
            "text/plain": [
              "<IPython.core.display.Markdown object>"
            ],
            "text/markdown": "### Página 201"
          },
          "metadata": {}
        },
        {
          "output_type": "display_data",
          "data": {
            "text/plain": [
              "<IPython.core.display.Markdown object>"
            ],
            "text/markdown": "“Mick,\tvocê\testá\tlouco?” “Você\tme\tdeixa\tlouco.” “A\tgente\tnão\tpode\tcasar!”,\tvocê\tdiz\te,\tcomo\tele\tnão\tresponde,\tfica\tcom\tmedo de\tter\tlevado\ta\tencenação\tlonge\tdemais. A\tgente\tpode\tfazer\to que\tquiser.” Você\to\tabraça\te\tse\tesfrega\tnele,\tpara\tmostrar\to\tquanto\testá\tempolgada\t—\te surpresa\t—\tcom\ta\tideia,\te\taproveita\tpara\tmostrar\tque\tvai\tvaler\ta\tpena. Você\tsabe o\tvalor\tque\ttem\tpara\tele. Seria\ttolice\tdesperdiçar\tuma\tchance\tde\treforçar\tisso. Ele\tpega\tvocê\tno\tcolo\te\ttira\tseus\tpés\tdo\tchão. Você\tgrita\talto,\tpara\tque\ttodo mundo\trepare. Amanhã\tas\tpessoas\tvão\tfalar\tque\tele\tsaiu\tcarregando\tvocê. Quarenta\tminutos\tdepois,\tvocês\testão\tembriagados\tolhando\tpara\ta\tcara\tum\tdo outro\tem\tfrente\ta\tum\taltar. Você\tdá\tuma risadinha\tde\tfalsa\tsurpresa\tquando\té\tjogada\tna\tcama. E\tagora\tvem\ta\tsegunda\tparte\tmais\timportante. Você\t NÃO \tpode\tser\tuma\tboa\ttransa. Não\tvai\tconseguir fazer\tmais\tde\tuma\tvez. Quando\tele\ttenta\trasgar\tseu\tvestido,\tvocê\tdiz:\t“Para\tcom\tisso,\tMick. Então\tvocê\tse\tdespe\tbem\tdevagarinho,\tpara\tele\tpoder\tver\tseus\tpeitos\to\tquanto quiser. Você\ttem\tque\teliminar\ttodo\to\tmistério,\ttoda\ta\tcuriosidade."
          },
          "metadata": {}
        },
        {
          "output_type": "display_data",
          "data": {
            "text/plain": [
              "<IPython.core.display.Markdown object>"
            ],
            "text/markdown": "### Página 202"
          },
          "metadata": {}
        },
        {
          "output_type": "display_data",
          "data": {
            "text/plain": [
              "<IPython.core.display.Markdown object>"
            ],
            "text/markdown": "Você\tdeixa\tele\tbrincar\tcom\tseus\tseios\taté\tcansar. E\tfica\tlá\timóvel\tfeito\tuma\ttábua\tembaixo\tdele. E\tentão\tchega\ta\tparte\tque\tvocê\tnão\tconsegue\taceitar,\tmas\ttambém\tnão\ttem como\tevitar. E,\tapesar\tde\tsaber\tque\texistem\tpílulas anticoncepcionais,\tvocê\tnão\ttoma,\tporque\tnunca\tprecisou\tdelas\te\tsó\telaborou esse\tplano\tpoucos\tdias\tatrás. Você\tcruza\tos\tdedos\tatrás\tdas\tcostas. Sente\taquele\tcorpo\tpesado\tem\tcima\tdo\tseu,\te\tpercebe\tquando\tele\tacabou. Sente\tvontade\tde\tchorar,\tporque\tlembra\tdo\tque\to\tsexo\tsignificava\tpara\tvocê tempos\tantes. Quando\tainda\tnão\ttinha\tdescoberto\tcomo\tpodia\tser\tbom,\tporque você\tsabia\tdo\tque\tgostava. Afasta\ttudo\to\tmais da\tsua\tcabeça. Você\tpega\tno\tsono\tdepois\tde\tvestir\ta\tcamiseta\tdele\tno\tescuro,\tporque\tnão\tquer dormir\tsem\troupa. De\tmanhã,\tquando\to\tsol\tentra\tpela\tjanela\te\tincomoda\tseus\tolhos,\tvocê\tpõe\tum braço\tem\tcima\tdo\trosto. Mas\tvocê\tjá\testá\tquase\tna\tlinha\tde\tchegada. Você\tse\tvira\tpara\to\tlado. “Sinto\tmuito.” Ele\tdiz:\t“Vamos\tlá,\tlinda”. Talvez\tna\tsegunda\tvez ele\tescute,\tmas\tnão\tdá\tpara\tter\tcerteza. E\tvocê\tnão\tsabe\tse\tquer\tpagar\tpara\tver."
          },
          "metadata": {}
        },
        {
          "output_type": "display_data",
          "data": {
            "text/plain": [
              "<IPython.core.display.Markdown object>"
            ],
            "text/markdown": "### Página 203"
          },
          "metadata": {}
        },
        {
          "output_type": "display_data",
          "data": {
            "text/plain": [
              "<IPython.core.display.Markdown object>"
            ],
            "text/markdown": "Você\ttirou toda\ta\tdiversão\tda\tcoisa. E\tdiz:\t“Você\tnão\té\tnada\tdo\tque\teu imaginava,\tsabia?”. Não\timporta\to\tquanto\tuma\tmulher\tseja\tmaravilhosa\t—\tpara\tum\thomem\tcomo Mick\tRiva,\tela\tsempre\tse\ttorna\tmenos\tatraente\tdepois\tdo\tsexo. Não\tlimpa\tos\trestos\tde\tmaquiagem\tdo rosto. Você\tsó\tobserva\tMick\tindo\tpara\to\tbanheiro. Escuta\to\tsom\tdo\tchuveiro\tsendo ligado. Quando\tsai,\tele\tsenta\tao\tseu\tlado\tna\tcama. Tudo\tisso\ttambém\tfaz\tparte\tda\tpremeditação. Ele\tprecisa\tsentir\tque\to\tpoder\testá\tnas\tmãos\tdele. “Nenhum\tdos\tdois\tfazia\ta\tmenor\tideia\tdo\tque\testava fazendo.” “Pois\té”,\tvocê\tresponde. “Foi\tuma\tloucura.” “Eu\tnão\tsou\tum\tbom\tsujeito,\tlinda”,\tele\tdiz. “Você\tnão\tmerece\tum\tcara\tcomo eu. E\teu\tnão\tmereço\tuma\tgarota\tcomo\tvocê.” Usando\tcom\tvocê\ta\tmesma\tfrase\tque\tusou\tna\timprensa\tao\tse\treferir\tà\tex- mulher\t—\tnão\ttinha\tcomo\tser\tmenos\toriginal\te\tmais\tdescarado! E\tpõe\tum\tpouco\tde sentimento\tna\tvoz,\tdando\ta\timpressão\tde\tque\tvai\tcomeçar\ta\tchorar. Precisa\tfazer isso\tporque\té\tassim\tque\ta\tmaioria\tdas\tmulheres\tse\tcomporta. E\to\tobjetivo\té\tser vista\tcomo\tuma\tmulher\tqualquer,\tuma\tmulher\tque\tnão\testá\tà\taltura\tdele."
          },
          "metadata": {}
        },
        {
          "output_type": "display_data",
          "data": {
            "text/plain": [
              "<IPython.core.display.Markdown object>"
            ],
            "text/markdown": "### Página 204"
          },
          "metadata": {}
        },
        {
          "output_type": "display_data",
          "data": {
            "text/plain": [
              "<IPython.core.display.Markdown object>"
            ],
            "text/markdown": "Acho\tque\ta\tgente\tprecisa\tda anulação.” “Mas,\tMick…” Ele\tte\tinterrompe,\to\tque\té\tirritante,\tporque\tvocê\ttinha\tensaiado\toutras\tfalas também. E\tnesse\tcaso\tnão\ttenho\tcomo\taceitar um\tnão\tcomo\tresposta.” Você\tse\tpergunta\tqual\tdeve\tser\ta\tsensação\tde\tser\thomem,\tde\tter\tessa\tcerteza de\tque\tdeve\tter\tsempre\ta\túltima\tpalavra. Quando\tele\tlevanta\tda\tcama\te\tpega\to\tpaletó,\tvocê\tpercebe\tque\ttinha\tum elemento\ta\tmais\tque\tnão\tlevou\tem\tconta. Ontem\tà\tnoite,\tenquanto\tcalculava\tseus movimentos,\testava\tpensando\tneste\tmomento\ttambém. Então\tvocê\tfaz\tuma\tcoisa\tque\tnão\ttinha\tensaiado. Quando\tele\tchega\tà\tporta\te\tse\tvira\tpara\tdizer:\t“Sinto\tmuito\tque\tas\tcoisas\tnão tenham\tdado\tcerto\tentre\tnós,\tlinda. Mas\tdesejo\ttudo\tde\tbom\tpara\tvocê”,\tvocê pega\to\taparelho\tde\ttelefone\tdo\tcriado-mudo\te\tarremessa\tna\tdireção\tdele. E\tfaz\tisso\tporque\tsabe\tque\tele\tvai\tgostar. Ele\tse\tabaixa\te\tfranze\ta\tcara,\tencarando\tvocê\tcomo\tse\tfosse\tum\tfilhote\tde cervo\tprestes\ta\tser\tabandonado\tna\tfloresta. E\tpensa:\t Se\tessa\tmerda\tpelo\tmenos\trendesse\tum\tOscar …"
          },
          "metadata": {}
        },
        {
          "output_type": "display_data",
          "data": {
            "text/plain": [
              "<IPython.core.display.Markdown object>"
            ],
            "text/markdown": "### Página 205"
          },
          "metadata": {}
        },
        {
          "output_type": "display_data",
          "data": {
            "text/plain": [
              "<IPython.core.display.Markdown object>"
            ],
            "text/markdown": "PhotoMoment 4 \tDE\tDEZEMBRO\tDE\t 1961 RIVA\tE\tHUGO\tPERDEM\tA\tCABEÇA Já\touviu\tfalar\tem\tcasamento\tàs\tpressas? Bom, este\tcaso\tune\to\tmelhor\tdos\tdois\tmundos! A\tbombástica\tEvelyn\tHugo\tfoi\tvista\tno\tcolo\tde\tninguém\tmenos\tque\tseu\tmaior fã\tMick\tRiva\tna\tnoite\tda\túltima\tsexta-feira\tno\tcoração\tde\tLas\tVegas. Carícias,\tbeijos,\tmuita\tbebedeira,\te\tda\tmesa\tde\tapostas\teles\tpartiram direto\tpara…\tuma\t CAPELA ! Evelyn\tHugo\te\tMick\tRiva\tse\tcasaram! E,\tpara\ttornar\ta\thistória\tainda\tmais\tmaluca,\timediatamente\tentraram\tcom\to pedido\tde\tanulação."
          },
          "metadata": {}
        },
        {
          "output_type": "display_data",
          "data": {
            "text/plain": [
              "<IPython.core.display.Markdown object>"
            ],
            "text/markdown": "### Página 206"
          },
          "metadata": {}
        },
        {
          "output_type": "display_data",
          "data": {
            "text/plain": [
              "<IPython.core.display.Markdown object>"
            ],
            "text/markdown": "Ele\tpode\taté\tser\tbom\tde\tcopo,\tmas\tfontes\tpróximas\tgarantem\tque\tEvelyn estava\ttotalmente\tno\tcontrole\taquela\tnoite. A\tpobre\tEvelyn\testá\ttendo\tmuita\tdificuldade\tpara\tencontrar\to\tamor\tdepois\tde ter\tsido\tdeixada\tpor\tDon\t—\tnão\té\tà\ttoa\tque\tse\tjogaria\tnos\tbraços\tdo\tprimeiro bonitão\tque\taparecesse. Estamos\tna\ttorcida\tpara\tque\talgum\tdia\tEvelyn\ttire\ta\tsorte\tgrande."
          },
          "metadata": {}
        },
        {
          "output_type": "display_data",
          "data": {
            "text/plain": [
              "<IPython.core.display.Markdown object>"
            ],
            "text/markdown": "### Página 207"
          },
          "metadata": {}
        },
        {
          "output_type": "display_data",
          "data": {
            "text/plain": [
              "<IPython.core.display.Markdown object>"
            ],
            "text/markdown": "Durante\tdois\tmeses,\tvivi\tnuma\tfelicidade\tquase\tdivina. Celia\tcomprou\tum\tsegundo\tcarro,\tum\tsedã\tmarrom\tdo\tmodelo\tmais\tcomum, que\tpodia\tdeixar\testacionado\tna\tfrente\tda\tminha\tcasa\tsem\tmaiores questionamentos\ttodas\tas\tnoites. Nós\tdormíamos\tagarradinhas,\tapagando\tas luzes\tuma\thora\tantes\tpara\tpodermos\tconversar\tno\tescuro. Eu\ttraçava\tas\tlinhas\tde suas\tmãos\tcom\tos\tdedos\ttodas\tas\tmanhãs\tpara\tacordá-la. No\tmeu\taniversário, ela\tme\tlevou\tao\tPolo\tLounge. Estávamos\tescondidas\tà\tvista\tde\ttodos. Por\tsorte,\to\tmeu\tretrato\tde\tmulher\tque\tnão\tconseguia\tsegurar\tum\tmarido vendia\tmais\tjornais\t—\te\tpor\tmais\ttempo\t—\tdo\tque\to\tmeu\tdesmascaramento. Enquanto\tfizesse\tisso,\tsabia\tque\tos\ttabloides de\tfofoca\tnão\tiam\tse\tinteressar\tpor\tCelia. Até\teu\tdescobrir\tque\testava\tgrávida. Ela\testava\tna\tminha\tpiscina\tcom\tum\tbiquíni de\tbolinhas\tcor\tde\tlavanda\te\tóculos\tescuros."
          },
          "metadata": {}
        },
        {
          "output_type": "display_data",
          "data": {
            "text/plain": [
              "<IPython.core.display.Markdown object>"
            ],
            "text/markdown": "### Página 208"
          },
          "metadata": {}
        },
        {
          "output_type": "display_data",
          "data": {
            "text/plain": [
              "<IPython.core.display.Markdown object>"
            ],
            "text/markdown": "Eu\ttinha\tacabado\tde\ttrazer\tpara\tela\tum\tchá\tgelado\tda\tcozinha. E\ttinha\tcerteza\tdesde\to\tdia\tanterior,\tquando\tfui\ta Burbank\tme\tconsultar\tcom\tum\tmédico\trecomendado\tpor\tHarry,\tque\tsabia manter\ta\tdiscrição. Contei\ttudo\tquando\tela\testava\tna\tpiscina,\te\teu\tsegurando\tum\tchá\tgelado\tcom uma\trodela\tde\tlimão,\tporque\tnão\taguentava\tmais\tguardar\ta\tnotícia. Eu\tsou\te\tsempre\tfui\tuma\tboa\tmentirosa. Eu\tnão\ttinha\tnenhum\tproblema\tem\treconhecer\to\tquanto\thavia\tcustado\tpara\tela e\tpara\tmim\tficarmos\tjuntas,\te\to\tquanto\tcontinuaria\ta\tcustar. Era\tcomo\tum imposto\tsobre\ta\tfelicidade. O\tmundo\tficaria\tcom\tcinquenta\tpor\tcento\tda\tminha alegria. Só\tque\tesconder\tuma\tcoisa\tcomo\taquela\tme\tpareceu\terrado. Mergulhei\tos\tpés\tna\tpiscina\te\ttentei\ttocá-la,\tpara\toferecer\talgum\tconsolo. Esperava\tque\tela\tfosse\tficar\tchateada,\tmas\tnão\tque\tfosse\tatirar\to\tchá\tdo\toutro lado\tda\tpiscina,\tdespedaçando\to\tcopo\tcontra\ta\tborda\te\tespalhando\tuma\tchuva\tde cacos\tde\tvidro\tna\tágua. Também\tnão\tesperava\tque\tela\tfosse\tmergulhar\ta\tcabeça\tna\tpiscina\tpara\tgritar debaixo\td’água. Quando\tvoltou\tà\ttona,\testava\tmolhada\te\tdesalinhada,\tcom\tos\tcabelos\tno\trosto, o\trímel\tescorrendo. Eu\ta\tsegurei\tpelo\tbraço,\tmas\tela\to\tpuxou\tde\tvolta. A\tmágoa\testava\testampada em\tseu\trosto,\te\tfoi\tquando\tme\tdei\tconta\tde\tque\tnunca\tdeixei\t realmente \tclaro para\tCelia\to\tque\tfaria\tcom\tMick\tRiva."
          },
          "metadata": {}
        },
        {
          "output_type": "display_data",
          "data": {
            "text/plain": [
              "<IPython.core.display.Markdown object>"
            ],
            "text/markdown": "### Página 209"
          },
          "metadata": {}
        },
        {
          "output_type": "display_data",
          "data": {
            "text/plain": [
              "<IPython.core.display.Markdown object>"
            ],
            "text/markdown": "molhados\tmarcarem\to\tchão\tde\tcimento\tna\tborda\tda\tpiscina,\te\tdepois\tcriarem pequenas\tpoças\tno\tpiso\tde\tmadeira\tda\tcasa,\te\tdepois\tumedecerem\to\tcarpete quando\tela\tsubiu\ta\tescada. “Isso\tnão\tmuda nada.” Quando\tcheguei\tao\tquarto,\tconstatei\tque\testava\ttrancado. Vamos\tconversar.”\tEu\tme\tencostei\tna\tporta,\tcolando\to rosto\tna\tfresta\testreita\tdo\tbatente,\tna\ttentativa\tde\tdar\tmais\talcance\tà\tminha\tvoz\te facilitar\to\tentendimento\tde\tCelia. “Isso\tnão\té\tvida,\tEvelyn”,\tela\tfalou. Celia\tabriu\ta\tporta\te\tpassou\tpor\tmim. Quase\tcaí,\tporque\ttodo\tmeu\tpeso\testava apoiado\tna\tporta\tque\tela\thavia\tacabado\tde\tescancarar. Mas\tconsegui\tme equilibrar\te\tsegui-la\tpela\tescada. E\tsacrificamos\tmuita\tcoisa\tpor\tisso,\tentão você\tnão\tpode\tdesistir\tagora.” “Posso\tsim”,\tela\tfalou. Não\tquero\tandar\tnum\tcarro\tmarrom\thorrível\tpara\tninguém\tsaber\tque\testou na\tsua\tcasa. Não\tquero\tfingir\tque\testou\tsozinha\tem\tHollywood\tquando\tna prática\tmoro\taqui\tcom\tvocê. E\tcom\tcerteza\tnão\tquero\tamar\tuma\tmulher\tque trepa\tcom\tum\tcantorzinho\tqualquer\tsó\tpara\to\tmundo\tnão\tsaber\tque\tela\tme\tama.” “Você\testá\tdistorcendo\tos\tfatos.” “Você\té\tuma\tcovarde,\te\tnão\tacredito\tque\tnão\tconsegui\tenxergar\tisso\tantes.” “Eu\tfiz\ttudo\tisso\tpor\tvocê!”,\tgritei. Celia\testava\tcom\tuma\tdas\tmãos\tna"
          },
          "metadata": {}
        },
        {
          "output_type": "display_data",
          "data": {
            "text/plain": [
              "<IPython.core.display.Markdown object>"
            ],
            "text/markdown": "### Página 210"
          },
          "metadata": {}
        },
        {
          "output_type": "display_data",
          "data": {
            "text/plain": [
              "<IPython.core.display.Markdown object>"
            ],
            "text/markdown": "“Você\tnão\tfez\tporcaria\tnenhuma\tpor\tmim”,\tela\tretrucou,\tcom\tmanchas vermelhas\tespalhadas\tpelo\tpeito\te\to\trosto\tem\tchamas. Fez\ttudo isso\tpara\tmanter\tseus\tpreciosos\tfãs,\tque\tvão\tao\tcinema\tsó\tpara\tte\tver,\te\tpoder\tdar uma\tespiadinha\tde\ttrês\tsegundos\tnos\tseus\tpeitos. O\tque\tvocê\tacha\tque\tsua\tfamília\tvai\tdizer\tse\ta\tverdade vier\tà\ttona?” Ela\tesbravejou\tquando\tfalei\tisso,\te\tvirou\ta\tmaçaneta\tda\tporta. “O\tque\t nós \tsomos”,\tela\trespondeu,\tvirando\tpara\tmim. “Não\tpense\tque\tvocê\té diferente\tde\tmim.” “Sou,\tsim”,\trebati. “E\tvocê\tsabe\tque\tsim.” “Uma\tova.” “Eu\tposso\tme\tapaixonar\tpor\tum\thomem,\tCelia. Posso\tme\tcasar\tse\tquiser,\tter filhos\te\tser\tfeliz. E\tnós\tduas\tsabemos\tque,\tno\tseu\tcaso,\ta\thistória\té\toutra.” Celia\tme\tencarou,\testreitando\tos\tolhos\te\tfranzindo\tos\tlábios. Então\teu\té\tque\tsou\tdoente,\te\tvocê\testá\tsó\tde brincadeirinha\tcomigo?” Eu\ta\tsegurei,\timediatamente\tarrependida\tdo\tque\ttinha\tfalado. Pronta\tpara dizer\tque\tnão\tera\tnada\tdaquilo. Mas\tela\tpuxou\to\tbraço\tde\tvolta\te\tdisse:\t“Nunca\tmais\tencoste\tem\tmim”. “Se\tnos\tdescobrirem,\tCelia,\tas\tpessoas\tvão\tme\tperdoar. Posso casar\tcom\toutro\tcara\tcomo\tDon,\te\tvão\tesquecer\tque\tte\tconheci. E\teu\tnão\tacho\tque\tvocê seria\tcapaz\tde\tencarar\tnenhuma\tdas\tduas\topções. Não\tsei\tse\ta\tsua\tcarreira\tvoltaria\taos\ttrilhos"
          },
          "metadata": {}
        },
        {
          "output_type": "display_data",
          "data": {
            "text/plain": [
              "<IPython.core.display.Markdown object>"
            ],
            "text/markdown": "### Página 211"
          },
          "metadata": {}
        },
        {
          "output_type": "display_data",
          "data": {
            "text/plain": [
              "<IPython.core.display.Markdown object>"
            ],
            "text/markdown": "—\tou\tsua\tvida\t—\tse\teu\tnão\tfizesse\t alguma\tcoisa . “Pelo\tvisto,\tvocê\tsabe\tdar\tum\tjeito\tem qualquer\tsituação,\tné?” “Sim”,\trespondi,\tsem\tentender\tao\tcerto\tpor\tque\tela\tconsiderava\tisso\tuma ofensa. Deixa\tos\thomens\tte\tusarem\tem\ttroca\tde fama. E\té\tpor\tisso\tque\testou\tte\tlargando.” Ela\tsaiu\tsem\tao\tmenos\tolhar\tpara\tmim. Fui\tatrás\tdela\te\tfiquei\tlá\tde\tpé, paralisada,\tao\tlado\tdo\tcarro. Ela\tjogou\ta\tmala\tno\tassento\tdo\tpassageiro. Em\tseguida\tabriu\ta\tporta\tdo motorista\te\tse\tvirou\tpara\tmim,\tde\tpé. “Pensava\tque\tas\tpessoas\testavam\tno\tmundo\tpara\tencontrar umas\tàs\toutras,\te\tque\to\tpropósito\tda\tminha\tvida\tera\tencontrar\tvocê. Mas não\tacredito\tmais\tnisso.”\tEla\tenxugou\tos\tolhos. “Porque\tse\ta\tpessoa\tcerta\tpara mim \t é \t alguém\tcomo\tvocê,\teu\tprefiro\ta\tsolidão.” Uma\tdor\tquente\tse\tespalhou\tpelo\tmeu\tcorpo,\tcomo\tse\ttivesse\tágua\tfervendo no\tmeu\tcoração. Você\tnão\té\tmesmo\ta\tpessoa\tcerta\tpara alguém\tcomo\teu”,\tacabei\trespondendo. Mas\tpensei\tque\tvocê\tpelo\tmenos\tteria\ta"
          },
          "metadata": {}
        },
        {
          "output_type": "display_data",
          "data": {
            "text/plain": [
              "<IPython.core.display.Markdown object>"
            ],
            "text/markdown": "### Página 212"
          },
          "metadata": {}
        },
        {
          "output_type": "display_data",
          "data": {
            "text/plain": [
              "<IPython.core.display.Markdown object>"
            ],
            "text/markdown": "Mas\tem\tvez\tdisso\tprefere\tbancar\ta\tsuperior\to tempo\ttodo. Ora,\tpois\tque\ttente\tentão\tfazer\tisso\tsem\tninguém\ttrabalhando\tnas trincheiras\tpara\tte\tproteger.” O\trosto\tde\tCelia\tcontinuou\timpassível,\tparalisado. Não\tparecia\tter\touvido uma\tpalavra\tdo\tque\teu\tdisse. “Acho\tque\tna\tverdade\tnão\tfazemos\tbem\tuma\tpara a\toutra”,\tela\tdisse,\tentrando\tno\tcarro. Só\tnesse\tmomento,\tquando\tela\tpôs\tas\tmãos\tno\tvolante,\tpercebi\tde\tfato\to\tque estava\tacontecendo,\tque\tnão\tera\tsó\tuma\tbriga. Era\t a \tbriga\tque\tencerraria\tnossa relação. “Adeus,\tEvelyn”,\tela\tdisse\tno\túltimo\tminuto. Então\tpôs\to carro\tem\tmovimento\te\tdesapareceu\tpela\trua. Três\tdias\tdepois,\tele\tfoi\tde\tcarro\tcomigo\tpara\tTijuana,\tonde\tninguém\tfaria perguntas\tincômodas. Foram\tmomentos\tem\tque\tfiz\tde\ttudo\tpara\tnão\testar\tcom\ta mente\tativa,\tpara\tnão\tprecisar\tesquecer\ttudo\tdepois. Me\tsenti\taliviada\tao\tvoltar para\to\tcarro\tdepois\tdo\tprocedimento,\tpor\tser\ttão\tboa\tnessas\tcoisas\tde compartimentalização\te\tdesassociação. Mesmo\tassim\tchorei\to\ttempo\ttodo\tno\tcaminho\tde\tvolta,\tenquanto\tHarry dirigia\taté\tSan\tDiego\te\tdepois\tsubia\tpela\tcosta\tda\tCalifórnia. Chorei\tporque\tprecisava começar\ta\tgravar\t Anna\tKariênina \tna\tsegunda-feira\te\tnão\tqueria\tsaber\tnem\tde"
          },
          "metadata": {}
        },
        {
          "output_type": "display_data",
          "data": {
            "text/plain": [
              "<IPython.core.display.Markdown object>"
            ],
            "text/markdown": "### Página 213"
          },
          "metadata": {}
        },
        {
          "output_type": "display_data",
          "data": {
            "text/plain": [
              "<IPython.core.display.Markdown object>"
            ],
            "text/markdown": "E,\tna\tsaída\tda\tSan\tDiego\tFreeway,\tfiz\tpara\tHarry\ta\tpergunta\tque\tvinha\tme assombrando\tfazia\tdias. “Você\tacha\tque\teu\tsou\tuma\tvagabunda?” Harry\tparou\tno\tacostamento\te\tvirou\tpara\tmim. E\tacho\tque\t‘vagabunda’\té\ta\tpalavra\tque\tos\tignorantes\tusam\tquando estão\tsem\targumentos.” Enquanto\to\touvia,\teu\tvirei\tpara\tolhar\tpela\tminha\tjanela. Imagine\tse\ttodas\tas\tmulheres\tsolteiras\tdo\tplaneta\texigissem\talguma\tcoisa\tem troca\tde\tseus\tcorpos. Só\thomens\tcomo\teu\tteriam\talguma\tchance\tcontra\tvocês. E\tisso\té\ta última\tcoisa\tque\tesses\tcretinos\tquerem:\tum\tmundo\tcomandado\tpor\tgente\tcomo eu\te\tvocê.” Eu\tdei\trisada,\tcom\tos\tolhos\tainda\tinchados\te\tcansados\tde\ttanto\tchorar. “Então eu\tsou\tvagabunda\tou\tnão?” “Quem\té\tque\tpode\tjulgar?”,\tele\tdisse. Existe\tum\tmotivo\tpara\tela ser\tCelia\t Saint \tJames,\tcompreende? Ela\tdesempenha\tesse\tpapel\tde\tboa\tmoça\thá anos. Mas\teu\tgosto\tde\tvocê\tcomo\té. Gosto\tdo\tfato de\tser\timpura,\tcompetitiva,\tdura\tna\tqueda. Gosto\tda\tEvelyn\tHugo\tque\tvê\to mundo\tdo\tjeito\tque\to\tmundo\té,\te\tparte\tpara\ta\tbriga\tpara\tconseguir\to\tque\tquer. Então\tpode\tpôr\to\trótulo\tque\tquiser\tnisso,\tsó\tnão\tmude,\tcerto? Isso,\tsim,\tseria uma\ttragédia.” Quando\tchegamos\tà\tminha\tcasa,\tHarry\tme\tpôs\tna\tcama,\tdesceu\tpara\ta cozinha\te\tpreparou\tmeu\tjantar."
          },
          "metadata": {}
        },
        {
          "output_type": "display_data",
          "data": {
            "text/plain": [
              "<IPython.core.display.Markdown object>"
            ],
            "text/markdown": "### Página 214"
          },
          "metadata": {}
        },
        {
          "output_type": "display_data",
          "data": {
            "text/plain": [
              "<IPython.core.display.Markdown object>"
            ],
            "text/markdown": "Nessa\tnoite,\tele\tdormiu\tna\tcama\tao\tmeu\tlado\te,\tquando\tacordei,\tele\testava abrindo\tas\tpersianas. Fiquei\tcinco\tanos\tsem\tfalar\tcom\tCelia. E eu\tnão\tconsegui\tcriar\tcoragem\tpara\tprocurá-la. Mas\tnaquela\tprimeira\tmanhã,\tquando\to\tsol\tbateu\tno meu\trosto\te\teu\tainda\testava\texausta\tpor\tcausa\tda\tviagem\tao\tMéxico,\tconsegui me\tsentir\tbem. Pela\tprimeira\tvez\tem\tmuito\ttempo,\tsenti\tque tinha\tuma\tfamília. A\tpessoa\tsó\tpercebe\tcomo\testá\tse\tesfalfando,\tcomo\testá\tse\tmatando\tde trabalhar,\tcomo\testá\texausta,\tquando\talguém\taparece\te\tdiz:\t“Tudo\tbem,\tse\tvocê desabar,\teu\tte\tseguro”."
          },
          "metadata": {}
        },
        {
          "output_type": "display_data",
          "data": {
            "text/plain": [
              "<IPython.core.display.Markdown object>"
            ],
            "text/markdown": "### Página 215"
          },
          "metadata": {}
        },
        {
          "output_type": "display_data",
          "data": {
            "text/plain": [
              "<IPython.core.display.Markdown object>"
            ],
            "text/markdown": "“Você\te\tCelia\tnão\tmantiveram\tnenhum\ttipo\tde\tcontato?”,\tpergunto. Ela\tlevanta,\tvai\taté\ta\tjanela\te\tabre\tuma fresta. “Fazia\tquanto\ttempo\tque\tvocês\testavam\tjuntas\ta\tessa\taltura?” “Uns\ttrês\tanos?”,\tdiz\tEvelyn. “É,\tacho\tque\tpor\taí.” “E\tela\tsimplesmente\tfoi\tembora? “Eu…\tNa\tépoca\teu\tainda\tnão\tsabia\tque\té\tnormal\ta gente\tse\thumilhar\tpor\tuma\tcoisa\tque\tdeseja\tmuito. Quer dizer,\tclaro\tque\tcontinuei\tme\tdivertindo\tpor\taí. Mas\tCelia deixou\tde\tfazer\tparte\tda\tminha\tvida. Eu\tlia\ta\t Sub\tRosa \tquando\tsaía\tuma\tfoto\tde Celia,\tpara\tobservar\tas\toutras\tpessoas\tna\timagem,\ttentando\tentender\tquem\teram, de\tonde\tse\tconheciam,\to\tque\tsignificavam\tpara\tela. Hoje\tentendo\tque\tela\tficou tão\tmal\tquanto\teu. Mas,\tna\tépoca,\tresolvi\tsofrer\tsozinha.” “Você\tse\tarrepende\tpor\tnão\tter\tligado?”,\tquestiono. “Por\tter\tperdido\ttanto tempo?” Evelyn\tme\tencara\tcomo\tse\teu\tfosse\tuma\tidiota."
          },
          "metadata": {}
        },
        {
          "output_type": "display_data",
          "data": {
            "text/plain": [
              "<IPython.core.display.Markdown object>"
            ],
            "text/markdown": "### Página 216"
          },
          "metadata": {}
        },
        {
          "output_type": "display_data",
          "data": {
            "text/plain": [
              "<IPython.core.display.Markdown object>"
            ],
            "text/markdown": "simplesmente\tligar,\tpedir\tdesculpas\te\tdizer\tque\ta\tquero\tde\tvolta. Então,\tsim,\tMonique,\té\tum\tarrependimento\tque\ttenho. Me\tarrependo\tde cada\tsegundo\tque\tnão\tpassei\tcom\tela. Me\tarrependo\tde\tcada\tidiotice\tminha\tque a\tfez\tsofrer. Eu\tdeveria\tter\tcorrido\tatrás\tdo\tcarro\tpela\trua\tno\tdia\tem\tque\tela\tfoi embora. Deveria\tter\tme\tdesculpado,\te\tmandado\tflores,\te\tsubido\tno\tletreiro\tde Hollywood\tpara\tgritar:\t‘Eu\tsou\tapaixonada\tpor\tCelia\tSt. James!’,\te\tdeixar\tque me\tcrucificassem\tpor\tisso. E,\tagora\tque\testou\tsem ela,\tcom\tmais\tdinheiro\tdo\tque\ttempo\tpara\tgastar,\tcom\tmeu\tnome\tcarimbado\tna história\tdo\tcinema,\tpercebo\to\tquanto\tisso\té\tvazio,\te\tme\ttorturo\tpor\tter\tescolhido isso\tem\tvez\tde\tme\torgulhar\tdo\tmeu\tamor. Só\tquem\té\trico\te famoso\tpode\tfazer\tisso. Concluir\tque\to\tdinheiro\te\ta\tfama,\tdepois\tde\tobtidos,\tnão valem\tnada. Na\tépoca,\teu\tainda\tachava\tque\ttinha\ttodo\to\ttempo\tdo\tmundo\tpara conquistar\to\tque\tquisesse. “Eu\ttinha\t certeza \tde\tque\tela\tia\tvoltar”,\tcorrige\tEvelyn. Olho\trapidamente\tpara\ta\ttela\te\tvejo\tseu\tnome. “Então\tvocê\tsabia\tque\tela\tia\tvoltar,\tmas\tcasou\tcom\tRex\tNorth\tmesmo assim?”,\tperguntei,\trecuperando\ta\tconcentração. Evelyn\tbaixa\ta\tcabeça\tpor\tum\tinstante,\tpreparando-se\tpara\tuma\texplicação. “ Anna\tKariênina \testava\tcom\to\torçamento\tpara\tlá\tde\testourado."
          },
          "metadata": {}
        },
        {
          "output_type": "display_data",
          "data": {
            "text/plain": [
              "<IPython.core.display.Markdown object>"
            ],
            "text/markdown": "### Página 217"
          },
          "metadata": {}
        },
        {
          "output_type": "display_data",
          "data": {
            "text/plain": [
              "<IPython.core.display.Markdown object>"
            ],
            "text/markdown": "Era\to\tprimeiro\tfilme\tdele\tapós\tsair\tdo\tSunset. Se\tfosse um\tfracasso,\tseria\tdifícil\tpara\tele\tencontrar\talguma\tporta\taberta\tna\tcidade.” “E\tcom\tvocê? Já\ttinha\tressurgido\tdas\tcinzas\tmais\tde\tuma\tvez\tàquela altura. Então\tfiz\ta\túnica\tcoisa\tque\tpoderia despertar\tinteresse\tnas\tpessoas\tpara\tver\to\tfilme."
          },
          "metadata": {}
        },
        {
          "output_type": "display_data",
          "data": {
            "text/plain": [
              "<IPython.core.display.Markdown object>"
            ],
            "text/markdown": "### Página 218"
          },
          "metadata": {}
        },
        {
          "output_type": "display_data",
          "data": {
            "text/plain": [
              "<IPython.core.display.Markdown object>"
            ],
            "text/markdown": "O\tESPERTO Rex\tNorth"
          },
          "metadata": {}
        },
        {
          "output_type": "display_data",
          "data": {
            "text/plain": [
              "<IPython.core.display.Markdown object>"
            ],
            "text/markdown": "### Página 219"
          },
          "metadata": {}
        },
        {
          "output_type": "display_data",
          "data": {
            "text/plain": [
              "<IPython.core.display.Markdown object>"
            ],
            "text/markdown": "Existe\tuma\tcerta\tliberdade\tem\tpoder\tcasar\tcom\tum\thomem\tsem\tprecisar esconder\tnada. Se\tfosse\tem\tum\toutro\tmomento\tda\tnossa\tvida,\tpoderia\tter\tdado\tcerto\t— quem\tsabe. Mas,\tnaquele\tcontexto,\tRex\te\teu\ttínhamos\tum\trelacionamento baseado\tapenas\tnos\tnúmeros\tda\tbilheteria. Também\tfoi\to\tque\ttrouxe\tCelia\tde\tvolta\tpara\tmim. E\tfoi\tum\tdos\tacordos\tmais\thonestos\tque\tjá\tfiz\tcom\talguém. Ele\testava\tsentado\tna\tminha\tsala,\tcom\tas\tpernas\tcruzadas\tcasualmente, bebendo\tum\tmanhattan. E\tos\tcabelos\tloiros lambidos\tpara\ttrás,\to\tque\ttornava\tseus\tolhos\tainda\tmais\tazuis,\tsem\tnada\tno caminho\tdistraindo\tnossa\tatenção. Rex\tera\tum\tcara\ttão\tlindo\tque\tchegava\ta\tser\tmaçante. E,\tquando\tsorria,\ttodas as\tmeninas\tao\tredor\tpareciam\tprestes\ta\tdesmaiar. Dentes\tperfeitos,\tduas covinhas,\tuma\tsobrancelha\tlevemente\tarqueada,\te\testava\ttodo\tmundo\tcaidinho."
          },
          "metadata": {}
        },
        {
          "output_type": "display_data",
          "data": {
            "text/plain": [
              "<IPython.core.display.Markdown object>"
            ],
            "text/markdown": "### Página 220"
          },
          "metadata": {}
        },
        {
          "output_type": "display_data",
          "data": {
            "text/plain": [
              "<IPython.core.display.Markdown object>"
            ],
            "text/markdown": "Era\tum\tídolo\tdas\tmatinês\tcom\tmotivação\tde\tsobra\tpara\tmostrar\tque\tsabia atuar. Anna\tKariênina \tera\tsua\tchance\tde\tser\tlevado\ta\tsério. Rex\tera\tpragmático,\tnão\tlevava\tas\tcoisas\tpara\to\tlado\tpessoal. Pensava\tsempre dez\tpassos\tadiante,\te\tnunca\tdeixava\ttransparecer\to\tque\ttinha\tem\tmente. “Não\tposso garantir\tque\tnunca\tvamos\tdormir\tjuntos”,\tfalei. Talvez\tme\tdeixe\tlevar\tpor\tseu\tcharme\tuma\tvez\tou\toutra.” Rex\tdeu\trisada. Ele\tsempre\tpareceu\tum\ttipo\tindiferente,\tque\tnão\tse\tdeixa levar\tpor\tprovocações\tde\tjeito\tnenhum,\tpor\tmais\tque\ta\toutra\tparte\tse\tesforce. “Enfim,\tvocê\tpode\tme\tgarantir\tque\tnunca\tvai\tse\tapaixonar\tpor\tmim?”, perguntei. “E\tse\tacabar\tquerendo\tque\to\tcasamento\tseja\tde\tverdade? Isso\tseria constrangedor\tpara\ttodo\tmundo.” “Bom,\tse\texiste\talguém\tno\tmundo\tcapaz\tdisso,\tfaz\tsentido\tque\tseja\tEvelyn Hugo. “Sempre existe\tuma\tchance.”\tPeguei\tmeu\tgibson\tda\tmesinha\tde\tcentro\te\tdei\tum\tgole. “Me\tdiz\tuma\tcoisa,\tonde\ta\tgente\tiria\tmorar?” “Boa\tpergunta.” “Minha\tcasa\tfica\tem\tBird\tStreets,\te\ttem\tjanelões\tdo\tchão\taté\to\tteto. “Não\tme\tincomodo\tde\tmorar\tum\ttempo\tcom\tvocê. Vou começar\tum\tfilme\tnovo\tdaqui\ta\tum\tmês\te\tpouco\tna\tColumbia,\te\tsua\tcasa\tfica mais\tperto\tde\tlá,\tinclusive."
          },
          "metadata": {}
        },
        {
          "output_type": "display_data",
          "data": {
            "text/plain": [
              "<IPython.core.display.Markdown object>"
            ],
            "text/markdown": "### Página 221"
          },
          "metadata": {}
        },
        {
          "output_type": "display_data",
          "data": {
            "text/plain": [
              "<IPython.core.display.Markdown object>"
            ],
            "text/markdown": "Afinal,\tnão\ttinha\tmais\tninguém\tpara\tesconder\tno\tmeu\tquarto. Luisa\tera\tde\tEl Salvador,\te\tsó\talguns\tanos\tmais\tnova\tque\teu. No\tprimeiro\tdia\tem\tque\ttrabalhou na\tminha\tcasa,\tela\tfoi\tconversar\tcom\ta\tmãe\tao\ttelefone\tna\thora\tdo\talmoço. Luisa\tarregalou\tos\tolhos,\tdesligou\to\ttelefone\te\trespondeu:\t“ Lo\tsiento. Fazia\tanos\tque\teu\tsó\tme\texpressava\tem\tinglês. Ela\tme\tolhou\tcomo\tse\teu\tfosse\tum\tquadro\tna\tparede\ta\tser\tinterpretado,\tentão disse\tem\ttom\tde\tquem\tpede\tdesculpas:\t“Você\tnão\tparece\tcubana”. Fiquei\tsentada\tà\tmesa\tpor\tno\tmínimo\tmeia\thora,\tfuriosa. Não conseguia\tparar\tde\tpensar:\t Como\tela\tousa\ttentar\tnegar\tminha\tidentidade? Percebi\tentão\tque\tquem\ttinha\tousado\tnegar\tminha\tidentidade\tnão\tfora Luisa,\te\tsim\teu\tmesma. Eisenhower\tjá\ttinha\tdecretado\to\tembargo econômico\tàquela\taltura. Ser descendente\tde\tcubanos\tnos\tEstados\tUnidos\tnão\tera\tfácil. E\tem\tvez\tde\ttentar\tme virar\tno\tmundo\tcom\tminha\therança\tcubana,\tsimplesmente\tescondi\tminhas raízes. De\tcerta\tforma,\tisso\tme\tajudou\ta\tcortar\tos\tlaços\tque\tainda\ttinha\tcom\to meu\tpai. Minha\tmãe,\tpor\tquem\tvinha fazendo\ttudo\taquilo,\taté\tcerto\tponto."
          },
          "metadata": {}
        },
        {
          "output_type": "display_data",
          "data": {
            "text/plain": [
              "<IPython.core.display.Markdown object>"
            ],
            "text/markdown": "### Página 222"
          },
          "metadata": {}
        },
        {
          "output_type": "display_data",
          "data": {
            "text/plain": [
              "<IPython.core.display.Markdown object>"
            ],
            "text/markdown": "Então\tme\tdei\tconta\tde\tque\tnão\ttinha\to\tdireito\tde\tme\tirritar\tcom ela\tpor\tisso. Quando\tLuisa\tfoi\tembora\tnaquela\tnoite,\tdeu\tpara\tperceber\tque\testava\tbem constrangida. Então\tabri\tum\tsorriso\te\tfiz\tquestão\tde\tmostrar\tque\tqueria\tque\tela voltasse\tno\tdia\tseguinte. Tinha vergonha,\tminha\tdeslealdade\tme\tdeixava\tinsegura. Mas\tela\tfalava\talgumas coisas\tde\tquando\tem\tquando,\te\teu\tsorria\tquando\ta\touvia\tconversar\tem\ttom\tbem- humorado\tcom\ta\tmãe\tao\ttelefone. Ela\tera\tLuisa\tJimenez\tcom\torgulho. Foi\ta\tprimeira\tempregada\tque\teu\trealmente\testimava. E\tnão\tia\tmudar\tde\tcasa sem\tela. “Com\tcerteza\tela\tdeve\tser\tótima”,\tRex\tfalou. Agora, pensando\tem\ttermos\tpráticos,\tvamos\tdormir\tna\tmesma\tcama?” “Duvido\tque\tseja\tnecessário. Vamos\tdar\tfestas\tde\ttempos\tem\ttempos\te\tfazer\tparecer\tque\tdividimos\tum quarto.” “E\teu\tainda\tposso…\tfazer\tminhas\tcoisas?” “Você\tainda\tpode\tdormir\tcom\ttodas\tas\tmulheres\tdo\tplaneta,\tclaro.” “Menos\tcom\ta\tminha\tprópria\tesposa”,\tRex\tfalou,\tsorrindo\te\tdando\toutro\tgole na\tbebida. “Contanto\tque\tnão\tseja\tflagrado.” Rex\tfez\tum\tgesto\tcom\ta\tmão,\tcomo\tse\teu\tnão\ttivesse\tque\tme\tpreocupar\tcom aquilo. Ele\tfoi\tmais\tsincero\tsobre\tisso\tdo\tque sobre\tqualquer\toutra\tcoisa,\ttalvez\tse\tempenhando\tmais\tdo\tque\tem\tqualquer\tcena"
          },
          "metadata": {}
        },
        {
          "output_type": "display_data",
          "data": {
            "text/plain": [
              "<IPython.core.display.Markdown object>"
            ],
            "text/markdown": "### Página 223"
          },
          "metadata": {}
        },
        {
          "output_type": "display_data",
          "data": {
            "text/plain": [
              "<IPython.core.display.Markdown object>"
            ],
            "text/markdown": "Não\tvou\tcriar\tproblemas\tpara\tsua\tvida. Eu\tte\tprometo.” Rex\testendeu\to\tbraço,\te\tselamos\tum\taperto\tde\tmão. “Bom,\tacho\tque\tpreciso\tir”,\tele\tfalou,\tconferindo\to\trelógio. “Vou\tsair\tcom uma\tsenhorita\tespecialmente\tanimada\thoje,\te\tnão\tquero\tdeixá-la\tesperando.”\tEle abotoou\to\tpaletó,\tenquanto\teu\tme\tlevantava. “Quando\tvamos\toficializar\tos laços?”,\tele\tperguntou. “Acho\tque\tprecisamos\tser\tvistos\tjuntos\tpela\tcidade\tnas\tpróximas\tsemanas. Harry\tsugeriu\tque\to\tcasamento\tpoderia\tser\tduas\tsemanas\tantes\tda estreia\tnos\tcinemas.” “Para\tchocar\ttodo\tmundo.” “E\tlançar\tholofotes\tsobre\to\tfilme.” “O\tfato\tde\teu\tser\tVrónski\te\tvocê\tser\tAnna…” “Vai\tfazer\tuma\trelação\tmalvista\tparecer\tlegitimada\tpelo\tnosso\tcasamento.” “É\tao\tmesmo\ttempo\tjogar\tsujo\te\tjogar\tlimpo”,\tRex\tcomentou. Toda\tvez.” Eu\to\tacompanhei\taté\ta\tporta\tda\tfrente\te\tme\tdespedi\tcom\tum\tabraço. Antes\tde ir\tembora,\tele\tperguntou:\t“Você\tviu\ta\túltima\tversão? “Mas\ttem\tquase\ttrês\thoras\tde\tduração. Se quisermos\tque\tas\tpessoas\tcomprem\tingressos…” “Precisamos\tdar\tum\tbelo\tshow”,\tele\tdisse. Eu\te\tvocê?” “Vamos\tser\tum\testouro.”"
          },
          "metadata": {}
        },
        {
          "output_type": "display_data",
          "data": {
            "text/plain": [
              "<IPython.core.display.Markdown object>"
            ],
            "text/markdown": "### Página 224"
          },
          "metadata": {}
        },
        {
          "output_type": "display_data",
          "data": {
            "text/plain": [
              "<IPython.core.display.Markdown object>"
            ],
            "text/markdown": "Os\tdois\tse\tconheceram\tdurante\tas\tfilmagens\tdo\tlonga\t Anna\tKariênina \te\t— dizem\t—\tse\tapaixonaram\tlogo\tde\tcara;\tnão\tconseguiam\tmanter\tas\tmãos\tlonge um\tdo\toutro\tnem\tdurante\tos\tensaios. Os\tdois\tpombinhos\tloiros\tcom\tcerteza\tvão lotar\tos\tcinemas\tnas\tpróximas\tsemanas\tnos\tpapéis\tde\tAnna\te\tdo\tconde\tVrónski. Um\tde\tseus\tfamosos\tex-maridos,\tDon\tAdler,\teste\tano está\tenfrentando\to\tsegundo\tdivórcio,\tdessa\tvez\tda\testrela\tde\t Três\té\tmelhor \tRuby Reilly. Com\tum\tlançamento\tpela\tfrente,\tuma\tcerimônia\tde\tcasamento\trepleta\tde celebridades\te\tduas\tmansões\tà\tdisposição,\tcom\tcerteza\tEvelyn\te\tRex\testão vivendo\tum\tgrande\tmomento."
          },
          "metadata": {}
        },
        {
          "output_type": "display_data",
          "data": {
            "text/plain": [
              "<IPython.core.display.Markdown object>"
            ],
            "text/markdown": "### Página 225"
          },
          "metadata": {}
        },
        {
          "output_type": "display_data",
          "data": {
            "text/plain": [
              "<IPython.core.display.Markdown object>"
            ],
            "text/markdown": "E\tagora\tela\ttem\tainda\tmais\ta\tcelebrar,\tporque\tencontrou\tseu\tamor\tno\ttime ofensivo\tdos\tNew\tYork\tGiants,\to\tquarterback\tJohn\tBraverman. Esperamos\tque\tCelia\tse\ttorne\tum\tamuleto\tda\tsorte\tpara\tBraverman. Afinal,\ta aliança\tde\tbrilhante\tcom\tuma\tpedra\tenorme\tem\tseu\tdedo\tmostra\to\tquanto\tela\té sortuda!"
          },
          "metadata": {}
        },
        {
          "output_type": "display_data",
          "data": {
            "text/plain": [
              "<IPython.core.display.Markdown object>"
            ],
            "text/markdown": "### Página 226"
          },
          "metadata": {}
        },
        {
          "output_type": "display_data",
          "data": {
            "text/plain": [
              "<IPython.core.display.Markdown object>"
            ],
            "text/markdown": "Com\tcríticas\telogiosas\ta\tEvelyn\tHugo\te\tRex\tNorth,\to\tcomparecimento\tem massa\tdo\tpúblico\tnão\tfoi\tnenhuma\tsurpresa. Com\tatuações\tde\tprimeiríssima linha\te\ta\tquímica\tdo\tcasal\tna\ttela\te\tfora\tdela,\to\tentusiasmo\tcom\to\tfilme\tvirou uma\tverdadeira\tfebre. Como\tprodutora\tdo\tfilme,\tEvelyn\ttem\tdireito\ta\tuma\talta\tporcentagem\tda bilheteria."
          },
          "metadata": {}
        },
        {
          "output_type": "display_data",
          "data": {
            "text/plain": [
              "<IPython.core.display.Markdown object>"
            ],
            "text/markdown": "### Página 227"
          },
          "metadata": {}
        },
        {
          "output_type": "display_data",
          "data": {
            "text/plain": [
              "<IPython.core.display.Markdown object>"
            ],
            "text/markdown": "Na\tnoite\tda\tentrega\tdo\tOscar,\tRex\te\teu\tsentamos\tlado\ta\tlado,\tde\tmãos\tdadas, permitindo\ta\tquem\tquisesse\tver\tum\tvislumbre\tdo\tcasamento\tromântico\tque encenávamos\tpela\tcidade. Nós\tdois\tsorrimos\teducadamente\tao\ttomarmos\tconhecimento\tda\tnossa derrota,\taplaudindo\tos\tvencedores\tcom\telegância. Celia\tnão\tfoi\tà\tpremiação\tnaquele\tano\te,\tapesar\tde\tter\tprocurado\tpor\tela\tem todas\tas\tfestas\ta\tque\tRex\te\teu\tcomparecemos,\tnão\tconsegui\tencontrá-la. Em\tvez disso,\tfiquei\tpasseando\tpela\tcidade\tcom\tRex. Na\tfesta\tda\tagência\tWilliam\tMorris,\tencontrei\tHarry\te\to\tpuxei\tdiscretamente para\tum\tcanto,\tcom\to\tpropósito\tde\tbeber\tchampanhe\te\tconversar\tsobre\to dinheiro\tque\tainda\tíamos\tfazer. Quando\tera\tcriança,\tprocurando\talguma\tcoisa\tpara\tcomer\tno\tmeio\tdo\tarroz velho\te\tdo\tfeijão\tseco\tna\tcozinha\tdo\tapartamento,\teu\tdizia\ta\tmim\tmesma\tque\tse algum\tdia\tpudesse\tfazer\tuma\tboa\trefeição\ttodas\tas\tnoites,\tficaria\tfeliz. Quando\tconsegui\ta\tmansão,\tdisse\ta\tmim\tmesma\tque\tsó\to\tque\tqueria\tera\tter duas\tcasas\te\tuma\tequipe\tde\tempregados."
          },
          "metadata": {}
        },
        {
          "output_type": "display_data",
          "data": {
            "text/plain": [
              "<IPython.core.display.Markdown object>"
            ],
            "text/markdown": "### Página 228"
          },
          "metadata": {}
        },
        {
          "output_type": "display_data",
          "data": {
            "text/plain": [
              "<IPython.core.display.Markdown object>"
            ],
            "text/markdown": "E\tlá\testava\teu,\tcom\tpouco\tmais\tde\tvinte\te\tcinco\tanos,\tjá\tme\tdando\tconta\tde que\tna\tverdade\tnada\tseria\tsuficiente. Rex\te\teu\tchegamos\tpor\tvolta\tdas\tcinco\tda\tmanhã,\tos\tdois\tcaindo\tde\tbêbados. Enquanto\to\tmotorista\tse\tafastava,\tcomecei\ta\tprocurar\tminha\tchave\tde\tcasa,\te Rex\tficou\tparado\tao\tmeu\tlado,\trespirando\tseu\thálito\tazedo\tde\tálcool\tno\tmeu pescoço. “Minha\tesposa\tnão\testá\tencontrando\tas\tchaves!”,\tRex\tfalou,\tcambaleando\tde leve. É\tisso\to\tque\tvão\tfazer,\tminha\tpreciosa\tEvelyn? Vão\tdizer\tque não\tpodemos\tmais\tviver\tna\tBlue\tJay\tWay? Tirei\to\tvestido\tsozinha,\tsem\tpoder\tcontar\tcom\tninguém\tpara\tabrir\to\tzíper\tda parte\tde\ttrás\tpara\tmim. Me\tolhei\tno\tespelho\te\tnotei\tque,\tsem\tdúvida\tnenhuma,\teu\tera\tlinda. Mas\tisso não\tsignificava\tque\ttivesse\talguém\tpara\tme\tamar. E\tsenti\tsaudade\tda mulher\tque\tdeveria\tser\tminha\tesposa. Minha\tmente\tcomeçou\ta\tdivagar\tsobre\to\tfato\tde\tque\tela\tdeveria\testar\tcom John\tBraverman\tnaquele\tmomento. Mas\ttambém\ttemia\tnão\tconhecê-la\ttão\tbem\tquanto\tpensava. As\tlágrimas\tbrotaram\tnos\tmeus\tolhos\tenquanto\teu pensava\tnos\tcabelos\truivos\tque\tcostumavam\tse\tespalhar\tpelo\tmeu\ttravesseiro. Eu\tme\tvirei\te\to\tvi\tparado\tna\tporta. Ele\ttinha\ttirado\to\tpaletó\tdo\tsmoking\te\tsoltado\tas\tabotoaduras."
          },
          "metadata": {}
        },
        {
          "output_type": "display_data",
          "data": {
            "text/plain": [
              "<IPython.core.display.Markdown object>"
            ],
            "text/markdown": "### Página 229"
          },
          "metadata": {}
        },
        {
          "output_type": "display_data",
          "data": {
            "text/plain": [
              "<IPython.core.display.Markdown object>"
            ],
            "text/markdown": "abotoada\tsó\tpela\tmetade,\ta\tgravata\tfrouxa,\tpendurada\tno\tpescoço. Era\tuma\tvisão que\tmilhões\tde\tmulheres\tfariam\tqualquer\tcoisa\tpara\tter. “Pensei\tque\tvocê\ttivesse\tido\tpara\ta\tcama”,\tfalei. “Se\tsoubesse\tque\testava acordado,\tteria\tpedido\tsua\tajuda\tpara\ttirar\tmeu\tvestido.” “Eu\tteria\tadorado.” Fiz\tum\tgesto\tcom\ta\tmão\tpara\tencerrar\to\tassunto. Desse\tjeito,\tsó\tvamos\tacordar\tno\tfim\tda tarde.” “Pense\ta\trespeito,\tEvelyn”,\tele\tdisse. As\tluzes\tque\tentravam\tpela\tjanela iluminavam\tseus\tcabelos\tloiros. “Pensar\tem\tquê?” “Pense\tcomo\tseria.” Ele\tchegou\tmais\tperto\te\tme\tpegou\tpela\tcintura,\trespirando\tno\tmeu\tpescoço. Nós\tperdemos\to\tbrilho\tdepois\tde\tum tempo,\tclaro. Também\tsomos\thumanos,\tcheios\tde\tdefeitos,\tcomo\ttodo\tmundo. Mas\tsomos\tescolhidos\tpara\ta\tfama\tpor\tsermos\tpessoas\textraordinárias. “Acho\tmelhor\tvocê\tvoltar\tpara\to\tseu\tquarto\tantes\tque a\tgente\tfaça\talguma\tcoisa\tde\tque\tvamos\tnos\tarrepender\tamanhã.” “Tem\tcerteza?”,\tele\tperguntou."
          },
          "metadata": {}
        },
        {
          "output_type": "display_data",
          "data": {
            "text/plain": [
              "<IPython.core.display.Markdown object>"
            ],
            "text/markdown": "### Página 230"
          },
          "metadata": {}
        },
        {
          "output_type": "display_data",
          "data": {
            "text/plain": [
              "<IPython.core.display.Markdown object>"
            ],
            "text/markdown": "“Mas\tpense\tcom\tcarinho”,\tele\tdisse,\tsubindo\tas\tmãos\tpelo\tmeu\tcorpo, separado\tdo\tdele\tapenas\tpela\tseda\tda\tcamisola. Se\teu\tpensar\tnisso,\testaremos\tfritos.” “Pense\tnos\tmovimentos\tque\tíamos\tfazer. Começando\tdevagarinho,\tdepois perdendo\to\tcontrole.” “Isso\tfunciona\tcom\tas\toutras?” “Nunca\tprecisei\tfazer\tesforço\tnenhum\tcom\tas\toutras\tmulheres”,\tele\tfalou, beijando\tmeu\tpescoço. Poderia\tter\tdado\tum\ttapa\tno\tseu\trosto,\te\tele poderia\tter\tse\tofendido\te\tme\tdeixado\tem\tpaz. Mas\tainda\tnão\testava\tdisposta\ta abrir\tmão\tdaquilo. Deixei\tque\tele\tbaixasse\tuma\talça\tda\tminha\tcamisola. E\tque\tpassasse\ta\tmão por\tbaixo\tdo\tdecote. “Ah,\tcomo\tseria\tbom\tme\tperder\tem\tvocê”,\tele\tfalou. “Deitar\tna\tcama\te\tsó\tver você\tse\tcontorcer\ttoda\tem\tcima\tde\tmim.” Eu\tquase\tfiz\tisso. Quase\tarranquei\ta\tcamisola\te\tjoguei\tRex\tna\tcama. Mas\tentão\tele\tfalou:\t“Qual\té,\tlinda,\tvocê\tsabe\tque\testá\ta\tfim”. E\tentão\tficou\tclaríssimo\tpara\tmim\ta\tquantidade\tincontável\tde\tvezes\tque\tele\tjá devia\tter\tdito\taquilo\tpara\toutras\tmulheres. “Cai\tfora\tdaqui”,\tfalei,\tmas\tnão\tde\tum\tjeito\tríspido."
          },
          "metadata": {}
        },
        {
          "output_type": "display_data",
          "data": {
            "text/plain": [
              "<IPython.core.display.Markdown object>"
            ],
            "text/markdown": "### Página 231"
          },
          "metadata": {}
        },
        {
          "output_type": "display_data",
          "data": {
            "text/plain": [
              "<IPython.core.display.Markdown object>"
            ],
            "text/markdown": "“Rex,\tvocê\testá\tbêbado,\te\tpelo\tjeito\tme\tconfundindo\tcom\tsuas\tmuitas namoradas,\tmas\teu\tsou\tsua\tesposa”,\tfalei,\tcom\ttoda\ta\tironia\tenvolvida. Pareceu\tter\tficado\tsóbrio\trapidinho,\tcomo se\tos\tolhos\tpesados\tfossem\tsó\tparte\tda\tencenação. Não\tvai\trolar.” Ele\trevirou\tos\tolhos\te\tme\tdeu\tum\tbeijo\tno\trosto. No\tdia\tseguinte,\tacordei\tcom\to\ttelefone\ttocando,\tuma\tressaca\tincrível\te\tsem saber\tmuito\tbem\tonde\té\tque\teu\testava. “Alô?” “Bom\tdia,\tluz\tdo\tdia.” “Harry,\tque\tdiabos…?”\tO\tsol\tparecia\tqueimar\tmeus\tolhos. “Bom,\te\tpor\tRex também.” “Para\tquê?” “Para\tsugerir\tum\tcontrato\tde\ttrês\tfilmes\tcom\tvocê\te\tRex\tcom\ta\tParamount.” “Quê?” “Eles\tquerem\ttrês\tfilmes,\tproduzidos\tpor\tnós,\testrelados\tpor\tvocê\te\tRex. Sam me\tdisse\tpara\testipular\tum\tvalor.” “Estipular\tum\tvalor?”\tQuando\tbebia\tdemais,\teu\tacordava\tno\tdia\tseguinte\tme sentindo\tcomo\tse\testivesse\tdebaixo\td’água. Eu\tprecisava\tme\tcertificar\tde\tque\testava\tentendendo."
          },
          "metadata": {}
        },
        {
          "output_type": "display_data",
          "data": {
            "text/plain": [
              "<IPython.core.display.Markdown object>"
            ],
            "text/markdown": "### Página 232"
          },
          "metadata": {}
        },
        {
          "output_type": "display_data",
          "data": {
            "text/plain": [
              "<IPython.core.display.Markdown object>"
            ],
            "text/markdown": "Podemos\tconseguir\tisso\tpara\tvocê\ttambém.” Se\teu\tqueria\tganhar\ttanto\tquanto\tDon? Queria\treceber\tesse cheque\te\tmandar\tuma\tcópia\tpara\tele,\tjunto\tcom\tuma\tfoto\tminha\tmostrando\to dedo\tdo\tmeio. Acima\tde\ttudo,\tporém,\tqueria\ta\tliberdade\tpara\tfazer\to\tque quisesse. E\tponto- final.” “Você\tnão\testá\tme\tescutando.” “Estou\tescutando\tmuito\tbem”,\trespondi,\tme\tapoiando\tsobre\to\tombro\te trocando\to\ttelefone\tde\tmão. Enquanto\tisso,\tpensei:\t Estou\tcom\tvontade\tde\tdar um\tmergulho\thoje. Vou\tpedir\tpara\tLuisa\tligar\to\taquecedor\tda\tpiscina. O\tfilme que\tvocê\te\tRex\tquiserem,\ta\tParamount\tbanca. E,\tse eu\tentendi\tdireito,\tacho\tque\tSam\tPool\testá\tquerendo\tferrar\tAri\tSullivan. Acho que\tquer\tmostrar\tpara\tAri\to\tque\tele\tdesperdiçou\te\tfaturar\talto\tem\tcima.” “Então\teu\tsou\tum\ttroféu.” “Todo\tmundo\té\tum\ttroféu. Não\tvai\tquerer\tlevar\tas\tcoisas\tpara\to\tlado\tpessoal agora,\tjá\tque\tnunca\tfez\tisso\tantes.” “O\tfilme\tque\ta\tgente\tquiser?” “O\tque\ta\tgente\tquiser.” “Já\tcontou\tpara\to\tRex?” “Acha\tmesmo\tque\teu\tabriria\ta\tboca\tpara\tfalar\talguma\tcoisa\tcom\tesse\tcanalha sem\tdiscutir\tantes\tcom\tvocê?” “Ah,\tele\tnão\té\tum\tcanalha.” “Se\tvocê\ttivesse\tprecisado\tconsolar\tJoy\tNathan\tdepois\tdo\tque\tele\tfez\tcom\tela, não\tdiscordaria\tde\tmim.”"
          },
          "metadata": {}
        },
        {
          "output_type": "display_data",
          "data": {
            "text/plain": [
              "<IPython.core.display.Markdown object>"
            ],
            "text/markdown": "### Página 233"
          },
          "metadata": {}
        },
        {
          "output_type": "display_data",
          "data": {
            "text/plain": [
              "<IPython.core.display.Markdown object>"
            ],
            "text/markdown": "“Harry,\tele\té\tmeu\tmarido.” “Evelyn,\tele\tnão\té,\tnão.” “Você\tnão\tpode\tencontrar\tpelo\tmenos\t um \tmotivo\tpara\tgostar\tdele?” “Ah,\teu\ttenho\tmuitos\tmotivos\tpara\tgostar\tdele. Justo\t você \tdevia\tsaber\tque\tnão\tdá para\tjulgar\to\tverdadeiro\tcaráter\tde\tuma\tpessoa\tquando\tela\tquer\ta\tmesma\tcoisa que\ta\tgente. Principalmente\tporque, se\ta\tgente\tassinar\tesse\tcontrato,\tRex\te\teu\tvamos\tter\tque\tcontinuar\tcasados\tpor um\ttempinho\ta\tmais\tque\to\tcombinado. Isso\tquer\tdizer\tque\tele\tfaz\tparte\tda\tminha família. Então\tvocês\tfazem\tparte\tda\tmesma\tfamília.” “O\tque\tnão\tfalta\tno\tmundo\té\tgente\tque\tnão\tgosta\tda\tfamília.” “Ah,\tpara\tcom\tisso”,\tfalei. “Vamos\tconvencer\tRex\ta\tfechar\to\tnegócio,\tcerto? Depois\tacione\tos\tagentes dos\tdois\tpara\tsacramentar\to\tcontrato. “Sim?” “Você\tentende\to\tque\testá\tacontecendo,\tnão?” “O\tquê?” “Você\testá\tprestes\ta\tse\ttornar\ta\tatriz\tmais\tbem\tpaga\tde\tHollywood.”"
          },
          "metadata": {}
        },
        {
          "output_type": "display_data",
          "data": {
            "text/plain": [
              "<IPython.core.display.Markdown object>"
            ],
            "text/markdown": "### Página 234"
          },
          "metadata": {}
        },
        {
          "output_type": "display_data",
          "data": {
            "text/plain": [
              "<IPython.core.display.Markdown object>"
            ],
            "text/markdown": "Acordávamos\ttodos\tos\tdias\tem\tnossas\tcamas\tseparadas\te\tnos\tarrumávamos em\tlados\topostos\tda\tcasa\tpara\tdepois\tentrarmos\tno\tmesmo\tcarro\tpara\tir\tao estúdio,\tdando\tas\tmãos\tno\tmomento\tem\tque\tcolocávamos\tos\tpés\tlá. Trabalhávamos\to\tdia\ttodo\te\tvoltávamos\tjuntos\tpara\tcasa. Os\tmeus\tquase\tsempre\tenvolviam\tHarry\tou\talguns\tpoucos\tmembros\tdo\telenco da\tParamount\tde\tquem\ttinha\tpassado\ta\tgostar. Ou\tentão\tsaía\tcom\talguém\tde confiança\te\tque\tsabia\tguardar\tsegredo. Enquanto\tfui\tcasada\tcom\tRex,\tnão\tconheci\tninguém\tque\tme\tdesse\tvontade\tde repetir\tum\tencontro. Com\tatores,\tum\tcantor\tde rock,\talguns\thomens\tcasados\t—\tjá\tque\teram\to\tgrupo\tmais\tpropenso\ta\tmanter\tem sigilo\to\tfato\tde\tterem\tido\tpara\ta\tcama\tcom\tuma\testrela\tdo\tcinema. Mas\tforam coisas\tque\tnão\tsignificaram\tnada\tpara\tmim. Num\tsábado,\tele\tapareceu\tna\tcozinha\tenquanto\tLuisa\tme\tpreparava\tuma torrada."
          },
          "metadata": {}
        },
        {
          "output_type": "display_data",
          "data": {
            "text/plain": [
              "<IPython.core.display.Markdown object>"
            ],
            "text/markdown": "### Página 235"
          },
          "metadata": {}
        },
        {
          "output_type": "display_data",
          "data": {
            "text/plain": [
              "<IPython.core.display.Markdown object>"
            ],
            "text/markdown": "Luisa\tserviu\tminha\ttorrada\te\tpôs\ta\tmanteiga\tno\tcentro\tda\tmesa. “Deseja\talguma\tcoisa,\tsr.\tNorth?”,\tela\tperguntou. Rex\tfez\tque\tnão\tcom\ta\tcabeça. “Obrigado,\tLuisa.” E\tentão\tdeu\tpara\tsentir\to\tclima\tficar\tpesado;\tela\tprecisou\tpedir\tlicença\te\tse retirar. “Vou\tcuidar\tda\troupa\tsuja”,\tela\tfalou,\tescapando\tde\tfininho. Pode\tacreditar\tque\teu\tsei muito\tbem\tdisso.” “Por\tquem?” “Joy.” “Joy\tNathan?” “É. Mas,\tpelo\tque\teu\tsoube,\tda\túltima\tvez\tela\tficou arrasada\tpor\tsua\tcausa.” “Bom,\tnão\tdeve\tser\tsurpresa\tpara\tvocê\tque\tno\tpassado\teu\tpossa\tter\tsido\tum pouco…\tdigamos,\tsem\tconsideração.” “Não\té\tsurpresa\tnenhuma\tmesmo.” Rex\tdeu\trisada. “Mas\tcomecei\ta\tsentir\tque\tseria\tbom\tacordar\tao\tlado\tda mesma\tmulher\ttodos\tos\tdias.” “Essa\té\tnova.” “E,\tquando\tpensei\tem\tquem\tpoderia\tser\tessa\tmulher,\tquem\tme\tveio\tà\tmente foi\tJoy. E,\tbom,\tpercebi\tque não\tconsigo\tparar\tde\tpensar\tnela. Que\tquero\tficar\tcom\tela\to\ttempo\ttodo.” “Rex,\tisso\té\tmaravilhoso”,\tfalei. “Ainda\tbem\tque\tvocê\tpensa\tassim.”"
          },
          "metadata": {}
        },
        {
          "output_type": "display_data",
          "data": {
            "text/plain": [
              "<IPython.core.display.Markdown object>"
            ],
            "text/markdown": "### Página 236"
          },
          "metadata": {}
        },
        {
          "output_type": "display_data",
          "data": {
            "text/plain": [
              "<IPython.core.display.Markdown object>"
            ],
            "text/markdown": "“Joy\te\teu\tqueremos\tcasar.” “Certo”,\tfalei,\tjá\tcolocando\tmeu\tcérebro\tem\tação,\tcalculando\to\tmomento ideal\tpara\tanunciar\tnosso\tdivórcio. O\tterceiro,\t Pôr\tdo\tsol\tna Carolina\tdo\tNorte ,\tsobre\tum\tjovem\tcasal\tque\tperde\tuma\tcriança\te\tse\tmuda\tpara uma\tfazenda\tnaquele\testado\tpara\ttentar\tse\trecompor,\te\tque\tacaba\ttendo\tcasos com\tpessoas\tda\tcidadezinha\tpróxima,\testrearia\tdali\ta\talguns\tmeses. Mas\teu\tsabia\tque\to\tfilme\ttinha potencial\tpara\tser\timportante\tna\tminha\tcarreira. “Vamos\tdizer\tque\to\testresse\tda filmagem\tde\t Pôr\tdo\tsol\tna\tCarolina\tdo\tNorte ,\tde\ttrabalharmos\tjuntos\tno\tset beijando\toutras\tpessoas,\tarruinou\tnossa\trelação. Nós\tachamos que\tnão\tprecisávamos\tcultivar\tnosso\trelacionamento,\te\tpagamos\to\tpreço\tdisso. Depois\tde\tum\ttempo,\tpodemos\tplantar\tuma\thistória\tdizendo\tque\teu\tapresentei você\tpara\tJoy\tporque\tsó\tqueria\ta\tsua\tfelicidade.” “É\tuma\tótima\tideia,\tEvelyn,\tde\tverdade”,\tRex\tdisse. Nós\tvamos\tter\tum\tbebê.” Eu\tfechei\tos\tolhos,\tfrustrada. Deixe-me\tpensar.” “E\tse\ta\tgente\tdisser\tque\tjá\tnão\testava\tfeliz\tfazia\tum\ttempinho? Quem\tvai\tquerer\tver\t Pôr\tdo\tsol na\tCarolina\tdo\tNorte \tdepois\tde\tuma\tdeclaração\tdessas?” Harry\tvinha\tme\talertando\tsobre\tisso. Rex\tnão\tligava\tmuito\tpara\t Pôr\tdo\tsol\tna Carolina\tdo\tNorte ,\tpelo\tmenos\tnão\ttanto\tquanto\teu. Dizia\tque\tnão\tvia\tnada\tde especial\tno\tfilme. E,\tmesmo\tque\tnão\tfosse\tesse\to\tcaso,\tno\tmomento\tele\testava mais\tinteressado\tem\tseu\tnovo\tamor,\tem\tseu\tbebê. Ele\tolhou\tpela\tjanela\te\tdepois\tvoltou\tos\tolhos\tpara\tmim."
          },
          "metadata": {}
        },
        {
          "output_type": "display_data",
          "data": {
            "text/plain": [
              "<IPython.core.display.Markdown object>"
            ],
            "text/markdown": "### Página 237"
          },
          "metadata": {}
        },
        {
          "output_type": "display_data",
          "data": {
            "text/plain": [
              "<IPython.core.display.Markdown object>"
            ],
            "text/markdown": "Eu\tdisse\tpara\tJoy\tque\testaríamos\tcasados\tquando\to\tbebê nascer.” Rex\tNorth\tera\tum\tcara\tmuito\tmais\tdecente\tdo\tque\teu\tou\tqualquer\tum imaginava. “Com\tcerteza.” A\tcampainha\ttocou\te,\tum\tinstante\tdepois,\tHarry\tapareceu\tna\tcozinha. “Enquanto\tfazíamos\tum\tfilme\tsobre\ttraições,\tnós\tcomeçamos\ta\tter\tcasos extraconjugais. “As\tpessoas\tsabem\tque\tnós\ttrabalhamos\tjuntos”,\teu\tdisse\tpara\tHarry. Em\ttoda\tfoto\tque\ttiram\tde\tmim,\tlá\testá\tvocê\tao fundo. Elas\tvão\tcomprar\ta\thistória.”\tEu\tme\tvirei\tpara\tRex. Assim\tninguém vai\tpegar\traiva\tde\tvocê\tpor\tter\tme\ttraído\tcom\tJoy,\to\tque\tnão\tdá\tpara\tnegar\tpor razões\tóbvias,\te\ttodo\tmundo\tvai\tachar\tque\tfoi\tum\tcrime\tsem\tvítimas. Porque\teu estava\tfazendo\ta\tmesma\tcoisa.” “Na\tverdade\tnão\té\tuma\tideia\truim”,\tdisse\tRex. “Bom,\tvai\tpegar\tmal\tpara\tnós\tdois”,\tfalei. “Mas\tvai\tajudar\ta\tvender\tingressos”,\tdisse\tHarry. Rex\tsorriu,\tolhou\tbem\tfundo\tnos\tmeus\tolhos,\testendeu\to\tbraço\te\tapertou minha\tmão."
          },
          "metadata": {}
        },
        {
          "output_type": "display_data",
          "data": {
            "text/plain": [
              "<IPython.core.display.Markdown object>"
            ],
            "text/markdown": "### Página 238"
          },
          "metadata": {}
        },
        {
          "output_type": "display_data",
          "data": {
            "text/plain": [
              "<IPython.core.display.Markdown object>"
            ],
            "text/markdown": "“Ninguém\tvai\tacreditar\tnisso”,\tdisse\tHarry\tno\tcaminho\tpara\to\tclube\tde\ttênis naquela\tmanhã. “No\tmáximo\to\tpessoal\tlá\tda\tcidade.” “Como\tassim?” “Você\te\teu. Só\tDeus\tsabe\to\tquanto\ta\tminha\tmãe ficaria\tfeliz. Ela\tainda\testá\tlá,\tem\tChampaign,\tIllinois,\ttorcendo desesperadamente\tpara\tque\teu\tencontre\tuma\tboa\tmoça\te\tconstitua\tfamília. Mas\ttem\tmuita\tgente\tque\tconseguiria\tver\to\tque\texiste por\ttrás\tdessa\tfachada.”\tEle\tme\tolhou\tde\trelance\tenquanto\tdirigia. Flagrados\tcom\ta\tmão\tna\tmassa.” “Não\té\tmais\tfácil\tescolher\toutra\tpessoa\tpara\tisso?”,\tele\trebateu. Pelo\tmenos\tcom\tvocê\teu\testaria\tfingindo\tcom\talguém\tque\tamo\tde verdade.” Harry\tficou\tem\tsilêncio\tpor\tum\tinstante. “Acho\tque\tvocê\tprecisa\tsaber\tde\tuma coisa.” “Vamos\tlá.” “Uma\tcoisa\tque\teu\tjá\tvenho\tpensando\tem\tcontar\tfaz\tum\ttempo.” “Certo,\tentão\tconta.” “Eu\testou\tsaindo\tcom\tJohn\tBraverman.” Meu\tcoração\tdisparou. “O\tJohn\tBraverman\tda\tCelia?” Harry\tconfirmou\tcom\ta\tcabeça."
          },
          "metadata": {}
        },
        {
          "output_type": "display_data",
          "data": {
            "text/plain": [
              "<IPython.core.display.Markdown object>"
            ],
            "text/markdown": "### Página 239"
          },
          "metadata": {}
        },
        {
          "output_type": "display_data",
          "data": {
            "text/plain": [
              "<IPython.core.display.Markdown object>"
            ],
            "text/markdown": "“Há\tquanto\ttempo?” “Algumas\tsemanas.” “Quando\tvocê\tia\tme\tcontar?” “Eu\tnão\tsabia\tse\tdeveria.” “Então\to\tcasamento\tdela\té…” “Uma\tfarsa”,\tHarry\tcompletou. “Eles\tdormem\tem\tcamas\tseparadas.” “Você\tanda\tfalando\tcom\tela?” Harry\tnão\trespondeu\ta\tprincípio. Mas\teu não\tqueria\tsaber\tde\tpalavras\tescolhidas\ta\tdedo. “Ela\tperguntou\tde\tmim?” Embora\tfosse\tdifícil\tviver\tsem\tCelia,\to\tsimples\tato\tde\timaginar\tque\tela\tvivia em\toutro\tmundo\ttornava\tas\tcoisas\t um\tpouco \tmais\tfáceis. Porém\tsaber\tque\tela ainda\torbitava\tao\tmeu\tredor\tfez\ttodos\tos\tmeus\tsentimentos\treprimidos\tvirem\tà tona. Pensei\tem\tfalar\tpara\tHarry\tme\tlevar\tà\tcasa\tdela, me\timaginei\tparada\tna\tporta\tde\tCelia,\tficando\tde\tjoelhos\te\tdizendo\ta\tverdade, que\ta\tvida\tsem\tela\tera\tsó\tvazio\te\tsolidão,\tuma\tcoisa\tsem\tsignificado\tnenhum. Em\tvez\tdisso\tfalei:\t“Quando\tvamos\tfazer\ta\tfoto?”. Para\tparecer\tum\tflagrante\tdo\tnosso\tcaso.” “Pode\tser\tamanhã\tà\tnoite”,\tHarry\tsugeriu."
          },
          "metadata": {}
        },
        {
          "output_type": "display_data",
          "data": {
            "text/plain": [
              "<IPython.core.display.Markdown object>"
            ],
            "text/markdown": "### Página 240"
          },
          "metadata": {}
        },
        {
          "output_type": "display_data",
          "data": {
            "text/plain": [
              "<IPython.core.display.Markdown object>"
            ],
            "text/markdown": "no\talto\tde\talgum\tmorro,\tpara\tos\tfotógrafos\tconseguirem\tpegar\tas\timagens\te mesmo\tassim\tparecer\tque\testamos\tnum\tlugar\tisolado. Ele\testá\tprecisando\tde\tgrana.” Eu\tsacudi\ta\tcabeça. As\trevistas\tde fofoca\tnão\tfazem\tmais\tesse\tjogo. Alguém\tque\tpareça\tmesmo\tter\tmotivos para\t querer \tme\tprejudicar\tjunto\taos\ttabloides.” “Quem?” Balancei\tnegativamente\ta\tcabeça\tno\tmomento\tem\tque\tme\tocorreu\ta\tideia. “Ruby,\té\ta\tEvelyn,\te\testou\tprecisando\tde\tum\tfavor”,\tfalei\tassim\tque\tela atendeu. “Preciso\tque\tvocê\tdê\tuma\tdica\tpara\tuns\tfotógrafos. Que\tvocê\tfale\tque\tme\tviu dando\tuns\tamassos\tdentro\tde\tum\tcarro\tem\tTrousdale\tEstates.” “Quê?”,\tRuby\tquestionou,\tdando\trisada. Você\tjá\ttem\tproblemas\tde sobra.” “Isso\tsignifica\tque\tRex\testá\tprestes\ta\tficar\tsolteiro?”,\tela\tquis\tsaber. “Você\tjá\tnão\tse\tesbaldou\tdemais\tcom\tas\tminhas\tsobras?” “Querida,\tfoi\to\tDon\tque\tveio\tatrás\tde\t mim .” “Não\ttenho\tdúvida.” “O\tmínimo\tque\tvocê\tpodia\tter\tfeito\tera\tme\tavisar”,\tela\tfalou. “Você\tviu\to\tque\tele\tfazia\tpelas\tminhas\tcostas”,\trebati."
          },
          "metadata": {}
        },
        {
          "output_type": "display_data",
          "data": {
            "text/plain": [
              "<IPython.core.display.Markdown object>"
            ],
            "text/markdown": "### Página 241"
          },
          "metadata": {}
        },
        {
          "output_type": "display_data",
          "data": {
            "text/plain": [
              "<IPython.core.display.Markdown object>"
            ],
            "text/markdown": "“Não\testou\tfalando\tdas\ttraições,\tEv”,\tela\tdisse. Foi\tquando\tme\tdei\tconta\tde\tque\tele\ttinha\tbatido\tnela\ttambém. “Conseguiu\tdar\tno\tpé?” “O\tdivórcio\testá\tdecidido. Vou\tme\tmudar\tpara\to\tlitoral,\tcomprei\tuma\tcasa\tem Santa\tMonica.” “Você\tnão\tacha\tque\tele\tvai\tquerer\tsabotar\tsua\tcarreira?” “Ele\ttentou”,\tdisse\tRuby. Os\ttrês\túltimos\tfilmes\tdele mal\tse\tpagaram. E\tnão\tvai\tter\tindicação\tnenhuma\tao\tOscar\tpor\t O\tcaçador noturno ,\tcomo\ttodo\tmundo\tachava. “A\tcoisa\tchegou\ta\tficar feia,\tRuby?” “Nada\tque\tnão\tdesse\tpara\tesconder\tcom\tpancake\te\tmangas\tcompridas.”\tA maneira\tcomo\tela\tdisse\tisso,\tcom\torgulho\tna\tvoz,\tcomo\tse\tadmitir\tque\ttinha\tsido machucada\tfosse\tuma\tvulnerabilidade\tque\tnão\testava\tdisposta\ta\trevelar,\tme deixou\tde\tcoração\tpartido. “Já\tpassamos\tpor\tcoisas demais\tpara\tficar\tde\tfalsidades.” Eu\tdei\trisada. “É\tjusto.” “Quer\tque\teu\tligue\tpara\talguém\tem\tespecial\tamanhã? E\tque\tseja\tambicioso\to\tbastante\tpara querer\tganhar\tdinheiro\tcom\ta\tminha\tdesgraça.” “Bom,\tbasicamente\ttodo\tmundo,\tentão”,\tRuby\tcomentou."
          },
          "metadata": {}
        },
        {
          "output_type": "display_data",
          "data": {
            "text/plain": [
              "<IPython.core.display.Markdown object>"
            ],
            "text/markdown": "### Página 242"
          },
          "metadata": {}
        },
        {
          "output_type": "display_data",
          "data": {
            "text/plain": [
              "<IPython.core.display.Markdown object>"
            ],
            "text/markdown": "E,\tdepois\tque\tfizerem\tisso\tcomigo,\tirão\tatrás\tde\tvocê.” “Se\talguém\tainda\tgosta\tde\tvocê,\tquer\tdizer\tque\tnão\tficou\tfamosa\to suficiente”,\tRuby\tdisse. Boa\tsorte\tcom\to\tseu\tplano,\tseja\tqual for.” “Obrigada”,\trespondi. “Você\testá\tsalvando\ta\tminha\tpele.” Quando\tdesligamos,\teu\tpensei:\t Se\teu\ttivesse\tespalhado\tpara\ttodo\to\tmundo\tas coisas\tque\tele\tfazia\tcomigo,\ttalvez\tnão\ttivesse\tacontecido\tcom\tela. Nunca\tfoi\tminha\tintenção\tfazer\tuma\tlista\tde\tvítimas\tdas\tminhas\tdecisões,\tmas nesse\tmomento\tpercebi\tque,\tse\teu\tfosse\tfazer\tisso,\tteria\tque\tincluir\to\tnome\tde Ruby\tReilly\ttambém."
          },
          "metadata": {}
        },
        {
          "output_type": "display_data",
          "data": {
            "text/plain": [
              "<IPython.core.display.Markdown object>"
            ],
            "text/markdown": "### Página 243"
          },
          "metadata": {}
        },
        {
          "output_type": "display_data",
          "data": {
            "text/plain": [
              "<IPython.core.display.Markdown object>"
            ],
            "text/markdown": "Pus\tum\tvestido\tcom\tum\tdecote\tescandaloso\te\tfui\tcom\tHarry\tde\tcarro\taté\ta Hillcrest\tRoad. Ele\tparou\tno\tacostamento,\te\tfui\tchegando\tnele. Tinha\tpassado\tum\tbatom\tde cor\tneutra,\tporque\tsabia\tque\to\tvermelho\tseria\tforçar\ta\tbarra. Em\tgeral,\tnós\tnão conseguimos\tnegar\to\tque\tos\tnossos\tolhos\tveem. “Então,\tcomo\tvocê\tquer\tfazer\tisso?”,\tdisse\tHarry. “Claro\tque\tsim.” “Já\tfez\tamor\tcom\talguma?” “Uma\tvez.” “E\tgostou?” Harry\tficou\tpensativo. “Isso\té\tmais\tdifícil\tde\tresponder.” “Finge\tque\teu\tsou\tum\thomem,\tentão”,\tfalei. Não\tprecisa dar\tuma\tde\tdiretora\tde\tcinema.” “Precisamos\tdar\ta\timpressão\tde\tque\testamos\tnos\tagarrando\thá\tum\ttempinho, para\teles\tacharem\tque\tflagraram\ta\tgente\tbem\tno\tmeio\tde\talguma\tcoisa.” Harry\tbagunçou\tos\tcabelos\te\tafrouxou\to\tcolarinho. Eu\tdei\trisada\te\tme descabelei\tum\tpouco\ttambém,\talém\tde\tpuxar\tuma\talça\tdo\tmeu\tvestido."
          },
          "metadata": {}
        },
        {
          "output_type": "display_data",
          "data": {
            "text/plain": [
              "<IPython.core.display.Markdown object>"
            ],
            "text/markdown": "### Página 244"
          },
          "metadata": {}
        },
        {
          "output_type": "display_data",
          "data": {
            "text/plain": [
              "<IPython.core.display.Markdown object>"
            ],
            "text/markdown": "Ouvimos\tum\tcarro\tse\taproximando,\te vimos\tas\tluzes\tdos\tfaróis. Em\tpânico,\tHarry\tme\tsegurou\tpelos\tdois\tbraços\te\tme\tbeijou,\tpressionando\tos lábios\tcom\tforça\tcontra\tos\tmeus. Quando\to\tcarro\tpassou,\tele\tacariciou\tmeus cabelos\tcom\tuma\tdas\tmãos. “Acho\tque\tera\tsó\tum\tmorador\tlocal”,\tcomentei,\tvendo\to\tcarro\tse\tafastar, subindo\tainda\tmais\to\tcânion. “A\tgente\tpoderia\tfazer\tisso\tmesmo,\tsabe.” “O\tquê?” “Casar. Talvez\tnão\tda\tmaneira\tcomo\tum\tmarido deve\tamar\tuma\tesposa,\tmas\tmesmo\tassim.” “Harry.” “E\taquilo\tque\tfalei\tontem\tsobre\tquerer\tuma\tmulher…\tEu\tandei\tpensando\te,\tse isso\taqui\tfuncionar,\tse\tas\tpessoas\tacreditarem…\tDe\trepente\tpodemos\tformar uma\tfamília. Você\tnão\tquer\tter\tuma?” “Sim”,\trespondi. “Algum\tdia,\tquero,\tsim.” “Podemos\tfazer\tmuito\tbem\tum\tpara\to\toutro. E\tnão\tvamos\tdesistir\tquando percebermos\tque\tnão\té\ttudo\tum\tmar\tde\trosas,\tporque\tnos\tconhecemos\tbem demais\tpara\tisso.” “Harry,\tde\tverdade,\tnão\tsei\tse\tvocê\testá\tfalando\tsério.” “Estou\tfalando\tmuito\tsério. Gostaria\tde\tter uma\tfamília\tem\tcasa. E\tquero\tum\tfilho\tou\tuma filha. Não\tposso\tdar\ttudo\to\tque\tvocê\tprecisa."
          },
          "metadata": {}
        },
        {
          "output_type": "display_data",
          "data": {
            "text/plain": [
              "<IPython.core.display.Markdown object>"
            ],
            "text/markdown": "### Página 245"
          },
          "metadata": {}
        },
        {
          "output_type": "display_data",
          "data": {
            "text/plain": [
              "<IPython.core.display.Markdown object>"
            ],
            "text/markdown": "Ele\ttinha\trefletido\tbastante,\tpelo\tjeito. Como\tisso\tfuncionaria?” “Da\tmesma\tforma\tque\tcom\tvocê\te\tRex. Eu\tcontinuo\tfazendo\to\tque\tfaço. Quero\testar\tcom\talguém por\tquem\tseja\tapaixonada. E\tque\tseja\tapaixonada\tpor\tmim.” “Bom,\tnisso\teu\tnão\tposso\tajudar”,\tHarry\tfalou. Será\tque\tela\tme\taceitaria\tde\tvolta? E\tse\teu\tnão\tpudesse\tter\tCelia,\tiria\tquerer\toutra\tpessoa? Tinha\tcerteza\tde\tque, se\tnão\tfosse\tela,\tseria\tHarry\tquem\tiria\tquerer\tao\tmeu\tlado. “Vamos\tfazer\tisso\tmesmo.” Mais\tum\tcarro\tse\taproximou,\te\tHarry\tme\tagarrou\tde\tnovo. Dessa\tvez\tme beijou\tdevagar,\tcom\tvontade. Quando\tum\tcara\tdesceu\tdo\tcarro\tempunhando uma\tcâmera,\tHarry\tfingiu,\tsó\tpor\tum\tinstante,\tque\tnão\ttinha\tvisto,\te\tenfiou\ta mão\tpor\tbaixo\tdo\tmeu\tvestido. A\timagem\testampada\tnos\tjornais\tna\tsemana\tseguinte\tera\tindecente, escandalosa,\tchocante. Mostrava\tnós\tdois\tdesmazelados,\tcom\tcara\tde\tculpa,\te\ta mão\tde\tHarry\tclaramente\tno\tmeu\tpeito. No\tdia\tseguinte,\ttoda\ta\timprensa\tanunciou\tque\tJoy\tNathan\testava\tgrávida. “A\tuma\tunião\tde\tsucesso”,\tRex\tbrindou."
          },
          "metadata": {}
        },
        {
          "output_type": "display_data",
          "data": {
            "text/plain": [
              "<IPython.core.display.Markdown object>"
            ],
            "text/markdown": "### Página 246"
          },
          "metadata": {}
        },
        {
          "output_type": "display_data",
          "data": {
            "text/plain": [
              "<IPython.core.display.Markdown object>"
            ],
            "text/markdown": "Quando\tchego\tem\tcasa\tjá\tsão\ttrês\tda\tmanhã. Eu\tpodia\tmuito\tbem\tter\tencerrado\to\texpediente\tantes,\tmas,\tde\tcerto\tmodo,\tfoi um\talívio\tnão\tter\tque\tenfrentar\ta\tvida\tpor\talgumas\thoras. Estar\tcompletamente absorta\tna\thistória\tde\tEvelyn\tsignifica\tque\tnão\tpreciso\tencarar\ta\tminha\tprópria existência. Como\teu\tia\tdizendo,\tquando\tchego\tem\tcasa\tvou\tdireto\tpara\ta\tcama\te\tcaio\tno sono\tbem\trápido. A\túltima\tcoisa\tem\tque\tpenso\tantes\tde\tdormir\té\tque\testou aliviada\tpor\tter\tuma\tjustificativa\tválida\tpara\tnão\tter\trespondido\tà\tmensagem\tde David. Acordo\tcom\to\tcelular\ttocando,\te\tvejo\tas\thoras. Lá\testá\ta\tcara\tsorridente\tda\tminha\tmãe\tna\ttela\tdo\tcelular. Não\tsão\tnem\tseis horas\tno\tfuso\thorário\tdela. Está\ttudo\tbem?” “Claro\tque\tsim”,\tela\tresponde,\tcomo\tse\testivesse\tligando\tnum\thorário\tnormal. “Eu\tsó\tqueria\tver\tcomo\tvocê\testava\tantes\tque\tsaísse\tpara\ttrabalhar.” “Não\tsão\tnem\tseis\tda\tmanhã\taí”,\trespondo. Minha\tideia\tera dormir\taté\ttarde\te\tcomeçar\ta\ttranscrever\tas\tgravações\tque\tfiz\tcom\ta\tEvelyn.” “Teve\tum\tterremoto\taqui\tagora\thá\tpouco,\tnada\tmuito\tsério,\tmas\tnão\tconsegui dormir\tde\tnovo. Como\tse\tfôssemos\tíntimas.” Conto\tque\tFrankie\ttopou\tme\tpromover."
          },
          "metadata": {}
        },
        {
          "output_type": "display_data",
          "data": {
            "text/plain": [
              "<IPython.core.display.Markdown object>"
            ],
            "text/markdown": "### Página 247"
          },
          "metadata": {}
        },
        {
          "output_type": "display_data",
          "data": {
            "text/plain": [
              "<IPython.core.display.Markdown object>"
            ],
            "text/markdown": "“Está\tme\tdizendo\tque\tenfrentou\ta\teditora\tchefe\tda\t Vivant \te\tEvelyn\tHugo\tem menos\tde\tvinte\te\tquatro\thoras? “Acho\tque\tfoi isso\tmesmo.” Minha\tmãe\temite\tum\tsom\tque\tsó\tpode\tser\tdescrito\tcomo\tum\tcacarejo. Ele\tsempre soube\tque\tvocê\tera\tdura\tna\tqueda.” Fico\tme\tperguntando\tse\tisso\té\tverdade\t—\tnão\tporque\tminha\tmãe\tfosse\tde mentir\tpara\tmim,\tmas\tpor\tser\trealmente\tdifícil\tde\timaginar. Até\tentendo\tque meu\tpai\tme\tconsiderasse\tlegal,\tou\tinteligente;\tfaz\tsentido. Mas\tnunca\tme considerei\talguém\tdifícil\tde\tdobrar. O\tque\té\tmeu\testá reservado.” “Isso\tmesmo,\tquerida. Essa\té\tvocê.” Digo\tpara\tminha\tmãe\tque\tamo\tela\te\tdesligo\to\ttelefone,\tme\tsentindo\torgulhosa de\tmim,\tmeio\tpresunçosa\taté. Nem\tconsigo\timaginar\tque,\tem\tmenos\tde\tuma\tsemana,\tEvelyn\tHugo\tvai terminar\tde\tcontar\tsua\thistória\te\teu\tvou\tdescobrir\tqual\té\ta\tmotivação\tde\ttudo isso\te\todiá-la\tcom\ttanta\tforça\tque\tvou\tpensar\tseriamente\tem\tmatá-la."
          },
          "metadata": {}
        },
        {
          "output_type": "display_data",
          "data": {
            "text/plain": [
              "<IPython.core.display.Markdown object>"
            ],
            "text/markdown": "### Página 248"
          },
          "metadata": {}
        },
        {
          "output_type": "display_data",
          "data": {
            "text/plain": [
              "<IPython.core.display.Markdown object>"
            ],
            "text/markdown": "O\tBRILHANTE,\tGENEROSO\tE SOFRIDO Harry\tCameron"
          },
          "metadata": {}
        },
        {
          "output_type": "display_data",
          "data": {
            "text/plain": [
              "<IPython.core.display.Markdown object>"
            ],
            "text/markdown": "### Página 249"
          },
          "metadata": {}
        },
        {
          "output_type": "display_data",
          "data": {
            "text/plain": [
              "<IPython.core.display.Markdown object>"
            ],
            "text/markdown": "Fui\tindicada\tao\tOscar\tde\tMelhor\tAtriz\tpela\tminha\tatuação\tem\t Pôr\tdo\tsol\tna Carolina\tdo\tNorte . O\túnico\tproblema\tera\tque\tCelia\ttinha\tsido\tindicada\tnesse\tano\ttambém. Ele\tme\tdeu\tuma aliança\tde\tdiamante\tcom\tesmeraldas,\tque\tfez\tum\tbelo\tcontraste\tcom\to\tvestido preto\tcom\tpedrarias\tque\tusei\tnaquela\tnoite. A\tabertura\tda\tsaia\tdos\tdois\tlados deixava\tminhas\tcoxas\tà\tmostra. Quando\tfazem\tuma\tretrospectiva\tda\tminha\tcarreira, sempre\tdão\tum\tjeito\tde\tcolocar\tfotos\tminhas\tcom\tesse\tvestido. Acho\tque\tpode\tarrecadar\tum\tbom\tdinheiro. Fico\tfeliz\tem\tsaber\tque\tas\tpessoas\tgostaram\tdesse\tvestido\ttanto\tquanto\teu. Não\tganhei\to\tOscar,\tmas\taquela\tacabou\tse\ttornando\tuma\tdas\tmelhores\tnoites\tda minha\tvida. Celia\tchegou\tpouco\tantes\tdo\tinício\tda\tcerimônia. Quando\tbati\tos\tolhos\tnela\tpela\tprimeira\tvez\tem\tcinco\tanos,\tfiquei\tsem fôlego. Tinha\tido\tver\ttodos\tos\tfilmes\tde\tCelia,\tpor\tmais\tque\tdetestasse\tadmitir. Uma\tpessoa\tque\tfaz\tvocê\tse sentir\timportante\tsó\tporque\trecebeu\tum\tolhar\tdela."
          },
          "metadata": {}
        },
        {
          "output_type": "display_data",
          "data": {
            "text/plain": [
              "<IPython.core.display.Markdown object>"
            ],
            "text/markdown": "### Página 250"
          },
          "metadata": {}
        },
        {
          "output_type": "display_data",
          "data": {
            "text/plain": [
              "<IPython.core.display.Markdown object>"
            ],
            "text/markdown": "Celia\tdeu\tum\tpasso\tà\tfrente\te\tenlaçou\tseu\tbraço\tcom\tJohn\tBraverman. Usando\tum\tsmoking\tque\trealçava\tseus\tombros\tlargos,\tJohn\tera\ta\timagem perfeita\tdo\therói\tamericano. “Ev,\tvocê\testá\tquase\tbabando”,\tHarry\tfalou,\tme\tpuxando\tpara\tdentro\tdo teatro. “Obrigada.” Quando\tchegamos\taos\tnossos\tlugares,\tsorrimos\te\tacenamos\tpara\ttodos\tque estavam\tem\tvolta. “Para\tme\tgabar?” “Não,\tmas\tvocê\tvoltaria\tpor\tcima,\tcomo\tqueria\ttão\tdesesperadamente.” “Ela\tme\tlargou.” “Você\tdormiu\tcom\toutro.” “Por\tela.” Harry\tfranziu\ta\ttesta\tpara\tmim,\tcomo\tse\teu\testivesse\tfugindo\tdo\tassunto. “Tudo\tbem,\tse\teu\tganhar,\tvou\tfalar\tcom\tela.” “Obrigado.” “Por\tque\testá\tme\tagradecendo?” “Porque\tquero\tsua\tfelicidade,\te\tao\tque\tparece\tpreciso\tincentivar\tvocê\ta\tfazer as\tcoisas\tpelo\tseu\tpróprio\tbem.” “Bom,\tse\t ela \tganhar,\teu\tnão\tvou\tabrir\tminha\tboca.” “Se\tela\tganhar”,\tHarry\tfalou\tnum\ttom\tdelicado,\t“o\tque\té\tapenas\tuma possibilidade ,\te\tvier\tfalar\tcom\tvocê,\tvou\tte\tsegurar,\tte\tobrigar\ta\touvir\te\ta responder.” Não\tconseguia\tolhar\tnos\tolhos\tdele. “Todo\tmundo\tsabe\tque\tquem\tvai ganhar\té\tRuby,\tporque\ta\tAcademia\tse\tarrependeu\tde\tnão\tter\tdado\to\tprêmio\tpara"
          },
          "metadata": {}
        },
        {
          "output_type": "display_data",
          "data": {
            "text/plain": [
              "<IPython.core.display.Markdown object>"
            ],
            "text/markdown": "### Página 251"
          },
          "metadata": {}
        },
        {
          "output_type": "display_data",
          "data": {
            "text/plain": [
              "<IPython.core.display.Markdown object>"
            ],
            "text/markdown": "ela\tno\tano\tpassado\tpor\t O\tvoo\tperigoso .” “Pode\tser\tque\tnão”,\tHarry\tdisse. “E\teu\ttenho\tuma\tponte\tno\tBrooklyn\tpara\tte\tvender.” Mas,\tquando\tas\tluzes\tse\tapagaram\te\to\tapresentador\tsubiu\tno\tpalco,\tnão\tme passou\tpela\tcabeça\tque\tminhas\tchances\teram\tpoucas. Quando\tanunciaram\tas\tindicadas\tpara\tMelhor\tAtriz,\tolhei\tao\tredor\tà\tprocura de\tCelia. E\ta\tencontrei\tno\tmomento\tem\tque\tela\tme\tachou. Com\to\tcoração\tpesado\te\tapertado\tno\tpeito,\tsenti\traiva\tde\tmim\tpor\tacreditar que\ttinha\tchance. E\tentão\tme\tperguntei\tse\tCelia\testaria\tbem. Fiquei\ttorcendo\tpara\tJohn\tfazer\tisso\tcom Celia. Bonnie\tLakeland\testava\tlavando\tas\tmãos\tquando\tentrei. Me\tenfiei\tnuma\tcabine,\tsentei\tna\tprivada\te fechei\ta\tporta. “Evelyn?” É\timpossível\tnão\treconhecer\ta\tvoz\tde\talguém\tque\tvocê\tespera\tansiosamente ouvir\tdepois\tde\ttantos\tanos. Fiquei\tde\tpé,\tencostei\tna\tporta\tda\tcabine\te\tlimpei\tos\tolhos. “Eu\tvi\tque\tvocê\tveio\tpara\tcá”,\tela\tdisse. “Pensei\tque\tpodia\tser\tum\tsinal\tde que\tvocê\tnão…\tde\tque\testava\tchateada.” “Estou\ttentando\tficar\tfeliz\tpela\tRuby”,\tfalei,\tdando\tuma\trisadinha\tenquanto usava\tum\tpedaço\tde\tpapel\thigiênico\tpara\tlimpar\tos\tolhos\tcom\ttodo\to\tcuidado. Vestido\tazul,\tcabelos\truivos,\te\tuma\tpresença capaz\tde\tdominar\tqualquer\tambiente,\tapesar\tda\tbaixa\testatura. Quando\tseus olhos\tse\tvoltaram\tpara\tmim,\tpercebi\tque\tainda\tme\tamava."
          },
          "metadata": {}
        },
        {
          "output_type": "display_data",
          "data": {
            "text/plain": [
              "<IPython.core.display.Markdown object>"
            ],
            "text/markdown": "### Página 252"
          },
          "metadata": {}
        },
        {
          "output_type": "display_data",
          "data": {
            "text/plain": [
              "<IPython.core.display.Markdown object>"
            ],
            "text/markdown": "“Você\testá\tmaravilhosa\tcomo\tsempre”,\tela\tcomentou,\tse\tapoiando\tna\tpia\tcom os\tbraços\tatrás\tde\tsi. O\tjeito\tcomo\tCelia\tme\tolhava\tsempre\tteve\tuma\tqualidade inebriante. “Você\ttambém\tnão\testá\tnada\tmal”,\trespondi. “Acho\tmelhor\tque\tninguém\tnos\tveja\taqui”,\tCelia\tdisse. Se\teu\tdissesse\ta\tcoisa\tcerta,\tse\tfalasse\tque\tnão\testava\tnem\taí\tpara\to\tque\tos outros\tpensassem,\tque\tfaria\tamor\tcom\tela\tno\tpalco\tna\tfrente\tde\ttodo\tmundo, poderia\ttê-la\tconquistado\tde\tvolta. Me\timagino\tacordando\tna\tmanhã\tseguinte sentindo\tseu\thálito\tde\tcafé\te\tcigarro. Ela\ttambém\tteve lá\tsua\tresponsabilidade\tno\tnosso\trompimento. “Ou\tvai\tver\té\tvocê\tque\tnão\tquer ser\tvista\tcom\tuma…\tqual\tera\ta\tpalavra\tmesmo,\t‘vagabunda’?” Celia\tdeu\trisada,\tolhou\tpara\to\tchão\te\tdepois\tpara\tmim. Queria\tte\tmagoar\tda\tmesma\tforma\tque você\tme\tmagoou.” “Só\tque\teu\tnunca\tquis\tte\tmagoar”,\tfalei. “Nunca\tfiz\tnada\tde\tcaso\tpensado para\tte\tfazer\tsofrer.” “Você\ttinha\tvergonha\tdo\tseu\tamor\tpor\tmim.” “De\tjeito\tnenhum”,\trebati. “Isso\tnão\té\tverdade.” “Bom,\tvocê\tcom\tcerteza\tfez\tde\ttudo\tpara\tesconder.” “Eu\tfiz\to\tque\tera\tpreciso\tpara\tproteger\ta\tgente.” “Isso\té\tdiscutível.” “Então\tdiscuta\tcomigo”,\tfalei. Você\tpoderia\tter\tido\tatrás\tde\tmim"
          },
          "metadata": {}
        },
        {
          "output_type": "display_data",
          "data": {
            "text/plain": [
              "<IPython.core.display.Markdown object>"
            ],
            "text/markdown": "### Página 253"
          },
          "metadata": {}
        },
        {
          "output_type": "display_data",
          "data": {
            "text/plain": [
              "<IPython.core.display.Markdown object>"
            ],
            "text/markdown": "se\tquisesse.” “Eu\tnão\tgosto\tde\tser\tmanipulada,\tCelia. Falei\tisso\tlogo\tna\tprimeira\tvez\tem que\tsaímos\tpara\ttomar\tmilk-shake.” Ela\tencolheu\tos\tombros. “Fazer\to\tquê?” “Tratar\tcom\ttanta\tempáfia\tuma\tcoisa\tque\té\tsagrada\tpara\tos\toutros?” “Porque\tnão\testou\tnem\taí\tpara\tos\toutros.” Celia\tbufou\tde\tleve\te\tbaixou\tos\tolhos\tpara\tas\tmãos. Fui\trecompensada\tcom\tos\tolhos\tdela\tse\terguendo\tpara\tmim. “Não,\teu\tfui\tbem\tclara.” “Você\tnão\tdemorou\tmuito\tpara\tse\tenvolver\tcom\tRex\tNorth.” Eu\tfranzi\ta\ttesta. “Celia,\tvocê\tsabe\tmuito\tbem\tcomo\tessas\tcoisas\tsão.” “Então\tfoi\tuma\tfarsa.” “Em\ttodos\tos\tsentidos.” “Você\tsaiu\tcom\tmais\talguém? Mas\tcom\tcerteza\tvocê\tnão\tpreservou\tsua castidade.”\tEu\ta\testava\tcutucando\tem\tbusca\tde\tinformações\tque\tpodiam\tpartir meu\tcoração,\tuma\tfalha\tinerente\tà\tcondição\thumana. “Nisso\tvocê\ttem\trazão.” “Algum\thomem?”,\tperguntei,\ttorcendo\tpara\tque\ta\tresposta\tfosse\tsim. Se fossem\thomens,\teu\tsabia\tque\tnão\ttinha\tsignificado\tnada\tpara\tela."
          },
          "metadata": {}
        },
        {
          "output_type": "display_data",
          "data": {
            "text/plain": [
              "<IPython.core.display.Markdown object>"
            ],
            "text/markdown": "### Página 254"
          },
          "metadata": {}
        },
        {
          "output_type": "display_data",
          "data": {
            "text/plain": [
              "<IPython.core.display.Markdown object>"
            ],
            "text/markdown": "Celia\tsacudiu\ta\tcabeça,\tdeixando\tmeu\tcoração\tainda\tmais\tdilacerado,\tcomo um\trasgo\tque\taumenta\tquando\talguém\to\tforça. “Alguém\tque\teu\tconheça?” “Ninguém\tfamoso”,\tela\trespondeu. Eu só\tpensava\tem\tvocê\tquando\testava\tcom\telas.” Meu\tcoração\tficou\tao\tmesmo\ttempo\tapertado\te\tacalentado. “Você\tnão\tdeveria\tter\tme\tdeixado,\tCelia.” “Você\tnão\tdeveria\tter\tme\tdeixado\tir\tembora.” Ao\touvir\tisso,\tperdi\ttodas\tas\tforças. Meu\tcoração\tempurrou\ta\tverdade\tgoela afora. Sei\tmesmo.” Às\tvezes\tas\tcoisas\tacontecem\ttão\trápido\tque\ta\tgente\tsó\tpercebe\tquando\tjá começaram. Num\tinstante\tela\testava\tencostada\tna\tpia,\tno\tmomento\tseguinte suas\tmãos\testavam\tno\tmeu\trosto,\te\tseu\tcorpo\tcomprimido\tcontra\to\tmeu,\tas bocas\tcoladas. Senti\to\tgosto\tda\tcremosidade\talmiscarada\tdo\tbatom,\tmisturado com\tum\tleve\tardor\tde\trum. Celia\tfingiu\tque\testava\tlavando\tas\tmãos,\te\teu\tme\tpostei\tna\tfrente\tde um\tespelho\tpara\tretocar\ta\tmaquiagem. As\tduas\tcontinuaram\ta\tconversa,\tmal reparando\tna\tnossa\tpresença. Elas\tentraram\tem\tcabines,\te\teu\tolhei\tpara\tCelia. Fiquei\tà espera\tenquanto\tela\tfechava\ta\ttorneira\te\tpegava\tuma\ttoalha. Pensei\tque\tfosse direto\tpara\ta\tporta\tdo\tbanheiro. Ouvindo\tcom\tatenção,\tpercebemos\tque\ta\tcerimônia\ttinha\tparado\tpara\tum intervalo\tcomercial. Sem\tao\tmenos\tpensar\tno\tperigo,\tergui\tseu\tvestido\te\tsubi\ta\tmão\tpor\tsua\tcoxa."
          },
          "metadata": {}
        },
        {
          "output_type": "display_data",
          "data": {
            "text/plain": [
              "<IPython.core.display.Markdown object>"
            ],
            "text/markdown": "### Página 255"
          },
          "metadata": {}
        },
        {
          "output_type": "display_data",
          "data": {
            "text/plain": [
              "<IPython.core.display.Markdown object>"
            ],
            "text/markdown": "Com\tela\tainda\tencostada\tna\tporta,\ta\tbeijei\tde\tnovo,\tenquanto\ta\ttocava\tdo jeitinho\tque\tsabia\tque\tela\tgostava. Estávamos\tas\tduas\tcom\tos\tcorpos\tcolados\testremecendo\tcontra aquela\tporta. Se\talguma\tmulher\tda plateia\tresolvesse\tir\tao\tbanheiro\tdurante\taqueles\tsete\tminutos,\tnós\tperderíamos tudo\to\tque\tlutamos\ttanto\tpara\tconseguir. E\tmostramos\tque\tnão\tconseguíamos\tviver\tsem\ta\tcompanhia\tuma\tda\toutra."
          },
          "metadata": {}
        },
        {
          "output_type": "display_data",
          "data": {
            "text/plain": [
              "<IPython.core.display.Markdown object>"
            ],
            "text/markdown": "### Página 256"
          },
          "metadata": {}
        },
        {
          "output_type": "display_data",
          "data": {
            "text/plain": [
              "<IPython.core.display.Markdown object>"
            ],
            "text/markdown": "Evelyn\tHugo\te\to\tprodutor\tHarry\tCameron\tse casaram\tno\túltimo\tsábado,\tnuma\tcerimônia\trealizada\tnas\tpraias\tde\tCapri. Evelyn\tusou\tum\tvestido\tde\tseda\tbranco,\tcom\tos\tlongos\tcabelos\tloiros repartidos\tao\tmeio. James,\ta\tQueridinha\tda\tAmérica,\tfoi\tmadrinha,\te\tseu\tprecioso\teleito, John\tBraverman,\to\tpadrinho. Eles\tadmitiram\tque estavam\ttendo\tum\tcaso\tno\tano\tpassado,\tquando\tforam\tpegos\tem\tflagrante enquanto\tEvelyn\tainda\tera\tcasada\tcom\tRex\tNorth. Rex\thoje\té\tcasado\tcom\tJoy\tNathan,\te\tpai\torgulhoso\tde\tuma\tgarotinha,\tViolet North."
          },
          "metadata": {}
        },
        {
          "output_type": "display_data",
          "data": {
            "text/plain": [
              "<IPython.core.display.Markdown object>"
            ],
            "text/markdown": "### Página 257"
          },
          "metadata": {}
        },
        {
          "output_type": "display_data",
          "data": {
            "text/plain": [
              "<IPython.core.display.Markdown object>"
            ],
            "text/markdown": "Estava\ttendo\tdificuldade\tpara\tcontrolar\to ciúme,\tapesar\tde\tsaber\tque\tera\ttudo\tencenação. O\tmarido\tdela\testava\tao\tlado\tde Harry,\tora\tessa. E\ttodos\tnós\tsabíamos\to\tque\téramos. Casados\tcom\tduas\tmulheres\tque\tdormiam juntas. Celia\te\teu\téramos\tloucas\tuma\tpela\toutra. Quando\tvoltamos\tda\tItália,\tvendi\tminha\tmansão\tem\tBeverly\tHills. Compramos\tum\tapartamento\tem\tManhattan,\tno\tUpper\tEast\tSide, pertinho\tde\tonde\tmoravam\tCelia\te\tJohn. Antes\tde\tconcordar\tem\tme\tmudar,\tpedi\tpara\tHarry\tverificar\tse\tmeu\tpai\tainda estava\tvivo. Não\tsabia\tse\tseria\tcapaz\tde\tviver\tna\tmesma\tcidade\tque\tele,\tse suportaria\ta\tideia\tde\ttopar\tcom\tele\tna\trua\tsem\tquerer. Foi\tpela\tpesquisa\tfeita\tpelo\tpessoal\tdo\tescritório\tde\tHarry\tque\tfiquei\tsabendo que\tmeu\tpai\ttinha\tmorrido\tde\tataque\tcardíaco\tem\t1959. Meu\tprimeiro\tpensamento\tquando\trecebi\ta\tnotícia\tfoi:\t Então\té\tpor\tisso\tque ele\tnunca\tveio\tatrás\tde\tmim\tpara\tpedir\tdinheiro . Afastei\tisso\tda\tcabeça,\tassinei\ta\tpapelada\tdo\tapartamento\te\tcomemorei\ta aquisição\tcom\tHarry."
          },
          "metadata": {}
        },
        {
          "output_type": "display_data",
          "data": {
            "text/plain": [
              "<IPython.core.display.Markdown object>"
            ],
            "text/markdown": "### Página 258"
          },
          "metadata": {}
        },
        {
          "output_type": "display_data",
          "data": {
            "text/plain": [
              "<IPython.core.display.Markdown object>"
            ],
            "text/markdown": "Um\tmês\tdepois\tde\tme\tmudar\tpara\ta\tcidade,\tpeguei\tum\ttáxi\tcom\tCelia\te\tfui dar\tuma\tvolta\tem\tHell’s\tKitchen. Estava\tbem\tdiferente\tde\tquando\teu\ttinha\tido embora. “No\tquinto\tandar.” Celia\tme\tolhou\tcom\tuma\texpressão\tde\tcompaixão\tpor\ttudo\to\tque\tvivi\tlá,\tpor tudo\to\tque\thavia\tconseguido\tdesde\tentão. Tive\tum\tsobressalto,\tsem\tsaber\tse\tdeveríamos\tnos\ttocar\tem\tpúblico,\tcom medo\tda\treação\tdas\tpessoas. Mas\ttodo\tmundo\tsimplesmente\tseguiu\tem\tfrente, cuidando\tda\tprópria\tvida,\tsem\tdar\tatenção\tnenhuma\tàs\tduas\tmulheres\tfamosas de\tmãos\tdadas\tna\tcalçada. Celia\te\teu\tpassávamos\tas\tnoites\tjuntas\tno\tmeu\tapartamento. Saíamos\tpara\tjantar\tem\tpúblico\tcomo\tse\tfôssemos\tdois\tcasais padrão,\tsendo\tque\tnenhum\tdos\tquatro\tera\theterossexual. Os\ttabloides\tnos\tchamavam\tde\t“Casais\tAmigos\tFavoritos\tda\tAmérica”. Nunca\tvou\tesquecer\ta\tmanhã\tseguinte\tà\trevolta\tde\tStonewall. John\tpassou\to\tdia\ttodo\tao\ttelefone\tcom\tamigos\tque moravam\tno\tcentro\tda\tcidade. Celia\tandava\tde\tum\tlado\tpara\toutro\tpela\tsala,\tcom\to\tcoração\tna\tboca. Achava\tque,\tcomo\tos\tgays tinham\ttomado\tuma\tposição,\tassumindo\tcom\torgulho\to\tque\teram\te\tmostrando sua\tforça,\ta\tpostura\tdo\tresto\tdas\tpessoas\tia\tmudar."
          },
          "metadata": {}
        },
        {
          "output_type": "display_data",
          "data": {
            "text/plain": [
              "<IPython.core.display.Markdown object>"
            ],
            "text/markdown": "### Página 259"
          },
          "metadata": {}
        },
        {
          "output_type": "display_data",
          "data": {
            "text/plain": [
              "<IPython.core.display.Markdown object>"
            ],
            "text/markdown": "Lembro\tde\tsentar\tno\tterraço\tdo\tnosso\tprédio\te\tolhar\tpara\to\tsul,\tme\tdando conta\tde\tque\tCelia,\tHarry,\tJohn\te\teu\tnão\testávamos\tsozinhos. Parece\tuma\tcoisa boba\tde\tse\tdizer\tsó\tagora,\tmas\teu\testava\ttão…\tvoltada\tpara\tmim\tmesma,\ttão absorta\tem\tmeu\tpróprio\tmundo,\tque\tquase\tnunca\tparava\tpara\tpensar\tque\thavia pessoas\tcomo\teu\tpor\taí. Harry\te\teu\tfizemos\tcampanha\tpara\tBobby\tKennedy. E\teles\testavam\tlá,\tse\trebelando\tcontra\ta\tpolícia\tpelo\tdireito\tde\tser\tquem\teram. Na\ttarde\tseguinte\taos\tprimeiros\tprotestos,\teu\tsentei\tno\tterraço,\tde\tfrente\tpara o\tsol,\tusando\tuma\tcalça\tjeans\tde\tcintura\talta\te\tuma\tblusa\tpreta\tsem\tmanga, bebendo\tum\tgibson. E\tcomecei\ta\tchorar\tquando\tme\tdei\tconta\tde\tque\taqueles homens\testavam\tlutando\tpor\tum\tsonho\tque\teu\tnão\tme\tpermitia\tnem\timaginar. Por\tum\tmundo\tem\tque\tpoderíamos\tser\tnós\tmesmos,\tsem\tmedo\tou\tvergonha. Aqueles\thomens\teram\tmais\tcorajosos\te\totimistas\tque\teu. “Estão\tplanejando\toutro\tprotesto\tpara\thoje\tà\tnoite”,\tJohn\tfalou,\tse\tjuntando\ta mim\tno\tterraço. Quase\tum\tmetro\te noventa,\tcem\tquilos,\tcabelo\tescovinha. Era\tquem\tperguntava\tse\ta\tgente\ttinha\tdormido\tbem,\taquele\tque\tse lembrava\tde\tcada\tdetalhe\tdas\tconversas\tde\tsemanas\tantes."
          },
          "metadata": {}
        },
        {
          "output_type": "display_data",
          "data": {
            "text/plain": [
              "<IPython.core.display.Markdown object>"
            ],
            "text/markdown": "### Página 260"
          },
          "metadata": {}
        },
        {
          "output_type": "display_data",
          "data": {
            "text/plain": [
              "<IPython.core.display.Markdown object>"
            ],
            "text/markdown": "Nem\tsei\tdizer\tquantas\tnoites\tfiquei\tacordada\taté\tde\tmadrugada\tno\tcarteado\tcom John. Nós\tdois\téramos\tcompetitivos\tao\textremo,\te\tnos\trevezávamos\tno\tpapel\tde mau\tvencedor\te\tmau\tperdedor. “A\tgente\tdeveria\tir\taté\tlá”,\tdisse\tCelia,\tsubindo\tao\tterraço\ttambém. Celia\tse\tacomodou\tno\tbraço\tda\tpoltrona\tonde\teu estava. Fazer\tparte\tdisso.” Ouvi\tHarry\tchamando\tJohn\tda\tcozinha. “Harry,\tvocê\tnão\tacha\tque\ta\tgente\tdeveria\tir\taté\tlá?,\tCelia\tperguntou. Ela acendeu\tum\tcigarro,\tdeu\tuma\ttragada\te\tpassou\tpara\tmim. John\trespondeu\tque\tnão\tlogo\tde\tcara. “Você\tnão\tvai\taté\tlá”,\tJohn\trespondeu. “Nessa\teu\testou\tcom\tJohn.” “Harry?”,\tela\tdisse,\ttentando\tum\túltimo\tapelo. Harry\tfez\tque\tnão\tcom\ta\tcabeça. “Se\tformos\taté\tlá,\tsó\tvamos\tatrair\tatenção para\tnós\te\tdesviar\tda\tcausa. Fez\tuma\tcara\tazeda\te\tsoprou\ta\tfumaça com\tforça. Não\tpodemos\tficar\taqui\tde\tbraços cruzados. Não\tpodemos\tdeixar\tque\teles\tdeem\ta\tcara\ta\ttapa\tpor\tuma\tluta\tque também\té\tnossa.” “Então\tvamos\tajudar\tdando\ta\teles\to\tque\tnós\ttemos\tde\tsobra”,\tHarry\tsugeriu. “Dinheiro”,\tcompletei,\tseguindo\timediatamente\to\traciocínio\tdele."
          },
          "metadata": {}
        },
        {
          "output_type": "display_data",
          "data": {
            "text/plain": [
              "<IPython.core.display.Markdown object>"
            ],
            "text/markdown": "### Página 261"
          },
          "metadata": {}
        },
        {
          "output_type": "display_data",
          "data": {
            "text/plain": [
              "<IPython.core.display.Markdown object>"
            ],
            "text/markdown": "Vai\tsaber\tquem\tprecisa\tdo\tquê.” “Já\tdeveríamos\testar\tfazendo\tisso\tfaz\ttempo”,\tHarry\tdisse. “Então\tvamos fazer\tde\tagora\tem\tdiante. Não\timporta\to\tque\taconteça\thoje\tà\tnoite. Não\timporta o\trumo\tque\ta\tluta\ttome. Vamos\tdeixar\tdecidido\taqui\te\tagora\tque\tnossa\tfunção\té colaborar\tcom\tdinheiro.” “Estou\tdentro”,\tfalei. “Tenho\tcerteza.” Começamos\ta\tfazer\tdoações\tanônimas\tnesse\tmesmo\tdia,\te\teu\tcontinuei fazendo\tisso\tpelo\tresto\tda\tvida. Sempre\tsenti\tque\tminha\tforma\tde\tcolaborar\tera\tfaturando\talto\te colaborando\tcom\tgrupos\tque\tprecisavam\tde\tapoio\tfinanceiro. É\tuma\tlógica\tbem conveniente\tem\ttermos\tpessoais. Mas,\tpor\tser\tquem\tera, por\tter\tfeito\ttanto\tsacrifício\tpara\tesconder\tcertas\tpartes\tda\tminha\tvida,\tme\tdispus a\tdoar\tmais\tdinheiro\tdo\tque\ta\tmaioria\tdas\tpessoas\tvai\tganhar\tna\tvida. Celia\tganhou\tseu\tsegundo\tOscar\tem\t1970,\tpor\tsua\tatuação\tcomo\tuma\tmulher que\tse\tfinge\tde\thomem\tpara\tlutar\tna\tPrimeira\tGuerra\tMundial\tno\tfilme\t Nossas tropas . Eu\tnão\tpude\tacompanhá-la\ta\tLos\tAngeles\tnaquela\tnoite\tporque\testava filmando\t Jade\tDiamond \tem\tMiami. Mas\tnós\tduas\tsabíamos\tque,\tmesmo\tse estivesse\tlivre,\teu\tnão\tpoderia\tatravessar\to\ttapete\tvermelho\tde\tbraço\tdado\tcom ela."
          },
          "metadata": {}
        },
        {
          "output_type": "display_data",
          "data": {
            "text/plain": [
              "<IPython.core.display.Markdown object>"
            ],
            "text/markdown": "### Página 262"
          },
          "metadata": {}
        },
        {
          "output_type": "display_data",
          "data": {
            "text/plain": [
              "<IPython.core.display.Markdown object>"
            ],
            "text/markdown": "Naquela\tnoite,\tCelia\tme\tligou\tdepois\tde\tchegar\tda\tcerimônia\tde\tpremiação\te da\tfesta. “E pela\tsegunda\tvez!” “Dá\tpara\tacreditar?”,\tela\tdisse. Deveria\tganhar\tum\tOscar\tpor\tdia,\tna\tminha\topinião.” “Queria\tque\tvocê\testivesse\taqui”,\tela\tdisse,\tnum\ttom\tmeio\tirritado. Dava\tpara perceber\tque\tela\thavia\tbebido. Eu\ttambém\tteria\ttomado\ttodas\tse\testivesse\tno lugar\tdela. Mas\tfiquei\tbrava\tpor\tela\tsempre\tdificultar\tas\tcoisas. Por\tque\ta\tconversa\tsempre\tprecisava\tgirar\tem\ttorno\tdos\tsentimentos\t dela ? “Eu\ttambém\tqueria\testar\taí”,\trespondi. Para\tas\tpessoas\tnão\tsaberem\tque\tvocê\té\t lésbica .” Eu\tdetestava\tser\tchamada\tde\tlésbica. Não\tporque\thouvesse\talguma\tcoisa errada\tem\tamar\tuma\tmulher. Não,\teu\tvivia\tem\tpaz\tcom\tisso\tfazia\ttempo. Mas para\tCelia\tera\ttudo\tpreto\tno\tbranco. Mesmo\tassim,\tela\tvivia\trenegando\tuma\toutra\tparte\tde\tmim. Ela\tfazia\tquestão\tde\tignorar\tque\teu\tjá\ttinha\tsido\tapaixonada\tpor\tDon\tAdler. Fazia\tquestão\tde\tignorar\tque\teu\tjá\ttinha\tfeito\tamor\tcom\thomens\te\tgostado. Só deixava\tde\tignorar\tisso\tquando\tse\tsentia\tameaçada. Nessa\tépoca\ta\tbissexualidade\testava\tcomeçando\ta\tvirar\tassunto,\tmas\tnão\tsei se\teu\tentendia\tque\tesse\tconceito\tpoderia\tser\taplicado\ta\tmim. E\ttambém\tnão estava\tinteressada\tem\tarrumar\tum\trótulo\tpara\to\tque\tjá\tsabia. Você\testá\tsendo\timplicante.” Ela\tsoltou\tuma\trisada\tseca. “É\texatamente\ta\tmesma\tEvelyn\tde\ttodos\tesses anos. Continua\tsendo\to\tque\tsempre\tfoi:\tum\tbelo\tpar\tde\tpeitos.”"
          },
          "metadata": {}
        },
        {
          "output_type": "display_data",
          "data": {
            "text/plain": [
              "<IPython.core.display.Markdown object>"
            ],
            "text/markdown": "### Página 263"
          },
          "metadata": {}
        },
        {
          "output_type": "display_data",
          "data": {
            "text/plain": [
              "<IPython.core.display.Markdown object>"
            ],
            "text/markdown": "O\tchiado\tdo\ttelefone\tera\ta única\tcoisa\tque\tconseguíamos\touvir. Não\té\tisso\to\tque\teu\tpenso. Eu\tbebi\tdemais,\te\testou\tcom saudade,\te\testou\tarrependida\tde\tter\tfalado\tuma\tcoisa\ttão\thorrível.” “Tudo\tbem”,\tfalei. Aqui\tjá\té\tbem\ttarde,\tvocê\tsabe. Parabéns de\tnovo,\tquerida.” Desliguei\to\ttelefone\tantes\tque\tela\trespondesse. Quando\tnão\ttinha\tseu\tdesejo\tatendido\te ficava\tmagoada,\tela\tarrumava\tum\tjeito\tde\tmagoar\ttambém."
          },
          "metadata": {}
        },
        {
          "output_type": "display_data",
          "data": {
            "text/plain": [
              "<IPython.core.display.Markdown object>"
            ],
            "text/markdown": "### Página 264"
          },
          "metadata": {}
        },
        {
          "output_type": "display_data",
          "data": {
            "text/plain": [
              "<IPython.core.display.Markdown object>"
            ],
            "text/markdown": "Ouço\to\tsom\tabafado\tdo\tmeu\tcelular\ttocando\tna\tbolsa,\te\tpelo\ttoque\tsei\tque\té David. Enfio\ta\tmão\tlá\tdentro\te\tponho\to\ttelefone\tno\tsilencioso. “Não\tadiantava\tnada\tbrigar\tcom\tCelia\tquando\tela\tperdia\ta\tcabeça”,\tdiz Evelyn. Apesar\tde\ttoda\ta pose,\tCelia\ttinha\tuma\tcoisa\tem\tcomum\tcom\tquase\ttodos\tos\thomens\théteros\tdo país:\tnão\texistia\tnada\tque\tquisesse\tmais\tdo\tque\tenfiar\tas\tmãos\tnos\tmeus\tpeitos.” “Mas\tnão\tte\tincomodou?”,\tquestiono. O\túnico\trecurso\tao\tmeu\tdispor\tera\tminha sensualidade,\tque\teu\tusava\tcomo\tse\tfosse\tmoeda\tcorrente. Por\tque\tprecisaria\tde\talguma\tcoisa\talém\tda\tminha beleza? E\tassumir\ta\tprópria\tbeleza\tcom\torgulho\tpode\tser\tum\tgrande\tproblema. Porque\ta\tpessoa\tpassa\ta\tacreditar\tque\tse\tnotabilizou\tapenas\tpor\tuma\tcoisa\tque dura\tmuito\tpouco.” Ela\tcontinua:\t“Quando\tCelia\tfalou\tisso,\teu\ttinha\tacabado\tde\tentrar\tna\tcasa\tdos trinta. Não\tsabia\tquantos\tanos\tde\tcarreira\tainda\tteria\tpela\tfrente,\tsendo\tbem sincera."
          },
          "metadata": {}
        },
        {
          "output_type": "display_data",
          "data": {
            "text/plain": [
              "<IPython.core.display.Markdown object>"
            ],
            "text/markdown": "### Página 265"
          },
          "metadata": {}
        },
        {
          "output_type": "display_data",
          "data": {
            "text/plain": [
              "<IPython.core.display.Markdown object>"
            ],
            "text/markdown": "“Mas\tvocê\tdevia\tsaber\tque\tera\ttalentosa”,\tdigo\ta\tela. “Tinha\tsido\tindicada\tao Oscar\ttrês\tvezes.” “Você\testá\tsendo\tracional”,\tEvelyn\tdiz,\tsorrindo\tpara\tmim."
          },
          "metadata": {}
        },
        {
          "output_type": "display_data",
          "data": {
            "text/plain": [
              "<IPython.core.display.Markdown object>"
            ],
            "text/markdown": "### Página 266"
          },
          "metadata": {}
        },
        {
          "output_type": "display_data",
          "data": {
            "text/plain": [
              "<IPython.core.display.Markdown object>"
            ],
            "text/markdown": "Diziam\tque\tera\to\trestaurante\tmais\tcaro\tdo\tmundo\tna\tépoca. E\teu\tera\to tipo\tde\tpessoa\tque\tgostava\tdessas\textravagâncias\tabsurdas. Posamos\tpara\talgumas\tfotos,\tsabendo\tque\tiam\tacabar\testampando\ta\tcapa\tde um\tou\toutro\ttabloide. Celia\tpediu\tuma\tgarrafa\tde\tDom\tPerignon. E,\tquando\ta\tsobremesa\tchegou,\tcom\tuma\tvela\tacesa no\tmeio,\tos\ttrês\tcantaram\tparabéns\tpara\tmim,\tna\tfrente\tdo\trestaurante\tinteiro. Harry\tfoi\to\túnico\tque\tcomeu\tbolo. “Dá\tpelo\tmenos\tuma\tgarfada,\tEv”,\tJohn\tfalou,\ttodo\tgentil,\tafastando\to\tprato de\tHarry\te\tempurrando\tpara\tmim. “Tem\tcoisa\tque\tnão\tdá\tpara\tcontestar”,\tfalei. “Ele\tsó\tnão\tquer\tque\t eu \tcoma”,\tHarry\tcomentou. “Hora\tdo discurso.” Ela\tiria\trodar\tum\tfilme\tem\tMontana\tna\tsemana\tseguinte. Tinha\tadiado\to\tinício das\tfilmagens\tpara\tpoder\testar\tcomigo\tnaquela\tnoite."
          },
          "metadata": {}
        },
        {
          "output_type": "display_data",
          "data": {
            "text/plain": [
              "<IPython.core.display.Markdown object>"
            ],
            "text/markdown": "### Página 267"
          },
          "metadata": {}
        },
        {
          "output_type": "display_data",
          "data": {
            "text/plain": [
              "<IPython.core.display.Markdown object>"
            ],
            "text/markdown": "“Um\tbrinde\tà\tEvelyn”,\tela\tfalou,\terguendo\ta\ttaça. “Que\ttraz\tvida\ta\ttodo\tlugar por\tonde\tpassa. E\tque\ttodo\tsanto\tdia\tfaz\ta\tgente\tsentir\tque\testá\tvivendo\tdentro de\tum\tsonho.” Ainda\tnaquela\tnoite,\tenquanto\tCelia\te\tJohn\tchamavam\to\ttáxi,\tHarry\tme ajudou\ta\tvestir\ta\tjaqueta. Àquela\taltura,\tHarry\te\teu\testávamos\tcasados\tfazia\tsete\tanos. Se\tainda\tqueria\tter\tum\tbebê,\tjá\ttinha\tadiado\to quanto\tpodia. Havia\tmulheres\tque\tengravidavam\tmais\ttarde\tque\tisso,\tclaro,\tmas\tnão\tera muito\tcomum,\te\teu\ttinha\tpassado\tos\túltimos\tanos\tolhando\tpara\ttodos\tos carrinhos\tde\tbebê\tque\tpassavam,\tsem\tconseguir\tme\tconcentrar\tem\tmais\tnada quando\thavia\tum\tpor\tperto. Ficava\tpensando\tem\tcomo\tseria\tum\tbebê\tmeu. Em\tcomo\tseria trazer\tuma\tvida\tao\tmundo,\tpara\tdar\ta\tnós\tquatro\tum\tnovo\tfoco. E\tnossa\tdecisão\tde\tter\tum\tbebê\tnão\tenvolvia\tsó\tduas\tpessoas. “Vá\tem\tfrente”,\tfalei\tenquanto\tsaíamos\tdo\trestaurante. “Meu\te\tseu.” “Já\tconversou\tsobre\tisso\tcom\to\tJohn?”,\tperguntei."
          },
          "metadata": {}
        },
        {
          "output_type": "display_data",
          "data": {
            "text/plain": [
              "<IPython.core.display.Markdown object>"
            ],
            "text/markdown": "### Página 268"
          },
          "metadata": {}
        },
        {
          "output_type": "display_data",
          "data": {
            "text/plain": [
              "<IPython.core.display.Markdown object>"
            ],
            "text/markdown": "Eu\tdeixaria\tde\tser mulher\tpara\tvirar\tmãe\t—\te\tpor\talgum\tmotivo\tas\tduas\tcoisas\tpareciam mutuamente\texcludentes\tem\tHollywood. “Eu\ttambém.” “Certo”,\tfalei,\tavaliando\tquais\tseriam\tos\tpróximos\tpassos. “Então\tvamos conversar\tcom\tJohn\te\tCelia.” “Pois\té”,\tHarry\tdisse. “Vamos\tlá.” “E\tse\ttodo\tmundo\ttopar?”,\tperguntei,\tdetendo\to\tpasso\tantes\tde\tsair\tpara\ta calçada. “Vamos\tem\tfrente”,\tHarry\tfalou,\tparando\tao\tmeu\tlado. “Não\tquero\tninguém\tinsinuando\tque\tadotamos\tporque temos\talguma\tcoisa\ta\tesconder.” Harry\tassentiu. Estou\tcom\tvocê\tnessa.” Eu\tergui\tuma\tsobrancelha. “Você\tsabe\tcomo\tos\tbebês\tsão\tfeitos,\tné?”, questionei. Ele\tsorriu,\tchegou\tmais\tperto\te\tmurmurou:\t“Tem\tuma\tpequena\tparte\tde\tmim que\tquer\tir\tpara\tcama\tcom\tvocê\tdesde\tque\ta\tgente\tse\tconheceu,\tEvelyn\tHugo”. Eu\tcaí\tna\trisada\te\tdei\tum\tsoco\tno\tbraço\tdele. “Tem\tnada.” “Uma\tparte\tbem\tpequenininha”,\tHarry\tfalou\tem\tsua\tdefesa. “E\tque\tvai\tcontra todos\tos\tmeus\tinstintos. “Bom”,\tfalei,\t“vamos\tmanter\tessa\tparte\tsó\tentre\tnós.” Harry\tdeu\trisada\te\testendeu\to\tbraço. “Mais\tuma\tvez, Evelyn,\tnós\ttemos\tum\tacordo.”"
          },
          "metadata": {}
        },
        {
          "output_type": "display_data",
          "data": {
            "text/plain": [
              "<IPython.core.display.Markdown object>"
            ],
            "text/markdown": "### Página 269"
          },
          "metadata": {}
        },
        {
          "output_type": "display_data",
          "data": {
            "text/plain": [
              "<IPython.core.display.Markdown object>"
            ],
            "text/markdown": "“O\tbebê\tseria\tcriado\tpor\tvocês\tdois?”,\tCelia\tperguntou. O\tpapel\tque\tela\tfaria\tno\tfilme\texigia\tque\tseu\tcabelo\tfosse\tpreto. Eu\tera fascinada\tpelo\ttom\tnatural\tacobreado\tde\tCelia,\te\testava\tdoida\tpara\tsaber\tse\tiriam conseguir\ttingi-lo\tde\tvolta,\tse\tela\tvoltaria\tpara\tmim\tcom\ta\tmesma\taparência\tque sempre\tteve. E\tJohn?” “Onde\tvocês\tquiserem.” “Não\tentendi\to\tque\tvocê\tquer\tdizer\tcom\tisso.” “O\tque\teu\tquero\tdizer\té\tque\tpodemos\tpensar\tnisso\tquando\tchegar\ta\thora.” Celia\tficou\tpensativa,\tfitando\to\tteto. “É\tisso\to\tque\tvocê\tquer?”,\tela\tperguntou por\tfim. “Quero\tmuito.” “E\té\tum\tproblema\tpara\tvocê\teu\tnunca…\tter\tpensado\tem\tquerer\tisso?”,\tela perguntou. “Você\tnão\tquerer\tfilhos?” “É.” “Não,\tacho\tque\tnão.” “É\tum\tproblema\tpara\tvocê\teu\tnão\tpoder…\teu\tnão\tpoder\tte\tproporcionar isso?”\tA\tvoz\tdela\tcomeçou\ta\tficar\tembargada,\te\tos\tlábios\tcomeçaram\ta\ttremer. Quando\tCelia\tprecisava\tchorar\tdiante\tdas\tcâmeras,\testreitava\tos\tolhos\te\tcobria\to rosto. Mas\teram\tlágrimas\tfalsas,\tderramadas\tpor\tmotivo\tnenhum."
          },
          "metadata": {}
        },
        {
          "output_type": "display_data",
          "data": {
            "text/plain": [
              "<IPython.core.display.Markdown object>"
            ],
            "text/markdown": "### Página 270"
          },
          "metadata": {}
        },
        {
          "output_type": "display_data",
          "data": {
            "text/plain": [
              "<IPython.core.display.Markdown object>"
            ],
            "text/markdown": "chorava\tde\tverdade,\tseu\trosto\tpermanecia\tdolorosamente\timóvel,\ta\tnão\tser\tpelo canto\tda\tboca\te\tos\tolhos,\tque\tficavam\tmolhados,\tencharcando\tos\tcílios. “Não\té\tnada\tdisso.” “Ah,\tnão?” “Você\tme\tdeu\tmuito\tmais\tdo\tque\teu\tpensei\tque\tpoderia\tter\tna\tvida.” “Tem\tcerteza?” “Absoluta.” Ela\tsorriu. “Nossa,\tdizer\tisso\tseria\tsubestimar\to\tque\teu\tsinto”,\trespondi. Eu\ttambém\tquero\trecolher\ttodos os\tcílios\tcaídos\tdela’.” Celia\tdeu\trisada,\tacariciou\tmeu\tbraço\te\tfitou\to\tteto. “Eu\tquero\tque\tvocê\tseja feliz”,\tela\tdisse,\tfinalmente\tse\tvirando\tpara\tmim. “Você\tsabe\tque\tHarry\te\teu,\ta\tgente\tteria\tque…” “Não\ttem\toutro\tjeito?”,\tela\tperguntou. “Pensei\tque\tas\tmulheres\tpudessem engravidar\tusando\tsó\to\tesperma\tdos\thomens\thoje\tem\tdia.” Eu\tassenti\tcom\ta\tcabeça. Ou\tmelhor,\tnão\tsei\tcomo\tgarantir\tque\tninguém\tfique sabendo.” “Então\tvocê\testá\tme\tdizendo\tque\tvai\tfazer\tamor\tcom\tHarry”,\tCelia\tfalou. Com\tHarry,\tsó\tiria fazer\tum\tbebê.” Celia\tme\tencarou,\tobservando\tbem\to\tmeu\trosto. “Tem\tcerteza\tdisso?” “Mais\tdo\tque\tabsoluta.” Ela\tvoltou\ta\tolhar\tpara\to\tteto."
          },
          "metadata": {}
        },
        {
          "output_type": "display_data",
          "data": {
            "text/plain": [
              "<IPython.core.display.Markdown object>"
            ],
            "text/markdown": "### Página 271"
          },
          "metadata": {}
        },
        {
          "output_type": "display_data",
          "data": {
            "text/plain": [
              "<IPython.core.display.Markdown object>"
            ],
            "text/markdown": "Então\tela\tse\tvirou\tpara\tmim. “Se\té\tisso\tque\tvocê\tquer…\tse\tvocê\tquer\tum\tbebê,\tentão…\ttenha\tum\tbebê. “E\tcomo\tvocê\tvai\tfazer\tisso?” “Posso\tpensar\tnuma\tforma\tde\ttornar\ta\tsituação\tmais\tagradável\tpara\tvocê”, falei,\tbeijando\tseu\tpescoço. Ela\tgostava\tde\tser\tbeijada\tlogo\tabaixo\tda\torelha, entre\to\tlóbulo\te\ta\tnuca. “Ah,\tvocê\té\tinacreditável”,\tela\tfalou. Não\tse manifestou\tquando\tpassei\ta\tmão\tnos\tseus\tseios,\tpela\tbarriga,\taté\tchegar\tao\tmeio das\tpernas. Só\tgemeu\te\tme\tpuxou\tpara\tmais\tperto,\te\tentão\tcomeçou\ta\tpassar\ta mão\tem\tmim. Ela\tme\ttocou\tenquanto\teu\ta\ttocava,\ta\tprincípio\tde\tleve,\tdepois com\tmais\tforça,\tmais\trápido. “Eu\tte\tamo”,\tela\tfalou,\tofegante. E, nessa\tnoite,\tao\tabrir\tmão\tde\tsi\tmesma,\tCelia\tme\tdeu\tum\tbebê."
          },
          "metadata": {}
        },
        {
          "output_type": "display_data",
          "data": {
            "text/plain": [
              "<IPython.core.display.Markdown object>"
            ],
            "text/markdown": "### Página 272"
          },
          "metadata": {}
        },
        {
          "output_type": "display_data",
          "data": {
            "text/plain": [
              "<IPython.core.display.Markdown object>"
            ],
            "text/markdown": "Aos\ttrinta\te\tsete\tanos,\ta\tloira\tbombástica\tpode finalmente\tacrescentar\tum\tbebê\tao\tcurrículo. Connor\tMargot\tCameron,\ttrês quilos\te\tcem\tgramas,\tnasceu\tna\túltima\tquinta-feira,\tno\tHospital\tMonte\tSinai. Responsáveis\tpor\tuma\tenorme\tlista\tde\tsucessos,\tEvelyn\te\tHarry\tcom\tcerteza consideram\ta\tpequenina\tCameron\tsua\tmaior\tprodução\tconjunta\taté\to\tmomento."
          },
          "metadata": {}
        },
        {
          "output_type": "display_data",
          "data": {
            "text/plain": [
              "<IPython.core.display.Markdown object>"
            ],
            "text/markdown": "### Página 273"
          },
          "metadata": {}
        },
        {
          "output_type": "display_data",
          "data": {
            "text/plain": [
              "<IPython.core.display.Markdown object>"
            ],
            "text/markdown": "Me\tapaixonei\tpor\tConnor\tassim\tque\tela\tpôs\tos\tolhinhos\tem\tmim. Um\tdeles,\t O\tcomprador ,\tera\tmotivo\tde\tempolgação\tpara\tela. Além da\tviolência\te\tda\tdesolação,\ta\tfilmagem\tse\tarrastou\tpor\toito\tsemanas,\tquatro\tem Los\tAngeles\te\tquatro\tna\tSicília. Quando\ta\tproposta\tchegou,\tesperava\tque\tela fosse\trecusar. Enquanto\teles\testavam\tfora,\tHarry\te\teu\tvivemos\tquase\tcomo\tum\tcasal tradicional. Harry\tme\tfazia\tovos\tcom\tbacon\tno\tcafé\tda\tmanhã\te\tpreparava\tmeus banhos. Ela trocava\tos\tlençóis,\tlavava\tas\troupas,\tmantinha\ttudo\tlimpo. Em\tseus\tdias\tde folga,\tHarry\tassumia\tessas\tobrigações. Foi\tHarry\tquem\tme\tdisse\tque\teu\testava\tlinda,\tapesar\tde\tsabermos\tmuito\tbem que\teu\tjá\ttinha\tvivido\tdias\tmelhores. Foi\tHarry\tquem\tdormiu\tcomigo\ttodas\tas\tnoites,\tsegurando\tminha mão\taté\teu\tpegar\tno\tsono,\tme\tabraçando\tquando\tfiquei\tme\tsentindo\tuma péssima\tmãe\tpor\tter\tarranhado\to\trosto\tde\tConnor\tuma\tvez\tenquanto\tdava\tbanho nela."
          },
          "metadata": {}
        },
        {
          "output_type": "display_data",
          "data": {
            "text/plain": [
              "<IPython.core.display.Markdown object>"
            ],
            "text/markdown": "### Página 274"
          },
          "metadata": {}
        },
        {
          "output_type": "display_data",
          "data": {
            "text/plain": [
              "<IPython.core.display.Markdown object>"
            ],
            "text/markdown": "Harry\te\teu\tsempre\ttínhamos\tsido\tpróximos,\tcomo\tse\tfôssemos\tuma\tfamília, mas\tdurante\tesses\tmeses\tme\tsenti\tuma\tesposa\tde\tverdade. Harry\tprovou\tque\testava\tpor\tperto\tpara celebrar\tos\tbons\tmomentos\te\tme\tapoiar\tnas\tpiores\tsituações. “Se\texistirem\toutros\ttipos\tde\talmas\tgêmeas”,\teu\tdisse para\tele\tnuma\ttarde,\tenquanto\tnós\tdois\testávamos\tno\tterraço\tcom\tConnor, “então\tvocê\té\ta\tminha.” Harry\testava\tsó\tde\tshort,\te\tsem\tcamisa. Dava\tpara\tver\tuma\tpequena\tmancha\tbranca\tsob\tseu\tqueixo. Vendo\tHarry\tcom ela\tno\tcolo,\tpercebi\to\tquanto\tos\tdois\teram\tparecidos. “Tenho\tcerteza\tabsoluta\tde\tque\tpreciso\tde\tvocê\tmais\tdo\tque qualquer\toutra\talma\tviva\tdeste\tmundo”,\tele\tfalou. Pelo\tresto\tda\tnossa\tvida,\tcontinuamos\tdizendo\tisso. A\túnica\texceção\tpara absolutamente\ttudo\tera\tConnor. Com\to\tretorno\tde\tCelia\te\tJohn,\tas\tcoisas\tvoltaram\tao\tnormal. Connor\tficava\tno\tmeu\tapartamento,\tmas todos\tsabíamos\tque\tHarry\tviria\tnos\tvisitar\tde\tdia\te\tà\tnoite,\tpara\tcuidar\tda\tgente. Mas\tnaquela\tprimeira\tmanhã,\tperto\tda\thora\tem\tque\tHarry\tviria\tpara\to\tcafé\tda manhã,\tCelia\tvestiu\to\trobe\te\tfoi\tpara\ta\tcozinha,\tonde\tcomeçou\ta\tpreparar\tum mingau\tde\taveia. Eu\ttinha\tacabado\tde\tdescer,\tainda\tde\tpijama,\te\testava\tsentada\tjunto\tà\tilha\tda cozinha\tcom\tConnor\tquando\tHarry\tchegou."
          },
          "metadata": {}
        },
        {
          "output_type": "display_data",
          "data": {
            "text/plain": [
              "<IPython.core.display.Markdown object>"
            ],
            "text/markdown": "### Página 275"
          },
          "metadata": {}
        },
        {
          "output_type": "display_data",
          "data": {
            "text/plain": [
              "<IPython.core.display.Markdown object>"
            ],
            "text/markdown": "“Ah”,\tele\tfalou,\tolhando\tpara\tCelia\tcom\ta\tpanela\tno\tfogão. “Eu\tvim\tpreparar\tovos\tcom\tbacon.” “Pode\tdeixar\tcomigo”,\tCelia\tdisse. Tem\tpara\tvocê\ttambém,\tse\testiver\tcom\tfome.” Harry\tme\tolhou,\tsem\tsaber\to\tque\tfazer. A panela\tdeixou\tna\tpia,\tpara\tLuisa\tlavar. Nesse\tmomento\tme\tdei\tconta\tde\tcomo\tnosso\tesquema\tera\testranho. Harry\te eu\tpagávamos\to\tsalário\tde\tLuisa,\tmas\tela\tnem\tmorava\tlá. Celia\te\tJohn\tpagavam a\thipoteca\tdo\tapartamento\tonde\tHarry\tvivia. Ele\te\teu\tcomeçamos\ta\ttomar\to\tmingau\tao mesmo\ttempo. Quando\tCelia\tvoltou,\tnós\tnos\tolhamos\te\tsorrimos. Harry\ttentou me\tdizer\tuma\tcoisa\te,\tapesar\tde\tnão\tconseguir\tler\tseus\tlábios,\teu\tsoube exatamente\to\tque\tera,\tporque\ttambém\testava\tpensando\ta\tmesma\tcoisa. Celia\tse\tvirou\tde\tcostas\tpara\tnós\te\tofereceu\tumas\tpassas. E,\tcom\tnós\ttrês\tsentados\tna\tcozinha,\ttomando\tnossos\tmingaus\tem\tsilêncio,\tCelia fez\tsua\tafirmação. Quem\tprepararia\tmeu\tcafé\tda\tmanhã\tseria\tela. E,\tquando\tficamos\tsozinhas,\tCelia\tfalou:\t“Max\tGirard\tvai fazer\tuma\tprodução\tchamada\t Três\tda\tmanhã \tpara\ta\tParamount. Eu\tmantinha\tum\tcontato\tocasional\tcom\tMax\tdesde\tquando\tele\tme\tdirigiu\tem Boute-en-Train . Ele\tdemonstrava\tum interesse\tdespudorado\tpor\tmim,\tuma\tcoisa\tlasciva. “Você\tacha\tque\teu\tdeveria\tfazer\tum\tfilme\tcom Max?” Celia\tassentiu."
          },
          "metadata": {}
        },
        {
          "output_type": "display_data",
          "data": {
            "text/plain": [
              "<IPython.core.display.Markdown object>"
            ],
            "text/markdown": "### Página 276"
          },
          "metadata": {}
        },
        {
          "output_type": "display_data",
          "data": {
            "text/plain": [
              "<IPython.core.display.Markdown object>"
            ],
            "text/markdown": "Apesar\tde\teu\tachar\to\tcara\tum\tbrucutu,\treconheço\tque\tele\tfaz\tbons\tfilmes. Eles\tprecisam\tde\tuma loiraça\tbombástica.” Fiz\tque\tnão\tcom\ta\tcabeça. O\tmundo\tinteiro\tsabe\tdisso.” Celia\ttambém\tbalançou\ta\tcabeça. “É\texatamente\tpor\tisso\tque\tvocê\t precisa fazer.” “Por\tquê?” “Porque\tvocê\té\tuma\tmulher\tsensual,\tEvelyn. Não deixe\tque\tninguém\ttire\tisso\tde\tvocê. Não\taceite\tque\tsua\tcarreira\tsiga\tos\ttermos\tdeles. O\tque\tvai\tser\ta\tpartir\tde\tagora? Vai\tinterpretar\tuma\tmãe\tem\ttodos\tos\tpapéis\tque\taceitar\tdaqui\tpara\ta\tfrente? Só vai\tinterpretar\tfreiras\te\tprofessoras?” “Não”,\tfalei. Faça\to\tque\tninguém espera.” “As\tpessoas\tvão\tdizer\tque\té\tinapropriado.” “A\tEvelyn\tque\teu\tamo\tnão\testá\tnem\taí\tpara\tisso.” Fechei\tos\tolhos\te\tpensei\tnas\tpalavras\tdela,\tbalançando\ta\tcabeça. Celia\tsabia\tque\teu\tnão\tficaria\tfeliz sendo\tlimitada,\trelegada\ta\tsegundo\tplano. Ela\tqueria\testar\tao\tlado\tde\tuma\tloira\tbombástica. Sempre\tachei\tfascinante\ta\tmaneira\tcomo\tas\tcoisas\tpodem\tser simultaneamente\tverdadeiras\te\tfalsas,\tcomo\to\tmesmo\tindivíduo\tpode\tser\tbom\te"
          },
          "metadata": {}
        },
        {
          "output_type": "display_data",
          "data": {
            "text/plain": [
              "<IPython.core.display.Markdown object>"
            ],
            "text/markdown": "### Página 277"
          },
          "metadata": {}
        },
        {
          "output_type": "display_data",
          "data": {
            "text/plain": [
              "<IPython.core.display.Markdown object>"
            ],
            "text/markdown": "ruim,\tcomo\talguém\tpode\tamar\tde\tuma\tforma\tlinda\te\taltruísta\te\tainda\tassim\tser implacável\tna\thora\tde\tarrancar\to\tque\tquer\tda\tpessoa\tamada. Ela\tera\tuma\tmulher\tmuito\tcomplicada, nunca\tprevisível. Ela\tjá\ttinha\tdito:\t Vai,\tpode\tter\tum\tbebê . Mas\tfaltou\tacrescentar:\t Só\tnão\taja como\tuma\tmãe . Para\tfelicidade\te\tinfelicidade\tdela,\teu\tnão\ttinha\ta\tmenor\tintenção\tde\tser mandada\tnem\tmanipulada,\tem\tsentido\tnenhum. Então\tli\to\troteiro\te\tpassei\talguns\tdias\tpensando\ta\trespeito. E\tacabei\tacordando\tuma\tmanhã\tpensando:\t Eu\tquero\tesse\tpapel. Porque\tquero\tmostrar\tque\tainda\tsou\tuma\tmulher\tindependente. Liguei\tpara\tMax\tGirard\te\tdisse\tque\ttoparia\tfazer\to\tfilme\tse\tele\ttivesse interesse. “Mas\testou\tsurpreso\tpor\tvocê\tquerer\tfazer\tisso”,\tMax\tfalou. “Eu\testou\tà\tvontade\tcom\tessa\tideia. “Evelyn,\tvocê\tpoderia\tter\tnoventa\te\tsete anos\tque\to\tmundo\tainda\tfaria\tfila\tpara\tver\tseus\tpeitos.” “Então\tdo\tque\tvocê\testá\tfalando?” “Don”,\tele\tdisse. Do\tcomeço\tao\tfim.” “Quê?” “Você\tvai\tcontracenar\tcom\tDon\tAdler.”"
          },
          "metadata": {}
        },
        {
          "output_type": "display_data",
          "data": {
            "text/plain": [
              "<IPython.core.display.Markdown object>"
            ],
            "text/markdown": "### Página 278"
          },
          "metadata": {}
        },
        {
          "output_type": "display_data",
          "data": {
            "text/plain": [
              "<IPython.core.display.Markdown object>"
            ],
            "text/markdown": "E,\tem\tsegundo\tlugar,\tpareceria\tuma\tcoisa\tcruel,\tpara\tser\tsincera. Depois\tdo\tdivórcio\tde\tRuby,\tnão\tse\tcasou de\tnovo,\te\to\tboato\tera\tque\tsua\tbebedeira\testava\tsaindo\tdo\tcontrole.” “Então\tvocê\tse\tsentiu\tmal\tpor\tele? Pelo\tseu\tabusador?” “Relacionamentos\tsão\tcomplicados”,\tEvelyn\tdiz. “As\tpessoas\tsão\tconfusas,\te o\tamor\tpode\tter\tum\tlado\tfeio. Eu\ttenho\tessa\ttendência\tde\tsempre\tacabar\tpecando pela\tcompaixão.” “Você\testá\tdizendo\tque\tficou\tsensibilizada\tpelo\tque\tele\testava\tpassando?” “Estou\tdizendo\tque\tvocê\tpoderia\tter\tcompaixão\tpela\tminha\tsituação complicada\tna\tépoca.” Depois\tdesse\tcorte,\tfico\tolhando\tpara\to\tchão,\tincapaz\tde\tencará-la. “Nunca\testive\tnessa\tsituação\tantes,\te\teu…\tEu\tnão\tsei\tonde estava\tcom\ta\tcabeça\tquando\tinventei\tde\tfazer\tqualquer\tjulgamento. Don\tnão\trepresentava\tmais\tuma\tameaça para\tmim. Então\tdisse\tpara\tMax que\tiria\tme\tencontrar\tcom\tele. Celia\tme\tdeu\tapoio,\tmas\tficou\thesitante\tquando"
          },
          "metadata": {}
        },
        {
          "output_type": "display_data",
          "data": {
            "text/plain": [
              "<IPython.core.display.Markdown object>"
            ],
            "text/markdown": "### Página 279"
          },
          "metadata": {}
        },
        {
          "output_type": "display_data",
          "data": {
            "text/plain": [
              "<IPython.core.display.Markdown object>"
            ],
            "text/markdown": "Então\tmeus\trepresentantes\tligaram\tpara\to pessoal\tdo\tDon,\te\tdefinimos\tum\tlugar\tpara\tconversar\tquando\teu\testivesse\tem Los\tAngeles. Foi\tassim\tque\tacabei\tencontrando\tmeu ex-marido\tpela\tprimeira\tvez\tem\tquase\tquinze\tanos\tpara\tcomer\tuns\tsanduíches Reubens.”"
          },
          "metadata": {}
        },
        {
          "output_type": "display_data",
          "data": {
            "text/plain": [
              "<IPython.core.display.Markdown object>"
            ],
            "text/markdown": "### Página 280"
          },
          "metadata": {}
        },
        {
          "output_type": "display_data",
          "data": {
            "text/plain": [
              "<IPython.core.display.Markdown object>"
            ],
            "text/markdown": "“Me\tdesculpa,\tEvelyn”,\tDon\tfalou\tao\tsentar. Achei\tque\to\tpedido\tde\tdesculpas\tfosse\tpelo atraso. “É\tsó\tuma\te\tcinco”,\trespondi. “Tudo\tbem.” “Não”,\tele\tfalou,\tsacudindo\ta\tcabeça. Os\tanos\tque\tpassamos\tafastados\tnão tinham\tfeito\tbem\tpara\tDon. Seu\trosto\testava\tinchado,\te\tsua\tbarriga,\tcrescida. Mas\tele\tainda\tera\tmais\tbonito\tque\tqualquer\tum\tali. Don\tera\to\ttipo\tde\thomem que\tsempre\tia\tser\tbonito,\tnão\timportava\to\tque\tacontecesse. A\tgarçonete\tse\taproximou\tpara\tperguntar\to\tque ele\tia\tbeber. Quando\tela\tse\tafastou,\tfiquei\tsem\tsaber\to\tque\tdizer. “Há\tduzentos\te\tcinquenta\te\tseis\tdias.” “Tudo\tisso,\té?”,\tfalei,\tbebericando\tmeu\tchá\tgelado. E\tme\tarrependo\tprofundamente.” Eu\ttinha\tatravessado\to\tpaís\tpara\tdescobrir\tse\tseria\tcapaz\tde\tfazer\tum\tfilme com\tele,\tnão\tpara\treceber\tum\tpedido\tde\tdesculpas. Simplesmente\tpensei\tem\tusá-lo\tda\tmesma\tforma\tcomo\tfiz\tanos\tantes —\to\tnome\tdele\tassociado\tao\tmeu\tgeraria\tfalatório. Mas\to\tarrependimento\tdo\thomem\tdiante\tde\tmim\tera\tsurpreendente\te desconcertante."
          },
          "metadata": {}
        },
        {
          "output_type": "display_data",
          "data": {
            "text/plain": [
              "<IPython.core.display.Markdown object>"
            ],
            "text/markdown": "### Página 281"
          },
          "metadata": {}
        },
        {
          "output_type": "display_data",
          "data": {
            "text/plain": [
              "<IPython.core.display.Markdown object>"
            ],
            "text/markdown": "Qual\to\tsentido\tdisso?” A\tgarçonete\tvoltou\tpara\tpegar\tnossos\tpedidos. “Um\tReuben,\tpor\tfavor”,\tfalei,\tentregando\to\tcardápio. Se\tera\tpara\tter\tuma conversa\tséria,\teu\tia\tprecisar\tde\tuma\trefeição\tdecente. “O\tmesmo\tpara\tmim”,\tDon\tdisse. A\tgarçonete\tnos\treconheceu;\tdeu\tpara\tver\tque\testava\ttentando\tesconder\to sorriso. Quando\tela\tsaiu,\tDon\tse\tinclinou\tpara\ta\tfrente. “Você\tter\tmelhorado\tnão\tmuda nada\tpara\tmim.” “Eu\tnão\tvou\tmachucar\tmais\tninguém\tdo\tjeito\tcomo\tfazia\tna\tépoca”,\tDon disse. “Mesmo\tassim”,\tcomplementei,\t“não\tdá\tpara\tsair tratando\tas\tpessoas\tque\tnem\tmerda\te\tdepois\tachar\tque\tum\tpedido\tde\tdesculpas apaga\ttudo.” Don\tsacudiu\ta\tcabeça,\ttodo\thumilde. “Eu\tsei disso.” “E\tse\tseus\tfilmes\tnão\ttivessem\tfracassado\te\tAri\tSullivan\tnão\tte\tchutasse\tdo estúdio\t—\tassim\tcomo\tvocê\tpediu\tque\tele\tfizesse\tcomigo\t—,\tainda\tcontinuaria vivendo\tbêbado\tcomo\tum\tgambá.” Don\tassentiu. Me\tdói\tdizer\tque\tvocê\ttem\trazão\tnisso.” Eu\tqueria\tmais. Só\tsentia\tque\tnão\testava\tentendendo\tnada."
          },
          "metadata": {}
        },
        {
          "output_type": "display_data",
          "data": {
            "text/plain": [
              "<IPython.core.display.Markdown object>"
            ],
            "text/markdown": "### Página 282"
          },
          "metadata": {}
        },
        {
          "output_type": "display_data",
          "data": {
            "text/plain": [
              "<IPython.core.display.Markdown object>"
            ],
            "text/markdown": "“Eu\tme\tapaixonei\tpor\tvocê\tassim\tque te\tvi. E\testraguei\ttudo\tporque\tvirei\tum\thomem\tde\tquem\tnão tenho\to\tmenor\torgulho. Às\tvezes\timagino\tcomo\tseria\tvoltar\tpara o\tdia\tdo\tnosso\tcasamento\tpara\tpoder\treviver\ttudo,\tcorrigindo\tmeus\terros\tpara que\tvocê\tjamais\tprecisasse\tpassar\tpelo\tque\tpassou\tpor\tminha\tcausa. Sei\tque\tnão dá\tpara\tfazer\tisso,\tmas\tpelo\tmenos\tposso\tte\tolhar\tnos\tolhos\te\tdizer,\tdo\tfundo\tdo coração,\tque\treconheço\to\tquanto\tvocê\té\tincrível,\te\tque\tpoderíamos\tter\tsido ótimos\tjuntos,\te\tque\ttudo\to\tque\tnós\tperdemos\tfoi\tculpa\tminha,\te\tque\testou comprometido\tcomigo\tmesmo\ta\tnunca\tmais\tme\tcomportar\tassim,\te\tlamento muito,\tmuito\tmesmo,\tde\tverdade.” Depois\tde\ttantos\tanos,\tde\ttantos\tfilmes,\tde\ttantos\tcasamentos,\teu\tjamais pensei\tem\tvoltar\tno\ttempo\tna\tesperança\tde\tque\tDon\te\teu\tpudéssemos\tfazer\ttudo diferente. Minha\thistória\tdepois\tde\tDon\tera\ttoda\tresponsabilidade\tminha,\tcom todas\tas\tconfusões\te\talegrias,\te\tessas\texperiências\tme\tcolocaram\texatamente onde\teu\tqueria. Tinha\tum\tapartamento maravilhoso\tnuma\tcidade\ta\tque\thavia\tvoltado. O\tque\tDon\tAdler\tpoderia\ttirar\tde mim? Não\thavia\tum\tpingo\tde\tmedo\tno\tmeu\tcorpo. E\tentão\tpercebi:\tse\tera\tassim,\to\tque\ttinha\ta\tperder? Não\tcheguei\ta\tdizer\tas\tpalavras\t“eu\tte\tperdoo”\tpara\tDon\tAdler. Simplesmente peguei\ta\tcarteira\tna\tbolsa\te\tfalei:\t“Quer\tver\tuma\tfoto\tda\tConnor?”. Acho\tque\ttodas\tas\tmulheres\tdo\tpaís gostariam\tde\tser\tEvelyn\tHugo.” Joguei\ta\tcabeça\tpara\ttrás\te\tri."
          },
          "metadata": {}
        },
        {
          "output_type": "display_data",
          "data": {
            "text/plain": [
              "<IPython.core.display.Markdown object>"
            ],
            "text/markdown": "### Página 283"
          },
          "metadata": {}
        },
        {
          "output_type": "display_data",
          "data": {
            "text/plain": [
              "<IPython.core.display.Markdown object>"
            ],
            "text/markdown": "levados\tpela\tgarçonete,\teu\tdisse\tque\ttoparia\tfazer\to\tfilme. Acho\tque\teu\te\tvocê… Acho\tque\tvamos\tproporcionar\tum\tespetáculo\te\ttanto.” “Nós\tnão\tsomos\tamigos,\tDon”,\tfalei. “Quero\tdeixar\tisso\tbem\tclaro.” Don\tassentiu. “Eu\tentendo.” “Mas\tacho\tque\tpodemos\tter\tuma\trelação\t amigável .” Don\tsorriu."
          },
          "metadata": {}
        },
        {
          "output_type": "display_data",
          "data": {
            "text/plain": [
              "<IPython.core.display.Markdown object>"
            ],
            "text/markdown": "### Página 284"
          },
          "metadata": {}
        },
        {
          "output_type": "display_data",
          "data": {
            "text/plain": [
              "<IPython.core.display.Markdown object>"
            ],
            "text/markdown": "Pouco\tantes\tde\tas\tfilmagens\tcomeçarem,\tHarry\tfez\tquarenta\te\tcinco\tanos. Ele avisou\tque\tnão\tqueria\tuma\tgrande\tcomemoração\tnem\tnada\tmuito\tformal. Só queria\tpassar\tum\tdia\tagradável\tconosco. Então\tJohn,\tCelia\te\teu\tplanejamos\tum\tpiquenique\tno\tparque. John\tfoi\tà\tloja\tde\tdepartamentos\te\tcomprou\tum guarda-sol\tgrande\to\tbastante\tpara\tfazer\tsombra\te\tnos\tproteger\tde\tolhares curiosos. No\tcaminho\tpara\tcasa,\tteve\ta\tideia\tde\tcomprar\tperucas\te\tóculos\tde\tsol para\tnós\ttambém. Naquela\ttarde,\tnós\ttrês\tdissemos\tpara\tHarry\tque\ttínhamos\tuma\tsurpresa\te fomos\tpara\to\tparque,\tcom\tConnor\tmontada\tnas\tcostas\tdele. “Alguém\tpelo\tmenos\tme\tdê\tuma pista.” “Vou\tdar\tuma\tpequenininha”,\tCelia\tfalou\tenquanto\tatravessávamos\ta\tQuinta Avenida. Ele\té\tbom\tdemais em\tdecifrar\tesse\ttipo\tde\tcoisa. Vi Connor\tabrir\tum\tsorriso\tao\touvir\tseu\tnome. Quando\tCelia\tpassou\tpela\tentrada\tdo\tparque,\tque\tficava\ta\tmenos\tde\tuma quadra\tdo\tapartamento,\tHarry\tviu\to\tcobertor\testendido,\to\tguarda-sol,\ta\tcesta,\te sorriu."
          },
          "metadata": {}
        },
        {
          "output_type": "display_data",
          "data": {
            "text/plain": [
              "<IPython.core.display.Markdown object>"
            ],
            "text/markdown": "### Página 285"
          },
          "metadata": {}
        },
        {
          "output_type": "display_data",
          "data": {
            "text/plain": [
              "<IPython.core.display.Markdown object>"
            ],
            "text/markdown": "“Eu\tfiz\ta\tsangria”,\tCelia\tfalou. “E\tLuisa\tpreparou\ta\tcomida,\tobviamente.” “Obviamente”,\tHarry\tfalou,\taos\trisos. E\tJohn\tcolocou\tuma\tcomprida,\tde\tcabelos castanhos,\tque\to\tfazia\tparecer\tum\thippie. Todos\tnós\tdemos\trisadas\tquando\tolhamos\tuns\tpara\tos\toutros,\tmas\tfiquei impressionada\tcom\to\tvisual\trealista\tque\tnos\tconferiu. E,\tquando\tcoloquei\tos óculos\tescuros,\tme\tsenti\tum\tpouco\tmais\tlivre. “Se\tvocê\tcomprou\tas\tperucas\te\tCelia\tfez\ta\tsangria,\to\tque\tEvelyn\tfez?”,\tHarry perguntou\tdepois\tde\tcolocar\tConnor\tno\tcobertor. “Boa\tpergunta”,\tJohn\tfalou\tcom\tum\tsorriso. “E\tsó\tela\tpode\tresponder.” “Ah,\teu\tajudei,\tsim”,\tfalei. Ergui\tos\tolhos\te\tdei\tde\tcara\tcom\tos\ttrês\tme\tencarando\tcom\texpressões brincalhonas. “Eu…”\tTentei\tapontar\tcom\tum\tgesto\tvago\tpara\ta\tcesta\tde\tpiquenique. “Ah,\ttudo\tbem.”\tPeguei\tConnor\tno\tcolo\tquando\tela\tcomeçou\ta\tfazer\tcareta. “Eu\tnão\tfiz porcaria\tnenhuma.” Os\ttrês\tcomeçaram\ta\trir\tda\tminha\tcara,\te\tConnor\tcaiu\tna\trisada\ttambém. Harry\tse\tinclinou\tpara\ta\tfrente\te\tdeu"
          },
          "metadata": {}
        },
        {
          "output_type": "display_data",
          "data": {
            "text/plain": [
              "<IPython.core.display.Markdown object>"
            ],
            "text/markdown": "### Página 286"
          },
          "metadata": {}
        },
        {
          "output_type": "display_data",
          "data": {
            "text/plain": [
              "<IPython.core.display.Markdown object>"
            ],
            "text/markdown": "um\tbeijo\tna\ttesta\tde\tConnor. Foi\tuma\tdas\túltimas\tocasiões\tem\tque\testivemos\ttodos\tjuntos,\trindo,\tsorrindo, felizes."
          },
          "metadata": {}
        },
        {
          "output_type": "display_data",
          "data": {
            "text/plain": [
              "<IPython.core.display.Markdown object>"
            ],
            "text/markdown": "### Página 287"
          },
          "metadata": {}
        },
        {
          "output_type": "display_data",
          "data": {
            "text/plain": [
              "<IPython.core.display.Markdown object>"
            ],
            "text/markdown": "Don\te\teu\testávamos\tno\tmeio\tdas\tfilmagens\tde\t Três\tda\tmanhã \tem\tNova\tYork. Luisa,\tCelia\te\tHarry\tse\trevezavam\tcuidando\tde\tConnor\tenquanto\teu\ttrabalhava. Os\tdias\testavam\tsendo\tmais\tlongos\tdo\tque\teu\tesperava,\te\tas\tgravações\tse arrastavam. Ele\testava\tpegando elementos\tda\tsua\tvida\tpessoal\te\ttransportando\tpara\to\tfilme. No\tset,\ta\tgente\tsempre\ttorce\tpara\tque\ttudo\tse\trevele\tde\tforma\tmágica\tdiante das\tlentes\tdas\tcâmeras. Mesmo\tquando\tHarry\te\teu\ttrabalhávamos\tjuntos,\ttendo\tacesso\tao\tprimeiro corte\tdas\tfilmagens\te\tvendo\ttantas\tvezes\tque\tperdíamos\ta\tnoção\tdo\tque\tera realidade\te\tdo\tque\tera\tfilme,\tsó\thavia\ta\tplena\tcerteza\tde\tque\ttodas\tas\tpartes\tiam se\tencaixar\tcom\tperfeição\tquando\tvíamos\to\tcopião. Mas,\tno\tset\tde\t Três\tda\tmanhã ,\teu\tsimplesmente\tsabia. Seria\ttão\tbom\tque\talteraria\ta\tmaneira\tcomo\tos\tfilmes\teram\tfeitos. Quando\tMax\tpediu\tmais\tnoites,\tabri\tmão de\tjantares\te\tconversas\tcom\tCelia."
          },
          "metadata": {}
        },
        {
          "output_type": "display_data",
          "data": {
            "text/plain": [
              "<IPython.core.display.Markdown object>"
            ],
            "text/markdown": "### Página 288"
          },
          "metadata": {}
        },
        {
          "output_type": "display_data",
          "data": {
            "text/plain": [
              "<IPython.core.display.Markdown object>"
            ],
            "text/markdown": "Por\tfazê-la\tficar\tem\tcasa\tcuidando\tde\tConnor\tpara mim. Dava\tpara\tver\tque\tela\testava\tum\ttanto\tarrependida\tde\tter\tme\tincentivado\ta fazer\to\tfilme. Acho\tque\tnão\tgostava\tda\tideia\tde\teu\ttrabalhar\tcom\tmeu\tex-marido todos\tos\tdias. Mas\tela\tnão\tmanifestou\tnada\tdisso,\te\tsó\tme\tdeu\tapoio. Quando\tligava\tpara dizer\tque\tchegaria\tatrasada\tpela\tmilionésima\tvez,\tela\tdizia:\t“Tudo\tbem,\tquerida. Ela\tera\tuma\texcelente\tparceira\tnesse\tsentido\t— me\tcolocava\tem\tprimeiro\tlugar,\tassim\tcomo\tmeu\ttrabalho. Perto\tdo\tfim\tdas\tfilmagens,\tapós\tum\tlongo\tdia\tde\tcenas\tde\tforte\tteor emocional,\teu\testava\tme\ttrocando\tpara\tir\tembora\tquando\tMax\tbateu\tna\tporta. “O\tque\tvocê\testá\ttramando.” Ele\tolhou\tbem\tpara\tmim\te\tsentou. Continuei\tde\tpé,\tmais\tdo\tque\tdisposta\ta\tir para\tcasa. Isso\té\tuma\tcoisa\tque nenhum\toutro\tcineasta,\tinclusive\tvocê,\tconseguiu\tde\tmim\tantes."
          },
          "metadata": {}
        },
        {
          "output_type": "display_data",
          "data": {
            "text/plain": [
              "<IPython.core.display.Markdown object>"
            ],
            "text/markdown": "### Página 289"
          },
          "metadata": {}
        },
        {
          "output_type": "display_data",
          "data": {
            "text/plain": [
              "<IPython.core.display.Markdown object>"
            ],
            "text/markdown": "No momento,\taté\taqui,\tela\té\tuma\tmártir. Uma\tsanta,\tque\tvem\tajudando\tMark\to\tfilme inteiro,\tdando\tapoio\tpara\tele.” “Sim,\t por\tcausa \tdo\tamor\tque\tsente\tpor\tele.” “Sim,\tmas\ttambém\tprecisamos\tentender\to\t porquê \tdesse\tamor\tpor\tele. O\tque ele\tdá\tem\ttroca\tde\ttudo\tisso?” “Aonde\tvocê\testá\tquerendo\tchegar?” “Quero\tfilmar\to\tque\tquase\tninguém\tmostra.” “E\to\tque\tseria?” “Quero\tmostrar\tvocê\ttransando\tcom\tele\tporque\tgosta\tda\tcoisa.”\tEle\tarregalou os\tolhos,\texcitado. “Quero\tmostrar\tao\tpúblico\tque\tuma\tparte\tda razão\tpara\tPatricia\tamar\tMark\té\tporque\tele\ta\tleva\tao\torgasmo.” Parei\tum\tpouco\tpara\tpensar,\ttentando\tassimilar\ta\tsituação. Não\tdeveria parecer\tum\tescândalo,\tmas\tcom\tcerteza\tera. Mas\tmulheres\tviam\to\tsexo\tcomo uma\tforma\tde\tintimidade. Os\thomens,\tcomo\tuma\tforma\tde\tprazer. É\to\tque\ta nossa\tcultura\tensina. A\tideia\tde\tque\teu\tseria\tmostrada\tdesfrutando\tdo\tmeu\tcorpo,\tdesejando\tum homem\tda\tmesma\tforma\tcomo\tera\tdesejada,\tcomo\tuma\tmulher\tque\tpunha\tseu prazer\tfísico\tem\tprimeiro\tplano…\tparecia\tdesafiadora. Max\testava\tfalando\tde\tdemonstrar\tem\timagens\to\tdesejo\tfeminino. E\tmeu primeiro\tinstinto\tfoi\tabraçar\ta\tcausa. Gostava\tda\tideia\tde\tmostrar\tuma\tmulher\ttransando\tporque\tela\tqueria"
          },
          "metadata": {}
        },
        {
          "output_type": "display_data",
          "data": {
            "text/plain": [
              "<IPython.core.display.Markdown object>"
            ],
            "text/markdown": "### Página 290"
          },
          "metadata": {}
        },
        {
          "output_type": "display_data",
          "data": {
            "text/plain": [
              "<IPython.core.display.Markdown object>"
            ],
            "text/markdown": "sentir \t prazer ,\te\tnão\tporque\tfazia\tde\ttudo\tpara\tagradar. Então,\tnum\tmomento\tde empolgação,\tlevantei,\tpeguei\tmeu\tcasaco,\testendi\ta\tmão\te\tdisse:\t“Estou\tdentro”. ” Eu\tdevia\tmesmo\tera\tter\tdito\tque\tprecisava\tpensar\ta\trespeito. Deveria\tter conversado\tcom\tCelia\tquando\tchegasse\tem\tcasa. Deveria\tter\touvido\to\tque\tela teria\ta\tdizer. Deveria\tter respeitado\to\tfato\tde\tque,\tapesar\tde\tCelia\tnão\tter\tdireito\tde\tdeterminar\to\tque\teu podia\tou\tnão\tfazer\tcom\tmeu\tcorpo,\tera\tminha\tresponsabilidade\tperguntar\tcomo minhas\tatitudes\ta\tafetariam. Deveria\tter\tfeito\tamor\tcom\tela\tnaquela\tnoite, mostrando\tque\to\túnico\tcorpo\tcom\tque\tqueria\tsentir\tprazer\tera\to\tseu. Gentilezas\tque\tconcedemos\tà\tpessoa\tamada\tquando\ta gente\tsabe\tque\tnosso\ttrabalho\tenvolve\tfazer\tcenas\tde\tsexo\tcom\toutra\tpessoa. Fui\tpara\tcasa\te\tvi\tcomo\tConnor\testava. “Como\tfoi\ta\tfilmagem?” “Tudo\tbem”,\tfalei. ,\tou\t O\tMax\tdisse\talguma\tcoisa interessante? ,\tou\tmesmo\t Como\tvai\tser\ta\tpróxima\tsemana? Só\testavam\tpresentes\tDon,\teu,\tMax,\to\tdiretor\tde\tfotografia\te\tuns dois\tcaras\tpara\tfazer\ta\tiluminação\te\tcaptar\to\tsom."
          },
          "metadata": {}
        },
        {
          "output_type": "display_data",
          "data": {
            "text/plain": [
              "<IPython.core.display.Markdown object>"
            ],
            "text/markdown": "### Página 291"
          },
          "metadata": {}
        },
        {
          "output_type": "display_data",
          "data": {
            "text/plain": [
              "<IPython.core.display.Markdown object>"
            ],
            "text/markdown": "Fechei\tos\tolhos\te\ttentei\tme\tlembrar\tde\tcomo\tera\tbom\testar\tcom\tDon\tem\ttodos aqueles\tanos. Pensei\tque\thavia\toutras\tmulheres\tpor\taí\tcom medo\tde\tsentir\tprazer,\tcom\tmedo\tde\tassumir\tseu\tpoder. Pensei\tcomo\tseria\tse pelo\tmenos\tuma\túnica\tmulher\tchegasse\tpara\to\tmarido\te\tdissesse:\t“Faz\tcomigo\to que\tele\tfez\tcom\tela”. E\tera o\tque\teu\ttinha\tentão\tcom\tCelia. Mais\ttarde,\tas\tpessoas\tcomeçaram\ta\tfalar\tque\tDon\te\teu\tfizemos\tsexo\tde verdade\tno\tfilme. Surgiu\ttodo\ttipo\tde\tboato\tdizendo\tque\ta\tcena\tnão\tfoi\tsimulada. Mas\ttudo\tisso\té\tpura\tmentira\te\tmaledicência. As\tpessoas\tpensaram\tter\tvisto\tuma\tcena\tde\tsexo\treal\tporque\ta\tenergia\tna\ttela era\tpalpável,\tporque\tnaquele\tmomento\tme\tconvenci\tde\tque\tera\tuma\tmulher desesperada\tde\tdesejo\tpor\tele,\te\tporque\tDon\tconseguia\tlembrar\tcomo\tera\tme querer\tantes\tde\tpoder\tme\tpossuir. Naquele\tdia\tno\tset\teu\tme\tsoltei\tde\tverdade. Foi\tum\tmomento\tde\tpura\teuforia\tfictícia\te imprudente. Quando\tMax\tgritou\t“Corta!”,\teu\tsaí\tdo\ttranse. Don\tperguntou\tse\testava\ttudo\tbem,\te\teu\tdei\tas\tcostas\tpara\tele,\tsem\tquerer\tser tocada. “Estou\tbem”,\tfalei,\te\tentão\tfui\tpara\to\tmeu\tcamarim,\tfechei\ta\tporta\te\tchorei\taté não\tpoder\tmais."
          },
          "metadata": {}
        },
        {
          "output_type": "display_data",
          "data": {
            "text/plain": [
              "<IPython.core.display.Markdown object>"
            ],
            "text/markdown": "### Página 292"
          },
          "metadata": {}
        },
        {
          "output_type": "display_data",
          "data": {
            "text/plain": [
              "<IPython.core.display.Markdown object>"
            ],
            "text/markdown": "As\tlágrimas\tescorreram\tpelo\tmeu\trosto\tpor\teu\tme\tdar\tconta\tdo que\thavia\tfeito\tcom\tCelia. Eu\tera\tuma\tpessoa\tque\timaginava\tseguir\tum\tdeterminado\tcódigo\tde\tconduta. Podia\tnão\tser\to\tmesmo\tdos\tdemais,\tporém\tfazia\tsentido\tpara\tmim. E\tisso\tnão\tfaria\tbem\ta\tCelia. Aquilo\tque\teu\ttinha\tacabado\tde\tfazer,\tsem\tconversar\tcom\tela\ta\trespeito,\tnão seria\tbom\tpara\ta\tmulher\tque\teu\tamava. Quando\tencerramos\to\texpediente,\tcaminhei\tas\tcinquenta\tquadras\taté\tmeu apartamento\tem\tvez\tde\tir\tde\tcarro. Celia\testava\tno\tquarto\tquando\tcheguei,\tsecando\tos\tcabelos. “Trouxe\tpara\tvocê”,\tfalei,\tentregando\tum\tbuquê\tde\tlírios-brancos. Obrigada.” Ela\tcheirou,\tpegou\tum\tcopo\tde\tvidro,\tencheu\tna\ttorneira\te\tcolocou\tas\tflores dentro. “Essas\tflores\tsão\tsó\tpara\tme\tamaciar?” Fiz\tque\tnão\tcom\ta\tcabeça. “As\tflores\tsão\tporque\teu\tte\tamo. E\teu\tnão\tdigo\tisso\ttanto\tquanto\tdeveria. É\talgo que,\tquando\taparece,\tnunca\tvem\tsozinha. Quando\tme\tsinto\tculpada\tpor\tuma coisa,\tcomeço\ta\tver\tum\tmonte\tde\toutras\tcoisas\tpela\tperspectiva\tda\tculpa. “É\tque…\tEu\tqueria\tavisar\tque\tMax\te\teu conversamos,\te\tacho\tque\ta\tcena\tde\tamor\tno\tfilme\tvai\tser\tbem\tmais\texplícita\tdo que\ta\tgente\tesperava.”"
          },
          "metadata": {}
        },
        {
          "output_type": "display_data",
          "data": {
            "text/plain": [
              "<IPython.core.display.Markdown object>"
            ],
            "text/markdown": "### Página 293"
          },
          "metadata": {}
        },
        {
          "output_type": "display_data",
          "data": {
            "text/plain": [
              "<IPython.core.display.Markdown object>"
            ],
            "text/markdown": "Para\tmostrar\to\tdesejo\tdesesperado\tde\tPatricia\tde sentir\tprazer.” Eu\testava\tmentindo\tdeslavadamente\tpara\tesconder\tuma\tomissão. Estava distorcendo\ta\tnarrativa,\tpara\tfazer\tCelia\tacreditar\tque\teu\ttinha\tconversado\tcom ela\t antes \tde\tuma\tcena\tque\tjá\testava\tgravada. “O\tdesejo\tdela\tde\tsentir\tprazer?” “Precisamos\tentender\to\tque\tPatricia\tganha\tcom\tseu\trelacionamento\tcom Mark. É\tmais\tdo\tque\tisso.” “Faz\tsentido”,\tCelia\tfalou. “Então\tisso\tresponde\tà\tpergunta\t Por\tque\tela\tainda está\tcom\tele ?” “Isso\taí”,\trespondi,\tna\tesperança\tde\tque\ttalvez\tela\tentendesse,\tde\tque\ttalvez fosse\tpossível\tdar\tum\tjeito\tna\tsituação\tretroativamente. Então\tvai ter\tuma\tcena\texplícita\tcom\tDon\te\tcomigo. Para a\tessência\tdo\tfilme\tser\tcaptada\tpor\tinteiro,\tprecisamos\tver\tos\tdois\tprotagonistas numa\tsituação\tde\tvulnerabilidade\tjuntos,\tem\tconexão…\tsexualmente\tfalando.” Celia\tme\tescutou,\tabsorvendo\tas\tpalavras. Deu\tpara\tver\tque\tela\testava refletindo\tsobre\ttudo,\ttentando\textrair\tum\tsentido\tdaquilo\tantes\tde\tdar\tsua opinião. Não\tsei\tse\tconsigo\tlidar\tcom\tisso. Sabendo\tque\tvocê\testá passando\to\tdia\ttodo\tcom\tDon,\taté\ttarde\tda\tnoite,\teu\tnunca\tvejo\tvocê,\te\tainda… sexo. Sei\tque\tas\timagens\tvão\tser\texibidas."
          },
          "metadata": {}
        },
        {
          "output_type": "display_data",
          "data": {
            "text/plain": [
              "<IPython.core.display.Markdown object>"
            ],
            "text/markdown": "### Página 294"
          },
          "metadata": {}
        },
        {
          "output_type": "display_data",
          "data": {
            "text/plain": [
              "<IPython.core.display.Markdown object>"
            ],
            "text/markdown": "“Vou\ttentar\tmesmo.” “Ótimo.” “Mas,\tEvelyn,\tnão\tsei\tse\tconsigo. Só\tde\tsaber\tque\tvocê…\tquando\tvocê dormiu\tcom\tMick,\tfiquei\tmal\tdurante\tanos,\tpensando\tem\tvocês\tdois\tjuntos.” “Eu\tsei.” “E\tvocê\tdormiu\tcom\tHarry,\tsabe-se\tlá\tquantas\tvezes”,\tela\tdisse. Quando\tas\tpessoas\tvirem\ta\tcena\tna\ttela, vão\tsaber\tque\té\tuma\tcoisa\tque\tvocês\tjá\tfizeram.” “Não\tvai\tser\treal”,\teu\tdisse. “Eu\tsei,\tmas\tvocê\testá\tme\tdizendo\tque\testá\tdisposta\ta\tfazer\tparecer\treal. “Acho\tque\testou\tdizendo\tisso\tmesmo.” Ela\tcomeçou\ta\tchorar,\tpondo\ta\tcabeça\tentre\tas\tmãos. “Sinto\tque\testou decepcionando\tvocê”,\tela\tdisse. Eu\tme conheço,\te\tsei\tque\tisso\té\tdemais\tpara\tmim. Não\tvou conseguir\tparar\tde\tpensar\tem\tvocê\tcom\tele.”\tCelia\tsacudiu\ta\tcabeça,\tresoluta. Não\ttenho\tforças\tpara\tisso. Se\ta\tsituação\tfosse\tinversa,\tvocê\tdaria\tconta. Sinto\tque estou\tte\tdesapontando. Vou\tme\tesforçar\teternamente para\tcompensar\tisso. Vou\tajudar\tvocê\ta\tconseguir\to\tpapel\tque\tquiser. E\tvou\tfirmar\ta\tcabeça\tpara\tque,\tna\tpróxima\tvez\tem\tque acontecer,\teu\testeja\tmais\tforte. Mas…\tpor\tfavor,\tEvelyn,\tnão\tconsigo\ttolerar você\tindo\tpara\ta\tcama\tcom\toutro\thomem. “Por\tfavor,\tnão\tfaz\tisso.” Meu\tcoração\tdisparou. Fiquei\tobservando\ta\tjunção\tde\tduas\ttábuas\tde\tmadeira\tsob os\tmeus\tpés,\tcom\tas\tcabeças\tdos\tpregos\tum\tpouco\tafundadas\tdemais. Então\tergui\tos\tolhos\te\tfalei:\t“Já\testá\tfeito”."
          },
          "metadata": {}
        },
        {
          "output_type": "display_data",
          "data": {
            "text/plain": [
              "<IPython.core.display.Markdown object>"
            ],
            "text/markdown": "### Página 295"
          },
          "metadata": {}
        },
        {
          "output_type": "display_data",
          "data": {
            "text/plain": [
              "<IPython.core.display.Markdown object>"
            ],
            "text/markdown": "E\tme\thumilhei\tde\tjoelhos,\tdesesperada,\tdepois\tde\tter\taprendido\tmuito\ttempo antes,\tda\tpior\tmaneira,\tque\tvalia\ta\tpena\tse\tjogar\tno\tchão\te\trastejar\tpor\taquilo\tque queremos\tde\tverdade. Mas,\tantes\tmesmo\tde\teu\tterminar\tmeu\tapelo,\tCelia\tfalou:\t“Eu\tsó\tqueria\tque você\tfosse\tminha\tde\tverdade. Sempre\ttive que\tme\tcontentar\tsó\tcom\tum\tpedaço. E\tnão\tdeixo\tde\tamar\tvocê\tpor\tisso. Em\tuma\tsemana,\tjuntou\ttodas\tas\tsuas\tcoisas,\tno\tmeu\tapartamento\te\tno\tdela,\te se\tmudou\tde\tvolta\tpara\tLos\tAngeles. Não\tatendia\tao\ttelefone\tquando\teu\tligava. Quando\tele\trecebeu\ta\tpapelada,\tjuro\tque\tfoi\tcomo\tse\tfosse\tpara\tmim. Estava\tbem\tclaro,\tsem\tmeias\tpalavras,\tque,\tao\tencerrar\to\tcasamento\tcom\tele, Celia\testava\tse\tdivorciando\tde\tmim. Ele\ta\tprocurou\tno Beverly\tWilshire. Peguei\tum\tavião\tpara\tLos\tAngeles\te\tbati\tna\tporta\tdela. Estava\tusando\tmeu\tDiane\tvon\tFurstenberg\tfavorito,\tporque\tCelia\ttinha\tdito uma\tvez\tque\teu\tficava\tirresistível\tnaquele\tvestido. Havia\tum\thomem\te\tuma mulher\tsaindo\tdo\tquarto\te\tatravessando\to\tcorredor\tdo\thotel,\te\tnão\tconseguiam tirar\tos\tolhos\tde\tmim. Os\tdois\tsabiam\tquem\teu\tera. Quando\tCelia\tfinalmente\tabriu,\teu\ta\tmirei\tbem\tfundo\tnos\tolhos\te\tnão\tdisse uma\tpalavra. Ela\tdevolveu\ta\tencarada,\tem\tsilêncio. E\tentão,\tcom\tlágrimas\tnos olhos,\teu\tdisse\tsimplesmente:\t“Por\tfavor”."
          },
          "metadata": {}
        },
        {
          "output_type": "display_data",
          "data": {
            "text/plain": [
              "<IPython.core.display.Markdown object>"
            ],
            "text/markdown": "### Página 296"
          },
          "metadata": {}
        },
        {
          "output_type": "display_data",
          "data": {
            "text/plain": [
              "<IPython.core.display.Markdown object>"
            ],
            "text/markdown": "“Nunca\tmais\tvai\tacontecer\tde\tnovo.” Da\túltima\tvez\tque\ttínhamos\tbrigado\tassim,\teu\tme\trecusei\ta\tme\tdesculpar. E dessa\tvez\trealmente\tachava\tque,\tse\tadmitisse\tque\testava\terrada,\tse\tcedesse,\tcom sinceridade\te\tdo\tfundo\tdo\tcoração,\tela\tiria\tme\tperdoar. “Eu\tnão\tposso\tcontinuar\tassim”,\tela\trespondeu, sacudindo\ta\tcabeça. Os\tcabelos\testavam\tcompridos,\tabaixo\tdos\tombros. Celia\ttinha\ttrinta\te\tsete\tanos,\tmas\tparecia\testar\tna\tcasa\tdos\tvinte. Sempre\tteve um\tar\tde\tjuventude\tque\tem\tmim\tna\tverdade\tnunca\texistiu. Vou\trevelar\tnossa relação\tpara\to\tmundo. Estou\tdisposta\ta\tme\tdar\tpor\tinteiro\tpara\tvocê. Mas\tentão,\tcom\tmuita\tcalma,\tsentou\tna\tpoltrona\tao\tlado\tda cama\te\tfalou:\t“Evelyn,\tvocê\tnão\té\tcapaz\tde\tceder. E\tvai\tser\ta tragédia\tda\tminha\tvida\tnão\tconseguir\tamar\tvocê\to\tsuficiente\tpara\tque\tseja\tsó minha. Não\texiste\tninguém\tcapaz\tde\tamar\tvocê\to\tbastante\tpara\tisso”. Fiquei\tpor\tlá\tmais\tum\ttempo,\tesperando\tque\tela\tvoltasse\ta\tfalar. E\tnão\thavia\tnada\tque\teu\tpudesse dizer\tpara\tfazê-la\tmudar\tde\tideia. Aceitando\ta\trealidade,\teu\tme\trecompus,\tengoli\tas\tlágrimas,\tdei\tum\tbeijo\tem sua\ttesta\te\tfui\tembora. Passei\to\tvoo\tinteiro\tde\tvolta\tpara\tNova\tYork\tescondendo\tminha\tdor. E\tsó quando\tcheguei\tao\tmeu\tapartamento\té\tque\tme\tdescontrolei. Chorei\tde\tsoluçar, como\tse\tela\ttivesse\tmorrido."
          },
          "metadata": {}
        },
        {
          "output_type": "display_data",
          "data": {
            "text/plain": [
              "<IPython.core.display.Markdown object>"
            ],
            "text/markdown": "### Página 297"
          },
          "metadata": {}
        },
        {
          "output_type": "display_data",
          "data": {
            "text/plain": [
              "<IPython.core.display.Markdown object>"
            ],
            "text/markdown": "“Ela\tnão\tqueria\tmais\tsaber\tde\tmim”,\tdiz\tEvelyn. “Mas\te\to\tfilme?” “Está\tme\tperguntando\tse\tvaleu\ta\tpena?” “Acho\tque\tsim.” “O\tfilme\tfoi\tum\tgrande\tsucesso. E\tnão\tvaleu\ta\tpena.” “Don\tAdler\tganhou\tum\tOscar\tpelo\tdesempenho\tdele,\tnão\tfoi?” Evelyn\trevira\tos\tolhos. “Porque\teu\tnão\tpodia\treceber nenhum\treconhecimento\tformal. O\tfilme\tfoi\tclassificado\tcomo\tproibido\tpara menores. Deixava\tas\tpessoas\texcitadas, e\tisso\ttinha\tque\tser\tculpa\tde\talguém,\te\teu\tpaguei\to\tpato. E\tninguém ia\tapontar\to\tdedo\tpara\tDon\tAdler,\tque\ttinha\tacabado\tde\tse\tredimir. Eles\tpuseram a\tculpa\tda\texcitação\tsexual\tque\tsentiam\tem\talguém\tque\tpoderia\tser\tchamada\tde vaca. E\tnão\tiam\tme\tdar\tum\tOscar\tpor\tisso. As\tpessoas\tiam\tver\to\tfilme escondidas\tno\tescurinho\tdo\tcinema,\tmas\tdepois\tme\tlinchavam\tem\tpúblico.” “Mas\tisso\tnão\tprejudicou\tsua\tcarreira”,\tdigo. “Você\tfez\tdois\tfilmes\tno\tano seguinte.”"
          },
          "metadata": {}
        },
        {
          "output_type": "display_data",
          "data": {
            "text/plain": [
              "<IPython.core.display.Markdown object>"
            ],
            "text/markdown": "### Página 298"
          },
          "metadata": {}
        },
        {
          "output_type": "display_data",
          "data": {
            "text/plain": [
              "<IPython.core.display.Markdown object>"
            ],
            "text/markdown": "Todo\tmundo\tme\toferecia\tpapéis em\tseu\tfilme\tcom\ta\tmaior\tboa\tvontade,\te\tdepois\tme\tesculachava\tpelas\tcostas.” “Alguns\tanos\tdepois,\tvocê\tfoi\tresponsável\tpor\taquela\tque\té\tconsiderada\tuma das\tatuações\tmais\trespeitáveis\tda\tdécada.” “Sim,\tmas\teu\tnão\tdeveria\tnem\t precisar \tdar\tuma\tvolta\tpor\tcima. Não\tfiz\tnada de\terrado.” “Bom,\thoje\tem\tdia\tnós\tsabemos\tdisso. Tem\tmuita\tgente\telogiando\tvocê,\te\to filme\ttambém,\tdesde\tmeados\tda\tdécada\tde\t1980.” “Olhando\tpara\ttrás,\ttudo\tparece\tmais\tfácil”,\tdiz\tEvelyn. “Só\tque\teu\tpassei anos\tcom\tuma\tletra\tescarlate\testampada\tno\tpeito,\tenquanto\thomens\te\tmulheres do\tpaís\tinteiro\tfaziam\ttodo\ttipo\tde\tsacanagem\tentre\tquatro\tparedes\tpensando naquele\tfilme. “Você\tganhou\tum\tOscar\tnão\tmuito\tdepois\tdisso.” “Eu\tperdi\tCelia\tpor\tcausa\tdesse\tfilme”,\tela\trebate. “A\tvida\tque\teu\ttanto adorava\tvirou\tde\tcabeça\tpara\tbaixo\tpor\tcausa\tdesse\tfilme. Não\testou\ttentando\tculpar\toutras\tpessoas pelos\terros\tque\tcometi\tno\tmeu\trelacionamento. Mas\tmesmo\tassim…”\tEvelyn fica\tem\tsilêncio,\tperdida\tpor\tum\tinstante\tnos\tpróprios\tpensamentos. “Quero\tperguntar\tuma\tcoisa\tpara\tvocê,\tporque\tacho\timportante\touvir\tisso\tda sua\tprópria\tboca”,\texplico. “Tudo\tbem…” “O\tfato\tde\tvocê\tser\tbissexual\tpesou\tno\tseu\trelacionamento?”\tQuero\tter\ta certeza\tde\tque\tvou\tretratar\ta\tsexualidade\tdela\tem\ttodas\tas\tsuas\tnuances,\ttodas\tas"
          },
          "metadata": {}
        },
        {
          "output_type": "display_data",
          "data": {
            "text/plain": [
              "<IPython.core.display.Markdown object>"
            ],
            "text/markdown": "### Página 299"
          },
          "metadata": {}
        },
        {
          "output_type": "display_data",
          "data": {
            "text/plain": [
              "<IPython.core.display.Markdown object>"
            ],
            "text/markdown": "Dá\tpara\tsentir\tum\tleve\tincômodo\tem\tseu\ttom de\tvoz. “Você\tperdeu\ta\tmulher\tque\tamava\tpor\tcausa\tdas\tsuas\trelações\tsexuais\tcom homens. Acho\tque\tisso\ttem\trelevância\tpara\tsua\tidentidade.” Evelyn\tme\tescuta\te\tdigere\tminhas\tpalavras. “Não,\teu\tperdi\ta\tmulher\tque\tamava\tporque\tdava\tmais valor\tà\tfama\tdo\tque\ta\tela. “Existe\tuma\tdiferença\tentre sexo\te\tsexualidade. Já\ta\tsexualidade\té\tuma\texpressão\tsincera\tde\tdesejo\te\tprazer. “Eu\tnão…” “Sei\tque\tvocê\tnão\tquis\tdizer\tisso”,\tgarante\tEvelyn. “Mas\tquero\tque\tvocê explique\ttudo\tusando\tas\tminhas\tpalavras. Quando\tCelia\tdisse\tque\tnão\tpodia\tme ter\tcompletamente,\tfoi\tporque\teu\tera\tegoísta\te\ttinha\tmedo\tde\tperder\ttudo\to\tque consegui. Não\tporque\texistissem\tdois\tlados\tem\tmim\tque\tuma\tsó\tpessoa\tjamais seria\tcapaz\tde\tsatisfazer. Celia\tse\tdesiludiu\tcomigo\tporque\teu\tpassava\tmetade\tdo tempo\texpressando\tmeu\tamor\te\ta\toutra\tmetade\tescondendo\tesse\tamor\tdela. Nunca\ttraí\tCelia,\tnem\tuma\túnica\tvez. Se\ta\tdefinição\tde\ttraição\té\tdesejar\toutra pessoa\te\tir\tpara\ta\tcama\tcom\tela,\tisso\teu\tnão\tfiz\tmesmo. Da\tmesma\tforma\tque\tqualquer\toutra\tmulher casada\tcom\tum\thomem."
          },
          "metadata": {}
        },
        {
          "output_type": "display_data",
          "data": {
            "text/plain": [
              "<IPython.core.display.Markdown object>"
            ],
            "text/markdown": "### Página 300"
          },
          "metadata": {}
        },
        {
          "output_type": "display_data",
          "data": {
            "text/plain": [
              "<IPython.core.display.Markdown object>"
            ],
            "text/markdown": "E\tnão\tparei\tde\tfazer\tisso,\tnem\tmesmo\tpor\tela. Coloquei\tCelia\tnuma\tposição\tem\tque\tela\tera\tobrigada\ta\taprovar\tminhas escolhas\tapesar\tde\tsuas\tobjeções. Celia\tpode\tter\tme\tdeixado\tde\tum\tdia\tpara outro,\tmas\tfoi\tpor\tmágoa\tacumulada. E\tdepois\tainda\tfiquei\tsurpresa\tquando\tvirou\tuma\tferida grande\tdemais\tpara\tconseguir\tcicatrizar. E isso\tera\tmais\timportante\tpara\tmim\tque\ta\tsantidade\tdo\tnosso\trelacionamento. Porque\ttinha\tmedo\tde\tchamar\ta\tatenção\tpara\to caráter\tassexuado\tdo\tmeu\tcasamento. E\tconsiderei\tisso\tmais\timportante\tque\ta santidade\tdo\tnosso\trelacionamento. E,\tquando\tMax\tGirard\tteve\tuma\tboa\tideia para\to\taspecto\tcriativo\tde\tum\tfilme,\teu\ttopei. E\tme\tdispus\ta\tfazer\tisso\tsem\tme preocupar\tcom\ta\tsantidade\tdo\tnosso\trelacionamento.” “Você\testá\tsendo\tmuito\tdura\tconsigo\tmesma”,\tfalei. Ela\ttambém\tsabia\tser\tcruel.” Evelyn\tencolhe\tos\tombros\tde\tleve. “Ela\tsempre\tsoube\tcompensar\to\tlado\truim com\tmuita\tcoisa\tboa. Deixei\ta\tcoisa\tno\tmeio\ta meio,\to\tque\té\ta\tcoisa\tmais\tcruel\tque\talguém\tpode\tfazer\tà\tpessoa\tamada,\tporque não\tproporciona\tcoisas\tboas\tem\tquantidade\tsuficiente\tpara\tque\tconsigam suportar\tas\truins. Eu\tsó\tpercebi\tisso\tdepois\tque\tela\tme\tdeixou,\tclaro. Porque\teu\tdemorei\tdemais\tpara\tentender\to\tque\timportava\tde"
          },
          "metadata": {}
        },
        {
          "output_type": "display_data",
          "data": {
            "text/plain": [
              "<IPython.core.display.Markdown object>"
            ],
            "text/markdown": "### Página 301"
          },
          "metadata": {}
        },
        {
          "output_type": "display_data",
          "data": {
            "text/plain": [
              "<IPython.core.display.Markdown object>"
            ],
            "text/markdown": "E\tacredito\tque\tvocê\tvai\tser\tcapaz de\tretratar\tisso\tda\tmaneira\tcerta.” “Eu\tprometo”,\tdigo. E,\tjá\tque\testamos\tfalando\tde\tcomo\teu\tgostaria\tde\tser retratada,\ttem\toutra\tcoisa\tque\tprecisa\tficar\tbem\tclara. Quero,\te\tpreciso,\tter\tcerteza\tde\tque você\tvai\tregistrar\to\tque\tvou\tfalar\tagora\tcom\tabsoluta\texatidão.” “Tudo\tbem”,\trespondo. “E\to\tque\té?” Evelyn\tassume\tuma\texpressão\tmais\ttaciturna. Não\ttenho\ta\tmenor\tintenção\tde\tdizer que\tsou\tboa. Fiz\tuma\tporção\tde\tcoisas\tque\tmagoaram\tmuita\tgente,\te\tfaria\tde novo\tse\tfosse\tnecessário.” “Não\tsei,\tnão”,\tdigo. “Você\tnão\tme\tparece\tser\ttão\truim\tassim,\tEvelyn.” “Você,\tmais\tdo\tque\tqualquer\tum,\tvai\tmudar\tde\tideia\tsobre\tisso”,\tela\tretruca."
          },
          "metadata": {}
        },
        {
          "output_type": "display_data",
          "data": {
            "text/plain": [
              "<IPython.core.display.Markdown object>"
            ],
            "text/markdown": "### Página 302"
          },
          "metadata": {}
        },
        {
          "output_type": "display_data",
          "data": {
            "text/plain": [
              "<IPython.core.display.Markdown object>"
            ],
            "text/markdown": "E,\tquando\tele\tse\tfoi,\tdeixou\tum\tburaco\tenorme\tna\tnossa\tvida. E\tainda\tmais\tdifícil\tpara\tela\tentender\tpor\tque\tseu\tpai\testava\ttão arrasado. Durante\tsemanas,\tHarry\tmal\tlevantou\tda\tcama. Quando\tconseguia,\tera só\tpara\tbeber\tsuas\tdoses\tde\tuísque. Ele\tquase\tnunca\testava\tsóbrio,\te\tandava\tbem desagradável. Celia\tfoi\tfotografada\taos\tprantos,\tcom\tos\tolhos\tinjetados,\tentrando\tem\tseu trailer\tdurante\tuma\tfilmagem\tno\tArizona. Queria\tque\ttodos\tnós\tpassássemos\tpor\taquilo\tjuntos. Então\tConnor\te\teu\tpassávamos\tos\tdias\tno apartamento\tdele. Connor\tdormia\tno\tquarto\tque\tela\ttinha\tlá. E\teu\tno\tsofá\tdo quarto\tde\tHarry. Fiz\tde\ttudo\tpara\tque\tele\tse\talimentasse\tdireito. Connor estava\tpreparando\tuma\ttigela\tde\tcereais,\te\tHarry\tolhando\tpela\tjanela,\tsó\tcom\ta calça\tdo\tpijama. Quando\tele\tse\tvirou\tde\tvolta\tpara\tConnor,\teu falei:\t“Bom\tdia”. Connor\tperguntou:\t“Papai,\tpor\tque\tos\tseus\tolhos\testão\tmolhados?”."
          },
          "metadata": {}
        },
        {
          "output_type": "display_data",
          "data": {
            "text/plain": [
              "<IPython.core.display.Markdown object>"
            ],
            "text/markdown": "### Página 303"
          },
          "metadata": {}
        },
        {
          "output_type": "display_data",
          "data": {
            "text/plain": [
              "<IPython.core.display.Markdown object>"
            ],
            "text/markdown": "Não\tsei\tse\tele\testava\tchorando\tou\tse\tjá\ttinha\ttomado\talgumas\tdoses,\tapesar\tde ainda\tser\tbem\tcedo. No\tfuneral,\teu\tvesti\tum\tHalston\tpreto\tclássico. Aquela\tdor\tprofunda\te\tvisceral\tnão\tcombinava\tcom\ta\thistória\tque\tpassamos para\ta\timprensa\t—\tque\tHarry\te\tJohn\teram\tamigos,\te\tque\tmeu\tamigo\tera apaixonado\tpor\tmim. E\to\tfato\tde\tJohn\tter\tdeixado\tseu\tapartamento\tpara\tHarry também\tnão\tajudava. Apesar\tdo\tque\tmeu\tinstinto\tdizia,\tnão\tpedi\tpara\tHarry esconder\tseus\tsentimentos\tou\tabrir\tmão\tdo\tque\therdou. Não\tme\trestavam\tmais muitas\tenergias\tpara\tesconder\to\tque\téramos. E\ttinha\taprendido\tmuito\tbem\tque\to sofrimento\tàs\tvezes\tfalava\tmais\talto\tque\ta\tnecessidade\tde\tmanter\tas\taparências. Celia\testava\tlá,\tcom\tum\tminivestido\tpreto\tde\tmangas\tcompridas. Mas\tnão\tdei\tum\túnico\tpasso\tem\tsua\tdireção. Harry\tsegurou\tas\tlágrimas\tquando\to\tcaixão\tde\tJohn\tfoi\tbaixado. Connor\tme\tviu\tolhando\tpara\tela\te\tfalou. Acho que\tjá\tvi\tessa\tmoça\tem\talgum\tlugar”. “Viu,\tsim.” E\tentão\tConnor,\tminha\tmenina\tlinda,\tdisse:\t“Ela\té\ta\tque\tmorre\tno\tseu\tfilme”. E\tpercebi\tque\tela\tnão\ttinha\tnenhuma\tlembrança\tde\tCelia."
          },
          "metadata": {}
        },
        {
          "output_type": "display_data",
          "data": {
            "text/plain": [
              "<IPython.core.display.Markdown object>"
            ],
            "text/markdown": "### Página 304"
          },
          "metadata": {}
        },
        {
          "output_type": "display_data",
          "data": {
            "text/plain": [
              "<IPython.core.display.Markdown object>"
            ],
            "text/markdown": "JAMES\tE\tJOAN\tMARKER, MELHORES\tAMIGAS Celia\tSt. E\tquem\tmelhor\tdo\tque\ta Queridinha\tda\tAmérica\tpara\tmostrar\tcomo\tse\tfaz? Estamos\ttorcendo\tpara\tque\tas\tduas\ttenham\tum\tplano\tde\testrelar\tum\tfilme juntas,\tporque\tseria\tuma\tcombinação\tde\ttalentos\tformidáveis!"
          },
          "metadata": {}
        },
        {
          "output_type": "display_data",
          "data": {
            "text/plain": [
              "<IPython.core.display.Markdown object>"
            ],
            "text/markdown": "### Página 305"
          },
          "metadata": {}
        },
        {
          "output_type": "display_data",
          "data": {
            "text/plain": [
              "<IPython.core.display.Markdown object>"
            ],
            "text/markdown": "Estava\tcada\tvez\tmais parecida\tcom\tele,\tcom\tos\tolhos\tazuis\te\ta\tsilhueta\talta\te\tesbelta. E,\tquando\testava com\tela,\tele\tparava\tde\tbeber. Queria\tmuito\tser\tum\tbom\tpai,\te\tadmitia\ta responsabilidade\tde\tficar\tsóbrio\tpor\tela. Mas,\tquando\tvoltava\tpara\tseu\tapartamento\tà\tnoite,\tcoisa\tque\tainda\tmantinha em\tsegredo\tdo\trestante\tdo\tmundo,\teu\tsabia\tque\tbebia\taté\tcapotar. Eu\tprecisava\tencontrar\talguma\tcoisa que\to\tfisgasse. Não\tsó\tporque\teu\testava\tatrás\tde\tuma\tgrande atuação,\tmas\ttambém\tporque\tHarry\tnão\tfaria\tnada\tapenas\tpara\tsi\tmesmo. Foi\tquando\tMax Girard\tme\tmandou\tum\tque\testava\ttendo\tdificuldade\tpara\tcolocar\tem\tprodução. O\tnome\tdo\tfilme\tera\t Tudo\tpor\tnós . Era\tsobre\tuma\tmãe\tsolteira\tque\tse\tmuda\tpara\tNova\tYork\ta\tfim\tde\tsustentar\tos filhos\te\tir\tatrás\tde\tseus\tsonhos. Era\tsobre\ttentar\tganhar\ta\tvida\tnuma\tcidade\tfria\te difícil,\tmas\ttambém\tuma\tlição\tde\tesperança,\tde\tacreditar\tque\tera\tpossível\tquerer mais. Fui\tcorrendo\tprocurar\tHarry\te\timplorei\tpara\tque\tele\tlesse. Quando\tele\ttentou negar,\tfalei:\t“Acho\tque\tfinalmente\tposso\tganhar\tum\tOscar”."
          },
          "metadata": {}
        },
        {
          "output_type": "display_data",
          "data": {
            "text/plain": [
              "<IPython.core.display.Markdown object>"
            ],
            "text/markdown": "### Página 306"
          },
          "metadata": {}
        },
        {
          "output_type": "display_data",
          "data": {
            "text/plain": [
              "<IPython.core.display.Markdown object>"
            ],
            "text/markdown": "Adorei\tfilmar\t Tudo por\tnós \tporque,\tapesar\tde\tnão\tter\tfeito\tHarry\tlargar\ta\tbebida,\tconsegui\ttirá-lo\tda cama. Quatro\tmeses\tdepois\tque\to\tfilme\tfoi\tlançado,\tHarry\te\teu\tfomos\tjuntos\tà cerimônia\tdo\tOscar. Max\tGirard\tcompareceu\tao\tlado\tde\tuma\tmodelo\tchamada Bridget\tManners,\tmas\tdurante\tsemanas\tvinha\tdizendo\tem\ttom\tde\tbrincadeira que\tqueria\tir\tcomigo,\tque\tqueria\tme\tter\tao\tseu\tlado. Até\tfez\tuma\tpiadinha dizendo\tque,\tconsiderando\ttodos\tos\thomens\tcom\tquem\ttinha\tme\tcasado,\tera\tde partir\to\tcoração\tque\teu\tnunca\ttivesse\tme\tcasado\tcom\tele. Eu\tera\tobrigada\ta admitir\tque\tMax\testava\tse\ttornando\tuma\tpessoa\tbem\tpróxima. Então,\tapesar\tde ele\ttecnicamente\tter\tuma\tacompanhante,\ta\tsensação\tque\teu\ttive,\tenquanto\ttodos sentávamos\tjuntos\tna\tprimeira\tfileira,\tfoi\tde\tque\testava\tacompanhada\tdos\tdois homens\tmais\timportantes\tda\tminha\tvida. Connor\testava\tno\thotel,\tvendo\ttudo\tpela\ttevê\tcom\tLuisa. Com\tum Oscar\tviriam\talgumas\tcoisas\tque\tsempre\tquis:\tcredibilidade,\tdignidade. E\tentão,\tapesar\tde\ttudo\to\tque\tvinha\tpassando\tpela\tminha\tcabeça,\tele\tdisse meu\tnome. Fiquei\tpasma,\tcom\ta\trespiração\tacelerada,\tincapaz\tde\tprocessar\to\tque\ttinha ouvido. Até\tque\tHarry\tse\tvirou\tpara\tmim\te\tdisse:\t“Você\tconseguiu”."
          },
          "metadata": {}
        },
        {
          "output_type": "display_data",
          "data": {
            "text/plain": [
              "<IPython.core.display.Markdown object>"
            ],
            "text/markdown": "### Página 307"
          },
          "metadata": {}
        },
        {
          "output_type": "display_data",
          "data": {
            "text/plain": [
              "<IPython.core.display.Markdown object>"
            ],
            "text/markdown": "Levantei\te\tdei\tum\tabraço\tnele. Subi\tno\tpalco,\tpeguei\ta\testatueta\tque\tBrick\tme entregou\te\tlevei\ta\tmão\tao\tpeito\tpara\ttentar\tacalmar\tmeu\tcoração. Quando\tos\taplausos\tcessaram,\tme\tinclinei\tsobre\to\tmicrofone\te\tproferi\tum discurso\tque\tera\tao\tmesmo\ttempo\tpremeditado\te\tespontâneo. “Obrigada”,\tfalei,\tolhando\tpara\tum\tmar\tde\trostos\tlindos\te\tconhecidos. “Obrigada\tnão\tsó\tpelo\tprêmio,\tque\tvou\tguardar\tno\tcoração\tpara\tsempre,\tmas também\tpor\tme\tdeixarem\ttrabalhar\tneste\tramo. Nem\tsempre\tfoi\tfácil,\te\tsó\tDeus sabe\to\tquanto\tminha\ttrajetória\tfoi\tturbulenta,\tentão\tme\tsinto\tincrivelmente privilegiada\tpor\tlevar\ta\tvida\tque\ttenho. Então\tagradeço\tnão\tsó\ta\ttodos\tos produtores\tcom\tquem\ttrabalhei\tdesde\tos\tanos\t1950\t—\tai,\tmeu\tDeus,\testou entregando\tminha\tidade\taqui\t—,\tmas\ttambém\tmais\tespecificamente\tao\tmeu produtor\tfavorito,\tHarry\tCameron. E,\tpara\ttodos\tos\tatores\te\tatrizes\tcom quem\ttrabalhei,\tpara\ttodos\tos\tdiretores\tque\tme\tajudaram\ta\taprimorar\tmeu desempenho,\tprincipalmente\tMax\tGirard,\tmeu\tmuito\tobrigada. E\ttambém\ttem\toutra\tpessoa\tem quem\teu\tpenso\ttodos\tos\tdias.” Dez\tanos\tantes,\teu\tmorreria\tde\tmedo\tde\tcontinuar\tfalando. Apesar\tde\tnão\tconversarmos\tfazia anos. Eu\tprecisava\tmostrar\tque\tainda\ta\tamava. E\tespero\tque\tsaiba\to\tquanto\té\timportante\tpara mim. Obrigada.” Toda\ttrêmula,\teu\tdesci\tdo\tpalco\te\tme\trecompus. E\tvoltei\tao\tmeu\tlugar\tbem\ta\ttempo\tde\tver\tMax\treceber\to prêmio\tde\tMelhor\tDiretor,\te\tHarry,\to\tde\tMelhor\tFilme. Nós\ttínhamos\tescalado\ta\tmontanha\taté\to\ttopo\te\tfincado\tnossa\tbandeira."
          },
          "metadata": {}
        },
        {
          "output_type": "display_data",
          "data": {
            "text/plain": [
              "<IPython.core.display.Markdown object>"
            ],
            "text/markdown": "### Página 308"
          },
          "metadata": {}
        },
        {
          "output_type": "display_data",
          "data": {
            "text/plain": [
              "<IPython.core.display.Markdown object>"
            ],
            "text/markdown": "Max\te\teu\testávamos\tcomentando,\tmaravilhados,\ttudo\to\tque\ttínhamos conquistado\tjuntos. “Quer\tuma\tcarona\tde\tvolta\tpara\to\thotel?”,\tele\tperguntou. “Onde\testá\ta\tsua\tacompanhante?” Max\tencolheu\tos\tombros. “Acho\tque\tela\tsó\testava\tme\tusando\tpara\tconseguir acesso\tà\tcerimônia.” Eu\tdei\trisada. Vamos\tcomer\tuns hambúrgueres.” “Hambúrgueres?” “Tenho\tcerteza\tde\tque\taté\tEvelyn\tHugo\tcome\thambúrguer\tde\tvez\tem quando.” Max\tabriu\ta\tporta\tda\tlimusine\te\tficou\tesperando\tque\teu\tentrasse. Eu\tqueria\tvoltar\tpara\to\thotel\te\tficar\tcom\tConnor. Mas\ta\tideia\tde comer\tum\thambúrguer\tcom\tMax\tGirard\tna\tverdade\tnão\tme\tpareceu\ttão\truim. Minutos\tmais\ttarde,\to\tmotorista\testava\ttentando\tmanobrar\ta\tlimusine\tno drive-thru\tde\tuma\tlanchonete\tJack\tin\tthe\tBox,\te\tnós\tacabamos\tconcluindo\tque"
          },
          "metadata": {}
        },
        {
          "output_type": "display_data",
          "data": {
            "text/plain": [
              "<IPython.core.display.Markdown object>"
            ],
            "text/markdown": "### Página 309"
          },
          "metadata": {}
        },
        {
          "output_type": "display_data",
          "data": {
            "text/plain": [
              "<IPython.core.display.Markdown object>"
            ],
            "text/markdown": "era\tmais\tfácil\tdescer\te\tcomprar\tno\tcaixa. “Não\tsei\tdo\tque\tvocê\testá\tfalando”,\trespondi. Você\té\tEvelyn\tHugo.” “Que\tabsurdo.” “Nossa,\té\to\tmelhor\tdia\tda\tminha\tvida”,\tela\tfalou,\te\tgritou\tlá\tpara\tos\tfundos: “Norm,\tvem\tver. Max\tdeu\trisada,\te\tcada\tvez\tmais\tgente\tse\tjuntou\tpara\tolhar. Comecei\ta\tme sentir\tcomo\tum\tanimal\tde\tzoológico. Não\té\tfácil\tse\tacostumar\ta\tser\tobservada assim\tem\tlugares\tmuito\tfechados. O\tpessoal\tda\tcozinha\tapareceu\tpara\tme\tver. “Alguma\tchance\tde\tconseguirmos\tdois\thambúrgueres\taqui?”,\tMax\tperguntou. “Com\tqueijo\textra\tno\tmeu,\tpor\tfavor?” Todo\tmundo\to\tignorou. “Você\tme\tdá\tum\tautógrafo?”,\tpediu\ta\tmenina\tatrás\tdo\tbalcão. Tinha\ta\tesperança\tde\tque\taquilo\tnão\tiria\tdemorar\tmuito,\tque\tlogo\tpegaríamos a\tcomida\te\tiríamos\tembora. Comecei\ta\tassinar\tcardápios\te\tchapéus\tde\tpapel. “Já\testá\ttarde.”\tMas\tas\tpessoas\tnão\tparavam. “Você\tganhou\tum\tOscar”,\tdisse\tuma\tmulher\tmais\tvelha. Vi\tna\ttevê.” “Pois\té,\tganhei,\tsim”,\trespondi. Apontei\tpara\tMax,\tcom\ta\tcaneta\tainda\tna mão."
          },
          "metadata": {}
        },
        {
          "output_type": "display_data",
          "data": {
            "text/plain": [
              "<IPython.core.display.Markdown object>"
            ],
            "text/markdown": "### Página 310"
          },
          "metadata": {}
        },
        {
          "output_type": "display_data",
          "data": {
            "text/plain": [
              "<IPython.core.display.Markdown object>"
            ],
            "text/markdown": "Só\tque\testava\tcada\tvez\tmais\tcercada\tde\tgente. “Vamos\tdeixar\ta\tmoça\trespirar.”\tOlhei\tna\tdireção\tde\tonde vinha\tsua\tvoz\te\tvi\tquando\tele\tse\taproximou,\tabrindo\tespaço\tentre\tas\tpessoas. Ele\tse\tacomodou\tao\tmeu\tlado\te\tpegou\ta\tsacola\tcom\tos\thambúrgueres. “Quê?” “Eu\tte\tamo.” “Como\tassim,\tme\tama?” Ele\tse\tinclinou\tpara\to\tlado,\tamassando\tos\thambúrgueres,\te\tme\tbeijou. Para\tmim,\tfoi\tcomo\tse\talguém\ttivesse\treligado\ta\teletricidade\tnum\tprédio abandonado\tfazia\ttempo. Eu\tnão\tera\tmais\tbeijada\tcom\tesse\tdesejo,\tcom\to\ttipo\tde\tdesejo\tque\tdesperta ainda\tmais\tdesejo,\tdesde\tque\to\tamor\tda\tminha\tvida\ttinha\tido\tembora\tpela\tporta de\tcasa. E\tlá\testava\tMax,\tcom\tdois\thambúrgueres\tdeformados\tentre\tnós,\tcolando\tseus lábios\tcalorosos\taos\tmeus. “Foi\tisso\tque\teu\tquis\tdizer”,\tele\tfalou\tquando\tse\tafastou\tde\tmim. Diante\tde\tmim\thavia\tduas dúzias\tde\trosas\tvermelhas\tcom\tum\tbilhete\tdizendo:\t“Eu\tte\tamo\tdesde\tque\tnós"
          },
          "metadata": {}
        },
        {
          "output_type": "display_data",
          "data": {
            "text/plain": [
              "<IPython.core.display.Markdown object>"
            ],
            "text/markdown": "### Página 311"
          },
          "metadata": {}
        },
        {
          "output_type": "display_data",
          "data": {
            "text/plain": [
              "<IPython.core.display.Markdown object>"
            ],
            "text/markdown": "Tentei\tme\tsegurar. Não\tvai\tdar. Peça\to\tdivórcio,\t ma\tbelle ."
          },
          "metadata": {}
        },
        {
          "output_type": "display_data",
          "data": {
            "text/plain": [
              "<IPython.core.display.Markdown object>"
            ],
            "text/markdown": "### Página 312"
          },
          "metadata": {}
        },
        {
          "output_type": "display_data",
          "data": {
            "text/plain": [
              "<IPython.core.display.Markdown object>"
            ],
            "text/markdown": "“Certo”,\tdigo,\tfechando\to\tcaderno\te\tinterrompendo\ta\tgravação. Evelyn\trecolhe\tpapéis\te\tas\tcanecas\tcom\tcafé\tvelho\tque\tacumulamos\tdurante\to dia. Me\tdespeço\tde\tEvelyn\te\tsaio\tpara\ta\trua. Está\tmais\tquente\tdo\tque\teu\timaginava,\tentão\ttiro\to\tcasaco\te\tpego\to\ttelefone do\tbolso. Porque\tnão\tsei\tse\testou pronta\tpara\touvir\to\tque\tDavid\ttem\ta\tdizer. Não\tsei\tdireito\to\tque\teu\t quero \touvir da\tboca\tdele,\tmas\tsei\tque\tde\tuma\tforma\tou\tde\toutra\tvou\tme\tdecepcionar. Meu\tvoo\testá\tmarcado\tpara\tsexta\tde\tmanhã. Sei\tque\tvocê\tvai\tquerer me\tencontrar\tno\taeroporto,\tpor\tcausa\tda\tvez\tem\tque\tme\tperdi\tno\tmetrô,\tmas\tnão se\tpreocupe. Darei\tconta\tde\tir\tdo\t JFK \taté\to\tapartamento\tda\tminha filha. Ai,\tmeu\tDeus,\tserá\tque\teu\tcomprei\tuma\tpassagem\tpara Newark\tsem\tquerer? Enfim,\testou\tbem animada\tpara\tte\tver,\tminha\tfofucha. Minha\tmãe\tjá\tse\tperdeu\tem Nova\tYork\tvárias\tvezes,\tnão\tfoi\tsó\tuma. E\tsempre\tporque\tse\trecusa\ta\tpegar\tum táxi. Diz\tque\tsabe\tandar\tde\ttransporte\tpúblico,\tapesar\tde\tser\tnascida\te\tcriada\tem Los\tAngeles\te\tportanto\tnão\tfazer\tnem\tideia\tdo\tque\tseja\tuma\tbaldeação."
          },
          "metadata": {}
        },
        {
          "output_type": "display_data",
          "data": {
            "text/plain": [
              "<IPython.core.display.Markdown object>"
            ],
            "text/markdown": "### Página 313"
          },
          "metadata": {}
        },
        {
          "output_type": "display_data",
          "data": {
            "text/plain": [
              "<IPython.core.display.Markdown object>"
            ],
            "text/markdown": "Além\tdisso,\tsempre\todiei\tser\tchamada\tde\tfofucha. Isso\tme\tfaz\tlembrar\tque\teu era\tuma\tcriança\tgorda. Só\tme avisa\tqual ),\tjá\testou\tna\tfrente\tda\testação\tde\tmetrô. Eu\tpoderia\tmuito\tbem\tdizer\ta\tmim\tmesma\tque\tsó\tvou\touvir\ta\tmensagem\tde David\tquando\tchegar\tao\tBrooklyn. Mas em\tvez\tdisso\tparo\tdiante\tda\tescada\te\taperto\to\tplay. “Oi”,\tele\tdiz,\tcom\tsua\tvoz\tgrave\te\tfamiliar. “Eu\tmandei\tuma\tmensagem\tpara você. Sei\tque\tdeveria\tter\tavisado\tantes. Mas\tvocê\tnão acha\tque\ta\tgente\tprecisa\tconversar? Estou\tme\tperdendo\tno\tmeu\traciocínio,\tentão\tvou parar\tpor\taqui. Mas\tespero\tver\tvocê\tdaqui\ta\tpouco.” Quando\ta\tmensagem\ttermina,\tdesço\tcorrendo\tas\tescadas,\tpasso\to\tcartão\tna catraca\te\tentro\tno\ttrem\tum\tpouco\tantes\tde\tfecharem\tas\tportas. Arrumo\tum cantinho\tpara\tmim\tno\tvagão\tlotado\te\ttento\tme\tacalmar\tenquanto\to\tmetrô\tsegue ruidosamente\tde\testação\tem\testação. Que\tdiabos\tele\testá\tfazendo\tem\tcasa? Desço\tdo\ttrem\te\tvou\tpara\ta\trua. O Brooklyn\tparece\testar\tmais\tfrio\tque\tManhattan\thoje. Tento\tnão\tir\tcorrendo\taté\to\tapartamento. Não\tprecisa\tter\tpressa,\tdigo\ta\tmim\tmesma . Além\tdisso,\tnão\tquero\taparecer\ttoda esbaforida,\te\tmuito\tmenos\tdescabelada. Abro\ta\tporta\tda\tfrente\te\tsubo\tpara\to\tmeu\tapartamento. Na\tminha\tcozinha,\tlavando\tlouça\tcomo\tse\tmorasse\taqui."
          },
          "metadata": {}
        },
        {
          "output_type": "display_data",
          "data": {
            "text/plain": [
              "<IPython.core.display.Markdown object>"
            ],
            "text/markdown": "### Página 314"
          },
          "metadata": {}
        },
        {
          "output_type": "display_data",
          "data": {
            "text/plain": [
              "<IPython.core.display.Markdown object>"
            ],
            "text/markdown": "“Oi”,\teu\tdigo,\tdando\tuma\tolhada\tnele. Olhos\tazuis,\tcílios\tgrossos,\tcabelos\tcortados\tbem rente. Quando\teu\to\tconheci,\te\tnos\tapaixonamos,\tlembro\tde\tter\tpensado\tque\to\tfato\tde ele\tser\tbranco\ttornava\ttudo\tmais\tfácil,\tporque\tnunca\tme\tdiria\tque\tnão\tsou\tnegra o\tsuficiente. E\tpenso\tem\tEvelyn\touvindo\tde\tCelia\tque\tnão\tera\tboa\tatriz. Lembro\tde\tter\tpensado\tque\tser\ta\tpessoa\tmais\tatraente\tdo\tcasal\tera\tbom, porque\tele\tnunca\tme\tabandonaria. E\tpenso\tem\tEvelyn\tsendo\ttratada\tpor\tDon daquela\tmaneira,\tapesar\tde\tser\ttalvez\ta\tmulher\tmais\tlinda\tdo\tmundo\tna\tépoca. Mas,\tolhando\tpara\tDavid\tagora,\teu\tpercebo\tque\tfugi\tde\ttodos\tos\tmeus. David\tguarda\tno\tarmário\ta\ttigela\tque\ttem\tnas\tmãos\te\tse\tvira\tpara\tmim. “Voltei\tpara\tacertar\talgumas\tcoisinhas”,\tele\tdisse. “E\teu\tpor\tacaso\tsou\tuma\tcoisinha\tpara\tser\tacertada?”,\tquestiono. “Preciso\tme\tacertar\tcom\tvocê”,\tele\tdisse. Que\ta\tfonte\tde\ttodos\tos\tmeus\tproblemas\té\tque\tnão\tconfio\tem mim\tmesma\ta\tponto\tde\tmandar\tos\toutros\tà\tmerda? Como\tpude\tter\tpassado\ttanto tempo\tme\tcontentando\tcom\ttão\tpouco\tse\tsabia\tmuito\tbem\tque\to\tmundo\tesperava muito\tmais\tde\tmim? E\tfico\ttão\tsurpresa,\tse\tnão\tmais,\tdo"
          },
          "metadata": {}
        },
        {
          "output_type": "display_data",
          "data": {
            "text/plain": [
              "<IPython.core.display.Markdown object>"
            ],
            "text/markdown": "### Página 315"
          },
          "metadata": {}
        },
        {
          "output_type": "display_data",
          "data": {
            "text/plain": [
              "<IPython.core.display.Markdown object>"
            ],
            "text/markdown": "Eu\tfiquei\tchateado\tpor\tvocê\tnão querer\tir\tpara\tSan\tFrancisco. Porque\tachava\tque\ttinha\tdireito\tde\tpedir\tque\tvocê se\tsacrificasse\tpor\tmim,\tpela\tminha\tcarreira.” Começo\ta\tformular\tminha\tresposta,\tmas\tDavid\tcontinua\tfalando. “E\tvocê\tficou\tchateada\tpor\teu\tsimplesmente\tter\tpensado\tem\tte\tpedir\tisso, porque\tsei\tcomo\tsua\tvida\taqui\té\timportante. Mas…\texistem\toutros\tjeitos\tde\tlidar com\ta\tsituação. Podemos\tmanter\tuma\trelação\tà\tdistância\tpor\tum\ttempo. Não\tprecisamos\tabrir\tmão\tde\tnós.” Eu\tme\tsento\te\tcomeço\ta\tremexer\tas\tmãos\tenquanto\tpenso. Agora\tque\touvi isso,\tpercebo\tpor\tque\tandava\ttão\ttriste\tnas\túltimas\tsemanas,\tme\tsentindo\ttão\tmal comigo\tmesma. Quando\tDon\tme\tdeixou,\tnão\tfiquei\tcom\to\tcoração\tpartido. Simplesmente senti\tque\tmeu\tcasamento\ttinha\tfracassado. Evelyn\tdisse\texatamente\tisso\tna\tsemana\tpassada. E\tagora\teu\tentendo\tpor\tque\tme\tafetou\ttanto. Porque\ta\tverdade\té\tque,\taos\ttrinta\te\tcinco anos,\tnunca\tamei\tninguém\ta\tponto\tde\tquerer\tfazer\tum\tsacrifício. Para\tisso acontecer,\té\tpreciso\tque\teu\tabra\tmeu\tcoração\tprimeiro. Às\tvezes\to\tdivórcio\tnão\té\tum\tabalo\tsísmico. Às\tvezes\tsão\tsó\tduas\tpessoas saindo\tde\tuma\tsituação\tnebulosa."
          },
          "metadata": {}
        },
        {
          "output_type": "display_data",
          "data": {
            "text/plain": [
              "<IPython.core.display.Markdown object>"
            ],
            "text/markdown": "### Página 316"
          },
          "metadata": {}
        },
        {
          "output_type": "display_data",
          "data": {
            "text/plain": [
              "<IPython.core.display.Markdown object>"
            ],
            "text/markdown": "“E\tacho\tque\tvocê\tdeveria\tficar\tpor\tlá”,\tcomplemento. “E\tna\tminha\topinião, uma\trelação\tà\tdistância\tnão\té\ta\tsaída. Acho\tque…\to\tdivórcio\té\ta\tmelhor decisão.” “Monique…” “Me\tdesculpa”,\tdigo\tquando\tele\tsegura\tminha\tmão. Mas\tsuspeito\tque,\tlá\tno\tfundo,\té\tessa\ta\tsua\topinião\ttambém. Você\tnão veio\taté\taqui\tporque\testava\tcom\tsaudade. Ou\tporque\testava\tdifícil\tviver\tsem mim. E,\tveja\tsó,\teu\ttambém\tnão\tquero desistir. Só\tque\tessa\tnão\té\tuma\tboa\trazão\tpara\tas pessoas\tficarem\tjuntas. E\teu…\teu\tnão\ttenho\tnenhuma\trazão.”\tNão\tsei\tcomo dizer\to\tque\tquero\tde\tuma\tforma\tque\tseja\tgentil. Então\tvou\tlogo\tfalando:\t“Nunca considerei\tvocê\ta\tminha\talma\tgêmea”. Só\tquando\tDavid\tlevanta\tdo\tsofá\tpercebo\tque\timaginei\tque\tele\tfosse\tficar\tlá sentado\tpor\tum\tbom\ttempo. Mas,\tquando\tDavid\tpõe\ta\tmão\tna\tmaçaneta,\tme\tdou\tconta\tde\tque\tpus\tfim\ta uma\tvida\tmedíocre\tpara\ttentar\tbuscar\toutra\tque\talgum\tdia\tseja\trealmente\tboa. “Desejo\to\tmesmo\tpara\tvocê.” David\tabre\tum\tsorriso\tque\tmais\tparece\tuma\tcareta. Quando\tum\tcasamento\tchega\tao\tfim,\ta\tpessoa\tem\tgeral\tperde\to\tsono,\tnão\té mesmo?"
          },
          "metadata": {}
        },
        {
          "output_type": "display_data",
          "data": {
            "text/plain": [
              "<IPython.core.display.Markdown object>"
            ],
            "text/markdown": "### Página 317"
          },
          "metadata": {}
        },
        {
          "output_type": "display_data",
          "data": {
            "text/plain": [
              "<IPython.core.display.Markdown object>"
            ],
            "text/markdown": "Recebo\tuma\tligação\tde\tFrankie\tno\tdia\tseguinte\tassim\tque\tme\tsento\tcom Evelyn. Penso\tem\tdeixar\tcair\tna\tcaixa\tde\tmensagens,\tmas\tjá\ttenho\tcoisas\tdemais na\tcabeça\tno\tmomento. “Olá”,\tela\tdiz\tcom\tuma\tvoz\tleve,\tquase\talegre. “Então,\tprecisamos\tmarcar\tas sessões\tde\tfoto. “Só\tum\tminutinho.”\tPonho\to\ttelefone\tno\tmudo e\tme\tviro\tpara\tEvelyn. “Pode\tser\tsexta-feira.” “Isso\té\tdaqui\ta\ttrês\tdias.” “Sim,\teu\tacredito\tque\ta\tsexta-feira\tvem\tdepois\tda\tquinta. Ainda\ttenho\tesse direito?” Abro\tum\tsorriso\te\tbalanço\ta\tcabeça\tenquanto\tvolto\ta\tfalar\tcom\tFrankie. “Evelyn\tdisse\tque\tpode\tser\taqui\tno\tapartamento\tna\tsexta-feira.” “No\tfim\tda\tmanhã,\tquem\tsabe”,\tcomplementa\tEvelyn. “Fantástico!” Desligo\te\tme\tviro\tpara\tEvelyn. “Você\tquer\tfazer\tuma\tsessão\tde\tfotos\tdaqui\ta três\tdias?” “Não,\t você \tquer\tque\teu\tfaça\tuma\tsessão\tde\tfotos,\tesqueceu?” “Tem\tcerteza\tde\tque\tpode\tser\tna\tsexta?” “Até\tlá\tjá\tvamos\tter\tterminado”,\texplica\tEvelyn. “Tudo\tbem,\tmas\tainda\ttemos\tmuito\ta\tfalar.” “Não\tse\tpreocupe."
          },
          "metadata": {}
        },
        {
          "output_type": "display_data",
          "data": {
            "text/plain": [
              "<IPython.core.display.Markdown object>"
            ],
            "text/markdown": "### Página 318"
          },
          "metadata": {}
        },
        {
          "output_type": "display_data",
          "data": {
            "text/plain": [
              "<IPython.core.display.Markdown object>"
            ],
            "text/markdown": "Lanço\tum\tolhar\tde\tceticismo\tem\tsua\tdireção,\te\tela\tdiz:\t“Você\tdevia\testar contente,\tMonique."
          },
          "metadata": {}
        },
        {
          "output_type": "display_data",
          "data": {
            "text/plain": [
              "<IPython.core.display.Markdown object>"
            ],
            "text/markdown": "### Página 319"
          },
          "metadata": {}
        },
        {
          "output_type": "display_data",
          "data": {
            "text/plain": [
              "<IPython.core.display.Markdown object>"
            ],
            "text/markdown": "Quando\tHarry\tleu\to\tbilhete\tque\tMax\tme\tmandou,\tficou\tnum\tsilêncio perplexo. Mas\tentão\tpercebi\tque\tele estava\tpensando. Nosso\tvoo\tde\tvolta\tpara\tNova\tYork\tsaía\tdali\ta\talgumas\thoras. Connor\testava\tno\tbalanço,\teu\te\tHarry\tde\tolho\tnela. Não\tprecisamos\tmais\tnos\tesconder\tatrás\tdessa história\tde\tcasais\tamigos. Harry\ta\tolhava\tatravés\tdos\tóculos\tescuros,\tcom\tum\tsorriso\tno\trosto. “Não\tesquece\tde\tsegurar\tbem\tnas correntes\tse\tquiser\tbalançar\talto\tassim.” Ele\ttinha\tcomeçado\ta\tcontrolar\tum\tpouco\ta\tbebedeira. Estava\taprendendo\ta escolher\tos\tmomentos\tem\tque\tpoderia\tse\tdeixar\tlevar. Mas\teu\tainda\testava preocupada\tcom\to\tque\tele\tfaria\tse\tfosse\tdeixado\tsozinho. Eu continuaria\tvivendo\tno\tmesmo\tapartamento,\tcomo\tagora. Connor\tpode\tdormir\tna\tminha\tcasa\tquando\tquiser. Em\ttermos\tde\tmanter\tas\taparências,\tfaria\tmuito\tmais\tsentido. Logo\tmais\tas pessoas\tvão\tcomeçar\ta\tperguntar\tpor\tque\tcada\tum\tde\tnós\tmora\tnum\tlugar.” “Harry…”"
          },
          "metadata": {}
        },
        {
          "output_type": "display_data",
          "data": {
            "text/plain": [
              "<IPython.core.display.Markdown object>"
            ],
            "text/markdown": "### Página 320"
          },
          "metadata": {}
        },
        {
          "output_type": "display_data",
          "data": {
            "text/plain": [
              "<IPython.core.display.Markdown object>"
            ],
            "text/markdown": "“Pode\tfazer\to\tque\tvocê\tquiser. Só estou\tdizendo\tque\texistem\tboas\trazões\tpara\to\tdivórcio. E… acho\tque\tuma\tpaixão\tte\tfaria\tbem. Mas,\tpara você,\tainda\té\ttempo. Mas\tquem\tsabe\texista alguém.” “Não\tgosto\tda\tideia\tde\tme\tdivorciar\tde\tvocê”,\tfalei. “Por\tmenos\tque\tisso possa\tsignificar.” “Olha,\tpai”,\tConnor\tdiz\tenquanto\tsacode\tas\tpernas\tno\tar,\tindo\taté\to\talto,\te então\tsalta,\tcaindo\tde\tpé. “Que\tincrível!”,\tele\tdiz,\te\tentão\tse\tvira\tpara\tmim. É provável\tque\teu\ttenha\tensinado\tisso\tpara\tela.” “Imaginei.” Connor\tvoltou\tpara\to\tbalanço,\te\tHarry\tse\taproximou\tde\tmim\te\tme\tenvolveu com\to\tbraço. “Mas\tgosta\tda\tideia\tde\tse\tcasar\tcom\tMax. Caso\tcontrário,\tnão\tteria\tse\tdado\tao trabalho\tde\tme\tmostrar\tesse\tbilhete.” “Você\tjura\tque\testá\tfalando\tsério?”,\tperguntei. Max\te\teu\testávamos\tno\tapartamento\tdele\tem\tNova\tYork. Fazia\ttrês\tsemanas que\tele\ttinha\tse\tdeclarado\tpara\tmim. “Juro\tde\tpés\tjuntos.” “Pra\tvaler?” “Palavra\tde\thonra!” “A\tgente\tmal\tse\tconhece”,\teu\tdisse."
          },
          "metadata": {}
        },
        {
          "output_type": "display_data",
          "data": {
            "text/plain": [
              "<IPython.core.display.Markdown object>"
            ],
            "text/markdown": "### Página 321"
          },
          "metadata": {}
        },
        {
          "output_type": "display_data",
          "data": {
            "text/plain": [
              "<IPython.core.display.Markdown object>"
            ],
            "text/markdown": "“Nós\tnos\tconhecemos\tdesde\t1960,\t ma\tbelle . Max\tera\tum\tpouco\tmais\tvelho. Com uma\tfilha\te\tum\tmarido\tde\tfachada,\tpensei\tque\tme\tapaixonar\testivesse\tfora\tde questão\tpara\tmim. E\tlá\testava\tum\thomem,\tum\tcara\tbonito,\tde\tquem\teu\tgostava,\tcom\tquem\ttinha um\thistórico,\tdizendo\tque\tme\tamava. “Então\tvocê\testá\tsugerindo\tque\teu\tme\tsepare\tdo\tHarry? Por causa\tde\tuma\tcoisa\tque\tachamos\tque\tpode\testar\tacontecendo\tentre\tnós?” Max\tfranziu\ta\ttesta. “Eu\tnão\tsou\ttão\tburro\tquanto\tvocê\tpensa”,\tele\trespondeu. “Eu\tnão\tacho\tque\tvocê\tseja\tburro.” “Harry\té\thomossexual”,\tele\tcontinuou. “Não\tfaço\tideia do\tque\tvocê\testá\tfalando”,\tretruquei. “Essa\tfrase\tnão\tfuncionou\tna\tfila\tda\tlanchonete,\te\tnão\tvai funcionar\tagora.” “Max…” “Você\tnão\tgosta\tde\tficar\tcomigo?” “Claro\tque\tgosto.” “E\tnão\tnos\tdamos\tbem,\tem\ttermos\tcriativos?” “Claro.” “Eu\tnão\tdirigi\tvocê\tem\ttrês\tdos\tfilmes\tmais\timportantes\tda\tsua\tcarreira?” “Sim.” “E\tvocê\tacha\tque\tisso\tfoi\tpor\tacaso?” Eu\tpensei\ta\trespeito. Desde\to momento\tem\tque\tpus\tos\tolhos\tem\tvocê,\tmeu\tcorpo\tse\tencheu\tde\tdesejo. E\té porque\testou\tme\tapaixonando\tpor\tvocê\thá\tdécadas."
          },
          "metadata": {}
        },
        {
          "output_type": "display_data",
          "data": {
            "text/plain": [
              "<IPython.core.display.Markdown object>"
            ],
            "text/markdown": "### Página 322"
          },
          "metadata": {}
        },
        {
          "output_type": "display_data",
          "data": {
            "text/plain": [
              "<IPython.core.display.Markdown object>"
            ],
            "text/markdown": "“Mas\tsó\tporque\ttenho\tvocê\tpara\tme\tinspirar. Sou\ta\tpessoa\tque\ttraz\tà\ttona\to\tmelhor\tdo\tseu trabalho.” Respirei\tfundo,\trefletindo\tsobre\to\tque\tele\tdizia. “Você tem\ttoda\ta\trazão.” “Não\tconsigo\tpensar\tem\tnada\tmais\terótico\tdo\tque\tisso”,\tele\tdisse. “Servir\tde inspiração\tum\tpara\to\toutro.”\tEle\tchegou\tmais\tperto. Eu\tsentia\tsua\trespiração contra\ta\tminha\tpele. “E\tnão\tconsigo\tpensar\tem\tnada\tmais\tsignificativo\tdo\tque esse\tnosso\tjeito\tde\tse\tentender. Ninguém\tsabe\to\tque\tele\té,\te\tquem\tsabe\tnão\testá\tfalando\tnada\ta\trespeito. Preciso\tdemais de\tvocê”,\tele\tsussurrou\tno\tmeu\touvido. O\tcalor\tde\tseu\thálito,\ta\tsensação\tde\tsua barba\tpor\tfazer\troçando\tmeu\trosto,\tisso\tme\tdespertou. Abri\to\tcinto\tde\tsua calça,\tpuxando\ta\tfivela\tcom\tforça. Arrebentei\to\tbotão\tda\tminha\tcalça\tjeans. A\tmaneira\tcomo\tele\tme\tpegou,\tcomo\tse\tmovia,\tdeixava\tclaro\tque\testava louco\tpor\tmim,\tque\tse\tsentia\tum\thomem\tde\tsorte\tpor\tpoder\tme\ttocar. Quando puxei\tas\talças\tdo\tsutiã\te\tdeixei\tos\tmeus\tseios\tà\tmostra,\tele\tme\tolhou\tnos\tolhos\te levou\ta\tmão\tao\tmeu\tpeito\tcomo\tse\ttivesse\tdescoberto\tum\ttesouro\tescondido. Ele\tdeitou\tno sofá,\te\teu\tmontei\tem\tcima\tdele\te\tcomecei\ta\tme\tmexer\tdo\tjeito\tque\teu\tquis, obtendo\to\tque\tprecisava,\tsentindo\tprazer\tpela\tprimeira\tvez\tem\tanos. Era\tcomo\tencontrar\tum\toásis\tno\tdeserto. Quando\tterminei,\tnão\tqueria\tmais\tsair\tde\tperto\tdele. Queria\tficar\tao\tseu\tlado para\tsempre. “Já\tpensou\tnisso?” “Eu\tadoro\tConnor”,\tMax\tme\tdisse. Então\tpara\tmim\tisso\té um\tbenefício.”"
          },
          "metadata": {}
        },
        {
          "output_type": "display_data",
          "data": {
            "text/plain": [
              "<IPython.core.display.Markdown object>"
            ],
            "text/markdown": "### Página 323"
          },
          "metadata": {}
        },
        {
          "output_type": "display_data",
          "data": {
            "text/plain": [
              "<IPython.core.display.Markdown object>"
            ],
            "text/markdown": "“E\tHarry\tvai\testar\tsempre\tpor\tperto. Nunca\tvai\tsair\tda\tminha\tvida. Sempre\tgostei\tdo\tHarry.” “Eu\tgostaria\tde\tficar\tna\tminha\tcasa”,\tavisei. Não\tquero mudar\ta\trotina\tda\tConnor.” “Tudo\tbem”,\tele\tdisse. Não\tsabia\tmuito\tbem\to\tque\tqueria\t—\tsó\tsei\tque\tqueria mais. Queria\taquela\texperiência\tde\tnovo. Fechei\tos\tolhos\te,\tpela\tprimeira\tvez\tem\tmuitos\tanos,\ta\timagem que\tsurgiu\tna\tminha\tmente\tnão\tfoi\ta\tde\tCelia."
          },
          "metadata": {}
        },
        {
          "output_type": "display_data",
          "data": {
            "text/plain": [
              "<IPython.core.display.Markdown object>"
            ],
            "text/markdown": "### Página 324"
          },
          "metadata": {}
        },
        {
          "output_type": "display_data",
          "data": {
            "text/plain": [
              "<IPython.core.display.Markdown object>"
            ],
            "text/markdown": "o\tdecepcionante Max\tGirard"
          },
          "metadata": {}
        },
        {
          "output_type": "display_data",
          "data": {
            "text/plain": [
              "<IPython.core.display.Markdown object>"
            ],
            "text/markdown": "### Página 325"
          },
          "metadata": {}
        },
        {
          "output_type": "display_data",
          "data": {
            "text/plain": [
              "<IPython.core.display.Markdown object>"
            ],
            "text/markdown": "Os\tdois\tvêm\tde uma\ttrajetória\tde\tsucesso\tjuntos,\ttendo\tconquistado\tum\tOscar\tcada\tum\teste\tano pelo\tfilme\t Tudo\tpor\tnós . Segundo\tfontes\tpróximas,\tEvelyn\te\tHarry\testavam\tseparados\tfazia\talgum tempo. O\tcasamento\ttinha\tevoluído\tpara\tuma\trelação\tde\tamizade\tnos\túltimos anos. Dizem\tinclusive\tque\tHarry\tjá\testava\tmorando\tno\tapartamento\tde\tseu falecido\tamigo\tJohn\tBraverman,\ta\tpoucos\tquarteirões\tde\tonde\tvive\tEvelyn. Os\tdois\tanunciaram\tque\tvão\tse\tcasar\tem breve."
          },
          "metadata": {}
        },
        {
          "output_type": "display_data",
          "data": {
            "text/plain": [
              "<IPython.core.display.Markdown object>"
            ],
            "text/markdown": "### Página 326"
          },
          "metadata": {}
        },
        {
          "output_type": "display_data",
          "data": {
            "text/plain": [
              "<IPython.core.display.Markdown object>"
            ],
            "text/markdown": "Mas\tnós\tdois\ttínhamos\tacabado\tde\tfilmar\tem\tLos Angeles,\te\tachei\tque\tseria\tlegal\treunir\tsó\tum\tgrupo\tseleto\tde\tpessoas\tno\tdeserto. Em\tvez\tdisso,\toptei\tpor\tum\tvestido\tlongo\tazul,\tcom\tos\tcabelos\tloiros\tlevemente repicados. Harry\tficou\tao\tlado\tdela\tde\tcalça\tsocial\te camisa. Max,\tmeu\tnoivo,\tse\tvestiu\tde\tlinho\tpuro. Naquela\tmesma\tnoite,\tHarry\te\tConnor\tvoltaram\tpara\tNova\tYork. Luc\tfoi\tpara sua\tcasa\tem\tLyon. De\tmanhã,\tcomemos\ttoranja\te\tjogamos\tbaralho. Max\tdisse\tque\ttinha\tuma\tideia\tpara\tum\tfilme\tde\tação\testrelado\tpor\tmim. Eu disse\tque\tnão\tme\tconsiderava\tapropriada\tpara\tuma\theroína\tdesse\ttipo. Estávamos\tcaminhando\tno\tdeserto,\tcom o\tsol\tcastigando\tnossa\tcabeça. E\teu\ttinha\tesquecido\tminha\tágua\tno\tchalé. “Você\té\timune\tà\tpassagem\tdo\ttempo”,\tele\tfalou,\tchutando\tareia\tpelo\tcaminho."
          },
          "metadata": {}
        },
        {
          "output_type": "display_data",
          "data": {
            "text/plain": [
              "<IPython.core.display.Markdown object>"
            ],
            "text/markdown": "### Página 327"
          },
          "metadata": {}
        },
        {
          "output_type": "display_data",
          "data": {
            "text/plain": [
              "<IPython.core.display.Markdown object>"
            ],
            "text/markdown": "“Eu\tsou\ta\tEvelyn”,\tfalei,\tdetendo\to\tpasso\te\tsegurando\tsua\tmão. “Você\té\ta\t primeira\te\túnica \tEvelyn\tHugo. Era uma\tfelicidade\timensa\tquerer\testar\tcom\talguém\tde\tnovo. Achava\tque\tCelia jamais\tfosse\tvoltar\tpara\tmim. Fiz\tsanduíches\tde geleia\tcom\tpasta\tde\tamendoim\tpara\to\tjantar,\te\tcomemos\tsentados\tno\tsofá,\tvendo o\tnoticiário. Fui\tdormir\tcom\tMax\tagarrado\tem\tmim. Sentindo\tseu\tcoração\tbatendo\tàs minhas\tcostas. Na\tmanhã\tseguinte,\tporém,\tquando\tacordei\tcom\tos\tcabelos\tdesarrumados\te com\tmau\thálito,\tolhei\tpara\tele\tesperando\tum\tsorriso\te\tencontrei\tuma\texpressão impassível\tem\tseu\trosto. Parecia\tque\testava\tolhando\tpara\to\tteto\thá\thoras. “Em\tnada.” Os\tpelos\tde\tseu\tpeito\testavam\tficando\tgrisalhos. Isso\tlhe\tdava\tum\tar\tde dignidade. “Pode\tme\tfalar.” Ele\tse\tvirou\tpara\tmim. Arrumei\tos\tcabelos,\tmeio\tenvergonhada\tda\tmaneira como\testava. Max\tvoltou\ta\tolhar\tpara\to\tteto. “Imaginava\tuma\tvida\tgloriosa\tao\tseu\tlado.” “E\tagora\tnão\timagina\tmais?” “Não\té\tbem\tisso”,\tele\tfalou,\tsacudindo\ta\tcabeça. Nós\tsomos\tgente\tda\tcidade,\tmeu\tamor."
          },
          "metadata": {}
        },
        {
          "output_type": "display_data",
          "data": {
            "text/plain": [
              "<IPython.core.display.Markdown object>"
            ],
            "text/markdown": "### Página 328"
          },
          "metadata": {}
        },
        {
          "output_type": "display_data",
          "data": {
            "text/plain": [
              "<IPython.core.display.Markdown object>"
            ],
            "text/markdown": "Eu\tdei\trisada,\taliviada\tpor\tnão\tser\tnada\tde\tmais. “Ainda\ttemos\tmais\ttrês\tdias por\taqui”,\tavisei. “Sim,\tsim,\teu\tsei,\t ma\tbelle ,\tmas,\tpor\tfavor,\tvamos\tpara\tcasa.” “Tão\tcedo\tassim?” “Podemos\talugar\tum\tquarto\tno\tWaldorf\tpor\tuns\tdias. Em\tvez\tde\tficar\taqui.” “Tudo\tbem”,\tfalei. “Se\té\to\tque\tvocê\tquer.” Mais\ttarde,\tno\taeroporto,\tquando\tesperávamos\tpara\tembarcar,\tMax\tfoi comprar\talguma\tcoisa\tpara\tler\tdurante\to\tvoo. Ele\tvoltou\tcom\tum\texemplar\tda revista\t People \te\tmostrou\ta\tnota\tsobre\to\tnosso\tcasamento. Essa\té\tvocê.” Eu\tsorri,\tmas\tfoi\tinevitável\tnão\tpensar\tna\tfamosa\tfrase\tda\tRita\tHayworth. Os homens\tvão\tpara\ta\tcama\tcom\tGilda,\tmas\tacordam\tcomigo. “Acho\tque\tpreciso\tperder\tuns\tquilinhos”,\tele\tfalou,\tbatendo\tna\tbarriga. “Olha\ta\tfoto\tque\ttiraram\tde\tmim. Parece\tque\ttenho\ttrês\tqueixos.” “É\tsó\tum\tângulo\truim. “Acho\tque\tvou\tparar\tde\tcomer frituras. Meu\tcoração\tse\tpartiu\tum\tpouco\tquando\tembarcamos\tno\tavião."
          },
          "metadata": {}
        },
        {
          "output_type": "display_data",
          "data": {
            "text/plain": [
              "<IPython.core.display.Markdown object>"
            ],
            "text/markdown": "### Página 329"
          },
          "metadata": {}
        },
        {
          "output_type": "display_data",
          "data": {
            "text/plain": [
              "<IPython.core.display.Markdown object>"
            ],
            "text/markdown": "Quando\tele\tterminou\tde\tdizer\tisso,\tmeu\tcoração\tjá\testava\ttotalmente\tpartido ao\tmeio. E,\tmesmo\tdepois disso,\tpode\tparecer\taté\tabsurdo\tdizer,\teu\tnão\testava\tdisposta\ta\tdeixá-lo,\tporque não\tqueria\tme\tdivorciar. Eu\tsó\ttinha\tme\tcasado\tpor\tamor\tcom\tum\túnico\thomem. E,\tno\tfim\tdas\tcontas,\teu\tnão\tlarguei\tDon. Com\tMax,\tpensei\tque\talguma\tcoisa\tpoderia\tmudar,\tque\thaveria\tum\testalo, uma\tpossibilidade\tde\tele\tver\tquem\teu\trealmente\tera\te\tse\tapaixonar\tpor\tmim. Achava\tque,\tse\teu\tcomeçasse\ta\tamá-lo\tcomo\trealmente\tera,\tele\tpoderia\tme\tamar como\teu\trealmente\tera. Em\tvez\tdisso,\tMax\tdesfilava\tcomigo\tpela\tcidade\tcomo\tse\teu\tfosse\tum\ttroféu. Aquela\tmoça\tde\t Boute-en-Train \tdeixou\ttodo\tmundo\tembasbacado. E\teu\tnão\tsabia\tcomo\tdizer\tque\ttambém\ta\tamava."
          },
          "metadata": {}
        },
        {
          "output_type": "display_data",
          "data": {
            "text/plain": [
              "<IPython.core.display.Markdown object>"
            ],
            "text/markdown": "### Página 330"
          },
          "metadata": {}
        },
        {
          "output_type": "display_data",
          "data": {
            "text/plain": [
              "<IPython.core.display.Markdown object>"
            ],
            "text/markdown": "Ela\tpoderia\tter\tse\tcandidatado\tao\tOscar\tde\tMelhor\tAtriz. Não havia\tnenhuma\tmulher\tno\tfilme\tcom\tum\tpapel\tmais\timportante\tque\tesse. Mas ela\tdeve\tter\tse\tcandidatado\tao\tprêmio\tde\tMelhor\tAtriz\tCoadjuvante\tporque, quando\ta\tvotação\tcomeçou,\tera\tpara\tesse\tOscar\tque\tela\thavia\tsido\tindicada. Por\tcausa\tde\tuma\tbriga\tentre nós. Ele\tqueria\tir\tcomigo,\tmas\teu\tqueria\tpassar\ta\tnoite\tcom\ta\tminha\tfamília,\tnão com\tum\tvestido\tapertado\te\tsalto\tagulha. Além\tdisso,\tsendo\tbem\tsincera,\teu\tjá\ttinha\tmeus\tcinquenta\tanos. Havia\tuma geração\tinteira\tde\tnovas\tatrizes\tcom\tquem\tcompetir. Eram\ttodas\tlindas,\tcom pele\tlisinha\te\tcabelos\treluzentes. Quando\ta\tpessoa\té\tconhecida\tprincipalmente por\tser\tmaravilhosa,\tnão\tpode\thaver\tsofrimento\tpior\tdo\tque\tser\tcomparada\tcom alguém\te\tlevar\ta\tpior. Não\timporta\ta\tdimensão\tda\tbeleza\texibida\tno\tpassado. A\tvida\tem\tHollywood\ttem\tuma\tcurva\tde\tsubida\tacentuada\te\tqueda\tbrusca. Meu\tprazo\tde validade\tfoi\tacima\tda\tmédia."
          },
          "metadata": {}
        },
        {
          "output_type": "display_data",
          "data": {
            "text/plain": [
              "<IPython.core.display.Markdown object>"
            ],
            "text/markdown": "### Página 331"
          },
          "metadata": {}
        },
        {
          "output_type": "display_data",
          "data": {
            "text/plain": [
              "<IPython.core.display.Markdown object>"
            ],
            "text/markdown": "Luisa\testava\tde\tférias,\te\teu\tnão\ttinha\tencontrado\tuma\tboa\tsubstituta,\tentão Connor\te\teu\tpassamos\to\tdia\tlimpando\ta\tcasa\tcomo\tse\ttudo\tfosse\tuma\tgrande brincadeira. Mais\ttarde,\testouramos\tpipoca\te sentamos\tcom\tHarry\tna\tfrente\tda\t TV \tpara\tver\ta\tvitória\tde\tCelia. Ela\testava\tusando\tum\tvestido\tamarelo\tde\tseda\tcom\tbabado\tnas\tpontas. Os cabelos\truivos,\tagora\tmais\tcurtos,\testavam\tpresos\tnum\tcoque. E\tquando\testava\tprestes\ta\tsair\tda\tfrente\tdo\tmicrofone,\tdisse: “E,\tpara\tquem\tse\tsentir\ttentado\ta\tdar\tum\tbeijo\tna\ttela\tda\ttevê,\tpor\tfavor\tcuidado para\tnão\tlascar\to\tdente”. Levei\ta\tmão\tao\trosto\te\tsenti\tas\tlágrimas\tescorrendo. “É\tsempre\tbom\tapagar\tas\trusgas\tdo\tpassado.” Em\tvez\tdisso,\tescrevi\tuma\tcarta. Sem\tdúvida\tvocê\té\ta\tatriz\tmais talentosa\tda\tnossa\tgeração. Desejo\tpara\tvocê\tnada\tmenos\tque\ta\tfelicidade\ttotal\te\tabsoluta. Não\tbeijei a\tTV\tdessa\tvez,\tmas\tvibrei\tcomo\tsempre."
          },
          "metadata": {}
        },
        {
          "output_type": "display_data",
          "data": {
            "text/plain": [
              "<IPython.core.display.Markdown object>"
            ],
            "text/markdown": "### Página 332"
          },
          "metadata": {}
        },
        {
          "output_type": "display_data",
          "data": {
            "text/plain": [
              "<IPython.core.display.Markdown object>"
            ],
            "text/markdown": "Mas,\tuma\tsemana\tdepois,\tlá\testava. Um envelope\tbege\tpequeno\te\tquadrado,\tendereçado\ta\tmim. Queridíssima\tEvelyn, Ler\tsua\tcarta\tfoi\tcomo\tvoltar\ta\trespirar\tdepois\tde\tficar\tmuito\ttempo embaixo\td’água. Espero\tque\tme\tperdoe\tpor\tser\ttão\tdireta,\tmas\tcomo\tfoi\tque estragamos\ttudo\tdesse\tjeito? E\to\tque\tsignifica\tisso\tde\teu\tainda\tconseguir ouvir\tsua\tvoz\tna\tminha\tcabeça\tdepois\tde\tuma\tdécada\tsem\tnos\tfalarmos? Hoje\tsó posso\ttorcer\tpara\tque\tvocê\ttenha\tencontrado\ta\tfelicidade\tde\toutra\tforma. E\tlamento\tpor\tnão\tter\tconseguido\tproporcionar isso. Eu\tme\tmostrei\tinsegura,\tmesquinha e\tingênua. Culpei\tvocê\tpelas\tcoisas\tque\tfazia\tpara\tguardar\tnosso\tsegredo. E\ttodos\tos\tmeus\tmomentos mais\tfelizes\tforam\tplanejados\tpor\tvocê. Nunca\tlhe\tdei\to\tdevido\tcrédito."
          },
          "metadata": {}
        },
        {
          "output_type": "display_data",
          "data": {
            "text/plain": [
              "<IPython.core.display.Markdown object>"
            ],
            "text/markdown": "### Página 333"
          },
          "metadata": {}
        },
        {
          "output_type": "display_data",
          "data": {
            "text/plain": [
              "<IPython.core.display.Markdown object>"
            ],
            "text/markdown": ":\tCriei\tcoragem\tpara\tver\t Três\tda\tmanhã \talguns\tmeses\tatrás. Eu\testaria\terrada\tem\ttentar\tatrapalhar\tsua\trealização. Você sempre\tteve\tmuito\tmais\ttalento\tdo\tque\teu\testava\tdisposta\ta\treconhecer. Queridíssima\tCelia, Você\tacha\tque\tamantes\tpodem\tse\ttornar\tamigos\talgum\tdia? Detesto\tpensar na\tideia\tde\tdesperdiçar\tos\tanos\tque\tainda\tnos\trestam\tsem\tnos\tfalarmos. Mas\tainda\testou\tlouca para\tver\tvocê. Podemos\tnos\tencontrar\talgum\tdia? Não\tsei\tse\tconseguiria\tver você,\tdiante\tdas\tcircunstâncias."
          },
          "metadata": {}
        },
        {
          "output_type": "display_data",
          "data": {
            "text/plain": [
              "<IPython.core.display.Markdown object>"
            ],
            "text/markdown": "### Página 334"
          },
          "metadata": {}
        },
        {
          "output_type": "display_data",
          "data": {
            "text/plain": [
              "<IPython.core.display.Markdown object>"
            ],
            "text/markdown": "Queridíssima\tCelia, Telefonei\tvárias\tvezes\tna\tsemana\tpassada,\tmas\tvocê\tnão\tme\tligou\tde\tvolta. Vou\ttentar\tde\tnovo."
          },
          "metadata": {}
        },
        {
          "output_type": "display_data",
          "data": {
            "text/plain": [
              "<IPython.core.display.Markdown object>"
            ],
            "text/markdown": "### Página 335"
          },
          "metadata": {}
        },
        {
          "output_type": "display_data",
          "data": {
            "text/plain": [
              "<IPython.core.display.Markdown object>"
            ],
            "text/markdown": "“Oi.”\tA\tmaneira\tcalorosa\tcomo\tela\tfalou\tnesse\tmomento\tme\tdeixou esperançosa\tde\tque\tpoderíamos\tretomar\tnossa\tvida,\tvoltar\tao\tque\tsempre\tdeveria ter\tsido. “Eu\tera\tapaixonada\tpor\tele”,\tdigo. Só\tque\tnão\tsou\tmais.” Ouvi\tum\tsilêncio\tdo\toutro\tlado\tda\tlinha. Então\tela\tperguntou:\t“O\tque\tvocê\testá\tquerendo\tme\tdizer?”. “Estrague\ttudo\tde\tnovo?” “Você\tainda\tme\tama?”,\tpergunto. Não\tse…” “Se\to\tquê?” “Nada\tmudou,\tEvelyn.” “Tudo\tmudou.” “As\tpessoas\tainda\tnão\tpodem\tsaber\to\tque\tnós\tsomos\tde\tverdade.” “Elton\tJohn\tsaiu\tdo\tarmário”,\targumentei. “Anos\tatrás.” “Elton\tJohn\tnão\ttem\tfilho\te\tfez\tcarreira\tlevando\to\tpúblico\ta\tacreditar\tque\tera hétero.” “Você\testá\tdizendo\tque\tvamos\tficar\tsem\ttrabalho?”"
          },
          "metadata": {}
        },
        {
          "output_type": "display_data",
          "data": {
            "text/plain": [
              "<IPython.core.display.Markdown object>"
            ],
            "text/markdown": "### Página 336"
          },
          "metadata": {}
        },
        {
          "output_type": "display_data",
          "data": {
            "text/plain": [
              "<IPython.core.display.Markdown object>"
            ],
            "text/markdown": "“Não\tacredito\tque\tpreciso\tdizer\tisso\tpara\tvocê”,\tela\tcomentou. “Bom,\tentão\tme\tdeixa\tfalar\tsobre\tuma\tcoisa\tque\t mudou \tmesmo”,\teu\tdisse\ta ela. “Não\testou\tmais\tnem\taí\tpara\tisso. Estou\tdisposta\ta\tabrir\tmão\tde\ttudo.” “Você\tnão\tpode\testar\tfalando\tsério.” “Estou\tfalando\tmais\tdo\tque\tsério.” “Evelyn,\ta\tgente\tnão\tse\tvê\thá\tanos.” “Eu\tsei\tque\tvocê\tconseguiu\tme\tesquecer”,\tfalei. E\tcom\tcerteza\texistiram\toutras.”\tFiquei\tà\tespera\tde\tuma\tnegativa,\tque\tela me\tdissesse\tque\tnão\tse\tenvolveu\tcom\tninguém. Então\tcontinuei:\t“Mas\tvocê\tpode\tafirmar\tcom\ttoda\ta\tsinceridade\tque\tdeixou\tde me\tamar?”. “Não\tporque deixei\tde\tte\tamar.” Ouvi\tCelia\trespirar\tfundo. “Eu\tvou\tpara\tLos\tAngeles”,\tavisei. “E\tnós\tvamos\tsair\tpara\tjantar. Que\ttal\tna\toutra\tsemana,\tsem\tser\ta\tpróxima? E\teu\tposso\tpassar\talguns\tdias\taí.” Celia\tficou\tmuda\tde\tnovo. Tive\ta impressão\tde\tque\taquele\tera\tum\tmomento\tdefinitivo\tpara\to\tmeu\tfuturo,\to\tnosso futuro."
          },
          "metadata": {}
        },
        {
          "output_type": "display_data",
          "data": {
            "text/plain": [
              "<IPython.core.display.Markdown object>"
            ],
            "text/markdown": "### Página 337"
          },
          "metadata": {}
        },
        {
          "output_type": "display_data",
          "data": {
            "text/plain": [
              "<IPython.core.display.Markdown object>"
            ],
            "text/markdown": "Na\tmanhã\tdo\tdia\tda\tminha\tida\tao\taeroporto,\tMax\tdormiu\taté\tmais\ttarde. Ele tinha\tque\testar\tno\tset\tpara\tuma\texterna\tnoturna,\tentão\tme\tdespedi\tcom\tum aperto\tde\tmão\te\tcomecei\ta\tpegar\tas\tcoisas\tno\tcloset. Tinha guardado\ttodas,\tnos\tenvelopes\toriginais,\tnuma\tcaixa\tno\tfundo\tdo\tarmário. Ao longo\tdos\tdias\tanteriores,\tquando\tjuntei\tas\tcoisas\tque\tporia\tna\tmala,\tcoloquei\te tirei\tos\tpapéis\tvárias\tvezes,\ttentando\tme\tdecidir. Gostava\tde\tpassar\tos\tdedos\tsobre aquelas\tpalavras,\tsentir\tas\tranhuras\tda\tcaneta\tsobre\to\tpapel. Gostava\tde\touvir\ta voz\tdela\tna\tminha\tcabeça. Calcei\tas\tbotas,\tpeguei\tminha\tjaqueta,\tabri\ta\tmala\te\ttirei\tas\tcartas,\tque\tescondi atrás\tdos\tmeus\tcasacos\tde\tpele. Deixei\tum\tbilhete\tpara\tMax:\t“Volto\tna\tquinta-feira,\tMaximilian. “Não\ttem\tPop-Tarts\tna\tcasa\tdo\tseu\tpai?”,\tperguntei. Se\tcomporta\tenquanto\teu\testiver fora”,\tfalei. Ela\trevirou\tos\tolhos\tpara\tmim,\tnão\tsei\tse\tpelo\tbeijo\tou\tpela\trecomendação. Tinha\tacabado\tde\tfazer\ttreze\tanos,\tcomeçando\ta\tentrar\tna\tadolescência,\to\tque estava\tme\tcausando\tum\taperto\tno\tcoração. Entreguei\ta mala\tpara\to\tmotorista\te,\tno\túltimo\tinstante,\tme\tdei\tconta\tde\tque,\tdepois\tdo\tjantar com\tCelia,\tela\tpoderia\tdizer\tque\tnão\tqueria\tmais\tme\tver\tde\tnovo."
          },
          "metadata": {}
        },
        {
          "output_type": "display_data",
          "data": {
            "text/plain": [
              "<IPython.core.display.Markdown object>"
            ],
            "text/markdown": "### Página 338"
          },
          "metadata": {}
        },
        {
          "output_type": "display_data",
          "data": {
            "text/plain": [
              "<IPython.core.display.Markdown object>"
            ],
            "text/markdown": "que\tera\tmelhor\tnão\ttermos\tmais\tcontato. Eu\tpoderia\tacabar\tvoltando\tcom\tmenos do\tque\ttinha. Connor\testava\tsaindo\tdo\televador\tassim\tque\tentrei. “Já\tvoltou?”,\tela\tperguntou\tcom\ta\tmochila\tnas\tcostas. Diga para\to\tseu\tpai\tque\tvolto\tdaqui\ta\talguns\tdias.” “Tá\tbom. Ela\tdeu\tum\taceno\tde\tdespedida enquanto\tsaía\tdo\tprédio. Cheguei\tlá\tem\tcima\te\tentrei\tno\tquarto. E,\tdentro\tdo\tmeu\tcloset,\tencontrei Max. As\tcartas\tde\tCelia,\tque\ttive\to\tmaior\tcuidado\tem\tmanter\tintactas,\testavam espalhadas\tpelo\tquarto,\tseparadas\tdos\tenvelopes\tcomo\tse\tfossem correspondências\tinúteis\te\tmalas\tdiretas. “O\tque\t eu \testou\tfazendo?”, ele\tquestionou. Você\tvem\tperguntar\tpara\t mim \to\tque\testou fazendo.” “Essas\tcartas\tsão\tminhas.” “Ah,\testou\tvendo\tmuito\tbem,\t ma\tbelle .” Me\tinclinei\tpara\ta\tfrente\te\ttentei\ttomá-las\tda\tmão\tdele. Se\ta\tcoisa for\tfeita\tcom\trespeito. Sem\tdeixar\tnenhuma\tprova.” Pela\tmaneira\tcomo\tele\tfalou,\tficou\tclaro\tque\testava\tdormindo\tcom\toutras pessoas,\te\tme\tperguntei\tse\talguma\tmulher\tdo\tmundo\testava\ta\tsalvo\tde\thomens"
          },
          "metadata": {}
        },
        {
          "output_type": "display_data",
          "data": {
            "text/plain": [
              "<IPython.core.display.Markdown object>"
            ],
            "text/markdown": "### Página 339"
          },
          "metadata": {}
        },
        {
          "output_type": "display_data",
          "data": {
            "text/plain": [
              "<IPython.core.display.Markdown object>"
            ],
            "text/markdown": "Pensei\tem\tquantas\tmulheres\tno\tmundo\tdeviam\tachar\tque conseguiriam\timpedir\tseus\tmaridos\tde\ttraí-las\tse\tfossem\ttão\tlindas\tquanto Evelyn\tHugo. Mas\tisso\tnunca\tserviu\tde\tempecilho\tpara\tnenhum\thomem\tque amei. Então\tque\ttal\tparar\tcom\tisso?” “Talvez\tnão\testeja\tmesmo”,\tele\tdisse. Mas\to inacreditável\tmesmo\té\tque\tvocê\tseja\tsapatão.” Fechei\tos\tolhos,\te\tuma\traiva\ttamanha\tborbulhava\tdentro\tde\tmim\tque\tsenti uma\tvontade\tde\tsumir\tdo\tmundo\taté\tconseguir\tme\tcontrolar. James\testiver\tfalando sobre\to\tque\tsentia\tpor\tvocê\tem\toutros\ttempos,\teu\tposso\testar\terrado. Caso\tessas cartas\tsejam\to\tmotivo\tpara\tsua\tviagem\tpara\tLos\tAngeles\thoje,\tentão\testou furioso,\tporque\tvocê\testá\tme\tfazendo\tde\tidiota.” Acho\tque,\tse\tdissesse\tque\tnão\ttinha\ta\tmenor\tintenção\tde\tme\tencontrar\tcom Celia\tem\tLos\tAngeles,\tse\tsoasse\tbem\tconvincente,\tele\tteria\trecuado. Poderia\tter pedido\tdesculpas\te\taté\tme\tacompanhado\tao\taeroporto. E\tmeu\tinstinto\tme\tdizia\texatamente\tisso,\tpara\tmentir,\tocultar,\tencobrir\to\tque estava\tfazendo\te\tquem\teu\tera. Mas,\tquando\tfui\tfalar,\tminha\tboca\tdisse\toutra coisa. “Eu\testava\tindo\tme\tencontrar\tcom\tela. E\tjá faz\tum\tbom\ttempo."
          },
          "metadata": {}
        },
        {
          "output_type": "display_data",
          "data": {
            "text/plain": [
              "<IPython.core.display.Markdown object>"
            ],
            "text/markdown": "### Página 340"
          },
          "metadata": {}
        },
        {
          "output_type": "display_data",
          "data": {
            "text/plain": [
              "<IPython.core.display.Markdown object>"
            ],
            "text/markdown": "Sempre\tfui.” Max\tpareceu\tatordoado,\tcomo\tse\testivesse\tblefando\tcomigo,\tachando\tque\teu fosse\trecuar. Casei\tcom\tuma\tsapatão.” “Para\tde\tfalar\tisso”,\trebati. “Evelyn,\tse\tvocê\tfaz\tsexo\tcom\tmulheres,\tentão\té\tlésbica. Trate\tde\tnão\tser\tdo tipo\tque\todeia\ta\tsi\tmesma. “Por\tfavor,\tnão\ttenta\tme\tfazer\tde\tidiota\tmais\tdo que\tjá\tfez. Passei\tanos\tte\tamando,\te\tagora\tdescubro\tque\tnunca\tsignifiquei\tnada para\tvocê.” “Você\tnão\tme\tamou\tum\túnico\tdia\tda\tsua\tvida”,\trebati. Amou\tser\to\tcara\tque\tdormia\tna\tminha cama. Isso\tque\tvocê\tsente\tnão\té\tamor. É\tposse.” “Não\tfaço\tideia\tdo\tque\tvocê\testá\tfalando”,\tele\tdisse. Quando\tvocê\tfez\tamor\tcomigo\te\tdespertou\to\tmeu\tdesejo,\te cuidou\tbem\tda\tminha\tfilha,\te\tquando\tacreditei\tque\tvia\tem\tmim\to\tque\tninguém mais\tenxergava. Quando\tacreditei\tque\tvocê\ttinha\tuma\tpercepção\te\tum\ttalento inigualáveis. Eu\tte\tamei\tmuito.” “Então\tvocê\tnão\té\tlésbica”,\tele\trespondeu. “Não\tquero\tconversar\tsobre\tisso\tcom\tvocê.” “Bom,\tmas\tvai. “Não\ttenho\tque\tfazer\tporcaria\tnenhuma.” “Ah,\ttem”,\tele\tdisse,\tbloqueando\ta\tpassagem."
          },
          "metadata": {}
        },
        {
          "output_type": "display_data",
          "data": {
            "text/plain": [
              "<IPython.core.display.Markdown object>"
            ],
            "text/markdown": "### Página 341"
          },
          "metadata": {}
        },
        {
          "output_type": "display_data",
          "data": {
            "text/plain": [
              "<IPython.core.display.Markdown object>"
            ],
            "text/markdown": "“Mas\tnão\tpara\tse\tencontrar\tcom\tela”,\tele\tfalou. “Você\tnão\tpode\tfazer\tisso.” “Claro\tque\tposso.” O\ttelefone\ttocou\tde\tnovo,\tmas\teu\testava\tdistante\tdemais\tpara\tatender. Sabia\tque,\tse\tnão\tsaísse\tlogo,\tiria\tperder\to\tvoo. Poderia pegar\toutro\tavião,\tmas\tqueria\tir\tnaquele. Você\tnão\tpode\tse separar\tde\tmim. Posso\tcontar\tpara alguém,\tqualquer\tum,\tsobre\tisso,\te\tsua\tvida\tnunca\tmais\tseria\ta\tmesma.” Ele\tnão\testava\tme\tameaçando. Era\tcomo\tse dissesse:\t Queridinha,\tvocê\tnão\testá\tsendo\tracional. Isso\tnão\tvai\tterminar\tbem para\tvocê. “Entendo\tque\tvocê\testeja\tirritado\te querendo\tme\tmagoar. Mas\tsei\tque\tpelo\tmenos\t tenta \tfazer\to\tque\té\tcerto\tna\tmaior parte\tdo\ttempo.” “E\tse\tdessa\tvez\tnão\tfor\tassim?”,\tele\tquestionou. Se\tvocê\tdecidir\tque\tquer\ttentar\tacabar\tcomigo junto\tcom\to\tnosso\tcasamento,\tentão\tvá\tem\tfrente.” Ele\tnão\tse\tmoveu. Eu\to\tempurrei\tdo\tcaminho\te\tsaí\tporta\tafora."
          },
          "metadata": {}
        },
        {
          "output_type": "display_data",
          "data": {
            "text/plain": [
              "<IPython.core.display.Markdown object>"
            ],
            "text/markdown": "### Página 342"
          },
          "metadata": {}
        },
        {
          "output_type": "display_data",
          "data": {
            "text/plain": [
              "<IPython.core.display.Markdown object>"
            ],
            "text/markdown": "Fazia\tcalor\tlá\tfora,\tmas\to\tar- condicionado\tdo\trestaurante\testava\tligado\tno\tmáximo,\tpor\tisso\tela\tparecia\tcom frio. Seus\tcabelos\truivos\tainda\teram\timpressionantes,\tmas\tàquela\taltura\tclaramente ela\tos\ttingia. Os\ttons\tde\tdourado\tde\tantes,\tresultado\tda\tnatureza\te\tda\texposição ao\tsol,\testavam\tum\ttanto\tsaturados,\tmais\tpuxados\tpara\to\tacobreado. Os\tolhos azuis\tcontinuavam\tatraentes\tcomo\tsempre,\tporém\ta\tpele\tao\tredor\testava diferente. Eu\thavia\tpassado\tquatro\tvezes\tpela\tmesa\tdo\tcirurgião\tplástico\tnos\tanos anteriores,\te\tdesconfiei\tque\tela\ttivesse\tfeito\to\tmesmo. Meu\tvestido\tera\tpreto\te cinturado,\tcom\tum\tdecote\tem\tV\tbem\tprofundo. “Como\tsempre.” “Você\testá\tigualzinha\tà\túltima\tvez\tque\tnos\tvimos”,\tfalei. “Nós\tnunca\tfomos\tde\tmentir\tuma\tpara\ta\toutra”,\tela\tdisse\tcom\tum\tsorriso. “Já\tnão\tme\tcai\ttão\tbem\tquanto\tantes.” “Isso\té\tótimo. Se\tquiser,\tposso\tjogar\to\tvinho\tpela\tjanela\tassim\tque\tservirem.”"
          },
          "metadata": {}
        },
        {
          "output_type": "display_data",
          "data": {
            "text/plain": [
              "<IPython.core.display.Markdown object>"
            ],
            "text/markdown": "### Página 343"
          },
          "metadata": {}
        },
        {
          "output_type": "display_data",
          "data": {
            "text/plain": [
              "<IPython.core.display.Markdown object>"
            ],
            "text/markdown": "“Por\tque\ta\tminha\tbaixa\ttolerância\tao\tálcool\tseria problema\tseu?” “Tudo\ta\tseu\trespeito\tdeveria\tser\tproblema\tmeu”,\trespondi. “Você\tpercebe\to\tque\testá\tdizendo?”,\tela\tmurmurou,\tse\tdebruçando\tna\tmesa. “Por\tque\tnão\tme\tligou\tanos\tatrás?” “Liguei\tum\tmilhão\tde\tvezes\tdepois\tque\tvocê\tme\tdeixou. Bati\tna\tsua\tporta\taté quase\tderrubar”,\tlembrei\ta\tela. “Achei\tque\tme\todiasse.” “E\todiava\tmesmo”,\tela\tdisse,\tse\tafastando\tum\tpouco. Pelo\tmenos\tum\tpouco.” “E\tvocê\tacha\tque\teu\tnão\tte\todeio\ttambém?”\tTentei\tmanter\tmeu\ttom\tde\tvoz sob\tcontrole,\tfingindo\tque\tera\tsó\tuma\tconversa\tentre\tduas\tamigas\tde\tlonga\tdata. “Pois\té,\tfaria\tsentido\tno\tseu\tcaso\ttambém.” “Mas\teu\tnão\tvou\tdeixar\tque\tisso\tsirva\tde\tempecilho”,\tgaranti. Ela\tsuspirou\te\tolhou\tpara\to\tcardápio. Eu\tme\tinclinei\tpara\ta\tfrente,\tcom\tum\tar\tconspiratório. “Antes\teu\tnão\tachava que\ttivesse\tuma\tchance”,\texpliquei. E,\tagora\tque\tuma\tfrestinha\testá\taberta,\tsó\to\tque quero\té\tescancarar\ttudo\te\tentrar.” “O\tque\tte\tfaz\tpensar\tque\ta\tporta\testá\taberta?”,\tela\tquestionou,\tinclinando\ta cabeça\tpara\ta\tesquerda\tpara\tdesviar\tos\tolhos\tdo\tcardápio."
          },
          "metadata": {}
        },
        {
          "output_type": "display_data",
          "data": {
            "text/plain": [
              "<IPython.core.display.Markdown object>"
            ],
            "text/markdown": "### Página 344"
          },
          "metadata": {}
        },
        {
          "output_type": "display_data",
          "data": {
            "text/plain": [
              "<IPython.core.display.Markdown object>"
            ],
            "text/markdown": "Óculos\tde\tleitura.” “Bem-vinda\tao\tclube.” “Eu\tposso\tser\tbem\tcruel\tàs\tvezes\tquando\tfico\tchateada”,\tela\tme\tlembrou. “Tentei\tfazer\tparecer que\tprecisava\tde\tmim\tpara\tser\tconsiderada\tuma\tatriz\tde\tverdade.” “Eu\tsei\tdisso.” “Mas\tvocê\tsempre\tfoi\tuma\tatriz\tde\tverdade.” “Hoje\teu\tsei\tdisso\ttambém”,\teu\tdisse. Peguei\tum\tpedaço\tde\tpão\te\tpassei manteiga. Mas\tlogo\tpus\tde\tlado,\tsem\tdar\tuma\túnica\tmordida. “Enfim,\tse\tera\tmesmo\tpara\tmim.” “Só\tfaltou\tdizer\to\tseu\tnome.” “Você\tdisse\t‘ela’.” “Exatamente.” “Pensei\tque\tpoderia\texistir\t outra .” Eu\tjá\ttinha\tolhado\tpara\toutras\tmulheres\talém\tde\tCelia. E\tme\timaginado\tcom outras\tmulheres\talém\tdela. Mas\ttodas,\tpelo\tque\tparece\tser\tminha\tvida\tinteira, sempre\tse\tdividiram\tentre\tCelia\te\tas\toutras. Era\tcomo\tse\tqualquer\tmulher\tcom quem\tme\tvia\tiniciando\tuma\tconversa\ttivesse\tum\tcarimbo\tdizendo\t“não\té\tCelia” estampado\tna\ttesta. Se\tera\tpara\tarriscar\tminha\tcarreira\te\ttudo\to\tque\teu\tadorava por\tuma\tmulher,\tsó\tpoderia\tser\tpor\tela."
          },
          "metadata": {}
        },
        {
          "output_type": "display_data",
          "data": {
            "text/plain": [
              "<IPython.core.display.Markdown object>"
            ],
            "text/markdown": "### Página 345"
          },
          "metadata": {}
        },
        {
          "output_type": "display_data",
          "data": {
            "text/plain": [
              "<IPython.core.display.Markdown object>"
            ],
            "text/markdown": "Celia\tescutou\te\tfechou\tos\tolhos. Até\tpareceu que\ttentou\tse\tsegurar,\tmas\tnão\tconseguiu. “Mas\texistem\t outros .” “A\tmesma\tconversa\tde\tsempre”,\tfalei,\tme\tesforçando\tpara\tnão\trevirar\tos olhos. Ela\tpor\tacaso chegava\taos\tmeus\tpés?” “Não”,\tCelia\trespondeu. “E\tMax\tnão\tchegava\taos\tseus.” “Mas\tvocê\tainda\té\tcasada\tcom\tele.” “Estou\tentrando\tcom\ta\tpapelada. Ele\tvai\tsair\tda\tminha\tcasa. E,\tde\tqualquer\tforma,\tele\tencontrou\tas cartas”,\teu\tdisse. “E\tele\tquer\ta\tseparação\tpor\tisso?” “Não,\testá\tme\tameaçando\tse\teu\tnão\tficar\tcom\tele.” “Quê?” “A\tgente\tvai\tse\tseparar\tmesmo\tassim”,\tfalei. Estou com\tcinquenta\tanos\tde\tidade,\te\tnão\ttenho\tmais\tenergia\tpara\tquerer\tcontrolar tudo\to\tque\tfalam\tde\tmim\taté\to\tdia\tem\tque\teu\tmorrer. Ultimamente\tsó\tme oferecem\tpapéis\tque\tsão\tuma\tmerda. Meu\tnome\té\tfamoso\tno\tmundo\ttodo. As\tpessoas\tvão continuar\tescrevendo\tsobre\tos\tmeus\tfilmes\tpor\tum\tbom\ttempo. Uma\testátua\tde\touro\tem\tminha\thomenagem?” Celia\tdeu\trisada. “Um\tOscar\té\texatamente\tisso”,\tela\tfalou. Não\tme\tsobrou\tmais\tnada\tpara\tperseguir,\tCelia. Passei\ta\tvida\tescondida\tpara\tninguém\tme\tderrubar\tdo\ttopo. Podem\tme\tjogar lá\tpara\tbaixo\tse\tquiserem. Tenho\tcontrato\tpara\tfazer\tmais\tum\tfilme\tcom\ta\tFox este\tano,\te\tdepois\tchega.” “Você\tnão\tpode\testar\tfalando\tsério.”"
          },
          "metadata": {}
        },
        {
          "output_type": "display_data",
          "data": {
            "text/plain": [
              "<IPython.core.display.Markdown object>"
            ],
            "text/markdown": "### Página 346"
          },
          "metadata": {}
        },
        {
          "output_type": "display_data",
          "data": {
            "text/plain": [
              "<IPython.core.display.Markdown object>"
            ],
            "text/markdown": "Pensando\tde\toutro\tjeito…\tfoi\tassim\tque\tperdi\tvocê. E\tse\ttirarem\tConnor\tde\tvocê?” “Porque\tsou\tapaixonada\tpor\tuma\tmulher?” “Porque\tos\tdois\tpais\tdela\tsão\t‘invertidos’.” Dei\tum\tgole\tno\tmeu\tvinho. “Se\tquero\tme\tesconder,\tsou\tuma\tcovarde. “Você\tabriria\tmão\tde\ttudo?” “Sim”,\trespondi. “Certeza\tabsoluta?” “Tenho.” Celia\tficou\tem\tsilêncio\tpor\tum\tinstante,\tolhando\tpara\to\tprato. Ela\tpareceu bem\tpensativa\te,\tquanto\tmaior\tera\to\tseu\tsilêncio,\tmais\teu\tme\tinclinava\tpara\ta frente,\ttentando\tme\taproximar. “Eu\ttenho\tdoença\tpulmonar\tobstrutiva\tcrônica”,\tela\tdisse\tpor\tfim. “Provavelmente\tnão\tvou\tpassar\tmuito\tdos\tsessenta.” Fiquei\tolhando\tpara\tela. “Mas\té”,\tgarantiu\tela,\tpegando\to\tgarfo\te\tdando\tum\tgole\tna\tágua. Minha\tmente\testava\tum\tcaos\tde\tpensamentos,\te\tmeu\tcoração\tdisparou\tdentro do\tpeito. Celia\tvoltou\ta\tfalar,\te\tsó\tconsegui\tme\tconcentrar\tem\tsuas\tpalavras\tporque"
          },
          "metadata": {}
        },
        {
          "output_type": "display_data",
          "data": {
            "text/plain": [
              "<IPython.core.display.Markdown object>"
            ],
            "text/markdown": "### Página 347"
          },
          "metadata": {}
        },
        {
          "output_type": "display_data",
          "data": {
            "text/plain": [
              "<IPython.core.display.Markdown object>"
            ],
            "text/markdown": "“Acho\tque você\tdeveria\tfazer\tesse\tfilme”,\tela\tdisse. E\tdepois…\te então,\tdepois\tdisso,\tacho\tque\ta\tgente\tdeveria\tse\tmudar\tpara\to\tlitoral\tda Espanha.” “Quê?” “Eu\tsempre\tgostei\tda\tideia\tde\tpassar\to\tmeu\tfim\tde\tvida\tnuma\tpraia\tbonita. Desfrutando\tdo\tamor\tde\tuma\tboa\tmulher”,\tela\tdisse. Um\tlocal\tonde\tConnor\tpossa\tter\tuma\tótima\teducação. E\tvou\tcomprar\tuma\tpropriedade\tgrande\tpor\tlá,\tcom\tespaço para\treceber\tHarry\ttambém. “Ele\tse\tmudou\tpara\tcá\ta\ttrabalho\tuns\tanos\tatrás. E\tme\tdá\tapoio.” “O\tque\té\tessa\tdoença\tcrônica\tobstrutiva…?” “Um\tenfisema,\tbasicamente”,\tela\tdisse. Imediatamente.” Fiz\tque\tnão\tcom\ta\tcabeça,\tporque\ttinha\tlargado\tfazia\ttempo. “Existem\ttratamentos\tque\tpodem\tretardar\to\tprocesso. Posso\tviver\tuma\tvida praticamente\tnormal\tpor\tum\ttempo.” “E\tdepois?” “Depois,\tem\talgum\tmomento,\tvai\tficar\tcomplicado\tme\tmanter\tativa,\te\tvai ficar\tmais\tdifícil\trespirar. Quando\tisso\tacontecer,\tnão\tvou\tter\tmais\tmuito\ttempo pela\tfrente. Você\tsó\ttem\tquarenta\te\tnove.” “Pois\té.” Comecei\ta\tchorar. “Você\tvai\tacabar\tgerando\tuma\tcomoção\taqui”,\tela\tfalou."
          },
          "metadata": {}
        },
        {
          "output_type": "display_data",
          "data": {
            "text/plain": [
              "<IPython.core.display.Markdown object>"
            ],
            "text/markdown": "### Página 348"
          },
          "metadata": {}
        },
        {
          "output_type": "display_data",
          "data": {
            "text/plain": [
              "<IPython.core.display.Markdown object>"
            ],
            "text/markdown": "Ela\tentregou\to\ttíquete\tdo\testacionamento\tpara\to manobrista\te\tme\tacomodou\tno\tbanco\tda\tfrente\tdo\tcarro. “Você\taguenta\tesse\ttranco?”,\tela\tperguntou. “Claro\tque\taguento.” “Se\tvocê\tconseguir\taguentar\t mesmo ”,\tela\tdisse,\t“então\tpodemos\tfazer\tisso. Acho\tque\tpodemos…\tnós\tpodemos\tpassar\to\tresto\tda\tvida juntas,\tEvelyn. Se\tvocê\tachar\tque\taguenta\to\ttranco. Mas\teu\tnão\tposso\tfazer\tisso com\ta\tconsciência\ttranquila\tachando\tque\tisso\tvai\tacabar\tcom\tvocê.” “Isso\to\tquê,\texatamente?” “Me\tperder\tde\tnovo. Não\tquero\tque\tvocê\tme\tame\tse\tnão\taceitar\tque\tvai\tme perder\tde\tnovo. Pela\túltima\tvez.” “Eu\tnão\tconsigo\taceitar\tisso. Mas\tquero\tir\tem\tfrente\tmesmo assim. Quero\tir\tcom\tvocê,\tsim”,\tdigo\tpor\tfim. É\tmelhor perder\tdo\tque\tnunca\tter.” “Tem\tcerteza?”,\tela\tdisse. Nunca\testive\ttão\tcerta\tna\tminha\tvida. E\tprecisamos\tpassar\tesse\ttempo\tque\tainda\ttemos juntas.” Ela\tsegurou\tmeu\trosto. Celia\tcomeçou\ta\tchorar\ttambém,\te\tem\tpouco\ttempo\tnão\tdava\tpara\tsaber\tquais lágrimas\teram\tdela\te\tquais\teram\tminhas. Em\talgum\tmomento,\ta\tblusa\tde\tCelia\tfoi\tparar\tno\tchão,\te\tmeu\tvestido\testava erguido\tacima\tdas\tcoxas. Senti\tseus\tlábios\tno\tmeu\tpeito,\tsua\tmão\tna\tminha"
          },
          "metadata": {}
        },
        {
          "output_type": "display_data",
          "data": {
            "text/plain": [
              "<IPython.core.display.Markdown object>"
            ],
            "text/markdown": "### Página 349"
          },
          "metadata": {}
        },
        {
          "output_type": "display_data",
          "data": {
            "text/plain": [
              "<IPython.core.display.Markdown object>"
            ],
            "text/markdown": "O\tlençol\tda\tcama\tera\tbranquíssimo\te macio. Na\tmanhã\tseguinte,\tacordei\tcom\tos\tcabelos\tdela\tno\tmeu\trosto,\tespalhados pelo\ttravesseiro. “Vou\tdizer\to\tque\tnós\tvamos\tfazer”,\tCelia\tanunciou. Vou\tligar\tpara\tum\tamigo\tmeu\tno\tCongresso. Você\tvai\tser\tvista\tpor\taí\tcom\tele. Vamos espalhar\tum\tboato\tde\tque\tvocê\testá\ttrocando\tMax\tpor\tum\thomem\tmais\tnovo.” “Quantos\tanos\tele\ttem?” “Vinte\te\tnove.” “Minha\tnossa,\tCelia. “É\texatamente\to\tque\tas\tpessoas\tvão\tdizer. Vão\tachar\tum\tescândalo\tvocê\testar saindo\tcom\tele.” “E\tquando\tMax\tcomeçar\ta\tme\tcaluniar?” “O\tque\tele\tdisser\tnão\tvai\tfazer\tdiferença. Vai\ttodo\tmundo\tachar\tque\tele\testá amargurado,\tsó\tisso.” “E\tdepois?”,\teu\tquis\tsaber. “E\tdepois,\tmais\tpara\ta\tfrente,\tvocê\tse\tcasa\tcom\to\tmeu\tirmão.” “Por\tque\teu\tme\tcasaria\tcom\tRobert?” “Para\tquando\teu\tmorrer\tpoder\tdeixar\to\tque\ttenho\tpara\tvocê. Meu\tespólio\tvai ficar\tsob\to\tseu\tcontrole. É\tmais\tinteligente.” “Mas\tcasar\tcom\tseu\tirmão? Isso\tvai\tfazer\tbem\tpara\ta\treputação dele. Todos\tvão\tsair\tganhando.” “Tudo\tisso\tpara\tnão\tdizer\ta\tverdade?” Deu\tpra\tsentir\to\tpeito\tde\tCelia\tse\texpandir\te\tse\tcontrair\tjunto\ta\tmim."
          },
          "metadata": {}
        },
        {
          "output_type": "display_data",
          "data": {
            "text/plain": [
              "<IPython.core.display.Markdown object>"
            ],
            "text/markdown": "### Página 350"
          },
          "metadata": {}
        },
        {
          "output_type": "display_data",
          "data": {
            "text/plain": [
              "<IPython.core.display.Markdown object>"
            ],
            "text/markdown": "Você\tnão\tviu\to\tque\tfizeram\tcom\tRock Hudson? Se\tele\testivesse\tmorrendo\tde\tcâncer,\ttodo\tmundo\tia\tfazer\tcampanha para\tarrecadar\tfundos\tpara\tpesquisas.” “As\tpessoas\tnão\tentendem\to\tque\té\tter\taids”,\trespondi. “Elas\tentendem\tmuito\tbem”,\tCelia\trebateu. “Só\tacham\tque\tele\tteve\to\tque merecia,\tpor\tcausa\tda\tmaneira\tcomo\tpegou\ta\tdoença.” Encostei\ta\tcabeça\tno\ttravesseiro,\tsentindo\to\tcoração\tapertado. Nos\tanos\tanteriores,\teu\ttinha\tvisto\tHarry\tperder\tamigos\tapós\tamigos e\tantigos\tamantes\tpara\ta\taids,\tchorando\taté\tficar\tcom\tos\tolhos\tinchados\tpor medo\tde\testar\tdoente,\tpor\tnão\tser\tcapaz\tde\tajudar\tpessoas\tque\teram\ttão\tqueridas. E\thavia\tvisto\tRonald\tReagan\tpraticamente\tignorar\to\tque\testava\tacontecendo debaixo\tdo\tnosso\tnariz. “Sei\tque\tas\tcoisas\tmudaram\tdesde\tos\tanos\t1960”,\tela\tfalou. Você\tnão\tpode\tse\tarriscar\ta\tperder\tConnor. Então\tvou\tligar\tpara Jack,\tmeu\tamigo\tdeputado. E\tvamos\ttodos\tmudar\tpara\ta\tEspanha.” “Vou\tprecisar\tconversar\tcom\tHarry.” “Claro”,\tela\tconcordou. Se\tele\tnão\tgostar\tda\tEspanha, vamos\tpara\ta\tAlemanha. Só\tprecisa\tser\tum\tlugar\tonde\tnão\tfaça\tdiferença\tquem\ta\tgente\té,\tonde as\tpessoas\tvão\tnos\tdeixar\tem\tpaz\te\tonde\tConnor\tpossa\tter\tuma\tvida\tnormal.” “Você\tvai\tprecisar\tde\tassistência\tmédica.” “Posso\tviajar\tpara\tonde\tfor\tpreciso. Ou\tcontratar\tpessoas\tpara\tcuidar\tde\tmim lá.” Pensei\tum\tpouco\ta\trespeito. Ela\tdeu\trisada,\te\teu\ta\tbeijei."
          },
          "metadata": {}
        },
        {
          "output_type": "display_data",
          "data": {
            "text/plain": [
              "<IPython.core.display.Markdown object>"
            ],
            "text/markdown": "### Página 351"
          },
          "metadata": {}
        },
        {
          "output_type": "display_data",
          "data": {
            "text/plain": [
              "<IPython.core.display.Markdown object>"
            ],
            "text/markdown": "Nós\tnunca\ttínhamos\tmorado\tjuntas\tlá. Mas\tela entendeu\to\tque\teu\tquis\tdizer."
          },
          "metadata": {}
        },
        {
          "output_type": "display_data",
          "data": {
            "text/plain": [
              "<IPython.core.display.Markdown object>"
            ],
            "text/markdown": "### Página 352"
          },
          "metadata": {}
        },
        {
          "output_type": "display_data",
          "data": {
            "text/plain": [
              "<IPython.core.display.Markdown object>"
            ],
            "text/markdown": "Ela deu\tentrada\tnos\tpapéis\tde\tdivórcio\testa\tsemana,\talegando\t“diferenças irreconciliáveis”. E,\tapesar\tde\ttoda\tsua\tprática\tno\tassunto,\tparece\tque\tdessa\tvez a\tcoisa\tvai\tse\tcomplicar. Fontes\tdizem\tque\tMax\tGirard\tvai\tpedir\tpensão\talimentícia,\te\tsegundo\trelatos, o\tdiretor\testaria\tfalando\tmal\tde\tHugo\tpor\ttoda\ta\tcidade. Jack Easton,\tdeputado\tdo\tpartido\tDemocrata\tpelo\testado\tde\tVermont,\ttem\tapenas vinte\te\tnove\tanos. E,\tse\tas\tfotos do\tjantar\tdos\tdois\tem\tLos\tAngeles\tservem\tde\tindicação,\tparece\tque\thá\tum romance\tsurgindo. Evelyn\tHugo\tnão\ttem\tuma\tficha\tmuito\tlimpa,\tmas,\tnesse\tcaso,\tuma\tcoisa parece\tser\tclara:\tos\tcomentários\tde\tGirard\tparecem\tmotivados\tpor\tpuro\trancor."
          },
          "metadata": {}
        },
        {
          "output_type": "display_data",
          "data": {
            "text/plain": [
              "<IPython.core.display.Markdown object>"
            ],
            "text/markdown": "### Página 353"
          },
          "metadata": {}
        },
        {
          "output_type": "display_data",
          "data": {
            "text/plain": [
              "<IPython.core.display.Markdown object>"
            ],
            "text/markdown": "“Você\testá\tsugerindo\tque\teu\tme\taposente”,\tHarry\tfalou. “E o\tresto\tdo\ttempo\teu\tpassaria\tsem\tter\tcom\tque\tme\tocupar.” Estávamos\tno\tcamarim\tdo\tset\tde\t A\tsabedoria\tde\tTheresa . Harry\ttinha descoberto\to\troteiro\te\tvendido\tpara\ta\tFox,\tme\tescalando\tpara\tinterpretar Theresa,\tuma\tmulher\tque\testá\tse\tseparando\tdo\tmarido\te\tque\tluta\tcom\ttodas\tas forças\tpara\tmanter\tos\tfilhos\tjuntos. Era\to\tterceiro\tdia\tde\tfilmagens,\te\teu\tjá\testava\tcom\to\tfigurino\t—\tum\tterninho Chanel\tbranco\te\tcolar\tde\tpérolas\t—,\tprestes\ta\tanunciar\to\tdivórcio\tdurante\ta\tceia de\tNatal. Estava\tquase\tgrisalho\tna\tépoca,\te\tfiquei\taté\tcom\traiva\tdele\tpor\testar ficando\tmais\tbonito\tà\tmedida\tque\tenvelhecia,\tenquanto\teu\tdefinhava\tfeito\tum limão\tbolorento. “Até\tentendo\tque\tpara\tvocê\tseja\tuma mentira. Por\tsua\tvontade\tde\tfazer\tas\tcoisas\tdarem\tcerto\tcom\tCelia. E\teu\tdou\to maior\tapoio\tpara\tisso,\tclaro. Mas\testa\tvida\tnão\té\tuma\tmentira\tpara\tmim.”"
          },
          "metadata": {}
        },
        {
          "output_type": "display_data",
          "data": {
            "text/plain": [
              "<IPython.core.display.Markdown object>"
            ],
            "text/markdown": "### Página 354"
          },
          "metadata": {}
        },
        {
          "output_type": "display_data",
          "data": {
            "text/plain": [
              "<IPython.core.display.Markdown object>"
            ],
            "text/markdown": "“Existem\thomens\tna\tsua\tvida”,\tfalei,\tdemonstrando\timpaciência,\tcomo\tse Harry\testivesse\ttentando\tme\tenganar. “Não\tvenha\tme\tdizer\tque\tnão\texiste nenhum \thomem.” “Claro\tque\tsim,\tmas\tnenhum\tcom\tquem\teu\ttenha\talguma\tligação\tmais\tforte”, Harry\trespondeu. Só\tsou\tfamoso por\tcausa\tda\tsua\tfama,\tEv. Ninguém\testá\tnem\taí\tpara\tmim\te\tpara\to\tque\testou fazendo\tse\tnão\tfor\talguma\tcoisa\trelacionada\ta\tvocê. Os\thomens\tcom\tquem\teu saio\tficam\talgumas\tsemanas\tna\tminha\tvida\te,\tdepois,\tfim\tde\tpapo. Estou\tsimplesmente\tvivendo.” Respirei\tfundo,\ttentando\tnão\tme\texaltar\tdemais\tantes\tde\tentrar\tem\tcena\te representar\tuma\tmulher\tbranca\te\treligiosa\tde\tclasse\tmédia\talta. “Pelo\tmenos,\tnão\ttodos\tnós.”\tE\tem\tseguida\tsaiu. Harry\te\teu\tíamos\ta\tNova\tYork\ttodo\tfim\tde\tsemana\tpara\tvisitar\tConnor\te, durante\tas\tsemanas\tde\tfilmagem,\teu\tficava\tcom\tCelia,\te\tele…\tbom,\tnão\tsei\tpor onde\tele\tandava. Mas\tparecia\tfeliz,\tentão\tnão\tfiz\tmaiores\tquestionamentos. Quando\tas\tfilmagens\tde\t A\tsabedoria\tde\tTheresa \tatrasaram\ttrês\tsemanas porque\tBen\tMadley,\to\tprotagonista\tmasculino,\tfoi\tinternado\tcom\testafa,\tfiquei dividida."
          },
          "metadata": {}
        },
        {
          "output_type": "display_data",
          "data": {
            "text/plain": [
              "<IPython.core.display.Markdown object>"
            ],
            "text/markdown": "### Página 355"
          },
          "metadata": {}
        },
        {
          "output_type": "display_data",
          "data": {
            "text/plain": [
              "<IPython.core.display.Markdown object>"
            ],
            "text/markdown": "Por\tum\tlado,\teu\tqueria\tvoltar\tpara\tcasa\ttodas\tas\tnoites\te\tficar\tcom\ta\tminha filha. Por\toutro,\tConnor\testava\tse\tmostrando\tcada\tvez\tmais\tincomodada\tcomigo. Por\tisso\tna\tmaior\tparte\tdo\ttempo\teu\tficava\tmais\tfeliz em\tLos\tAngeles,\tcom\tCelia,\tdo\tque\tem\tNova\tYork,\tsendo\trejeitada\to\ttempo\ttodo pelo\tsangue\tdo\tmeu\tsangue. Mas\tteria\tlargado\ttudo\tnum\tpiscar\tde\tolhos\tse Connor\tmostrasse\tinteresse\tem\tpassar\tcomigo\tuma\tnoite\tque\tfosse. No\toutro\tdia,\tao\tfim\tdas\tfilmagens,\teu\testava\tjuntando\tminhas\tcoisas\te falando\tcom\tConnor\tao\ttelefone,\tplanejando\to\tdia\tseguinte. “Legal.” “Pensei\tem\tir\ttomar\tcafé\tda\tmanhã\tno\tChanning’s.” “Mãe,\tninguém\tmais\tvai\tno\tChanning’s.” “Detesto\tter\tque\tdizer\tisso,\tmas,\tse\t eu \tfor\tao\tChanning’s,\to\tlugar\tvai\tvoltar\ta ficar\tna\tmoda\trapidinho.” “É\texatamente\tdisso\tque\testou\tfalando\tquando\tdigo\tque\tvocê\té\tintragável.” “Só\testou\tquerendo\tlevar\tvocê\tpara\tcomer\ttorradas\tfrancesas,\tConnie. Existem\tcoisas\tpiores\tno\tmundo.” Ouvi\tuma\tbatida\tna\tporta\tdo\tbangalô\tem\tHollywood\tHills\tque\teu\ttinha alugado. Quando\tvi\tque\tera\tHarry,\tabri\ta\tporta. Luisa\tvai\tfazer bolo\tde\tcarne\tcom\tmolho\tbarbecue\tpara\tnós”,\tela\tavisou. A\tgente\tse\tvê\tamanhã.” Passei\to\ttelefone\tpara\tHarry. Se\ta\tsua mãe\taparecer\tnum\tlugar,\tisso\tmeio\tque\tsignifica\tque,\tautomaticamente,\tvai\tser considerado\tum\tlugar\tda\tmoda…\tTudo\tbem…\tTudo\tbem."
          },
          "metadata": {}
        },
        {
          "output_type": "display_data",
          "data": {
            "text/plain": [
              "<IPython.core.display.Markdown object>"
            ],
            "text/markdown": "### Página 356"
          },
          "metadata": {}
        },
        {
          "output_type": "display_data",
          "data": {
            "text/plain": [
              "<IPython.core.display.Markdown object>"
            ],
            "text/markdown": "vamos\tsair\tpara\ttomar\tcafé\tda\tmanhã,\te\tpode\tser\tem\tqualquer\tlugar\tque\tseja\to mais\tbadalado\tdo\tmomento…\tComo\té\tque\tchama\tmesmo? A\tgente\tse\tvê\tamanhã.” Harry\tsentou\tna\tminha\tcama\te\tme\tolhou. “Pelo\tjeito,\tnós\tvamos\tao\tWiffles.” “Ela\tfaz\tgato\te\tsapato\tde\tvocê,\tHarry”,\tcomentei. “Não\ttenho\tvergonha\tnenhuma\tdisso.”\tHarry\tlevantou, pegou\tum\tcopo\td’água. Achei\tque\tem\tcasa\tteríamos\tmais\ttempo\t—\te\tpaciência —\tpara\tdiscutir\tmelhor\ta\tquestão. Na\tminha\topinião,\ta\tmudança\tseria\tboa\tpara\tConnor. Por\tmais\tque\teu\tgostasse de\tNova\tYork,\ta\tcidade\ttinha\tse\ttornado\tum\tlugar\tmeio\tperigoso\tpara\tviver. A criminalidade\testava\tfora\tde\tcontrole,\te\thavia\tdrogas\tpor\ttoda\tparte. No\tUpper East\tSide\testávamos\tmais\tou\tmenos\tseguros,\tmas\ta\tideia\tde\tConnor\tcrescer\ttão perto\tdaquele\tcaos\tme\tincomodava. E,\tsendo\tainda\tmais\tsincera,\teu\tnão\testava certa\tde\tque\tuma\trotina\tcom\tpais\tque\tviajavam\to\ttempo\ttodo,\tdeixando-a\to tempo\ttodo\taos\tcuidados\tde\tLuisa,\tera\to\tmelhor\tpara\ta\tvida\tdela. Sim,\teu\testaria\tforçando\tConnor\ta\tabandonar\tsua\tcidade. E\tsabia\tque\tela\tiria ficar\tcom\tmuita\traiva\tde\tmim\tpor\tsepará-la\tdos\tamigos. Mas\ttambém\tsabia\tque ela\tteria\tos\tbenefícios\tda\tvida\tnuma\tcidade\tpequena. E\ttambém\tera\tinevitável\tlevar\tem\tconta\tque\tela\tjá\ttinha\tidade\tpara acompanhar\tas\tcolunas\te\tos\tnoticiários\tde\tfofoca."
          },
          "metadata": {}
        },
        {
          "output_type": "display_data",
          "data": {
            "text/plain": [
              "<IPython.core.display.Markdown object>"
            ],
            "text/markdown": "### Página 357"
          },
          "metadata": {}
        },
        {
          "output_type": "display_data",
          "data": {
            "text/plain": [
              "<IPython.core.display.Markdown object>"
            ],
            "text/markdown": "Pensei\tque\tfosse ser\tsó\tum\tlance\tcasual. Mas\tacho\tque…\tÉ\tum\tcara\tcom quem\teu\tconsigo\tme\tver\tpor\tmais\ttempo.” Fiquei\ttão\tfeliz\tpor\tele\tnaquele\tmomento. “Pensei\tque\tvocê\tnão\tconseguia\tse ver\tcom\tmais\tninguém”,\tcomentei,\tsurpresa\te\tao\tmesmo\ttempo\tsatisfeita. Só\tnão\tsei\tse\té\tuma\tboa ideia”,\trespondi. “Quer\tdizer,\tnão\tfui\teu\tque\tescolhi\tCelia. E\teu…\tacho\tque\tgostaria\tde\tescolher\ttambém.” “Eu\tnão\tquero\tmais\tser\tatriz,\tHarry”,\tavisei. Enquanto\tfazia\taquele\túltimo\tfilme,\tme\tsenti\tesgotada. Tinha\tvontade\tde revirar\tos\tolhos\tquando\tme\tpediam\tpara\trodar\tmais\tum\ttake. Me\tdeslocar\tno\tset parecia\tuma\tmaratona\tque\teu\tjá\ttinha\tcorrido\tmil\tvezes. Talvez,\tse\tconseguisse\tpapéis\tmais\tinteressantes,\tcaso\tsentisse\tque\ttivesse alguma\tcoisa\ta\tprovar,\tsei\tlá,\tde\trepente\tminha\treação\tpoderia\tser\toutra. Existem\tmuitas\tatrizes\tque\tcontinuam\tfazendo\ttrabalhos\tincríveis\tdepois\tdos oitenta\tou\tnoventa. Capaz\tde\temendar\tuma\tatuação impressionante\tapós\ta\toutra,\tporque\tsempre\tse\tentregava\tao\ttrabalho. Mas\to\tmeu\tcoração\tnão\testava\tnisso. Meu\tinteresse\tnunca\tfoi\ta\tarte\tde\tatuar,\te"
          },
          "metadata": {}
        },
        {
          "output_type": "display_data",
          "data": {
            "text/plain": [
              "<IPython.core.display.Markdown object>"
            ],
            "text/markdown": "### Página 358"
          },
          "metadata": {}
        },
        {
          "output_type": "display_data",
          "data": {
            "text/plain": [
              "<IPython.core.display.Markdown object>"
            ],
            "text/markdown": "“Você\tnão\tprecisa\tmais\tatuar.” “Mas,\tnesse\tcaso,\tpor\tque\teu\tmoraria\tem\tLos\tAngeles? Quero\tviver\tnum lugar\tonde\tpossa\tser\tlivre,\tonde\tninguém\tvai\tficar\tprestando\tatenção\tem\tmim. Lembra\tde\tquando\tvocê\tera\tcriança,\te\tperto\tda\tsua\tcasa\tsempre\ttinha\tduas velhinhas\tque\tmoravam\tjuntas,\tmas\tninguém\tcomentava\tnada\tporque\tninguém estava\tinteressado\tna\tvida\tdelas? E\taqui\tisso\té impossível.” “Você\tnão\ttem\tcomo\tviver\tassim\tem\tlugar\tnenhum”,\tHarry\trespondeu. “É\to preço\ta\tpagar\tpor\tser\tquem\tvocê\té.” “Eu\tnão\taceito\tisso. Acho\tperfeitamente\tpossível\tviver\tassim.” “Bom,\tnão\té\tisso\to\tque\teu\tquero. E\tCelia\tcom\tmeu\tamigo.” “Vamos\tconversar\tmelhor\tsobre\tisso\toutra\thora”,\tfalei,\tficando\tde\tpé\te levando\tmeu\tnécessaire\tpara\to\tbanheiro. “Evelyn,\tvocê\tnão\tpode\tdecidir\ttudo\tnesta\tfamília\tde\tforma\tunilateral.” “Quem\tfalou\tem\tdecisão\tunilateral? Só\testou\tdizendo\tque\tprefiro\tconversar sobre\tisso\tmais\ttarde. “Ele\tnão\ttem\tcomo\tmudar\tpara\tNova\tYork.” Eu\tsoltei\tum\tsuspiro,\tjá\tperdendo\ta\tpaciência. “Mais\tum\tmotivo\tpara conversar\tcom\tmais\tcalma\t outra\thora .” Harry\tlevantou,\tcomo\tse\testivesse\tdisposto\ta\tfalar\tpoucas\te\tboas. “Nós\tpodemos\tconversar\tmelhor\toutra hora.” Ele\tveio\taté\tmim\tenquanto\teu\tguardava\tmeus\tsabonetes\te\tminha\tmaquiagem, segurou\tmeu\tbraço\te\tme\tbeijou\tna\ttesta. “Você\tpassa\tpara\tme\tpegar\thoje\tà\tnoite?”,\tele\tperguntou."
          },
          "metadata": {}
        },
        {
          "output_type": "display_data",
          "data": {
            "text/plain": [
              "<IPython.core.display.Markdown object>"
            ],
            "text/markdown": "### Página 359"
          },
          "metadata": {}
        },
        {
          "output_type": "display_data",
          "data": {
            "text/plain": [
              "<IPython.core.display.Markdown object>"
            ],
            "text/markdown": "tomar\tuns\tbloody\tmarys\tno\tavião.” “Nós\tvamos\tdar\tum\tjeito”,\teu\tdisse\ta\tele. Nunca\tpensei\tque\tfosse\tme apaixonar\tdepois\tdo\tJohn. Mas\tesse\tcara…\tEvelyn,\teu\testou\tme\tapaixonando por\tele. Prometo\tque\tvamos\tdar\tum\tjeito.” “Certo”,\tHarry\tdisse,\tapertando\tminha\tmão\te\ttomando\to\tcaminho\tda\tporta. “Nós\tvamos\tdar\tum\tjeito.” O\tmotorista,\tque\tse\tapresentou\tcomo\tNick\tquando\tentrei\tno\tbanco\tde\ttrás,\tfoi me\tbuscar\tàs\tnove\tda\tnoite. “Na\tverdade,\tprecisamos\tdar\tuma\tpassadinha\tno\tWestside\tprimeiro”,\tavisei, passando\to\tendereço\tda\tcasa\tonde\tHarry\testava\thospedado. Enquanto\tatravessávamos\ta\tcidade,\tpassando\tpelas\tvizinhanças\tde\treputação mais\tduvidosa\tde\tHollywood,\tpelo\tSunset\tStrip,\tacabei\tme\tdeprimindo\tcom\tLos Angeles,\tque\tàquela\taltura\tera\tum\tlugar\tbem\tdiferente\tde\tquando\teu\thavia\tme mudado. Era\tbem\tparecida\tcom\tManhattan\tnesse\tsentido. Harry\testava\tpensando\tem\ttrazer\tConnor\tpara\tcá,\tmas\tpara\tmim\tera inevitável\ta\tsensação\tde\tque\tprecisávamos\tdeixar\ta\tcidade\tgrande\tde\tuma\tvez. Quando\tparamos\tnum\tsinal\tvermelho\tperto\tda\tcasa\talugada\tpor\tHarry,\tNick\tse virou\te\tsorriu\tpara\tmim. Tinha\to\tmaxilar\tquadrado\te\tum\tcorte\tde\tcabelo\tno\testilo militar. Dava\tpara\tperceber\tque\tjá\tdeveria\tter\tlevado\tum\tmonte\tde\tmulheres\tpara a\tcama\tsó\tse\tvalendo\tdaquele\tsorriso."
          },
          "metadata": {}
        },
        {
          "output_type": "display_data",
          "data": {
            "text/plain": [
              "<IPython.core.display.Markdown object>"
            ],
            "text/markdown": "### Página 360"
          },
          "metadata": {}
        },
        {
          "output_type": "display_data",
          "data": {
            "text/plain": [
              "<IPython.core.display.Markdown object>"
            ],
            "text/markdown": "“Fechei\tcom\tum\tagente\testa\tsemana”,\tele\tdisse\tquando\tpôs\to carro\tde\tnovo\tem\tmovimento. Mas,\tse\ta\tgente chegar\tao\taeroporto\tcom\talguma\tfolguinha,\teu\tgostaria\tde\touvir\tsuas\tdicas\tpara quem\testá\tcomeçando.” “Ã-hã”,\tfalei,\tolhando\tpela\tjanela. Enquanto\tatravessávamos\tas\truas\tescuras\te serpenteantes\tdo\tbairro\tonde\tHarry\testava\thospedado,\tdecidi\tque,\tse\tNick perguntasse\tde\tnovo,\tdiria\tque\ta\tmaioria\tdas\tcoisas\tque\tconsegui\tfoi\tpor\tpura sorte. E\tque\té\tpreciso\testar\tdisposto\ta\tabrir\tmão\tde\tsua\tidentidade,\ta\ttransformar\tseu corpo\tem\tmercadoria,\ta\tmentir\tpara\tpessoas\tdecentes,\ta\tsacrificar\tseu\tamor\tpor causa\tdo\tque\tas\tpessoas\tvão\tpensar,\ta\trevelar\tuma\tfalsa\tversão\tde\tsi\to\ttempo todo,\taté\tesquecer\tquem\tera\tno\tinício\tde\ttudo\te\tpor\tque\tentrou\tnesse\tmundo, para\tcomeço\tde\tconversa. Mas,\tquando\tviramos\ta\tesquina\tda\trua\testreita\te\tescondida\tonde\tHarry\testava hospedado,\ttodos\tesses\tpensamentos\tdesapareceram\tda\tminha\tmente. Em\tvez\tdisso,\tme\tinclinei\tpara\ta\tfrente,\tchocada. Bem\tna\tnossa\tfrente\thavia\tum\tcarro. Ouvi\to\tfarfalhar\tdos\tgalhos\tamassados\tpela lateral\tdo\tcarro\tquando\testacionamos. Fiquei\tcom\ta\tmão\timóvel\tna\tmaçaneta\tdo carro. Abri\ta\tporta\te\tpus\to\tpé\tno\tchão. Nick\testava\ttentando\tabrir\tuma\tdas\tportas\tdo carro\tbatido."
          },
          "metadata": {}
        },
        {
          "output_type": "display_data",
          "data": {
            "text/plain": [
              "<IPython.core.display.Markdown object>"
            ],
            "text/markdown": "### Página 361"
          },
          "metadata": {}
        },
        {
          "output_type": "display_data",
          "data": {
            "text/plain": [
              "<IPython.core.display.Markdown object>"
            ],
            "text/markdown": "Olhei\tpara\to\tlado\te\tvi\tum\thomem\tmais\tjovem\tno\tassento\tdo\tpassageiro. Mas\tquase\ttodo\tmundo\tque\tvivenciou\tuma\tocasião\tcomo\tessa\tsabe que\tnão\tpode\tse\tdar\tao\tluxo\tde\tentrar\tem\tpânico. Nesse\tmomento,\ta\tgente\tage\tsem\tpensar,\tfazendo\to\tmáximo\tpossível\tcom\tas informações\tque\tconsegue\textrair\ta\tpartir\tdo\tcenário. E\tse\tpergunta\tcomo\tconseguiu fazer\ttudo\taquilo. É\tcomo\tse\texistisse\tuma\tcâmera posicionada,\tmas\tsem\tninguém\tpara\tfilmar. Então\tmais\ttarde,\tquando\tvocê\tvai assistir\tà\tfita,\tpercebe\tque\testá\tem\tbranco. Lembro\tque\tNick\tconseguiu\tabrir\ta\tporta\tdo\tmotorista. Lembro\tde\tpensar\tque\tnão\tera\tuma\tboa\tideia\tmover\tHarry,\tporque\tisso poderia\tagravar\tos\tferimentos. Mas\ttambém\tlembro\tque\tnão\tia\tconseguir\tdeixar\tHarry\tdaquele\tjeito,\tlargado sobre\to\tvolante. Lembro\tde\tsegurar\tHarry\tnos\tmeus\tbraços\tenquanto\tele\tsangrava. Lembro\tque\ttinha\tum\tcorte\tprofundo\tem\tseu\tsupercílio,\te\tque\to\tsangue\tseco deixou\tuma\tcrosta\tvermelha\tenorme\tno\tseu\trosto. Lembro\tde\tter\tvisto\to\toutro\thomem\tno\tmeio\tda\trua\tao\tmeu\tlado. Lembro\tde Nick\tter\tdito\tque\tele\testava\tmorto. Lembro\tde\tter\tpensado\tque\tnenhum\tdos\tdois parecia\tvivo."
          },
          "metadata": {}
        },
        {
          "output_type": "display_data",
          "data": {
            "text/plain": [
              "<IPython.core.display.Markdown object>"
            ],
            "text/markdown": "### Página 362"
          },
          "metadata": {}
        },
        {
          "output_type": "display_data",
          "data": {
            "text/plain": [
              "<IPython.core.display.Markdown object>"
            ],
            "text/markdown": "Lembro\tde\tter\tsentido\tcheiro\tde\tuísque\tem\tseu\thálito\te\taté\tem\tsua\tpele. Lembro\tde\tcomo\tisso\tme\tdeixou\tassustada\t—\tcomo\tsabia\tque\tHarry\tpoderia sobreviver,\thavia\tcoisas\ta\tserem\tfeitas. Eu\tprecisava\tlevá-lo\tpara\to\thospital,\te\tgarantir\tque\tninguém\tsoubesse\tque\tele estava\tdirigindo. Não\tpodia\tpermitir\tque\tele\tfosse\tpreso. E\tse\tHarry\tfosse acusado\tde\thomicídio\tculposo? Não\tpodia\tdeixar\tminha\tfilha\tdescobrir\tque\to\tpai\testava\tdirigindo\tbêbado\te provocou\ta\tmorte\tde\talguém. Chamei\tNick\tpara\tme\tajudar\ta\tcolocar\tHarry\tno\tcarro. E\to\tfiz\tme\tajudar\ta\tpôr o\toutro\thomem\tde\tvolta\tno\tcarro\tdestruído,\tmas\tno\tassento\tdo\tmotorista. Em\tseguida\tpeguei\tuma\techarpe\tna\tminha\tmala\te\tlimpei\to\tsangue\tdo\tvolante, do\tcinto\tde\tsegurança. Apaguei\ttodos\tos\tvestígios\tde\tHarry. Quando\tdesliguei,\tvirei\tpara\tNick,\tsentado\tna\tsala\tde\tespera,\tcom\tmanchas\tde sangue\tno\tpeito,\tnos\tbraços\te\taté\tno\tpescoço. “É\tmelhor\tvocê\tir\tpara\tcasa”,\tavisei. “Vou\tchamar\tum\ttáxi,\tentão.”\tPeguei\tminha\tbolsa\te\tsaquei\tduas\tnotas\tde vinte. “Isso\tdeve\tdar\tpara\tpagar\ta\tcorrida.” “O.k.”,\tele\tfalou."
          },
          "metadata": {}
        },
        {
          "output_type": "display_data",
          "data": {
            "text/plain": [
              "<IPython.core.display.Markdown object>"
            ],
            "text/markdown": "### Página 363"
          },
          "metadata": {}
        },
        {
          "output_type": "display_data",
          "data": {
            "text/plain": [
              "<IPython.core.display.Markdown object>"
            ],
            "text/markdown": "“Vou\tme\thospedar\tno\tBeverly\tHills\tHotel. E\tsem\tfalar\tcom\tninguém\ta\trespeito enquanto\tisso. Você\ttem namorada?” Ele\tnegou\tcom\ta\tcabeça. “Você\tvai\tdizer\tque\tachou\tum\tcara\tcaído\tna\trua\te\tajudou\ta\tlevá-lo\tpara\to hospital,\tcerto? É\tisso\tque\tvocê\tvai\tcontar\tpara\ttodo\tmundo,\tmas\tsó\tse perguntarem.” “Tá\tbom.” Ele\tbalançou\ta\tcabeça. Chamei\tum\ttáxi\te\tesperei\tcom\tele\taté\tque\tchegasse. E o\tpus\tno\tbanco\tde\ttrás. “Se\tnão\tconseguir\tdormir,\tpensa\tnaquilo\tque\tvocê\tprecisa. No\tque\tposso\tfazer\tcomo\tum\tagradecimento\tpela\tajuda\tque\tme\tdeu.” Ele\tassentiu,\te\to\ttáxi\tarrancou. Evelyn\tHugo,\tcom\tas\troupas\tcobertas\tde sangue. Fui\tlá\tpara\tdentro,\tpeguei\tum\tuniforme\temprestado\te\tconsegui\tuma\tsala\tde espera\tprivativa\tpara\tficar. Quando\tum\tfuncionário\tdo\thospital\tveio\tme\tperguntar\to\tque\ttinha\tacontecido com\tHarry,\tfalei:\t“Quanto\tvocê\tquer\tpara\tme\tdeixar\tem\tpaz?”."
          },
          "metadata": {}
        },
        {
          "output_type": "display_data",
          "data": {
            "text/plain": [
              "<IPython.core.display.Markdown object>"
            ],
            "text/markdown": "### Página 364"
          },
          "metadata": {}
        },
        {
          "output_type": "display_data",
          "data": {
            "text/plain": [
              "<IPython.core.display.Markdown object>"
            ],
            "text/markdown": "porque\ta\tquantia\tmencionada\tera\tmenor\tdo\tque\teu\ttinha\tna\tbolsa. Pouco\tdepois\tdas\tseis\thoras,\tum\tmédico\tapareceu\tno\tquarto\te\tme\tcontou\tque\ta artéria\tfemoral\tde\tHarry\ttinha\tse\trompido. Por\tum\tbreve\tinstante,\tpensei\tem\tbuscar\tminhas\troupas\tpara\tdevolver\tparte\tdo sangue\tpara\tele,\tcomo\tse\tisso\tfosse\tpossível. Mas\tmeus\tpensamentos\tforam\tinterrompidos\tpelo\tque\to\tmédico\tdisse\tem seguida. “Ele\tnão\tvai\tresistir.” Fiquei\tsem\tar\tao\tme\tdar\tconta\tde\tque\tHarry,\to\tmeu\tHarry,\testava\tmorrendo. “Você\tquer\tir\tse\tdespedir?” Ele\testava\tinconsciente\tna\tcama\tquando\tentrei\tno\tquarto. Não\thavia\tmais\tsangue\tpor\ttoda\ta parte. “Ele\tnão\ttem\tmais\tmuito\ttempo”,\to\tmédico\tavisou. “Mas\tvamos\tdeixar\tvocês a\tsós\tpor\tum\tmomento.” Eu\tnão\tpodia\tme\tdar\tao\tluxo\tde\tentrar\tem\tpânico. Talvez\teu\tdevesse\testar\tbrava\tcom\tele\tpor\tter\tpegado\tno volante\tdepois\tde\tbeber. Mas\tnunca\tfui\tcapaz\tde\tme\tirritar\tcom\tHarry. Encostei\ta\tminha\ttesta\tna\tdele\te\tfalei:\t“Quero\tque\tvocê\tfique\taqui,\tHarry. Saiba\tque\teu\tte\tcontei\ttodos\tos\tmeus\tsegredos. Porque\tvocê foi\tmeu\tmelhor\tamigo.” Harry\tmorreu\tuma\thora\tdepois. Só\tdepois\tdisso\teu\tpude\tme\tdar\tao\tluxo\tdevastador\tde\tentrar\tem\tpânico."
          },
          "metadata": {}
        },
        {
          "output_type": "display_data",
          "data": {
            "text/plain": [
              "<IPython.core.display.Markdown object>"
            ],
            "text/markdown": "### Página 365"
          },
          "metadata": {}
        },
        {
          "output_type": "display_data",
          "data": {
            "text/plain": [
              "<IPython.core.display.Markdown object>"
            ],
            "text/markdown": "Na\tmanhã\tseguinte,\tpoucas\thoras\tdepois\tde\tfazer\to\tcheck-in\tno\thotel,\tacordei com\to\ttelefone\ttocando. Meus\tolhos\testavam\tinchados\tde\tchorar,\te\tminha\tgarganta\tdoía. O\ttravesseiro ainda\testava\tmolhado\tde\tlágrimas. Devo\tter\tdormido\tuma\thora,\ttalvez\tmenos. Oi.” “Já\tsei\to\tque\tquero”,\tele\tavisou. E\tsua\tforça\tde\tvontade\tme\tassustou. Estava me\tsentindo\tfraca\tdemais\tnaquele\tmomento. Mas\tsabia\tque\ta\tligação\ttinha\tsido ideia\tminha. Assim\tcomo\to\tassunto\ta\tser\ttratado. Me\tdiz\to\tque\tvocê\tquer\tpara manter\ta\tboca\tfechada ,\tfoi\to\tque\tfalei\tsem\tdizer. “Quero\tque\tvocê\tme\ttorne\tfamoso”,\tele\tanunciou\te,\tquando\tfez\tisso,\ta\túltima gota\tde\tapego\tque\teu\tainda\ttinha\tpelo\testrelato\tse\tesvaiu. “Se\tvocê\tvirar\tuma\tcelebridade,\ta\tnoite\tpassada\tvai\trepresentar\tum\tperigo\tpara\ta sua\tvida\ttambém.” “Isso\tnão\té\tum\tproblema”,\tele\tgarantiu. O\tresto\té\tpor\tsua\tconta.” “Tudo\tbem."
          },
          "metadata": {}
        },
        {
          "output_type": "display_data",
          "data": {
            "text/plain": [
              "<IPython.core.display.Markdown object>"
            ],
            "text/markdown": "### Página 366"
          },
          "metadata": {}
        },
        {
          "output_type": "display_data",
          "data": {
            "text/plain": [
              "<IPython.core.display.Markdown object>"
            ],
            "text/markdown": "Para\to papel\tmais\timportante\tpossível.” “Tudo\tbem”,\tele\trespondeu. Depois\tque\tpus\to\ttelefone\tno\tgancho,\tchorei\tde\tsoluçar,\tagarrada\taos\tlençóis. Eu\tsentia\tfalta\tdo\túnico\thomem\tque\tamei\tde\tforma\tduradoura\te\tsignificativa. Depois\tabri\ta\tjanela\te gritei\tpara\to\tvento. Deixei\tminhas\tlágrimas\tescorrerem\tsobre\ttudo\to\tque\tvia. Se\testivesse\tem\tcondições\tmelhores,\tpoderia\tter\tficado\timpressionada\tcom\to oportunismo\te\ta\tassertividade\tde\tNick. Quando\tera\tmais\tjovem,\teu\tteria\tficado\timpressionada. Harry\tcom\tcerteza teria\tdito\tque\to\trapaz\tera\tcorajoso. Tem\tmuita\tgente\tque\tse\tdá\tbem\tna\tvida porque\tse\tencontra\tno\tlugar\tcerto\te\tna\thora\tcerta. Mas\tde\talguma\tforma\tNick conseguiu\tcriar\tuma\tcarreira\tporque\testava\tno\tlugar\terrado\te\tna\thora\terrada. Mas,\tpensando\tbem,\ttalvez\teu\testeja\texagerando\ta\timportância\tque\tesse momento\tteve\tna\ttrajetória\tde\tNick. E\talguma\tcoisa\tme\tdiz\tque,\tmesmo\tse nunca\ttivesse\tcruzado\tmeu\tcaminho,\tconseguiria\tchegar\tlá\tsozinho. Além\tde\tter\tsorte,\té\tpreciso\tsaber\tser\tfilho\tda\tputa."
          },
          "metadata": {}
        },
        {
          "output_type": "display_data",
          "data": {
            "text/plain": [
              "<IPython.core.display.Markdown object>"
            ],
            "text/markdown": "### Página 367"
          },
          "metadata": {}
        },
        {
          "output_type": "display_data",
          "data": {
            "text/plain": [
              "<IPython.core.display.Markdown object>"
            ],
            "text/markdown": "O\tprodutor\tindependente\te\tex-executivo\tdo\tSunset\tStudios\tera\tconhecido\tpor alguns\tdos\tmaiores\tsucessos\tda\thistória\tde\tHollywood,\tdesde\tos\tclássicos\tdos anos\t1950\t Para\tnão\tperder\tvocê \te\t Mulherzinhas ,\taté\talguns\tdos\tlongas\tmais célebres\tdas\tdécadas\tde\t1960,\t1970\te\t1980,\tcomo\t Tudo\tpor\tnós ,\tde\t1981. Cameron\tera\tconhecido\tpor\tseu\tbom\tgosto\te\tpor\tsua\tpostura\tgentil,\tmas\tfirme. “Quando\tpegava\tum\tprojeto,\ttodo\tmundo\tqueria\tparticipar.” Cameron\tdeixa\tuma\tfilha\tadolescente\tque\tteve\tcom\tEvelyn\tHugo,\tConnor Cameron."
          },
          "metadata": {}
        },
        {
          "output_type": "display_data",
          "data": {
            "text/plain": [
              "<IPython.core.display.Markdown object>"
            ],
            "text/markdown": "### Página 368"
          },
          "metadata": {}
        },
        {
          "output_type": "display_data",
          "data": {
            "text/plain": [
              "<IPython.core.display.Markdown object>"
            ],
            "text/markdown": "Alguém\tsabe\tqual\tcria\tfamosa\tde\tHollywood\tfoi\tpega\t—\tliteralmente\t—\tcom as\tcalças\tna\tmão? A\tfilha\tde\tuma\tatriz\tque\tpertencia\tao\tpanteão\trestrito\tdas\tsuperestrelas\tpassou por\tmomentos\tdifíceis\tultimamente. Chegou\tao\tnosso\tconhecimento\tque,\taos\tcatorze\tanos,\tessa\tcriança\trebelde deixou\tde\tfrequentar\to\tprestigioso\tcolégio\tonde\testá\tmatriculada\te\tcostuma\tser vista\tem\tuma\tdas\tdiversas\tcasas\tnoturnas\tbadaladas\tde\tNova\tYork\t—\tna\tqual raramente\testá,\tdigamos,\tsóbria."
          },
          "metadata": {}
        },
        {
          "output_type": "display_data",
          "data": {
            "text/plain": [
              "<IPython.core.display.Markdown object>"
            ],
            "text/markdown": "### Página 369"
          },
          "metadata": {}
        },
        {
          "output_type": "display_data",
          "data": {
            "text/plain": [
              "<IPython.core.display.Markdown object>"
            ],
            "text/markdown": "Seis\tmeses\tdepois\tda\tmorte\tde\tHarry,\tpercebi\tque\tnão\tme\trestava\tescolha\ta não\tser\tafastar\tConnor\tda\tcidade. Ao contrário\tdo\trestante\tdo\tmundo,\tela\tsabia\tque\ttinha\tsido\tum\tacidente\tde\tcarro. E entendeu\tpor\tque\tuma\tquestão\tcomo\taquela\tprecisava\tser\ttratada\tcom\tcautela. Mas\teu\tsabia\tque\tisso\tsó\tagravava\tseu\tsofrimento. Tentei\tfazer\tcom\tque\tConnor se\tabrisse\tcomigo. Connor\ttinha\tcatorze\tanos,\te\thavia\tperdido\to\tpai\tda\tmesma\tmaneira\trepentina e\tarrasadora\tque\teu\tperdi\ta\tminha\tmãe\ttantos\tanos\tantes. Eu\tprecisava\tcuidar\tda minha\tfilha. Meu\tprimeiro\tinstinto\tme\tdizia\tpara\tafastá-la\tdos\tholofotes\te\tde\tgente\tdisposta a\tfornecer\tdrogas,\tou\ttirar\tvantagem\tde\tseu\tsofrimento. Precisava\tlevá-la\tpara um\tlugar\tonde\tpudesse\tficar\tde\tolho\tnela,\te\tprotegê-la. E\tisso\tnão seria\tpossível\tdentro\tdo\testilo\tde\tvida\tque\tcriei\tpara\tnós. Na\tmaioria\tdas\tvezes,\tenquanto\teu\testava\tdeitada\tna\tcama\tconversando\tcom Celia,\tnão\tconseguia\tfalar\tde\tnada\tque\tnão\tfosse\to\tsofrimento\tda\tminha\tfilha. E, quando\tmudava\tde\tassunto,\tera\tpara\tfalar\tsobre\ta\tminha\tdor. Eu\testava começando\ta\tme\trecuperar,\ta\tver\tuma\tluz\tno\tfim\tdo\ttúnel,\tquando\tCelia mencionou\tAldiz."
          },
          "metadata": {}
        },
        {
          "output_type": "display_data",
          "data": {
            "text/plain": [
              "<IPython.core.display.Markdown object>"
            ],
            "text/markdown": "### Página 370"
          },
          "metadata": {}
        },
        {
          "output_type": "display_data",
          "data": {
            "text/plain": [
              "<IPython.core.display.Markdown object>"
            ],
            "text/markdown": "Ele\tvai\tligar\tpara\tuns\tconhecidos\tem\tMálaga,\tque\tfica\tlá\tperto,\tpara\tse informar\tsobre\tescolas\tbilíngues\tque\tensinam\tem\tinglês. Duvido\tque\talguém\tvá\tse\tinteressar\tpor\tnós.” “É\tum\tlugar\ttranquilo?”,\tperguntei. “Connor\tvai\tter\tque\tse\tesforçar\tpara\tdar\ttrabalho por\tlá.” “Essa\tparece\tser\ta\tespecialidade\tdela”,\tfalei. Assim\tela\tvai\tfazer\tamizades\tmelhores.” Eu\tsabia\tque\ta\tmudança\tpara\ta\tEspanha\tsignificaria\tperder\tLuisa. Ela\tjá\thavia se\tmudado\tde\tLos\tAngeles\tpara\tNova\tYork. Eu\tnão\ttinha\tcomo\tpedir\tpara\tque me\tacompanhasse\tem\toutro\tpaís. Mas\tsabia\tque\tela\tvinha\tcuidando\tda\tnossa família\tfazia\tdécadas,\te\testava\tcansada. Achei\tque\tminha\tsaída\tdos\tEstados Unidos\tera\ta\tjustificativa\tde\tque\tLuisa\tprecisava\tpara\tseguir\tem\tfrente. E,\tde\tqualquer\tforma,\testava\tdisposta\ta\tme dedicar\tinteiramente\tao\tmeu\tlar. “Algum\tfilme\tseu\tfez\tsucesso\tna\tEspanha?”,\tperguntei. “E\tos\tseus?” “Só\t Boute-en-Train ”,\tfalei. “Então\tnão.” “Você\tacha\tmesmo\tque\tvai\tconseguir\tlidar\tcom\tisso?” “Não”,\trespondi,\tantes\tmesmo\tde\tsaber\tdo\tque\tCelia\testava\tfalando. “Qual parte,\taliás?” “A\tinsignificância.” Eu\tdei\trisada. Essa\té\ta\túnica\tparte\tque\tcom certeza\tconsigo\tencarar.”"
          },
          "metadata": {}
        },
        {
          "output_type": "display_data",
          "data": {
            "text/plain": [
              "<IPython.core.display.Markdown object>"
            ],
            "text/markdown": "### Página 371"
          },
          "metadata": {}
        },
        {
          "output_type": "display_data",
          "data": {
            "text/plain": [
              "<IPython.core.display.Markdown object>"
            ],
            "text/markdown": "Quando\testava\ttudo\tplanejado\t—\tquando\teu\tsabia\tonde\tConnor\tiria\testudar, que\tpropriedades\tiríamos\tcomprar,\tonde\tiríamos\tmorar\t—,\tfui\taté\to\tquarto\tdela\te sentei\tem\tsua\tcama. Os\tcabelos\tloiros\testavam\trepicados\tna\tparte\tdo\ttopo\tda\tcabeça. Connor\tainda estava\tde\tcastigo\tpor\tter\tsido\tpega\tcom\tduas\tpessoas\tna\tcama,\tentão\tnão\ttinha escolha\ta\tnão\tser\tfechar\ta\tcara\te\tme\touvir. Contei\tque\tiria\tme\taposentar\tda\tcarreira\tde\tatriz. Disse\tque\tiríamos\tnos\tmudar para\ta\tEspanha. Falei\tque\tachava\tque\tnós\tduas\tseríamos\tmais\tfelizes\tvivendo\tno meio\tde\tgente\tmais\tsimples,\tlonge\tda\tfama\te\tdas\tcâmeras. Contei\tque\tiria\tme\tcasar\tcom\tRobert,\te\texpliquei\to\tmotivo,\tde\tforma\tsucinta\te clara. Não\tfalei\tsobre\tHarry,\tnem\tquanto\ttempo\tfazia\tque\testava\tenvolvida\tcom Celia,\tnem\tnada\talém\tdo\tque\tera\testritamente\tnecessário\tsaber. Essas\tcoisas seriam\treveladas\tem\tseu\tdevido\ttempo. Mas\tcontei\ttudo\to\tque\tela\tmerecia\tsaber. E,\tquando\tterminei,\teu\tdisse:\t“Estou\tdisposta\ta\touvir\ttudo\to\tque\tvocê\ttem\ta dizer. Só\tque\tela\tsimplesmente\tdeu\tde\tombros. Casar\tcom\tquem\tquer\tque\tseja. Me\tlevar\tpara\tmorar\tem\tqualquer\tlugar. Me\tcolocar\tna\tescola\tque\tachar\tmelhor. Se\tvocê puder\tfazer\tisso,\to\tresto\tnão\tme\tinteressa.” Olhei\tbem\tpara\tela,\tvi\to\tsofrimento\tem\tseus\tolhos\te\tsofri\tjunto\tcom\ta\tminha filha. Com\tos\tcabelos\tloiros\te\to\trosto\tmais\tfino,\tfiquei\tcom\tmedo\tde\tque\tfosse ficar\tmais\tparecida\tcomigo\tdo\tque\tcom\tHarry."
          },
          "metadata": {}
        },
        {
          "output_type": "display_data",
          "data": {
            "text/plain": [
              "<IPython.core.display.Markdown object>"
            ],
            "text/markdown": "### Página 372"
          },
          "metadata": {}
        },
        {
          "output_type": "display_data",
          "data": {
            "text/plain": [
              "<IPython.core.display.Markdown object>"
            ],
            "text/markdown": "O\tuniverso\tdeveria\tnos\tproporcionar\tpelo menos\tisso. “Vou\tdeixar\tvocê\tsozinha\tum\ttempo.” Eu\tlevantei. Planejei\ttudo com\tCelia\te\tRobert. Dois\tdias\tantes\tde\tsairmos\tde\tNova\tYork,\tfui\taté\to\tquarto\tdela\te\tdisse:\t“Você vai\tter\tmais\tliberdade\tem\tAldiz. Poderá\tvoltar\tpara cá\te\tvisitar\tuns\tamigos\tde\tvez\tem\tquando. Vou\tfazer\tde\ttudo\tpara\tfacilitar\tsua vida. Soava\tdesinteressada,\tmas\tpelo\tmenos\testava me\tolhando,\tfalando\tcomigo. “Jantar\tcom\tvocê,\ttodas\tas\tnoites.” “Mãe…” “Eu\testou\tte\tdando\tbastante\tliberdade. Pode\tmuito\tbem\tme\tconceder\tuma\trefeição\tpor\tdia.” Ela\tdesviou\tos\tolhos\tde\tmim. Qual\té\ta\tsegunda?” “Você\tprecisa\tfazer\tterapia. Você\tprecisa\tconversar\tcom\talguém.” Quando\ttentei\tisso\tantes,\tmeses\tantes,\tfui\tfraca\tdemais\tcom\tela. E\tnão\tia\taceitar\tisso\tde\tnovo. E conseguiria\tser\tuma\tmãe\tmelhor. Talvez\tela\ttenha\tdetectado\tisso\tno\tmeu\ttom\tde\tvoz,\tporque\tnão\ttentou\tresistir. Disse\tapenas:\t“Tá\tbem,\tque\tseja”. Eu\ta\tabracei\te\tbeijei\tsua\tcabeça. Quando\testava\tme\tafastando\tpara\tsoltá-la,\tela me\tenlaçou\tcom\tos\tbraços\te\tretribuiu\to\tgesto."
          },
          "metadata": {}
        },
        {
          "output_type": "display_data",
          "data": {
            "text/plain": [
              "<IPython.core.display.Markdown object>"
            ],
            "text/markdown": "### Página 373"
          },
          "metadata": {}
        },
        {
          "output_type": "display_data",
          "data": {
            "text/plain": [
              "<IPython.core.display.Markdown object>"
            ],
            "text/markdown": "Os\tolhos\tde\tEvelyn\testão\tmarejados. Ela\tlevanta\te\tpega um\tlencinho\tde\tpapel\tdo\toutro\tlado\tda\tsala. É\tuma\tmulher\tespetacular\t—\te\to\tque\teu\tquero\tdizer\tcom\tisso\té\tque\tela\tfaz\tde si\tmesma\tum\tespetáculo. E\tpara\tmim, neste\tmomento,\té\timpossível\tmanter\ta\tobjetividade. Contrariando\ttoda\te qualquer\tobjetividade\tjornalística,\tgosto\tdela\tdemais\tpara\tnão\tme\tcomover\tcom sua\tdor,\tpara\tnão\tsentir\tcompaixão\tpor\ttudo\tque\tEvelyn\tpassou. “Deve\tser\tmuito\tdifícil…\to\tque\tvocê\testá\tfazendo,\tcontar\tsua\thistória\tcom tanta\tsinceridade. Eu\tsei\tmuito\tbem\tquem\tsou. Fica\tolhando\tpela\tjanela,\tsem\tao\tmenos\treconhecer\tminha presença. “Você\tacha\tmesmo\tque…” Ela\tme\tinterrompe\tquando\tvira\tde\tnovo\tpara\tmim. E\tnão\tvai\tsobrar\tdúvida.” Lanço\tpara\tela\tum\tolhar\tde\tceticismo. “Quanto\ta\tisso\tvocê\tpode\tconfiar\tem\tmim.”"
          },
          "metadata": {}
        },
        {
          "output_type": "display_data",
          "data": {
            "text/plain": [
              "<IPython.core.display.Markdown object>"
            ],
            "text/markdown": "### Página 374"
          },
          "metadata": {}
        },
        {
          "output_type": "display_data",
          "data": {
            "text/plain": [
              "<IPython.core.display.Markdown object>"
            ],
            "text/markdown": "O\tPACATO Robert\tJamison"
          },
          "metadata": {}
        },
        {
          "output_type": "display_data",
          "data": {
            "text/plain": [
              "<IPython.core.display.Markdown object>"
            ],
            "text/markdown": "### Página 375"
          },
          "metadata": {}
        },
        {
          "output_type": "display_data",
          "data": {
            "text/plain": [
              "<IPython.core.display.Markdown object>"
            ],
            "text/markdown": "Now\tThis 8 \tDE\tJANEIRO\tDE\t 1990 EVELYN\tHUGO\tSE\tCASA\tPELA\tSÉTIMA\tVEZ Evelyn\tHugo\tse\tcasou\tno\túltimo\tsábado\tcom\to\texecutivo\tdo\tmercado financeiro\tRobert\tJamison. Se\to\tnome\tdo\tnoivo\tparece\tfamiliar,\té\tporque\tEvelyn\tnão\té\to\túnico\tmembro da\telite\tde\tHollywood\tcom\tquem\tele\ttem\tligações. Jamison\té\tirmão\tmais\tvelho de\tCelia\tSt. Segundo\tfontes\tpróximas,\tos\tdois\tse\tconheceram\tnuma\tfesta na\tcasa\tde\tCelia\tapenas\tdois\tmeses\tatrás,\te\tse\tapaixonaram\tloucamente. A\tcerimônia\taconteceu\tno\tfórum\tde\tBeverly\tHills. Só\tpodemos imaginar\tque\ttenham\tido\tfazer\tuma\tvisita\ta\tCelia,\tque\tpouco\ttempo\tatrás adquiriu\tuma\tpropriedade\tna\tcosta\tsul\tdo\tpaís."
          },
          "metadata": {}
        },
        {
          "output_type": "display_data",
          "data": {
            "text/plain": [
              "<IPython.core.display.Markdown object>"
            ],
            "text/markdown": "### Página 376"
          },
          "metadata": {}
        },
        {
          "output_type": "display_data",
          "data": {
            "text/plain": [
              "<IPython.core.display.Markdown object>"
            ],
            "text/markdown": "Connor\tpraticamente\trenasceu\tnas\tpraias\trochosas\tde\tAldiz. Ela\tgostava\tde\tjogar\tpalavras\tcruzadas\tcom\tCelia. Conforme\tprometido, jantava\tcomigo\ttodas\tas\tnoites,\te\tàs\tvezes\taté\taparecia\tna\tcozinha\tmais\tcedo, para\tme\tajudar\ta\tfazer\ttortilhas\tou\to\t caldo\tgallego \tda\tminha\tmãe. Mas\tera\tem\ttorno\tde\tRobert\tque\tela\tcostumava\tgravitar. Alto\te\tforte,\tcom\tuma\tligeira\tbarriguinha\te\tcabelos\tgrisalhos,\tRobert\ta princípio\tnão\tfazia\ta\tmenor\tideia\tde\tcomo\tse\tcomportar\tcom\tuma\tadolescente. Então respeitou\tseu\tespaço,\tmantendo\tuma\tdistância\taté\tmaior\tdo\tque\ta\trecomendável. Foi\tConnor\tquem\tse\taproximou,\tpedindo\tque\tele\ta\tensinasse\ta\tjogar\tpôquer, fazendo\tperguntas\tsobre\to\tfuncionamento\tdo\tmercado\tfinanceiro,\tconvidando-o para\tpescar. E\tse preocupava\tem\tencontrar\to\tsuéter\tideal\tpara\tdar\tde\tpresente\tquando\tele\tfazia aniversário. Nos\tfins\tde\tsemana,\tfazia\tas\tcostelas\tcom\tbarbecue que\tela\ttanto\tadorava. Pouco\ta\tpouco,\tConnor\tcomeçou\ta\tentender\tque\to\tmundo\tera\tum\tlugar razoavelmente\tseguro,\te\tque\tela\tpodia\tabrir\to\tcoração. Eu\tsabia\tque\ta\tferida\tda perda\tdo\tpai\tnunca\tiria\tcicatrizar,\tque\tessa\tmarca\tse\tmanteria\tpresente\tdurante seus\tanos\tde\tcolegial."
          },
          "metadata": {}
        },
        {
          "output_type": "display_data",
          "data": {
            "text/plain": [
              "<IPython.core.display.Markdown object>"
            ],
            "text/markdown": "### Página 377"
          },
          "metadata": {}
        },
        {
          "output_type": "display_data",
          "data": {
            "text/plain": [
              "<IPython.core.display.Markdown object>"
            ],
            "text/markdown": "Celia,\tRobert\te\teu\tlevamos\tConnor\tpara\tjantar\tna\tnoite\tanterior\tà\tsua\tida\tpara a\tfaculdade,\tnum\trestaurantezinho\tà\tbeira-mar. Robert\ttinha\tcomprado\te embrulhado\tum\tpresente\tpara\tela. Ele\tfalou:\t“Arranque\tdinheiro\tde\ttodo\tmundo\tassim\tcomo\tvem\tfazendo\tcomigo, com\ttodos\tos\tseus\tflushes”. “E\tdepois\tvocê\tme\tajuda\ta\tinvestir”,\tela\tfalou\tcom\tuma\talegria\tmaquiavélica. Robert\tsempre\tdisse\tque\tcasou\tcomigo\tporque\tfaria\tqualquer\tcoisa\tpor\tCelia. Mas\tacho\tque,\tpelo\tmenos\tem\talguma\tmedida,\tele\tfez\tisso\tporque\tera\tsua chance\tde\tter\tuma\tfamília. Robert\tjamais\tse\tcontentaria\tcom\tuma\túnica\tmulher. Mas aquele\tesquema,\taquela\tfamília,\tera\talgo\tde\tque\tele\tpodia\tfazer\tparte,\te\tacho\tque isso\tpesou\tem\tsua\tdecisão. Mas\ttambém\tacho\tque essas\tpessoas\tàs\tvezes\tgostariam\tde\tser\tcomo\teu. Com\tConnor\tmorando\tnos\tEstados\tUnidos,\tvoltando\tpara\tcasa\tapenas\tnas férias\tda\tfaculdade,\tCelia\te\teu\ttínhamos\tmais\ttempo\tdo\tque\tnunca\tuma\tpara\ta outra. Não\thavia\tfilmes\tpara\tgravar,\tnem\tcolunas\tde\tfofoca\tcom\tque\tse preocupar. Na\tEspanha,\teu\tlevei\ta\tvida\tque\trealmente\tqueria. Nosso\tquarto\ttinha\tuma\tvaranda\tenorme\tcom\tvista\tpara\to\tmar."
          },
          "metadata": {}
        },
        {
          "output_type": "display_data",
          "data": {
            "text/plain": [
              "<IPython.core.display.Markdown object>"
            ],
            "text/markdown": "### Página 378"
          },
          "metadata": {}
        },
        {
          "output_type": "display_data",
          "data": {
            "text/plain": [
              "<IPython.core.display.Markdown object>"
            ],
            "text/markdown": "desocupadas,\tpara\tler\to\tjornal,\tsujando\tos\tdedos\tde\ttinta. Havia\tum\tmonte de\tgente\tcom\tquem\tprecisávamos\tconversar,\te\teu\tera\ta\túnica\tde\tnós\thabilitada\ta fazer\tisso. Mas\tacho\tque\tessa\tobrigação\tfez\tbem\tpara\tmim. Minhas\tinseguranças foram\tdeixadas\tde\tlado;\teu\tsimplesmente\ttinha\tque\tme\tcomunicar. Havia\tcertas diferenças\tlinguísticas\t—\to\tespanhol\tda\tilha\tde\tCuba\tque\taprendi\tna\tinfância não\tera\tigual\tao\tcastelhano\tusado\tna\tEspanha\t—,\tmas\tmesmo\ttodos\tos\tanos\tsem dizer\taquelas\tpalavras\tnão\tforam\tsuficientes\tpara\tapagá-las\tda\tminha\tmente. Muitas\tvezes\teu\tfalava\tespanhol\taté\tem\tcasa,\tobrigando\tCelia\te\tRobert\ta\tse virar\tcom\to\tpouco\tconhecimento\tque\ttinham\tdo\tidioma. Adorava\tmostrar\tuma\tparte\tde\tmim\tque\testava\tescondida\thavia\ttanto tempo. Eu\testava\tfeliz\tpor\tter\tencontrado\taquilo\tdentro\tde\tmim\tquando\tprecisei, uma\tbagagem\tcultural\tque\testava\tlá,\tà\tminha\tespera. Mas,\tobviamente,\tpor\tmais\tque\tos\tdias\tparecessem\tperfeitos,\thavia\tuma preocupação\tcrescente\tque\tse\tmanifestava\tnoite\tapós\tnoite. “Eu\tsei\tque\tnão\tdeveria”,\tela\tme\tdisse\tuma\tnoite\tquando\testávamos\tdeitadas no\tescuro,\tantes\tde\tdormir,\t“mas\tàs\tvezes\tfico\tfuriosa\tcom\ta\tgente\tpor\ttodos esses\tanos\tperdidos. Por\ttodo\tesse\ttempo\tdesperdiçado.” Eu\tsegurei\tsua\tmão. “Eu\ttambém.” “Quando\tvocê\tama\talguém,\tprecisa\testar\tdisposta\ta\tsuperar\ttudo”,\tela continuou. “E\tnão\testávamos\texatamente\tpreparadas para\tdar\tcerto. E\ta\tgente achava\tque\to\tmundo\tgirava\tao\tnosso\tredor…”"
          },
          "metadata": {}
        },
        {
          "output_type": "display_data",
          "data": {
            "text/plain": [
              "<IPython.core.display.Markdown object>"
            ],
            "text/markdown": "### Página 379"
          },
          "metadata": {}
        },
        {
          "output_type": "display_data",
          "data": {
            "text/plain": [
              "<IPython.core.display.Markdown object>"
            ],
            "text/markdown": "“E\tainda\tprecisava\tesconder\tque\tera\tgay”,\tela\tcomplementou. “O\tmundo\tnão\tfacilitou\tnem\tum\tpouco\tas\tcoisas\tpara\tnós”,\tela\tdisse. Tenho\tcerteza de\tque\tteria\tdado\tcerto\tnuma\tcidadezinha\tqualquer. Assim\ttudo\tteria\tsido\tmuito\tmais\tfácil.” Senti\tCelia\tbalançando\ta\tcabeça\tnegativamente\tao\tmeu\tlado. “Acho\tque\tser\tquem\ta\tgente\té\t—\tde\tverdade,\te\tpor\tinteiro\t— sempre\tvai\texigir\tnadar\tcontra\ta\tcorrente.” “Pois\té”,\tela\tdisse. “Mas,\tlevando\tem\tconta\tos\túltimos\tanos,\ttambém\té\tmeio que\tcomo\ttirar\to\tsutiã\tno\tfim\tdo\tdia.” Eu\tdei\trisada. “Nunca\tme\tabandone.” “Eu\ttambém\tte\tamo. E\tnunca\tvou\tte\tabandonar.”\tMas,\tquando\tela\tdisse\tisso, nós\tduas\tsabíamos\tque\tera\tuma\tpromessa\timpossível\tde\tcumprir. A\tideia\tde\tperdê-la\tde\tnovo\tera\tinsuportável,\te\tseria\tuma\tperda\tainda\tmaior\te mais\tprofunda\tque\tas\tanteriores. Eu\tnão\tconseguia\tnem\tpensar\tna\thipótese\tde viver\tsem\tCelia\tpara\tsempre,\tsem\tnenhum\tlaço\tme\tligando\ta\tela. Depois\tde\tsete\tcasamentos,\tfinalmente\tnão\tposso\tcasar\tcom\to\tamor da\tminha\tvida?” “Acho\tque\tnão\té\tassim\tque\tas\tcoisas\tfuncionam,\tquerida”,\tela\tdisse. “E, nunca\té\tdemais\tlembrar,\teu\testaria\troubando\ta\tmulher\tdo\tmeu\tirmão.” “Estou\tfalando\tsério,\tCelia.” “Eu\ttambém,\tEvelyn. A\tgente\tnão\ttem\tcomo\tcasar.” “Um\tcasamento\tnada\tmais\té\tque\tuma\tpromessa.” “Se\tvocê\testá\tdizendo”,\tela\trespondeu. “A\tespecialista\tno\tassunto\té\tvocê.”"
          },
          "metadata": {}
        },
        {
          "output_type": "display_data",
          "data": {
            "text/plain": [
              "<IPython.core.display.Markdown object>"
            ],
            "text/markdown": "### Página 380"
          },
          "metadata": {}
        },
        {
          "output_type": "display_data",
          "data": {
            "text/plain": [
              "<IPython.core.display.Markdown object>"
            ],
            "text/markdown": "Não\tprecisa\tnem pôr\tuma\tcamisola\tbranca.” “Do\tque\tvocê\testá\tfalando?” “Estou\tfalando\tde\tum\tcompromisso\tespiritual,\tuma\tpromessa\tentre\tnós\tduas, valendo\tpelo\tresto\tda\tvida.” Celia\tficou\tem\tsilêncio,\te\tpercebi\tque\tela\testava\tpensando\ta\trespeito. Estava tentando\tentender\tse\taquilo\tsignificaria\talguma\tcoisa,\to\tque\tnós\tduas\tfaríamos naquela\tcama. “Vamos\tfazer\to\tseguinte”,\tfalei,\ttentando\tconvencê-la. Não\timporta\tque\teu\tjá\tseja\tcasada\tno papel,\tporque\tnós\tduas\tsabemos\tque,\tquando\tcasei\tcom\tRobert,\tfoi\tpor\tvocê. Não\tprecisamos\tseguir\tas\tregras\tde\tninguém. Só\tprecisamos\tuma\tda\toutra.” Ela\tcontinuou\tcalada\tpor\tum\tinstante. E\tpor\tfim\trespondeu: “Certo,\teu\ttopo”. “Sério?”\tFiquei\tsurpresa\tcom\ta\timportância\tque\taquele\tmomento\testava ganhando. É\tque…\tnunca\tme passou\tpela\tcabeça\tque\tisso\tera\tpossível. “Então\tvamos\tlá.” Eu\tdei\trisada,\tsentei\tna\tcama\te\tacendi\to\tabajur\tdo\tcriado-mudo. Ficamos\tuma\tde\tfrente\tpara\ta\toutra\te\tdemos\tas\tmãos. “Acho\tque\tvocê\tdeveria\tconduzir\ta\tcerimônia”,\tela\tfalou. Tínhamos\tquase\tsessenta\tanos\te\testávamos\tempolgadas com\ta\tideia\tde\tfazer\tuma\tcoisa\tem\tque\tdeveríamos\tter\tpensado\tmuitos\tanos"
          },
          "metadata": {}
        },
        {
          "output_type": "display_data",
          "data": {
            "text/plain": [
              "<IPython.core.display.Markdown object>"
            ],
            "text/markdown": "### Página 381"
          },
          "metadata": {}
        },
        {
          "output_type": "display_data",
          "data": {
            "text/plain": [
              "<IPython.core.display.Markdown object>"
            ],
            "text/markdown": "Vamos\tlá.” “O.k.”,\tela\tdisse,\tcom\tum\tsorriso. Celia\ttinha\tpés\tde\tgalinha\tao\tredor\tdos olhos. E\trugas\tem\ttorno\tda\tboca. Ela\testava\tusando\tuma\tcamiseta\tvelha\tdos\tNew\tYork\tGiants,\tcom um\tfuro\tno\tombro. “Nesse\tcaso,\tsó\tnós\tduas\tmesmo.” “Pois\té”,\tCelia\tfalou. “Eu\tpercebi.” “Estamos\taqui\treunidas\tpara\tcelebrar\ta\tunião\tde…\tnós\tduas.” “Legal.” “Duas\tpessoas\tque\testão\tse\tcomprometendo\ta\tpassar\to\tresto\tda\tvida\tjuntas.” “Positivo.” “Celia,\tvocê\taceita\tEvelyn\t—\tno\tcaso,\teu\t—\tcomo\tsua\tlegítima\tesposa? “Sim.” “E\teu,\tEvelyn,\taceito\tvocê,\tCelia,\tcomo\tminha\tlegítima\tesposa? “Espera\taí,\ta gente\tnão\ttem\talianças.” Celia\tolhou\tao\tredor\tem\tbusca\tde\talgo\tque\tpudesse\tfazer\tesse\tpapel. Sem soltar\tas\tmãos\tdela,\tdei\tuma\tolhada\tno\tcriado-mudo. “Aqui”,\tCelia\tdisse,\ttirando\to\telástico\tdo\tcabelo. Eu\tdei\trisada\te\tsoltei\tmeu\trabo\tde\tcavalo\ttambém. Evelyn,\taceite\testa\taliança\tcomo\tum símbolo\tdo\tmeu\tamor\teterno.” “Evelyn,\taceite\testa\taliança\tcomo\tum\tsímbolo\tdo\tmeu\tamor\teterno.” Celia\tpegou\to\telástico\te\tdeu\ttrês\tvoltas\tem\ttorno\tdo\tmeu\tdedo. “Agora\tdiga:\tCom\testa\taliança,\teu\tte\tdesposo.”"
          },
          "metadata": {}
        },
        {
          "output_type": "display_data",
          "data": {
            "text/plain": [
              "<IPython.core.display.Markdown object>"
            ],
            "text/markdown": "### Página 382"
          },
          "metadata": {}
        },
        {
          "output_type": "display_data",
          "data": {
            "text/plain": [
              "<IPython.core.display.Markdown object>"
            ],
            "text/markdown": "Celia,\taceite\testa\taliança\tcomo\tum\tsímbolo\tdo meu\tamor\teterno. Com\testa\taliança,\teu\tte\tdesposo.”\tColoquei\tmeu\telástico\tno dedo\tdela. Vamos\tfazer\tvotos?” “Nós\tpodemos”,\tela\tdisse. Já\tsei.” “Tá\tbom”,\teu\tdisse,\tsurpresa\tao\tsentir\tmeu\tcoração\tdisparar,\te\tansiosa\tpara ouvir\tas\tpalavras\tdela. “Vá\tem\tfrente.” “Evelyn,\tsou\tapaixonada\tpor\tvocê\tdesde\t1958. Posso\tnem\tsempre\tter mostrado,\tposso\tter\tdeixado\toutras\tcoisas\tatrapalharem\tnosso\tamor,\tmas\tsei\tque te\tamei\tpor\ttodo\tesse\ttempo. E\tque\tnunca\tdeixei\tde\tte\tamar. E\tque\tnunca\tvou deixar.” Fechei\tos\tolhos\tpor\tum\tinstante,\tabsorvendo\taquelas\tpalavras. Em\tseguida\tfoi\ta\tminha\tvez:\t“Eu\tcasei\tsete\tvezes,\te\tnenhuma\tdelas\tfoi\tnem\tde longe\ttão\temocionante\tcomo\testa. Acho\tque\tmeu\tamor\tpor\tvocê\té\ta\tcoisa\tmais verdadeira\tque\texiste\tem\tmim”. “Agora\teu\tposso\tbeijar\ta\tnoiva”,\tfalei. Soltei\tsuas\tmãos,\tsegurei\tseu\trosto\te\ta beijei."
          },
          "metadata": {}
        },
        {
          "output_type": "display_data",
          "data": {
            "text/plain": [
              "<IPython.core.display.Markdown object>"
            ],
            "text/markdown": "### Página 383"
          },
          "metadata": {}
        },
        {
          "output_type": "display_data",
          "data": {
            "text/plain": [
              "<IPython.core.display.Markdown object>"
            ],
            "text/markdown": "Seis\tanos\tdepois,\tapós\tmais\tde\tuma\tdécada\tcom\tCelia\tnas\tpraias\tda\tEspanha, quando\tConnor\tjá\testava\tformada\te\ttrabalhando\tem\tWall\tStreet,\tdepois\tque\to mundo\tjá\ttinha\tesquecido\t Mulherzinhas ,\t Boute-en-Train \te\tos\ttrês\tOscars\tde Celia,\tCecelia\tJamison\tmorreu\tde\tfalência\trespiratória. As\tjanelas\testavam\tabertas\tpara\tdeixar\ta\tbrisa\tentrar. O\tquarto cheirava\ta\tdoença,\tmas\tfazendo\tum\tpouco\tde\tforça\tainda\tera\tpossível\tsentir\to cheiro\tda\tágua\tsalgada. Os\tolhos\tde\tCelia\testavam\timóveis. Chamei\ta enfermeira,\tque\testava\tno\tandar\tde\tbaixo,\tna\tcozinha. Só\tlembro\tde\tme\tagarrar\ta\tela,\tabraçando-a\tda\tmelhor\tmaneira\tpossível. Só lembro\tde\tter\tdito:\t“Não\ttivemos\ttempo\to\tbastante”. Quando\tlevaram\tseu\tcorpo,\tfoi\tcomo\tse\tos\tparamédicos\tdestruíssem\tminha alma. O\tpiso\tde\tpedra\tparecia\tgelado\tcontra\tminha\tpele\tquente. A\tdureza\tdo material\tfez\tmeus\tossos\tdoerem. Debaixo\tde\tmim,\tpoças\tde\tlágrimas\tse acumulavam,\te\tmesmo\tassim\teu\tnão\tconseguia\tme\tlevantar\tdo\tchão. Ele\tdeitou\tno\tchão\tao\tmeu\tlado. Simplesmente\tnão\testava\tmais\tentre\tnós."
          },
          "metadata": {}
        },
        {
          "output_type": "display_data",
          "data": {
            "text/plain": [
              "<IPython.core.display.Markdown object>"
            ],
            "text/markdown": "### Página 384"
          },
          "metadata": {}
        },
        {
          "output_type": "display_data",
          "data": {
            "text/plain": [
              "<IPython.core.display.Markdown object>"
            ],
            "text/markdown": "Mais\tuma\tvez,\tpude\tme\tdar\tao\tluxo\tdevastador\tde\tentrar\tem\tpânico."
          },
          "metadata": {}
        },
        {
          "output_type": "display_data",
          "data": {
            "text/plain": [
              "<IPython.core.display.Markdown object>"
            ],
            "text/markdown": "### Página 385"
          },
          "metadata": {}
        },
        {
          "output_type": "display_data",
          "data": {
            "text/plain": [
              "<IPython.core.display.Markdown object>"
            ],
            "text/markdown": "JAMES Vencedora\tde\ttrês\tOscars,\ta\tatriz\tCelia\tSt. James\tmorreu\tna\túltima\tsemana\tpor complicações\trelacionadas\ta\tum\tenfisema. Mas\tfoi\tseu\tpapel\tcomo\tBeth\tna\tadaptação\tde\t1959\tde\t Mulherzinhas que\ta\talçou\tao\testrelato\te\tlhe\trendeu\tseu\tprimeiro\tprêmio\tda\tAcademia. James\tainda\tseria\tindicada\tmais\tquatro\tvezes\te\tlevaria\tmais\tduas\testatuetas para\tcasa\tnos\ttrinta\tanos\tseguintes,\ta\tde\tMelhor\tAtriz\tem\t1970\tpor\t Nossas tropas \te\tde\tMelhor\tAtriz\tCoadjuvante\tpor\tsua\tatuação\tcomo\tLady\tMacBeth\tna adaptação\tde\t1987\tda\ttragédia\tshakespeariana. James\tera\ttambém\tconhecida\tpor\tseu charme\tde\tQueridinha\tda\tAmérica\te\tpor\tseu\tcasamento\tde\tquinze\tanos\tcom\ta lenda\tdo\tfutebol\tJohn\tBraverman. Os\tdois\tse\tdivorciaram\tno\tfim\tdos\tanos\t1970, mas\tcontinuaram\tamigos\taté\ta\tmorte\tde\tBraverman,\tem\t1980. James\tvai\tser\tadministrado\tpelo\tirmão,\tRobert\tJamison, casado\tcom\ta\ttambém\tatriz\te\testrela\tde\tcinema\tEvelyn\tHugo."
          },
          "metadata": {}
        },
        {
          "output_type": "display_data",
          "data": {
            "text/plain": [
              "<IPython.core.display.Markdown object>"
            ],
            "text/markdown": "### Página 386"
          },
          "metadata": {}
        },
        {
          "output_type": "display_data",
          "data": {
            "text/plain": [
              "<IPython.core.display.Markdown object>"
            ],
            "text/markdown": "Robert\te\teu\torganizamos\to\tfuneral\tpara\tuma\tquinta-feira\tde\tmanhã. Foi\tuma cerimônia\trestrita\tao\tpessoal\tmais\tpróximo. Quando\to\tcorpo\tfoi\tbaixado,\tfiquei\tolhando\tpara\taquele\tburaco\tna\tterra. Não\tconsegui impedir\tmeu\tverdadeiro\teu\tde\tvir\tà\ttona. “Um\tminuto”,\tdisse\tpara\tRobert\te\tConnor\tquando\tme\tvirei. Saí\tandando,\tme\tafastando\tcada\tvez\tmais\tpelos\tcaminhos\tserpenteantes\tdo cemitério\taté\tencontrar\to\tque\testava\tprocurando. Eu\tsentei\tem\tseu\ttúmulo\te\tcoloquei\tpara\tfora\ttudo\to\tque\thavia\tdentro\tde\tmim. Eu\tconversava\tcom\tHarry\tna\tminha\tmente\te\tno\tmeu\tcoração\tfazia tanto\ttempo\tque\tparecíamos\tcapazes\tde\ttranscender\tas\tpalavras. E\tagora\teu precisava\tde\tHarry\tmais\tdo\tque\tnunca. Então\to\tprocurei\tda\túnica\tmaneira\tque sabia. E\tdeixei\tque\tme\tconsolasse\tcomo\tsó\tele\tseria\tcapaz. Escondidos\tnas\tárvores,\thavia\tdois\tpaparazzi\ttirando\tfotos. Me\tpreocupar\tcom\tisso exigiria\tenergia\tdemais. Duas\tsemanas\tdepois,\tquando\tRobert\te\teu\tjá\testávamos\tde\tvolta\ta\tAldiz, Connor\tme\tmandou\tuma\trevista\tcom\tessa\tfoto\tminha\tno\ttúmulo\tde\tHarry\tna"
          },
          "metadata": {}
        },
        {
          "output_type": "display_data",
          "data": {
            "text/plain": [
              "<IPython.core.display.Markdown object>"
            ],
            "text/markdown": "### Página 387"
          },
          "metadata": {}
        },
        {
          "output_type": "display_data",
          "data": {
            "text/plain": [
              "<IPython.core.display.Markdown object>"
            ],
            "text/markdown": "Ela\tprendeu\tum\tbilhete\tna\tcapa. Tirei\to\tbilhete\tpara\tler\ta\tmanchete:\t“Lenda\tdo\tcinema\tEvelyn\tHugo\tchora\tno túmulo\tde\tHarry\tCameron\tanos\tdepois”. Mesmo\tcom\to\tmeu\tauge\ttão\tdistante\tno\tpassado,\tas\tpessoas\tcontinuavam\tse distraindo\tcom\tqualquer\tcoisa,\te\tnunca\treparavam\tnos\tmeus\tsentimentos\tpor Celia\tSt. A\tverdade\testava\tlá,\tdebaixo\tdo\tnariz\tde\tqualquer\tum\tque\tprestasse\tatenção. Eu\testava\tde\tcoração\taberto,\tbuscando\to\tconsolo\tdo\tmeu\tmelhor\tamigo\tpara aliviar\ta\tperda\tda\tminha\tamante. Só\tque,\tobviamente,\tas\tpessoas\tentenderam\ttudo\terrado. A\tmídia\tsó\tconta\taquilo\tque\tquer\tcontar. Foi\tquando\tpercebi\tque\ta\túnica\tforma\tde\talguém\tsaber\talguma\tcoisa verdadeira\tsobre\tminha\tvida\tera\tcontando\tdiretamente. Guardei\to\tbilhete\tde\tConnor\te\tjoguei\ta\trevista\tfora."
          },
          "metadata": {}
        },
        {
          "output_type": "display_data",
          "data": {
            "text/plain": [
              "<IPython.core.display.Markdown object>"
            ],
            "text/markdown": "### Página 388"
          },
          "metadata": {}
        },
        {
          "output_type": "display_data",
          "data": {
            "text/plain": [
              "<IPython.core.display.Markdown object>"
            ],
            "text/markdown": "Eu,\tEvelyn\tHugo,\ttinha\tme\ttornado\tuma\tvelhinha\ttediosa. Robert\te\teu\tvivemos\tjuntos\tcomo\tamigos\tpor\tmais\tonze\tanos. Depois\tde\tanos\tem\tuma\tpraia\tisolada,\tfoi\tbom\tvoltar\ta fazer\tparte\tda\tsociedade\tmais\tativamente. Ela\thavia\tsubido\tum\tbocado\tna\thierarquia\tdo\tMerrill\tLynch,\tmas,\tlogo\tdepois que\tRobert\te\teu\tvoltamos\tpara\tNova\tYork,\tconfessou\tpara\tele\tque\tdetestava\ta cultura\tdo\tmercado\tfinanceiro. Mas\tele\tnunca\tse\tmostrou\tdecepcionado com\tela\tcomo\tpessoa. E\tfoi\to\tprimeiro\ta\tdar\tos\tparabéns\tquando\tela\tarrumou\tum\temprego\tcomo professora\tem\tWharton. Connor\tnunca\tsoube\tque\tele\tinclusive\tdeu\tuns telefonemas\tpara\tfacilitar\to\tprocesso. Sua\túnica\tintenção\tera\tajudá-la\tde\ttodas\tas\tformas\tpossíveis. E\tfoi\tisso\to\tque\tele fez,\tcom\ttodo\tseu\tamor,\taté\tmorrer,\taos\toitenta\te\tum\tanos\tde\tidade."
          },
          "metadata": {}
        },
        {
          "output_type": "display_data",
          "data": {
            "text/plain": [
              "<IPython.core.display.Markdown object>"
            ],
            "text/markdown": "### Página 389"
          },
          "metadata": {}
        },
        {
          "output_type": "display_data",
          "data": {
            "text/plain": [
              "<IPython.core.display.Markdown object>"
            ],
            "text/markdown": "Depois\tdisso,\tConnor\te\tGreg\tvieram\tpassar\tum\ttempo\tcomigo. “Mãe,\tdepois\tde\tsete\tmaridos,\tnão\tsei\tse\tvocê\ttem\tmuita\tprática\tem\tmorar sozinha”,\tela\tcomentou\tao\tsentar\tna\tmesa\tda\tminha\tsala\tde\tjantar,\ta\tmesma\tem que\tcostumava\tser\tcolocada\tnum\tcadeirão\tao\tlado\tde\tHarry,\tCelia,\tJohn\te\teu. “Já\tmorei\tsozinha\tuma\tvez, e\tconsigo\tfazer\tisso\tde\tnovo. Você\te\tGreg\tdeveriam\tseguir\tem\tfrente\tcom\tsua vida,\tsério\tmesmo.” Mas\tassim\tque\tfechei\ta\tporta\tao\tsaírem,\tpercebi\tcomo\to\tapartamento\tera enorme,\tsilencioso. Morar\tsozinha\tnão\té\ttão\truim\tdepois\tque\ta\tgente\tse\tacostuma. E\tmorar\tnum apartamento\ttão\tgrande…\tbom,\teu\tnão\tvendi\tporque\tqueria\tque\tfosse\tde\tConnor, mas\ttenho\tuma\tcerta\tligação\temocional\tcom\to\tlugar. Obviamente,\teu\tgostava ainda\tmais\tquando\tConnor\tvinha\tdormir\tcomigo,\tem\tespecial\tapós\to\tfim\tdo namoro\tdela\tcom\tGreg. É\tpossível\tse\tmanter\tbem\tocupada\torganizando\teventos\tbeneficentes\te colecionando\tobras\tde\tarte. Dá\tpara\tser\tfeliz\tvivendo\tsua\tverdade,\tseja\tela\tqual for. Eu\tsabia\tcomo\tera\tver\tuma\tpessoa\tamada\tdeixar o\tmundo\tmuito\tantes\tde\tmim. Eu\ta\tsegurava\tquando\tela\tvomitava\tpor\tcausa\tdos\tremédios\tda\tquimioterapia."
          },
          "metadata": {}
        },
        {
          "output_type": "display_data",
          "data": {
            "text/plain": [
              "<IPython.core.display.Markdown object>"
            ],
            "text/markdown": "### Página 390"
          },
          "metadata": {}
        },
        {
          "output_type": "display_data",
          "data": {
            "text/plain": [
              "<IPython.core.display.Markdown object>"
            ],
            "text/markdown": "E\ta\tenvolvia\tem\tcobertores\tquando\tsentia\ttanto\tfrio\tque\taté\tchorava. Beijava\tsua testa\tcomo\tse\ttivesse\tvoltado\ta\tser\tminha\tbebezinha,\tporque\tsempre\tseria. “Sempre\tsoube\tdisso.” Fiz\tquestão\tde\tnunca\tmais\tmentir\tpara\tConnor\tdesde\tque\to\tpai\tdela\tmorreu. E\tconseguiu\tviver\tmais\tdezoito\tmeses,\tantes\tde\tmorrer. Quando\tfoi\tenterrada\tao\tlado\tdo\tpai,\tme\tsenti\tarrasada\tcomo\tnunca\tantes. O\tluxo\tdevastador\tde\tpoder\tentrar\tem\tpânico\tme\tdominou."
          },
          "metadata": {}
        },
        {
          "output_type": "display_data",
          "data": {
            "text/plain": [
              "<IPython.core.display.Markdown object>"
            ],
            "text/markdown": "### Página 391"
          },
          "metadata": {}
        },
        {
          "output_type": "display_data",
          "data": {
            "text/plain": [
              "<IPython.core.display.Markdown object>"
            ],
            "text/markdown": "Com\ta\tperda\tde\ttodas\tas\tpessoas\tque amei. Comigo\tem\tum\tlindo\te\timenso\tapartamento\tno\tUpper\tEast\tSide,\tcom saudade\tde\ttodos\tos\tque\ttiveram\talgum\tsignificado\tna\tminha\tvida. Quando\tescrever\to\tfim\tdo\tlivro,\tMonique,\tdiga\tpara\ttodo\tmundo\tque\taquilo que\tme\tfaz\tfalta\tsão\tas\tpessoas. Que\tfiz\tescolhas equivocadas\tna\tmaior\tparte\tdas\tvezes. Quando\tescrever\to\tfim\tdo\tlivro,\tMonique,\tfaça\tos\tleitores\tentenderem\tque meu\tverdadeiro\tdesejo\tsempre\tfoi\tter\tuma\tfamília. Escreva\tcom\ttodas\tas\tletras,\tpara\tnão\tdeixar\tdúvidas. Explique\tque\tpara\tEvelyn\tHugo\tnão\tfaz\tdiferença\tse\tseu\tnome\tfor\tesquecido. Melhor\tainda,\tlembre\ta\ttodos\tque\tEvelyn\tHugo\tnunca\texistiu. Diga\ta\telas:\t“Evelyn\tHugo\tsó\tquer\tpartir. Avise\tque\tEvelyn\tHugo\testá\tdando\tseu\tadeus."
          },
          "metadata": {}
        },
        {
          "output_type": "display_data",
          "data": {
            "text/plain": [
              "<IPython.core.display.Markdown object>"
            ],
            "text/markdown": "### Página 392"
          },
          "metadata": {}
        },
        {
          "output_type": "display_data",
          "data": {
            "text/plain": [
              "<IPython.core.display.Markdown object>"
            ],
            "text/markdown": "Não\tdiga\tuma\tcoisa\tdessas,\tEvelyn.” Ela\tme\tolha\tbem\tnos\tolhos\te\tignora\tminhas\tpalavras. “Quando\tvocê\tencerrar\ta\tnarrativa”,\tela\tcontinua,\t“só\tesclareça\tque\tas\tcoisas que\tfiz\tpara\tproteger\tminha\tfamília…\tesclareça\tque\teu\tfaria\t tudo \tde\tnovo. E\tiria ainda\tmais\tlonge,\tteria\tagido\tainda\tpior,\tse\tachasse\tque\tisso\tfosse\tsalvá-los.” “Acho\tque\ta\tmaioria\tdas\tpessoas\tia\tpensar\ta\tmesma\tcoisa”,\tdigo. Ela\tlevanta\te\tvai\taté\ta escrivaninha,\tonde\tpega\tum\tpedaço\tde\tpapel. Está\tamarrotado\te\tdobrado,\tbem\talaranjado\tnas\textremidades. “O\thomem\tque\testava\tno\tcarro\tcom\tHarry”,\tEvelyn\texplica. “Harry\testava\tapaixonado\tpor\tum\thomem\tnegro. O\tnome\tdele\tera\tJames Grant."
          },
          "metadata": {}
        },
        {
          "output_type": "display_data",
          "data": {
            "text/plain": [
              "<IPython.core.display.Markdown object>"
            ],
            "text/markdown": "### Página 393"
          },
          "metadata": {}
        },
        {
          "output_type": "display_data",
          "data": {
            "text/plain": [
              "<IPython.core.display.Markdown object>"
            ],
            "text/markdown": "O\tmedo\tlogo\tse\ttransforma\tem\tnegação. Porque\tvocê\tse\tdá\tconta:\t Sim,\té\tverdade. A\tpartir\tdaí,\tvocê\ttem\tuma\tescolha. Vai\tficar\ttriste\tou\tcom\traiva? E,\tem\túltima\tanálise,\ta\tlinha\ttênue\tentre\tuma\tcoisa\te\toutra\tdepende\tda resposta\tque\tse\tdá\ta\talgumas\tperguntas. A\tperda\tdo\tmeu\tpai,\tquando\teu\ttinha\tsete\tanos\tde\tidade,\taté\tentão\tsó\ttinha\tum culpado:\tele\tmesmo. Nunca\thavia\tfeito\tnada do\ttipo\tantes. Foi\tuma\tcoisa\tmais\tdo\tque\tincomum. E\teu\tpoderia odiá-lo\tpor\tisso\tou\ttentar\tentender. Seu\tpai\testava\tdirigindo\talcoolizado\te\tperdeu o\tcontrole\tdo\tcarro. A\trevelação\tde\tque\tmeu\tpai\tnunca\tpegou\tnum\tvolante\tembriagado, que\tfoi\tabandonado\tsem\tvida\tnuma\tcalçada\tpor\tessa\tmulher,\tincriminado\tpela própria\tmorte,\ttendo\tsua\treputação\tmanchada? Eu\tcresci\tacreditando\tque\tfoi\tele quem\tcausou\to\tacidente. E\ta\tpostura\tdela\tna\tminha\tfrente,\tdemonstrando\tremorso,\tmas\tsem\ta\tmenor intenção\tde\tpedir\tdesculpas,\tmostra\tque\tela\testá\tpreparada\tpara\tassumir\tessa culpa. Essa\tculpa\té\tcomo\tuma\tfagulha\tacesa\tem\tmeio\taos\tmeus\tanos\tde\tsofrimento."
          },
          "metadata": {}
        },
        {
          "output_type": "display_data",
          "data": {
            "text/plain": [
              "<IPython.core.display.Markdown object>"
            ],
            "text/markdown": "### Página 394"
          },
          "metadata": {}
        },
        {
          "output_type": "display_data",
          "data": {
            "text/plain": [
              "<IPython.core.display.Markdown object>"
            ],
            "text/markdown": "Meus\tpunhos estão\tcerrados,\te\tdou\tum\tpasso\tpara\ttrás\tporque\tfico\tcom\tmedo\tdo\tque\tposso fazer. E\tentão,\tcomo\tme\tafastar\tparece\tuma\tatitude\tgenerosa\tdemais,\tvolto\taté\tonde ela\testá,\tempurro\tEvelyn\tcontra\to\tencosto\tdo\tsofá\te\tdigo:\t“Ainda\tbem\tque\tvocê não\ttem\tmais\tninguém. Fico\tfeliz\tpor\tnão\tter\tsobrado\tninguém\tvivo\tpara\tamar você”. Ela\tse\tajeita\tno\tsofá\te\tolha\tpara\tmim. “Durante\ttodo\tesse\ttempo\tvocê\tme\tfez\tsentar\taqui\te ouvir\tsobre\ta\tsua\tvida\tpara\tpoder\tse\tconfessar\te\tacha\tque\tuma\t biografia \tvai\tme servir\tde\tconsolo?” “Não”,\tela\tdiz. “Acho\tque\ta\tessa\taltura\tvocê\tme\tconhece\tbem\to\tbastante\tpara saber\tque\tnão\tsou\tingênua\ta\tponto\tde\tacreditar\tem\tabsolvição.” “Então\to\tquê?” Evelyn\testende\ta\tmão\te\tmostra\to\tpapel\tque\testá\tsegurando. “Encontrei\tno\tbolso\tda\tcalça\tdo\tHarry. É\tdo\tseu\tpai.” “E\tdaí?” “E\tdaí\tque\teu…\tEu\tencontrei\tuma\tenorme\tpaz\tinterior\trevelando\ta\tverdade sobre\tmim\tpara\ta\tminha\tfilha. E\tfoi\treconfortante\tver\tquem\tela\tera\tde\tverdade. “Pensei\tque\tvocê\tfosse\tquerer\tsaber\ttudo\tsobre\tele. Mas\tsempre\ttive\ta\tintenção\tde\tte mandar. Sempre\tachei\tque\tvocê\tmerecia\tsaber.” Arranco\to\tpapel\tde\tsua\tmão,\tfazendo\tquestão\tde\tnão\tser\tgentil\tcom\tela. Vejo\tmanchas\tno\talto\tda\tpágina\tque\tsó\tpodem\tser\tde\tsangue."
          },
          "metadata": {}
        },
        {
          "output_type": "display_data",
          "data": {
            "text/plain": [
              "<IPython.core.display.Markdown object>"
            ],
            "text/markdown": "### Página 395"
          },
          "metadata": {}
        },
        {
          "output_type": "display_data",
          "data": {
            "text/plain": [
              "<IPython.core.display.Markdown object>"
            ],
            "text/markdown": "Me\tpergunto\tpor\tum\tinstante\tse\tera\tdo\tmeu\tpai\tou\tde\tHarry. Antes\tmesmo\tde\tler\ta\tprimeira\tlinha,\tolho\tpara\tela. Evelyn\tassente\te\tse\tretira\tde\tseu\tpróprio\tescritório. Há\tmuita\tcoisa\ta\treformular\tna\tminha\tmente. Passei\tanos\tda\tminha\tvida\tpensando\tassim,\ttentando\taceitar\tesse\tfato. Te\tamo\tde\tum\tjeito\tque\tnunca\tpensei\tser\tpossível. Passei\ta maior\tparte\tda\tvida\tpensando\tque\tesse\ttipo\tde\tamor\tera\tum\tmito. E\tagora aqui\testá,\ttão\treal\tque\tparece\tpalpável,\te\tenfim\tentendo\tsobre\to\tque\tos Beatles\tcantaram\tpor\ttodos\taqueles\tanos. Não\tquero\tque\tvocê\tse\tmude\tpara\ta\tEuropa. Então,\tapesar\tdos meus\tdesejos,\tacho\tque\tvocê\tdeve\tir. James\t—\tapesar\tde\tconcordar\tque\té\tuma mulher\tlindíssima\te,\tsendo\tbem\tsincero,\tter\tficado\tcaidinho\tpor\tela\tquando\tvi Casamento\tna\trealeza . Amo\tdemais\ta\tminha\tfamília para\tdesfazê-la\tpor\tum\tinstante\tque\tseja. E\tsei\tque\tela\tvai\tser\tmais\tfeliz"
          },
          "metadata": {}
        },
        {
          "output_type": "display_data",
          "data": {
            "text/plain": [
              "<IPython.core.display.Markdown object>"
            ],
            "text/markdown": "### Página 396"
          },
          "metadata": {}
        },
        {
          "output_type": "display_data",
          "data": {
            "text/plain": [
              "<IPython.core.display.Markdown object>"
            ],
            "text/markdown": "Sei\tque\tpara\tela\tter\ta\tmelhor\tvida\tpossível\tpreciso ficar\tonde\testou. Angela\tpode\tnão\tser\to\tamor\tda\tminha\tvida. Mas\tacho\tque, \t em\tmuitos\tsentidos,\tela\té\tpara\tmim\to\tque Evelyn\té\tpara\tvocê. Admiro\ta\tsinceridade\tcom\tque\tvocê\te\tEvelyn\ttratam\tsua\tsexualidade,\tseus desejos. E\tjamais\tme\tperdoaria\tpor\tfazê-la\tsofrer. Nem\tmesmo\tpelo tipo\tde\tamor\tque\tdescobri\tcom\tvocê,\tmeu\tquerido\tHarry. Para\tsempre\tseu, James Eu\tsolto\ta\tcarta. Fico\tfitando\to\tespaço\tà\tminha\tfrente. E\tentão,\tsó\tdepois\tde um\ttempo,\ta\tficha\tcai. Meu\tpai\tera\tapaixonado\tpor\tum\thomem."
          },
          "metadata": {}
        },
        {
          "output_type": "display_data",
          "data": {
            "text/plain": [
              "<IPython.core.display.Markdown object>"
            ],
            "text/markdown": "### Página 397"
          },
          "metadata": {}
        },
        {
          "output_type": "display_data",
          "data": {
            "text/plain": [
              "<IPython.core.display.Markdown object>"
            ],
            "text/markdown": "Não\tsei\tpor\tquanto\ttempo\tfico\tsentada\tno\tsofá,\tolhando\tpara\to\tteto. Essas\tmemórias\tsempre\tforam\tmanchadas\tpela\tforma\tcomo\tele\tmorreu. Sempre\ttiveram\tum\ttoque\tamargo,\tporque\teu\tacreditava\tque\tmeu\tpai\ttinha\tsido tirado\tde\tmim\tmuito\tcedo,\te\tpor\tum\terro\tque\tele\tpróprio\tcometeu. E\tagora\tnão\tsei\to\tque\tpensar\tsobre\tele. Em\talgum\tmomento,\tdepois\tde\trepassar\tas\tmesmas\timagens\tinfinitas\tvezes\tna mente\t—\tlembranças\tdo\tmeu\tpai\tainda\tvivo,\tprojeções\timaginárias\tde\tseus últimos\tmomentos\te\tde\tsua\tmorte\t—,\tpercebo\tque\tnão\tposso\tmais\tficar\tparada ali. Então\tlevanto,\tsaio\tpara\to\tcorredor\te\tprocuro\tEvelyn. “Então\té\tpor\tisso\tque\testou\taqui?”,\tpergunto,\tbrandindo\ta\tcarta\tno\tar. “Não\tera\ta\túnica\trazão\tpara\teu querer\tte\tconhecer. E\testava procurando\tuma\tforma\tde\tcontato\tque\tnão\tfosse\ttão\tabrupta,\ttão\tchocante.” “Claramente\ta\t Vivant \tfoi\tde\tgrande\tajuda.” “Me\tdeu\tum\tbom\tpretexto,\té\tverdade."
          },
          "metadata": {}
        },
        {
          "output_type": "display_data",
          "data": {
            "text/plain": [
              "<IPython.core.display.Markdown object>"
            ],
            "text/markdown": "### Página 398"
          },
          "metadata": {}
        },
        {
          "output_type": "display_data",
          "data": {
            "text/plain": [
              "<IPython.core.display.Markdown object>"
            ],
            "text/markdown": "conheço\ta\tsua\thistória.” “Então\tachou\tque\tpoderia\tme\tatrair\tpara\tcá\tme\tprometendo\tum\tbest-seller.” “Não”,\tela\tresponde,\tsacudindo\ta\tcabeça. “E\tdaí?” “Achei\tmuito\tbem\tescrita. Informativa,\tinteligente,\tponderada\te\tfeita\tcom compaixão. É\tum\ttexto\tescrito\tcom\to\tcoração. Admirei\ta\tforma\tcomo\tvocê tocou\tnum\tassunto\ttão\tcomplicado,\tque\tdesperta\ttantos\tsentimentos.” Não\tquero\touvir\tnada\tde\tbom\tsobre\tmim\tvindo\tdela,\tporque\tvou\tme\tsentir obrigada\ta\tagradecer. Mas\ta\teducação\tque\tminha\tmãe\tme\tdeu\tsempre\tsurge\tnos momentos\tmais\tinesperados. “Obrigada.” “Quando\tli,\tachei\tque\tvocê\tpoderia\tfazer\tum\tbelíssimo\ttrabalho\tcom\ta\tminha história.” “Por\tcausa\tde\tuma\tmateriazinha\tque\tescrevi?” “Por\tcausa\tdo\tseu\ttalento\te\tporque,\tse\texiste\talguém\tcapaz\tde\tentender\tquem eu\tsou\te\to\tque\tfiz\tem\ttoda\ta\tsua\tcomplexidade,\tprovavelmente\té\tvocê. Mas,\timagino\teu,\tvai\tser\tum\trelato honesto\te\tinabalável. Queria\tte\tentregar\tessa\tcarta,\te\tqueria\tque\tvocê\tescrevesse minha\thistória\tporque\tacredito\tque\tseja\ta\tmelhor\tpessoa\tpara\tisso.” “Então\tvocê\tme\tfez\tpassar\tpor\ttudo\tisso\tpara\taplacar\tsua\tculpa\te\tter\ta\tcerteza de\tque\to\tlivro\tsobre\tsua\tvida\tsaísse\tda\tmaneira\tque\tqueria?” Evelyn\tfaz\tque\tnão\tcom\ta\tcabeça,\tpronta\tpara\tme\tcorrigir,\tmas\tjá\testou cansada\tdisso. Mesmo\tagora, quando\tparece\tque\testá\ttentando\tse\tredimir,\to\t seu \tinteresse\tainda\tvem\tem primeiro\tlugar.” Evelyn\tergue\ta\tmão."
          },
          "metadata": {}
        },
        {
          "output_type": "display_data",
          "data": {
            "text/plain": [
              "<IPython.core.display.Markdown object>"
            ],
            "text/markdown": "### Página 399"
          },
          "metadata": {}
        },
        {
          "output_type": "display_data",
          "data": {
            "text/plain": [
              "<IPython.core.display.Markdown object>"
            ],
            "text/markdown": "E\tsoube\ttirar\tvantagem\t—\tde\tforma\tbem\tinteligente,\taliás\t—\tda\tposição\tem\tque eu\tte\tcoloquei.” “Evelyn,\té\tsério”,\teu\tdigo. “Vamos\tparar\tcom\tesse\tpapo-furado.” “Você\tnão\tquer\tmais\tminha\thistória?”,\tEvelyn\tquestiona,\tme\tdesafiando. Por\tmim\ttudo bem.” Fico\tem\tsilêncio,\tsem\tsaber\tcomo\tresponder,\tsem\tsaber\tnem\tcomo\t quero responder. Evelyn\tbaixa\ta\tmão\te\tfica\tà\tespera\tde\tuma\tresposta. Não\tfoi\tuma\tsugestão hipotética\tou\tretórica. Podemos\tdestruir\ttudo\tagora\tmesmo.” Fico\timóvel,\tapesar\tdo\ttempo\tque\tela\tme\tconcede\tpara\tfazer\talguma\tcoisa. “Foi\to\tque\teu\tpensei”,\tela\tcomenta. “É\to\tmínimo\tque\teu\tmereço”,\tdigo,\tna\tdefensiva. “Porra,\té\to\tmínimo\tque\tvocê poderia\tme\tdar.” “Ninguém\tmerece\tcoisa\tnenhuma”,\tretruca\tEvelyn. “A\tgrande\tquestão\té\tquem tem\tdisposição\tpara\tir\tatrás\tdo\tque\tquer. Então\ttrate\tde\tser\tsincera\tsobre\tisso. Quem\tinsiste\tem\tse\tretratar\tcomo\tuma\tcoisa\tou\toutra\tnão\testá\tsó enganando\ta\tsi\tmesmo,\ttambém\testá\tse\tcolocando\tnum\tpapel\tque\tchega\ta\tser ridículo\tde\ttão\tclichê.” Levanto\tda\tmesa\te\tvou\taté\ta\tpia. “Eu\tte\todeio,\tsabia?” Evelyn\tassente. É\tum\tsentimento\tbem\tsimples,\tné?” “Sim”,\trespondo. “É\tmesmo.” “Todas\tas\toutras\tcoisas\tda\tvida\tsão\tbem\tmais\tcomplexas. Por\tisso\tachei\ttão\timportante\tvocê\tler\tessa\tcarta."
          },
          "metadata": {}
        },
        {
          "output_type": "display_data",
          "data": {
            "text/plain": [
              "<IPython.core.display.Markdown object>"
            ],
            "text/markdown": "### Página 400"
          },
          "metadata": {}
        },
        {
          "output_type": "display_data",
          "data": {
            "text/plain": [
              "<IPython.core.display.Markdown object>"
            ],
            "text/markdown": "Ele\tabriu\tmão\tde\tum\tamor\tromântico\tpara\tficar a\tseu\tlado. Você\ttem\tnoção\tdo\tpai\tmaravilhoso\tque\tteve? Tem\tum\tmonte\tde\tcaras\tque\tdizem\tque\tjamais\tabandonariam\ta\tfamília,\tmas\tseu pai\tpassou\tde\tverdade\tpor\tesse\tteste\te\tnão\tpensou\tduas\tvezes. Se\teu\ttivesse\tum\tpai\tassim,\ttambém\tiria\tquerer\tsaber.” Ninguém\té\tapenas\tbom\tou\tapenas\truim. Mas\tàs\tvezes\té\tfácil\tesquecer\tuma\tverdade\tcomo\tessa. E\tque\tela se\taplica\ta\t todo\tmundo . Até\tque\teu\tme\tvejo\tdiante\tda\tmulher\tque\tcolocou\to\tcorpo\tsem\tvida\tdo\tmeu pai\tatrás\tdo\tvolante\tde\tum\tcarro\tpara\tsalvar\ta\treputação\tde\tseu\tmelhor\tamigo\t— e\tme\tdou\tconta\tde\tque\tela\tguardou\tuma\tcarta\tpor\tquase\ttrês\tdécadas\tporque queria\tque\teu\tsoubesse\to\tquanto\tera\tamada. Ela\tpoderia\tter\tme\tentregado\ta\tcarta\tantes. Mas\ttambém\tpoderia\tmuito\tbem ter\tjogado\tfora. Sento\tde\tnovo\te\tesfrego\tos\tolhos\tcom\tas\tmãos,\tna\tesperança\tde\tque,\tse\tfizer isso\tcom\tbastante\tforça,\ttalvez\tconsiga\tver\ta\trealidade\tde\toutra\tforma. Quando\tabro\tos\tolhos,\tcontinuo\tna\tmesma. “Quando\tposso\tlançar\to\tlivro?” “Eu\tnão\tvou\tcontinuar\taqui\tpor\tmuito\ttempo”,\tresponde\tEvelyn,\tsentando num\tbanquinho\tjunto\tà\tilha\tda\tcozinha. Quando\tposso\tlançar\to\tlivro?” Evelyn\tcomeça\ta\tdobrar\tdistraidamente\tum\tguardanapo\tlargado\tno\ttampo\tda mesa. “Apesar\tde\tque,\tse\to\tmundo\tfosse\tjusto, a\tmãe\tmorreria\tantes\tda\tfilha.” Observo\tcom\tbastante\tatenção\tos\ttraços\tdo\trosto\tde\tEvelyn."
          },
          "metadata": {}
        },
        {
          "output_type": "display_data",
          "data": {
            "text/plain": [
              "<IPython.core.display.Markdown object>"
            ],
            "text/markdown": "### Página 401"
          },
          "metadata": {}
        },
        {
          "output_type": "display_data",
          "data": {
            "text/plain": [
              "<IPython.core.display.Markdown object>"
            ],
            "text/markdown": "Ela\tcontinua\testoica\tcomo\tse\testivesse\tlendo\talguma\tcoisa\tno jornal\tpara\tmim. “E\tem\tque\testágio\testá?” “Avançado\to\tsuficiente\tpara\teu\tter\tpressa\tpara\tresolver\ttudo\tisso.” Eu\tdesvio\to\tolhar\tquando\tela\tme\tencara. E\tpor\tme\tsentir\tculpada,\tpela\tparte\tde\tmim que\tnão\tlamenta\tpor\tela\t—\tque\tna\tverdade\té\ta\tmaior\tparte. E\ttambém\tpor\tme sentir\tidiota,\tporque\texiste\tuma\tparte\tde\tmim\tque\tse\tentristece. “Eu\tvi\to\tque\tminha\tfilha\tpassou”,\tEvelyn\tcontinua. Por\tisso\té\timportante\tdeixar\ttudo\tem\tordem. E\tainda\ttem\tisso…\tQue\té\ta\túltima coisa. “Não\tquero\touvir\tmais\tnada\tde\tvocê. Vê\tse\tfica\tde\tboca fechada,\tentendeu?” Não\ttenho\tcomo\tafirmar\tque\tfico\tsurpresa\tquando\tela\tresponde\tmesmo\tassim. “Eu\tsó\tia\tdizer\tque\tte\tentendo,\te\tque\ta\tgente\tse\tvê\tamanhã.” “Amanhã?”,\tquestiono,\te\tme\tlembro\tque\tmeu\ttrabalho\tcom\tEvelyn\tainda\tnão terminou. “Para\ta\tsessão\tde\tfotos”,\tela\texplica. “Não\tsei\tse\testou\tpreparada\tpara\tvoltar\taqui.” “Bom”,\tdiz\tEvelyn,\t“eu\tsinceramente\tespero\tque\testeja.”"
          },
          "metadata": {}
        },
        {
          "output_type": "display_data",
          "data": {
            "text/plain": [
              "<IPython.core.display.Markdown object>"
            ],
            "text/markdown": "### Página 402"
          },
          "metadata": {}
        },
        {
          "output_type": "display_data",
          "data": {
            "text/plain": [
              "<IPython.core.display.Markdown object>"
            ],
            "text/markdown": "Vou\tdireto\tsentar,\tsem\tme\tpreocupar\tem\ttirar\to\tcasaco\tou\tos\tsapatos. Respondo\to\te-mail\tque\ta\tminha\tmãe\tmandou\tconfirmando\tas\tinformações\tdo seu\tvoo\tde\tamanhã. Ao\tfazer\tisso,\tesbarro\tnum\tenvelope\tdeixado\tsobre\ta\tsuperfície. É\tsó\tquando\tisso\tacontece\tque\tme\tdou\tconta\tde\tque\ta\tmesinha\testá\tde\tvolta\tno lugar. E\tdeixou\tum\tbilhete\tendereçado\ta\tmim. M., Eu\tnão\tdeveria\tter\tlevado\ta\tmesinha\tcomigo. É\tbobagem deixar\tguardada\tnum\tdepósito. Resolvi\tdar\tuma\tde\tmesquinho\tquando\tfui embora. Dentro\tdo\tenvelope\testão\tminha\tcópia\tda\tchave\te\to\tcartão\tde\tvisitas\tdo meu\tadvogado. Deixo\to\tbilhete\tsobre\ta\tmesinha. Acho\tque\tnão\tteria\tconseguido\tpôr\tum\tfim\tno\tmeu\tcasamento\tse\tnão\tfosse Evelyn\tHugo."
          },
          "metadata": {}
        },
        {
          "output_type": "display_data",
          "data": {
            "text/plain": [
              "<IPython.core.display.Markdown object>"
            ],
            "text/markdown": "### Página 403"
          },
          "metadata": {}
        },
        {
          "output_type": "display_data",
          "data": {
            "text/plain": [
              "<IPython.core.display.Markdown object>"
            ],
            "text/markdown": "Acho\tque\tnão\tteria\ta\tchance\tde\tescrever\tum\tlivro\tque\tcom\tcerteza\tvai\tser\tum best-seller\tse\tnão\tfosse\tEvelyn\tHugo. Então\tacho\tque\tEvelyn\testá\terrada\tem\tpelo\tmenos\tuma\tcoisa."
          },
          "metadata": {}
        },
        {
          "output_type": "display_data",
          "data": {
            "text/plain": [
              "<IPython.core.display.Markdown object>"
            ],
            "text/markdown": "### Página 404"
          },
          "metadata": {}
        },
        {
          "output_type": "display_data",
          "data": {
            "text/plain": [
              "<IPython.core.display.Markdown object>"
            ],
            "text/markdown": "Simplesmente\tacordei\te\tpeguei\to\tcaminho\tde\tsempre. Grace abre\ta\tporta\tpara\tmim,\te\testá\tcom\tuma\tcara\tde\tquem\tfoi\tatingida\tpor\tum\tfuracão. Seus\tcabelos\testão\tescapando\tdo\trabo\tde\tcavalo,\te\tela\tparece\tfazer\tum\tesforço maior\tque\to\thabitual\tpara\tmanter\tum\tsorriso\tno\trosto. “Eles\tapareceram\tquase\tquarenta\te\tcinco\tminutos\tadiantados”,\tGrace\tme avisa,\tsussurrando. E\tparece\tque\té\to\tterraço, mas\tcomo\tanda\tmuito\tfrio\teu\tacabei\tdeixando\ta\tlimpeza\tpara\tlá. Enfim,\tfaz\tduas horas\tque\testou\tesfregando\to\tterraço\tde\tponta\ta\tponta.”\tGrace\tapoia\ta\tcabeça\tno meu\tombro,\tcom\tum\tjeito\tbrincalhão. “Graças\ta\tDeus\testou\tsaindo\tde\tférias.” “Monique!”,\tFrankie\texclama\tquando\tme\tvê\tno\tcorredor. “Por\tque\ta demora?” Olho\tpara\to\trelógio. “São\t11h06.”\tLembro\tdo\tdia\tem\tque\tconheci\tEvelyn Hugo. De\tcomo\tela\tparecia\tuma\tfigura\tque\tpairava acima\tda\thumanidade. Ainda\tacha\tque\tvamos\tfotografar\tum\tícone,\te\tnão\tuma\tpessoa."
          },
          "metadata": {}
        },
        {
          "output_type": "display_data",
          "data": {
            "text/plain": [
              "<IPython.core.display.Markdown object>"
            ],
            "text/markdown": "### Página 405"
          },
          "metadata": {}
        },
        {
          "output_type": "display_data",
          "data": {
            "text/plain": [
              "<IPython.core.display.Markdown object>"
            ],
            "text/markdown": "Há\tum\tmonte\tde\tgente\tao\tseu\tredor. Os\tcabelos\tloiros\te\tgrisalhos\testão\tsendo\tsoprados\tpor\tum\tventilador\tpotente. Seu\tvestido\té\tverde-esmeralda\t—\tsua\tmarca\tregistrada\t—,\tdessa\tvez\tum\tde\tseda com\tmangas\tcompridas. Em\talgum\tlugar,\thá\tuma\tcaixa\tde\tsom\ttocando\tBillie Holiday. O\tsol\tbrilha\tcom\tforça\tatrás\tde\tEvelyn. É\tcomo\tse\tela\tfosse\to\tcentro\tdo universo. Quando\tsorri\tpara\ta\tcâmera,\tseus\tolhos\tbrilham\tde\tum\tjeito\tdiferente\tdo\tque vi\tem\tqualquer\toutro\tmomento. Mesmo\tcom\tquase\toitenta\tanos,\tela\tcomanda\tas\tatenções\tde\tuma\tforma\tcomo nunca\tvi\tantes. Mas,\tpela\tprimeira\tvez,\tao\tvê-la\tem\tação,\tse\tpostando\tdiante\tda câmera,\tfico\tcom\ta\timpressão\tde\tque\tela\tfoi\tmodesta\tnesse\tsentido:\tEvelyn poderia\tter\tnascido\tcom\tatributos\tfísicos\tbem\tmenos\timpressionantes\te\ttalvez chegasse\tlá\tmesmo\tassim. Uma\tqualidade indefinível\tque\tfaz\ttodo\tmundo\tparar\tpara\tprestar\tatenção. Evelyn\tme\tvê\tatrás\tdo\tpessoal\tda\tiluminação\te\tinterrompe\to\tque\testá\tfazendo. “Para\tse\tlembrar\tde\tmim.” Uma\tou\toutra\tpessoa\tdá\trisada,\tcomo\tse\tEvelyn\testivesse\tfazendo\tuma\tpiada. Porque,\tclaro,\tninguém\tseria\tcapaz\tde\tesquecer\tEvelyn\tHugo. Mas\teu\tsei\tque\tela está\tfalando\tsério."
          },
          "metadata": {}
        },
        {
          "output_type": "display_data",
          "data": {
            "text/plain": [
              "<IPython.core.display.Markdown object>"
            ],
            "text/markdown": "### Página 406"
          },
          "metadata": {}
        },
        {
          "output_type": "display_data",
          "data": {
            "text/plain": [
              "<IPython.core.display.Markdown object>"
            ],
            "text/markdown": "“Evelyn,\tsei\tque\tisso\tnão\té\tnovidade\tnenhuma\tpara\tvocê”,\to\tfotógrafo comenta,\t“mas\ta\tcâmera\tte\tama.” “Ah”,\tdiz\tEvelyn,\tencolhendo\tos\tombros. “Ouvir\tisso\tmais\tuma\tvez\tnunca\té demais.” O\tvestido\tdela\té\tdecotado,\trevelando\tos\tseios\tainda\tvolumosos,\te\tme\tvem\tà mente\tque\té\tjustamente\tisso\tque\tvai\tcausar\to\tseu\tfim. E\tentão\tpercebo\tque\tela\tse\timporta,\tsim. Evelyn\tHugo\tquer\tsaber\tse\testá\ttudo\tcerto\tcomigo. Se,\tdepois\tde\ttudo\to\tque aconteceu,\tvou\tficar\tbem. Finjo\tque\tnão\testou\tfuriosa,\tconfusa, triste,\tdividida,\tdecepcionada,\tchocada\te\tdesconfortável. Finjo\tque\testou\tsimplesmente\tcativada\tpor\tEvelyn\tHugo. Porque,\tapesar\tde\ttudo,\tisso\tainda\té\tverdade. Depois\tque\ta\tequipe\tde\tfotografia\tvai\tembora,\te\ttudo\tjá\testá\tlimpo,\te\tFrankie já\tsaiu\tdo\tapartamento\t—\ttão\tcontente\tque\tpoderia\tperfeitamente\tcriar\tasas\te\tsair voando\taté\ta\tredação\t—,\tme\tpreparo\tpara\tir\ttambém. Evelyn\testá\tlá\tem\tcima,\ttrocando\tde\troupa."
          },
          "metadata": {}
        },
        {
          "output_type": "display_data",
          "data": {
            "text/plain": [
              "<IPython.core.display.Markdown object>"
            ],
            "text/markdown": "### Página 407"
          },
          "metadata": {}
        },
        {
          "output_type": "display_data",
          "data": {
            "text/plain": [
              "<IPython.core.display.Markdown object>"
            ],
            "text/markdown": "“Grace”,\tdigo\tquando\ta\tvejo\trecolhendo\tos\tcopos\tdescartáveis\te\tos\tpratos\tde papel\tna\tcozinha. “Ela\tterminou\tde\tcontar\ta\thistória\tontem. Agora\tvou\tescrever”,\trevelo,\tapesar\tde\tnão\tfazer\ta menor\tideia\tde\tcomo\tvou\tfazer\tisso,\tou\tqual\texatamente\tvai\tser\tmeu\tpróximo passo. “Ah”,\tGrace\tdiz,\tencolhendo\tos\tombros. Pensei\tque\tvocê\tia\tficar\tfazendo\tcompanhia\tpara\tEvelyn\tdurante\tminhas\tférias. Mas,\tsinceramente,\tnão\tconsigo\tpensar\tem\tnada\talém\tdas\tduas\tpassagens\tpara\ta Costa\tRica\tque\tganhei.” “Que\tlegal. Quando\tvocê\tembarca?” “Hoje\tde\tmadrugada”,\tresponde\tGrace. “Evelyn\tme\tdeu\tas\tpassagens\tontem\tà noite. Sendo\tbem\tsincera,\tsó\tprecisei\touvir as\tpalavras\t‘tirolesa’\te\t‘floresta\ttropical’\tpara\tme\tconvencer.” “Você\tmerece”,\tdiz\tEvelyn\tquando\taparece\tno\talto\tda\tescada\te\tdesce\tpara\tse juntar\ta\tnós. Está\tlinda,\tmas\tao\tmesmo\ttempo\tparece\tuma\tpessoa\tcomum. Duas\tcoisas\tque\tapenas\tEvelyn\tHugo\tconsegue\tser\tao\tmesmo\ttempo. Pensei\tque\tMonique\tfosse continuar\tvindo\tpara\tte\tfazer\tcompanhia”,\tdiz\tGrace. Evelyn\tfaz\tque\tnão\tcom\ta\tcabeça. Precisa\tde\tum\ttempinho\tpara\trecarregar\tas\tbaterias. É\timportante\tsaber\to\tquanto\tsou\tgrata pelo\tque\tvocê\tfez\tpor\taqui. Então\tme\tdeixa\tagradecer\tdessa\tforma.” Grace\tabre\tum\tsorriso\ttímido."
          },
          "metadata": {}
        },
        {
          "output_type": "display_data",
          "data": {
            "text/plain": [
              "<IPython.core.display.Markdown object>"
            ],
            "text/markdown": "### Página 408"
          },
          "metadata": {}
        },
        {
          "output_type": "display_data",
          "data": {
            "text/plain": [
              "<IPython.core.display.Markdown object>"
            ],
            "text/markdown": "Você\tpassou\to\tdia\ttodo\tlimpando,\te com\tcerteza\tdeve\tprecisar\tde\tmais\ttempo\tpara\tfazer\tas\tmalas. Então\tpode\tir,\tdê\to fora\tdaqui.” Para\tminha\tsurpresa,\tGrace\tnão\tdiscute. Apenas\tagradece\te\tvai\tpegar\tsuas coisas. Parece\tuma\tsituação\tcorriqueira,\tmas\tentão\tEvelyn\ta\tsegura\tquando\tela está\tsaindo\te\tlhe\tdá\tum\tabraço. Grace\tparece\tum\ttanto\tperplexa,\tmas\ttambém\tcontente. “Você\tsabe\tque\teu\tjamais\tteria\tconseguido\tsobreviver\taos\túltimos\tanos\tsem você,\tnão\tsabe?”,\tdiz\tEvelyn\tquando\ta\tsolta. “Obrigada.” “Divirta-se\tna\tCosta\tRica”,\tdiz\tEvelyn. “Como\tnunca\tna\tvida.” E,\tquando\tGrace\tsai,\tdesconfio\tque\tjá\tsei\to\tque\testá\tacontecendo\taqui. Jamais\tpermitiria\tque\tcoisa\talguma\t—\tinclusive\tuma\tparte\tde\tseu corpo\t—\ttivesse\ttamanho\tpoder. “O\tque\tvocê…” Não\tconsigo\tinsinuar\te\tnem\tao\tmenos\tperguntar. Parece\tuma\tcoisa\tabsurda\taté de\tespecular. Me\timagino\tfalando\tisso\tem\tvoz\talta,\te\tEvelyn\trindo\tda\tminha\tcara,\tdizendo que\ttenho\tmuita\timaginação,\te\tque\tsou\tmuito\ttonta. “Hã?”,\tdiz\tEvelyn,\tvirando\tpara\tmim. “Obrigada\tpor\tter\tvindo\thoje”,\tela\tfala."
          },
          "metadata": {}
        },
        {
          "output_type": "display_data",
          "data": {
            "text/plain": [
              "<IPython.core.display.Markdown object>"
            ],
            "text/markdown": "### Página 409"
          },
          "metadata": {}
        },
        {
          "output_type": "display_data",
          "data": {
            "text/plain": [
              "<IPython.core.display.Markdown object>"
            ],
            "text/markdown": "Eu\todeio\tEvelyn,\tmas\ttambém\tacho\tque\tgosto\tmuito\tdela. Queria\tque\tela\tnão\texistisse,\tmas\tmesmo\tassim\ta\tadmiro\tmuito. Não\tsei\to\tque\tfazer\ta\trespeito. “Por\tfavor,\tse\tcuida,\tEvelyn.” Ela\testende\to\tbraço\te\tpega\tminha\tmão. Aperta\tum\tpouquinho,\te\tlogo\tem seguida\tlarga. Porque\ttem\tum\tfuturo\texcepcional\tpela frente. Acredito\tnisso\tde verdade.” Evelyn\tme\tencara\te,\tpor\tuma\tfração\tde\tsegundo,\tconsigo\tler\tsua\texpressão. E\tpercebo\tque\tminha\tsuspeita\ttem fundamento."
          },
          "metadata": {}
        },
        {
          "output_type": "display_data",
          "data": {
            "text/plain": [
              "<IPython.core.display.Markdown object>"
            ],
            "text/markdown": "### Página 410"
          },
          "metadata": {}
        },
        {
          "output_type": "display_data",
          "data": {
            "text/plain": [
              "<IPython.core.display.Markdown object>"
            ],
            "text/markdown": "Enquanto\tdesço\tpara\to\tmetrô\te\tpasso\tpela\tcatraca,\tfico\tme\tperguntando\tse\tnão é\tmelhor\tvoltar. Será\tque\tdevo\tbater\tna\tporta\tdela? Será\tque\tdevo\tchamar\tuma\tambulância? Posso\tdar\tmeia-volta\te\tsubir\tpara\ta\trua. Posso\tvoltar\tandando\taté\ta\tcasa\tde Evelyn\te\tdizer:\t“Não\tfaça\tisso”. Ela\tme escolheu\tpor\tcausa\tda\tminha\tmatéria\tsobre\teutanásia. Ela\tme\tescolheu\tporque\teu\tdemonstrei\tcompreensão\ta\trespeito\tda\tnecessidade de\tuma\tmorte\tdigna. Ela\tme\tescolheu\tporque\tacredita\tque\tentendo\ta\tnecessidade\tde\tmisericórdia, mesmo\tquando\to\tmotivo\tpara\tisso\té\tdifícil\tde\tengolir. Ela\tme\tescolheu\tporque\tconfia\tem\tmim. E\tfico\tcom\ta\tsensação\tde\tque\tconfia\tem\tmim\tpara\tisso\ttambém. Meu\ttrem\tchega\ttrepidando\tà\testação. Preciso\tme\tapressar\tpara\tpegá-lo\te\tir me\tencontrar\tcom\ta\tminha\tmãe\tno\taeroporto. Um adolescente\tcom\tuma\tmochila\tno\tombro\tme\tempurra\tdo\tcaminho. Não\tcoloco\tos pés\tno\tvagão."
          },
          "metadata": {}
        },
        {
          "output_type": "display_data",
          "data": {
            "text/plain": [
              "<IPython.core.display.Markdown object>"
            ],
            "text/markdown": "### Página 411"
          },
          "metadata": {}
        },
        {
          "output_type": "display_data",
          "data": {
            "text/plain": [
              "<IPython.core.display.Markdown object>"
            ],
            "text/markdown": "Se\talguém\testá\tdisposto\ta\ttirar\ta\tprópria\tvida,\tnão\té\tnossa\tobrigação\ttentar impedi-lo? Não\té\tnecessário\tchamar\ta\tpolícia? Ou\tarrombar\ta\tporta\tpara\tencontrá-lo? Tem\tmais\tgente\tdo\tque\tconsigo\tdar\tconta\tde\tver. Preciso\tvoltar\te\tsalvar\tEvelyn\tde\tseu\tpróprio\tplano. Minha\tmãe\tconsegue\tchegar\tao\tmeu\tapartamento\tpor\tconta\tprópria. Evelyn\tnunca\tprecisou\tser\tsalva\tpor\tninguém. E\tsó\tquando\tas portas\tse\tfecham\tpercebo\tque\testou\tdentro\tdo\tvagão. Evelyn\tconfia\tem\tmim\tpara\tcontar\tsua\thistória. Evelyn\tconfia\tem\tmim\tpara\tdeixá-la\tmorrer. E,\tno\tfundo\tdo\tmeu\tcoração,\tsinto\tque\tseria\tuma\ttraição\ttentar\timpedi-la. Sei\tque\tela\ttem\to\tdireito\tde\tmorrer\tcomo\tviveu,\tem\tseus\tpróprios termos,\tsem\tdeixar\tnada\tna\tmão\tdo\tdestino\tou\tdo\tacaso,\te\tsim\ttomando\ttodo\to poder\tpara\tsi. Seguro\to\tcano\tde\tmetal\tgelado\tà\tminha\tfrente. Só\tquando\testou\tno\tportão\tde desembarque\te\tvejo\tminha\tmãe\tacenando\tpercebo\tque\testou\tquase\tcatatônica\thá uma\thora. É\tsimplesmente\tcoisa\tdemais\tpara\tprocessar. Assim\tque\tminha\tmãe\tse\taproxima,\tlanço\tmeus\tbraços\tem\ttorno\tdos\tseus ombros\te\tchoro."
          },
          "metadata": {}
        },
        {
          "output_type": "display_data",
          "data": {
            "text/plain": [
              "<IPython.core.display.Markdown object>"
            ],
            "text/markdown": "### Página 412"
          },
          "metadata": {}
        },
        {
          "output_type": "display_data",
          "data": {
            "text/plain": [
              "<IPython.core.display.Markdown object>"
            ],
            "text/markdown": "As\tlágrimas\tque\tescorrem\tdo\tmeu\trosto\tparecem\tter\tsido\tacumuladas\tpor anos. Uma\tpessoa\tmais\tforte\te um\ttanto\tmais\tcínica\tem\trelação\taos\toutros,\tsó\tque\ttambém\tmais\totimista\tem relação\tao\tmeu\tlugar\tno\tmundo. “Ah,\tquerida”,\tdiz\tminha\tmãe,\ttirando\ta\tbolsa\tdo\tombro\te\tdeixando\tcair\tno chão,\tsem\tse\tpreocupar\tcom\tquem\tpode\testar\tà\tnossa\tvolta. Não\tme\tsinto\tpressionada\ta\tparar\tde\tchorar. Ninguém\tprecisa\tfingir\tque\testá\tbem\tpara\tuma\tboa\tmãe;\tuma\tboa\tmãe faz\ttudo\tficar\tbem. E\ta\tminha\tmãe\tsempre\tfoi\tótima. Quando\tparo\tde\tchorar,\teu\tme\tafasto. Tem\tgente\tpassando\tdo nosso\tlado\tà\tdireita\te\tà\tesquerda,\texecutivas\tcom\tsuas\tmaletas,\tfamílias\tcom mochilas\tnas\tcostas. “O\tque\tfoi,\tquerida?”,\tminha\tmãe\tpergunta. “Não\tsei\tnem\tpor\tonde\tcomeçar”,\tdigo. “Que\ttal\tse\teu\tdeixasse\tde\tfingir\tque\tsei\tandar\tde metrô\te\tchamasse\tum\ttáxi?” Eu\tdou\trisada\te\tconcordo\tcom\tum\tgesto\tde\tcabeça,\tenxugando\tos\tolhos. Quando\testamos\tacomodadas\tno\tbanco\ttraseiro\tde\tum\ttáxi\tmalcheiroso,\tcom manchetes\tdas\tnotícias\tdo\tdia\tpassando\tsem\tparar\tno\tpainel,\testou\trecomposta\to bastante\tpara\tconseguir\trespirar\tmelhor."
          },
          "metadata": {}
        },
        {
          "output_type": "display_data",
          "data": {
            "text/plain": [
              "<IPython.core.display.Markdown object>"
            ],
            "text/markdown": "### Página 413"
          },
          "metadata": {}
        },
        {
          "output_type": "display_data",
          "data": {
            "text/plain": [
              "<IPython.core.display.Markdown object>"
            ],
            "text/markdown": "Conto\tque\tele\testava\ttendo\tum\tcaso\tcom\tum\thomem\tquando\tsua\tvida chegou\tao\tfim? “David\te\teu\tvamos\tdar\tentrada\tno\tdivórcio”,\tdigo. “Sei\tque\tdeve\testar\tsendo\tdifícil.” Não\tposso\tjogar\tsobre\tos\tombros\tdela\to\tfardo\tda\tminha\tsuspeita\ta\trespeito\tde Evelyn. “E\tsinto\tfalta\tdo\tpapai”,\teu\tfalo. “Você\ttambém\tsente?” “Ah,\tnossa”,\tela\tresponde. “Todos\tos\tdias\tda\tminha\tvida.” “Ele\tfoi\tum\tbom\tmarido?” Sinto\tque\ta\tpeguei\tdesprevenida. “Foi\tum\tótimo\tmarido,\tsim”,\tela\tdiz. Acho\tque\tme\tdei\tconta\tde\tque\tnunca\tsoube\tmuita\tcoisa\tsobre\to relacionamento\tde\tvocês. Com\tvocê?” Ela\tcomeça\ta\tsorrir,\tmas\tcomo\tse\testivesse\ttentando\tevitar,\tsó\tque\tsem sucesso. “Mas\tele\tresolveu\tfazer\tmimos\tpara\tmim\tem 3\tde\tmaio\tpor\talgum\tmotivo. Disse\tque\tas\tdatas\toficiais\tnão\tbastavam\tpara\tme homenagear. “E\tele\tescrevia\tumas\tcartas\tde\tamor\tmuito\tlindas”,\tela\tcontinua. Com\tpoemas\tdizendo\tque\teu\tera\tbonita,\tum\tverdadeiro\tabsurdo,\tporque nunca\tfui\tbonita.” “Claro\tque\tfoi”,\tdigo. “Parece\tum\tcasamento\tcheio\tde\tpaixão”,\tcomento."
          },
          "metadata": {}
        },
        {
          "output_type": "display_data",
          "data": {
            "text/plain": [
              "<IPython.core.display.Markdown object>"
            ],
            "text/markdown": "### Página 414"
          },
          "metadata": {}
        },
        {
          "output_type": "display_data",
          "data": {
            "text/plain": [
              "<IPython.core.display.Markdown object>"
            ],
            "text/markdown": "Foi\tcomo\tse, quando\ta\tgente\tse\tconheceu,\teu\ttambém\ttivesse\tconhecido\tum\toutro\tlado\tde mim\tmesma. Não\ttinha\ta\tver com\tpaixão,\tna\tverdade. Essa\tcoisa\tde\trasgar\tas\troupas\tum\tdo\toutro. Mas,\tem\tdiversos\tsentidos,\tisso\tsó serviu\tpara\tnos\taproximar. “Sei\tque\tnão\té\tuma\tcoisa\tdas\tmais\tinteressantes\tpara\tdizer. E\tque\ttodo\tmundo hoje\tem\tdia\tquer\tum\tcasamento\tcom\tuma\tvida\tsexual\tbem\tativa. Mas\teu\tfui muito\tfeliz\tcom\tseu\tpai. E\tsempre achei\tseu\tpai\tum\thomem\tfascinante. As\topiniões,\to\ttalento\tque\tele\ttinha. A\tgente\tficava\tacordado até\ttarde,\tmesmo\tquando\tvocê\tera\tpequena,\tsó\t conversando . Ele\tera\tmeu\tmelhor amigo.” “Foi\tpor\tisso\tque\tvocê\tnunca\tcasou\tde\tnovo?” Minha\tmãe\treflete\tum\tpouco. Mas\tabriria\tmão\tde\ttudo\tpor\talguns\tdias\ta\tmais\tcom\tele. Por\tuma última\tconversa\taté\ttarde\tda\tnoite. A\tpaixão\tnunca\tfez\tmuita\tdiferença\tpara\tmim. Mas\to\ttipo\tde\tintimidade\tque\tnós\ttínhamos? Isso\tsim\tera\tprecioso\tpara\tmim.” Talvez\tum\tdia\teu\tconte\ta\tela\to\tque\tsei. Mas\tvou\tcolocar\tna\tbiografia\tde\tEvelyn,\tou\tentão\tcontar\to\tque\tela\tfez\tsem revelar\tquem\testava\tno\tbanco\tdo\tpassageiro\tdo\tcarro. Talvez\teu\tdeixe\ttoda\tessa\tparte\tde\tfora. Acho\tque\testaria\tdisposta\ta omitir\ta\tverdade\tdo\tpúblico\tem\tnome\tda\tfelicidade\te\tda\tsanidade\tde\tuma\tpessoa que\tamo\tdemais."
          },
          "metadata": {}
        },
        {
          "output_type": "display_data",
          "data": {
            "text/plain": [
              "<IPython.core.display.Markdown object>"
            ],
            "text/markdown": "### Página 415"
          },
          "metadata": {}
        },
        {
          "output_type": "display_data",
          "data": {
            "text/plain": [
              "<IPython.core.display.Markdown object>"
            ],
            "text/markdown": "Por\tmais surpreendente\tque\tseja,\tnão\testou\tpreocupada\tcom\tisso. “Acho\tque\ttive\tsorte\tde\tencontrar\tum\tcompanheiro\tcomo\tseu\tpai”,\tminha\tmãe continua. E\ttalvez\tum\tdia\teu\tencontre\talguém\tque\tpossa\tamar\tda\tmesma\tforma\tcomo Evelyn\tamava\tCelia. Ou\tentão\tencontrar\talguém\tque\tpossa\tamar\tcomo\tos\tmeus pais\tse\tamavam. Ainda\texiste\tmuita\tcoisa\tque\tnão\tsei\tsobre\to\tmeu\tpai. Mas\tisso\tna verdade\tnão\timporta,\te\té\tessa\ta\tquestão. E\tnada\tdo\tque\teu\tpossa\tficar\tsabendo\ta\tseu\trespeito\tmuda\tisso. O\ttaxista\tnos\tdeixa\tdiante\tdo\tmeu\tprédio,\te\teu\tpego\ta\tbolsa\tda\tminha\tmãe. Ela\tse\toferece\tpara\tfazer\tsua\tfamosa\tsopa\tde\tmilho\tpara\to\tjantar,\tmas,\tao\tver que\tnão\ttenho\tquase\tnada\tna\tgeladeira,\tconcorda\tem\tpedir\tuma\tpizza. Quando\ta\tcomida\tchega,\tela\tpergunta\tse\tquero\tver\tum\tfilme\tda\tEvelyn\tHugo, e\tquase\tdou\trisada,\tmas\tentão\tpercebo\tque\té\tuma\tproposta\tséria. “Estou\tcom\tvontade\tde\tver\t Tudo\tpor\tnós \tdesde\tque\tvocê\tme\tcontou\tque\tia fazer\tuma\tentrevista\tcom\tela”,\tminha\tmãe\tconta. “Não\tsei\tnão”,\trespondo,\tsem\tquerer\tpensar\tem\tEvelyn,\tmas\tpor\toutro\tlado torcendo\tpara\tminha\tmãe\tconseguir\tme\tconvencer,\tporque\tsei\tque,\tem\talguma medida,\tainda\tnão\testou\tpronta\tpara\tdizer\tadeus\tde\tverdade."
          },
          "metadata": {}
        },
        {
          "output_type": "display_data",
          "data": {
            "text/plain": [
              "<IPython.core.display.Markdown object>"
            ],
            "text/markdown": "### Página 416"
          },
          "metadata": {}
        },
        {
          "output_type": "display_data",
          "data": {
            "text/plain": [
              "<IPython.core.display.Markdown object>"
            ],
            "text/markdown": "“Por\tmim.” O\tfilme\tcomeça,\te\tfico\timpressionada\tao\tver\tcomo\tEvelyn\tparece\tdinâmica\tna tela\t—\té\timpossível\tolhar\tpara\toutra\tcoisa\tquando\tela\testá\tem\tcena. Depois\tde\talguns\tminutos,\tpreciso\tme\tesforçar\tpara\tnão\tcalçar\tos\tsapatos, invadir\to\tapartamento\tdela\te\ttentar\tconvencê-la\ta\tnão\tfazer\taquilo. Fecho\tos\tolhos\te\tadormeço\tao\tsom\tda\tvoz\tde\tEvelyn. Não\tsei\texatamente\tquando\tacontece\t—\tacho\tque\tcompreendi\ttudo\tenquanto sonhava\t—,\tmas\tquando\tacordo\tde\tmanhã\tpercebo\tque\ttalvez\tnão\tseja\ttarde demais."
          },
          "metadata": {}
        },
        {
          "output_type": "display_data",
          "data": {
            "text/plain": [
              "<IPython.core.display.Markdown object>"
            ],
            "text/markdown": "### Página 417"
          },
          "metadata": {}
        },
        {
          "output_type": "display_data",
          "data": {
            "text/plain": [
              "<IPython.core.display.Markdown object>"
            ],
            "text/markdown": "NEW\tYORK\tTRIBUNE Morre\tEvelyn\tHugo,\tmusa\tlendária\tdo\tcinema Por\tPriya\tAmrit"
          },
          "metadata": {}
        },
        {
          "output_type": "display_data",
          "data": {
            "text/plain": [
              "<IPython.core.display.Markdown object>"
            ],
            "text/markdown": "### Página 418"
          },
          "metadata": {}
        },
        {
          "output_type": "display_data",
          "data": {
            "text/plain": [
              "<IPython.core.display.Markdown object>"
            ],
            "text/markdown": "Os\tprimeiros\trelatos\toficiais não\tconfirmam\ta\tcausa\tda\tmorte,\tmas\tfontes\tdiversas\tafirmam\tque\to\tcaso\testá sendo\ttratado\tcomo\tuma\toverdose\tacidental,\tjá\tque\tvários\tmedicamentos\tque não\tpodem\tser\tingeridos\tde\tforma\tsimultânea\tforam\tencontrados\tno\torganismo da\tatriz. A\testrela\tde\tHollywood\tserá\tenterrada\tno\tcemitério\tForest\tLawn,\tem\tLos Angeles. Ela\tfoi\tcasada sete\tvezes,\te\tsobreviveu\ta\ttodos\tos\tmaridos. Não\té\texatamente\tsurpresa\tque\tHugo\ttenha\tdeixado\ta\tmaior\tparte\tde\tsua herança\tà\tcaridade,\texcluindo\tas\tgenerosas\tsomas\tdestinadas\tàs\tpessoas\tque trabalhavam\tpara\tela. Entre\tos\tmaiores\tbeneficiários\testá\ta\torganização\t GLAAD , que\tfaz\to\tmonitoramento\tdo\ttratamento\tdispensado\tpela\tmídia\tàs\tpessoas LGBTQ +. “Consegui\tmuita\tcoisa\tna\tvida”,\tHugo\tdeclarou\tno\tano\tpassado\tem\tum discurso\tpara\ta\tHuman\tRights\tCampaign. Se\teu\tfor\tcapaz\tde\tdeixar\teste\tmundo\tum\tpouco\tmais"
          },
          "metadata": {}
        },
        {
          "output_type": "display_data",
          "data": {
            "text/plain": [
              "<IPython.core.display.Markdown object>"
            ],
            "text/markdown": "### Página 419"
          },
          "metadata": {}
        },
        {
          "output_type": "display_data",
          "data": {
            "text/plain": [
              "<IPython.core.display.Markdown object>"
            ],
            "text/markdown": "seguro\te\tum\tpouco\tmais\tfácil\tpara\taqueles\tque\tvierem\tdepois\tde\tmim…\tbom, então\tacho\tque\ttudo\tvai\tter\tvalido\ta\tpena.”"
          },
          "metadata": {}
        },
        {
          "output_type": "display_data",
          "data": {
            "text/plain": [
              "<IPython.core.display.Markdown object>"
            ],
            "text/markdown": "### Página 420"
          },
          "metadata": {}
        },
        {
          "output_type": "display_data",
          "data": {
            "text/plain": [
              "<IPython.core.display.Markdown object>"
            ],
            "text/markdown": "VIVANT Evelyn\te\teu Por\tMonique\tGrant"
          },
          "metadata": {}
        },
        {
          "output_type": "display_data",
          "data": {
            "text/plain": [
              "<IPython.core.display.Markdown object>"
            ],
            "text/markdown": "### Página 421"
          },
          "metadata": {}
        },
        {
          "output_type": "display_data",
          "data": {
            "text/plain": [
              "<IPython.core.display.Markdown object>"
            ],
            "text/markdown": "Sendo\tbem\tsincera,\tafirmar\tque\tfoi\tuma\thonra\tpassar\tcom\tEvelyn\tsuas\tduas últimas\tsemanas\tde\tvida\tseria\tao\tmesmo\ttempo\tsubestimar\t—\te\taté\tcerto\tponto omitir\t—\ta\tverdade. Evelyn\tera\tuma\tmulher\tde\tuma\tcomplexidade\ttremenda,\te\to\ttempo\tque\tpassei com\tela\tfoi\ttão\tcomplicado\tquanto\tsua\timagem,\tsua\tvida\te\ta\tlenda\tque\tse construiu\tao\tredor\tde\tsua\tfigura. Até\thoje\tme\tesforço\tpara\tentender\tquem\tfoi Evelyn\te\to\timpacto\tque\texerceu\tsobre\tmim. Acho\tque\tEvelyn\tteria\tficado\tcontente\tcom\tisso,\tinclusive. Ela\tdemonstrava não\tter\tmais\tinteresse\tem\tdespertar\tadoração\tou\tescândalo. E\tsei\tque\to\tque\tEvelyn\tgostaria de\trevelar\tnestas\tpáginas,\tjunto\tcom\tas\tfotos\tlindíssimas\tfeitas\tpouco\tantes\tde sua\tmorte,\tseria\tuma\tverdade\tsurpreendente,\tmas\tmuito\tbonita. Ela\tgostaria\tde\trevelar\tisso\tporque\tseu\tamor\tpor\tCelia\tSt."
          },
          "metadata": {}
        },
        {
          "output_type": "display_data",
          "data": {
            "text/plain": [
              "<IPython.core.display.Markdown object>"
            ],
            "text/markdown": "### Página 422"
          },
          "metadata": {}
        },
        {
          "output_type": "display_data",
          "data": {
            "text/plain": [
              "<IPython.core.display.Markdown object>"
            ],
            "text/markdown": "Ela\tgostaria\tde\trevelar\tisso\tporque,\tao\tlongo\tda\tvida,\tse\tconscientizou\tda importância\tde\tdar\tvisibilidade\tà\tcomunidade\t LGBTQ+ . E,\tperto\tdo\tfim,\tela\tse\tsentiu\tpronta\tpara\texpor\ta\trealidade. As\tpáginas\ta\tseguir\tsão\tum\ttrecho\tda\tbiografia\t Os\tsete\tmaridos\tde\tEvelyn Hugo ,\ta\tser\tlançada\tno\tano\tque\tvem. Escolhi\tesse\ttítulo\tporque\tcerta\tvez\tperguntei\ta\tela\tse\tnão\ttinha\tvergonha\tde ter\tse\tcasado\ttantas\tvezes. Que\tseus\tmaridos\ttenham\tse\ttornado\tum assunto\ttão\timportante,\tmencionado\ttantas\tvezes\tnas\tmanchetes,\tque\tquase ofuscaram\tvocê\te\tseu\ttrabalho? Que\taquilo\tque\ttodo\tmundo\tmenciona\tquando fala\tde\tvocê\tsão\tos\tsete\tmaridos\tde\tEvelyn\tHugo?”. E, de\tqualquer\tforma,\tacho\tque,\tquando\tsouberem\ta\tverdade,\tas\tpessoas\tvão\tse interessar\tmuito\tmais\tpela\tminha\tesposa.”"
          },
          "metadata": {}
        },
        {
          "output_type": "display_data",
          "data": {
            "text/plain": [
              "<IPython.core.display.Markdown object>"
            ],
            "text/markdown": "### Página 423"
          },
          "metadata": {}
        },
        {
          "output_type": "display_data",
          "data": {
            "text/plain": [
              "<IPython.core.display.Markdown object>"
            ],
            "text/markdown": "Quando\tfalei\tpara\tela\tque\tqueria fazer\tuma\tcoisa\tcompletamente\tdiferente,\tque\texpusesse\taos\tleitores\to\tponto\tde vista\tde\tuma\tmulher\tque\tse\tcasou\tsete\tvezes,\tela\tdisse:\t“Vá\tem\tfrente”. Com\ta certeza\tdesse\tvoto\tde\tconfiança,\tme\tsenti\tlivre\tpara\tcriar\tEvelyn\tHugo. Agradeço\timensamente\ta\tCarly\tWatters\tpor\ttudo\to\tque\tfez\tpela\tminha carreira. É\tuma\talegria\tcontinuar\ttrabalhando\tcom\tvocê\tem\ttantos\tlivros. À\tminha\tincomparável\tequipe\tde\trepresentantes:\tvocês\tsão\ttão\tbons\tno\tque fazem\te\tparecem\ttrabalhar\tcom\ttanto\tentusiasmo\tque\tme\tsinto\tamparada\tpor todos\tos\tlados. Theresa\tPark,\tobrigada\tpor\tentrar\tno\ttime\te\tjá\tcomeçar\ta\tresolver tudo\tcom\tuma\tforça\te\tuma\telegância\tque\tsão\tde\tfato\tinigualáveis. Jill\tGillett,\tAshley\tKruythoff,\tKrista\tShipp,\tAbigail\tKoons,\tAndrea\tMai, Emily\tSweet,\tAlex\tGreene,\tBlair\tWilson,\tVanessa\tMartinez,\te\ttodo\tmundo\tna WME ,\tno\tCircle\tof\tConfusion\te\tna\tPark\tLiterary\t&\tMedia,\tfico\tperplexa\tcom\ta capacidade\tconstante\te\tincessante\tque\tvocês\ttêm\tde\tproduzir\texcelência."
          },
          "metadata": {}
        },
        {
          "output_type": "display_data",
          "data": {
            "text/plain": [
              "<IPython.core.display.Markdown object>"
            ],
            "text/markdown": "### Página 424"
          },
          "metadata": {}
        },
        {
          "output_type": "display_data",
          "data": {
            "text/plain": [
              "<IPython.core.display.Markdown object>"
            ],
            "text/markdown": "A\tJudith,\tPeter,\tTory,\tArielle,\tAlfred\te\ttodo\tmundo\tna\tAtria\tque\ttrabalha\tpara ajudar\tmeus\tlivros\ta\tencontrar\tseu\tcaminho\tno\tmundo,\tminha\tprofunda\tgratidão. Crystal,\tJanay,\tRobert\te\tdemais\tintegrantes\tda\tBookSparks,\tvocês\tsão máquinas\tde\tdivulgação\tincansáveis\te\tbrilhantes,\talém\tde\tseres\thumanos maravilhosos. A\ttodos\tos\tamigos\tque\tcompareceram\tvez\tapós\tvez\tem\tsessões\tde\tleituras, lançamentos\tde\tlivros,\te\tque\trecomendaram\tminhas\tobras\tpara\toutras\tpessoas,\te que\tde\tforma\tdiscreta\tcolocaram\tmeus\tlivros\tmais\tperto\tda\tvitrine\tda\tloja,\tmeus eternos\tagradecimentos. Para\tKate,\tCourtney,\tJulia\te\tMonique,\tobrigada\tpor\tme ajudar\ta\tescrever\tsobre\tpessoas\tdiferentes\tde\tmim. Aos\tblogueiros\tque\tescrevem,\ttuítam\te\tpostam\tfotos\tpara\tdivulgar\tmeu trabalho\ta\toutras\tpessoas,\tvocês\tsão\to\tmotivo\tpara\teu\tcontinuar\tfazendo\to\tque faço. À\tminha\tmãe,\tMindy,\tobrigada\tpor\tse\torgulhar\tdeste\tlivro\te\tpor\tsempre\tse mostrar\ttão\tdisposta\ta\tler\to\tque\tescrevo. Mas,\tacima\tde\ttudo, obrigada\tpor\tser\to\ttipo\tde\thomem\tque\tme\tincentiva\ta\tgritar\tmais\tforte,\tsonhar mais\talto\te\taceitar\tmenos\tdesaforos."
          },
          "metadata": {}
        },
        {
          "output_type": "display_data",
          "data": {
            "text/plain": [
              "<IPython.core.display.Markdown object>"
            ],
            "text/markdown": "### Página 425"
          },
          "metadata": {}
        },
        {
          "output_type": "display_data",
          "data": {
            "text/plain": [
              "<IPython.core.display.Markdown object>"
            ],
            "text/markdown": "Você\tera\tbem\tpequenininha\t—\tcom\tmais\tou menos\to\ttamanho\tdo\tponto-final\tdesta\tfrase\t—\tquando\tcomecei\teste\tlivro. E, quando\tterminei,\testava\ta\tpoucos\tdias\tde\tentrar\tneste\tmundo. Acho\tque,\tem\tgrande\tparte,\t você \tme\tdeu\tforças\tpara escrevê-lo. Prometo\tque\tvou\tretribuir\to\tfavor\tte\tamando\tincondicionalmente\te\tsempre\tte aceitando,\tpara\tque\tvocê\tse\tsinta\tforte\te\tconfiante\tpara\tfazer\to\tque\tquiser. Ela\tdiria:\t“Lilah,\tsaia\tpara\to\tmundo,\tseja gentil\te\tagarre\taquilo\tque\tvocê\tquer\tcom\tas\tduas\tmãos”. Bom,\ttalvez\tela\tnão enfatizasse\tmuito\ta\tparte\tda\tgentileza. Mas,\tcomo\tsou\tsua\tmãe,\tpreciso\tinsistir nessa\tparte."
          },
          "metadata": {}
        },
        {
          "output_type": "display_data",
          "data": {
            "text/plain": [
              "<IPython.core.display.Markdown object>"
            ],
            "text/markdown": "### Página 426"
          },
          "metadata": {}
        },
        {
          "output_type": "display_data",
          "data": {
            "text/plain": [
              "<IPython.core.display.Markdown object>"
            ],
            "text/markdown": "SCOTT\tWITTER TAYLOR\tJENKINS\tREID \té\tautora\tde\t Forever,\tInterrupted (2013),\t After\tI\tDo \t(2014),\t Em\toutra\tvida,\ttalvez?"
          },
          "metadata": {}
        },
        {
          "output_type": "display_data",
          "data": {
            "text/plain": [
              "<IPython.core.display.Markdown object>"
            ],
            "text/markdown": "### Página 427"
          },
          "metadata": {}
        },
        {
          "output_type": "display_data",
          "data": {
            "text/plain": [
              "<IPython.core.display.Markdown object>"
            ],
            "text/markdown": "A\tEditora\tParalela\té\tuma\tdivisão\tda\tEditora\tSchwarcz\tS.A. Grafia\tatualizada\tsegundo\to\tAcordo\tOrtográfico\tda\tLíngua\tPortuguesa\tde\t1990,\tque\tentrou\tem\tvigor\tno Brasil\tem\t2009. TÍTULO\tORIGINAL \tThe\tSeven\tHusbands\tof\tEvelyn\tHugo CAPA \t Joana\tFigueiredo FOTO\tDE\tCAPA \t Inara\tPrusakova/\tShutterstock PREPARAÇÃO \tFábio\tBonillo REVISÃO \tAdriana\tBairrada,\tJane\tPessoa\te\t Renato\tPotenza\tRodrigues ISBN \t978-85-545-1573-7 Todos\tos\tdireitos\tdesta\tedição\treservados\tà EDITORA\tSCHWARCZ\tS.A. Rua\tBandeira\tPaulista,\t702,\tcj."
          },
          "metadata": {}
        },
        {
          "output_type": "display_data",
          "data": {
            "text/plain": [
              "<IPython.core.display.Markdown object>"
            ],
            "text/markdown": "### Página 428"
          },
          "metadata": {}
        },
        {
          "output_type": "display_data",
          "data": {
            "text/plain": [
              "<IPython.core.display.Markdown object>"
            ],
            "text/markdown": "Daisy\tJones\tand\tThe\tSix Reid,\tTaylor\tJenkins 9788554513689 244\tpáginas Compre\tagora\te\tleia Embalado\tpelo\tmelhor\tdo\trock'n'roll,\tum\tromance inesquecível\tsobre\tuma\tbanda\tdos\tanos\t1970,\tsua apaixonante\tvocalista\te\to\tamor\tà\tmúsica. Da\tautora de\tEm\toutra\tvida,\ttalvez?.Todo\tmundo\tconhece Daisy\tJones\t&\tThe\tSix. Nos\tanos\tsetenta, dominavam\tas\tparadas\tde\tsucesso,\tfaziam\tshows para\tplateias\tlotadas\te\tconquistavam\tmilhões\tde fãs."
          },
          "metadata": {}
        },
        {
          "output_type": "display_data",
          "data": {
            "text/plain": [
              "<IPython.core.display.Markdown object>"
            ],
            "text/markdown": "### Página 429"
          },
          "metadata": {}
        },
        {
          "output_type": "display_data",
          "data": {
            "text/plain": [
              "<IPython.core.display.Markdown object>"
            ],
            "text/markdown": "Los\tAngeles\tque\tsonhava\tem\tser\tuma\testrela\tdo rock\te\tde\tuma\tbanda\tque\ttambém\talmejava\tseu lugar\tao\tsol. E\tde\ttudo\to\tque\taconteceu\t—\to\tsexo, as\tdrogas,\tos\tconflitos\te\tos\tdramas\t—\tquando\tum produtor\tapostou\t(certo!)"
          },
          "metadata": {}
        },
        {
          "output_type": "display_data",
          "data": {
            "text/plain": [
              "<IPython.core.display.Markdown object>"
            ],
            "text/markdown": "### Página 430"
          },
          "metadata": {}
        },
        {
          "output_type": "display_data",
          "data": {
            "text/plain": [
              "<IPython.core.display.Markdown object>"
            ],
            "text/markdown": "Viva\ta\tvagina\t-\tTrecho\tgratuito Brochmann,\tNina 9788554510497 48\tpáginas Compre\tagora\te\tleia Um\tconvite\tpara\tconhecer\tseu\tcorpo\tmelhor:\tneste trecho\texclusivo\tem\te-book\tdo\tlivro\tViva\ta\tvagina, você\tirá\tcomeçar\ta\tentender\tum\tpouco\tmelhor\to aparelho\tsexual\tfeminino. Descubra\ta\tlinguagem divertida\te\tinformativa\tde\tNina\tBrochmann\te\tEllen Støkken\tDahl,\tduas\testudantes\tde\tmedicina\tque\tse uniram\tpara\tdesmistificar\te\tesclarecer\ttodos\tos mistérios\te\tmal\tentendidos\tque\tafetam\ta\tsaúde\te bem\testar\tdas\tmulheres."
          },
          "metadata": {}
        },
        {
          "output_type": "display_data",
          "data": {
            "text/plain": [
              "<IPython.core.display.Markdown object>"
            ],
            "text/markdown": "### Página 431"
          },
          "metadata": {}
        },
        {
          "output_type": "display_data",
          "data": {
            "text/plain": [
              "<IPython.core.display.Markdown object>"
            ],
            "text/markdown": "A\tmulher\tentre\tnós\t-\tTrecho\tgratuito Hendricks,\tGreer 9788554511609 44\tpáginas Compre\tagora\te\tleia Neste\ttrecho\tgratuito,\texclusivo\tem\te-book, conheça\tA\tmulher\tentre\tnós\t—\tconsiderado\to melhor\tthriller\tdoméstico\tdesde\tGarota exemplar.Quando\tvocê\tler\teste\tlivro,\tvai\tfazer várias\tsuposições."
          },
          "metadata": {}
        },
        {
          "output_type": "display_data",
          "data": {
            "text/plain": [
              "<IPython.core.display.Markdown object>"
            ],
            "text/markdown": "### Página 432"
          },
          "metadata": {}
        },
        {
          "output_type": "display_data",
          "data": {
            "text/plain": [
              "<IPython.core.display.Markdown object>"
            ],
            "text/markdown": "suposições.Prepare-se\tpara\ta\tleitura\tde\tsua vida.\"Surpreendente. — Publishers\tWeekly\"Se\tprepare,\tesse\té\tum\tlivro\tque você\tnão\tvai\tconseguir\tparar\tde\tler.\""
          },
          "metadata": {}
        },
        {
          "output_type": "display_data",
          "data": {
            "text/plain": [
              "<IPython.core.display.Markdown object>"
            ],
            "text/markdown": "### Página 433"
          },
          "metadata": {}
        },
        {
          "output_type": "display_data",
          "data": {
            "text/plain": [
              "<IPython.core.display.Markdown object>"
            ],
            "text/markdown": "Um\tbeijo\tselvagem Day,\tSylvia 9788580869774 61\tpáginas Compre\tagora\te\tleia Novela\tgratuita\tda\tsérie\tRenegade\tAngels,\tde Sylvia\tDay,\tautora\tbest-seller\tdo\tNew\tYork\tTimes\te da\tVeja\te\tque\tjá\tvendeu\tmais\tde\t12\tmilhões\tde exemplares. O\tvampiro\tRaze\tperdeu\tsuas\tasas\tpor ser\tum\tgrande\tsedutor. E\té\to\túnico\tdos\tCaídos\tque nunca\tencontrou\tuma\tparceira."
          },
          "metadata": {}
        },
        {
          "output_type": "display_data",
          "data": {
            "text/plain": [
              "<IPython.core.display.Markdown object>"
            ],
            "text/markdown": "### Página 434"
          },
          "metadata": {}
        },
        {
          "output_type": "display_data",
          "data": {
            "text/plain": [
              "<IPython.core.display.Markdown object>"
            ],
            "text/markdown": "diferenças\tque\texistem\tentre\teles?"
          },
          "metadata": {}
        },
        {
          "output_type": "display_data",
          "data": {
            "text/plain": [
              "<IPython.core.display.Markdown object>"
            ],
            "text/markdown": "### Página 435"
          },
          "metadata": {}
        },
        {
          "output_type": "display_data",
          "data": {
            "text/plain": [
              "<IPython.core.display.Markdown object>"
            ],
            "text/markdown": "Despertar\t-\tTrecho\tantecipado\texclusivo Lane,\tNina 9788554510770 44\tpáginas Compre\tagora\te\tleia Fã\tde\tromances\thot? Conheça\to\tprimeiro\tvolume da\tsérie\tEspiral\tdo\tDesejo,\tde\tNina\tLane,\tneste trecho\tantecipado\texclusivo!Um\tcasamento baseado\tno\tamor,\tno\tdesejo\te\tna\tconfiança. Conhecedor\tdos\tsegredos\tmais\tobscuros\tda esposa,\tDean\ta\tpossui\tpor\tcompleto\t—\thoje,"
          },
          "metadata": {}
        },
        {
          "output_type": "display_data",
          "data": {
            "text/plain": [
              "<IPython.core.display.Markdown object>"
            ],
            "text/markdown": "### Página 436"
          },
          "metadata": {}
        },
        {
          "output_type": "display_data",
          "data": {
            "text/plain": [
              "<IPython.core.display.Markdown object>"
            ],
            "text/markdown": "Mas\to\tcasamento aparentemente\tperfeito\tdos\tdois\té\tabalado\tquando Olivia\tdescobre\tuma\tfaceta\taté\tentão\tdesconhecida do\tpassado\tdo\tmarido. Será\tque\ta\tforça\tdos sentimentos\tque\teles\ttêm\tum\tpelo\toutro\tserá\tcapaz de\tprevalecer\tsobre\ta\tdor\tda\tdecepção?Este\te- book\tgratuito\tcontém\tos\tprimeiros\tcapítulos\tde Despertar,\to\tprimeiro\tvolume\tde\tuma\tsérie\tsexy\te apaixonante\tque\tvai\tmexer\tcom\tsuas\temoções mais\tprofundas."
          },
          "metadata": {}
        },
        {
          "output_type": "display_data",
          "data": {
            "text/plain": [
              "<IPython.core.display.Markdown object>"
            ],
            "text/markdown": "## 🔍 Similaridade semântica: *0.9986*"
          },
          "metadata": {}
        },
        {
          "output_type": "display_data",
          "data": {
            "text/plain": [
              "<Figure size 600x100 with 1 Axes>"
            ],
            "image/png": "[encoded data removed]"
          },
          "metadata": {}
        },
        {
          "output_type": "display_data",
          "data": {
            "text/plain": [
              "<IPython.core.display.Javascript object>"
            ],
            "application/javascript": [
              "\n",
              "    async function download(id, filename, size) {\n",
              "      if (!google.colab.kernel.accessAllowed) {\n",
              "        return;\n",
              "      }\n",
              "      const div = document.createElement('div');\n",
              "      const label = document.createElement('label');\n",
              "      label.textContent = `Downloading \"${filename}\": `;\n",
              "      div.appendChild(label);\n",
              "      const progress = document.createElement('progress');\n",
              "      progress.max = size;\n",
              "      div.appendChild(progress);\n",
              "      document.body.appendChild(div);\n",
              "\n",
              "      const buffers = [];\n",
              "      let downloaded = 0;\n",
              "\n",
              "      const channel = await google.colab.kernel.comms.open(id);\n",
              "      // Send a message to notify the kernel that we're ready.\n",
              "      channel.send({})\n",
              "\n",
              "      for await (const message of channel.messages) {\n",
              "        // Send a message to notify the kernel that we're ready.\n",
              "        channel.send({})\n",
              "        if (message.buffers) {\n",
              "          for (const buffer of message.buffers) {\n",
              "            buffers.push(buffer);\n",
              "            downloaded += buffer.byteLength;\n",
              "            progress.value = downloaded;\n",
              "          }\n",
              "        }\n",
              "      }\n",
              "      const blob = new Blob(buffers, {type: 'application/binary'});\n",
              "      const a = document.createElement('a');\n",
              "      a.href = window.URL.createObjectURL(blob);\n",
              "      a.download = filename;\n",
              "      div.appendChild(a);\n",
              "      a.click();\n",
              "      div.remove();\n",
              "    }\n",
              "  "
            ]
          },
          "metadata": {}
        },
        {
          "output_type": "display_data",
          "data": {
            "text/plain": [
              "<IPython.core.display.Javascript object>"
            ],
            "application/javascript": [
              "download(\"download_606d7091-9a1a-4c62-8503-a4c9856125b4\", \"resumo_formatado.docx\", 512066)"
            ]
          },
          "metadata": {}
        }
      ],
      "source": [
        "# Instalação de bibliotecas (executar uma vez no Colab)\n",
        "!pip install -q spacy PyPDF2 sumy ipywidgets langdetect python-docx pymupdf\n",
        "!python -m spacy download pt_core_news_md\n",
        "!python -m spacy download en_core_web_md\n",
        "\n",
        "# Instalar recursos do NLTK para Sumy\n",
        "import nltk\n",
        "nltk.download('punkt')\n",
        "nltk.download('punkt_tab')\n",
        "\n",
        "# Imports\n",
        "import PyPDF2\n",
        "import spacy\n",
        "import pandas as pd\n",
        "import matplotlib.pyplot as plt\n",
        "import seaborn as sns\n",
        "import gc\n",
        "import re\n",
        "import fitz  # PyMuPDF\n",
        "from sumy.parsers.plaintext import PlaintextParser\n",
        "from sumy.nlp.tokenizers import Tokenizer\n",
        "from sumy.summarizers.lsa import LsaSummarizer\n",
        "from google.colab import files\n",
        "from io import BytesIO\n",
        "import ipywidgets as widgets\n",
        "from IPython.display import display, Markdown\n",
        "from langdetect import detect\n",
        "from docx import Document\n",
        "from docx.shared import Pt, Inches\n",
        "from docx.enum.text import WD_ALIGN_PARAGRAPH\n",
        "from docx.shared import Inches\n",
        "from docx.image.exceptions import UnrecognizedImageError\n",
        "import os\n",
        "\n",
        "# Liberar memória\n",
        "gc.collect()\n",
        "\n",
        "# Função para detectar idioma e carregar modelo adequado\n",
        "def load_spacy_model(text):\n",
        "    lang = detect(text)\n",
        "    if lang == 'pt':\n",
        "        return spacy.load(\"pt_core_news_md\"), \"portuguese\"\n",
        "    elif lang == 'en':\n",
        "        return spacy.load(\"en_core_web_md\"), \"english\"\n",
        "    else:\n",
        "        raise ValueError(f\"Idioma não suportado: {lang}\")\n",
        "\n",
        "# Função para upload de arquivo PDF\n",
        "def upload_pdf():\n",
        "    uploaded = files.upload()\n",
        "    for filename in uploaded.keys():\n",
        "        return filename, BytesIO(uploaded[filename])\n",
        "\n",
        "# Função para extrair texto de PDF\n",
        "def extract_text_from_pdf(pdf_file):\n",
        "    try:\n",
        "        reader = PyPDF2.PdfReader(pdf_file)\n",
        "        text = \"\"\n",
        "        for page in reader.pages:\n",
        "            page_text = page.extract_text()\n",
        "            if page_text:\n",
        "                text += page_text + \"\\f\"  # marcador de página\n",
        "        return text.strip()\n",
        "    except Exception as e:\n",
        "        print(\"Erro ao ler o PDF:\", e)\n",
        "        return \"\"\n",
        "\n",
        "# Ajustar quebras de linha\n",
        "def ajusta_quebra_linhas(text):\n",
        "    text = re.sub(r'(?<!\\.)\\n', ' ', text)\n",
        "    return text\n",
        "\n",
        "# Sumarização semântica por página usando Sumy\n",
        "def summarize_per_page(text, language_code, percentage):\n",
        "    pages = text.split(\"\\f\")\n",
        "    summarized_pages = []\n",
        "    for page in pages:\n",
        "        parser = PlaintextParser.from_string(page.strip(), Tokenizer(language_code))\n",
        "        sentences = list(parser.document.sentences)\n",
        "        num_sentences = max(1, int(len(sentences) * percentage / 100))\n",
        "        summarizer = LsaSummarizer()\n",
        "        summary = summarizer(parser.document, num_sentences)\n",
        "        summarized_pages.append(\" \".join(str(sentence) for sentence in summary))\n",
        "    return summarized_pages\n",
        "\n",
        "# Extração de imagens por página com PyMuPDF\n",
        "def extract_images_per_page(pdf_filename):\n",
        "    images_by_page = {}\n",
        "    doc = fitz.open(pdf_filename)\n",
        "    for i, page in enumerate(doc, 1):\n",
        "        images = []\n",
        "        for img_index, img in enumerate(page.get_images(full=True)):\n",
        "            xref = img[0]\n",
        "            base_image = doc.extract_image(xref)\n",
        "            img_bytes = base_image[\"image\"]\n",
        "            image_path = f\"page_{i}img{img_index}.png\"\n",
        "            with open(image_path, \"wb\") as f:\n",
        "                f.write(img_bytes)\n",
        "            images.append(image_path)\n",
        "        images_by_page[i] = images\n",
        "    return images_by_page\n",
        "\n",
        "# Similaridade semântica com spaCy\n",
        "def analyze_semantics(original_text, summarized_text, model):\n",
        "    doc_original = model(original_text)\n",
        "    doc_summary = model(summarized_text)\n",
        "    return doc_original.similarity(doc_summary)\n",
        "\n",
        "# Criar documento Word formatado por página com imagens\n",
        "def create_word_summary(paged_summaries, images_by_page):\n",
        "    document = Document()\n",
        "    style = document.styles['Normal']\n",
        "    font = style.font\n",
        "    font.name = 'Times New Roman'\n",
        "    font.size = Pt(12)\n",
        "\n",
        "    for i, page_summary in enumerate(paged_summaries, 1):\n",
        "        document.add_heading(f\"Página {i}\", level=1)\n",
        "        p = document.add_paragraph(page_summary.strip())\n",
        "        p.paragraph_format.first_line_indent = Pt(28.35)\n",
        "        p.paragraph_format.alignment = WD_ALIGN_PARAGRAPH.JUSTIFY\n",
        "        for image_path in images_by_page.get(i, []):\n",
        "            try:\n",
        "                document.add_picture(image_path, width=Inches(5.5))\n",
        "            except UnrecognizedImageError:\n",
        "                print(f\"Skipping unrecognized image: {image_path}\")\n",
        "                continue\n",
        "\n",
        "\n",
        "    path = \"resumo_formatado.docx\"\n",
        "    document.save(path)\n",
        "    files.download(path)\n",
        "\n",
        "    # Limpar imagens temporárias\n",
        "    for imgs in images_by_page.values():\n",
        "        for img in imgs:\n",
        "            if os.path.exists(img):\n",
        "                os.remove(img)\n",
        "\n",
        "# Interface interativa com slider\n",
        "slider = widgets.IntSlider(value=50, min=10, max=100, step=10, description='Resumo %:')\n",
        "display(slider)\n",
        "\n",
        "# ---------- EXECUÇÃO -----------\n",
        "print(\"\\U0001F4C4 Faça upload do seu arquivo PDF:\")\n",
        "pdf_filename, pdf_file = upload_pdf()\n",
        "\n",
        "# Extração do texto\n",
        "raw_text = extract_text_from_pdf(pdf_file)\n",
        "clean_text = ajusta_quebra_linhas(raw_text)\n",
        "\n",
        "# Detectar idioma e carregar modelo/lógica\n",
        "nlp, language_code = load_spacy_model(clean_text)\n",
        "\n",
        "# Gerar resumo por página com percentual do slider\n",
        "percentage = slider.value\n",
        "paged_summaries = summarize_per_page(clean_text, language_code, percentage)\n",
        "summary = \" \".join(paged_summaries)\n",
        "\n",
        "# Extrair imagens\n",
        "images_by_page = extract_images_per_page(pdf_filename)\n",
        "\n",
        "# Calcular similaridade\n",
        "similarity = analyze_semantics(clean_text, summary, nlp)\n",
        "\n",
        "# Exibir resultados\n",
        "display(Markdown(\"## ✍️ RESUMO DO TEXTO:\"))\n",
        "for i, pg_sum in enumerate(paged_summaries, 1):\n",
        "    display(Markdown(f\"### Página {i}\"))\n",
        "    display(Markdown(pg_sum))\n",
        "display(Markdown(f\"## 🔍 Similaridade semântica: *{similarity:.4f}*\"))\n",
        "\n",
        "# Visualização com gráfico\n",
        "plt.figure(figsize=(6,1))\n",
        "plt.barh([\"Similaridade\"], [similarity])\n",
        "plt.xlim(0,1)\n",
        "plt.title(\"Similaridade entre texto completo e resumo\")\n",
        "plt.show()\n",
        "\n",
        "# Exportar resumo como .docx formatado\n",
        "create_word_summary(paged_summaries, images_by_page)"
      ]
    }
  ]
}