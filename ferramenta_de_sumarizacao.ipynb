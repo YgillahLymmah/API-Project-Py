{
  "nbformat": 4,
  "nbformat_minor": 0,
  "metadata": {
    "colab": {
      "provenance": [],
      "authorship_tag": "ABX9TyMbUBgepURUiqqjAMTnsL4s",
      "include_colab_link": true
    },
    "kernelspec": {
      "name": "python3",
      "display_name": "Python 3"
    },
    "language_info": {
      "name": "python"
    },
    "widgets": {
      "application/vnd.jupyter.widget-state+json": {
        "f715f40b9ee0491fbe50a7ea9f1d2e50": {
          "model_module": "@jupyter-widgets/controls",
          "model_name": "IntSliderModel",
          "model_module_version": "1.5.0",
          "state": {
            "_dom_classes": [],
            "_model_module": "@jupyter-widgets/controls",
            "_model_module_version": "1.5.0",
            "_model_name": "IntSliderModel",
            "_view_count": null,
            "_view_module": "@jupyter-widgets/controls",
            "_view_module_version": "1.5.0",
            "_view_name": "IntSliderView",
            "continuous_update": true,
            "description": "Resumo %:",
            "description_tooltip": null,
            "disabled": false,
            "layout": "IPY_MODEL_f1f66cb3858b47569db1e5c36b033369",
            "max": 100,
            "min": 10,
            "orientation": "horizontal",
            "readout": true,
            "readout_format": "d",
            "step": 10,
            "style": "IPY_MODEL_2b6a2d7f446e428aa3e0fb2e23376c2f",
            "value": 50
          }
        },
        "f1f66cb3858b47569db1e5c36b033369": {
          "model_module": "@jupyter-widgets/base",
          "model_name": "LayoutModel",
          "model_module_version": "1.2.0",
          "state": {
            "_model_module": "@jupyter-widgets/base",
            "_model_module_version": "1.2.0",
            "_model_name": "LayoutModel",
            "_view_count": null,
            "_view_module": "@jupyter-widgets/base",
            "_view_module_version": "1.2.0",
            "_view_name": "LayoutView",
            "align_content": null,
            "align_items": null,
            "align_self": null,
            "border": null,
            "bottom": null,
            "display": null,
            "flex": null,
            "flex_flow": null,
            "grid_area": null,
            "grid_auto_columns": null,
            "grid_auto_flow": null,
            "grid_auto_rows": null,
            "grid_column": null,
            "grid_gap": null,
            "grid_row": null,
            "grid_template_areas": null,
            "grid_template_columns": null,
            "grid_template_rows": null,
            "height": null,
            "justify_content": null,
            "justify_items": null,
            "left": null,
            "margin": null,
            "max_height": null,
            "max_width": null,
            "min_height": null,
            "min_width": null,
            "object_fit": null,
            "object_position": null,
            "order": null,
            "overflow": null,
            "overflow_x": null,
            "overflow_y": null,
            "padding": null,
            "right": null,
            "top": null,
            "visibility": null,
            "width": null
          }
        },
        "2b6a2d7f446e428aa3e0fb2e23376c2f": {
          "model_module": "@jupyter-widgets/controls",
          "model_name": "SliderStyleModel",
          "model_module_version": "1.5.0",
          "state": {
            "_model_module": "@jupyter-widgets/controls",
            "_model_module_version": "1.5.0",
            "_model_name": "SliderStyleModel",
            "_view_count": null,
            "_view_module": "@jupyter-widgets/base",
            "_view_module_version": "1.2.0",
            "_view_name": "StyleView",
            "description_width": "",
            "handle_color": null
          }
        }
      }
    }
  },
  "cells": [
    {
      "cell_type": "markdown",
      "metadata": {
        "id": "view-in-github",
        "colab_type": "text"
      },
      "source": [
        "<a href=\"https://colab.research.google.com/github/YgillahLymmah/API-Project-Py/blob/main/ferramenta_de_sumarizacao.ipynb\" target=\"_parent\"><img src=\"https://colab.research.google.com/assets/colab-badge.svg\" alt=\"Open In Colab\"/></a>"
      ]
    },
    {
      "cell_type": "code",
      "execution_count": 1,
      "metadata": {
        "colab": {
          "base_uri": "https://localhost:8080/",
          "height": 1000,
          "referenced_widgets": [
            "f715f40b9ee0491fbe50a7ea9f1d2e50",
            "f1f66cb3858b47569db1e5c36b033369",
            "2b6a2d7f446e428aa3e0fb2e23376c2f"
          ]
        },
        "id": "1vw2kF8csshN",
        "outputId": "2138069c-3dae-4586-8748-8e8c92a6ade3"
      },
      "outputs": [
        {
          "output_type": "stream",
          "name": "stdout",
          "text": [
            "\u001b[?25l     \u001b[90m━━━━━━━━━━━━━━━━━━━━━━━━━━━━━━━━━━━━━━━━\u001b[0m \u001b[32m0.0/981.5 kB\u001b[0m \u001b[31m?\u001b[0m eta \u001b[36m-:--:--\u001b[0m\r\u001b[2K     \u001b[91m━━━━━━━━━━\u001b[0m\u001b[90m╺\u001b[0m\u001b[90m━━━━━━━━━━━━━━━━━━━━━━━━━━━━\u001b[0m \u001b[32m256.0/981.5 kB\u001b[0m \u001b[31m7.5 MB/s\u001b[0m eta \u001b[36m0:00:01\u001b[0m\r\u001b[2K     \u001b[90m━━━━━━━━━━━━━━━━━━━━━━━━━━━━━━━━━━━━━━\u001b[0m \u001b[32m981.5/981.5 kB\u001b[0m \u001b[31m13.3 MB/s\u001b[0m eta \u001b[36m0:00:00\u001b[0m\n",
            "\u001b[?25h  Preparing metadata (setup.py) ... \u001b[?25l\u001b[?25hdone\n",
            "  Preparing metadata (setup.py) ... \u001b[?25l\u001b[?25hdone\n",
            "  Preparing metadata (setup.py) ... \u001b[?25l\u001b[?25hdone\n",
            "\u001b[2K   \u001b[90m━━━━━━━━━━━━━━━━━━━━━━━━━━━━━━━━━━━━━━━━\u001b[0m \u001b[32m232.6/232.6 kB\u001b[0m \u001b[31m10.8 MB/s\u001b[0m eta \u001b[36m0:00:00\u001b[0m\n",
            "\u001b[2K   \u001b[90m━━━━━━━━━━━━━━━━━━━━━━━━━━━━━━━━━━━━━━━━\u001b[0m \u001b[32m97.3/97.3 kB\u001b[0m \u001b[31m4.0 MB/s\u001b[0m eta \u001b[36m0:00:00\u001b[0m\n",
            "\u001b[2K   \u001b[90m━━━━━━━━━━━━━━━━━━━━━━━━━━━━━━━━━━━━━━━━\u001b[0m \u001b[32m253.0/253.0 kB\u001b[0m \u001b[31m10.5 MB/s\u001b[0m eta \u001b[36m0:00:00\u001b[0m\n",
            "\u001b[2K   \u001b[90m━━━━━━━━━━━━━━━━━━━━━━━━━━━━━━━━━━━━━━━━\u001b[0m \u001b[32m24.1/24.1 MB\u001b[0m \u001b[31m51.7 MB/s\u001b[0m eta \u001b[36m0:00:00\u001b[0m\n",
            "\u001b[2K   \u001b[90m━━━━━━━━━━━━━━━━━━━━━━━━━━━━━━━━━━━━━━━━\u001b[0m \u001b[32m6.3/6.3 MB\u001b[0m \u001b[31m68.2 MB/s\u001b[0m eta \u001b[36m0:00:00\u001b[0m\n",
            "\u001b[2K   \u001b[90m━━━━━━━━━━━━━━━━━━━━━━━━━━━━━━━━━━━━━━━━\u001b[0m \u001b[32m1.6/1.6 MB\u001b[0m \u001b[31m34.7 MB/s\u001b[0m eta \u001b[36m0:00:00\u001b[0m\n",
            "\u001b[?25h  Building wheel for langdetect (setup.py) ... \u001b[?25l\u001b[?25hdone\n",
            "  Building wheel for breadability (setup.py) ... \u001b[?25l\u001b[?25hdone\n",
            "  Building wheel for docopt (setup.py) ... \u001b[?25l\u001b[?25hdone\n",
            "Collecting pt-core-news-md==3.8.0\n",
            "  Downloading https://github.com/explosion/spacy-models/releases/download/pt_core_news_md-3.8.0/pt_core_news_md-3.8.0-py3-none-any.whl (42.4 MB)\n",
            "\u001b[2K     \u001b[90m━━━━━━━━━━━━━━━━━━━━━━━━━━━━━━━━━━━━━━━━\u001b[0m \u001b[32m42.4/42.4 MB\u001b[0m \u001b[31m18.4 MB/s\u001b[0m eta \u001b[36m0:00:00\u001b[0m\n",
            "\u001b[?25hInstalling collected packages: pt-core-news-md\n",
            "Successfully installed pt-core-news-md-3.8.0\n",
            "\u001b[38;5;2m✔ Download and installation successful\u001b[0m\n",
            "You can now load the package via spacy.load('pt_core_news_md')\n",
            "\u001b[38;5;3m⚠ Restart to reload dependencies\u001b[0m\n",
            "If you are in a Jupyter or Colab notebook, you may need to restart Python in\n",
            "order to load all the package's dependencies. You can do this by selecting the\n",
            "'Restart kernel' or 'Restart runtime' option.\n",
            "Collecting en-core-web-md==3.8.0\n",
            "  Downloading https://github.com/explosion/spacy-models/releases/download/en_core_web_md-3.8.0/en_core_web_md-3.8.0-py3-none-any.whl (33.5 MB)\n",
            "\u001b[2K     \u001b[90m━━━━━━━━━━━━━━━━━━━━━━━━━━━━━━━━━━━━━━━━\u001b[0m \u001b[32m33.5/33.5 MB\u001b[0m \u001b[31m38.8 MB/s\u001b[0m eta \u001b[36m0:00:00\u001b[0m\n",
            "\u001b[?25hInstalling collected packages: en-core-web-md\n",
            "Successfully installed en-core-web-md-3.8.0\n",
            "\u001b[38;5;2m✔ Download and installation successful\u001b[0m\n",
            "You can now load the package via spacy.load('en_core_web_md')\n",
            "\u001b[38;5;3m⚠ Restart to reload dependencies\u001b[0m\n",
            "If you are in a Jupyter or Colab notebook, you may need to restart Python in\n",
            "order to load all the package's dependencies. You can do this by selecting the\n",
            "'Restart kernel' or 'Restart runtime' option.\n"
          ]
        },
        {
          "output_type": "stream",
          "name": "stderr",
          "text": [
            "[nltk_data] Downloading package punkt to /root/nltk_data...\n",
            "[nltk_data]   Unzipping tokenizers/punkt.zip.\n",
            "[nltk_data] Downloading package punkt_tab to /root/nltk_data...\n",
            "[nltk_data]   Unzipping tokenizers/punkt_tab.zip.\n"
          ]
        },
        {
          "output_type": "display_data",
          "data": {
            "text/plain": [
              "IntSlider(value=50, description='Resumo %:', min=10, step=10)"
            ],
            "application/vnd.jupyter.widget-view+json": {
              "version_major": 2,
              "version_minor": 0,
              "model_id": "f715f40b9ee0491fbe50a7ea9f1d2e50"
            }
          },
          "metadata": {}
        },
        {
          "output_type": "stream",
          "name": "stdout",
          "text": [
            "📄 Faça upload do seu arquivo PDF:\n"
          ]
        },
        {
          "output_type": "display_data",
          "data": {
            "text/plain": [
              "<IPython.core.display.HTML object>"
            ],
            "text/html": [
              "\n",
              "     <input type=\"file\" id=\"files-4c7236cc-72b0-4b2f-9b0a-cad0ac585ba4\" name=\"files[]\" multiple disabled\n",
              "        style=\"border:none\" />\n",
              "     <output id=\"result-4c7236cc-72b0-4b2f-9b0a-cad0ac585ba4\">\n",
              "      Upload widget is only available when the cell has been executed in the\n",
              "      current browser session. Please rerun this cell to enable.\n",
              "      </output>\n",
              "      <script>// Copyright 2017 Google LLC\n",
              "//\n",
              "// Licensed under the Apache License, Version 2.0 (the \"License\");\n",
              "// you may not use this file except in compliance with the License.\n",
              "// You may obtain a copy of the License at\n",
              "//\n",
              "//      http://www.apache.org/licenses/LICENSE-2.0\n",
              "//\n",
              "// Unless required by applicable law or agreed to in writing, software\n",
              "// distributed under the License is distributed on an \"AS IS\" BASIS,\n",
              "// WITHOUT WARRANTIES OR CONDITIONS OF ANY KIND, either express or implied.\n",
              "// See the License for the specific language governing permissions and\n",
              "// limitations under the License.\n",
              "\n",
              "/**\n",
              " * @fileoverview Helpers for google.colab Python module.\n",
              " */\n",
              "(function(scope) {\n",
              "function span(text, styleAttributes = {}) {\n",
              "  const element = document.createElement('span');\n",
              "  element.textContent = text;\n",
              "  for (const key of Object.keys(styleAttributes)) {\n",
              "    element.style[key] = styleAttributes[key];\n",
              "  }\n",
              "  return element;\n",
              "}\n",
              "\n",
              "// Max number of bytes which will be uploaded at a time.\n",
              "const MAX_PAYLOAD_SIZE = 100 * 1024;\n",
              "\n",
              "function _uploadFiles(inputId, outputId) {\n",
              "  const steps = uploadFilesStep(inputId, outputId);\n",
              "  const outputElement = document.getElementById(outputId);\n",
              "  // Cache steps on the outputElement to make it available for the next call\n",
              "  // to uploadFilesContinue from Python.\n",
              "  outputElement.steps = steps;\n",
              "\n",
              "  return _uploadFilesContinue(outputId);\n",
              "}\n",
              "\n",
              "// This is roughly an async generator (not supported in the browser yet),\n",
              "// where there are multiple asynchronous steps and the Python side is going\n",
              "// to poll for completion of each step.\n",
              "// This uses a Promise to block the python side on completion of each step,\n",
              "// then passes the result of the previous step as the input to the next step.\n",
              "function _uploadFilesContinue(outputId) {\n",
              "  const outputElement = document.getElementById(outputId);\n",
              "  const steps = outputElement.steps;\n",
              "\n",
              "  const next = steps.next(outputElement.lastPromiseValue);\n",
              "  return Promise.resolve(next.value.promise).then((value) => {\n",
              "    // Cache the last promise value to make it available to the next\n",
              "    // step of the generator.\n",
              "    outputElement.lastPromiseValue = value;\n",
              "    return next.value.response;\n",
              "  });\n",
              "}\n",
              "\n",
              "/**\n",
              " * Generator function which is called between each async step of the upload\n",
              " * process.\n",
              " * @param {string} inputId Element ID of the input file picker element.\n",
              " * @param {string} outputId Element ID of the output display.\n",
              " * @return {!Iterable<!Object>} Iterable of next steps.\n",
              " */\n",
              "function* uploadFilesStep(inputId, outputId) {\n",
              "  const inputElement = document.getElementById(inputId);\n",
              "  inputElement.disabled = false;\n",
              "\n",
              "  const outputElement = document.getElementById(outputId);\n",
              "  outputElement.innerHTML = '';\n",
              "\n",
              "  const pickedPromise = new Promise((resolve) => {\n",
              "    inputElement.addEventListener('change', (e) => {\n",
              "      resolve(e.target.files);\n",
              "    });\n",
              "  });\n",
              "\n",
              "  const cancel = document.createElement('button');\n",
              "  inputElement.parentElement.appendChild(cancel);\n",
              "  cancel.textContent = 'Cancel upload';\n",
              "  const cancelPromise = new Promise((resolve) => {\n",
              "    cancel.onclick = () => {\n",
              "      resolve(null);\n",
              "    };\n",
              "  });\n",
              "\n",
              "  // Wait for the user to pick the files.\n",
              "  const files = yield {\n",
              "    promise: Promise.race([pickedPromise, cancelPromise]),\n",
              "    response: {\n",
              "      action: 'starting',\n",
              "    }\n",
              "  };\n",
              "\n",
              "  cancel.remove();\n",
              "\n",
              "  // Disable the input element since further picks are not allowed.\n",
              "  inputElement.disabled = true;\n",
              "\n",
              "  if (!files) {\n",
              "    return {\n",
              "      response: {\n",
              "        action: 'complete',\n",
              "      }\n",
              "    };\n",
              "  }\n",
              "\n",
              "  for (const file of files) {\n",
              "    const li = document.createElement('li');\n",
              "    li.append(span(file.name, {fontWeight: 'bold'}));\n",
              "    li.append(span(\n",
              "        `(${file.type || 'n/a'}) - ${file.size} bytes, ` +\n",
              "        `last modified: ${\n",
              "            file.lastModifiedDate ? file.lastModifiedDate.toLocaleDateString() :\n",
              "                                    'n/a'} - `));\n",
              "    const percent = span('0% done');\n",
              "    li.appendChild(percent);\n",
              "\n",
              "    outputElement.appendChild(li);\n",
              "\n",
              "    const fileDataPromise = new Promise((resolve) => {\n",
              "      const reader = new FileReader();\n",
              "      reader.onload = (e) => {\n",
              "        resolve(e.target.result);\n",
              "      };\n",
              "      reader.readAsArrayBuffer(file);\n",
              "    });\n",
              "    // Wait for the data to be ready.\n",
              "    let fileData = yield {\n",
              "      promise: fileDataPromise,\n",
              "      response: {\n",
              "        action: 'continue',\n",
              "      }\n",
              "    };\n",
              "\n",
              "    // Use a chunked sending to avoid message size limits. See b/62115660.\n",
              "    let position = 0;\n",
              "    do {\n",
              "      const length = Math.min(fileData.byteLength - position, MAX_PAYLOAD_SIZE);\n",
              "      const chunk = new Uint8Array(fileData, position, length);\n",
              "      position += length;\n",
              "\n",
              "      const base64 = btoa(String.fromCharCode.apply(null, chunk));\n",
              "      yield {\n",
              "        response: {\n",
              "          action: 'append',\n",
              "          file: file.name,\n",
              "          data: base64,\n",
              "        },\n",
              "      };\n",
              "\n",
              "      let percentDone = fileData.byteLength === 0 ?\n",
              "          100 :\n",
              "          Math.round((position / fileData.byteLength) * 100);\n",
              "      percent.textContent = `${percentDone}% done`;\n",
              "\n",
              "    } while (position < fileData.byteLength);\n",
              "  }\n",
              "\n",
              "  // All done.\n",
              "  yield {\n",
              "    response: {\n",
              "      action: 'complete',\n",
              "    }\n",
              "  };\n",
              "}\n",
              "\n",
              "scope.google = scope.google || {};\n",
              "scope.google.colab = scope.google.colab || {};\n",
              "scope.google.colab._files = {\n",
              "  _uploadFiles,\n",
              "  _uploadFilesContinue,\n",
              "};\n",
              "})(self);\n",
              "</script> "
            ]
          },
          "metadata": {}
        },
        {
          "output_type": "stream",
          "name": "stdout",
          "text": [
            "Saving Tezer, Philp & Suri (2024).pdf to Tezer, Philp & Suri (2024).pdf\n"
          ]
        },
        {
          "output_type": "display_data",
          "data": {
            "text/plain": [
              "<IPython.core.display.Markdown object>"
            ],
            "text/markdown": "## ✍️ RESUMO DO TEXTO:"
          },
          "metadata": {}
        },
        {
          "output_type": "display_data",
          "data": {
            "text/plain": [
              "<IPython.core.display.Markdown object>"
            ],
            "text/markdown": "### Página 1"
          },
          "metadata": {}
        },
        {
          "output_type": "display_data",
          "data": {
            "text/plain": [
              "<IPython.core.display.Markdown object>"
            ],
            "text/markdown": ":(0123456789)1 3h ttps://doi.org/10.1007/s11747-023-00991-x ORIGINAL EMPIRICAL RESEARCH The greenguard effect: When and why consumers react less negatively  following green product failures Ali Tezer1  · Matthew Philp2 · Anshu Suri3 Received: 3 June 2022 / Accepted: 14 November 2023  © Academy of Marketing Science 2023 Abstract This research explores consumer reactions following green product failures, identifying a novel benefit for companies selling environmentally friendly products. Keywords  Green pr oducts · Sustainability · Product failures · Corporate social responsibility · Prosocial behavior As climate change concerns intensify, the market has seen a  surge in green products, which include at least one attribute that is better for the environment than their conventional (i.e., non-sustainable) versions (Haws et al., 2014; Luchs  et al., 2010; Olsen et al., 2014). Importantly, consumer interactions with green products  extend beyond the purchase decision. For instance, recent studies indicate that consumers derive greater enjoyment from using green products compared to their conventional counterparts (Tezer & Bodur, 2020). While recent studies emphasize the need to better understand consumer interac-tions with green products at the consumption stage, less is known about how consumers react to green product fail-ures. Given that product failures lead to dissatisfaction, negative word-of-mouth (WOM), lower retention, and ulti-mately, diminished sales (e.g., Anderson, 1998; Anderson & Sullivan, 1993; Oliver, 1980), identifying the factors that influence these negative reactions is essential for companies, including those selling green products. For instance, consumers know that sharing negative WOM may help others avoid similar expe-riences and help society by deterring iniquitous companies  Kelly Haws served as Area Editor for this article. * Ali Tezer   ali.tezer@hec.ca  Matthe w Philp   m philp@torontomu.ca  Anshu Suri   anshu.sur i@ucd.ie 1 Marketing Department, HEC Montréal, 3000 chemin de la  Cô te-Sainte -Cat herine, Montreal, QC H3T 2A7, Canada 2 Ted Rogers School of Management, Toronto Metropolitan U niversity, 350 Victoria Street, Toronto, ON M5B 2K3,  Canada 3 Marketing Department, UCD Michael Smurfit Graduate Business Sc hool, Carysfort Ave, Blackrock, Co, Dublin,  Ireland/ Published online: 2 December 2023Journal of the Academy of Marketing Science (2024) 52:1513–1530"
          },
          "metadata": {}
        },
        {
          "output_type": "display_data",
          "data": {
            "text/plain": [
              "<IPython.core.display.Markdown object>"
            ],
            "text/markdown": "### Página 2"
          },
          "metadata": {}
        },
        {
          "output_type": "display_data",
          "data": {
            "text/plain": [
              "<IPython.core.display.Markdown object>"
            ],
            "text/markdown": "This means that when a green product fails, consumers could feel torn between wanting to help oth-ers avoid the purchase and supporting the green product. By investigating how consumers’ responses differ  between green and conventional product failures, we make several contributions to the literature. Most broadly, we pro-vide insights into how green products influence consumer behavior at the consumption stage. Our research highlights the greenguard effect as a novel benefit for com-panies offering green products. Specifically, we show that consumers perceive not   reacting negatively after a green (vs. conventional) prod-uct failure to be more prosocial, as reacting negatively to a green product failure may discourage other consumers from purchasing a product that otherwise benefits the environ-ment and society. These findings extend past literature on product failures, which has often highlighted that the proso-cial motive of helping other consumers drives consumers to react negatively following product failures (Grégoire et al., 2019; Hennig-Thurau et al., 2004). Instead, our findings sug-gest that in response to green product failures, the prosocial motive of supporting a product with environmental benefits drives consumers to suppress their negative reactions. Conceptual background Consumer responses to green products Although consumers are becoming more environmentally conscious (Grenier, 2019; Saad, 2017), a problem limit-ing the success of green products in the marketplace has been an intention-behavior gap. That is, consumers indi-cate high purchase intentions for green products but do not always end up buying them (Auger & Devinney, 2007; Carrington et al., 2014). While this prior work pro-vided valuable insights into consumer reactions to green products at the consumption stage, its scope is limited to positive consumption experiences. Therefore, how con - sumers would react if a green (vs. conventional) product fails to function as intended remains unanswered. For example, a feature breaks prematurely, or the product is simply not meeting overall expectations. Experiencing a product failure can be upsetting, and  past research has shown that consumers engage in certain behaviors to cope (Grégoire & Fisher, 2008). Therefore, reacting negatively to a product failure has prosocial associa-tions because it benefits not only the consumer who expe-rienced the failure by potentially receiving some redressal, but also other consumers by allowing them to make more informed decisions and society at large by discouraging exploitative brands from succeeding in the market.1514 Journal of the Academy of Marketing Science (2024) 52:1513–1530"
          },
          "metadata": {}
        },
        {
          "output_type": "display_data",
          "data": {
            "text/plain": [
              "<IPython.core.display.Markdown object>"
            ],
            "text/markdown": "### Página 3"
          },
          "metadata": {}
        },
        {
          "output_type": "display_data",
          "data": {
            "text/plain": [
              "<IPython.core.display.Markdown object>"
            ],
            "text/markdown": "Consistent with this prior work, consumers should feel the need to punish the brand and help other consumers following product failure, motivating negative reactions toward the brand or com-pany (e.g., demanding a refund, sharing negative reviews, etc.). However, contrary to prior research, we argue that reacting negatively following a green product failure, which would discourage other consumers from purchasing the product, is perceived as less of a prosocial act. Instead, we argue that consumers would perceive that not reacting negatively following a green product failure is more of a prosocial behavior, thus resulting in less negative reactions toward the failure of green (vs. conventional) products. We refer to this as the greenguard effect (see Fig. The proposed greenguard effect is supported by recent  research on green products and corporate social responsi-bility. Broadly, being prosocial and virtuous are positive qualities that help improve individuals’ self-image (Sher - man & Cohen, 2006; Steele, 1988). Green products, by definition, involve at least one attribute with environmen-tal benefits and inherently possess prosocial associations (Haws et al., 2014; Olsen et al., 2014; Tezer & Bodur, 2020). Furthermore, consumers who purchase and  use green products experience positive emotions due to these prosocial associations. For instance, Trudel et al. (2020) demonstrated that purchasing products with ethi- cal attributes can make consumers feel better about them-selves. Tezer and Bodur ( 2020) extended this idea to the  consumption phase and showed that consumers perceive themselves more valued members of society when using green (vs. conventional) products. If such prosocial asso-ciations drive purchases and increase experiences of green products, it is rational to assume that they also affect reac-tions to product failures. Specifically, if supporting green products fulfills prosocial goals and benefits society, then reacting negatively toward green products would contra-dict this, possibly harming society. Therefore, we predict that the greenguard effect would be more substantial among consumers with high environmental consciousness, whereas it would dissipate among those with low environmental con-sciousness."
          },
          "metadata": {}
        },
        {
          "output_type": "display_data",
          "data": {
            "text/plain": [
              "<IPython.core.display.Markdown object>"
            ],
            "text/markdown": "### Página 4"
          },
          "metadata": {}
        },
        {
          "output_type": "display_data",
          "data": {
            "text/plain": [
              "<IPython.core.display.Markdown object>"
            ],
            "text/markdown": "1 3H3 The g reenguard effect will be moderated by individual  differences in environmental consciousness, such that  the effect will persist among consumer with high envi-ronmental consciousness, but will dissipate among those with low environmental consciousness. While we predict that not reacting negatively following  a green product failure is driven by a prosocial motive, we do not suggest that it eliminates the prosocial motivation to help other consumers make better choices (Grégoire et al., 2019; Hennig-Thurau et al., 2004). Instead, we argue that these two prosocial motivations coexist in a state of ten-sion. Formally stated: H4  T he greenguard effect will be moderated by the salience  of the prosocial motive of helping others, such that the  effect will persist when the prosocial motive of helping others is not made salient but will dissipate when it is. Our theorizing for the greenguard effect suggests that  consumers are motivated to protect the products that were intentionally developed to have at least one attribute with environmental benefits. However, it is possible that the environmental benefits of a product could be an unintended consequence of a functional product enhancement (e.g., an improvement in a car’s engine to enhance its performance unexpectedly decreases the product’s environmental impact). This subtle difference is particularly relevant, as prior stud-ies indicated that consumers have higher purchase inten-tions for products that are made green unintentionally (vs. intentionally) (Newman et al., 2014). Inversely, when a product is made green unintentionally, consumers no longer assume that the attribute with environmental benefits was made at the expense of a functional attribute, resulting in higher pur - chase intentions. We predict, however, that while being unintentionally  green is beneficial at the purchase decision stage, it should no longer be beneficial at the consumption stage in the event of a product failure. Instead, we posit that consumers would not feel the need to protect unintentionally green products and brands, which would not be classified as environmen-tally conscious given that environmental benefits were not their primary concern. Study 1a-c provided experi-mental evidence for this primary hypothesis, replicating the greenguard effect across different green products, various product failures, multiple product categories, and several operationalizations of negative reactions against a company (H1). Study 2, extended showed that the greenguard effect stems from products being categorized as green rather than being influenced by varying levels of greenness (H1), while Study 3 demonstrated the role of prosocial perceptions in driving this effect with a consequential dependent variable (e.g., real choice) (H1 and H2). Study 4 showed that indi-vidual differences in environmental consciousness moderate the greenguard effect (H1 and H3). To accomplish this, we identified brands across multiple prod-uct categories that offered both a green and a conventional version of the same product on Amazon.com, and compared the proportion of negative ratings posted for each product."
          },
          "metadata": {}
        },
        {
          "output_type": "display_data",
          "data": {
            "text/plain": [
              "<IPython.core.display.Markdown object>"
            ],
            "text/markdown": "### Página 5"
          },
          "metadata": {}
        },
        {
          "output_type": "display_data",
          "data": {
            "text/plain": [
              "<IPython.core.display.Markdown object>"
            ],
            "text/markdown": "1 3Table  1  Me thod and results summary SDs are reported in parentheses *Higher values indicate more negative reactions to product failure (Study 1–5) except for Study 6, where higher values indicate a higher reluc- tance to share negative WOMStudy Product type Failure Environmen- tal conscious-nessMotive to help othersProsocial perceptionsNegative rating or review*Second chanceBrand for-givenessProduct rating Pilot study Conventional - 16.58%  (11.98%) Green 11.94%  (8.39%) 1 A Conventional Malfunction 4.72 (1.79) 2.46 (1.24) Green 4.17 (1.66) 2.94 (1.23) 1B Conventional Product  Failure5.14 (1.65) Green 4.56 (1.64) 1 C Conventional Product  Failure2.74 (2.18) Green 3.62 (2.54) 2 Conventional Failure 4.44 (1.69) Operational 3.72 (1.71) Green Attrib- ute CentralFailure 3.63 (1.65) Operational 3.97 (1.54) Green  Attribute PeripheralFailure 3.81 (1.57) Operational 3.76 (1.81) 3 Conventional Malfunction 3.29 (1.26) 21.8% Green 3.69 (1.60) 35.4% 4 Conventional Product  FailureLow (-1 SD) 5.34 High (+  1 SD) 6.18 Gr een Low (-1 SD) 5.62 High (+  1 SD) 4.47 5 Con ventional Product  FailureAbsent 3.02 (1.40) 4.98 (1.68) Present 3.16 (1.32) 4.82 (1.81) Green Absent 3.44 (1.33) 4.50 (1.65)Present 3.07 (1.34) 5.21 (1.56) 6 Conventional Product  Failure3.60 (1.46) 3.14 (1.53) Unintentional  Green3.67 (1.61) 3.21 (1.59) Intentional  Green4.25 (1.66) 4.02 (1.87) Web  Appendix  (Section “Concep-tual back-ground”)Conventional Product  Failure3.35 (3.07) No Failure 8.62 (1.39) Green Product  Failure4.38 (3.10) No Failure 8.32 (1.73)1517 Journal of the Academy of Marketing Science (2024) 52:1513–1530"
          },
          "metadata": {}
        },
        {
          "output_type": "display_data",
          "data": {
            "text/plain": [
              "<IPython.core.display.Markdown object>"
            ],
            "text/markdown": "### Página 6"
          },
          "metadata": {}
        },
        {
          "output_type": "display_data",
          "data": {
            "text/plain": [
              "<IPython.core.display.Markdown object>"
            ],
            "text/markdown": "1 3Method A research assistant blind to the objectives of this study  identified 50 product pairs on Amazon.com. We operationalized consumer reactions as the percentage  of negative ratings and defined negative ratings as those with one or two stars on Amazon based on the assumption that such ratings represent possible product failures and were provided in response to an unfavorable product experience 3. Although there may be certain instances where consumers may have given a low rating for a product due to an unre-lated negative experience (e.g., delay in the delivery, etc. ), the number of such instances should be similar for green and conventional products. If negative ratings captured instances of product failures and the failure rate is assumed to be similar between the two versions of the product, a lower percentage of negative reviews for one product could be interpreted as fewer consumers reacting negatively to a product failure. Overall, this method allowed us to identify evidence for the greenguard effect in a real-life setting while minimizing confounds. Results We tested our predictions in a repeated-measures ANOVA, where the percentage of negative reviews for each product’s green and conventional versions was the within-subjects factor. This analysis is identical to a fixed-effects ANOVA where the product type (green vs. conventional) and product category are included in the model as main effects. We also ran the anal-ysis after including price as a second within-participants factor in the model to control this. The effect of product type remained significant (M green = 11.94%, SD  =  8.39%   vs. Mconventional  = 16.58%, SD  =  11.98%; F(1, 49)  =  5.42,  p  =  .02 4, ηp2 = 0.1 0), and neither the effect of price (Mgreen  = 53.22, SD  =  118.03 v s. Mconventional  = 47.69, SD  =  111.95;   F(1, 49)   <   1, p >  .90) nor its inter action with product  type had a significant impact on the percentage of nega-tive reviews (F (1, 49)   =   1.58, p >  .20). F or brevity, further  descriptive information and analyses of product category trends are available in the Web Appendix. While these results provided external validity for our primary hypothesis, consumers were not randomized between product conditions. There-fore, the reduced negative reaction could be explained by individual differences between consumers who buy envi-ronmentally friendly products and those who do not. Study 1 The objective to Study 1 was demonstrate the greenguard effect in a controlled experiment while providing evidence of robustness by varying the type of product failure, product category, and operationalizations of reactions to product fail-ure. Study 1B examined the effect of a product malfunction in the personal utility category (an umbrella) on brand forgiveness. We collapsed these into one product category for brevity."
          },
          "metadata": {}
        },
        {
          "output_type": "display_data",
          "data": {
            "text/plain": [
              "<IPython.core.display.Markdown object>"
            ],
            "text/markdown": "### Página 7"
          },
          "metadata": {}
        },
        {
          "output_type": "display_data",
          "data": {
            "text/plain": [
              "<IPython.core.display.Markdown object>"
            ],
            "text/markdown": "All par - ticipants then imagined that they noticed while using the detergent that it does not adequately clean and leaves a soapy residue, leading them to stop using it. Next, participants indicated their likelihood to post a negative review (1  =  no t  at all likely, not at all probable; 7  =  v ery likely, very prob- able; r  =   .95, p <  .001), as w ell as their product failure expec- tations (“I would not be surprised that this product failed,” “I would have expected this product to fail,” 1  =  s trongly  disagree, 7   =   strongly agree; r   =   .77, p  <   .001; adapted from  McCollough et al., 2000), frequency of posting reviews (1  =  no t frequently at all, 7  =  v ery frequently), product cat- egory knowledge (1  =  kno w very little about, uninformed,  novice buyer, inexperienced; 7  =  kno w very much about,  informed, expert buyer, experienced; Martin et al., 2003; α  = . 94), and involvement with the product (1  = i rrelevant,  unimportant; 7   =   relevant, important;” r  =   .84, p  <   .001; Mar - tin et al., 2003), which served as control variables. A one-way ANOVA revealed that the likelihood to post  a negative review was significantly lower when the product was green (vs. conventional; M green = 4.56, SD  =  1.64 v s.  Mconventional  = 5.14, SD  =  1.65; F(1, 138)  =  4.44, p =  .037,  η2 = 0.031). N otably, the results did not reveal any signifi- cant differences in terms of product failure expectations between the green and conventional product conditions (M green = 3.93, SD  =  1.88 v s. Mconventional  = 3.64, SD  =  1.70;   F(1, 138)   <   1, p >  .33), and t he main effect of product type  remained significant after controlling for product failure expectations in an ANCOVA (M green = 4.56, SD  =  1.64 v s.  Mconventional  = 5.14, SD  =  1.65; F(1, 137)  =  5.02; p =  .026,  η2 = 0.035). Study 1B In a single-factor between-participants design (product type: conventional, green), 200 MTurk participants (42% females, M age = 37, SD  =  10.74) w ere asked to imagine purchasing  an umbrella on Amazon.com."
          },
          "metadata": {}
        },
        {
          "output_type": "display_data",
          "data": {
            "text/plain": [
              "<IPython.core.display.Markdown object>"
            ],
            "text/markdown": "### Página 8"
          },
          "metadata": {}
        },
        {
          "output_type": "display_data",
          "data": {
            "text/plain": [
              "<IPython.core.display.Markdown object>"
            ],
            "text/markdown": "A MANOVA revealed a main effect of product type ( F(2,  197)   =   5.66, p  =   .004, η2 = 0.054), as par ticipants in the green  (vs. conventional) product condition were less likely to post a negative review (M green = 4.17, SD  =  1.66 v s. Mconventional  =  4.72, SD   =   1.79; F(1, 198)   =   4.91, p  =   .028, η2 = 0.024) and  mor e likely to forgive the brand (Mgreen = 2.94, SD  =  1.23   vs. Mconventional  = 2.46, SD  = 1 .24; F (1, 198)  = 7.82, p = . One hundred and forty-five MTurk participants (55.2%  females, M age = 39.1, SD  = 1 1.9) in a single-factor between- participants design (product type: conventional, green) were asked to imagine purchasing a Fjällräven Kånken backpack (M familiarity  = 1.44, SD  =  1.27; 1  =  no t familiar at all, 7  =  v ery  familiar) that was either presented as the Re-Kånken back - pack crafted from environmentally friendly materials or the classic Kånken backpack which did not include this informa-tion. All participants then read that the zipper and shoulder straps broke after several weeks of use, so they contacted the manufacturer, who offered a full refund or a brand-new replacement backpack. Participants then indicated their rela - tive preference (1  =  definitel y refund, 7  =  definitel y brand- new backpack), which served as the dependent variable, and their failure expectations as in Study 1A (r  =  .73, p  <   .001). Similar  to Study 1A, there were no significant differences in per - ceived expectancy of the failure (Mgreen = 2.85, SD  =  1.72   vs. Mconventional  = 2.49, SD  =  1.37; F(1, 143)  =  1.88, p >  .17),  and the main effect of product type on the type of compen-sation was significant after controlling for perceived expec-tancy of failure in an ANCOVA (F (1, 142)   =   5.75, p  =   .018,  η2 = 0.039).Discussion Overall, Study 1 provided experimental evidence that consumers react to a failure of a green (vs. conventional) product less negatively across various product categories and operationalizations of consumer reactions, supporting H1. It is also worth noting that past research demonstrated  certain lay beliefs and mental associations that consum-ers have about green products (e.g., Luchs et al., 2010). Therefore, an alternative explanation to the greenguard effect is that consumers are more likely to expect a fail-ure with a green (vs. conventional) product, resulting in less negative reactions due to such consumer expectations being confirmed (e.g., Oliver, 1980). This finding sugg ests that despite the cer - tain lay beliefs and mental associations they may have about green products, consumers expect the product to function as well as their conventional counterparts, or that perceptions of green products are changing over time. Study 2 Although Study 1 provided evidence for H1, it remained unanswered whether the greenguard effect persists uni - formly across products that are classified as green or varies as a function of perceived greenness of the product. This question is relevant because past research suggests that the perceived greenness of a product can vary among environ-mentally friendly products. For instance, many products have multiple attributes that differ in importance. Consum-ers perceive a product to be greener when a central attrib-ute (e.g., the canopy of an umbrella being produced from recycled materials) rather than a peripheral attribute (e.g., the handle of an umbrella being produced from recycled materials) offers environmental benefits (Gershoff & Frels, 2015)."
          },
          "metadata": {}
        },
        {
          "output_type": "display_data",
          "data": {
            "text/plain": [
              "<IPython.core.display.Markdown object>"
            ],
            "text/markdown": "### Página 9"
          },
          "metadata": {}
        },
        {
          "output_type": "display_data",
          "data": {
            "text/plain": [
              "<IPython.core.display.Markdown object>"
            ],
            "text/markdown": "This helped rule out the possibility of a halo effect, in which green products may inherently make people feel good, resulting in more favorable consumer reactions regardless of the nature of the product experience. Method Three hundred and forty-one MTurk participants (49.9% females, M age = 42.4, SD  =  12.7) t ook part in a study with  a 3 (product type: conventional, peripheral green attribute, central green attribute) × 2 (primary function: operational, failure) between-participants design. They were first asked to imagine purchasing an umbrella from Amazon.com and then read that the umbrella either had a canopy made from recycled materials (central green attribute), a handle made from recycled materials (peripheral green attribute), or no environmental information was provided (conventional) 5. Participants then indicated their likelihood to post a negative review as in Study 1A ( r  = . Results An ANOVA on the perceived greenness of the product revealed only a significant effect of product type (F (2,  335)  = 8 7.02, p < . F urthermore, participants in the peripheral  attribute green condition perceived the product to be greener (M =  4.54, SD  =  1.14) t han those in the conventional prod- uct condition (M   =   3.14, SD   =   0.97; F(1, 335)   =   9.93, p  <   .01,  η2 = 0.029). Specificall y, when the  primary function of the product remained operational (i.e., uncomfortable handle), there were no significant differences among the three product type conditions ( M conventional  = 3.72,  SD  =   1.71 vs. Mperipheral attribute green  = 3.76, SD  =  1.8 1 vs.  Mcentral attribute green  = 3.97, SD  =  1.54; all pair wise compari- son ps  >  0.40). Thus, in t his baseline condition, the motiva- tion to react negatively was diminished since the product’s primary function was still operational and negative reactions did not differ as a function of product type. Despit e varying in their lev - els of perceived greenness, the peripheral and central green attribute conditions did not differ in the likelihood to post a negative review (M peripheral attribute green  = 3.81, SD  =  1.57 vs.  Mcentral attribute green  = 3.63, SD  =  1.65; F(1, 335)  <  1, p >  .50)  (see Fig. These findings suggest that merely classify - ing a product as green is sufficient to elicit the greenguard effect. As such, these findings highlight a psychological mechanism that is tied explicitly to reactions to green product failures rather than the mere act of consuming green products (see Section “Conceptual background” of the Web Appendix for a follow-up study that provided further support to rule out an explanation based on the halo effect). 5  A pr etest with 103 MTurk participants (42.7% females, Mage =  38.5, SD  =  10.8) confir med that the canopy of an umbrella was per - ceived as a more central attribute compared to the handle (M   =   5.63,  SD   =   1.51 vs. M   =   4.72, SD   =   1.28; F(1, 101)   =   5.09, p   =   .026,  η2 = 0.048). The attr ibute centrality measure was adapted from past  research (“How surprising would it be to find an umbrella without a  handle [canopy]?,” “How easily can you imagine an umbrella without a handle [canopy]? (r),” “How good an example of an umbrella would you consider one that does not have a handle [canopy] to be?"
          },
          "metadata": {}
        },
        {
          "output_type": "display_data",
          "data": {
            "text/plain": [
              "<IPython.core.display.Markdown object>"
            ],
            "text/markdown": "### Página 10"
          },
          "metadata": {}
        },
        {
          "output_type": "display_data",
          "data": {
            "text/plain": [
              "<IPython.core.display.Markdown object>"
            ],
            "text/markdown": "We predicted that consumers would consider not  react- ing negatively toward the product failure as a more proso - cial behavior when a green (vs. a conventional) product was involved in the failure, leading to the greenguard effect. They were then entered into a draw to receive the gift card of their choice (adapted from Hyodo & Bolton, 2021; Xu et al., 2021). Consistent with H1, we predicted that participants would be more likely to give the focal brand a second chance by choosing its gift card when the initial failed product was green (vs. conventional). Method Two hundred MTurk participants (54.5% females, Mage =  39, SD  = 1 1.7) complete the study, which employed a single- factor, between-participants design (product type: conven-tional, green). After reading the scenario, participants responded to four  items that were intended to assess prosocial perceptions (“If I found myself in this situation, I would consider NOT tak - ing any action to punish the brand in some way as being… [moral, ethical, altruistic, caring],” 1  =  no t at all, 7  =  v ery  much; adapted from Berman et al., 2015 and Olson et al., 2016). These items were averaged to create a prosocial per - ceptions measure (α  =  0.91), wher e higher scores indicated  the perception that not  punishing the brand is a more proso- cial act. All participants were then invited to participate in a real  raffle and were informed that they would make a choice between two gift cards and would receive their choice if they won the raffle. Once data collection was completed, two partici-pants were randomly selected and given $25."
          },
          "metadata": {}
        },
        {
          "output_type": "display_data",
          "data": {
            "text/plain": [
              "<IPython.core.display.Markdown object>"
            ],
            "text/markdown": "### Página 11"
          },
          "metadata": {}
        },
        {
          "output_type": "display_data",
          "data": {
            "text/plain": [
              "<IPython.core.display.Markdown object>"
            ],
            "text/markdown": "1 3second chance by not switching to a competitor (i.e., react- ing less negatively), supporting H1. F inally, we examined the indirect effect of product type  (0   =   conventional, 1   =   green) on gift card choice (0   =   com- peting brand, 1  =  f ocal brand) through prosocial perceptions  in a PROCESS model (model 4, 10,000 bootstrap samples; Hayes, 2017). The indirect effect of product type on gift  card choice through prosocial perceptions was signifi-cant (β indirect  = 0.17, SE  =  0.11, 95% CI = [0.001, 0.420]),   while its direct effect disappeared (βdirect = 0.52, SE  = 0.33,  p  >   .11), supporting H2. Discussion Study 3 provided empirical evidence for the process under - lying the greenguard effect in a behavioral experiment that involved a consequential dependent variable. We also measured par - ticipants’ preference for anonymity when writing reviews to rule out an alternative explanation based on impression management. Participants then imag-ined the same failure scenario from Study 1C, indicated their likelihood to post a negative review as in Study 1A (r  =  .96,   p <  .001), com pleted a 6-item scale designed to measure  the extent to which consumers consider the environmental impact of their consumption decisions (α  =  0.94, Ha ws et al.,  2014)6, and responded to an item measuring preference for  posting anonymous reviews (“If you write a review on Ama-zon, would you write it anonymously or not anonymously?,” 1   =   definitely anonymously, 7   =   definitely not anonymously). Next, we regressed the likelihood to post a negative  review on product type (0  =  con ventional, 1  =  g reen) and  the continuous variable of environmental consciousness (M  =  4.98, SD  =  1.34), whic h revealed a significant main  effect of product type (β = −  0.6 2, t = -2.26, p   =  .026),  and more importantly, a significant interaction effect (β = −  0.77, t = -3.74,  p <  .001). Pr obing this interaction further,  we examined the effect of product type on the likelihood to post a negative review at higher (+  1 SD) and lo wer levels  (-1 SD) of environmental consciousness. At higher levels of environmental-consciousness, the effect of product type on the likelihood to post a negative review was significant (β = -1.71, t = -4.28, p  <  .001), and t he likelihood to post a  negative review was significantly lower in the green product condition ( M  = 4 .47), compared to the conventional product  condition (M  =  6.18). This effect, ho wever, disappeared at  lower levels of environmental consciousness (Mgreen = 5.62  vs. Mconventional  = 5.34; β  = 0.28, t  = 0.78, p >  .40)."
          },
          "metadata": {}
        },
        {
          "output_type": "display_data",
          "data": {
            "text/plain": [
              "<IPython.core.display.Markdown object>"
            ],
            "text/markdown": "### Página 12"
          },
          "metadata": {}
        },
        {
          "output_type": "display_data",
          "data": {
            "text/plain": [
              "<IPython.core.display.Markdown object>"
            ],
            "text/markdown": "1 3This finding aligns with our theorizing that environmentally  conscious consumers should consider not reacting negatively to a green product as a more prosocial behavior due to their environmental values, strengthening the greenguard effect. On the other hand, consumers who are not environmentally conscious care less about the environmental impact of their actions and instead would be more motivated to share their negative experiences with other consumers regardless of whether the product involves an environmental attribute or not. Importantly, this finding helped rule out an alternative explanation based on an impression management account, which would have predicted the greenguard effect to disappear among consumers who prefer writing anony - mous reviews. Our theorizing suggests that consumers perceive not reacting negatively following the failure of green (vs. conventional) products as a more prosocial behavior. However, consistent with prior research, prosocial motives can also drive nega-tive reactions to product failures because consumers want to help others avoid similar negative experiences (Grégoire et al., 2019; Hennig-Thurau et al., 2004). Method Three hundred and eighty-three participants (64% females, M age = 39.84, SD  =  13.7) r ecruited from Prolific completed  the study with a 2 (product type: conventional, green) × 2 (prosocial act of helping others: not salient, salient) between-participants design. The participants were asked to imagine purchasing a fountain pen that either included information that the pen was crafted from recycled materials (green) or not (conventional). Next, participants either moved on directly to answer the dependent variables, as in the previous studies (prosocial act of helping others: not salient) or they read a brief article excerpt from a credible source, which concluded that “it is almost an obligation for consumers to write reviews about their product experiences in order to help other consumers not experience similar negative expe-riences and protect them from product failures” (prosocial act of helping others: salient). Finally, participants indicated their likelihood to post a negative review on the same two items from preceding studies (r   =   .94, p   <   .001) and their  prosocial perceptions as in Study 3 (α  =  .89). Ho wever, when the prosocial act of helping others was made  salient, there was no significant difference between green and conventional products on the likelihood to post a nega-tive review ( M green = 5.21, SD  =  1.5 6 vs. Mconventional  = 4.82,  SD   =   1.81; F(1, 380)   =   2.57, p  >   .10), supporting H4. An ANOVA on prosocial perceptions revealed a margin- ally significant interaction effect ( F(1, 380)  = 3 .32, p = . When t he prosocial act of helping others was  not salient, participants in the green (vs. conventional) prod-uct condition perceived that not  taking any action to pun- ish the focal brand was a more prosocial behavior (M green  = 3.44, SD  =  1.33 v s. Mconventional  = 3.02, SD  =  1.40; F(1,  380)   =   4.42, p  =   .036, η2 = 0.012). To test the indirect effect of product type through proso- cial perceptions, we ran a PROCESS model (model 8, 10,000 bootstrap samples; Hayes, 2017) with product type as the independent variable (0  =  con ventional, 1  =  g reen), 1524 Journal of the Academy of Marketing Science (2024) 52:1513–1530"
          },
          "metadata": {}
        },
        {
          "output_type": "display_data",
          "data": {
            "text/plain": [
              "<IPython.core.display.Markdown object>"
            ],
            "text/markdown": "### Página 13"
          },
          "metadata": {}
        },
        {
          "output_type": "display_data",
          "data": {
            "text/plain": [
              "<IPython.core.display.Markdown object>"
            ],
            "text/markdown": "When the prosocial act of helping others was not salient, the indirect effect of product type on the likelihood to post a negative review through prosocial perceptions was significant (β indirect  = − 0.09, SE  = 0.06, 95% CI = [-0.221,  −  0.003]), while t his indirect effect was not significant  when the prosocial act of helping others was made salient (β indirect  = 0.02, SE  =  0.04, 95% CI = [-0.069, 0.114]). The   index of moderated mediation was marginally significant (β  =  0.11, SE  =  0.07, 93% CI = [0.001, 0.266]). This suggests that when two prosocial motivations (i.e., helping other consumers make better deci-sions and supporting green products) compete, accentuating the prosocial motive to help others supersedes the prosocial motive to support green products. As a result, consumers do not perceive not taking any action again the green product as a more prosocial behavior, diminishing the greenguard effect. Study 6 Study 6 was purposed to test consumer reactions following the failure of a green product that the company intentionally or unintentionally made environmentally friendly (H5). Con-sistent with our theorizing, consumers should be concerned about reacting negatively following product failures of green products because these brands are otherwise trying to do good for the environment. Therefore, we predict that the greenguard effect will persist when the green product is intentionally developed to be environmentally friendly, but will dissipate when the environmental benefits of a green product are an unintended consequence of other product enhancements. Method Two hundred and forty MTurk participants (50% females, M age = 44.2, SD  =  13.9) t ook part in a single-factor between- participants design with three levels (product type: conven-tional, green-unintentional, green-intentional). Finally, participants indicated their prosocial perceptions on the same scale used in the previous studies (α  = 0 .93) and their reluctance to spread negative WOM  about the brand (3-item scale: “If I found myself in this situa-tion, I would not complain to other people about this dishwash-ing liquid [not discuss my frustration with this dishwashing liquid publicly, not say negative things about this dishwashing liquid to other people];” 1  =  s trongly disagree, 7  =  s trongly  agree; higher scores indicated a greater reluctance to share negative WOM; α  =  0.93;  Alexandrov et al., 2013). Results An ANOVA with reluctance to spread negative WOM as the dependent variable revealed a significant main effect of product type (F (2, 237)    =   6.97, p  =   .001, η2 = 0.056). Planned  contr asts showed that when the product was made green inten- tionally (M  =  4.02, SD  =  1.87), par ticipants were more reluc- tant to spread negative WOM compared to when it was made green unintentionally (M   =   3.21, SD   =   1.59; F(1, 237)   =   9.36,  p  = . 002, η2 = 0 .038) or when it was a conventional product  (M  =   3.14, SD   =   1.53; F(1, 237)   =   11.16, p  =   .001, η2 = 0.045)."
          },
          "metadata": {}
        },
        {
          "output_type": "display_data",
          "data": {
            "text/plain": [
              "<IPython.core.display.Markdown object>"
            ],
            "text/markdown": "### Página 14"
          },
          "metadata": {}
        },
        {
          "output_type": "display_data",
          "data": {
            "text/plain": [
              "<IPython.core.display.Markdown object>"
            ],
            "text/markdown": "1 3Next, an ANOVA results with prosocial perceptions as  the dependent variable yielded a significant main effect (F (2,  237)  =   4.20, p  =   .016, η2 = 0.03 4). Participants perceived not  taking any action against the brand as a more prosocial behav - ior when the product was made green intentionally (M   =   4.25,  SD  =  1.66) com pared to when it was made green uninten- tionally (M   =   3.67, SD   =   1.61; F(1, 237)   =   5.39, p  =   .021,  η2 = 0.022) or when it w as conventional (M  =  3.60, SD  =  1.46;  F(1, 237)   =   6.94, p  =   .009, η2 = 0.028), whic h aligns with our  theorizing. There were no significant differences in the latter  two conditions (F   <   1, p  >   .70). Discussion Highlighting a critical boundary condition, Study 6 showed that consumers react to the failure of a green product less negatively when the product was made environmentally friendly intentionally compared to when it was made unin- tentionally. These findings complement past research on the drivers of green product purchase, which showed that con-sumers are more likely to purchase a green product that was made environmentally friendly unintentionally than inten-tionally (Newman et al., 2014). Taken together, the findings from this study and Newman et al. (2014) provide managers who intend to offer green products with a more complete picture of consumer responses to green products throughout the customer journey. General discussion Through an empirical field data analysis and eight experi-ments, this research demonstrates less negative consumer reactions to green (vs. conventional) product failures. Theoretical implications The current research extends previous research focusing on consumer interactions with green products beyond the purchase decision (e.g., Tezer & Bodur, 2020) by examin-ing consumer reactions to green product failures. Impor - tantly, our research demonstrates a novel benefit of green products following a negative consumption experience (i.e., product failure), complementing recent findings on the ben-efits of green products when they perform as intended at the consumption stage (Tezer & Bodur, 2020). Therefore, our research suggests that the benefits of green products are not only limited to amplifying positive consumer reactions when the product functions properly, but also include suppressing negative consumer reactions in response to product failures. Our findings also provide new insight into the underly - ing mechanisms of consumer reactions to product failures."
          },
          "metadata": {}
        },
        {
          "output_type": "display_data",
          "data": {
            "text/plain": [
              "<IPython.core.display.Markdown object>"
            ],
            "text/markdown": "### Página 15"
          },
          "metadata": {}
        },
        {
          "output_type": "display_data",
          "data": {
            "text/plain": [
              "<IPython.core.display.Markdown object>"
            ],
            "text/markdown": "1 3failure and the salience of prosocial motivations, extending  prior research on negative reactions to product failures. Finally, our findings contribute to past research examin- ing the influence of corporate social responsibility (CSR) initiatives on consumer reactions to a product-harm crisis of a company (Klein & Dawar, 2004). First, Klein and Dawar (2004) examined how consumers evaluate a company at the pre-purchase stage after learning about a product-harm crisis from which they were not affected. Our research extends their work by examining consumer reactions to product failures at the individual level (i.e., failures of products that consumers own) at the consumption stage. Our research, however, demonstrated that prosocial perceptions about not reacting negatively to a green product that has environ-mental benefits drive less negative consumer reactions in response to a product failure experienced at the consump-tion stage, while ruling out a halo effect. For example, a consumer who could vent their dissatisfaction to ten other people offline can reach an average of 280 others via social media (Grainer et al., 2014). Our findings suggest that the greenguard effect would persist regardless of whether it is a central or a peripheral product attribute that offers the product’s environmental benefits, giving brands more flexi-bility and opportunities to include green attributes in product design. Nevertheless, it is noteworthy that one boundary condition for the greenguard effect is that the product’s environmental benefits should not be an unintended conse-quence of another product enhancement effort. For example, our findings suggest that brands could devote more resources in terms of customer service for managing product failures of their conventional (vs. green) products since these products are more susceptible to negative con-sumer responses. Furthermore, brands can try to incorpo - rate reminders and cues about the green attributes of their products into various touchpoints. Our findings indicate specific, actionable strategies for  dealing with product failures regarding retribution. These recovery tactics can inform customer ser - vice strategies on how to compensate consumers following a product failure, depending on the nature of the product. For instance, if the failed product was green, consumers might be more open to receiving a product replacement or store credit, which will retain consumers’ loyalty and be more lucrative (vs. cash refund). Additionally, contrary to prior research, which has indi- cated that the sustainability of a product may be perceived as a liability in consumers’ minds during the purchase stage (Luchs et al., 2010; Newman et al., 2014), our findings dem-onstrate that green attributes are an asset for products in the post-purchase stage. Recent industry reports indi-cate that consumers purchase green products more than ever (Kronthal-Sacco & Whelan, 2021), indicating a closing in on the intention-behavior gap of green products."
          },
          "metadata": {}
        },
        {
          "output_type": "display_data",
          "data": {
            "text/plain": [
              "<IPython.core.display.Markdown object>"
            ],
            "text/markdown": "### Página 16"
          },
          "metadata": {}
        },
        {
          "output_type": "display_data",
          "data": {
            "text/plain": [
              "<IPython.core.display.Markdown object>"
            ],
            "text/markdown": "1 3inevitability of product failures, highlighting the green  attributes of products may protect companies by minimiz-ing negative reactions to such failures. Limitations and directions for future research Although our research provides evidence for the green-guard effect across multiple product categories, we did not investigate services or hedonic experiences. While we anticipate our effect to extend to services and hedonic experiences, these contexts introduce nuances that do not immediately apply to product failures, such as personal and direct communication with staff members and subjec-tive taste. As such nuances may alter consumer reactions to product failures, future research should investigate the greenguard effect and its boundaries within these con-texts. Furthermore, although our research provides initial evidence for the external validity of the greenguard effect, only one of the experiments had a behavioral depend-ent variable (i.e., real choice, Study 3). Therefore, future research is needed to further examine the external validity of the greenguard effect with field experiments involving behavioral dependent variables. Moreover, while our results provide insights into fail- ure recovery tactics, we limited our investigation to the immediate consumer response after the product failure. Therefore, we did not investigate the effectiveness of any possible recovery efforts that the company can undertake. Extending our theorizing, it is possible that consumers may respond differently to recovery efforts simply because the product was positioned as green. While, our current research did not investigate this directly, the services lit-erature has devoted considerable resources to examining the effectiveness of various recovery efforts (e.g., Grégoire et al., 2009) that could be tested in this context. There- fore, future research investigating the moderating effect of green product attributes in these recovery efforts can contribute to this field. While our research investigated the greenguard effect at  the product level, there are many companies that promote their involvement in sustainability and CSR initiatives at the company level, despite not offering any green products. However, extending the findings of Study 6, the greenguard effect should disappear if the company’s sustainability initiatives are seen as pandering with no clear, authentic intent or seen as an insincere public relations ploy. Future research can examine the greenguard effect at the company level to answer these questions.Finally, an avenue for future research is to explore the  potential negative repercussions of green product failures 7. For instance, while our findings indicate a milder consumer reaction following green versus conventional product fail-ures, such incidents could potentially give rise to greenwash-ing accusations. Particularly, skeptics of environmentally friendly claims might view a green product’s malfunction as an indication of greenwashing, suspecting that environmen-tal benefits were overstated to mitigate potential negative backlash. Understanding the conditions under which con-sumers infer greenwashing from product failures is crucial, as these perceptions could deter future green purchases and have implications for the greenguard effect. Further investi-gation into potential negative repercussions of green product failures is thus necessary to have a better understanding of the implications of the greenguard effect. Supplementary Information  The online v ersion contains supplemen- tary material available at https://   doi. Declarations   Conflict of interest  The aut hors have no conflict of interest to declare  that are relevant to this article. The effects of social- and self-motives on the intentions to share positive and negative  word of mouth. The antecedents and con- sequences of customer satisfaction for firms. The misalignment of preferences with unconstrained ethical inten - tions. Will you pur - chase environmentally friendly products? Using prediction requests to increase choice of sustainable products. Lost in  translation: Exploring the ethical consumer intention-behavior gap. Silent voices: Why  some dissatisfied consumers fail to complain. 7  W e would like to thank the Associate Editor for suggesting this  future research direction.1528 Journal of the Academy of Marketing Science (2024) 52:1513–1530"
          },
          "metadata": {}
        },
        {
          "output_type": "display_data",
          "data": {
            "text/plain": [
              "<IPython.core.display.Markdown object>"
            ],
            "text/markdown": "### Página 17"
          },
          "metadata": {}
        },
        {
          "output_type": "display_data",
          "data": {
            "text/plain": [
              "<IPython.core.display.Markdown object>"
            ],
            "text/markdown": "Weathering prod- uct-harm crises. Darke, P. R., Ashworth, L., & Main, K. J. Great expectations  and broken promises: Misleading claims, product failure, expec- tancy disconfirmation and consumer distrust. Beyond fit  and attitude: The effect of emotional attachment on consumer responses to brand extensions. Journal of Consumer Psychology,   18(4), 281–291. Consumer reactions to product failure: An attribu - tional approach. Journal of Consumer Research, 10(4), 398–409. What makes it green? Grainer, M., Noble, C. H., Bitner, M. J., & Broetzmann, S. M. (2014). What unhappy customers want. MIT Sloan Management Review,  55(3), 31–35. Finding the right shade of green: The  effect of advertising appeal type on environmentally friendly con-sumption. Customer betrayal and retaliation:  When your best customers become your worst enemies. Grégoire, Y., Legoux, R., Tripp, T. M., Radanielina-Hita, M. L., Joire- man, J., & Rotman, J. D. (2019). What do online complainers want? An examination of the justice motivations and the moral implications of vigilante and reparation schemas. Journal of Busi-ness Ethics, 160(1), 167–188. When customer love  turns into lasting hate: The effects of relationship strength and time on customer revenge and avoidance. Canadians Are Worried about Climate Change,  But Many Don’t Want to Pay Taxes to Fight It: Poll. ca/   news/   polit   ics/   elect   ion-   poll-   clima   te-   change-   1. Accessed 14 June 2022 Haws, K. L., Winterich, K. P., & Naylor, R. W. (2014). Seeing the  world through GREEN-tinted glasses: Green consumption values and responses to environmentally friendly products. Journal of Consumer Psychology, 24(3), 336–354. Introduction to mediation, moderation, and con- ditional process analysis: A regression-based approach. Hennig-Thurau, T., Gwinner, K. P., Walsh, G., & Gremler, D. D.  (2004). Electronic word-of-mouth via consumer-opinion plat - forms: What motivates consumers to articulate themselves on the internet? Journal of Interactive Marketing, 18(1), 38–52. Hur, W. M., Kim, H., & Woo, J. How CSR leads to corporate  brand equity: Mediating mechanisms of corporate brand cred-ibility and reputation. Journal of Business Ethics, 125(1), 75–86. How does religion affect con- sumer response to failure and recovery by firms? Journal of Con-sumer Research, 47(5), 807–828. Johnson, Z. S., Mao, H., Lefebvre, S., & Ganesh, J. Good guys  can finish first: How brand reputation affects extension evalua-tions. Corporate social responsibility and  consumers’ attributions and brand evaluations in a product–harm crisis. International Journal of Research in Marketing, 21(3),  203–217. Sustainable market share  index. Center for Sustainable Business. Retrieved from https://   www. edu/  exper  ience-   s tern/   about/   depar   tments-   cente   rs-   initi   atives/   cente   rs-   of-   resea   rch/  center -   susta   inable-   busin   ess/   resea   rch/   csb-   susta   inable-   market-   shar e-   index. Accessed 16 Aug 2023 Luchs, M. G., Naylor, R. W., Irwin, J. R., & Raghunathan, R. (2010). The sustainability liability: Potential negative effects of ethicality on product preference. A., Lang, B., Wong, S., & Martin, B. Conclusion  explicitness in advertising: The moderating role of need for cogni-tion (NFC) and argument quality (A.Q.) An empiri- cal investigation of customer satisfaction after service failure and recovery. When going green  backfires: How firm intentions shape the evaluation of socially beneficial product enhancements. A cognitive model of the antecedents and conse- quences of satisfaction decisions. Journal of Marketing Research,   17(4), 460–469. Green  claims and message frames: How green new products change brand attitude. Wealth and welfare: Divergent moral reactions to ethical con-sumer choices. Pancer, E., McShane, L., & Noseworthy, T. J. Isolated environ- mental cues and product efficacy penalties: The color green and eco-labels. Peloza, J., White, K., & Shang, J. Good and guilt-free: The role  of self-accountability in influencing preferences for products with ethical attributes. I should have known better! When  firm-caused failure leads to self-image concerns and reduces negative word-of-mouth. Journal of Business Research,  116,  283–293. Global Warming Concern at Three-Decade High in  U.S. Gallup. com/   poll/   206030/   global-   warmi   ng-  conce   rn-   three-   decade-   high. Accessed 12 June 2022 Sen, S., Bhattacharya, C. B., & Korschun, D. (2006). The role of cor - porate social responsibility in strengthening multiple stakeholder relationships: A field experiment. The psychology of self- defense: Self‐ affirmation theory. Advances in Experimental Social  Psychology, 38, 183–242. Returns of online purchases by category in the U.S. in  2022 [Graph]. Retrieved May 25, 2022, from https://   w ww- s tati s ta- c om. e zpro x y. l ib. r yers o n. c a/ f orec a sts/ 9 97235/  r etur  ns-   of-   online-   purch   ases-   by-   categ   ory-   in-   the-   us. Advances in experimental social psychol-ogy (Vol. Customer  evaluations of service complaint experiences: Implications for relationship marketing. The green consumption effect: How  using green products improves consumption experience. Trudel, R., Klein, J., Sen, S., & Dawar, N. (2020). Feeling good by  doing good: A selfish motivation for ethical choice."
          },
          "metadata": {}
        },
        {
          "output_type": "display_data",
          "data": {
            "text/plain": [
              "<IPython.core.display.Markdown object>"
            ],
            "text/markdown": "### Página 18"
          },
          "metadata": {}
        },
        {
          "output_type": "display_data",
          "data": {
            "text/plain": [
              "<IPython.core.display.Markdown object>"
            ],
            "text/markdown": "Complaining to the masses: The  role of protest framing in customer-created complaint web sites. How do consum- ers react to company moral transgressions? The role of power distance belief and empathy for victims. Journal of Consumer Research, 48(1), 77–101.Publisher’s Note   Spr inger Nature remains neutral with regard to  jurisdictional claims in published maps and institutional affiliations. Springer Nature or its licensor (e.g. a society or other partner) holds  exclusive rights to this article under a publishing agreement with the author(s) or other rightsholder(s); author self-archiving of the accepted manuscript version of this article is solely governed by the terms of such publishing agreement and applicable law.1530 Journal of the Academy of Marketing Science (2024) 52:1513–1530"
          },
          "metadata": {}
        },
        {
          "output_type": "display_data",
          "data": {
            "text/plain": [
              "<IPython.core.display.Markdown object>"
            ],
            "text/markdown": "## 🔍 Similaridade semântica: *0.9997*"
          },
          "metadata": {}
        },
        {
          "output_type": "display_data",
          "data": {
            "text/plain": [
              "<Figure size 600x100 with 1 Axes>"
            ],
            "image/png": "[encoded data removed]"
          },
          "metadata": {}
        },
        {
          "output_type": "display_data",
          "data": {
            "text/plain": [
              "<IPython.core.display.Javascript object>"
            ],
            "application/javascript": [
              "\n",
              "    async function download(id, filename, size) {\n",
              "      if (!google.colab.kernel.accessAllowed) {\n",
              "        return;\n",
              "      }\n",
              "      const div = document.createElement('div');\n",
              "      const label = document.createElement('label');\n",
              "      label.textContent = `Downloading \"${filename}\": `;\n",
              "      div.appendChild(label);\n",
              "      const progress = document.createElement('progress');\n",
              "      progress.max = size;\n",
              "      div.appendChild(progress);\n",
              "      document.body.appendChild(div);\n",
              "\n",
              "      const buffers = [];\n",
              "      let downloaded = 0;\n",
              "\n",
              "      const channel = await google.colab.kernel.comms.open(id);\n",
              "      // Send a message to notify the kernel that we're ready.\n",
              "      channel.send({})\n",
              "\n",
              "      for await (const message of channel.messages) {\n",
              "        // Send a message to notify the kernel that we're ready.\n",
              "        channel.send({})\n",
              "        if (message.buffers) {\n",
              "          for (const buffer of message.buffers) {\n",
              "            buffers.push(buffer);\n",
              "            downloaded += buffer.byteLength;\n",
              "            progress.value = downloaded;\n",
              "          }\n",
              "        }\n",
              "      }\n",
              "      const blob = new Blob(buffers, {type: 'application/binary'});\n",
              "      const a = document.createElement('a');\n",
              "      a.href = window.URL.createObjectURL(blob);\n",
              "      a.download = filename;\n",
              "      div.appendChild(a);\n",
              "      a.click();\n",
              "      div.remove();\n",
              "    }\n",
              "  "
            ]
          },
          "metadata": {}
        },
        {
          "output_type": "display_data",
          "data": {
            "text/plain": [
              "<IPython.core.display.Javascript object>"
            ],
            "application/javascript": [
              "download(\"download_7071d6de-0e29-45ab-b7f3-d0bd93dcb8b5\", \"resumo_formatado.docx\", 117979)"
            ]
          },
          "metadata": {}
        }
      ],
      "source": [
        "# Instalação de bibliotecas (executar uma vez no Colab)\n",
        "!pip install -q spacy PyPDF2 sumy ipywidgets langdetect python-docx pymupdf\n",
        "!python -m spacy download pt_core_news_md\n",
        "!python -m spacy download en_core_web_md\n",
        "\n",
        "# Instalar recursos do NLTK para Sumy\n",
        "import nltk\n",
        "nltk.download('punkt')\n",
        "nltk.download('punkt_tab')\n",
        "\n",
        "# Imports\n",
        "import PyPDF2\n",
        "import spacy\n",
        "import pandas as pd\n",
        "import matplotlib.pyplot as plt\n",
        "import seaborn as sns\n",
        "import gc\n",
        "import re\n",
        "import fitz  # PyMuPDF\n",
        "from sumy.parsers.plaintext import PlaintextParser\n",
        "from sumy.nlp.tokenizers import Tokenizer\n",
        "from sumy.summarizers.lsa import LsaSummarizer\n",
        "from google.colab import files\n",
        "from io import BytesIO\n",
        "import ipywidgets as widgets\n",
        "from IPython.display import display, Markdown\n",
        "from langdetect import detect\n",
        "from docx import Document\n",
        "from docx.shared import Pt, Inches\n",
        "from docx.enum.text import WD_ALIGN_PARAGRAPH\n",
        "from docx.shared import Inches\n",
        "from docx.image.exceptions import UnrecognizedImageError\n",
        "import os\n",
        "\n",
        "# Liberar memória\n",
        "gc.collect()\n",
        "\n",
        "# Função para detectar idioma e carregar modelo adequado\n",
        "def load_spacy_model(text):\n",
        "    lang = detect(text)\n",
        "    if lang == 'pt':\n",
        "        return spacy.load(\"pt_core_news_md\"), \"portuguese\"\n",
        "    elif lang == 'en':\n",
        "        return spacy.load(\"en_core_web_md\"), \"english\"\n",
        "    else:\n",
        "        raise ValueError(f\"Idioma não suportado: {lang}\")\n",
        "\n",
        "# Função para upload de arquivo PDF\n",
        "def upload_pdf():\n",
        "    uploaded = files.upload()\n",
        "    for filename in uploaded.keys():\n",
        "        return filename, BytesIO(uploaded[filename])\n",
        "\n",
        "# Função para extrair texto de PDF\n",
        "def extract_text_from_pdf(pdf_file):\n",
        "    try:\n",
        "        reader = PyPDF2.PdfReader(pdf_file)\n",
        "        text = \"\"\n",
        "        for page in reader.pages:\n",
        "            page_text = page.extract_text()\n",
        "            if page_text:\n",
        "                text += page_text + \"\\f\"  # marcador de página\n",
        "        return text.strip()\n",
        "    except Exception as e:\n",
        "        print(\"Erro ao ler o PDF:\", e)\n",
        "        return \"\"\n",
        "\n",
        "# Ajustar quebras de linha\n",
        "def ajusta_quebra_linhas(text):\n",
        "    text = re.sub(r'(?<!\\.)\\n', ' ', text)\n",
        "    return text\n",
        "\n",
        "# Sumarização semântica por página usando Sumy\n",
        "def summarize_per_page(text, language_code, percentage):\n",
        "    pages = text.split(\"\\f\")\n",
        "    summarized_pages = []\n",
        "    for page in pages:\n",
        "        parser = PlaintextParser.from_string(page.strip(), Tokenizer(language_code))\n",
        "        sentences = list(parser.document.sentences)\n",
        "        num_sentences = max(1, int(len(sentences) * percentage / 100))\n",
        "        summarizer = LsaSummarizer()\n",
        "        summary = summarizer(parser.document, num_sentences)\n",
        "        summarized_pages.append(\" \".join(str(sentence) for sentence in summary))\n",
        "    return summarized_pages\n",
        "\n",
        "# Extração de imagens por página com PyMuPDF\n",
        "def extract_images_per_page(pdf_filename):\n",
        "    images_by_page = {}\n",
        "    doc = fitz.open(pdf_filename)\n",
        "    for i, page in enumerate(doc, 1):\n",
        "        images = []\n",
        "        for img_index, img in enumerate(page.get_images(full=True)):\n",
        "            xref = img[0]\n",
        "            base_image = doc.extract_image(xref)\n",
        "            img_bytes = base_image[\"image\"]\n",
        "            image_path = f\"page_{i}img{img_index}.png\"\n",
        "            with open(image_path, \"wb\") as f:\n",
        "                f.write(img_bytes)\n",
        "            images.append(image_path)\n",
        "        images_by_page[i] = images\n",
        "    return images_by_page\n",
        "\n",
        "# Similaridade semântica com spaCy\n",
        "def analyze_semantics(original_text, summarized_text, model):\n",
        "    doc_original = model(original_text)\n",
        "    doc_summary = model(summarized_text)\n",
        "    return doc_original.similarity(doc_summary)\n",
        "\n",
        "# Criar documento Word formatado por página com imagens\n",
        "def create_word_summary(paged_summaries, images_by_page):\n",
        "    document = Document()\n",
        "    style = document.styles['Normal']\n",
        "    font = style.font\n",
        "    font.name = 'Times New Roman'\n",
        "    font.size = Pt(12)\n",
        "\n",
        "    for i, page_summary in enumerate(paged_summaries, 1):\n",
        "        document.add_heading(f\"Página {i}\", level=1)\n",
        "        p = document.add_paragraph(page_summary.strip())\n",
        "        p.paragraph_format.first_line_indent = Pt(28.35)\n",
        "        p.paragraph_format.alignment = WD_ALIGN_PARAGRAPH.JUSTIFY\n",
        "        for image_path in images_by_page.get(i, []):\n",
        "            try:\n",
        "                document.add_picture(image_path, width=Inches(5.5))\n",
        "            except UnrecognizedImageError:\n",
        "                print(f\"Skipping unrecognized image: {image_path}\")\n",
        "                continue\n",
        "\n",
        "\n",
        "    path = \"resumo_formatado.docx\"\n",
        "    document.save(path)\n",
        "    files.download(path)\n",
        "\n",
        "    # Limpar imagens temporárias\n",
        "    for imgs in images_by_page.values():\n",
        "        for img in imgs:\n",
        "            if os.path.exists(img):\n",
        "                os.remove(img)\n",
        "\n",
        "# Interface interativa com slider\n",
        "slider = widgets.IntSlider(value=50, min=10, max=100, step=10, description='Resumo %:')\n",
        "display(slider)\n",
        "\n",
        "# ---------- EXECUÇÃO -----------\n",
        "print(\"\\U0001F4C4 Faça upload do seu arquivo PDF:\")\n",
        "pdf_filename, pdf_file = upload_pdf()\n",
        "\n",
        "# Extração do texto\n",
        "raw_text = extract_text_from_pdf(pdf_file)\n",
        "clean_text = ajusta_quebra_linhas(raw_text)\n",
        "\n",
        "# Detectar idioma e carregar modelo/lógica\n",
        "nlp, language_code = load_spacy_model(clean_text)\n",
        "\n",
        "# Gerar resumo por página com percentual do slider\n",
        "percentage = slider.value\n",
        "paged_summaries = summarize_per_page(clean_text, language_code, percentage)\n",
        "summary = \" \".join(paged_summaries)\n",
        "\n",
        "# Extrair imagens\n",
        "images_by_page = extract_images_per_page(pdf_filename)\n",
        "\n",
        "# Calcular similaridade\n",
        "similarity = analyze_semantics(clean_text, summary, nlp)\n",
        "\n",
        "# Exibir resultados\n",
        "display(Markdown(\"## ✍️ RESUMO DO TEXTO:\"))\n",
        "for i, pg_sum in enumerate(paged_summaries, 1):\n",
        "    display(Markdown(f\"### Página {i}\"))\n",
        "    display(Markdown(pg_sum))\n",
        "display(Markdown(f\"## 🔍 Similaridade semântica: *{similarity:.4f}*\"))\n",
        "\n",
        "# Visualização com gráfico\n",
        "plt.figure(figsize=(6,1))\n",
        "plt.barh([\"Similaridade\"], [similarity])\n",
        "plt.xlim(0,1)\n",
        "plt.title(\"Similaridade entre texto completo e resumo\")\n",
        "plt.show()\n",
        "\n",
        "# Exportar resumo como .docx formatado\n",
        "create_word_summary(paged_summaries, images_by_page)"
      ]
    }
  ]
}